{
 "cells": [
  {
   "cell_type": "markdown",
   "metadata": {},
   "source": [
    "# Reference Forecasts\n",
    "\n",
    "This [Jupyter notebook](https://jupyter.org) is designed to introduce you to the [Solar Forecast Arbiter's](https://solarforecastarbiter.org/) built-in reference forecast capabilities. It is divided into 2 sections:\n",
    "\n",
    "1. [NWP-based forecasts](#NWP-based-forecasts)\n",
    "2. [Persistence forecasts](#persistence-forecasts)\n",
    "\n",
    "The API documentation is available [here](https://solarforecastarbiter-core.readthedocs.io/en/latest/reference_forecasts.html)."
   ]
  },
  {
   "cell_type": "code",
   "execution_count": 1,
   "metadata": {},
   "outputs": [
    {
     "data": {
      "text/html": [
       "\n",
       "    <div class=\"bk-root\">\n",
       "        <a href=\"https://bokeh.pydata.org\" target=\"_blank\" class=\"bk-logo bk-logo-small bk-logo-notebook\"></a>\n",
       "        <span id=\"1001\">Loading BokehJS ...</span>\n",
       "    </div>"
      ]
     },
     "metadata": {},
     "output_type": "display_data"
    },
    {
     "data": {
      "application/javascript": [
       "\n",
       "(function(root) {\n",
       "  function now() {\n",
       "    return new Date();\n",
       "  }\n",
       "\n",
       "  var force = true;\n",
       "\n",
       "  if (typeof root._bokeh_onload_callbacks === \"undefined\" || force === true) {\n",
       "    root._bokeh_onload_callbacks = [];\n",
       "    root._bokeh_is_loading = undefined;\n",
       "  }\n",
       "\n",
       "  var JS_MIME_TYPE = 'application/javascript';\n",
       "  var HTML_MIME_TYPE = 'text/html';\n",
       "  var EXEC_MIME_TYPE = 'application/vnd.bokehjs_exec.v0+json';\n",
       "  var CLASS_NAME = 'output_bokeh rendered_html';\n",
       "\n",
       "  /**\n",
       "   * Render data to the DOM node\n",
       "   */\n",
       "  function render(props, node) {\n",
       "    var script = document.createElement(\"script\");\n",
       "    node.appendChild(script);\n",
       "  }\n",
       "\n",
       "  /**\n",
       "   * Handle when an output is cleared or removed\n",
       "   */\n",
       "  function handleClearOutput(event, handle) {\n",
       "    var cell = handle.cell;\n",
       "\n",
       "    var id = cell.output_area._bokeh_element_id;\n",
       "    var server_id = cell.output_area._bokeh_server_id;\n",
       "    // Clean up Bokeh references\n",
       "    if (id != null && id in Bokeh.index) {\n",
       "      Bokeh.index[id].model.document.clear();\n",
       "      delete Bokeh.index[id];\n",
       "    }\n",
       "\n",
       "    if (server_id !== undefined) {\n",
       "      // Clean up Bokeh references\n",
       "      var cmd = \"from bokeh.io.state import curstate; print(curstate().uuid_to_server['\" + server_id + \"'].get_sessions()[0].document.roots[0]._id)\";\n",
       "      cell.notebook.kernel.execute(cmd, {\n",
       "        iopub: {\n",
       "          output: function(msg) {\n",
       "            var id = msg.content.text.trim();\n",
       "            if (id in Bokeh.index) {\n",
       "              Bokeh.index[id].model.document.clear();\n",
       "              delete Bokeh.index[id];\n",
       "            }\n",
       "          }\n",
       "        }\n",
       "      });\n",
       "      // Destroy server and session\n",
       "      var cmd = \"import bokeh.io.notebook as ion; ion.destroy_server('\" + server_id + \"')\";\n",
       "      cell.notebook.kernel.execute(cmd);\n",
       "    }\n",
       "  }\n",
       "\n",
       "  /**\n",
       "   * Handle when a new output is added\n",
       "   */\n",
       "  function handleAddOutput(event, handle) {\n",
       "    var output_area = handle.output_area;\n",
       "    var output = handle.output;\n",
       "\n",
       "    // limit handleAddOutput to display_data with EXEC_MIME_TYPE content only\n",
       "    if ((output.output_type != \"display_data\") || (!output.data.hasOwnProperty(EXEC_MIME_TYPE))) {\n",
       "      return\n",
       "    }\n",
       "\n",
       "    var toinsert = output_area.element.find(\".\" + CLASS_NAME.split(' ')[0]);\n",
       "\n",
       "    if (output.metadata[EXEC_MIME_TYPE][\"id\"] !== undefined) {\n",
       "      toinsert[toinsert.length - 1].firstChild.textContent = output.data[JS_MIME_TYPE];\n",
       "      // store reference to embed id on output_area\n",
       "      output_area._bokeh_element_id = output.metadata[EXEC_MIME_TYPE][\"id\"];\n",
       "    }\n",
       "    if (output.metadata[EXEC_MIME_TYPE][\"server_id\"] !== undefined) {\n",
       "      var bk_div = document.createElement(\"div\");\n",
       "      bk_div.innerHTML = output.data[HTML_MIME_TYPE];\n",
       "      var script_attrs = bk_div.children[0].attributes;\n",
       "      for (var i = 0; i < script_attrs.length; i++) {\n",
       "        toinsert[toinsert.length - 1].firstChild.setAttribute(script_attrs[i].name, script_attrs[i].value);\n",
       "      }\n",
       "      // store reference to server id on output_area\n",
       "      output_area._bokeh_server_id = output.metadata[EXEC_MIME_TYPE][\"server_id\"];\n",
       "    }\n",
       "  }\n",
       "\n",
       "  function register_renderer(events, OutputArea) {\n",
       "\n",
       "    function append_mime(data, metadata, element) {\n",
       "      // create a DOM node to render to\n",
       "      var toinsert = this.create_output_subarea(\n",
       "        metadata,\n",
       "        CLASS_NAME,\n",
       "        EXEC_MIME_TYPE\n",
       "      );\n",
       "      this.keyboard_manager.register_events(toinsert);\n",
       "      // Render to node\n",
       "      var props = {data: data, metadata: metadata[EXEC_MIME_TYPE]};\n",
       "      render(props, toinsert[toinsert.length - 1]);\n",
       "      element.append(toinsert);\n",
       "      return toinsert\n",
       "    }\n",
       "\n",
       "    /* Handle when an output is cleared or removed */\n",
       "    events.on('clear_output.CodeCell', handleClearOutput);\n",
       "    events.on('delete.Cell', handleClearOutput);\n",
       "\n",
       "    /* Handle when a new output is added */\n",
       "    events.on('output_added.OutputArea', handleAddOutput);\n",
       "\n",
       "    /**\n",
       "     * Register the mime type and append_mime function with output_area\n",
       "     */\n",
       "    OutputArea.prototype.register_mime_type(EXEC_MIME_TYPE, append_mime, {\n",
       "      /* Is output safe? */\n",
       "      safe: true,\n",
       "      /* Index of renderer in `output_area.display_order` */\n",
       "      index: 0\n",
       "    });\n",
       "  }\n",
       "\n",
       "  // register the mime type if in Jupyter Notebook environment and previously unregistered\n",
       "  if (root.Jupyter !== undefined) {\n",
       "    var events = require('base/js/events');\n",
       "    var OutputArea = require('notebook/js/outputarea').OutputArea;\n",
       "\n",
       "    if (OutputArea.prototype.mime_types().indexOf(EXEC_MIME_TYPE) == -1) {\n",
       "      register_renderer(events, OutputArea);\n",
       "    }\n",
       "  }\n",
       "\n",
       "  \n",
       "  if (typeof (root._bokeh_timeout) === \"undefined\" || force === true) {\n",
       "    root._bokeh_timeout = Date.now() + 5000;\n",
       "    root._bokeh_failed_load = false;\n",
       "  }\n",
       "\n",
       "  var NB_LOAD_WARNING = {'data': {'text/html':\n",
       "     \"<div style='background-color: #fdd'>\\n\"+\n",
       "     \"<p>\\n\"+\n",
       "     \"BokehJS does not appear to have successfully loaded. If loading BokehJS from CDN, this \\n\"+\n",
       "     \"may be due to a slow or bad network connection. Possible fixes:\\n\"+\n",
       "     \"</p>\\n\"+\n",
       "     \"<ul>\\n\"+\n",
       "     \"<li>re-rerun `output_notebook()` to attempt to load from CDN again, or</li>\\n\"+\n",
       "     \"<li>use INLINE resources instead, as so:</li>\\n\"+\n",
       "     \"</ul>\\n\"+\n",
       "     \"<code>\\n\"+\n",
       "     \"from bokeh.resources import INLINE\\n\"+\n",
       "     \"output_notebook(resources=INLINE)\\n\"+\n",
       "     \"</code>\\n\"+\n",
       "     \"</div>\"}};\n",
       "\n",
       "  function display_loaded() {\n",
       "    var el = document.getElementById(\"1001\");\n",
       "    if (el != null) {\n",
       "      el.textContent = \"BokehJS is loading...\";\n",
       "    }\n",
       "    if (root.Bokeh !== undefined) {\n",
       "      if (el != null) {\n",
       "        el.textContent = \"BokehJS \" + root.Bokeh.version + \" successfully loaded.\";\n",
       "      }\n",
       "    } else if (Date.now() < root._bokeh_timeout) {\n",
       "      setTimeout(display_loaded, 100)\n",
       "    }\n",
       "  }\n",
       "\n",
       "\n",
       "  function run_callbacks() {\n",
       "    try {\n",
       "      root._bokeh_onload_callbacks.forEach(function(callback) {\n",
       "        if (callback != null)\n",
       "          callback();\n",
       "      });\n",
       "    } finally {\n",
       "      delete root._bokeh_onload_callbacks\n",
       "    }\n",
       "    console.debug(\"Bokeh: all callbacks have finished\");\n",
       "  }\n",
       "\n",
       "  function load_libs(css_urls, js_urls, callback) {\n",
       "    if (css_urls == null) css_urls = [];\n",
       "    if (js_urls == null) js_urls = [];\n",
       "\n",
       "    root._bokeh_onload_callbacks.push(callback);\n",
       "    if (root._bokeh_is_loading > 0) {\n",
       "      console.debug(\"Bokeh: BokehJS is being loaded, scheduling callback at\", now());\n",
       "      return null;\n",
       "    }\n",
       "    if (js_urls == null || js_urls.length === 0) {\n",
       "      run_callbacks();\n",
       "      return null;\n",
       "    }\n",
       "    console.debug(\"Bokeh: BokehJS not loaded, scheduling load and callback at\", now());\n",
       "    root._bokeh_is_loading = css_urls.length + js_urls.length;\n",
       "\n",
       "    function on_load() {\n",
       "      root._bokeh_is_loading--;\n",
       "      if (root._bokeh_is_loading === 0) {\n",
       "        console.debug(\"Bokeh: all BokehJS libraries/stylesheets loaded\");\n",
       "        run_callbacks()\n",
       "      }\n",
       "    }\n",
       "\n",
       "    function on_error() {\n",
       "      console.error(\"failed to load \" + url);\n",
       "    }\n",
       "\n",
       "    for (var i = 0; i < css_urls.length; i++) {\n",
       "      var url = css_urls[i];\n",
       "      const element = document.createElement(\"link\");\n",
       "      element.onload = on_load;\n",
       "      element.onerror = on_error;\n",
       "      element.rel = \"stylesheet\";\n",
       "      element.type = \"text/css\";\n",
       "      element.href = url;\n",
       "      console.debug(\"Bokeh: injecting link tag for BokehJS stylesheet: \", url);\n",
       "      document.body.appendChild(element);\n",
       "    }\n",
       "\n",
       "    for (var i = 0; i < js_urls.length; i++) {\n",
       "      var url = js_urls[i];\n",
       "      var element = document.createElement('script');\n",
       "      element.onload = on_load;\n",
       "      element.onerror = on_error;\n",
       "      element.async = false;\n",
       "      element.src = url;\n",
       "      console.debug(\"Bokeh: injecting script tag for BokehJS library: \", url);\n",
       "      document.head.appendChild(element);\n",
       "    }\n",
       "  };var element = document.getElementById(\"1001\");\n",
       "  if (element == null) {\n",
       "    console.error(\"Bokeh: ERROR: autoload.js configured with elementid '1001' but no matching script tag was found. \")\n",
       "    return false;\n",
       "  }\n",
       "\n",
       "  function inject_raw_css(css) {\n",
       "    const element = document.createElement(\"style\");\n",
       "    element.appendChild(document.createTextNode(css));\n",
       "    document.body.appendChild(element);\n",
       "  }\n",
       "\n",
       "  var js_urls = [\"https://cdn.pydata.org/bokeh/release/bokeh-1.2.0.min.js\", \"https://cdn.pydata.org/bokeh/release/bokeh-widgets-1.2.0.min.js\", \"https://cdn.pydata.org/bokeh/release/bokeh-tables-1.2.0.min.js\", \"https://cdn.pydata.org/bokeh/release/bokeh-gl-1.2.0.min.js\"];\n",
       "  var css_urls = [\"https://cdn.pydata.org/bokeh/release/bokeh-1.2.0.min.css\", \"https://cdn.pydata.org/bokeh/release/bokeh-widgets-1.2.0.min.css\", \"https://cdn.pydata.org/bokeh/release/bokeh-tables-1.2.0.min.css\"];\n",
       "\n",
       "  var inline_js = [\n",
       "    function(Bokeh) {\n",
       "      Bokeh.set_log_level(\"info\");\n",
       "    },\n",
       "    \n",
       "    function(Bokeh) {\n",
       "      \n",
       "    },\n",
       "    function(Bokeh) {} // ensure no trailing comma for IE\n",
       "  ];\n",
       "\n",
       "  function run_inline_js() {\n",
       "    \n",
       "    if ((root.Bokeh !== undefined) || (force === true)) {\n",
       "      for (var i = 0; i < inline_js.length; i++) {\n",
       "        inline_js[i].call(root, root.Bokeh);\n",
       "      }if (force === true) {\n",
       "        display_loaded();\n",
       "      }} else if (Date.now() < root._bokeh_timeout) {\n",
       "      setTimeout(run_inline_js, 100);\n",
       "    } else if (!root._bokeh_failed_load) {\n",
       "      console.log(\"Bokeh: BokehJS failed to load within specified timeout.\");\n",
       "      root._bokeh_failed_load = true;\n",
       "    } else if (force !== true) {\n",
       "      var cell = $(document.getElementById(\"1001\")).parents('.cell').data().cell;\n",
       "      cell.output_area.append_execute_result(NB_LOAD_WARNING)\n",
       "    }\n",
       "\n",
       "  }\n",
       "\n",
       "  if (root._bokeh_is_loading === 0) {\n",
       "    console.debug(\"Bokeh: BokehJS loaded, going straight to plotting\");\n",
       "    run_inline_js();\n",
       "  } else {\n",
       "    load_libs(css_urls, js_urls, function() {\n",
       "      console.debug(\"Bokeh: BokehJS plotting callback run at\", now());\n",
       "      run_inline_js();\n",
       "    });\n",
       "  }\n",
       "}(window));"
      ],
      "application/vnd.bokehjs_load.v0+json": "\n(function(root) {\n  function now() {\n    return new Date();\n  }\n\n  var force = true;\n\n  if (typeof root._bokeh_onload_callbacks === \"undefined\" || force === true) {\n    root._bokeh_onload_callbacks = [];\n    root._bokeh_is_loading = undefined;\n  }\n\n  \n\n  \n  if (typeof (root._bokeh_timeout) === \"undefined\" || force === true) {\n    root._bokeh_timeout = Date.now() + 5000;\n    root._bokeh_failed_load = false;\n  }\n\n  var NB_LOAD_WARNING = {'data': {'text/html':\n     \"<div style='background-color: #fdd'>\\n\"+\n     \"<p>\\n\"+\n     \"BokehJS does not appear to have successfully loaded. If loading BokehJS from CDN, this \\n\"+\n     \"may be due to a slow or bad network connection. Possible fixes:\\n\"+\n     \"</p>\\n\"+\n     \"<ul>\\n\"+\n     \"<li>re-rerun `output_notebook()` to attempt to load from CDN again, or</li>\\n\"+\n     \"<li>use INLINE resources instead, as so:</li>\\n\"+\n     \"</ul>\\n\"+\n     \"<code>\\n\"+\n     \"from bokeh.resources import INLINE\\n\"+\n     \"output_notebook(resources=INLINE)\\n\"+\n     \"</code>\\n\"+\n     \"</div>\"}};\n\n  function display_loaded() {\n    var el = document.getElementById(\"1001\");\n    if (el != null) {\n      el.textContent = \"BokehJS is loading...\";\n    }\n    if (root.Bokeh !== undefined) {\n      if (el != null) {\n        el.textContent = \"BokehJS \" + root.Bokeh.version + \" successfully loaded.\";\n      }\n    } else if (Date.now() < root._bokeh_timeout) {\n      setTimeout(display_loaded, 100)\n    }\n  }\n\n\n  function run_callbacks() {\n    try {\n      root._bokeh_onload_callbacks.forEach(function(callback) {\n        if (callback != null)\n          callback();\n      });\n    } finally {\n      delete root._bokeh_onload_callbacks\n    }\n    console.debug(\"Bokeh: all callbacks have finished\");\n  }\n\n  function load_libs(css_urls, js_urls, callback) {\n    if (css_urls == null) css_urls = [];\n    if (js_urls == null) js_urls = [];\n\n    root._bokeh_onload_callbacks.push(callback);\n    if (root._bokeh_is_loading > 0) {\n      console.debug(\"Bokeh: BokehJS is being loaded, scheduling callback at\", now());\n      return null;\n    }\n    if (js_urls == null || js_urls.length === 0) {\n      run_callbacks();\n      return null;\n    }\n    console.debug(\"Bokeh: BokehJS not loaded, scheduling load and callback at\", now());\n    root._bokeh_is_loading = css_urls.length + js_urls.length;\n\n    function on_load() {\n      root._bokeh_is_loading--;\n      if (root._bokeh_is_loading === 0) {\n        console.debug(\"Bokeh: all BokehJS libraries/stylesheets loaded\");\n        run_callbacks()\n      }\n    }\n\n    function on_error() {\n      console.error(\"failed to load \" + url);\n    }\n\n    for (var i = 0; i < css_urls.length; i++) {\n      var url = css_urls[i];\n      const element = document.createElement(\"link\");\n      element.onload = on_load;\n      element.onerror = on_error;\n      element.rel = \"stylesheet\";\n      element.type = \"text/css\";\n      element.href = url;\n      console.debug(\"Bokeh: injecting link tag for BokehJS stylesheet: \", url);\n      document.body.appendChild(element);\n    }\n\n    for (var i = 0; i < js_urls.length; i++) {\n      var url = js_urls[i];\n      var element = document.createElement('script');\n      element.onload = on_load;\n      element.onerror = on_error;\n      element.async = false;\n      element.src = url;\n      console.debug(\"Bokeh: injecting script tag for BokehJS library: \", url);\n      document.head.appendChild(element);\n    }\n  };var element = document.getElementById(\"1001\");\n  if (element == null) {\n    console.error(\"Bokeh: ERROR: autoload.js configured with elementid '1001' but no matching script tag was found. \")\n    return false;\n  }\n\n  function inject_raw_css(css) {\n    const element = document.createElement(\"style\");\n    element.appendChild(document.createTextNode(css));\n    document.body.appendChild(element);\n  }\n\n  var js_urls = [\"https://cdn.pydata.org/bokeh/release/bokeh-1.2.0.min.js\", \"https://cdn.pydata.org/bokeh/release/bokeh-widgets-1.2.0.min.js\", \"https://cdn.pydata.org/bokeh/release/bokeh-tables-1.2.0.min.js\", \"https://cdn.pydata.org/bokeh/release/bokeh-gl-1.2.0.min.js\"];\n  var css_urls = [\"https://cdn.pydata.org/bokeh/release/bokeh-1.2.0.min.css\", \"https://cdn.pydata.org/bokeh/release/bokeh-widgets-1.2.0.min.css\", \"https://cdn.pydata.org/bokeh/release/bokeh-tables-1.2.0.min.css\"];\n\n  var inline_js = [\n    function(Bokeh) {\n      Bokeh.set_log_level(\"info\");\n    },\n    \n    function(Bokeh) {\n      \n    },\n    function(Bokeh) {} // ensure no trailing comma for IE\n  ];\n\n  function run_inline_js() {\n    \n    if ((root.Bokeh !== undefined) || (force === true)) {\n      for (var i = 0; i < inline_js.length; i++) {\n        inline_js[i].call(root, root.Bokeh);\n      }if (force === true) {\n        display_loaded();\n      }} else if (Date.now() < root._bokeh_timeout) {\n      setTimeout(run_inline_js, 100);\n    } else if (!root._bokeh_failed_load) {\n      console.log(\"Bokeh: BokehJS failed to load within specified timeout.\");\n      root._bokeh_failed_load = true;\n    } else if (force !== true) {\n      var cell = $(document.getElementById(\"1001\")).parents('.cell').data().cell;\n      cell.output_area.append_execute_result(NB_LOAD_WARNING)\n    }\n\n  }\n\n  if (root._bokeh_is_loading === 0) {\n    console.debug(\"Bokeh: BokehJS loaded, going straight to plotting\");\n    run_inline_js();\n  } else {\n    load_libs(css_urls, js_urls, function() {\n      console.debug(\"Bokeh: BokehJS plotting callback run at\", now());\n      run_inline_js();\n    });\n  }\n}(window));"
     },
     "metadata": {},
     "output_type": "display_data"
    }
   ],
   "source": [
    "import datetime\n",
    "from functools import partial\n",
    "from pathlib import Path\n",
    "\n",
    "import numpy as np\n",
    "import pandas as pd\n",
    "\n",
    "from bokeh.core.properties import value\n",
    "from bokeh.io import output_notebook\n",
    "from bokeh.layouts import gridplot\n",
    "from bokeh.models import ColumnDataSource\n",
    "from bokeh.plotting import figure, show\n",
    "from bokeh.palettes import Category10_10 as PALETTE\n",
    "TOOLS = \"pan,box_zoom,xwheel_zoom,reset,save\"\n",
    "output_notebook()"
   ]
  },
  {
   "cell_type": "code",
   "execution_count": 2,
   "metadata": {},
   "outputs": [],
   "source": [
    "from solarforecastarbiter import datamodel"
   ]
  },
  {
   "cell_type": "markdown",
   "metadata": {},
   "source": [
    "## NWP-based forecasts\n",
    "\n",
    "Forecasts based on NWP model data are used for intraday and longer forecasts. The Solar Forecast Arbiter contains a set of functions to process data from NWP forecasts. Here, we explore some of the functionality with an emphasis on obtaining results. See the [NWP section of the documentation](https://solarforecastarbiter-core.readthedocs.io/en/latest/reference_forecasts.html#nwp) for additional information."
   ]
  },
  {
   "cell_type": "markdown",
   "metadata": {},
   "source": [
    "The `solarforecastarbiter` package includes a handful of subsetted NWP model runs for testing. We'll use these for our demonstration below. The models were all initialized at 2019-05-15 00Z and the subsets include about half a degree of latitude and longitude near Tucson, AZ."
   ]
  },
  {
   "cell_type": "code",
   "execution_count": 3,
   "metadata": {},
   "outputs": [],
   "source": [
    "from solarforecastarbiter.io import nwp\n",
    "# find the files\n",
    "base_path = Path(nwp.__file__).resolve().parents[0] / 'tests/data'\n",
    "# define file loading function that knows where to find the files\n",
    "load_forecast = partial(nwp.load_forecast, base_path=base_path)"
   ]
  },
  {
   "cell_type": "code",
   "execution_count": 4,
   "metadata": {},
   "outputs": [],
   "source": [
    "# define coordinates\n",
    "latitude = 32.2\n",
    "longitude = -110.9\n",
    "elevation = 700\n",
    "\n",
    "# define initialization time, forecast start time, forecast end time\n",
    "init_time = pd.Timestamp('20190515T0000Z')\n",
    "start = pd.Timestamp('20190515T0100Z')\n",
    "end = pd.Timestamp('20190518T0000Z')"
   ]
  },
  {
   "cell_type": "markdown",
   "metadata": {},
   "source": [
    "The Solar Forecast Arbiter organizes its metadata and data according to the ideas described in the [data model](https://solarforecastarbiter.org/datamodel/). The `solarforecastarbiter` package implements this data model in `solarforecastarbiter.datamodel`. Here, we define a `Site` object for which to make forecasts."
   ]
  },
  {
   "cell_type": "code",
   "execution_count": 5,
   "metadata": {},
   "outputs": [],
   "source": [
    "# define a Site object\n",
    "site = datamodel.Site(\n",
    "    name='Tucson, AZ',\n",
    "    latitude=latitude,\n",
    "    longitude=longitude,\n",
    "    elevation=elevation,\n",
    "    timezone='America/Phoenix'\n",
    ")"
   ]
  },
  {
   "cell_type": "markdown",
   "metadata": {},
   "source": [
    "Next we select a NWP+post processing model, load and process the data, and plot the processed data.\n",
    "\n",
    "Here we use the subhourly irradiance directly from the HRRR model."
   ]
  },
  {
   "cell_type": "code",
   "execution_count": 6,
   "metadata": {},
   "outputs": [
    {
     "data": {
      "text/html": [
       "\n",
       "\n",
       "\n",
       "\n",
       "\n",
       "\n",
       "  <div class=\"bk-root\" id=\"19ebbf59-7259-4a3e-a40f-8348a56f87fc\" data-root-id=\"1292\"></div>\n"
      ]
     },
     "metadata": {},
     "output_type": "display_data"
    },
    {
     "data": {
      "application/javascript": [
       "(function(root) {\n",
       "  function embed_document(root) {\n",
       "    \n",
       "  var docs_json = {\"c479b105-686d-464f-8580-0f251d00eab4\":{\"roots\":{\"references\":[{\"attributes\":{\"children\":[{\"id\":\"1291\",\"type\":\"ToolbarBox\"},{\"id\":\"1289\",\"type\":\"GridBox\"}]},\"id\":\"1292\",\"type\":\"Column\"},{\"attributes\":{\"dimension\":1,\"ticker\":{\"id\":\"1018\",\"type\":\"BasicTicker\"}},\"id\":\"1021\",\"type\":\"Grid\"},{\"attributes\":{\"ticker\":{\"id\":\"1013\",\"type\":\"DatetimeTicker\"}},\"id\":\"1016\",\"type\":\"Grid\"},{\"attributes\":{\"callback\":null,\"data\":{\"Air temperature\":{\"__ndarray__\":\"0OzCQdCcwEHQnL5B0Cy7QdD8tUHQ/LJB0CyxQdAcr0HQnKxB0FymQdCcn0HQrJtB0CyYQdC8lUHQvJNB0DyRQdAsj0HQrI5B0OyNQdAMjUHQfIxB0HyPQdCcmUHQrJtB0CyfQdBsoUHQrKBB0AygQdDsoEHQ/JpB0AyRQdC8jEHQDIpB0JyIQdA8hkHQfIRB0NyBQaDZfkGgOXhBoLlvQaAZakGgmWVBoPliQaA5X0GgOVxBoBlaQaAZWEGguVlBoPlkQaC5cEHQDIJB0ByNQdCsmUHQzJ1B0HyhQdA8o0HQTKZB0DyqQdDsrUHQ7LBB0By1QdB8ukHQXL9B0GzEQdCsx0HQjMpB0LzMQdDMzkHQLNBB\",\"dtype\":\"float32\",\"shape\":[69]},\"DHI\":{\"__ndarray__\":\"AKCjQgCAXUIAQCVCAAC/QQAABUEAAAAAAAAAAAAAAAAAAAAAAAAAAAAAAAAAAAAAAAAAAAAAAAAAAAAAAAAAAAAAAAAAAAAAAAAAAAAAAAAAAAAAAAAAAAAAAAAAAAAAAAAAAAAAAAAAAAAAAAAAAAAAAAAAAAAAAAAAAAAAAAAAAAAAAAAAAAAAAAAAAAAAAAAAAAAAAAAAAAAAAAAAAAAAAAAAAAAAAAAAAAAAAAAAAAAAAAAAAAAAAAAAgKZBAAD4QQCANEIAQFlCAAB2QgAAh0IAQJBCAACbQgBApkIAwMdCAKC8QgCgsEIAwMVCAADCQgCg1kIAIChDAFA6QwBQEEMAoAJDAMCMQwAwZkMA0DxD\",\"dtype\":\"float32\",\"shape\":[69]},\"DNI\":{\"__ndarray__\":\"AADyQwAA6EMAgI9DAACZQwAAEkMAAAAAAAAAAAAAAAAAAAAAAAAAAAAAAAAAAAAAAAAAAAAAAAAAAAAAAAAAAAAAAAAAAAAAAAAAAAAAAAAAAAAAAAAAAAAAAAAAAAAAAAAAAAAAAAAAAAAAAAAAAAAAAAAAAAAAAAAAAAAAAAAAAAAAAAAAAAAAAAAAAAAAAAAAAAAAAAAAAAAAAAAAAAAAAAAAAAAAAAAAAAAAAAAAAAAAAAAAAAAAAAAAALJCAICFQwCAzEMAQAJEAMAXRACAKEQAwDZEAEBBRAAASEQAgEpEAABSRAAAXEQAgF5EAIBjRACAY0QAAFdEAABSRACAY0QAgGhEAIA7RACAT0QAAFxE\",\"dtype\":\"float32\",\"shape\":[69]},\"GHI\":{\"__ndarray__\":\"AABUQwAAIkMAANBCAACEQgAA0EEAAAAAAAAAAAAAAAAAAAAAAAAAAAAAAAAAAAAAAAAAAAAAAAAAAAAAAAAAAAAAAAAAAAAAAAAAAAAAAAAAAAAAAAAAAAAAAAAAAAAAAAAAAAAAAAAAAAAAAAAAAAAAAAAAAAAAAAAAAAAAAAAAAAAAAAAAAAAAAAAAAAAAAAAAAAAAAAAAAAAAAAAAAAAAAAAAAAAAAAAAAAAAAAAAAAAAAAAAAAAAAAAAAFBBAABIQgAAwEIAABRDAABMQwCAgkMAgKBDAIC9QwCA2kMAAPZDAEAJRABAF0QAQCREAIAxRACAO0QAgEVEAIBPRAAAXEQAAGZEAIBoRACAckQAAHpE\",\"dtype\":\"float32\",\"shape\":[69]},\"Wind speed\":{\"__ndarray__\":\"AIBUQAAAYEAAAGVAAIBxQAAAg0AAgJNAAECKQACAg0AAgGtAAIBIQACAJkAAANw/AACPPwAAcD8AAD4/AAAIPwAAYj8AANE/AAANQACAK0AAAD5AAIBuQADAqEAAgAtBACAGQQAA5kAAgNVAAEC3QAAAk0AAgGtAAIA2QACAJkAAgDRAAIBWQACAQEAAADRAAAAmQACAB0AAAIM/AAC8PgAAjD8AALY/AADAPwAAyT8AAKg/AADcPgAAOD4AAPQ+AAAKPwAAoD8AACw/AAC4PgAAMD8AAI8/AADjPwAA+j8AAOg/AAD0PwCADkAAgBdAAIAXQACAHkAAADxAAABuQABAjEAAgJNAAICUQACAlEAAAI9A\",\"dtype\":\"float32\",\"shape\":[69]},\"index\":{\"__ndarray__\":\"AAAoDZCrdkIAAOLokKt2QgAAnMSRq3ZCAABWoJKrdkIAABB8k6t2QgAAyleUq3ZCAACEM5WrdkIAAD4Plqt2QgAA+OqWq3ZCAACyxperdkIAAGyimKt2QgAAJn6Zq3ZCAADgWZqrdkIAAJo1m6t2QgAAVBGcq3ZCAAAO7ZyrdkIAAMjInat2QgAAgqSeq3ZCAAA8gJ+rdkIAAPZboKt2QgAAsDehq3ZCAABqE6KrdkIAACTvoqt2QgAA3sqjq3ZCAACYpqSrdkIAAFKCpat2QgAADF6mq3ZCAADGOaerdkIAAIAVqKt2QgAAOvGoq3ZCAAD0zKmrdkIAAK6oqqt2QgAAaISrq3ZCAAAiYKyrdkIAANw7rat2QgAAlheuq3ZCAABQ866rdkIAAArPr6t2QgAAxKqwq3ZCAAB+hrGrdkIAADhisqt2QgAA8j2zq3ZCAACsGbSrdkIAAGb1tKt2QgAAING1q3ZCAADarLardkIAAJSIt6t2QgAATmS4q3ZCAAAIQLmrdkIAAMIbuqt2QgAAfPe6q3ZCAAA207urdkIAAPCuvKt2QgAAqoq9q3ZCAABkZr6rdkIAAB5Cv6t2QgAA2B3Aq3ZCAACS+cCrdkIAAEzVwat2QgAABrHCq3ZCAADAjMOrdkIAAHpoxKt2QgAANETFq3ZCAADuH8ardkIAAKj7xqt2QgAAYtfHq3ZCAAAcs8irdkIAANaOyat2QgAAkGrKq3ZC\",\"dtype\":\"float64\",\"shape\":[69]}},\"selected\":{\"id\":\"1084\",\"type\":\"Selection\"},\"selection_policy\":{\"id\":\"1083\",\"type\":\"UnionRenderers\"}},\"id\":\"1002\",\"type\":\"ColumnDataSource\"},{\"attributes\":{\"num_minor_ticks\":5,\"tickers\":[{\"id\":\"1045\",\"type\":\"AdaptiveTicker\"},{\"id\":\"1046\",\"type\":\"AdaptiveTicker\"},{\"id\":\"1047\",\"type\":\"AdaptiveTicker\"},{\"id\":\"1048\",\"type\":\"DaysTicker\"},{\"id\":\"1049\",\"type\":\"DaysTicker\"},{\"id\":\"1050\",\"type\":\"DaysTicker\"},{\"id\":\"1051\",\"type\":\"DaysTicker\"},{\"id\":\"1052\",\"type\":\"MonthsTicker\"},{\"id\":\"1053\",\"type\":\"MonthsTicker\"},{\"id\":\"1054\",\"type\":\"MonthsTicker\"},{\"id\":\"1055\",\"type\":\"MonthsTicker\"},{\"id\":\"1056\",\"type\":\"YearsTicker\"}]},\"id\":\"1013\",\"type\":\"DatetimeTicker\"},{\"attributes\":{\"active_drag\":\"auto\",\"active_inspect\":\"auto\",\"active_multi\":null,\"active_scroll\":\"auto\",\"active_tap\":\"auto\",\"tools\":[{\"id\":\"1131\",\"type\":\"PanTool\"},{\"id\":\"1132\",\"type\":\"BoxZoomTool\"},{\"id\":\"1133\",\"type\":\"WheelZoomTool\"},{\"id\":\"1134\",\"type\":\"ResetTool\"},{\"id\":\"1135\",\"type\":\"SaveTool\"}]},\"id\":\"1136\",\"type\":\"Toolbar\"},{\"attributes\":{\"below\":[{\"id\":\"1176\",\"type\":\"DatetimeAxis\"}],\"center\":[{\"id\":\"1180\",\"type\":\"Grid\"},{\"id\":\"1185\",\"type\":\"Grid\"},{\"id\":\"1221\",\"type\":\"Legend\"}],\"left\":[{\"id\":\"1181\",\"type\":\"LinearAxis\"}],\"plot_height\":200,\"plot_width\":800,\"renderers\":[{\"id\":\"1200\",\"type\":\"GlyphRenderer\"}],\"title\":{\"id\":\"1202\",\"type\":\"Title\"},\"toolbar\":{\"id\":\"1191\",\"type\":\"Toolbar\"},\"toolbar_location\":null,\"x_range\":{\"id\":\"1004\",\"type\":\"DataRange1d\"},\"x_scale\":{\"id\":\"1172\",\"type\":\"LinearScale\"},\"y_range\":{\"id\":\"1170\",\"type\":\"DataRange1d\"},\"y_scale\":{\"id\":\"1174\",\"type\":\"LinearScale\"}},\"id\":\"1168\",\"subtype\":\"Figure\",\"type\":\"Plot\"},{\"attributes\":{\"dimensions\":\"width\"},\"id\":\"1024\",\"type\":\"WheelZoomTool\"},{\"attributes\":{\"below\":[{\"id\":\"1012\",\"type\":\"DatetimeAxis\"}],\"center\":[{\"id\":\"1016\",\"type\":\"Grid\"},{\"id\":\"1021\",\"type\":\"Grid\"},{\"id\":\"1057\",\"type\":\"Legend\"}],\"left\":[{\"id\":\"1017\",\"type\":\"LinearAxis\"}],\"plot_height\":200,\"plot_width\":800,\"renderers\":[{\"id\":\"1036\",\"type\":\"GlyphRenderer\"},{\"id\":\"1062\",\"type\":\"GlyphRenderer\"},{\"id\":\"1089\",\"type\":\"GlyphRenderer\"}],\"title\":{\"id\":\"1038\",\"type\":\"Title\"},\"toolbar\":{\"id\":\"1027\",\"type\":\"Toolbar\"},\"toolbar_location\":null,\"x_range\":{\"id\":\"1004\",\"type\":\"DataRange1d\"},\"x_scale\":{\"id\":\"1008\",\"type\":\"LinearScale\"},\"y_range\":{\"id\":\"1006\",\"type\":\"DataRange1d\"},\"y_scale\":{\"id\":\"1010\",\"type\":\"LinearScale\"}},\"id\":\"1003\",\"subtype\":\"Figure\",\"type\":\"Plot\"},{\"attributes\":{},\"id\":\"1010\",\"type\":\"LinearScale\"},{\"attributes\":{\"callback\":null},\"id\":\"1004\",\"type\":\"DataRange1d\"},{\"attributes\":{\"formatter\":{\"id\":\"1043\",\"type\":\"DatetimeTickFormatter\"},\"ticker\":{\"id\":\"1013\",\"type\":\"DatetimeTicker\"}},\"id\":\"1012\",\"type\":\"DatetimeAxis\"},{\"attributes\":{\"below\":[{\"id\":\"1121\",\"type\":\"DatetimeAxis\"}],\"center\":[{\"id\":\"1125\",\"type\":\"Grid\"},{\"id\":\"1130\",\"type\":\"Grid\"},{\"id\":\"1166\",\"type\":\"Legend\"}],\"left\":[{\"id\":\"1126\",\"type\":\"LinearAxis\"}],\"plot_height\":200,\"plot_width\":800,\"renderers\":[{\"id\":\"1145\",\"type\":\"GlyphRenderer\"}],\"title\":{\"id\":\"1147\",\"type\":\"Title\"},\"toolbar\":{\"id\":\"1136\",\"type\":\"Toolbar\"},\"toolbar_location\":null,\"x_range\":{\"id\":\"1004\",\"type\":\"DataRange1d\"},\"x_scale\":{\"id\":\"1117\",\"type\":\"LinearScale\"},\"y_range\":{\"id\":\"1115\",\"type\":\"DataRange1d\"},\"y_scale\":{\"id\":\"1119\",\"type\":\"LinearScale\"}},\"id\":\"1113\",\"subtype\":\"Figure\",\"type\":\"Plot\"},{\"attributes\":{},\"id\":\"1018\",\"type\":\"BasicTicker\"},{\"attributes\":{\"callback\":null},\"id\":\"1006\",\"type\":\"DataRange1d\"},{\"attributes\":{},\"id\":\"1008\",\"type\":\"LinearScale\"},{\"attributes\":{\"label\":{\"value\":\"Wind speed\"},\"renderers\":[{\"id\":\"1200\",\"type\":\"GlyphRenderer\"}]},\"id\":\"1222\",\"type\":\"LegendItem\"},{\"attributes\":{\"callback\":null},\"id\":\"1170\",\"type\":\"DataRange1d\"},{\"attributes\":{\"line_alpha\":0.1,\"line_color\":\"#1f77b4\",\"line_width\":2,\"x\":{\"field\":\"index\"},\"y\":{\"field\":\"DHI\"}},\"id\":\"1088\",\"type\":\"Line\"},{\"attributes\":{\"tools\":[{\"id\":\"1022\",\"type\":\"PanTool\"},{\"id\":\"1023\",\"type\":\"BoxZoomTool\"},{\"id\":\"1024\",\"type\":\"WheelZoomTool\"},{\"id\":\"1025\",\"type\":\"ResetTool\"},{\"id\":\"1026\",\"type\":\"SaveTool\"},{\"id\":\"1131\",\"type\":\"PanTool\"},{\"id\":\"1132\",\"type\":\"BoxZoomTool\"},{\"id\":\"1133\",\"type\":\"WheelZoomTool\"},{\"id\":\"1134\",\"type\":\"ResetTool\"},{\"id\":\"1135\",\"type\":\"SaveTool\"},{\"id\":\"1186\",\"type\":\"PanTool\"},{\"id\":\"1187\",\"type\":\"BoxZoomTool\"},{\"id\":\"1188\",\"type\":\"WheelZoomTool\"},{\"id\":\"1189\",\"type\":\"ResetTool\"},{\"id\":\"1190\",\"type\":\"SaveTool\"}]},\"id\":\"1290\",\"type\":\"ProxyToolbar\"},{\"attributes\":{\"data_source\":{\"id\":\"1002\",\"type\":\"ColumnDataSource\"},\"glyph\":{\"id\":\"1087\",\"type\":\"Line\"},\"hover_glyph\":null,\"muted_glyph\":null,\"nonselection_glyph\":{\"id\":\"1088\",\"type\":\"Line\"},\"selection_glyph\":null,\"view\":{\"id\":\"1090\",\"type\":\"CDSView\"}},\"id\":\"1089\",\"type\":\"GlyphRenderer\"},{\"attributes\":{},\"id\":\"1172\",\"type\":\"LinearScale\"},{\"attributes\":{},\"id\":\"1025\",\"type\":\"ResetTool\"},{\"attributes\":{},\"id\":\"1174\",\"type\":\"LinearScale\"},{\"attributes\":{\"source\":{\"id\":\"1002\",\"type\":\"ColumnDataSource\"}},\"id\":\"1090\",\"type\":\"CDSView\"},{\"attributes\":{\"toolbar\":{\"id\":\"1290\",\"type\":\"ProxyToolbar\"},\"toolbar_location\":\"above\"},\"id\":\"1291\",\"type\":\"ToolbarBox\"},{\"attributes\":{\"formatter\":{\"id\":\"1207\",\"type\":\"DatetimeTickFormatter\"},\"ticker\":{\"id\":\"1177\",\"type\":\"DatetimeTicker\"}},\"id\":\"1176\",\"type\":\"DatetimeAxis\"},{\"attributes\":{\"label\":{\"value\":\"DHI\"},\"renderers\":[{\"id\":\"1089\",\"type\":\"GlyphRenderer\"}]},\"id\":\"1112\",\"type\":\"LegendItem\"},{\"attributes\":{},\"id\":\"1026\",\"type\":\"SaveTool\"},{\"attributes\":{},\"id\":\"1150\",\"type\":\"BasicTickFormatter\"},{\"attributes\":{\"num_minor_ticks\":5,\"tickers\":[{\"id\":\"1209\",\"type\":\"AdaptiveTicker\"},{\"id\":\"1210\",\"type\":\"AdaptiveTicker\"},{\"id\":\"1211\",\"type\":\"AdaptiveTicker\"},{\"id\":\"1212\",\"type\":\"DaysTicker\"},{\"id\":\"1213\",\"type\":\"DaysTicker\"},{\"id\":\"1214\",\"type\":\"DaysTicker\"},{\"id\":\"1215\",\"type\":\"DaysTicker\"},{\"id\":\"1216\",\"type\":\"MonthsTicker\"},{\"id\":\"1217\",\"type\":\"MonthsTicker\"},{\"id\":\"1218\",\"type\":\"MonthsTicker\"},{\"id\":\"1219\",\"type\":\"MonthsTicker\"},{\"id\":\"1220\",\"type\":\"YearsTicker\"}]},\"id\":\"1177\",\"type\":\"DatetimeTicker\"},{\"attributes\":{\"active_drag\":\"auto\",\"active_inspect\":\"auto\",\"active_multi\":null,\"active_scroll\":\"auto\",\"active_tap\":\"auto\",\"tools\":[{\"id\":\"1022\",\"type\":\"PanTool\"},{\"id\":\"1023\",\"type\":\"BoxZoomTool\"},{\"id\":\"1024\",\"type\":\"WheelZoomTool\"},{\"id\":\"1025\",\"type\":\"ResetTool\"},{\"id\":\"1026\",\"type\":\"SaveTool\"}]},\"id\":\"1027\",\"type\":\"Toolbar\"},{\"attributes\":{\"callback\":null},\"id\":\"1115\",\"type\":\"DataRange1d\"},{\"attributes\":{\"ticker\":{\"id\":\"1177\",\"type\":\"DatetimeTicker\"}},\"id\":\"1180\",\"type\":\"Grid\"},{\"attributes\":{},\"id\":\"1117\",\"type\":\"LinearScale\"},{\"attributes\":{\"axis_label\":\"Wind speed (m/s)\",\"formatter\":{\"id\":\"1205\",\"type\":\"BasicTickFormatter\"},\"ticker\":{\"id\":\"1182\",\"type\":\"BasicTicker\"}},\"id\":\"1181\",\"type\":\"LinearAxis\"},{\"attributes\":{\"line_alpha\":0.1,\"line_color\":\"#1f77b4\",\"line_width\":2,\"x\":{\"field\":\"index\"},\"y\":{\"field\":\"GHI\"}},\"id\":\"1035\",\"type\":\"Line\"},{\"attributes\":{\"data_source\":{\"id\":\"1002\",\"type\":\"ColumnDataSource\"},\"glyph\":{\"id\":\"1034\",\"type\":\"Line\"},\"hover_glyph\":null,\"muted_glyph\":null,\"nonselection_glyph\":{\"id\":\"1035\",\"type\":\"Line\"},\"selection_glyph\":null,\"view\":{\"id\":\"1037\",\"type\":\"CDSView\"}},\"id\":\"1036\",\"type\":\"GlyphRenderer\"},{\"attributes\":{},\"id\":\"1119\",\"type\":\"LinearScale\"},{\"attributes\":{},\"id\":\"1182\",\"type\":\"BasicTicker\"},{\"attributes\":{\"source\":{\"id\":\"1002\",\"type\":\"ColumnDataSource\"}},\"id\":\"1037\",\"type\":\"CDSView\"},{\"attributes\":{\"formatter\":{\"id\":\"1152\",\"type\":\"DatetimeTickFormatter\"},\"ticker\":{\"id\":\"1122\",\"type\":\"DatetimeTicker\"}},\"id\":\"1121\",\"type\":\"DatetimeAxis\"},{\"attributes\":{\"dimension\":1,\"ticker\":{\"id\":\"1182\",\"type\":\"BasicTicker\"}},\"id\":\"1185\",\"type\":\"Grid\"},{\"attributes\":{\"text\":\"\"},\"id\":\"1038\",\"type\":\"Title\"},{\"attributes\":{\"num_minor_ticks\":5,\"tickers\":[{\"id\":\"1154\",\"type\":\"AdaptiveTicker\"},{\"id\":\"1155\",\"type\":\"AdaptiveTicker\"},{\"id\":\"1156\",\"type\":\"AdaptiveTicker\"},{\"id\":\"1157\",\"type\":\"DaysTicker\"},{\"id\":\"1158\",\"type\":\"DaysTicker\"},{\"id\":\"1159\",\"type\":\"DaysTicker\"},{\"id\":\"1160\",\"type\":\"DaysTicker\"},{\"id\":\"1161\",\"type\":\"MonthsTicker\"},{\"id\":\"1162\",\"type\":\"MonthsTicker\"},{\"id\":\"1163\",\"type\":\"MonthsTicker\"},{\"id\":\"1164\",\"type\":\"MonthsTicker\"},{\"id\":\"1165\",\"type\":\"YearsTicker\"}]},\"id\":\"1122\",\"type\":\"DatetimeTicker\"},{\"attributes\":{},\"id\":\"1043\",\"type\":\"DatetimeTickFormatter\"},{\"attributes\":{\"line_color\":\"#1f77b4\",\"line_width\":2,\"x\":{\"field\":\"index\"},\"y\":{\"field\":\"GHI\"}},\"id\":\"1034\",\"type\":\"Line\"},{\"attributes\":{\"line_color\":\"#9467bd\",\"line_width\":2,\"x\":{\"field\":\"index\"},\"y\":{\"field\":\"Wind speed\"}},\"id\":\"1198\",\"type\":\"Line\"},{\"attributes\":{\"ticker\":{\"id\":\"1122\",\"type\":\"DatetimeTicker\"}},\"id\":\"1125\",\"type\":\"Grid\"},{\"attributes\":{\"active_drag\":\"auto\",\"active_inspect\":\"auto\",\"active_multi\":null,\"active_scroll\":\"auto\",\"active_tap\":\"auto\",\"tools\":[{\"id\":\"1186\",\"type\":\"PanTool\"},{\"id\":\"1187\",\"type\":\"BoxZoomTool\"},{\"id\":\"1188\",\"type\":\"WheelZoomTool\"},{\"id\":\"1189\",\"type\":\"ResetTool\"},{\"id\":\"1190\",\"type\":\"SaveTool\"}]},\"id\":\"1191\",\"type\":\"Toolbar\"},{\"attributes\":{\"bottom_units\":\"screen\",\"fill_alpha\":{\"value\":0.5},\"fill_color\":{\"value\":\"lightgrey\"},\"left_units\":\"screen\",\"level\":\"overlay\",\"line_alpha\":{\"value\":1.0},\"line_color\":{\"value\":\"black\"},\"line_dash\":[4,4],\"line_width\":{\"value\":2},\"render_mode\":\"css\",\"right_units\":\"screen\",\"top_units\":\"screen\"},\"id\":\"1044\",\"type\":\"BoxAnnotation\"},{\"attributes\":{},\"id\":\"1186\",\"type\":\"PanTool\"},{\"attributes\":{\"axis_label\":\"Air temperature (C)\",\"formatter\":{\"id\":\"1150\",\"type\":\"BasicTickFormatter\"},\"ticker\":{\"id\":\"1127\",\"type\":\"BasicTicker\"}},\"id\":\"1126\",\"type\":\"LinearAxis\"},{\"attributes\":{\"mantissas\":[1,2,5],\"max_interval\":500.0,\"num_minor_ticks\":0},\"id\":\"1045\",\"type\":\"AdaptiveTicker\"},{\"attributes\":{\"overlay\":{\"id\":\"1208\",\"type\":\"BoxAnnotation\"}},\"id\":\"1187\",\"type\":\"BoxZoomTool\"},{\"attributes\":{},\"id\":\"1127\",\"type\":\"BasicTicker\"},{\"attributes\":{\"dimensions\":\"width\"},\"id\":\"1188\",\"type\":\"WheelZoomTool\"},{\"attributes\":{\"dimension\":1,\"ticker\":{\"id\":\"1127\",\"type\":\"BasicTicker\"}},\"id\":\"1130\",\"type\":\"Grid\"},{\"attributes\":{\"base\":60,\"mantissas\":[1,2,5,10,15,20,30],\"max_interval\":1800000.0,\"min_interval\":1000.0,\"num_minor_ticks\":0},\"id\":\"1046\",\"type\":\"AdaptiveTicker\"},{\"attributes\":{},\"id\":\"1189\",\"type\":\"ResetTool\"},{\"attributes\":{\"base\":24,\"mantissas\":[1,2,4,6,8,12],\"max_interval\":43200000.0,\"min_interval\":3600000.0,\"num_minor_ticks\":0},\"id\":\"1047\",\"type\":\"AdaptiveTicker\"},{\"attributes\":{\"text\":\"\"},\"id\":\"1147\",\"type\":\"Title\"},{\"attributes\":{},\"id\":\"1190\",\"type\":\"SaveTool\"},{\"attributes\":{\"days\":[1,2,3,4,5,6,7,8,9,10,11,12,13,14,15,16,17,18,19,20,21,22,23,24,25,26,27,28,29,30,31]},\"id\":\"1048\",\"type\":\"DaysTicker\"},{\"attributes\":{},\"id\":\"1131\",\"type\":\"PanTool\"},{\"attributes\":{\"line_alpha\":0.1,\"line_color\":\"#1f77b4\",\"line_width\":2,\"x\":{\"field\":\"index\"},\"y\":{\"field\":\"Wind speed\"}},\"id\":\"1199\",\"type\":\"Line\"},{\"attributes\":{\"days\":[1,4,7,10,13,16,19,22,25,28]},\"id\":\"1049\",\"type\":\"DaysTicker\"},{\"attributes\":{\"data_source\":{\"id\":\"1002\",\"type\":\"ColumnDataSource\"},\"glyph\":{\"id\":\"1198\",\"type\":\"Line\"},\"hover_glyph\":null,\"muted_glyph\":null,\"nonselection_glyph\":{\"id\":\"1199\",\"type\":\"Line\"},\"selection_glyph\":null,\"view\":{\"id\":\"1201\",\"type\":\"CDSView\"}},\"id\":\"1200\",\"type\":\"GlyphRenderer\"},{\"attributes\":{\"overlay\":{\"id\":\"1153\",\"type\":\"BoxAnnotation\"}},\"id\":\"1132\",\"type\":\"BoxZoomTool\"},{\"attributes\":{\"days\":[1,8,15,22]},\"id\":\"1050\",\"type\":\"DaysTicker\"},{\"attributes\":{},\"id\":\"1152\",\"type\":\"DatetimeTickFormatter\"},{\"attributes\":{\"days\":[1,15]},\"id\":\"1051\",\"type\":\"DaysTicker\"},{\"attributes\":{\"source\":{\"id\":\"1002\",\"type\":\"ColumnDataSource\"}},\"id\":\"1201\",\"type\":\"CDSView\"},{\"attributes\":{\"bottom_units\":\"screen\",\"fill_alpha\":{\"value\":0.5},\"fill_color\":{\"value\":\"lightgrey\"},\"left_units\":\"screen\",\"level\":\"overlay\",\"line_alpha\":{\"value\":1.0},\"line_color\":{\"value\":\"black\"},\"line_dash\":[4,4],\"line_width\":{\"value\":2},\"render_mode\":\"css\",\"right_units\":\"screen\",\"top_units\":\"screen\"},\"id\":\"1153\",\"type\":\"BoxAnnotation\"},{\"attributes\":{\"months\":[0,1,2,3,4,5,6,7,8,9,10,11]},\"id\":\"1052\",\"type\":\"MonthsTicker\"},{\"attributes\":{\"text\":\"\"},\"id\":\"1202\",\"type\":\"Title\"},{\"attributes\":{\"months\":[0,2,4,6,8,10]},\"id\":\"1053\",\"type\":\"MonthsTicker\"},{\"attributes\":{\"mantissas\":[1,2,5],\"max_interval\":500.0,\"num_minor_ticks\":0},\"id\":\"1154\",\"type\":\"AdaptiveTicker\"},{\"attributes\":{\"axis_label\":\"Irradiance (W/m^2)\",\"formatter\":{\"id\":\"1041\",\"type\":\"BasicTickFormatter\"},\"ticker\":{\"id\":\"1018\",\"type\":\"BasicTicker\"}},\"id\":\"1017\",\"type\":\"LinearAxis\"},{\"attributes\":{},\"id\":\"1205\",\"type\":\"BasicTickFormatter\"},{\"attributes\":{\"months\":[0,4,8]},\"id\":\"1054\",\"type\":\"MonthsTicker\"},{\"attributes\":{},\"id\":\"1207\",\"type\":\"DatetimeTickFormatter\"},{\"attributes\":{\"base\":60,\"mantissas\":[1,2,5,10,15,20,30],\"max_interval\":1800000.0,\"min_interval\":1000.0,\"num_minor_ticks\":0},\"id\":\"1155\",\"type\":\"AdaptiveTicker\"},{\"attributes\":{},\"id\":\"1041\",\"type\":\"BasicTickFormatter\"},{\"attributes\":{\"months\":[0,6]},\"id\":\"1055\",\"type\":\"MonthsTicker\"},{\"attributes\":{\"source\":{\"id\":\"1002\",\"type\":\"ColumnDataSource\"}},\"id\":\"1146\",\"type\":\"CDSView\"},{\"attributes\":{\"base\":24,\"mantissas\":[1,2,4,6,8,12],\"max_interval\":43200000.0,\"min_interval\":3600000.0,\"num_minor_ticks\":0},\"id\":\"1156\",\"type\":\"AdaptiveTicker\"},{\"attributes\":{},\"id\":\"1135\",\"type\":\"SaveTool\"},{\"attributes\":{},\"id\":\"1056\",\"type\":\"YearsTicker\"},{\"attributes\":{\"base\":60,\"mantissas\":[1,2,5,10,15,20,30],\"max_interval\":1800000.0,\"min_interval\":1000.0,\"num_minor_ticks\":0},\"id\":\"1210\",\"type\":\"AdaptiveTicker\"},{\"attributes\":{\"days\":[1,2,3,4,5,6,7,8,9,10,11,12,13,14,15,16,17,18,19,20,21,22,23,24,25,26,27,28,29,30,31]},\"id\":\"1157\",\"type\":\"DaysTicker\"},{\"attributes\":{\"items\":[{\"id\":\"1058\",\"type\":\"LegendItem\"},{\"id\":\"1085\",\"type\":\"LegendItem\"},{\"id\":\"1112\",\"type\":\"LegendItem\"}],\"location\":\"top_left\"},\"id\":\"1057\",\"type\":\"Legend\"},{\"attributes\":{\"data_source\":{\"id\":\"1002\",\"type\":\"ColumnDataSource\"},\"glyph\":{\"id\":\"1143\",\"type\":\"Line\"},\"hover_glyph\":null,\"muted_glyph\":null,\"nonselection_glyph\":{\"id\":\"1144\",\"type\":\"Line\"},\"selection_glyph\":null,\"view\":{\"id\":\"1146\",\"type\":\"CDSView\"}},\"id\":\"1145\",\"type\":\"GlyphRenderer\"},{\"attributes\":{\"base\":24,\"mantissas\":[1,2,4,6,8,12],\"max_interval\":43200000.0,\"min_interval\":3600000.0,\"num_minor_ticks\":0},\"id\":\"1211\",\"type\":\"AdaptiveTicker\"},{\"attributes\":{\"days\":[1,4,7,10,13,16,19,22,25,28]},\"id\":\"1158\",\"type\":\"DaysTicker\"},{\"attributes\":{\"label\":{\"value\":\"GHI\"},\"renderers\":[{\"id\":\"1036\",\"type\":\"GlyphRenderer\"}]},\"id\":\"1058\",\"type\":\"LegendItem\"},{\"attributes\":{\"line_alpha\":0.1,\"line_color\":\"#1f77b4\",\"line_width\":2,\"x\":{\"field\":\"index\"},\"y\":{\"field\":\"Air temperature\"}},\"id\":\"1144\",\"type\":\"Line\"},{\"attributes\":{\"days\":[1,2,3,4,5,6,7,8,9,10,11,12,13,14,15,16,17,18,19,20,21,22,23,24,25,26,27,28,29,30,31]},\"id\":\"1212\",\"type\":\"DaysTicker\"},{\"attributes\":{\"days\":[1,8,15,22]},\"id\":\"1159\",\"type\":\"DaysTicker\"},{\"attributes\":{\"mantissas\":[1,2,5],\"max_interval\":500.0,\"num_minor_ticks\":0},\"id\":\"1209\",\"type\":\"AdaptiveTicker\"},{\"attributes\":{},\"id\":\"1134\",\"type\":\"ResetTool\"},{\"attributes\":{\"line_color\":\"#d62728\",\"line_width\":2,\"x\":{\"field\":\"index\"},\"y\":{\"field\":\"Air temperature\"}},\"id\":\"1143\",\"type\":\"Line\"},{\"attributes\":{\"days\":[1,4,7,10,13,16,19,22,25,28]},\"id\":\"1213\",\"type\":\"DaysTicker\"},{\"attributes\":{\"days\":[1,15]},\"id\":\"1160\",\"type\":\"DaysTicker\"},{\"attributes\":{\"line_color\":\"#ff7f0e\",\"line_width\":2,\"x\":{\"field\":\"index\"},\"y\":{\"field\":\"DNI\"}},\"id\":\"1060\",\"type\":\"Line\"},{\"attributes\":{\"days\":[1,8,15,22]},\"id\":\"1214\",\"type\":\"DaysTicker\"},{\"attributes\":{\"months\":[0,1,2,3,4,5,6,7,8,9,10,11]},\"id\":\"1161\",\"type\":\"MonthsTicker\"},{\"attributes\":{\"line_alpha\":0.1,\"line_color\":\"#1f77b4\",\"line_width\":2,\"x\":{\"field\":\"index\"},\"y\":{\"field\":\"DNI\"}},\"id\":\"1061\",\"type\":\"Line\"},{\"attributes\":{\"days\":[1,15]},\"id\":\"1215\",\"type\":\"DaysTicker\"},{\"attributes\":{\"months\":[0,2,4,6,8,10]},\"id\":\"1162\",\"type\":\"MonthsTicker\"},{\"attributes\":{\"data_source\":{\"id\":\"1002\",\"type\":\"ColumnDataSource\"},\"glyph\":{\"id\":\"1060\",\"type\":\"Line\"},\"hover_glyph\":null,\"muted_glyph\":null,\"nonselection_glyph\":{\"id\":\"1061\",\"type\":\"Line\"},\"selection_glyph\":null,\"view\":{\"id\":\"1063\",\"type\":\"CDSView\"}},\"id\":\"1062\",\"type\":\"GlyphRenderer\"},{\"attributes\":{\"months\":[0,1,2,3,4,5,6,7,8,9,10,11]},\"id\":\"1216\",\"type\":\"MonthsTicker\"},{\"attributes\":{\"overlay\":{\"id\":\"1044\",\"type\":\"BoxAnnotation\"}},\"id\":\"1023\",\"type\":\"BoxZoomTool\"},{\"attributes\":{\"months\":[0,4,8]},\"id\":\"1163\",\"type\":\"MonthsTicker\"},{\"attributes\":{\"source\":{\"id\":\"1002\",\"type\":\"ColumnDataSource\"}},\"id\":\"1063\",\"type\":\"CDSView\"},{\"attributes\":{\"months\":[0,2,4,6,8,10]},\"id\":\"1217\",\"type\":\"MonthsTicker\"},{\"attributes\":{\"months\":[0,6]},\"id\":\"1164\",\"type\":\"MonthsTicker\"},{\"attributes\":{},\"id\":\"1083\",\"type\":\"UnionRenderers\"},{\"attributes\":{\"months\":[0,4,8]},\"id\":\"1218\",\"type\":\"MonthsTicker\"},{\"attributes\":{},\"id\":\"1165\",\"type\":\"YearsTicker\"},{\"attributes\":{},\"id\":\"1022\",\"type\":\"PanTool\"},{\"attributes\":{\"months\":[0,6]},\"id\":\"1219\",\"type\":\"MonthsTicker\"},{\"attributes\":{\"items\":[{\"id\":\"1167\",\"type\":\"LegendItem\"}],\"location\":\"top_left\"},\"id\":\"1166\",\"type\":\"Legend\"},{\"attributes\":{},\"id\":\"1084\",\"type\":\"Selection\"},{\"attributes\":{\"label\":{\"value\":\"DNI\"},\"renderers\":[{\"id\":\"1062\",\"type\":\"GlyphRenderer\"}]},\"id\":\"1085\",\"type\":\"LegendItem\"},{\"attributes\":{},\"id\":\"1220\",\"type\":\"YearsTicker\"},{\"attributes\":{\"label\":{\"value\":\"Air temperature\"},\"renderers\":[{\"id\":\"1145\",\"type\":\"GlyphRenderer\"}]},\"id\":\"1167\",\"type\":\"LegendItem\"},{\"attributes\":{\"dimensions\":\"width\"},\"id\":\"1133\",\"type\":\"WheelZoomTool\"},{\"attributes\":{\"items\":[{\"id\":\"1222\",\"type\":\"LegendItem\"}],\"location\":\"top_left\"},\"id\":\"1221\",\"type\":\"Legend\"},{\"attributes\":{\"bottom_units\":\"screen\",\"fill_alpha\":{\"value\":0.5},\"fill_color\":{\"value\":\"lightgrey\"},\"left_units\":\"screen\",\"level\":\"overlay\",\"line_alpha\":{\"value\":1.0},\"line_color\":{\"value\":\"black\"},\"line_dash\":[4,4],\"line_width\":{\"value\":2},\"render_mode\":\"css\",\"right_units\":\"screen\",\"top_units\":\"screen\"},\"id\":\"1208\",\"type\":\"BoxAnnotation\"},{\"attributes\":{\"line_color\":\"#2ca02c\",\"line_width\":2,\"x\":{\"field\":\"index\"},\"y\":{\"field\":\"DHI\"}},\"id\":\"1087\",\"type\":\"Line\"},{\"attributes\":{\"children\":[[{\"id\":\"1003\",\"subtype\":\"Figure\",\"type\":\"Plot\"},0,0],[{\"id\":\"1113\",\"subtype\":\"Figure\",\"type\":\"Plot\"},1,0],[{\"id\":\"1168\",\"subtype\":\"Figure\",\"type\":\"Plot\"},2,0]]},\"id\":\"1289\",\"type\":\"GridBox\"}],\"root_ids\":[\"1292\"]},\"title\":\"Bokeh Application\",\"version\":\"1.2.0\"}};\n",
       "  var render_items = [{\"docid\":\"c479b105-686d-464f-8580-0f251d00eab4\",\"roots\":{\"1292\":\"19ebbf59-7259-4a3e-a40f-8348a56f87fc\"}}];\n",
       "  root.Bokeh.embed.embed_items_notebook(docs_json, render_items);\n",
       "\n",
       "  }\n",
       "  if (root.Bokeh !== undefined) {\n",
       "    embed_document(root);\n",
       "  } else {\n",
       "    var attempts = 0;\n",
       "    var timer = setInterval(function(root) {\n",
       "      if (root.Bokeh !== undefined) {\n",
       "        embed_document(root);\n",
       "        clearInterval(timer);\n",
       "      }\n",
       "      attempts++;\n",
       "      if (attempts > 100) {\n",
       "        console.log(\"Bokeh: ERROR: Unable to run BokehJS code because BokehJS library is missing\");\n",
       "        clearInterval(timer);\n",
       "      }\n",
       "    }, 10, root)\n",
       "  }\n",
       "})(window);"
      ],
      "application/vnd.bokehjs_exec.v0+json": ""
     },
     "metadata": {
      "application/vnd.bokehjs_exec.v0+json": {
       "id": "1292"
      }
     },
     "output_type": "display_data"
    }
   ],
   "source": [
    "# import the relevant python modules\n",
    "from solarforecastarbiter.reference_forecasts import main, models\n",
    "\n",
    "# select the model\n",
    "model = models.hrrr_subhourly_to_subhourly_instantaneous\n",
    "\n",
    "# tell the model where to find the NWP data\n",
    "model_wrapped = partial(model, load_forecast=load_forecast)\n",
    "\n",
    "# load and process the NWP data. ac_power is None because site is not a power plant.\n",
    "ghi, dni, dhi, air_temperature, wind_speed, ac_power = main.run(site, model_wrapped, init_time, start, end)\n",
    "\n",
    "# plotting details...\n",
    "data = dict(zip(('GHI', 'DNI', 'DHI', 'Air temperature', 'Wind speed', 'index'),\n",
    "                (ghi, dni, dhi, air_temperature, wind_speed, ghi.index)))\n",
    "source = ColumnDataSource(data)\n",
    "\n",
    "fig_kwargs = dict(tools=TOOLS, x_axis_type=\"datetime\", plot_height=200)\n",
    "palette = iter(PALETTE)\n",
    "fig1 = figure(**fig_kwargs)\n",
    "for name in ('GHI', 'DNI', 'DHI'):\n",
    "    fig1.line(x='index', y=name, source=source, legend=value(name), color=next(palette), line_width=2)\n",
    "fig1.yaxis.axis_label = \"Irradiance (W/m^2)\"\n",
    "fig1.legend.location = \"top_left\"\n",
    "\n",
    "fig_kwargs['x_range'] = fig1.x_range  # link x-zoom\n",
    "fig2 = figure(**fig_kwargs)\n",
    "fig2.line(x='index', y='Air temperature', source=source, legend=value(\"Air temperature\"), color=next(palette), line_width=2)\n",
    "fig2.yaxis.axis_label = \"Air temperature (C)\"\n",
    "fig2.legend.location = \"top_left\"\n",
    "\n",
    "fig3 = figure(**fig_kwargs)\n",
    "fig3.line(x='index', y='Wind speed', source=source, legend=value(\"Wind speed\"), color=next(palette), line_width=2)\n",
    "fig3.yaxis.axis_label = \"Wind speed (m/s)\"\n",
    "fig3.legend.location = \"top_left\"\n",
    "\n",
    "grid = gridplot([fig1, fig2, fig3], ncols=1, plot_width=800)\n",
    "\n",
    "show(grid)"
   ]
  },
  {
   "cell_type": "markdown",
   "metadata": {},
   "source": [
    "The Solar Forecast Arbiter includes processing functions derive GHI from a NWP model's cloud cover forecast and estimate the DNI and DHI using the [Erbs model](https://pvlib-python.readthedocs.io/en/stable/generated/pvlib.irradiance.erbs.html?highlight=erbs). These functions are applied to data from the GFS, NAM, and RAP weather models. \n",
    "\n",
    "For example, GFS data is processed as follows:\n",
    "\n",
    "1. Load time series forecast of cloud cover, air temperature, and wind speed from gridded data.\n",
    "2. Convert mixed interval cloud cover in raw data into standard intervals.\n",
    "2. Interpolate cloud cover, air temperature, wind speed to 5 minute resolution to minimize errors due to solar position.\n",
    "2. Compute GHI from cloud cover.\n",
    "2. Compute DNI and DHI from GHI.\n",
    "2. If desired, calculate AC power.\n",
    "2. Resample 5 minute data to 1 hour data.\n",
    "\n",
    "See the `models` [documentation](https://solarforecastarbiter-core.readthedocs.io/en/latest/generated/solarforecastarbiter.reference_forecasts.models.html#module-solarforecastarbiter.reference_forecasts.models) for more explanation."
   ]
  },
  {
   "cell_type": "code",
   "execution_count": 7,
   "metadata": {},
   "outputs": [
    {
     "data": {
      "text/html": [
       "\n",
       "\n",
       "\n",
       "\n",
       "\n",
       "\n",
       "  <div class=\"bk-root\" id=\"f9ef265c-046f-4a37-bbfc-29ab7adead5c\" data-root-id=\"2000\"></div>\n"
      ]
     },
     "metadata": {},
     "output_type": "display_data"
    },
    {
     "data": {
      "application/javascript": [
       "(function(root) {\n",
       "  function embed_document(root) {\n",
       "    \n",
       "  var docs_json = {\"e8397c26-ed23-47e7-8803-8c00e3319dd7\":{\"roots\":{\"references\":[{\"attributes\":{\"children\":[{\"id\":\"1999\",\"type\":\"ToolbarBox\"},{\"id\":\"1997\",\"type\":\"GridBox\"}]},\"id\":\"2000\",\"type\":\"Column\"},{\"attributes\":{\"months\":[0,2,4,6,8,10]},\"id\":\"1870\",\"type\":\"MonthsTicker\"},{\"attributes\":{\"callback\":null},\"id\":\"1878\",\"type\":\"DataRange1d\"},{\"attributes\":{},\"id\":\"1880\",\"type\":\"LinearScale\"},{\"attributes\":{},\"id\":\"1882\",\"type\":\"LinearScale\"},{\"attributes\":{\"formatter\":{\"id\":\"1915\",\"type\":\"DatetimeTickFormatter\"},\"ticker\":{\"id\":\"1885\",\"type\":\"DatetimeTicker\"}},\"id\":\"1884\",\"type\":\"DatetimeAxis\"},{\"attributes\":{\"days\":[1,15]},\"id\":\"1868\",\"type\":\"DaysTicker\"},{\"attributes\":{\"days\":[1,2,3,4,5,6,7,8,9,10,11,12,13,14,15,16,17,18,19,20,21,22,23,24,25,26,27,28,29,30,31]},\"id\":\"1756\",\"type\":\"DaysTicker\"},{\"attributes\":{\"num_minor_ticks\":5,\"tickers\":[{\"id\":\"1917\",\"type\":\"AdaptiveTicker\"},{\"id\":\"1918\",\"type\":\"AdaptiveTicker\"},{\"id\":\"1919\",\"type\":\"AdaptiveTicker\"},{\"id\":\"1920\",\"type\":\"DaysTicker\"},{\"id\":\"1921\",\"type\":\"DaysTicker\"},{\"id\":\"1922\",\"type\":\"DaysTicker\"},{\"id\":\"1923\",\"type\":\"DaysTicker\"},{\"id\":\"1924\",\"type\":\"MonthsTicker\"},{\"id\":\"1925\",\"type\":\"MonthsTicker\"},{\"id\":\"1926\",\"type\":\"MonthsTicker\"},{\"id\":\"1927\",\"type\":\"MonthsTicker\"},{\"id\":\"1928\",\"type\":\"YearsTicker\"}]},\"id\":\"1885\",\"type\":\"DatetimeTicker\"},{\"attributes\":{\"months\":[0,1,2,3,4,5,6,7,8,9,10,11]},\"id\":\"1869\",\"type\":\"MonthsTicker\"},{\"attributes\":{\"ticker\":{\"id\":\"1885\",\"type\":\"DatetimeTicker\"}},\"id\":\"1888\",\"type\":\"Grid\"},{\"attributes\":{\"days\":[1,15]},\"id\":\"1759\",\"type\":\"DaysTicker\"},{\"attributes\":{\"days\":[1,2,3,4,5,6,7,8,9,10,11,12,13,14,15,16,17,18,19,20,21,22,23,24,25,26,27,28,29,30,31]},\"id\":\"1865\",\"type\":\"DaysTicker\"},{\"attributes\":{\"active_drag\":\"auto\",\"active_inspect\":\"auto\",\"active_multi\":null,\"active_scroll\":\"auto\",\"active_tap\":\"auto\",\"tools\":[{\"id\":\"1839\",\"type\":\"PanTool\"},{\"id\":\"1840\",\"type\":\"BoxZoomTool\"},{\"id\":\"1841\",\"type\":\"WheelZoomTool\"},{\"id\":\"1842\",\"type\":\"ResetTool\"},{\"id\":\"1843\",\"type\":\"SaveTool\"}]},\"id\":\"1844\",\"type\":\"Toolbar\"},{\"attributes\":{\"axis_label\":\"Wind speed (m/s)\",\"formatter\":{\"id\":\"1913\",\"type\":\"BasicTickFormatter\"},\"ticker\":{\"id\":\"1890\",\"type\":\"BasicTicker\"}},\"id\":\"1889\",\"type\":\"LinearAxis\"},{\"attributes\":{\"base\":60,\"mantissas\":[1,2,5,10,15,20,30],\"max_interval\":1800000.0,\"min_interval\":1000.0,\"num_minor_ticks\":0},\"id\":\"1863\",\"type\":\"AdaptiveTicker\"},{\"attributes\":{},\"id\":\"1890\",\"type\":\"BasicTicker\"},{\"attributes\":{\"base\":60,\"mantissas\":[1,2,5,10,15,20,30],\"max_interval\":1800000.0,\"min_interval\":1000.0,\"num_minor_ticks\":0},\"id\":\"1754\",\"type\":\"AdaptiveTicker\"},{\"attributes\":{\"base\":24,\"mantissas\":[1,2,4,6,8,12],\"max_interval\":43200000.0,\"min_interval\":3600000.0,\"num_minor_ticks\":0},\"id\":\"1864\",\"type\":\"AdaptiveTicker\"},{\"attributes\":{\"dimension\":1,\"ticker\":{\"id\":\"1890\",\"type\":\"BasicTicker\"}},\"id\":\"1893\",\"type\":\"Grid\"},{\"attributes\":{},\"id\":\"1858\",\"type\":\"BasicTickFormatter\"},{\"attributes\":{\"below\":[{\"id\":\"1884\",\"type\":\"DatetimeAxis\"}],\"center\":[{\"id\":\"1888\",\"type\":\"Grid\"},{\"id\":\"1893\",\"type\":\"Grid\"},{\"id\":\"1929\",\"type\":\"Legend\"}],\"left\":[{\"id\":\"1889\",\"type\":\"LinearAxis\"}],\"plot_height\":200,\"plot_width\":800,\"renderers\":[{\"id\":\"1908\",\"type\":\"GlyphRenderer\"}],\"title\":{\"id\":\"1910\",\"type\":\"Title\"},\"toolbar\":{\"id\":\"1899\",\"type\":\"Toolbar\"},\"toolbar_location\":null,\"x_range\":{\"id\":\"1712\",\"type\":\"DataRange1d\"},\"x_scale\":{\"id\":\"1880\",\"type\":\"LinearScale\"},\"y_range\":{\"id\":\"1878\",\"type\":\"DataRange1d\"},\"y_scale\":{\"id\":\"1882\",\"type\":\"LinearScale\"}},\"id\":\"1876\",\"subtype\":\"Figure\",\"type\":\"Plot\"},{\"attributes\":{},\"id\":\"1860\",\"type\":\"DatetimeTickFormatter\"},{\"attributes\":{\"line_color\":\"#9467bd\",\"line_width\":2,\"x\":{\"field\":\"index\"},\"y\":{\"field\":\"Wind speed\"}},\"id\":\"1906\",\"type\":\"Line\"},{\"attributes\":{\"label\":{\"value\":\"DNI\"},\"renderers\":[{\"id\":\"1770\",\"type\":\"GlyphRenderer\"}]},\"id\":\"1793\",\"type\":\"LegendItem\"},{\"attributes\":{\"days\":[1,4,7,10,13,16,19,22,25,28]},\"id\":\"1866\",\"type\":\"DaysTicker\"},{\"attributes\":{\"base\":60,\"mantissas\":[1,2,5,10,15,20,30],\"max_interval\":1800000.0,\"min_interval\":1000.0,\"num_minor_ticks\":0},\"id\":\"1918\",\"type\":\"AdaptiveTicker\"},{\"attributes\":{\"children\":[[{\"id\":\"1711\",\"subtype\":\"Figure\",\"type\":\"Plot\"},0,0],[{\"id\":\"1821\",\"subtype\":\"Figure\",\"type\":\"Plot\"},1,0],[{\"id\":\"1876\",\"subtype\":\"Figure\",\"type\":\"Plot\"},2,0]]},\"id\":\"1997\",\"type\":\"GridBox\"},{\"attributes\":{},\"id\":\"1791\",\"type\":\"UnionRenderers\"},{\"attributes\":{\"active_drag\":\"auto\",\"active_inspect\":\"auto\",\"active_multi\":null,\"active_scroll\":\"auto\",\"active_tap\":\"auto\",\"tools\":[{\"id\":\"1894\",\"type\":\"PanTool\"},{\"id\":\"1895\",\"type\":\"BoxZoomTool\"},{\"id\":\"1896\",\"type\":\"WheelZoomTool\"},{\"id\":\"1897\",\"type\":\"ResetTool\"},{\"id\":\"1898\",\"type\":\"SaveTool\"}]},\"id\":\"1899\",\"type\":\"Toolbar\"},{\"attributes\":{\"days\":[1,8,15,22]},\"id\":\"1867\",\"type\":\"DaysTicker\"},{\"attributes\":{},\"id\":\"1894\",\"type\":\"PanTool\"},{\"attributes\":{\"dimension\":1,\"ticker\":{\"id\":\"1835\",\"type\":\"BasicTicker\"}},\"id\":\"1838\",\"type\":\"Grid\"},{\"attributes\":{\"months\":[0,2,4,6,8,10]},\"id\":\"1761\",\"type\":\"MonthsTicker\"},{\"attributes\":{\"overlay\":{\"id\":\"1916\",\"type\":\"BoxAnnotation\"}},\"id\":\"1895\",\"type\":\"BoxZoomTool\"},{\"attributes\":{\"line_color\":\"#2ca02c\",\"line_width\":2,\"x\":{\"field\":\"index\"},\"y\":{\"field\":\"DHI\"}},\"id\":\"1795\",\"type\":\"Line\"},{\"attributes\":{\"dimensions\":\"width\"},\"id\":\"1841\",\"type\":\"WheelZoomTool\"},{\"attributes\":{\"line_alpha\":0.1,\"line_color\":\"#1f77b4\",\"line_width\":2,\"x\":{\"field\":\"index\"},\"y\":{\"field\":\"DHI\"}},\"id\":\"1796\",\"type\":\"Line\"},{\"attributes\":{\"dimensions\":\"width\"},\"id\":\"1896\",\"type\":\"WheelZoomTool\"},{\"attributes\":{\"axis_label\":\"Air temperature (C)\",\"formatter\":{\"id\":\"1858\",\"type\":\"BasicTickFormatter\"},\"ticker\":{\"id\":\"1835\",\"type\":\"BasicTicker\"}},\"id\":\"1834\",\"type\":\"LinearAxis\"},{\"attributes\":{},\"id\":\"1716\",\"type\":\"LinearScale\"},{\"attributes\":{\"bottom_units\":\"screen\",\"fill_alpha\":{\"value\":0.5},\"fill_color\":{\"value\":\"lightgrey\"},\"left_units\":\"screen\",\"level\":\"overlay\",\"line_alpha\":{\"value\":1.0},\"line_color\":{\"value\":\"black\"},\"line_dash\":[4,4],\"line_width\":{\"value\":2},\"render_mode\":\"css\",\"right_units\":\"screen\",\"top_units\":\"screen\"},\"id\":\"1861\",\"type\":\"BoxAnnotation\"},{\"attributes\":{},\"id\":\"1897\",\"type\":\"ResetTool\"},{\"attributes\":{\"mantissas\":[1,2,5],\"max_interval\":500.0,\"num_minor_ticks\":0},\"id\":\"1862\",\"type\":\"AdaptiveTicker\"},{\"attributes\":{},\"id\":\"1898\",\"type\":\"SaveTool\"},{\"attributes\":{\"formatter\":{\"id\":\"1751\",\"type\":\"DatetimeTickFormatter\"},\"ticker\":{\"id\":\"1721\",\"type\":\"DatetimeTicker\"}},\"id\":\"1720\",\"type\":\"DatetimeAxis\"},{\"attributes\":{\"line_alpha\":0.1,\"line_color\":\"#1f77b4\",\"line_width\":2,\"x\":{\"field\":\"index\"},\"y\":{\"field\":\"DNI\"}},\"id\":\"1769\",\"type\":\"Line\"},{\"attributes\":{},\"id\":\"1835\",\"type\":\"BasicTicker\"},{\"attributes\":{\"line_alpha\":0.1,\"line_color\":\"#1f77b4\",\"line_width\":2,\"x\":{\"field\":\"index\"},\"y\":{\"field\":\"Wind speed\"}},\"id\":\"1907\",\"type\":\"Line\"},{\"attributes\":{\"months\":[0,1,2,3,4,5,6,7,8,9,10,11]},\"id\":\"1760\",\"type\":\"MonthsTicker\"},{\"attributes\":{\"base\":24,\"mantissas\":[1,2,4,6,8,12],\"max_interval\":43200000.0,\"min_interval\":3600000.0,\"num_minor_ticks\":0},\"id\":\"1755\",\"type\":\"AdaptiveTicker\"},{\"attributes\":{\"data_source\":{\"id\":\"1710\",\"type\":\"ColumnDataSource\"},\"glyph\":{\"id\":\"1795\",\"type\":\"Line\"},\"hover_glyph\":null,\"muted_glyph\":null,\"nonselection_glyph\":{\"id\":\"1796\",\"type\":\"Line\"},\"selection_glyph\":null,\"view\":{\"id\":\"1798\",\"type\":\"CDSView\"}},\"id\":\"1797\",\"type\":\"GlyphRenderer\"},{\"attributes\":{\"data_source\":{\"id\":\"1710\",\"type\":\"ColumnDataSource\"},\"glyph\":{\"id\":\"1906\",\"type\":\"Line\"},\"hover_glyph\":null,\"muted_glyph\":null,\"nonselection_glyph\":{\"id\":\"1907\",\"type\":\"Line\"},\"selection_glyph\":null,\"view\":{\"id\":\"1909\",\"type\":\"CDSView\"}},\"id\":\"1908\",\"type\":\"GlyphRenderer\"},{\"attributes\":{},\"id\":\"1842\",\"type\":\"ResetTool\"},{\"attributes\":{\"source\":{\"id\":\"1710\",\"type\":\"ColumnDataSource\"}},\"id\":\"1798\",\"type\":\"CDSView\"},{\"attributes\":{\"line_alpha\":0.1,\"line_color\":\"#1f77b4\",\"line_width\":2,\"x\":{\"field\":\"index\"},\"y\":{\"field\":\"Air temperature\"}},\"id\":\"1852\",\"type\":\"Line\"},{\"attributes\":{\"source\":{\"id\":\"1710\",\"type\":\"ColumnDataSource\"}},\"id\":\"1909\",\"type\":\"CDSView\"},{\"attributes\":{\"items\":[{\"id\":\"1766\",\"type\":\"LegendItem\"},{\"id\":\"1793\",\"type\":\"LegendItem\"},{\"id\":\"1820\",\"type\":\"LegendItem\"}],\"location\":\"top_left\"},\"id\":\"1765\",\"type\":\"Legend\"},{\"attributes\":{\"text\":\"\"},\"id\":\"1910\",\"type\":\"Title\"},{\"attributes\":{\"days\":[1,4,7,10,13,16,19,22,25,28]},\"id\":\"1757\",\"type\":\"DaysTicker\"},{\"attributes\":{},\"id\":\"1873\",\"type\":\"YearsTicker\"},{\"attributes\":{\"data_source\":{\"id\":\"1710\",\"type\":\"ColumnDataSource\"},\"glyph\":{\"id\":\"1851\",\"type\":\"Line\"},\"hover_glyph\":null,\"muted_glyph\":null,\"nonselection_glyph\":{\"id\":\"1852\",\"type\":\"Line\"},\"selection_glyph\":null,\"view\":{\"id\":\"1854\",\"type\":\"CDSView\"}},\"id\":\"1853\",\"type\":\"GlyphRenderer\"},{\"attributes\":{},\"id\":\"1913\",\"type\":\"BasicTickFormatter\"},{\"attributes\":{\"mantissas\":[1,2,5],\"max_interval\":500.0,\"num_minor_ticks\":0},\"id\":\"1753\",\"type\":\"AdaptiveTicker\"},{\"attributes\":{\"items\":[{\"id\":\"1875\",\"type\":\"LegendItem\"}],\"location\":\"top_left\"},\"id\":\"1874\",\"type\":\"Legend\"},{\"attributes\":{},\"id\":\"1843\",\"type\":\"SaveTool\"},{\"attributes\":{},\"id\":\"1915\",\"type\":\"DatetimeTickFormatter\"},{\"attributes\":{},\"id\":\"1764\",\"type\":\"YearsTicker\"},{\"attributes\":{\"bottom_units\":\"screen\",\"fill_alpha\":{\"value\":0.5},\"fill_color\":{\"value\":\"lightgrey\"},\"left_units\":\"screen\",\"level\":\"overlay\",\"line_alpha\":{\"value\":1.0},\"line_color\":{\"value\":\"black\"},\"line_dash\":[4,4],\"line_width\":{\"value\":2},\"render_mode\":\"css\",\"right_units\":\"screen\",\"top_units\":\"screen\"},\"id\":\"1916\",\"type\":\"BoxAnnotation\"},{\"attributes\":{\"label\":{\"value\":\"DHI\"},\"renderers\":[{\"id\":\"1797\",\"type\":\"GlyphRenderer\"}]},\"id\":\"1820\",\"type\":\"LegendItem\"},{\"attributes\":{\"source\":{\"id\":\"1710\",\"type\":\"ColumnDataSource\"}},\"id\":\"1854\",\"type\":\"CDSView\"},{\"attributes\":{\"callback\":null},\"id\":\"1823\",\"type\":\"DataRange1d\"},{\"attributes\":{},\"id\":\"1839\",\"type\":\"PanTool\"},{\"attributes\":{\"label\":{\"value\":\"GHI\"},\"renderers\":[{\"id\":\"1744\",\"type\":\"GlyphRenderer\"}]},\"id\":\"1766\",\"type\":\"LegendItem\"},{\"attributes\":{\"base\":24,\"mantissas\":[1,2,4,6,8,12],\"max_interval\":43200000.0,\"min_interval\":3600000.0,\"num_minor_ticks\":0},\"id\":\"1919\",\"type\":\"AdaptiveTicker\"},{\"attributes\":{\"formatter\":{\"id\":\"1860\",\"type\":\"DatetimeTickFormatter\"},\"ticker\":{\"id\":\"1830\",\"type\":\"DatetimeTicker\"}},\"id\":\"1829\",\"type\":\"DatetimeAxis\"},{\"attributes\":{\"days\":[1,2,3,4,5,6,7,8,9,10,11,12,13,14,15,16,17,18,19,20,21,22,23,24,25,26,27,28,29,30,31]},\"id\":\"1920\",\"type\":\"DaysTicker\"},{\"attributes\":{\"label\":{\"value\":\"Air temperature\"},\"renderers\":[{\"id\":\"1853\",\"type\":\"GlyphRenderer\"}]},\"id\":\"1875\",\"type\":\"LegendItem\"},{\"attributes\":{\"days\":[1,4,7,10,13,16,19,22,25,28]},\"id\":\"1921\",\"type\":\"DaysTicker\"},{\"attributes\":{\"line_color\":\"#ff7f0e\",\"line_width\":2,\"x\":{\"field\":\"index\"},\"y\":{\"field\":\"DNI\"}},\"id\":\"1768\",\"type\":\"Line\"},{\"attributes\":{\"mantissas\":[1,2,5],\"max_interval\":500.0,\"num_minor_ticks\":0},\"id\":\"1917\",\"type\":\"AdaptiveTicker\"},{\"attributes\":{\"num_minor_ticks\":5,\"tickers\":[{\"id\":\"1862\",\"type\":\"AdaptiveTicker\"},{\"id\":\"1863\",\"type\":\"AdaptiveTicker\"},{\"id\":\"1864\",\"type\":\"AdaptiveTicker\"},{\"id\":\"1865\",\"type\":\"DaysTicker\"},{\"id\":\"1866\",\"type\":\"DaysTicker\"},{\"id\":\"1867\",\"type\":\"DaysTicker\"},{\"id\":\"1868\",\"type\":\"DaysTicker\"},{\"id\":\"1869\",\"type\":\"MonthsTicker\"},{\"id\":\"1870\",\"type\":\"MonthsTicker\"},{\"id\":\"1871\",\"type\":\"MonthsTicker\"},{\"id\":\"1872\",\"type\":\"MonthsTicker\"},{\"id\":\"1873\",\"type\":\"YearsTicker\"}]},\"id\":\"1830\",\"type\":\"DatetimeTicker\"},{\"attributes\":{\"months\":[0,4,8]},\"id\":\"1762\",\"type\":\"MonthsTicker\"},{\"attributes\":{\"days\":[1,8,15,22]},\"id\":\"1922\",\"type\":\"DaysTicker\"},{\"attributes\":{\"days\":[1,15]},\"id\":\"1923\",\"type\":\"DaysTicker\"},{\"attributes\":{},\"id\":\"1825\",\"type\":\"LinearScale\"},{\"attributes\":{\"overlay\":{\"id\":\"1861\",\"type\":\"BoxAnnotation\"}},\"id\":\"1840\",\"type\":\"BoxZoomTool\"},{\"attributes\":{\"months\":[0,1,2,3,4,5,6,7,8,9,10,11]},\"id\":\"1924\",\"type\":\"MonthsTicker\"},{\"attributes\":{\"data_source\":{\"id\":\"1710\",\"type\":\"ColumnDataSource\"},\"glyph\":{\"id\":\"1768\",\"type\":\"Line\"},\"hover_glyph\":null,\"muted_glyph\":null,\"nonselection_glyph\":{\"id\":\"1769\",\"type\":\"Line\"},\"selection_glyph\":null,\"view\":{\"id\":\"1771\",\"type\":\"CDSView\"}},\"id\":\"1770\",\"type\":\"GlyphRenderer\"},{\"attributes\":{},\"id\":\"1718\",\"type\":\"LinearScale\"},{\"attributes\":{\"text\":\"\"},\"id\":\"1855\",\"type\":\"Title\"},{\"attributes\":{\"months\":[0,2,4,6,8,10]},\"id\":\"1925\",\"type\":\"MonthsTicker\"},{\"attributes\":{},\"id\":\"1827\",\"type\":\"LinearScale\"},{\"attributes\":{\"months\":[0,4,8]},\"id\":\"1926\",\"type\":\"MonthsTicker\"},{\"attributes\":{\"ticker\":{\"id\":\"1830\",\"type\":\"DatetimeTicker\"}},\"id\":\"1833\",\"type\":\"Grid\"},{\"attributes\":{\"months\":[0,6]},\"id\":\"1927\",\"type\":\"MonthsTicker\"},{\"attributes\":{\"source\":{\"id\":\"1710\",\"type\":\"ColumnDataSource\"}},\"id\":\"1771\",\"type\":\"CDSView\"},{\"attributes\":{},\"id\":\"1928\",\"type\":\"YearsTicker\"},{\"attributes\":{\"line_color\":\"#d62728\",\"line_width\":2,\"x\":{\"field\":\"index\"},\"y\":{\"field\":\"Air temperature\"}},\"id\":\"1851\",\"type\":\"Line\"},{\"attributes\":{\"items\":[{\"id\":\"1930\",\"type\":\"LegendItem\"}],\"location\":\"top_left\"},\"id\":\"1929\",\"type\":\"Legend\"},{\"attributes\":{\"num_minor_ticks\":5,\"tickers\":[{\"id\":\"1753\",\"type\":\"AdaptiveTicker\"},{\"id\":\"1754\",\"type\":\"AdaptiveTicker\"},{\"id\":\"1755\",\"type\":\"AdaptiveTicker\"},{\"id\":\"1756\",\"type\":\"DaysTicker\"},{\"id\":\"1757\",\"type\":\"DaysTicker\"},{\"id\":\"1758\",\"type\":\"DaysTicker\"},{\"id\":\"1759\",\"type\":\"DaysTicker\"},{\"id\":\"1760\",\"type\":\"MonthsTicker\"},{\"id\":\"1761\",\"type\":\"MonthsTicker\"},{\"id\":\"1762\",\"type\":\"MonthsTicker\"},{\"id\":\"1763\",\"type\":\"MonthsTicker\"},{\"id\":\"1764\",\"type\":\"YearsTicker\"}]},\"id\":\"1721\",\"type\":\"DatetimeTicker\"},{\"attributes\":{\"days\":[1,8,15,22]},\"id\":\"1758\",\"type\":\"DaysTicker\"},{\"attributes\":{\"months\":[0,4,8]},\"id\":\"1871\",\"type\":\"MonthsTicker\"},{\"attributes\":{\"label\":{\"value\":\"Wind speed\"},\"renderers\":[{\"id\":\"1908\",\"type\":\"GlyphRenderer\"}]},\"id\":\"1930\",\"type\":\"LegendItem\"},{\"attributes\":{\"months\":[0,6]},\"id\":\"1763\",\"type\":\"MonthsTicker\"},{\"attributes\":{\"months\":[0,6]},\"id\":\"1872\",\"type\":\"MonthsTicker\"},{\"attributes\":{\"tools\":[{\"id\":\"1730\",\"type\":\"PanTool\"},{\"id\":\"1731\",\"type\":\"BoxZoomTool\"},{\"id\":\"1732\",\"type\":\"WheelZoomTool\"},{\"id\":\"1733\",\"type\":\"ResetTool\"},{\"id\":\"1734\",\"type\":\"SaveTool\"},{\"id\":\"1839\",\"type\":\"PanTool\"},{\"id\":\"1840\",\"type\":\"BoxZoomTool\"},{\"id\":\"1841\",\"type\":\"WheelZoomTool\"},{\"id\":\"1842\",\"type\":\"ResetTool\"},{\"id\":\"1843\",\"type\":\"SaveTool\"},{\"id\":\"1894\",\"type\":\"PanTool\"},{\"id\":\"1895\",\"type\":\"BoxZoomTool\"},{\"id\":\"1896\",\"type\":\"WheelZoomTool\"},{\"id\":\"1897\",\"type\":\"ResetTool\"},{\"id\":\"1898\",\"type\":\"SaveTool\"}]},\"id\":\"1998\",\"type\":\"ProxyToolbar\"},{\"attributes\":{\"callback\":null,\"data\":{\"Air temperature\":{\"__ndarray__\":\"JSTcQXtrzEHQ+r9BJby3QSUisUHQ3KpBJWilQSWCoEHQ9ppBe/mTQdAYjUElOoxB0HSZQSVErEF7SbpBJYLJQXsF2UF7jeVBJUTuQdDE9EF7s/hBe0X5QSUa9UF7gexBeznfQXvNzkHQHMJB0DK5QdAKsEEl2qZBJaydQdBilEHQboxB0FqGQSXegkHQBoZB0FCWQSXqqkF7P7lBJS7FQSWs0EF7vdxBe3fmQdBW6UHQfuZBe3viQXtn20F7U9BBJcS/QXuHrEHQ/pxBJZ6SQdAmikHQEINBoBF6QUuQb0H1rmZB9a5eQaBtV0FLuFRBoK1dQfWObkGgTX9B0IaKQdAYmEHQHKVB0KavQdAWt0HQ6rdBe/+yQXvJrEHQfKhB\",\"dtype\":\"float32\",\"shape\":[72]},\"DHI\":{\"__ndarray__\":\"w1uNhTSiTkBUutISyBnfPwAAAAAAAAAAAAAAAAAAAAAAAAAAAAAAAAAAAAAAAAAAAAAAAAAAAAAAAAAAAAAAAAAAAAAAAAAAAAAAAAAAAAAAAAAAAAAAAPTRN/1X/xVAfqL6+rk9VEDrCvbY25NaQFjfRusFtVxAQW/3UxCOYEDJw5mHCANjQMsTgHaBx2RAZV5GFRsUaECBhQSvp/dzQPx7OFGnsHdASZaaTZ9qcUA0Psh3UqJrQJ5wBEyZJGRAwBT3RaVeTEDQs9FtDhjaPwAAAAAAAAAAAAAAAAAAAAAAAAAAAAAAAAAAAAAAAAAAAAAAAAAAAAAAAAAAAAAAAAAAAAAAAAAAAAAAAAAAAAAAAAAAAAAAACgZndj2cw1A2orgfjLbUUDQ6wsChYdkQCEDI4gGFG1AIEh7utWOcUDEfzRE7it1QKmlvaopjXVArMq9WM8jZUB8eL7Kip5kQAlIKtpXimJANUJGmRWFYED3lFtrdPljQCBOdKfRamNAGRXifdPsSECw02s8WlbaPwAAAAAAAAAAAAAAAAAAAAAAAAAAAAAAAAAAAAAAAAAAAAAAAAAAAAAAAAAAAAAAAAAAAAAAAAAAAAAAAAAAAAAAAAAAAAAAADV8UTCSSBhAH31ArmcmVUCBSE2EAYxgQIgtVCQtVW1A295mmnilcUDrgfzhKcxlQAedDrBAqGRAlyCMMMRTZUD/7VnlYXdkQHEhKdU4d2JAX2WcLDPzX0CYDjCyQwBcQLMlY3do01pA\",\"dtype\":\"float64\",\"shape\":[72]},\"DNI\":{\"__ndarray__\":\"cxq1DCfxV0AAAAAAAAAAAAAAAAAAAAAAAAAAAAAAAAAAAAAAAAAAAAAAAAAAAAAAAAAAAAAAAAAAAAAAAAAAAAAAAAAAAAAAAAAAAAAAAAAAAAAAAAAAAA3gd+opa/c/HPztYvsvbUBRz042cX+DQDFvOOP5qYhAD5CKBFOhikBDnb7gPGuLQKfUUdk0uotAyXnRdGiziEDFtd3i0Tt9QKuMaLlzEmRA9BbtNCNxO0DNg5sH3SlLQM3XHsbz22BAeB9yNjc5P0AAAAAAAAAAAAAAAAAAAAAAAAAAAAAAAAAAAAAAAAAAAAAAAAAAAAAAAAAAAAAAAAAAAAAAAAAAAAAAAAAAAAAAAAAAAAAAAAAAAAAAAAAAAKGV4rXZC+I/yXGAyb51LEC4IxsV5mA/QGvfwXZkTDpADzFPoc7YMUDFOAadvb82QIWi+xNBTXVAcBvz+DqYi0Dl+D4sUtGLQAtwxVUyeotAQWL9hBKdiUDtJycg/62BQJ+6q/nf92NAjX8oJ0flJkAAAAAAAAAAAAAAAAAAAAAAAAAAAAAAAAAAAAAAAAAAAAAAAAAAAAAAAAAAAAAAAAAAAAAAAAAAAAAAAAAAAAAAAAAAAAAAAAAAAAAAAAAAAMfoWaiGIP0/V7YnRMFhakA/HNfU/FF/QJH4M7vkMHZAZWaMPwCxd0ApWQG+HleIQKmCYk2GZItA1BKmZgHGi0D7R2Nx3KeLQOwMXMCkQ4tADHMAy7BJikDN07ZtlNaHQHy1geKSXIVA\",\"dtype\":\"float64\",\"shape\":[72]},\"GHI\":{\"__ndarray__\":\"HQ98uHkAVEBUutISyBnfPwAAAAAAAAAAAAAAAAAAAAAAAAAAAAAAAAAAAAAAAAAAAAAAAAAAAAAAAAAAAAAAAAAAAAAAAAAAAAAAAAAAAAAAAAAAAAAAAFXEgrTZdhZAAv+509T5YED5VLdoUq12QOgd8VvBSYJAWOrGOpdEiECvMGZj/suMQA3yWZetio9AU1ptSPT/jUABRVyBWruHQMLKOtM2LoBAVETFi1KwckB8vE7r7hlvQLQ0hXX8PmpAAPdQnrqBT0DQs9FtDhjaPwAAAAAAAAAAAAAAAAAAAAAAAAAAAAAAAAAAAAAAAAAAAAAAAAAAAAAAAAAAAAAAAAAAAAAAAAAAAAAAAAAAAAAAAAAAAAAAAPQJMj+syw1Anb9g+kaqUkDYtmN+8yZmQL+uJDsp/m5A7zJh9jhockBLfcfhqmt2QJeGLa+FA4VApP8ZehYMkEDX6ICNEj2PQCNNCOHhDIxA2K0jTr6bhkDYKtPLq+B9QImQDuoDNWtA1HQVh9sHSkCw02s8WlbaPwAAAAAAAAAAAAAAAAAAAAAAAAAAAAAAAAAAAAAAAAAAAAAAAAAAAAAAAAAAAAAAAAAAAAAAAAAAAAAAAAAAAAAAAAAAAAAAAEXO8POz3RhAZQrKX3fXYEBHA5RWlyd1QPdR+u0TjXtAX2KayPP+gUD97sZDXeKKQEcsUkP4Po9A7qA7kIErkEAdzxLAnhOPQHHpaIOC4ItAiCPXpKz4hkDt5wyf0LmAQAih+Oei8XlA\",\"dtype\":\"float64\",\"shape\":[72]},\"Wind speed\":{\"__ndarray__\":\"VRUWQFWVMUCrujNAABAdQFX1E0BVhQVAAGD4PwAwA0Cr6gVAAEDzPwCA0j+rSqs/q+qJPwDARz8AQEk/AADMP1WVMkBVtXJAq/KGQFV9jUAAiJ5Aq4K+QFXt3UAAiOhAANDPQADgpUAAyIxAq1p8QKvaYUCraj5AAIAPQFX1zz9VVaE/q2qLP1V1nD+rytQ/AJADQAAAHUBV/YJAVeXJQKu68kBVwQpBAPwZQVXFJkFVjTBBAAQ4QVUpPEEAqDZBq04fQQCw/0AASM5AVcWkQFUFg0AAEFxAVfVRQKtaUUCrCkpAq0o6QFUFLUCryitAADBQQFW9hUCr0pxAqzK6QKt63UCrkv9AVQENQQBUGUGrDiRBq74mQQDEI0EAICFB\",\"dtype\":\"float32\",\"shape\":[72]},\"index\":{\"__ndarray__\":\"AAAoDZCrdkIAABB8k6t2QgAA+OqWq3ZCAADgWZqrdkIAAMjInat2QgAAsDehq3ZCAACYpqSrdkIAAIAVqKt2QgAAaISrq3ZCAABQ866rdkIAADhisqt2QgAAING1q3ZCAAAIQLmrdkIAAPCuvKt2QgAA2B3Aq3ZCAADAjMOrdkIAAKj7xqt2QgAAkGrKq3ZCAAB42c2rdkIAAGBI0at2QgAASLfUq3ZCAAAwJtirdkIAABiV26t2QgAAAATfq3ZCAADocuKrdkIAANDh5at2QgAAuFDpq3ZCAACgv+yrdkIAAIgu8Kt2QgAAcJ3zq3ZCAABYDPerdkIAAEB7+qt2QgAAKOr9q3ZCAAAQWQGsdkIAAPjHBKx2QgAA4DYIrHZCAADIpQusdkIAALAUD6x2QgAAmIMSrHZCAACA8hWsdkIAAGhhGax2QgAAUNAcrHZCAAA4PyCsdkIAACCuI6x2QgAACB0nrHZCAADwiyqsdkIAANj6Lax2QgAAwGkxrHZCAACo2DSsdkIAAJBHOKx2QgAAeLY7rHZCAABgJT+sdkIAAEiUQqx2QgAAMANGrHZCAAAYckmsdkIAAADhTKx2QgAA6E9QrHZCAADQvlOsdkIAALgtV6x2QgAAoJxarHZCAACIC16sdkIAAHB6Yax2QgAAWOlkrHZCAABAWGisdkIAACjHa6x2QgAAEDZvrHZCAAD4pHKsdkIAAOATdqx2QgAAyIJ5rHZCAACw8XysdkIAAJhggKx2QgAAgM+DrHZC\",\"dtype\":\"float64\",\"shape\":[72]}},\"selected\":{\"id\":\"1792\",\"type\":\"Selection\"},\"selection_policy\":{\"id\":\"1791\",\"type\":\"UnionRenderers\"}},\"id\":\"1710\",\"type\":\"ColumnDataSource\"},{\"attributes\":{\"toolbar\":{\"id\":\"1998\",\"type\":\"ProxyToolbar\"},\"toolbar_location\":\"above\"},\"id\":\"1999\",\"type\":\"ToolbarBox\"},{\"attributes\":{\"ticker\":{\"id\":\"1721\",\"type\":\"DatetimeTicker\"}},\"id\":\"1724\",\"type\":\"Grid\"},{\"attributes\":{},\"id\":\"1792\",\"type\":\"Selection\"},{\"attributes\":{\"below\":[{\"id\":\"1829\",\"type\":\"DatetimeAxis\"}],\"center\":[{\"id\":\"1833\",\"type\":\"Grid\"},{\"id\":\"1838\",\"type\":\"Grid\"},{\"id\":\"1874\",\"type\":\"Legend\"}],\"left\":[{\"id\":\"1834\",\"type\":\"LinearAxis\"}],\"plot_height\":200,\"plot_width\":800,\"renderers\":[{\"id\":\"1853\",\"type\":\"GlyphRenderer\"}],\"title\":{\"id\":\"1855\",\"type\":\"Title\"},\"toolbar\":{\"id\":\"1844\",\"type\":\"Toolbar\"},\"toolbar_location\":null,\"x_range\":{\"id\":\"1712\",\"type\":\"DataRange1d\"},\"x_scale\":{\"id\":\"1825\",\"type\":\"LinearScale\"},\"y_range\":{\"id\":\"1823\",\"type\":\"DataRange1d\"},\"y_scale\":{\"id\":\"1827\",\"type\":\"LinearScale\"}},\"id\":\"1821\",\"subtype\":\"Figure\",\"type\":\"Plot\"},{\"attributes\":{},\"id\":\"1726\",\"type\":\"BasicTicker\"},{\"attributes\":{\"axis_label\":\"Irradiance (W/m^2)\",\"formatter\":{\"id\":\"1749\",\"type\":\"BasicTickFormatter\"},\"ticker\":{\"id\":\"1726\",\"type\":\"BasicTicker\"}},\"id\":\"1725\",\"type\":\"LinearAxis\"},{\"attributes\":{\"dimension\":1,\"ticker\":{\"id\":\"1726\",\"type\":\"BasicTicker\"}},\"id\":\"1729\",\"type\":\"Grid\"},{\"attributes\":{\"below\":[{\"id\":\"1720\",\"type\":\"DatetimeAxis\"}],\"center\":[{\"id\":\"1724\",\"type\":\"Grid\"},{\"id\":\"1729\",\"type\":\"Grid\"},{\"id\":\"1765\",\"type\":\"Legend\"}],\"left\":[{\"id\":\"1725\",\"type\":\"LinearAxis\"}],\"plot_height\":200,\"plot_width\":800,\"renderers\":[{\"id\":\"1744\",\"type\":\"GlyphRenderer\"},{\"id\":\"1770\",\"type\":\"GlyphRenderer\"},{\"id\":\"1797\",\"type\":\"GlyphRenderer\"}],\"title\":{\"id\":\"1746\",\"type\":\"Title\"},\"toolbar\":{\"id\":\"1735\",\"type\":\"Toolbar\"},\"toolbar_location\":null,\"x_range\":{\"id\":\"1712\",\"type\":\"DataRange1d\"},\"x_scale\":{\"id\":\"1716\",\"type\":\"LinearScale\"},\"y_range\":{\"id\":\"1714\",\"type\":\"DataRange1d\"},\"y_scale\":{\"id\":\"1718\",\"type\":\"LinearScale\"}},\"id\":\"1711\",\"subtype\":\"Figure\",\"type\":\"Plot\"},{\"attributes\":{\"line_color\":\"#1f77b4\",\"line_width\":2,\"x\":{\"field\":\"index\"},\"y\":{\"field\":\"GHI\"}},\"id\":\"1742\",\"type\":\"Line\"},{\"attributes\":{\"callback\":null},\"id\":\"1714\",\"type\":\"DataRange1d\"},{\"attributes\":{},\"id\":\"1749\",\"type\":\"BasicTickFormatter\"},{\"attributes\":{\"active_drag\":\"auto\",\"active_inspect\":\"auto\",\"active_multi\":null,\"active_scroll\":\"auto\",\"active_tap\":\"auto\",\"tools\":[{\"id\":\"1730\",\"type\":\"PanTool\"},{\"id\":\"1731\",\"type\":\"BoxZoomTool\"},{\"id\":\"1732\",\"type\":\"WheelZoomTool\"},{\"id\":\"1733\",\"type\":\"ResetTool\"},{\"id\":\"1734\",\"type\":\"SaveTool\"}]},\"id\":\"1735\",\"type\":\"Toolbar\"},{\"attributes\":{},\"id\":\"1730\",\"type\":\"PanTool\"},{\"attributes\":{\"overlay\":{\"id\":\"1752\",\"type\":\"BoxAnnotation\"}},\"id\":\"1731\",\"type\":\"BoxZoomTool\"},{\"attributes\":{\"dimensions\":\"width\"},\"id\":\"1732\",\"type\":\"WheelZoomTool\"},{\"attributes\":{},\"id\":\"1733\",\"type\":\"ResetTool\"},{\"attributes\":{},\"id\":\"1734\",\"type\":\"SaveTool\"},{\"attributes\":{\"line_alpha\":0.1,\"line_color\":\"#1f77b4\",\"line_width\":2,\"x\":{\"field\":\"index\"},\"y\":{\"field\":\"GHI\"}},\"id\":\"1743\",\"type\":\"Line\"},{\"attributes\":{\"data_source\":{\"id\":\"1710\",\"type\":\"ColumnDataSource\"},\"glyph\":{\"id\":\"1742\",\"type\":\"Line\"},\"hover_glyph\":null,\"muted_glyph\":null,\"nonselection_glyph\":{\"id\":\"1743\",\"type\":\"Line\"},\"selection_glyph\":null,\"view\":{\"id\":\"1745\",\"type\":\"CDSView\"}},\"id\":\"1744\",\"type\":\"GlyphRenderer\"},{\"attributes\":{\"text\":\"\"},\"id\":\"1746\",\"type\":\"Title\"},{\"attributes\":{\"source\":{\"id\":\"1710\",\"type\":\"ColumnDataSource\"}},\"id\":\"1745\",\"type\":\"CDSView\"},{\"attributes\":{},\"id\":\"1751\",\"type\":\"DatetimeTickFormatter\"},{\"attributes\":{\"callback\":null},\"id\":\"1712\",\"type\":\"DataRange1d\"},{\"attributes\":{\"bottom_units\":\"screen\",\"fill_alpha\":{\"value\":0.5},\"fill_color\":{\"value\":\"lightgrey\"},\"left_units\":\"screen\",\"level\":\"overlay\",\"line_alpha\":{\"value\":1.0},\"line_color\":{\"value\":\"black\"},\"line_dash\":[4,4],\"line_width\":{\"value\":2},\"render_mode\":\"css\",\"right_units\":\"screen\",\"top_units\":\"screen\"},\"id\":\"1752\",\"type\":\"BoxAnnotation\"}],\"root_ids\":[\"2000\"]},\"title\":\"Bokeh Application\",\"version\":\"1.2.0\"}};\n",
       "  var render_items = [{\"docid\":\"e8397c26-ed23-47e7-8803-8c00e3319dd7\",\"roots\":{\"2000\":\"f9ef265c-046f-4a37-bbfc-29ab7adead5c\"}}];\n",
       "  root.Bokeh.embed.embed_items_notebook(docs_json, render_items);\n",
       "\n",
       "  }\n",
       "  if (root.Bokeh !== undefined) {\n",
       "    embed_document(root);\n",
       "  } else {\n",
       "    var attempts = 0;\n",
       "    var timer = setInterval(function(root) {\n",
       "      if (root.Bokeh !== undefined) {\n",
       "        embed_document(root);\n",
       "        clearInterval(timer);\n",
       "      }\n",
       "      attempts++;\n",
       "      if (attempts > 100) {\n",
       "        console.log(\"Bokeh: ERROR: Unable to run BokehJS code because BokehJS library is missing\");\n",
       "        clearInterval(timer);\n",
       "      }\n",
       "    }, 10, root)\n",
       "  }\n",
       "})(window);"
      ],
      "application/vnd.bokehjs_exec.v0+json": ""
     },
     "metadata": {
      "application/vnd.bokehjs_exec.v0+json": {
       "id": "2000"
      }
     },
     "output_type": "display_data"
    }
   ],
   "source": [
    "# select the model\n",
    "model = models.gfs_quarter_deg_to_hourly_mean\n",
    "\n",
    "# tell the model where to find the NWP data\n",
    "model_wrapped = partial(model, load_forecast=load_forecast)\n",
    "\n",
    "# load and process the NWP data. ac_power is None because site is not a power plant.\n",
    "ghi, dni, dhi, air_temperature, wind_speed, ac_power = main.run(site, model_wrapped, init_time, start, end)\n",
    "\n",
    "# plotting details...\n",
    "data = dict(zip(('GHI', 'DNI', 'DHI', 'Air temperature', 'Wind speed', 'index'),\n",
    "                (ghi, dni, dhi, air_temperature, wind_speed, ghi.index)))\n",
    "source = ColumnDataSource(data)\n",
    "\n",
    "fig_kwargs = dict(tools=TOOLS, x_axis_type=\"datetime\", plot_height=200)\n",
    "palette = iter(PALETTE)\n",
    "fig1 = figure(**fig_kwargs)\n",
    "for name in ('GHI', 'DNI', 'DHI'):\n",
    "    fig1.line(x='index', y=name, source=source, legend=value(name), color=next(palette), line_width=2)\n",
    "fig1.yaxis.axis_label = \"Irradiance (W/m^2)\"\n",
    "fig1.legend.location = \"top_left\"\n",
    "\n",
    "fig_kwargs['x_range'] = fig1.x_range  # link x-zoom\n",
    "fig2 = figure(**fig_kwargs)\n",
    "fig2.line(x='index', y='Air temperature', source=source, legend=value(\"Air temperature\"), color=next(palette), line_width=2)\n",
    "fig2.yaxis.axis_label = \"Air temperature (C)\"\n",
    "fig2.legend.location = \"top_left\"\n",
    "\n",
    "fig3 = figure(**fig_kwargs)\n",
    "fig3.line(x='index', y='Wind speed', source=source, legend=value(\"Wind speed\"), color=next(palette), line_width=2)\n",
    "fig3.yaxis.axis_label = \"Wind speed (m/s)\"\n",
    "fig3.legend.location = \"top_left\"\n",
    "\n",
    "grid = gridplot([fig1, fig2, fig3], ncols=1, plot_width=800)\n",
    "\n",
    "show(grid)"
   ]
  },
  {
   "cell_type": "markdown",
   "metadata": {},
   "source": [
    "The forecast function will produce an AC power forecast if supplied with the appropriate metadata. Here we define a single axis tracker."
   ]
  },
  {
   "cell_type": "code",
   "execution_count": 8,
   "metadata": {},
   "outputs": [],
   "source": [
    "# define the modeling parameters\n",
    "modeling_parameters = datamodel.SingleAxisModelingParameters(\n",
    "    ac_capacity=10,  # always in MW\n",
    "    dc_capacity=13,\n",
    "    temperature_coefficient=-0.003,  # 1/C\n",
    "    dc_loss_factor=0,\n",
    "    ac_loss_factor=0,\n",
    "    axis_tilt=0,\n",
    "    axis_azimuth=0,\n",
    "    ground_coverage_ratio=0.4,\n",
    "    backtrack=True,\n",
    "    max_rotation_angle=50,\n",
    ")\n",
    "# define a SolarPowerPlant object\n",
    "plant = datamodel.SolarPowerPlant(\n",
    "    name='Tucson AZ Plant',\n",
    "    latitude=latitude,\n",
    "    longitude=longitude,\n",
    "    elevation=elevation,\n",
    "    timezone='America/Phoenix',\n",
    "    modeling_parameters=modeling_parameters\n",
    ")"
   ]
  },
  {
   "cell_type": "markdown",
   "metadata": {},
   "source": [
    "Now we run the same code as before to create a forecast from the GFS model."
   ]
  },
  {
   "cell_type": "code",
   "execution_count": 9,
   "metadata": {},
   "outputs": [
    {
     "data": {
      "text/html": [
       "\n",
       "\n",
       "\n",
       "\n",
       "\n",
       "\n",
       "  <div class=\"bk-root\" id=\"859a1918-0dca-4a88-890c-8ae288a0340c\" data-root-id=\"2844\"></div>\n"
      ]
     },
     "metadata": {},
     "output_type": "display_data"
    },
    {
     "data": {
      "application/javascript": [
       "(function(root) {\n",
       "  function embed_document(root) {\n",
       "    \n",
       "  var docs_json = {\"66664483-934b-472e-a388-1d064fe79c8d\":{\"roots\":{\"references\":[{\"attributes\":{\"children\":[{\"id\":\"2843\",\"type\":\"ToolbarBox\"},{\"id\":\"2841\",\"type\":\"GridBox\"}]},\"id\":\"2844\",\"type\":\"Column\"},{\"attributes\":{\"months\":[0,2,4,6,8,10]},\"id\":\"2747\",\"type\":\"MonthsTicker\"},{\"attributes\":{},\"id\":\"2695\",\"type\":\"YearsTicker\"},{\"attributes\":{\"months\":[0,4,8]},\"id\":\"2748\",\"type\":\"MonthsTicker\"},{\"attributes\":{\"label\":{\"value\":\"Wind speed\"},\"renderers\":[{\"id\":\"2675\",\"type\":\"GlyphRenderer\"}]},\"id\":\"2697\",\"type\":\"LegendItem\"},{\"attributes\":{\"months\":[0,6]},\"id\":\"2749\",\"type\":\"MonthsTicker\"},{\"attributes\":{\"children\":[[{\"id\":\"2478\",\"subtype\":\"Figure\",\"type\":\"Plot\"},0,0],[{\"id\":\"2588\",\"subtype\":\"Figure\",\"type\":\"Plot\"},1,0],[{\"id\":\"2643\",\"subtype\":\"Figure\",\"type\":\"Plot\"},2,0],[{\"id\":\"2698\",\"subtype\":\"Figure\",\"type\":\"Plot\"},3,0]]},\"id\":\"2841\",\"type\":\"GridBox\"},{\"attributes\":{\"months\":[0,2,4,6,8,10]},\"id\":\"2637\",\"type\":\"MonthsTicker\"},{\"attributes\":{},\"id\":\"2750\",\"type\":\"YearsTicker\"},{\"attributes\":{\"items\":[{\"id\":\"2752\",\"type\":\"LegendItem\"}],\"location\":\"top_left\"},\"id\":\"2751\",\"type\":\"Legend\"},{\"attributes\":{\"callback\":null},\"id\":\"2700\",\"type\":\"DataRange1d\"},{\"attributes\":{},\"id\":\"2702\",\"type\":\"LinearScale\"},{\"attributes\":{\"label\":{\"value\":\"AC power\"},\"renderers\":[{\"id\":\"2730\",\"type\":\"GlyphRenderer\"}]},\"id\":\"2752\",\"type\":\"LegendItem\"},{\"attributes\":{},\"id\":\"2704\",\"type\":\"LinearScale\"},{\"attributes\":{\"tools\":[{\"id\":\"2497\",\"type\":\"PanTool\"},{\"id\":\"2498\",\"type\":\"BoxZoomTool\"},{\"id\":\"2499\",\"type\":\"WheelZoomTool\"},{\"id\":\"2500\",\"type\":\"ResetTool\"},{\"id\":\"2501\",\"type\":\"SaveTool\"},{\"id\":\"2606\",\"type\":\"PanTool\"},{\"id\":\"2607\",\"type\":\"BoxZoomTool\"},{\"id\":\"2608\",\"type\":\"WheelZoomTool\"},{\"id\":\"2609\",\"type\":\"ResetTool\"},{\"id\":\"2610\",\"type\":\"SaveTool\"},{\"id\":\"2661\",\"type\":\"PanTool\"},{\"id\":\"2662\",\"type\":\"BoxZoomTool\"},{\"id\":\"2663\",\"type\":\"WheelZoomTool\"},{\"id\":\"2664\",\"type\":\"ResetTool\"},{\"id\":\"2665\",\"type\":\"SaveTool\"},{\"id\":\"2716\",\"type\":\"PanTool\"},{\"id\":\"2717\",\"type\":\"BoxZoomTool\"},{\"id\":\"2718\",\"type\":\"WheelZoomTool\"},{\"id\":\"2719\",\"type\":\"ResetTool\"},{\"id\":\"2720\",\"type\":\"SaveTool\"}]},\"id\":\"2842\",\"type\":\"ProxyToolbar\"},{\"attributes\":{\"callback\":null},\"id\":\"2479\",\"type\":\"DataRange1d\"},{\"attributes\":{\"axis_label\":\"Time (UTC)\",\"formatter\":{\"id\":\"2737\",\"type\":\"DatetimeTickFormatter\"},\"ticker\":{\"id\":\"2707\",\"type\":\"DatetimeTicker\"}},\"id\":\"2706\",\"type\":\"DatetimeAxis\"},{\"attributes\":{\"toolbar\":{\"id\":\"2842\",\"type\":\"ProxyToolbar\"},\"toolbar_location\":\"above\"},\"id\":\"2843\",\"type\":\"ToolbarBox\"},{\"attributes\":{\"num_minor_ticks\":5,\"tickers\":[{\"id\":\"2739\",\"type\":\"AdaptiveTicker\"},{\"id\":\"2740\",\"type\":\"AdaptiveTicker\"},{\"id\":\"2741\",\"type\":\"AdaptiveTicker\"},{\"id\":\"2742\",\"type\":\"DaysTicker\"},{\"id\":\"2743\",\"type\":\"DaysTicker\"},{\"id\":\"2744\",\"type\":\"DaysTicker\"},{\"id\":\"2745\",\"type\":\"DaysTicker\"},{\"id\":\"2746\",\"type\":\"MonthsTicker\"},{\"id\":\"2747\",\"type\":\"MonthsTicker\"},{\"id\":\"2748\",\"type\":\"MonthsTicker\"},{\"id\":\"2749\",\"type\":\"MonthsTicker\"},{\"id\":\"2750\",\"type\":\"YearsTicker\"}]},\"id\":\"2707\",\"type\":\"DatetimeTicker\"},{\"attributes\":{\"ticker\":{\"id\":\"2707\",\"type\":\"DatetimeTicker\"}},\"id\":\"2710\",\"type\":\"Grid\"},{\"attributes\":{\"axis_label\":\"AC power (MW)\",\"formatter\":{\"id\":\"2735\",\"type\":\"BasicTickFormatter\"},\"ticker\":{\"id\":\"2712\",\"type\":\"BasicTicker\"}},\"id\":\"2711\",\"type\":\"LinearAxis\"},{\"attributes\":{},\"id\":\"2712\",\"type\":\"BasicTicker\"},{\"attributes\":{\"dimension\":1,\"ticker\":{\"id\":\"2712\",\"type\":\"BasicTicker\"}},\"id\":\"2715\",\"type\":\"Grid\"},{\"attributes\":{\"line_color\":\"#8c564b\",\"line_width\":2,\"x\":{\"field\":\"index\"},\"y\":{\"field\":\"AC power\"}},\"id\":\"2728\",\"type\":\"Line\"},{\"attributes\":{\"months\":[0,4,8]},\"id\":\"2638\",\"type\":\"MonthsTicker\"},{\"attributes\":{\"num_minor_ticks\":5,\"tickers\":[{\"id\":\"2520\",\"type\":\"AdaptiveTicker\"},{\"id\":\"2521\",\"type\":\"AdaptiveTicker\"},{\"id\":\"2522\",\"type\":\"AdaptiveTicker\"},{\"id\":\"2523\",\"type\":\"DaysTicker\"},{\"id\":\"2524\",\"type\":\"DaysTicker\"},{\"id\":\"2525\",\"type\":\"DaysTicker\"},{\"id\":\"2526\",\"type\":\"DaysTicker\"},{\"id\":\"2527\",\"type\":\"MonthsTicker\"},{\"id\":\"2528\",\"type\":\"MonthsTicker\"},{\"id\":\"2529\",\"type\":\"MonthsTicker\"},{\"id\":\"2530\",\"type\":\"MonthsTicker\"},{\"id\":\"2531\",\"type\":\"YearsTicker\"}]},\"id\":\"2488\",\"type\":\"DatetimeTicker\"},{\"attributes\":{\"active_drag\":\"auto\",\"active_inspect\":\"auto\",\"active_multi\":null,\"active_scroll\":\"auto\",\"active_tap\":\"auto\",\"tools\":[{\"id\":\"2716\",\"type\":\"PanTool\"},{\"id\":\"2717\",\"type\":\"BoxZoomTool\"},{\"id\":\"2718\",\"type\":\"WheelZoomTool\"},{\"id\":\"2719\",\"type\":\"ResetTool\"},{\"id\":\"2720\",\"type\":\"SaveTool\"}]},\"id\":\"2721\",\"type\":\"Toolbar\"},{\"attributes\":{},\"id\":\"2716\",\"type\":\"PanTool\"},{\"attributes\":{\"below\":[{\"id\":\"2487\",\"type\":\"DatetimeAxis\"}],\"center\":[{\"id\":\"2491\",\"type\":\"Grid\"},{\"id\":\"2496\",\"type\":\"Grid\"},{\"id\":\"2532\",\"type\":\"Legend\"}],\"left\":[{\"id\":\"2492\",\"type\":\"LinearAxis\"}],\"plot_height\":200,\"plot_width\":800,\"renderers\":[{\"id\":\"2511\",\"type\":\"GlyphRenderer\"},{\"id\":\"2537\",\"type\":\"GlyphRenderer\"},{\"id\":\"2564\",\"type\":\"GlyphRenderer\"}],\"title\":{\"id\":\"2513\",\"type\":\"Title\"},\"toolbar\":{\"id\":\"2502\",\"type\":\"Toolbar\"},\"toolbar_location\":null,\"x_range\":{\"id\":\"2479\",\"type\":\"DataRange1d\"},\"x_scale\":{\"id\":\"2483\",\"type\":\"LinearScale\"},\"y_range\":{\"id\":\"2481\",\"type\":\"DataRange1d\"},\"y_scale\":{\"id\":\"2485\",\"type\":\"LinearScale\"}},\"id\":\"2478\",\"subtype\":\"Figure\",\"type\":\"Plot\"},{\"attributes\":{\"overlay\":{\"id\":\"2738\",\"type\":\"BoxAnnotation\"}},\"id\":\"2717\",\"type\":\"BoxZoomTool\"},{\"attributes\":{\"ticker\":{\"id\":\"2488\",\"type\":\"DatetimeTicker\"}},\"id\":\"2491\",\"type\":\"Grid\"},{\"attributes\":{\"dimension\":1,\"ticker\":{\"id\":\"2493\",\"type\":\"BasicTicker\"}},\"id\":\"2496\",\"type\":\"Grid\"},{\"attributes\":{\"dimensions\":\"width\"},\"id\":\"2718\",\"type\":\"WheelZoomTool\"},{\"attributes\":{},\"id\":\"2719\",\"type\":\"ResetTool\"},{\"attributes\":{},\"id\":\"2720\",\"type\":\"SaveTool\"},{\"attributes\":{\"line_alpha\":0.1,\"line_color\":\"#1f77b4\",\"line_width\":2,\"x\":{\"field\":\"index\"},\"y\":{\"field\":\"AC power\"}},\"id\":\"2729\",\"type\":\"Line\"},{\"attributes\":{\"data_source\":{\"id\":\"2477\",\"type\":\"ColumnDataSource\"},\"glyph\":{\"id\":\"2728\",\"type\":\"Line\"},\"hover_glyph\":null,\"muted_glyph\":null,\"nonselection_glyph\":{\"id\":\"2729\",\"type\":\"Line\"},\"selection_glyph\":null,\"view\":{\"id\":\"2731\",\"type\":\"CDSView\"}},\"id\":\"2730\",\"type\":\"GlyphRenderer\"},{\"attributes\":{\"line_color\":\"#1f77b4\",\"line_width\":2,\"x\":{\"field\":\"index\"},\"y\":{\"field\":\"GHI\"}},\"id\":\"2509\",\"type\":\"Line\"},{\"attributes\":{\"source\":{\"id\":\"2477\",\"type\":\"ColumnDataSource\"}},\"id\":\"2731\",\"type\":\"CDSView\"},{\"attributes\":{\"text\":\"\"},\"id\":\"2732\",\"type\":\"Title\"},{\"attributes\":{},\"id\":\"2735\",\"type\":\"BasicTickFormatter\"},{\"attributes\":{},\"id\":\"2737\",\"type\":\"DatetimeTickFormatter\"},{\"attributes\":{\"bottom_units\":\"screen\",\"fill_alpha\":{\"value\":0.5},\"fill_color\":{\"value\":\"lightgrey\"},\"left_units\":\"screen\",\"level\":\"overlay\",\"line_alpha\":{\"value\":1.0},\"line_color\":{\"value\":\"black\"},\"line_dash\":[4,4],\"line_width\":{\"value\":2},\"render_mode\":\"css\",\"right_units\":\"screen\",\"top_units\":\"screen\"},\"id\":\"2738\",\"type\":\"BoxAnnotation\"},{\"attributes\":{\"mantissas\":[1,2,5],\"max_interval\":500.0,\"num_minor_ticks\":0},\"id\":\"2739\",\"type\":\"AdaptiveTicker\"},{\"attributes\":{\"formatter\":{\"id\":\"2518\",\"type\":\"DatetimeTickFormatter\"},\"ticker\":{\"id\":\"2488\",\"type\":\"DatetimeTicker\"}},\"id\":\"2487\",\"type\":\"DatetimeAxis\"},{\"attributes\":{\"base\":60,\"mantissas\":[1,2,5,10,15,20,30],\"max_interval\":1800000.0,\"min_interval\":1000.0,\"num_minor_ticks\":0},\"id\":\"2740\",\"type\":\"AdaptiveTicker\"},{\"attributes\":{\"base\":24,\"mantissas\":[1,2,4,6,8,12],\"max_interval\":43200000.0,\"min_interval\":3600000.0,\"num_minor_ticks\":0},\"id\":\"2741\",\"type\":\"AdaptiveTicker\"},{\"attributes\":{},\"id\":\"2485\",\"type\":\"LinearScale\"},{\"attributes\":{\"days\":[1,2,3,4,5,6,7,8,9,10,11,12,13,14,15,16,17,18,19,20,21,22,23,24,25,26,27,28,29,30,31]},\"id\":\"2742\",\"type\":\"DaysTicker\"},{\"attributes\":{\"days\":[1,4,7,10,13,16,19,22,25,28]},\"id\":\"2743\",\"type\":\"DaysTicker\"},{\"attributes\":{\"days\":[1,8,15,22]},\"id\":\"2744\",\"type\":\"DaysTicker\"},{\"attributes\":{\"days\":[1,15]},\"id\":\"2745\",\"type\":\"DaysTicker\"},{\"attributes\":{\"months\":[0,1,2,3,4,5,6,7,8,9,10,11]},\"id\":\"2746\",\"type\":\"MonthsTicker\"},{\"attributes\":{\"items\":[{\"id\":\"2697\",\"type\":\"LegendItem\"}],\"location\":\"top_left\"},\"id\":\"2696\",\"type\":\"Legend\"},{\"attributes\":{\"callback\":null},\"id\":\"2590\",\"type\":\"DataRange1d\"},{\"attributes\":{\"callback\":null},\"id\":\"2645\",\"type\":\"DataRange1d\"},{\"attributes\":{},\"id\":\"2592\",\"type\":\"LinearScale\"},{\"attributes\":{\"days\":[1,8,15,22]},\"id\":\"2525\",\"type\":\"DaysTicker\"},{\"attributes\":{},\"id\":\"2647\",\"type\":\"LinearScale\"},{\"attributes\":{\"label\":{\"value\":\"DNI\"},\"renderers\":[{\"id\":\"2537\",\"type\":\"GlyphRenderer\"}]},\"id\":\"2560\",\"type\":\"LegendItem\"},{\"attributes\":{\"items\":[{\"id\":\"2533\",\"type\":\"LegendItem\"},{\"id\":\"2560\",\"type\":\"LegendItem\"},{\"id\":\"2587\",\"type\":\"LegendItem\"}],\"location\":\"top_left\"},\"id\":\"2532\",\"type\":\"Legend\"},{\"attributes\":{},\"id\":\"2594\",\"type\":\"LinearScale\"},{\"attributes\":{},\"id\":\"2649\",\"type\":\"LinearScale\"},{\"attributes\":{},\"id\":\"2559\",\"type\":\"Selection\"},{\"attributes\":{\"formatter\":{\"id\":\"2627\",\"type\":\"DatetimeTickFormatter\"},\"ticker\":{\"id\":\"2597\",\"type\":\"DatetimeTicker\"}},\"id\":\"2596\",\"type\":\"DatetimeAxis\"},{\"attributes\":{\"formatter\":{\"id\":\"2682\",\"type\":\"DatetimeTickFormatter\"},\"ticker\":{\"id\":\"2652\",\"type\":\"DatetimeTicker\"}},\"id\":\"2651\",\"type\":\"DatetimeAxis\"},{\"attributes\":{\"num_minor_ticks\":5,\"tickers\":[{\"id\":\"2629\",\"type\":\"AdaptiveTicker\"},{\"id\":\"2630\",\"type\":\"AdaptiveTicker\"},{\"id\":\"2631\",\"type\":\"AdaptiveTicker\"},{\"id\":\"2632\",\"type\":\"DaysTicker\"},{\"id\":\"2633\",\"type\":\"DaysTicker\"},{\"id\":\"2634\",\"type\":\"DaysTicker\"},{\"id\":\"2635\",\"type\":\"DaysTicker\"},{\"id\":\"2636\",\"type\":\"MonthsTicker\"},{\"id\":\"2637\",\"type\":\"MonthsTicker\"},{\"id\":\"2638\",\"type\":\"MonthsTicker\"},{\"id\":\"2639\",\"type\":\"MonthsTicker\"},{\"id\":\"2640\",\"type\":\"YearsTicker\"}]},\"id\":\"2597\",\"type\":\"DatetimeTicker\"},{\"attributes\":{\"num_minor_ticks\":5,\"tickers\":[{\"id\":\"2684\",\"type\":\"AdaptiveTicker\"},{\"id\":\"2685\",\"type\":\"AdaptiveTicker\"},{\"id\":\"2686\",\"type\":\"AdaptiveTicker\"},{\"id\":\"2687\",\"type\":\"DaysTicker\"},{\"id\":\"2688\",\"type\":\"DaysTicker\"},{\"id\":\"2689\",\"type\":\"DaysTicker\"},{\"id\":\"2690\",\"type\":\"DaysTicker\"},{\"id\":\"2691\",\"type\":\"MonthsTicker\"},{\"id\":\"2692\",\"type\":\"MonthsTicker\"},{\"id\":\"2693\",\"type\":\"MonthsTicker\"},{\"id\":\"2694\",\"type\":\"MonthsTicker\"},{\"id\":\"2695\",\"type\":\"YearsTicker\"}]},\"id\":\"2652\",\"type\":\"DatetimeTicker\"},{\"attributes\":{\"label\":{\"value\":\"Air temperature\"},\"renderers\":[{\"id\":\"2620\",\"type\":\"GlyphRenderer\"}]},\"id\":\"2642\",\"type\":\"LegendItem\"},{\"attributes\":{\"ticker\":{\"id\":\"2597\",\"type\":\"DatetimeTicker\"}},\"id\":\"2600\",\"type\":\"Grid\"},{\"attributes\":{\"months\":[0,6]},\"id\":\"2530\",\"type\":\"MonthsTicker\"},{\"attributes\":{\"ticker\":{\"id\":\"2652\",\"type\":\"DatetimeTicker\"}},\"id\":\"2655\",\"type\":\"Grid\"},{\"attributes\":{\"months\":[0,4,8]},\"id\":\"2529\",\"type\":\"MonthsTicker\"},{\"attributes\":{\"axis_label\":\"Air temperature (C)\",\"formatter\":{\"id\":\"2625\",\"type\":\"BasicTickFormatter\"},\"ticker\":{\"id\":\"2602\",\"type\":\"BasicTicker\"}},\"id\":\"2601\",\"type\":\"LinearAxis\"},{\"attributes\":{\"axis_label\":\"Wind speed (m/s)\",\"formatter\":{\"id\":\"2680\",\"type\":\"BasicTickFormatter\"},\"ticker\":{\"id\":\"2657\",\"type\":\"BasicTicker\"}},\"id\":\"2656\",\"type\":\"LinearAxis\"},{\"attributes\":{},\"id\":\"2602\",\"type\":\"BasicTicker\"},{\"attributes\":{},\"id\":\"2558\",\"type\":\"UnionRenderers\"},{\"attributes\":{\"dimensions\":\"width\"},\"id\":\"2499\",\"type\":\"WheelZoomTool\"},{\"attributes\":{},\"id\":\"2657\",\"type\":\"BasicTicker\"},{\"attributes\":{\"dimension\":1,\"ticker\":{\"id\":\"2602\",\"type\":\"BasicTicker\"}},\"id\":\"2605\",\"type\":\"Grid\"},{\"attributes\":{\"days\":[1,4,7,10,13,16,19,22,25,28]},\"id\":\"2524\",\"type\":\"DaysTicker\"},{\"attributes\":{\"dimension\":1,\"ticker\":{\"id\":\"2657\",\"type\":\"BasicTicker\"}},\"id\":\"2660\",\"type\":\"Grid\"},{\"attributes\":{},\"id\":\"2501\",\"type\":\"SaveTool\"},{\"attributes\":{\"line_color\":\"#d62728\",\"line_width\":2,\"x\":{\"field\":\"index\"},\"y\":{\"field\":\"Air temperature\"}},\"id\":\"2618\",\"type\":\"Line\"},{\"attributes\":{\"line_color\":\"#9467bd\",\"line_width\":2,\"x\":{\"field\":\"index\"},\"y\":{\"field\":\"Wind speed\"}},\"id\":\"2673\",\"type\":\"Line\"},{\"attributes\":{\"months\":[0,2,4,6,8,10]},\"id\":\"2528\",\"type\":\"MonthsTicker\"},{\"attributes\":{\"below\":[{\"id\":\"2651\",\"type\":\"DatetimeAxis\"}],\"center\":[{\"id\":\"2655\",\"type\":\"Grid\"},{\"id\":\"2660\",\"type\":\"Grid\"},{\"id\":\"2696\",\"type\":\"Legend\"}],\"left\":[{\"id\":\"2656\",\"type\":\"LinearAxis\"}],\"plot_height\":200,\"plot_width\":800,\"renderers\":[{\"id\":\"2675\",\"type\":\"GlyphRenderer\"}],\"title\":{\"id\":\"2677\",\"type\":\"Title\"},\"toolbar\":{\"id\":\"2666\",\"type\":\"Toolbar\"},\"toolbar_location\":null,\"x_range\":{\"id\":\"2479\",\"type\":\"DataRange1d\"},\"x_scale\":{\"id\":\"2647\",\"type\":\"LinearScale\"},\"y_range\":{\"id\":\"2645\",\"type\":\"DataRange1d\"},\"y_scale\":{\"id\":\"2649\",\"type\":\"LinearScale\"}},\"id\":\"2643\",\"subtype\":\"Figure\",\"type\":\"Plot\"},{\"attributes\":{\"below\":[{\"id\":\"2706\",\"type\":\"DatetimeAxis\"}],\"center\":[{\"id\":\"2710\",\"type\":\"Grid\"},{\"id\":\"2715\",\"type\":\"Grid\"},{\"id\":\"2751\",\"type\":\"Legend\"}],\"left\":[{\"id\":\"2711\",\"type\":\"LinearAxis\"}],\"plot_height\":200,\"plot_width\":800,\"renderers\":[{\"id\":\"2730\",\"type\":\"GlyphRenderer\"}],\"title\":{\"id\":\"2732\",\"type\":\"Title\"},\"toolbar\":{\"id\":\"2721\",\"type\":\"Toolbar\"},\"toolbar_location\":null,\"x_range\":{\"id\":\"2479\",\"type\":\"DataRange1d\"},\"x_scale\":{\"id\":\"2702\",\"type\":\"LinearScale\"},\"y_range\":{\"id\":\"2700\",\"type\":\"DataRange1d\"},\"y_scale\":{\"id\":\"2704\",\"type\":\"LinearScale\"}},\"id\":\"2698\",\"subtype\":\"Figure\",\"type\":\"Plot\"},{\"attributes\":{},\"id\":\"2497\",\"type\":\"PanTool\"},{\"attributes\":{\"active_drag\":\"auto\",\"active_inspect\":\"auto\",\"active_multi\":null,\"active_scroll\":\"auto\",\"active_tap\":\"auto\",\"tools\":[{\"id\":\"2606\",\"type\":\"PanTool\"},{\"id\":\"2607\",\"type\":\"BoxZoomTool\"},{\"id\":\"2608\",\"type\":\"WheelZoomTool\"},{\"id\":\"2609\",\"type\":\"ResetTool\"},{\"id\":\"2610\",\"type\":\"SaveTool\"}]},\"id\":\"2611\",\"type\":\"Toolbar\"},{\"attributes\":{},\"id\":\"2500\",\"type\":\"ResetTool\"},{\"attributes\":{},\"id\":\"2606\",\"type\":\"PanTool\"},{\"attributes\":{\"active_drag\":\"auto\",\"active_inspect\":\"auto\",\"active_multi\":null,\"active_scroll\":\"auto\",\"active_tap\":\"auto\",\"tools\":[{\"id\":\"2661\",\"type\":\"PanTool\"},{\"id\":\"2662\",\"type\":\"BoxZoomTool\"},{\"id\":\"2663\",\"type\":\"WheelZoomTool\"},{\"id\":\"2664\",\"type\":\"ResetTool\"},{\"id\":\"2665\",\"type\":\"SaveTool\"}]},\"id\":\"2666\",\"type\":\"Toolbar\"},{\"attributes\":{\"source\":{\"id\":\"2477\",\"type\":\"ColumnDataSource\"}},\"id\":\"2538\",\"type\":\"CDSView\"},{\"attributes\":{},\"id\":\"2661\",\"type\":\"PanTool\"},{\"attributes\":{\"base\":24,\"mantissas\":[1,2,4,6,8,12],\"max_interval\":43200000.0,\"min_interval\":3600000.0,\"num_minor_ticks\":0},\"id\":\"2522\",\"type\":\"AdaptiveTicker\"},{\"attributes\":{\"days\":[1,2,3,4,5,6,7,8,9,10,11,12,13,14,15,16,17,18,19,20,21,22,23,24,25,26,27,28,29,30,31]},\"id\":\"2523\",\"type\":\"DaysTicker\"},{\"attributes\":{\"overlay\":{\"id\":\"2628\",\"type\":\"BoxAnnotation\"}},\"id\":\"2607\",\"type\":\"BoxZoomTool\"},{\"attributes\":{\"overlay\":{\"id\":\"2519\",\"type\":\"BoxAnnotation\"}},\"id\":\"2498\",\"type\":\"BoxZoomTool\"},{\"attributes\":{\"overlay\":{\"id\":\"2683\",\"type\":\"BoxAnnotation\"}},\"id\":\"2662\",\"type\":\"BoxZoomTool\"},{\"attributes\":{\"dimensions\":\"width\"},\"id\":\"2608\",\"type\":\"WheelZoomTool\"},{\"attributes\":{\"dimensions\":\"width\"},\"id\":\"2663\",\"type\":\"WheelZoomTool\"},{\"attributes\":{\"months\":[0,1,2,3,4,5,6,7,8,9,10,11]},\"id\":\"2527\",\"type\":\"MonthsTicker\"},{\"attributes\":{},\"id\":\"2609\",\"type\":\"ResetTool\"},{\"attributes\":{},\"id\":\"2664\",\"type\":\"ResetTool\"},{\"attributes\":{},\"id\":\"2610\",\"type\":\"SaveTool\"},{\"attributes\":{\"data_source\":{\"id\":\"2477\",\"type\":\"ColumnDataSource\"},\"glyph\":{\"id\":\"2535\",\"type\":\"Line\"},\"hover_glyph\":null,\"muted_glyph\":null,\"nonselection_glyph\":{\"id\":\"2536\",\"type\":\"Line\"},\"selection_glyph\":null,\"view\":{\"id\":\"2538\",\"type\":\"CDSView\"}},\"id\":\"2537\",\"type\":\"GlyphRenderer\"},{\"attributes\":{},\"id\":\"2665\",\"type\":\"SaveTool\"},{\"attributes\":{\"base\":60,\"mantissas\":[1,2,5,10,15,20,30],\"max_interval\":1800000.0,\"min_interval\":1000.0,\"num_minor_ticks\":0},\"id\":\"2521\",\"type\":\"AdaptiveTicker\"},{\"attributes\":{\"axis_label\":\"Irradiance (W/m^2)\",\"formatter\":{\"id\":\"2516\",\"type\":\"BasicTickFormatter\"},\"ticker\":{\"id\":\"2493\",\"type\":\"BasicTicker\"}},\"id\":\"2492\",\"type\":\"LinearAxis\"},{\"attributes\":{\"line_alpha\":0.1,\"line_color\":\"#1f77b4\",\"line_width\":2,\"x\":{\"field\":\"index\"},\"y\":{\"field\":\"Air temperature\"}},\"id\":\"2619\",\"type\":\"Line\"},{\"attributes\":{\"mantissas\":[1,2,5],\"max_interval\":500.0,\"num_minor_ticks\":0},\"id\":\"2520\",\"type\":\"AdaptiveTicker\"},{\"attributes\":{\"line_alpha\":0.1,\"line_color\":\"#1f77b4\",\"line_width\":2,\"x\":{\"field\":\"index\"},\"y\":{\"field\":\"Wind speed\"}},\"id\":\"2674\",\"type\":\"Line\"},{\"attributes\":{\"data_source\":{\"id\":\"2477\",\"type\":\"ColumnDataSource\"},\"glyph\":{\"id\":\"2618\",\"type\":\"Line\"},\"hover_glyph\":null,\"muted_glyph\":null,\"nonselection_glyph\":{\"id\":\"2619\",\"type\":\"Line\"},\"selection_glyph\":null,\"view\":{\"id\":\"2621\",\"type\":\"CDSView\"}},\"id\":\"2620\",\"type\":\"GlyphRenderer\"},{\"attributes\":{\"data_source\":{\"id\":\"2477\",\"type\":\"ColumnDataSource\"},\"glyph\":{\"id\":\"2673\",\"type\":\"Line\"},\"hover_glyph\":null,\"muted_glyph\":null,\"nonselection_glyph\":{\"id\":\"2674\",\"type\":\"Line\"},\"selection_glyph\":null,\"view\":{\"id\":\"2676\",\"type\":\"CDSView\"}},\"id\":\"2675\",\"type\":\"GlyphRenderer\"},{\"attributes\":{\"days\":[1,15]},\"id\":\"2526\",\"type\":\"DaysTicker\"},{\"attributes\":{\"source\":{\"id\":\"2477\",\"type\":\"ColumnDataSource\"}},\"id\":\"2621\",\"type\":\"CDSView\"},{\"attributes\":{},\"id\":\"2518\",\"type\":\"DatetimeTickFormatter\"},{\"attributes\":{\"source\":{\"id\":\"2477\",\"type\":\"ColumnDataSource\"}},\"id\":\"2676\",\"type\":\"CDSView\"},{\"attributes\":{\"below\":[{\"id\":\"2596\",\"type\":\"DatetimeAxis\"}],\"center\":[{\"id\":\"2600\",\"type\":\"Grid\"},{\"id\":\"2605\",\"type\":\"Grid\"},{\"id\":\"2641\",\"type\":\"Legend\"}],\"left\":[{\"id\":\"2601\",\"type\":\"LinearAxis\"}],\"plot_height\":200,\"plot_width\":800,\"renderers\":[{\"id\":\"2620\",\"type\":\"GlyphRenderer\"}],\"title\":{\"id\":\"2622\",\"type\":\"Title\"},\"toolbar\":{\"id\":\"2611\",\"type\":\"Toolbar\"},\"toolbar_location\":null,\"x_range\":{\"id\":\"2479\",\"type\":\"DataRange1d\"},\"x_scale\":{\"id\":\"2592\",\"type\":\"LinearScale\"},\"y_range\":{\"id\":\"2590\",\"type\":\"DataRange1d\"},\"y_scale\":{\"id\":\"2594\",\"type\":\"LinearScale\"}},\"id\":\"2588\",\"subtype\":\"Figure\",\"type\":\"Plot\"},{\"attributes\":{\"text\":\"\"},\"id\":\"2622\",\"type\":\"Title\"},{\"attributes\":{\"line_alpha\":0.1,\"line_color\":\"#1f77b4\",\"line_width\":2,\"x\":{\"field\":\"index\"},\"y\":{\"field\":\"DNI\"}},\"id\":\"2536\",\"type\":\"Line\"},{\"attributes\":{\"text\":\"\"},\"id\":\"2677\",\"type\":\"Title\"},{\"attributes\":{\"bottom_units\":\"screen\",\"fill_alpha\":{\"value\":0.5},\"fill_color\":{\"value\":\"lightgrey\"},\"left_units\":\"screen\",\"level\":\"overlay\",\"line_alpha\":{\"value\":1.0},\"line_color\":{\"value\":\"black\"},\"line_dash\":[4,4],\"line_width\":{\"value\":2},\"render_mode\":\"css\",\"right_units\":\"screen\",\"top_units\":\"screen\"},\"id\":\"2519\",\"type\":\"BoxAnnotation\"},{\"attributes\":{},\"id\":\"2625\",\"type\":\"BasicTickFormatter\"},{\"attributes\":{},\"id\":\"2680\",\"type\":\"BasicTickFormatter\"},{\"attributes\":{},\"id\":\"2516\",\"type\":\"BasicTickFormatter\"},{\"attributes\":{},\"id\":\"2627\",\"type\":\"DatetimeTickFormatter\"},{\"attributes\":{},\"id\":\"2682\",\"type\":\"DatetimeTickFormatter\"},{\"attributes\":{\"bottom_units\":\"screen\",\"fill_alpha\":{\"value\":0.5},\"fill_color\":{\"value\":\"lightgrey\"},\"left_units\":\"screen\",\"level\":\"overlay\",\"line_alpha\":{\"value\":1.0},\"line_color\":{\"value\":\"black\"},\"line_dash\":[4,4],\"line_width\":{\"value\":2},\"render_mode\":\"css\",\"right_units\":\"screen\",\"top_units\":\"screen\"},\"id\":\"2628\",\"type\":\"BoxAnnotation\"},{\"attributes\":{\"bottom_units\":\"screen\",\"fill_alpha\":{\"value\":0.5},\"fill_color\":{\"value\":\"lightgrey\"},\"left_units\":\"screen\",\"level\":\"overlay\",\"line_alpha\":{\"value\":1.0},\"line_color\":{\"value\":\"black\"},\"line_dash\":[4,4],\"line_width\":{\"value\":2},\"render_mode\":\"css\",\"right_units\":\"screen\",\"top_units\":\"screen\"},\"id\":\"2683\",\"type\":\"BoxAnnotation\"},{\"attributes\":{\"mantissas\":[1,2,5],\"max_interval\":500.0,\"num_minor_ticks\":0},\"id\":\"2629\",\"type\":\"AdaptiveTicker\"},{\"attributes\":{},\"id\":\"2493\",\"type\":\"BasicTicker\"},{\"attributes\":{\"line_color\":\"#ff7f0e\",\"line_width\":2,\"x\":{\"field\":\"index\"},\"y\":{\"field\":\"DNI\"}},\"id\":\"2535\",\"type\":\"Line\"},{\"attributes\":{\"mantissas\":[1,2,5],\"max_interval\":500.0,\"num_minor_ticks\":0},\"id\":\"2684\",\"type\":\"AdaptiveTicker\"},{\"attributes\":{\"text\":\"\"},\"id\":\"2513\",\"type\":\"Title\"},{\"attributes\":{\"source\":{\"id\":\"2477\",\"type\":\"ColumnDataSource\"}},\"id\":\"2512\",\"type\":\"CDSView\"},{\"attributes\":{\"base\":60,\"mantissas\":[1,2,5,10,15,20,30],\"max_interval\":1800000.0,\"min_interval\":1000.0,\"num_minor_ticks\":0},\"id\":\"2630\",\"type\":\"AdaptiveTicker\"},{\"attributes\":{\"data_source\":{\"id\":\"2477\",\"type\":\"ColumnDataSource\"},\"glyph\":{\"id\":\"2509\",\"type\":\"Line\"},\"hover_glyph\":null,\"muted_glyph\":null,\"nonselection_glyph\":{\"id\":\"2510\",\"type\":\"Line\"},\"selection_glyph\":null,\"view\":{\"id\":\"2512\",\"type\":\"CDSView\"}},\"id\":\"2511\",\"type\":\"GlyphRenderer\"},{\"attributes\":{\"base\":60,\"mantissas\":[1,2,5,10,15,20,30],\"max_interval\":1800000.0,\"min_interval\":1000.0,\"num_minor_ticks\":0},\"id\":\"2685\",\"type\":\"AdaptiveTicker\"},{\"attributes\":{\"base\":24,\"mantissas\":[1,2,4,6,8,12],\"max_interval\":43200000.0,\"min_interval\":3600000.0,\"num_minor_ticks\":0},\"id\":\"2631\",\"type\":\"AdaptiveTicker\"},{\"attributes\":{\"base\":24,\"mantissas\":[1,2,4,6,8,12],\"max_interval\":43200000.0,\"min_interval\":3600000.0,\"num_minor_ticks\":0},\"id\":\"2686\",\"type\":\"AdaptiveTicker\"},{\"attributes\":{\"line_alpha\":0.1,\"line_color\":\"#1f77b4\",\"line_width\":2,\"x\":{\"field\":\"index\"},\"y\":{\"field\":\"GHI\"}},\"id\":\"2510\",\"type\":\"Line\"},{\"attributes\":{\"days\":[1,2,3,4,5,6,7,8,9,10,11,12,13,14,15,16,17,18,19,20,21,22,23,24,25,26,27,28,29,30,31]},\"id\":\"2632\",\"type\":\"DaysTicker\"},{\"attributes\":{\"label\":{\"value\":\"GHI\"},\"renderers\":[{\"id\":\"2511\",\"type\":\"GlyphRenderer\"}]},\"id\":\"2533\",\"type\":\"LegendItem\"},{\"attributes\":{\"days\":[1,2,3,4,5,6,7,8,9,10,11,12,13,14,15,16,17,18,19,20,21,22,23,24,25,26,27,28,29,30,31]},\"id\":\"2687\",\"type\":\"DaysTicker\"},{\"attributes\":{\"data_source\":{\"id\":\"2477\",\"type\":\"ColumnDataSource\"},\"glyph\":{\"id\":\"2562\",\"type\":\"Line\"},\"hover_glyph\":null,\"muted_glyph\":null,\"nonselection_glyph\":{\"id\":\"2563\",\"type\":\"Line\"},\"selection_glyph\":null,\"view\":{\"id\":\"2565\",\"type\":\"CDSView\"}},\"id\":\"2564\",\"type\":\"GlyphRenderer\"},{\"attributes\":{\"callback\":null},\"id\":\"2481\",\"type\":\"DataRange1d\"},{\"attributes\":{\"days\":[1,4,7,10,13,16,19,22,25,28]},\"id\":\"2633\",\"type\":\"DaysTicker\"},{\"attributes\":{\"line_color\":\"#2ca02c\",\"line_width\":2,\"x\":{\"field\":\"index\"},\"y\":{\"field\":\"DHI\"}},\"id\":\"2562\",\"type\":\"Line\"},{\"attributes\":{\"days\":[1,4,7,10,13,16,19,22,25,28]},\"id\":\"2688\",\"type\":\"DaysTicker\"},{\"attributes\":{},\"id\":\"2483\",\"type\":\"LinearScale\"},{\"attributes\":{\"days\":[1,8,15,22]},\"id\":\"2634\",\"type\":\"DaysTicker\"},{\"attributes\":{},\"id\":\"2531\",\"type\":\"YearsTicker\"},{\"attributes\":{\"days\":[1,8,15,22]},\"id\":\"2689\",\"type\":\"DaysTicker\"},{\"attributes\":{\"days\":[1,15]},\"id\":\"2635\",\"type\":\"DaysTicker\"},{\"attributes\":{\"days\":[1,15]},\"id\":\"2690\",\"type\":\"DaysTicker\"},{\"attributes\":{\"months\":[0,1,2,3,4,5,6,7,8,9,10,11]},\"id\":\"2636\",\"type\":\"MonthsTicker\"},{\"attributes\":{\"months\":[0,6]},\"id\":\"2639\",\"type\":\"MonthsTicker\"},{\"attributes\":{\"months\":[0,1,2,3,4,5,6,7,8,9,10,11]},\"id\":\"2691\",\"type\":\"MonthsTicker\"},{\"attributes\":{\"active_drag\":\"auto\",\"active_inspect\":\"auto\",\"active_multi\":null,\"active_scroll\":\"auto\",\"active_tap\":\"auto\",\"tools\":[{\"id\":\"2497\",\"type\":\"PanTool\"},{\"id\":\"2498\",\"type\":\"BoxZoomTool\"},{\"id\":\"2499\",\"type\":\"WheelZoomTool\"},{\"id\":\"2500\",\"type\":\"ResetTool\"},{\"id\":\"2501\",\"type\":\"SaveTool\"}]},\"id\":\"2502\",\"type\":\"Toolbar\"},{\"attributes\":{\"callback\":null,\"data\":{\"AC power\":{\"__ndarray__\":\"2EEa5oZN/j8AAAAAAAAAAAAAAAAAAAAAAAAAAAAAAAAAAAAAAAAAAAAAAAAAAAAAAAAAAAAAAAAAAAAAAAAAAAAAAAAAAAAAAAAAAAAAAAAAAAAAAAAAAMwsozxsXa4/jdFGTqMWEEDxAUOtlq0iQAAAAAAAACRAAAAAAAAAJEAAAAAAAAAkQAAAAAAAACRAAAAAAAAAJEDmPjM4RCwiQJm5Uxvv/BhA0BxY9C7XCkDn27GvL5oIQDE79oP1Yg1AjRCu/U9n8D8AAAAAAAAAAAAAAAAAAAAAAAAAAAAAAAAAAAAAAAAAAAAAAAAAAAAAAAAAAAAAAAAAAAAAAAAAAAAAAAAAAAAAAAAAAAAAAAAAAAAAAAAAAEVFz8M7h50/GoI6HWor8D9hHqMEdt4BQJlOm6FV1wZAICSILbboCkDzLIQ7QecQQP3uqXA6OB9AAAAAAAAAJEAAAAAAAAAkQAAAAAAAACRAAAAAAAAAJECpclKJ9uUhQEeb8i63+A9ArJaH/o0l5j8AAAAAAAAAAAAAAAAAAAAAAAAAAAAAAAAAAAAAAAAAAAAAAAAAAAAAAAAAAAAAAAAAAAAAAAAAAAAAAAAAAAAAAAAAAAAAAAAAAAAAAAAAANFriLJvvrE/fTfbgDDlDkArVqO7mAIhQEWYEDFQSx5ANLWY7JA9IEAAAAAAAAAkQAAAAAAAACRAAAAAAAAAJEAAAAAAAAAkQAAAAAAAACRAAAAAAAAAJEAAAAAAAAAkQAAAAAAAACRA\",\"dtype\":\"float64\",\"shape\":[72]},\"Air temperature\":{\"__ndarray__\":\"JSTcQXtrzEHQ+r9BJby3QSUisUHQ3KpBJWilQSWCoEHQ9ppBe/mTQdAYjUElOoxB0HSZQSVErEF7SbpBJYLJQXsF2UF7jeVBJUTuQdDE9EF7s/hBe0X5QSUa9UF7gexBeznfQXvNzkHQHMJB0DK5QdAKsEEl2qZBJaydQdBilEHQboxB0FqGQSXegkHQBoZB0FCWQSXqqkF7P7lBJS7FQSWs0EF7vdxBe3fmQdBW6UHQfuZBe3viQXtn20F7U9BBJcS/QXuHrEHQ/pxBJZ6SQdAmikHQEINBoBF6QUuQb0H1rmZB9a5eQaBtV0FLuFRBoK1dQfWObkGgTX9B0IaKQdAYmEHQHKVB0KavQdAWt0HQ6rdBe/+yQXvJrEHQfKhB\",\"dtype\":\"float32\",\"shape\":[72]},\"DHI\":{\"__ndarray__\":\"w1uNhTSiTkBUutISyBnfPwAAAAAAAAAAAAAAAAAAAAAAAAAAAAAAAAAAAAAAAAAAAAAAAAAAAAAAAAAAAAAAAAAAAAAAAAAAAAAAAAAAAAAAAAAAAAAAAPTRN/1X/xVAfqL6+rk9VEDrCvbY25NaQFjfRusFtVxAQW/3UxCOYEDJw5mHCANjQMsTgHaBx2RAZV5GFRsUaECBhQSvp/dzQPx7OFGnsHdASZaaTZ9qcUA0Psh3UqJrQJ5wBEyZJGRAwBT3RaVeTEDQs9FtDhjaPwAAAAAAAAAAAAAAAAAAAAAAAAAAAAAAAAAAAAAAAAAAAAAAAAAAAAAAAAAAAAAAAAAAAAAAAAAAAAAAAAAAAAAAAAAAAAAAACgZndj2cw1A2orgfjLbUUDQ6wsChYdkQCEDI4gGFG1AIEh7utWOcUDEfzRE7it1QKmlvaopjXVArMq9WM8jZUB8eL7Kip5kQAlIKtpXimJANUJGmRWFYED3lFtrdPljQCBOdKfRamNAGRXifdPsSECw02s8WlbaPwAAAAAAAAAAAAAAAAAAAAAAAAAAAAAAAAAAAAAAAAAAAAAAAAAAAAAAAAAAAAAAAAAAAAAAAAAAAAAAAAAAAAAAAAAAAAAAADV8UTCSSBhAH31ArmcmVUCBSE2EAYxgQIgtVCQtVW1A295mmnilcUDrgfzhKcxlQAedDrBAqGRAlyCMMMRTZUD/7VnlYXdkQHEhKdU4d2JAX2WcLDPzX0CYDjCyQwBcQLMlY3do01pA\",\"dtype\":\"float64\",\"shape\":[72]},\"DNI\":{\"__ndarray__\":\"cxq1DCfxV0AAAAAAAAAAAAAAAAAAAAAAAAAAAAAAAAAAAAAAAAAAAAAAAAAAAAAAAAAAAAAAAAAAAAAAAAAAAAAAAAAAAAAAAAAAAAAAAAAAAAAAAAAAAA3gd+opa/c/HPztYvsvbUBRz042cX+DQDFvOOP5qYhAD5CKBFOhikBDnb7gPGuLQKfUUdk0uotAyXnRdGiziEDFtd3i0Tt9QKuMaLlzEmRA9BbtNCNxO0DNg5sH3SlLQM3XHsbz22BAeB9yNjc5P0AAAAAAAAAAAAAAAAAAAAAAAAAAAAAAAAAAAAAAAAAAAAAAAAAAAAAAAAAAAAAAAAAAAAAAAAAAAAAAAAAAAAAAAAAAAAAAAAAAAAAAAAAAAKGV4rXZC+I/yXGAyb51LEC4IxsV5mA/QGvfwXZkTDpADzFPoc7YMUDFOAadvb82QIWi+xNBTXVAcBvz+DqYi0Dl+D4sUtGLQAtwxVUyeotAQWL9hBKdiUDtJycg/62BQJ+6q/nf92NAjX8oJ0flJkAAAAAAAAAAAAAAAAAAAAAAAAAAAAAAAAAAAAAAAAAAAAAAAAAAAAAAAAAAAAAAAAAAAAAAAAAAAAAAAAAAAAAAAAAAAAAAAAAAAAAAAAAAAMfoWaiGIP0/V7YnRMFhakA/HNfU/FF/QJH4M7vkMHZAZWaMPwCxd0ApWQG+HleIQKmCYk2GZItA1BKmZgHGi0D7R2Nx3KeLQOwMXMCkQ4tADHMAy7BJikDN07ZtlNaHQHy1geKSXIVA\",\"dtype\":\"float64\",\"shape\":[72]},\"GHI\":{\"__ndarray__\":\"HQ98uHkAVEBUutISyBnfPwAAAAAAAAAAAAAAAAAAAAAAAAAAAAAAAAAAAAAAAAAAAAAAAAAAAAAAAAAAAAAAAAAAAAAAAAAAAAAAAAAAAAAAAAAAAAAAAFXEgrTZdhZAAv+509T5YED5VLdoUq12QOgd8VvBSYJAWOrGOpdEiECvMGZj/suMQA3yWZetio9AU1ptSPT/jUABRVyBWruHQMLKOtM2LoBAVETFi1KwckB8vE7r7hlvQLQ0hXX8PmpAAPdQnrqBT0DQs9FtDhjaPwAAAAAAAAAAAAAAAAAAAAAAAAAAAAAAAAAAAAAAAAAAAAAAAAAAAAAAAAAAAAAAAAAAAAAAAAAAAAAAAAAAAAAAAAAAAAAAAPQJMj+syw1Anb9g+kaqUkDYtmN+8yZmQL+uJDsp/m5A7zJh9jhockBLfcfhqmt2QJeGLa+FA4VApP8ZehYMkEDX6ICNEj2PQCNNCOHhDIxA2K0jTr6bhkDYKtPLq+B9QImQDuoDNWtA1HQVh9sHSkCw02s8WlbaPwAAAAAAAAAAAAAAAAAAAAAAAAAAAAAAAAAAAAAAAAAAAAAAAAAAAAAAAAAAAAAAAAAAAAAAAAAAAAAAAAAAAAAAAAAAAAAAAEXO8POz3RhAZQrKX3fXYEBHA5RWlyd1QPdR+u0TjXtAX2KayPP+gUD97sZDXeKKQEcsUkP4Po9A7qA7kIErkEAdzxLAnhOPQHHpaIOC4ItAiCPXpKz4hkDt5wyf0LmAQAih+Oei8XlA\",\"dtype\":\"float64\",\"shape\":[72]},\"Wind speed\":{\"__ndarray__\":\"VRUWQFWVMUCrujNAABAdQFX1E0BVhQVAAGD4PwAwA0Cr6gVAAEDzPwCA0j+rSqs/q+qJPwDARz8AQEk/AADMP1WVMkBVtXJAq/KGQFV9jUAAiJ5Aq4K+QFXt3UAAiOhAANDPQADgpUAAyIxAq1p8QKvaYUCraj5AAIAPQFX1zz9VVaE/q2qLP1V1nD+rytQ/AJADQAAAHUBV/YJAVeXJQKu68kBVwQpBAPwZQVXFJkFVjTBBAAQ4QVUpPEEAqDZBq04fQQCw/0AASM5AVcWkQFUFg0AAEFxAVfVRQKtaUUCrCkpAq0o6QFUFLUCryitAADBQQFW9hUCr0pxAqzK6QKt63UCrkv9AVQENQQBUGUGrDiRBq74mQQDEI0EAICFB\",\"dtype\":\"float32\",\"shape\":[72]},\"index\":{\"__ndarray__\":\"AAAoDZCrdkIAABB8k6t2QgAA+OqWq3ZCAADgWZqrdkIAAMjInat2QgAAsDehq3ZCAACYpqSrdkIAAIAVqKt2QgAAaISrq3ZCAABQ866rdkIAADhisqt2QgAAING1q3ZCAAAIQLmrdkIAAPCuvKt2QgAA2B3Aq3ZCAADAjMOrdkIAAKj7xqt2QgAAkGrKq3ZCAAB42c2rdkIAAGBI0at2QgAASLfUq3ZCAAAwJtirdkIAABiV26t2QgAAAATfq3ZCAADocuKrdkIAANDh5at2QgAAuFDpq3ZCAACgv+yrdkIAAIgu8Kt2QgAAcJ3zq3ZCAABYDPerdkIAAEB7+qt2QgAAKOr9q3ZCAAAQWQGsdkIAAPjHBKx2QgAA4DYIrHZCAADIpQusdkIAALAUD6x2QgAAmIMSrHZCAACA8hWsdkIAAGhhGax2QgAAUNAcrHZCAAA4PyCsdkIAACCuI6x2QgAACB0nrHZCAADwiyqsdkIAANj6Lax2QgAAwGkxrHZCAACo2DSsdkIAAJBHOKx2QgAAeLY7rHZCAABgJT+sdkIAAEiUQqx2QgAAMANGrHZCAAAYckmsdkIAAADhTKx2QgAA6E9QrHZCAADQvlOsdkIAALgtV6x2QgAAoJxarHZCAACIC16sdkIAAHB6Yax2QgAAWOlkrHZCAABAWGisdkIAACjHa6x2QgAAEDZvrHZCAAD4pHKsdkIAAOATdqx2QgAAyIJ5rHZCAACw8XysdkIAAJhggKx2QgAAgM+DrHZC\",\"dtype\":\"float64\",\"shape\":[72]}},\"selected\":{\"id\":\"2559\",\"type\":\"Selection\"},\"selection_policy\":{\"id\":\"2558\",\"type\":\"UnionRenderers\"}},\"id\":\"2477\",\"type\":\"ColumnDataSource\"},{\"attributes\":{},\"id\":\"2640\",\"type\":\"YearsTicker\"},{\"attributes\":{\"source\":{\"id\":\"2477\",\"type\":\"ColumnDataSource\"}},\"id\":\"2565\",\"type\":\"CDSView\"},{\"attributes\":{\"months\":[0,2,4,6,8,10]},\"id\":\"2692\",\"type\":\"MonthsTicker\"},{\"attributes\":{\"items\":[{\"id\":\"2642\",\"type\":\"LegendItem\"}],\"location\":\"top_left\"},\"id\":\"2641\",\"type\":\"Legend\"},{\"attributes\":{\"line_alpha\":0.1,\"line_color\":\"#1f77b4\",\"line_width\":2,\"x\":{\"field\":\"index\"},\"y\":{\"field\":\"DHI\"}},\"id\":\"2563\",\"type\":\"Line\"},{\"attributes\":{\"months\":[0,4,8]},\"id\":\"2693\",\"type\":\"MonthsTicker\"},{\"attributes\":{\"label\":{\"value\":\"DHI\"},\"renderers\":[{\"id\":\"2564\",\"type\":\"GlyphRenderer\"}]},\"id\":\"2587\",\"type\":\"LegendItem\"},{\"attributes\":{\"months\":[0,6]},\"id\":\"2694\",\"type\":\"MonthsTicker\"}],\"root_ids\":[\"2844\"]},\"title\":\"Bokeh Application\",\"version\":\"1.2.0\"}};\n",
       "  var render_items = [{\"docid\":\"66664483-934b-472e-a388-1d064fe79c8d\",\"roots\":{\"2844\":\"859a1918-0dca-4a88-890c-8ae288a0340c\"}}];\n",
       "  root.Bokeh.embed.embed_items_notebook(docs_json, render_items);\n",
       "\n",
       "  }\n",
       "  if (root.Bokeh !== undefined) {\n",
       "    embed_document(root);\n",
       "  } else {\n",
       "    var attempts = 0;\n",
       "    var timer = setInterval(function(root) {\n",
       "      if (root.Bokeh !== undefined) {\n",
       "        embed_document(root);\n",
       "        clearInterval(timer);\n",
       "      }\n",
       "      attempts++;\n",
       "      if (attempts > 100) {\n",
       "        console.log(\"Bokeh: ERROR: Unable to run BokehJS code because BokehJS library is missing\");\n",
       "        clearInterval(timer);\n",
       "      }\n",
       "    }, 10, root)\n",
       "  }\n",
       "})(window);"
      ],
      "application/vnd.bokehjs_exec.v0+json": ""
     },
     "metadata": {
      "application/vnd.bokehjs_exec.v0+json": {
       "id": "2844"
      }
     },
     "output_type": "display_data"
    }
   ],
   "source": [
    "# select the model\n",
    "model = models.gfs_quarter_deg_to_hourly_mean\n",
    "\n",
    "# tell the model where to find the NWP data\n",
    "model_wrapped = partial(model, load_forecast=load_forecast)\n",
    "\n",
    "# load and process the NWP data. only difference from before is plant replaces site\n",
    "ghi, dni, dhi, air_temperature, wind_speed, ac_power = main.run(plant, model_wrapped, init_time, start, end)\n",
    "\n",
    "# plotting details...\n",
    "data = dict(zip(('GHI', 'DNI', 'DHI', 'Air temperature', 'Wind speed', 'AC power', 'index'),\n",
    "                (ghi, dni, dhi, air_temperature, wind_speed, ac_power, ac_power.index)))\n",
    "source = ColumnDataSource(data)\n",
    "\n",
    "fig_kwargs = dict(tools=TOOLS, x_axis_type=\"datetime\", plot_height=200)\n",
    "palette = iter(PALETTE)\n",
    "fig1 = figure(**fig_kwargs)\n",
    "for name in ('GHI', 'DNI', 'DHI'):\n",
    "    fig1.line(x='index', y=name, source=source, legend=value(name), color=next(palette), line_width=2)\n",
    "fig1.yaxis.axis_label = \"Irradiance (W/m^2)\"\n",
    "fig1.legend.location = \"top_left\"\n",
    "\n",
    "fig_kwargs['x_range'] = fig1.x_range  # link x-zoom\n",
    "fig2 = figure(**fig_kwargs)\n",
    "fig2.line(x='index', y='Air temperature', source=source, legend=value(\"Air temperature\"), color=next(palette), line_width=2)\n",
    "fig2.yaxis.axis_label = \"Air temperature (C)\"\n",
    "fig2.legend.location = \"top_left\"\n",
    "\n",
    "fig3 = figure(**fig_kwargs)\n",
    "fig3.line(x='index', y='Wind speed', source=source, legend=value(\"Wind speed\"), color=next(palette), line_width=2)\n",
    "fig3.yaxis.axis_label = \"Wind speed (m/s)\"\n",
    "fig3.legend.location = \"top_left\"\n",
    "\n",
    "fig4 = figure(**fig_kwargs)\n",
    "fig4.line(x='index', y='AC power', source=source, legend=value(\"AC power\"), color=next(palette), line_width=2)\n",
    "fig4.yaxis.axis_label = \"AC power (MW)\"\n",
    "fig4.xaxis.axis_label = 'Time (UTC)'\n",
    "fig4.legend.location = \"top_left\"\n",
    "\n",
    "grid = gridplot([fig1, fig2, fig3, fig4], ncols=1, plot_width=800)\n",
    "\n",
    "show(grid)"
   ]
  },
  {
   "cell_type": "markdown",
   "metadata": {},
   "source": [
    "## Persistence forecasts\n",
    "\n",
    "The solarforecastarbiter supports several varieties of persistence forecasts:\n",
    "\n",
    "1. Persistence of observed values\n",
    "2. Persistence of irradiance or power accounting for solar position. (This is sometimes referred to as smart persistence, but we discourage that term because it's ambiguous.)\n",
    "\n",
    "The [`persistence`](https://solarforecastarbiter-core.readthedocs.io/en/latest/generated/solarforecastarbiter.reference_forecasts.persistence.html#module-solarforecastarbiter.reference_forecasts.persistence) module contains functions that implement these methods and are easily adapted to a user's own data and workflow. The [`reference_forecasts.main.run_persistence`](https://solarforecastarbiter-core.readthedocs.io/en/latest/generated/solarforecastarbiter.reference_forecasts.main.run_persistence.html#solarforecastarbiter.reference_forecasts.main.run_persistence) function is a higher-level interface that integrate more tightly with the Solar Forecast Arbiter data model and API."
   ]
  },
  {
   "cell_type": "markdown",
   "metadata": {},
   "source": [
    "### persistence module"
   ]
  },
  {
   "cell_type": "code",
   "execution_count": 10,
   "metadata": {},
   "outputs": [],
   "source": [
    "from solarforecastarbiter.reference_forecasts import persistence"
   ]
  },
  {
   "cell_type": "markdown",
   "metadata": {},
   "source": [
    "We need to load some data to use a persistence forecast. The function below loads data from the workshop repository."
   ]
  },
  {
   "cell_type": "code",
   "execution_count": 11,
   "metadata": {
    "scrolled": true
   },
   "outputs": [
    {
     "data": {
      "text/html": [
       "<div>\n",
       "<style scoped>\n",
       "    .dataframe tbody tr th:only-of-type {\n",
       "        vertical-align: middle;\n",
       "    }\n",
       "\n",
       "    .dataframe tbody tr th {\n",
       "        vertical-align: top;\n",
       "    }\n",
       "\n",
       "    .dataframe thead th {\n",
       "        text-align: right;\n",
       "    }\n",
       "</style>\n",
       "<table border=\"1\" class=\"dataframe\">\n",
       "  <thead>\n",
       "    <tr style=\"text-align: right;\">\n",
       "      <th></th>\n",
       "      <th>value</th>\n",
       "      <th>quality_flag</th>\n",
       "    </tr>\n",
       "    <tr>\n",
       "      <th>timestamp</th>\n",
       "      <th></th>\n",
       "      <th></th>\n",
       "    </tr>\n",
       "  </thead>\n",
       "  <tbody>\n",
       "    <tr>\n",
       "      <th>2019-06-06 07:00:00+00:00</th>\n",
       "      <td>5</td>\n",
       "      <td>0</td>\n",
       "    </tr>\n",
       "    <tr>\n",
       "      <th>2019-06-06 08:00:00+00:00</th>\n",
       "      <td>0</td>\n",
       "      <td>0</td>\n",
       "    </tr>\n",
       "    <tr>\n",
       "      <th>2019-06-06 09:00:00+00:00</th>\n",
       "      <td>0</td>\n",
       "      <td>0</td>\n",
       "    </tr>\n",
       "    <tr>\n",
       "      <th>2019-06-06 10:00:00+00:00</th>\n",
       "      <td>0</td>\n",
       "      <td>0</td>\n",
       "    </tr>\n",
       "    <tr>\n",
       "      <th>2019-06-06 11:00:00+00:00</th>\n",
       "      <td>0</td>\n",
       "      <td>0</td>\n",
       "    </tr>\n",
       "    <tr>\n",
       "      <th>2019-06-06 12:00:00+00:00</th>\n",
       "      <td>10</td>\n",
       "      <td>0</td>\n",
       "    </tr>\n",
       "    <tr>\n",
       "      <th>2019-06-06 13:00:00+00:00</th>\n",
       "      <td>100</td>\n",
       "      <td>0</td>\n",
       "    </tr>\n",
       "    <tr>\n",
       "      <th>2019-06-06 14:00:00+00:00</th>\n",
       "      <td>200</td>\n",
       "      <td>0</td>\n",
       "    </tr>\n",
       "    <tr>\n",
       "      <th>2019-06-06 15:00:00+00:00</th>\n",
       "      <td>350</td>\n",
       "      <td>0</td>\n",
       "    </tr>\n",
       "    <tr>\n",
       "      <th>2019-06-06 16:00:00+00:00</th>\n",
       "      <td>500</td>\n",
       "      <td>0</td>\n",
       "    </tr>\n",
       "    <tr>\n",
       "      <th>2019-06-06 17:00:00+00:00</th>\n",
       "      <td>650</td>\n",
       "      <td>0</td>\n",
       "    </tr>\n",
       "    <tr>\n",
       "      <th>2019-06-06 18:00:00+00:00</th>\n",
       "      <td>800</td>\n",
       "      <td>0</td>\n",
       "    </tr>\n",
       "    <tr>\n",
       "      <th>2019-06-06 19:00:00+00:00</th>\n",
       "      <td>900</td>\n",
       "      <td>1</td>\n",
       "    </tr>\n",
       "    <tr>\n",
       "      <th>2019-06-06 20:00:00+00:00</th>\n",
       "      <td>700</td>\n",
       "      <td>1</td>\n",
       "    </tr>\n",
       "    <tr>\n",
       "      <th>2019-06-06 21:00:00+00:00</th>\n",
       "      <td>200</td>\n",
       "      <td>0</td>\n",
       "    </tr>\n",
       "    <tr>\n",
       "      <th>2019-06-06 22:00:00+00:00</th>\n",
       "      <td>500</td>\n",
       "      <td>0</td>\n",
       "    </tr>\n",
       "    <tr>\n",
       "      <th>2019-06-06 23:00:00+00:00</th>\n",
       "      <td>400</td>\n",
       "      <td>0</td>\n",
       "    </tr>\n",
       "    <tr>\n",
       "      <th>2019-06-07 00:00:00+00:00</th>\n",
       "      <td>200</td>\n",
       "      <td>0</td>\n",
       "    </tr>\n",
       "    <tr>\n",
       "      <th>2019-06-07 01:00:00+00:00</th>\n",
       "      <td>100</td>\n",
       "      <td>0</td>\n",
       "    </tr>\n",
       "    <tr>\n",
       "      <th>2019-06-07 02:00:00+00:00</th>\n",
       "      <td>20</td>\n",
       "      <td>0</td>\n",
       "    </tr>\n",
       "    <tr>\n",
       "      <th>2019-06-07 03:00:00+00:00</th>\n",
       "      <td>0</td>\n",
       "      <td>0</td>\n",
       "    </tr>\n",
       "    <tr>\n",
       "      <th>2019-06-07 04:00:00+00:00</th>\n",
       "      <td>0</td>\n",
       "      <td>0</td>\n",
       "    </tr>\n",
       "    <tr>\n",
       "      <th>2019-06-07 05:00:00+00:00</th>\n",
       "      <td>0</td>\n",
       "      <td>0</td>\n",
       "    </tr>\n",
       "    <tr>\n",
       "      <th>2019-06-07 06:00:00+00:00</th>\n",
       "      <td>0</td>\n",
       "      <td>0</td>\n",
       "    </tr>\n",
       "  </tbody>\n",
       "</table>\n",
       "</div>"
      ],
      "text/plain": [
       "                           value  quality_flag\n",
       "timestamp                                     \n",
       "2019-06-06 07:00:00+00:00      5             0\n",
       "2019-06-06 08:00:00+00:00      0             0\n",
       "2019-06-06 09:00:00+00:00      0             0\n",
       "2019-06-06 10:00:00+00:00      0             0\n",
       "2019-06-06 11:00:00+00:00      0             0\n",
       "2019-06-06 12:00:00+00:00     10             0\n",
       "2019-06-06 13:00:00+00:00    100             0\n",
       "2019-06-06 14:00:00+00:00    200             0\n",
       "2019-06-06 15:00:00+00:00    350             0\n",
       "2019-06-06 16:00:00+00:00    500             0\n",
       "2019-06-06 17:00:00+00:00    650             0\n",
       "2019-06-06 18:00:00+00:00    800             0\n",
       "2019-06-06 19:00:00+00:00    900             1\n",
       "2019-06-06 20:00:00+00:00    700             1\n",
       "2019-06-06 21:00:00+00:00    200             0\n",
       "2019-06-06 22:00:00+00:00    500             0\n",
       "2019-06-06 23:00:00+00:00    400             0\n",
       "2019-06-07 00:00:00+00:00    200             0\n",
       "2019-06-07 01:00:00+00:00    100             0\n",
       "2019-06-07 02:00:00+00:00     20             0\n",
       "2019-06-07 03:00:00+00:00      0             0\n",
       "2019-06-07 04:00:00+00:00      0             0\n",
       "2019-06-07 05:00:00+00:00      0             0\n",
       "2019-06-07 06:00:00+00:00      0             0"
      ]
     },
     "execution_count": 11,
     "metadata": {},
     "output_type": "execute_result"
    }
   ],
   "source": [
    "observation_file_path = 'https://raw.githubusercontent.com/SolarArbiter/2019-Denver-Workshop/master/observation_1h.csv'\n",
    "observation_values = pd.read_csv(observation_file_path, header=1, index_col=0, parse_dates=True)\n",
    "observation_values = observation_values.tz_convert(None).tz_localize('America/Phoenix').tz_convert('UTC')\n",
    "observation_values"
   ]
  },
  {
   "cell_type": "markdown",
   "metadata": {},
   "source": [
    "This observation object contains the metadata that describes the data."
   ]
  },
  {
   "cell_type": "code",
   "execution_count": 12,
   "metadata": {},
   "outputs": [],
   "source": [
    "observation = datamodel.Observation(\n",
    "    name='sample observation', \n",
    "    interval_length=pd.Timedelta('1hr'),\n",
    "    interval_label='ending',\n",
    "    interval_value_type='mean',\n",
    "    variable='ghi',\n",
    "    uncertainty=0,\n",
    "    site=site\n",
    ")"
   ]
  },
  {
   "cell_type": "markdown",
   "metadata": {},
   "source": [
    "The functions in the persistence module are meant to be easily useable by the community. To facilitate this, the persistence functions allow a user to provide a function that will load their data rather than loading data from the Solar Forecast Arbiter API. Below, we define a function that will load the appropriate data."
   ]
  },
  {
   "cell_type": "code",
   "execution_count": 13,
   "metadata": {},
   "outputs": [],
   "source": [
    "# change default load_data function so we can use without API access\n",
    "def load_data_base(data, observation, data_start, data_end):\n",
    "    # slice doesn't care about closed or interval label \n",
    "    # so here we manually adjust start and end times\n",
    "    if 'instant' in observation.interval_label:\n",
    "        pass\n",
    "    elif observation.interval_label == 'ending':\n",
    "        data_start += pd.Timedelta('1s')\n",
    "    elif observation.interval_label == 'beginning':\n",
    "        data_end -= pd.Timedelta('1s')\n",
    "    return data[data_start:data_end]\n",
    "\n",
    "load_data = partial(load_data_base, observation_values['value'])"
   ]
  },
  {
   "cell_type": "markdown",
   "metadata": {},
   "source": [
    "The code below makes two forecasts, one for persistence of the observed GHI (`persistence_scalar`) and one using persistence of the clear sky index (`persistence_scalar_index`). Notice how the persistence index forecast accounts for the changing solar position."
   ]
  },
  {
   "cell_type": "code",
   "execution_count": 14,
   "metadata": {},
   "outputs": [
    {
     "data": {
      "text/html": [
       "\n",
       "\n",
       "\n",
       "\n",
       "\n",
       "\n",
       "  <div class=\"bk-root\" id=\"e0906400-5a42-4e4e-b237-24414bb0d272\" data-root-id=\"3516\"></div>\n"
      ]
     },
     "metadata": {},
     "output_type": "display_data"
    },
    {
     "data": {
      "application/javascript": [
       "(function(root) {\n",
       "  function embed_document(root) {\n",
       "    \n",
       "  var docs_json = {\"2ca9c170-482c-45dd-aa3c-522dec56a6e0\":{\"roots\":{\"references\":[{\"attributes\":{\"below\":[{\"id\":\"3525\",\"type\":\"DatetimeAxis\"}],\"center\":[{\"id\":\"3529\",\"type\":\"Grid\"},{\"id\":\"3534\",\"type\":\"Grid\"},{\"id\":\"3570\",\"type\":\"Legend\"}],\"left\":[{\"id\":\"3530\",\"type\":\"LinearAxis\"}],\"plot_height\":200,\"renderers\":[{\"id\":\"3549\",\"type\":\"GlyphRenderer\"},{\"id\":\"3575\",\"type\":\"GlyphRenderer\"},{\"id\":\"3602\",\"type\":\"GlyphRenderer\"}],\"title\":{\"id\":\"3551\",\"type\":\"Title\"},\"toolbar\":{\"id\":\"3540\",\"type\":\"Toolbar\"},\"x_range\":{\"id\":\"3517\",\"type\":\"DataRange1d\"},\"x_scale\":{\"id\":\"3521\",\"type\":\"LinearScale\"},\"y_range\":{\"id\":\"3519\",\"type\":\"DataRange1d\"},\"y_scale\":{\"id\":\"3523\",\"type\":\"LinearScale\"}},\"id\":\"3516\",\"subtype\":\"Figure\",\"type\":\"Plot\"},{\"attributes\":{\"line_color\":\"#1f77b4\",\"line_width\":2,\"x\":{\"field\":\"x\"},\"y\":{\"field\":\"y\"}},\"id\":\"3573\",\"type\":\"Line\"},{\"attributes\":{},\"id\":\"3556\",\"type\":\"DatetimeTickFormatter\"},{\"attributes\":{\"line_alpha\":0.1,\"line_color\":\"#1f77b4\",\"line_width\":2,\"x\":{\"field\":\"x\"},\"y\":{\"field\":\"y\"}},\"id\":\"3574\",\"type\":\"Line\"},{\"attributes\":{},\"id\":\"3596\",\"type\":\"UnionRenderers\"},{\"attributes\":{\"callback\":null,\"data\":{\"x\":{\"__ndarray__\":\"AAAYZbmydkIAAADUvLJ2QgAA6ELAsnZCAADQscOydkIAALggx7J2QgAAoI/KsnZCAACI/s2ydkIAAHBt0bJ2QgAAWNzUsnZCAABAS9iydkIAACi627J2QgAAECnfsnZCAAD4l+KydkIAAOAG5rJ2QgAAyHXpsnZCAACw5OyydkIAAJhT8LJ2QgAAgMLzsnZCAABoMfeydkIAAFCg+rJ2QgAAOA/+snZCAAAgfgGzdkIAAAjtBLN2QgAA8FsIs3ZC\",\"dtype\":\"float64\",\"shape\":[24]},\"y\":[5,0,0,0,0,10,100,200,350,500,650,800,900,700,200,500,400,200,100,20,0,0,0,0]},\"selected\":{\"id\":\"3597\",\"type\":\"Selection\"},\"selection_policy\":{\"id\":\"3596\",\"type\":\"UnionRenderers\"}},\"id\":\"3546\",\"type\":\"ColumnDataSource\"},{\"attributes\":{\"bottom_units\":\"screen\",\"fill_alpha\":{\"value\":0.5},\"fill_color\":{\"value\":\"lightgrey\"},\"left_units\":\"screen\",\"level\":\"overlay\",\"line_alpha\":{\"value\":1.0},\"line_color\":{\"value\":\"black\"},\"line_dash\":[4,4],\"line_width\":{\"value\":2},\"render_mode\":\"css\",\"right_units\":\"screen\",\"top_units\":\"screen\"},\"id\":\"3557\",\"type\":\"BoxAnnotation\"},{\"attributes\":{\"data_source\":{\"id\":\"3572\",\"type\":\"ColumnDataSource\"},\"glyph\":{\"id\":\"3573\",\"type\":\"Line\"},\"hover_glyph\":null,\"muted_glyph\":null,\"nonselection_glyph\":{\"id\":\"3574\",\"type\":\"Line\"},\"selection_glyph\":null,\"view\":{\"id\":\"3576\",\"type\":\"CDSView\"}},\"id\":\"3575\",\"type\":\"GlyphRenderer\"},{\"attributes\":{},\"id\":\"3521\",\"type\":\"LinearScale\"},{\"attributes\":{\"ticker\":{\"id\":\"3526\",\"type\":\"DatetimeTicker\"}},\"id\":\"3529\",\"type\":\"Grid\"},{\"attributes\":{\"source\":{\"id\":\"3572\",\"type\":\"ColumnDataSource\"}},\"id\":\"3576\",\"type\":\"CDSView\"},{\"attributes\":{\"mantissas\":[1,2,5],\"max_interval\":500.0,\"num_minor_ticks\":0},\"id\":\"3558\",\"type\":\"AdaptiveTicker\"},{\"attributes\":{\"num_minor_ticks\":5,\"tickers\":[{\"id\":\"3558\",\"type\":\"AdaptiveTicker\"},{\"id\":\"3559\",\"type\":\"AdaptiveTicker\"},{\"id\":\"3560\",\"type\":\"AdaptiveTicker\"},{\"id\":\"3561\",\"type\":\"DaysTicker\"},{\"id\":\"3562\",\"type\":\"DaysTicker\"},{\"id\":\"3563\",\"type\":\"DaysTicker\"},{\"id\":\"3564\",\"type\":\"DaysTicker\"},{\"id\":\"3565\",\"type\":\"MonthsTicker\"},{\"id\":\"3566\",\"type\":\"MonthsTicker\"},{\"id\":\"3567\",\"type\":\"MonthsTicker\"},{\"id\":\"3568\",\"type\":\"MonthsTicker\"},{\"id\":\"3569\",\"type\":\"YearsTicker\"}]},\"id\":\"3526\",\"type\":\"DatetimeTicker\"},{\"attributes\":{\"base\":60,\"mantissas\":[1,2,5,10,15,20,30],\"max_interval\":1800000.0,\"min_interval\":1000.0,\"num_minor_ticks\":0},\"id\":\"3559\",\"type\":\"AdaptiveTicker\"},{\"attributes\":{},\"id\":\"3597\",\"type\":\"Selection\"},{\"attributes\":{\"label\":{\"value\":\"persistence\"},\"renderers\":[{\"id\":\"3575\",\"type\":\"GlyphRenderer\"}]},\"id\":\"3598\",\"type\":\"LegendItem\"},{\"attributes\":{\"base\":24,\"mantissas\":[1,2,4,6,8,12],\"max_interval\":43200000.0,\"min_interval\":3600000.0,\"num_minor_ticks\":0},\"id\":\"3560\",\"type\":\"AdaptiveTicker\"},{\"attributes\":{\"callback\":null},\"id\":\"3517\",\"type\":\"DataRange1d\"},{\"attributes\":{\"callback\":null},\"id\":\"3519\",\"type\":\"DataRange1d\"},{\"attributes\":{\"callback\":null,\"data\":{\"x\":{\"__ndarray__\":\"AABmA9yydkIAAKRM3LJ2QgAA4pXcsnZCAAAg39yydkIAAF4o3bJ2QgAAnHHdsnZCAADaut2ydkIAABgE3rJ2QgAAVk3esnZCAACUlt6ydkIAANLf3rJ2QgAAECnfsnZC\",\"dtype\":\"float64\",\"shape\":[12]},\"y\":{\"__ndarray__\":\"A0/WFet3hkCjRXlDX8KGQJISGBVvCodAFiKmQRFQh0AnuerWPJOHQCRJtDXp04dAfs7PFg4SiEAf3oaHo02IQDVjHO2hhohA1jiwAwK9iEBsNeXevPCIQHc4auvLIYlA\",\"dtype\":\"float64\",\"shape\":[12]}},\"selected\":{\"id\":\"3848\",\"type\":\"Selection\"},\"selection_policy\":{\"id\":\"3847\",\"type\":\"UnionRenderers\"}},\"id\":\"3599\",\"type\":\"ColumnDataSource\"},{\"attributes\":{\"days\":[1,2,3,4,5,6,7,8,9,10,11,12,13,14,15,16,17,18,19,20,21,22,23,24,25,26,27,28,29,30,31]},\"id\":\"3561\",\"type\":\"DaysTicker\"},{\"attributes\":{\"callback\":null,\"data\":{\"x\":{\"__ndarray__\":\"AABmA9yydkIAAKRM3LJ2QgAA4pXcsnZCAAAg39yydkIAAF4o3bJ2QgAAnHHdsnZCAADaut2ydkIAABgE3rJ2QgAAVk3esnZCAACUlt6ydkIAANLf3rJ2QgAAECnfsnZC\",\"dtype\":\"float64\",\"shape\":[12]},\"y\":{\"__ndarray__\":\"AAAAAABQhEAAAAAAAFCEQAAAAAAAUIRAAAAAAABQhEAAAAAAAFCEQAAAAAAAUIRAAAAAAABQhEAAAAAAAFCEQAAAAAAAUIRAAAAAAABQhEAAAAAAAFCEQAAAAAAAUIRA\",\"dtype\":\"float64\",\"shape\":[12]}},\"selected\":{\"id\":\"3626\",\"type\":\"Selection\"},\"selection_policy\":{\"id\":\"3625\",\"type\":\"UnionRenderers\"}},\"id\":\"3572\",\"type\":\"ColumnDataSource\"},{\"attributes\":{\"active_drag\":\"auto\",\"active_inspect\":\"auto\",\"active_multi\":null,\"active_scroll\":\"auto\",\"active_tap\":\"auto\",\"tools\":[{\"id\":\"3535\",\"type\":\"PanTool\"},{\"id\":\"3536\",\"type\":\"BoxZoomTool\"},{\"id\":\"3537\",\"type\":\"WheelZoomTool\"},{\"id\":\"3538\",\"type\":\"ResetTool\"},{\"id\":\"3539\",\"type\":\"SaveTool\"}]},\"id\":\"3540\",\"type\":\"Toolbar\"},{\"attributes\":{\"days\":[1,4,7,10,13,16,19,22,25,28]},\"id\":\"3562\",\"type\":\"DaysTicker\"},{\"attributes\":{\"line_color\":\"#ff7f0e\",\"line_width\":2,\"x\":{\"field\":\"x\"},\"y\":{\"field\":\"y\"}},\"id\":\"3600\",\"type\":\"Line\"},{\"attributes\":{},\"id\":\"3535\",\"type\":\"PanTool\"},{\"attributes\":{\"days\":[1,8,15,22]},\"id\":\"3563\",\"type\":\"DaysTicker\"},{\"attributes\":{\"line_alpha\":0.1,\"line_color\":\"#1f77b4\",\"line_width\":2,\"x\":{\"field\":\"x\"},\"y\":{\"field\":\"y\"}},\"id\":\"3601\",\"type\":\"Line\"},{\"attributes\":{\"overlay\":{\"id\":\"3557\",\"type\":\"BoxAnnotation\"}},\"id\":\"3536\",\"type\":\"BoxZoomTool\"},{\"attributes\":{\"days\":[1,15]},\"id\":\"3564\",\"type\":\"DaysTicker\"},{\"attributes\":{\"data_source\":{\"id\":\"3599\",\"type\":\"ColumnDataSource\"},\"glyph\":{\"id\":\"3600\",\"type\":\"Line\"},\"hover_glyph\":null,\"muted_glyph\":null,\"nonselection_glyph\":{\"id\":\"3601\",\"type\":\"Line\"},\"selection_glyph\":null,\"view\":{\"id\":\"3603\",\"type\":\"CDSView\"}},\"id\":\"3602\",\"type\":\"GlyphRenderer\"},{\"attributes\":{\"dimensions\":\"width\"},\"id\":\"3537\",\"type\":\"WheelZoomTool\"},{\"attributes\":{\"months\":[0,1,2,3,4,5,6,7,8,9,10,11]},\"id\":\"3565\",\"type\":\"MonthsTicker\"},{\"attributes\":{\"source\":{\"id\":\"3599\",\"type\":\"ColumnDataSource\"}},\"id\":\"3603\",\"type\":\"CDSView\"},{\"attributes\":{},\"id\":\"3523\",\"type\":\"LinearScale\"},{\"attributes\":{},\"id\":\"3538\",\"type\":\"ResetTool\"},{\"attributes\":{\"months\":[0,2,4,6,8,10]},\"id\":\"3566\",\"type\":\"MonthsTicker\"},{\"attributes\":{},\"id\":\"3625\",\"type\":\"UnionRenderers\"},{\"attributes\":{},\"id\":\"3539\",\"type\":\"SaveTool\"},{\"attributes\":{\"axis_label\":\"Irradiance (W/m^2)\",\"formatter\":{\"id\":\"3554\",\"type\":\"BasicTickFormatter\"},\"ticker\":{\"id\":\"3531\",\"type\":\"BasicTicker\"}},\"id\":\"3530\",\"type\":\"LinearAxis\"},{\"attributes\":{\"months\":[0,4,8]},\"id\":\"3567\",\"type\":\"MonthsTicker\"},{\"attributes\":{\"line_alpha\":0.1,\"line_color\":\"#1f77b4\",\"line_width\":2,\"x\":{\"field\":\"x\"},\"y\":{\"field\":\"y\"}},\"id\":\"3548\",\"type\":\"Line\"},{\"attributes\":{},\"id\":\"3626\",\"type\":\"Selection\"},{\"attributes\":{\"months\":[0,6]},\"id\":\"3568\",\"type\":\"MonthsTicker\"},{\"attributes\":{\"label\":{\"value\":\"persistence index\"},\"renderers\":[{\"id\":\"3602\",\"type\":\"GlyphRenderer\"}]},\"id\":\"3627\",\"type\":\"LegendItem\"},{\"attributes\":{\"data_source\":{\"id\":\"3546\",\"type\":\"ColumnDataSource\"},\"glyph\":{\"id\":\"3547\",\"type\":\"Line\"},\"hover_glyph\":null,\"muted_glyph\":null,\"nonselection_glyph\":{\"id\":\"3548\",\"type\":\"Line\"},\"selection_glyph\":null,\"view\":{\"id\":\"3550\",\"type\":\"CDSView\"}},\"id\":\"3549\",\"type\":\"GlyphRenderer\"},{\"attributes\":{\"formatter\":{\"id\":\"3556\",\"type\":\"DatetimeTickFormatter\"},\"ticker\":{\"id\":\"3526\",\"type\":\"DatetimeTicker\"}},\"id\":\"3525\",\"type\":\"DatetimeAxis\"},{\"attributes\":{},\"id\":\"3569\",\"type\":\"YearsTicker\"},{\"attributes\":{\"dimension\":1,\"ticker\":{\"id\":\"3531\",\"type\":\"BasicTicker\"}},\"id\":\"3534\",\"type\":\"Grid\"},{\"attributes\":{\"items\":[{\"id\":\"3571\",\"type\":\"LegendItem\"},{\"id\":\"3598\",\"type\":\"LegendItem\"},{\"id\":\"3627\",\"type\":\"LegendItem\"}],\"location\":\"top_left\"},\"id\":\"3570\",\"type\":\"Legend\"},{\"attributes\":{\"source\":{\"id\":\"3546\",\"type\":\"ColumnDataSource\"}},\"id\":\"3550\",\"type\":\"CDSView\"},{\"attributes\":{},\"id\":\"3847\",\"type\":\"UnionRenderers\"},{\"attributes\":{\"label\":{\"value\":\"observed\"},\"renderers\":[{\"id\":\"3549\",\"type\":\"GlyphRenderer\"}]},\"id\":\"3571\",\"type\":\"LegendItem\"},{\"attributes\":{\"text\":\"\"},\"id\":\"3551\",\"type\":\"Title\"},{\"attributes\":{},\"id\":\"3531\",\"type\":\"BasicTicker\"},{\"attributes\":{},\"id\":\"3848\",\"type\":\"Selection\"},{\"attributes\":{\"line_width\":2,\"x\":{\"field\":\"x\"},\"y\":{\"field\":\"y\"}},\"id\":\"3547\",\"type\":\"Line\"},{\"attributes\":{},\"id\":\"3554\",\"type\":\"BasicTickFormatter\"}],\"root_ids\":[\"3516\"]},\"title\":\"Bokeh Application\",\"version\":\"1.2.0\"}};\n",
       "  var render_items = [{\"docid\":\"2ca9c170-482c-45dd-aa3c-522dec56a6e0\",\"roots\":{\"3516\":\"e0906400-5a42-4e4e-b237-24414bb0d272\"}}];\n",
       "  root.Bokeh.embed.embed_items_notebook(docs_json, render_items);\n",
       "\n",
       "  }\n",
       "  if (root.Bokeh !== undefined) {\n",
       "    embed_document(root);\n",
       "  } else {\n",
       "    var attempts = 0;\n",
       "    var timer = setInterval(function(root) {\n",
       "      if (root.Bokeh !== undefined) {\n",
       "        embed_document(root);\n",
       "        clearInterval(timer);\n",
       "      }\n",
       "      attempts++;\n",
       "      if (attempts > 100) {\n",
       "        console.log(\"Bokeh: ERROR: Unable to run BokehJS code because BokehJS library is missing\");\n",
       "        clearInterval(timer);\n",
       "      }\n",
       "    }, 10, root)\n",
       "  }\n",
       "})(window);"
      ],
      "application/vnd.bokehjs_exec.v0+json": ""
     },
     "metadata": {
      "application/vnd.bokehjs_exec.v0+json": {
       "id": "3516"
      }
     },
     "output_type": "display_data"
    }
   ],
   "source": [
    "# persistence forecasts with scalar index\n",
    "# observation.interval_label = 'ending', \n",
    "# so data ranges are exclusive of start and inclusive of end\n",
    "data_start = pd.Timestamp('20190606 1600Z')\n",
    "data_end = pd.Timestamp('20190606 1700Z')\n",
    "forecast_start = pd.Timestamp('20190606 1700Z')\n",
    "forecast_end = pd.Timestamp('20190606 1800Z')\n",
    "interval_length = pd.Timedelta('5min')\n",
    "interval_label = 'ending'\n",
    "\n",
    "fx_per = persistence.persistence_scalar(\n",
    "    observation, data_start, data_end, forecast_start,\n",
    "    forecast_end, interval_length, interval_label, load_data=load_data)\n",
    "fx_per_idx = persistence.persistence_scalar_index(\n",
    "    observation, data_start, data_end, forecast_start,\n",
    "    forecast_end, interval_length, interval_label, load_data=load_data)\n",
    "\n",
    "source = ColumnDataSource({'persistence': fx_per, 'persistence index': fx_per_idx, 'index': fx_per_idx.index})\n",
    "\n",
    "fig_kwargs = dict(tools=TOOLS, x_axis_type=\"datetime\", plot_height=200)\n",
    "palette = iter(PALETTE)\n",
    "fig1 = figure(**fig_kwargs)\n",
    "fig1.line(observation_values.index, observation_values['value'], legend='observed', color='black', line_width=2)\n",
    "fig1.line(fx_per.index, fx_per, legend='persistence', color=next(palette), line_width=2)\n",
    "fig1.line(fx_per_idx.index, fx_per_idx, legend='persistence index', color=next(palette), line_width=2)\n",
    "fig1.yaxis.axis_label = \"Irradiance (W/m^2)\"\n",
    "fig1.legend.location = \"top_left\"\n",
    "\n",
    "show(fig1)"
   ]
  },
  {
   "cell_type": "markdown",
   "metadata": {},
   "source": [
    "Same data and forecast methods but for a cloudy period."
   ]
  },
  {
   "cell_type": "code",
   "execution_count": 15,
   "metadata": {},
   "outputs": [
    {
     "data": {
      "text/html": [
       "\n",
       "\n",
       "\n",
       "\n",
       "\n",
       "\n",
       "  <div class=\"bk-root\" id=\"e41d3650-e79c-45a9-ac17-11830a0b1ae3\" data-root-id=\"4000\"></div>\n"
      ]
     },
     "metadata": {},
     "output_type": "display_data"
    },
    {
     "data": {
      "application/javascript": [
       "(function(root) {\n",
       "  function embed_document(root) {\n",
       "    \n",
       "  var docs_json = {\"c0f8f237-64cf-4fea-8ffc-5ee504045990\":{\"roots\":{\"references\":[{\"attributes\":{\"below\":[{\"id\":\"4009\",\"type\":\"DatetimeAxis\"}],\"center\":[{\"id\":\"4013\",\"type\":\"Grid\"},{\"id\":\"4018\",\"type\":\"Grid\"},{\"id\":\"4054\",\"type\":\"Legend\"}],\"left\":[{\"id\":\"4014\",\"type\":\"LinearAxis\"}],\"plot_height\":200,\"renderers\":[{\"id\":\"4033\",\"type\":\"GlyphRenderer\"},{\"id\":\"4059\",\"type\":\"GlyphRenderer\"},{\"id\":\"4086\",\"type\":\"GlyphRenderer\"}],\"title\":{\"id\":\"4035\",\"type\":\"Title\"},\"toolbar\":{\"id\":\"4024\",\"type\":\"Toolbar\"},\"x_range\":{\"id\":\"4001\",\"type\":\"DataRange1d\"},\"x_scale\":{\"id\":\"4005\",\"type\":\"LinearScale\"},\"y_range\":{\"id\":\"4003\",\"type\":\"DataRange1d\"},\"y_scale\":{\"id\":\"4007\",\"type\":\"LinearScale\"}},\"id\":\"4000\",\"subtype\":\"Figure\",\"type\":\"Plot\"},{\"attributes\":{},\"id\":\"4007\",\"type\":\"LinearScale\"},{\"attributes\":{},\"id\":\"4023\",\"type\":\"SaveTool\"},{\"attributes\":{\"months\":[0,4,8]},\"id\":\"4051\",\"type\":\"MonthsTicker\"},{\"attributes\":{\"months\":[0,1,2,3,4,5,6,7,8,9,10,11]},\"id\":\"4049\",\"type\":\"MonthsTicker\"},{\"attributes\":{\"callback\":null},\"id\":\"4001\",\"type\":\"DataRange1d\"},{\"attributes\":{\"line_width\":2,\"x\":{\"field\":\"x\"},\"y\":{\"field\":\"y\"}},\"id\":\"4031\",\"type\":\"Line\"},{\"attributes\":{\"active_drag\":\"auto\",\"active_inspect\":\"auto\",\"active_multi\":null,\"active_scroll\":\"auto\",\"active_tap\":\"auto\",\"tools\":[{\"id\":\"4019\",\"type\":\"PanTool\"},{\"id\":\"4020\",\"type\":\"BoxZoomTool\"},{\"id\":\"4021\",\"type\":\"WheelZoomTool\"},{\"id\":\"4022\",\"type\":\"ResetTool\"},{\"id\":\"4023\",\"type\":\"SaveTool\"}]},\"id\":\"4024\",\"type\":\"Toolbar\"},{\"attributes\":{\"months\":[0,6]},\"id\":\"4052\",\"type\":\"MonthsTicker\"},{\"attributes\":{\"callback\":null,\"data\":{\"x\":{\"__ndarray__\":\"AAAeUOaydkIAAFyZ5rJ2QgAAmuLmsnZCAADYK+eydkIAABZ157J2QgAAVL7nsnZCAACSB+iydkIAANBQ6LJ2QgAADprosnZCAABM4+iydkIAAIos6bJ2QgAAyHXpsnZC\",\"dtype\":\"float64\",\"shape\":[12]},\"y\":{\"__ndarray__\":\"AAAAAADghUAAAAAAAOCFQAAAAAAA4IVAAAAAAADghUAAAAAAAOCFQAAAAAAA4IVAAAAAAADghUAAAAAAAOCFQAAAAAAA4IVAAAAAAADghUAAAAAAAOCFQAAAAAAA4IVA\",\"dtype\":\"float64\",\"shape\":[12]}},\"selected\":{\"id\":\"4110\",\"type\":\"Selection\"},\"selection_policy\":{\"id\":\"4109\",\"type\":\"UnionRenderers\"}},\"id\":\"4056\",\"type\":\"ColumnDataSource\"},{\"attributes\":{\"num_minor_ticks\":5,\"tickers\":[{\"id\":\"4042\",\"type\":\"AdaptiveTicker\"},{\"id\":\"4043\",\"type\":\"AdaptiveTicker\"},{\"id\":\"4044\",\"type\":\"AdaptiveTicker\"},{\"id\":\"4045\",\"type\":\"DaysTicker\"},{\"id\":\"4046\",\"type\":\"DaysTicker\"},{\"id\":\"4047\",\"type\":\"DaysTicker\"},{\"id\":\"4048\",\"type\":\"DaysTicker\"},{\"id\":\"4049\",\"type\":\"MonthsTicker\"},{\"id\":\"4050\",\"type\":\"MonthsTicker\"},{\"id\":\"4051\",\"type\":\"MonthsTicker\"},{\"id\":\"4052\",\"type\":\"MonthsTicker\"},{\"id\":\"4053\",\"type\":\"YearsTicker\"}]},\"id\":\"4010\",\"type\":\"DatetimeTicker\"},{\"attributes\":{},\"id\":\"4053\",\"type\":\"YearsTicker\"},{\"attributes\":{\"data_source\":{\"id\":\"4030\",\"type\":\"ColumnDataSource\"},\"glyph\":{\"id\":\"4031\",\"type\":\"Line\"},\"hover_glyph\":null,\"muted_glyph\":null,\"nonselection_glyph\":{\"id\":\"4032\",\"type\":\"Line\"},\"selection_glyph\":null,\"view\":{\"id\":\"4034\",\"type\":\"CDSView\"}},\"id\":\"4033\",\"type\":\"GlyphRenderer\"},{\"attributes\":{},\"id\":\"4015\",\"type\":\"BasicTicker\"},{\"attributes\":{\"dimension\":1,\"ticker\":{\"id\":\"4015\",\"type\":\"BasicTicker\"}},\"id\":\"4018\",\"type\":\"Grid\"},{\"attributes\":{\"items\":[{\"id\":\"4055\",\"type\":\"LegendItem\"},{\"id\":\"4082\",\"type\":\"LegendItem\"},{\"id\":\"4111\",\"type\":\"LegendItem\"}],\"location\":\"top_left\"},\"id\":\"4054\",\"type\":\"Legend\"},{\"attributes\":{\"source\":{\"id\":\"4030\",\"type\":\"ColumnDataSource\"}},\"id\":\"4034\",\"type\":\"CDSView\"},{\"attributes\":{},\"id\":\"4005\",\"type\":\"LinearScale\"},{\"attributes\":{\"label\":{\"value\":\"observed\"},\"renderers\":[{\"id\":\"4033\",\"type\":\"GlyphRenderer\"}]},\"id\":\"4055\",\"type\":\"LegendItem\"},{\"attributes\":{\"text\":\"\"},\"id\":\"4035\",\"type\":\"Title\"},{\"attributes\":{\"source\":{\"id\":\"4083\",\"type\":\"ColumnDataSource\"}},\"id\":\"4087\",\"type\":\"CDSView\"},{\"attributes\":{\"callback\":null,\"data\":{\"x\":{\"__ndarray__\":\"AAAeUOaydkIAAFyZ5rJ2QgAAmuLmsnZCAADYK+eydkIAABZ157J2QgAAVL7nsnZCAACSB+iydkIAANBQ6LJ2QgAADprosnZCAABM4+iydkIAAIos6bJ2QgAAyHXpsnZC\",\"dtype\":\"float64\",\"shape\":[12]},\"y\":{\"__ndarray__\":\"rmNQcdqihUAeKobfcY6FQINMMAO1d4VAPUi0vKZehUDlWXU3SkOFQKiSFOuiJYVABT9ImbQFhUB2cVBPg+OEQDX1HmQTv4RAoubTeGmYhED1+1N4im+EQDLkH5Z7RIRA\",\"dtype\":\"float64\",\"shape\":[12]}},\"selected\":{\"id\":\"4357\",\"type\":\"Selection\"},\"selection_policy\":{\"id\":\"4356\",\"type\":\"UnionRenderers\"}},\"id\":\"4083\",\"type\":\"ColumnDataSource\"},{\"attributes\":{},\"id\":\"4038\",\"type\":\"BasicTickFormatter\"},{\"attributes\":{\"line_color\":\"#1f77b4\",\"line_width\":2,\"x\":{\"field\":\"x\"},\"y\":{\"field\":\"y\"}},\"id\":\"4057\",\"type\":\"Line\"},{\"attributes\":{},\"id\":\"4109\",\"type\":\"UnionRenderers\"},{\"attributes\":{},\"id\":\"4040\",\"type\":\"DatetimeTickFormatter\"},{\"attributes\":{\"line_alpha\":0.1,\"line_color\":\"#1f77b4\",\"line_width\":2,\"x\":{\"field\":\"x\"},\"y\":{\"field\":\"y\"}},\"id\":\"4058\",\"type\":\"Line\"},{\"attributes\":{\"bottom_units\":\"screen\",\"fill_alpha\":{\"value\":0.5},\"fill_color\":{\"value\":\"lightgrey\"},\"left_units\":\"screen\",\"level\":\"overlay\",\"line_alpha\":{\"value\":1.0},\"line_color\":{\"value\":\"black\"},\"line_dash\":[4,4],\"line_width\":{\"value\":2},\"render_mode\":\"css\",\"right_units\":\"screen\",\"top_units\":\"screen\"},\"id\":\"4041\",\"type\":\"BoxAnnotation\"},{\"attributes\":{\"data_source\":{\"id\":\"4056\",\"type\":\"ColumnDataSource\"},\"glyph\":{\"id\":\"4057\",\"type\":\"Line\"},\"hover_glyph\":null,\"muted_glyph\":null,\"nonselection_glyph\":{\"id\":\"4058\",\"type\":\"Line\"},\"selection_glyph\":null,\"view\":{\"id\":\"4060\",\"type\":\"CDSView\"}},\"id\":\"4059\",\"type\":\"GlyphRenderer\"},{\"attributes\":{\"mantissas\":[1,2,5],\"max_interval\":500.0,\"num_minor_ticks\":0},\"id\":\"4042\",\"type\":\"AdaptiveTicker\"},{\"attributes\":{\"source\":{\"id\":\"4056\",\"type\":\"ColumnDataSource\"}},\"id\":\"4060\",\"type\":\"CDSView\"},{\"attributes\":{\"formatter\":{\"id\":\"4040\",\"type\":\"DatetimeTickFormatter\"},\"ticker\":{\"id\":\"4010\",\"type\":\"DatetimeTicker\"}},\"id\":\"4009\",\"type\":\"DatetimeAxis\"},{\"attributes\":{},\"id\":\"4080\",\"type\":\"UnionRenderers\"},{\"attributes\":{\"base\":60,\"mantissas\":[1,2,5,10,15,20,30],\"max_interval\":1800000.0,\"min_interval\":1000.0,\"num_minor_ticks\":0},\"id\":\"4043\",\"type\":\"AdaptiveTicker\"},{\"attributes\":{},\"id\":\"4357\",\"type\":\"Selection\"},{\"attributes\":{\"axis_label\":\"Irradiance (W/m^2)\",\"formatter\":{\"id\":\"4038\",\"type\":\"BasicTickFormatter\"},\"ticker\":{\"id\":\"4015\",\"type\":\"BasicTicker\"}},\"id\":\"4014\",\"type\":\"LinearAxis\"},{\"attributes\":{\"ticker\":{\"id\":\"4010\",\"type\":\"DatetimeTicker\"}},\"id\":\"4013\",\"type\":\"Grid\"},{\"attributes\":{\"base\":24,\"mantissas\":[1,2,4,6,8,12],\"max_interval\":43200000.0,\"min_interval\":3600000.0,\"num_minor_ticks\":0},\"id\":\"4044\",\"type\":\"AdaptiveTicker\"},{\"attributes\":{},\"id\":\"4081\",\"type\":\"Selection\"},{\"attributes\":{\"label\":{\"value\":\"persistence\"},\"renderers\":[{\"id\":\"4059\",\"type\":\"GlyphRenderer\"}]},\"id\":\"4082\",\"type\":\"LegendItem\"},{\"attributes\":{\"line_alpha\":0.1,\"line_color\":\"#1f77b4\",\"line_width\":2,\"x\":{\"field\":\"x\"},\"y\":{\"field\":\"y\"}},\"id\":\"4032\",\"type\":\"Line\"},{\"attributes\":{\"days\":[1,2,3,4,5,6,7,8,9,10,11,12,13,14,15,16,17,18,19,20,21,22,23,24,25,26,27,28,29,30,31]},\"id\":\"4045\",\"type\":\"DaysTicker\"},{\"attributes\":{\"days\":[1,4,7,10,13,16,19,22,25,28]},\"id\":\"4046\",\"type\":\"DaysTicker\"},{\"attributes\":{},\"id\":\"4110\",\"type\":\"Selection\"},{\"attributes\":{},\"id\":\"4019\",\"type\":\"PanTool\"},{\"attributes\":{\"line_color\":\"#ff7f0e\",\"line_width\":2,\"x\":{\"field\":\"x\"},\"y\":{\"field\":\"y\"}},\"id\":\"4084\",\"type\":\"Line\"},{\"attributes\":{\"days\":[1,8,15,22]},\"id\":\"4047\",\"type\":\"DaysTicker\"},{\"attributes\":{},\"id\":\"4356\",\"type\":\"UnionRenderers\"},{\"attributes\":{\"overlay\":{\"id\":\"4041\",\"type\":\"BoxAnnotation\"}},\"id\":\"4020\",\"type\":\"BoxZoomTool\"},{\"attributes\":{\"line_alpha\":0.1,\"line_color\":\"#1f77b4\",\"line_width\":2,\"x\":{\"field\":\"x\"},\"y\":{\"field\":\"y\"}},\"id\":\"4085\",\"type\":\"Line\"},{\"attributes\":{\"days\":[1,15]},\"id\":\"4048\",\"type\":\"DaysTicker\"},{\"attributes\":{\"label\":{\"value\":\"persistence index\"},\"renderers\":[{\"id\":\"4086\",\"type\":\"GlyphRenderer\"}]},\"id\":\"4111\",\"type\":\"LegendItem\"},{\"attributes\":{\"data_source\":{\"id\":\"4083\",\"type\":\"ColumnDataSource\"},\"glyph\":{\"id\":\"4084\",\"type\":\"Line\"},\"hover_glyph\":null,\"muted_glyph\":null,\"nonselection_glyph\":{\"id\":\"4085\",\"type\":\"Line\"},\"selection_glyph\":null,\"view\":{\"id\":\"4087\",\"type\":\"CDSView\"}},\"id\":\"4086\",\"type\":\"GlyphRenderer\"},{\"attributes\":{\"dimensions\":\"width\"},\"id\":\"4021\",\"type\":\"WheelZoomTool\"},{\"attributes\":{\"callback\":null},\"id\":\"4003\",\"type\":\"DataRange1d\"},{\"attributes\":{\"callback\":null,\"data\":{\"x\":{\"__ndarray__\":\"AAAYZbmydkIAAADUvLJ2QgAA6ELAsnZCAADQscOydkIAALggx7J2QgAAoI/KsnZCAACI/s2ydkIAAHBt0bJ2QgAAWNzUsnZCAABAS9iydkIAACi627J2QgAAECnfsnZCAAD4l+KydkIAAOAG5rJ2QgAAyHXpsnZCAACw5OyydkIAAJhT8LJ2QgAAgMLzsnZCAABoMfeydkIAAFCg+rJ2QgAAOA/+snZCAAAgfgGzdkIAAAjtBLN2QgAA8FsIs3ZC\",\"dtype\":\"float64\",\"shape\":[24]},\"y\":[5,0,0,0,0,10,100,200,350,500,650,800,900,700,200,500,400,200,100,20,0,0,0,0]},\"selected\":{\"id\":\"4081\",\"type\":\"Selection\"},\"selection_policy\":{\"id\":\"4080\",\"type\":\"UnionRenderers\"}},\"id\":\"4030\",\"type\":\"ColumnDataSource\"},{\"attributes\":{},\"id\":\"4022\",\"type\":\"ResetTool\"},{\"attributes\":{\"months\":[0,2,4,6,8,10]},\"id\":\"4050\",\"type\":\"MonthsTicker\"}],\"root_ids\":[\"4000\"]},\"title\":\"Bokeh Application\",\"version\":\"1.2.0\"}};\n",
       "  var render_items = [{\"docid\":\"c0f8f237-64cf-4fea-8ffc-5ee504045990\",\"roots\":{\"4000\":\"e41d3650-e79c-45a9-ac17-11830a0b1ae3\"}}];\n",
       "  root.Bokeh.embed.embed_items_notebook(docs_json, render_items);\n",
       "\n",
       "  }\n",
       "  if (root.Bokeh !== undefined) {\n",
       "    embed_document(root);\n",
       "  } else {\n",
       "    var attempts = 0;\n",
       "    var timer = setInterval(function(root) {\n",
       "      if (root.Bokeh !== undefined) {\n",
       "        embed_document(root);\n",
       "        clearInterval(timer);\n",
       "      }\n",
       "      attempts++;\n",
       "      if (attempts > 100) {\n",
       "        console.log(\"Bokeh: ERROR: Unable to run BokehJS code because BokehJS library is missing\");\n",
       "        clearInterval(timer);\n",
       "      }\n",
       "    }, 10, root)\n",
       "  }\n",
       "})(window);"
      ],
      "application/vnd.bokehjs_exec.v0+json": ""
     },
     "metadata": {
      "application/vnd.bokehjs_exec.v0+json": {
       "id": "4000"
      }
     },
     "output_type": "display_data"
    }
   ],
   "source": [
    "# persistence forecasts with scalar index\n",
    "# observation.interval_label = 'ending', \n",
    "# so data ranges are exclusive of start and inclusive of end\n",
    "data_start = pd.Timestamp('20190606 1900Z')\n",
    "data_end = pd.Timestamp('20190606 2000Z')\n",
    "forecast_start = pd.Timestamp('20190606 2000Z')\n",
    "forecast_end = pd.Timestamp('20190606 2100Z')\n",
    "interval_length = pd.Timedelta('5min')\n",
    "interval_label = 'ending'\n",
    "\n",
    "fx_per = persistence.persistence_scalar(\n",
    "    observation, data_start, data_end, forecast_start,\n",
    "    forecast_end, interval_length, interval_label, load_data=load_data)\n",
    "fx_per_idx = persistence.persistence_scalar_index(\n",
    "    observation, data_start, data_end, forecast_start,\n",
    "    forecast_end, interval_length, interval_label, load_data=load_data)\n",
    "\n",
    "source = ColumnDataSource({'persistence': fx_per, 'persistence index': fx_per_idx, 'index': fx_per_idx.index})\n",
    "\n",
    "fig_kwargs = dict(tools=TOOLS, x_axis_type=\"datetime\", plot_height=200)\n",
    "palette = iter(PALETTE)\n",
    "fig1 = figure(**fig_kwargs)\n",
    "fig1.line(observation_values.index, observation_values['value'], legend='observed', color='black', line_width=2)\n",
    "fig1.line(fx_per.index, fx_per, legend='persistence', color=next(palette), line_width=2)\n",
    "fig1.line(fx_per_idx.index, fx_per_idx, legend='persistence index', color=next(palette), line_width=2)\n",
    "fig1.yaxis.axis_label = \"Irradiance (W/m^2)\"\n",
    "fig1.legend.location = \"top_left\"\n",
    "\n",
    "show(fig1)"
   ]
  },
  {
   "cell_type": "markdown",
   "metadata": {},
   "source": [
    "\"Day ahead persistence\" is another flavor of persistence in which the observed values for a 24 hour period are used as the forecast for another 24 hour period. The Solar Forecast Arbiter's [`persistence_interval`](https://solarforecastarbiter-core.readthedocs.io/en/latest/generated/solarforecastarbiter.reference_forecasts.persistence.persistence_interval.html#solarforecastarbiter.reference_forecasts.persistence.persistence_interval) function implements this feature. "
   ]
  },
  {
   "cell_type": "code",
   "execution_count": 16,
   "metadata": {},
   "outputs": [
    {
     "data": {
      "text/html": [
       "\n",
       "\n",
       "\n",
       "\n",
       "\n",
       "\n",
       "  <div class=\"bk-root\" id=\"01abd8cb-0d67-4d32-8c9d-89d9324c5d1e\" data-root-id=\"4508\"></div>\n"
      ]
     },
     "metadata": {},
     "output_type": "display_data"
    },
    {
     "data": {
      "application/javascript": [
       "(function(root) {\n",
       "  function embed_document(root) {\n",
       "    \n",
       "  var docs_json = {\"3ae46ca7-72a4-4c62-914f-0bdbb210d060\":{\"roots\":{\"references\":[{\"attributes\":{\"below\":[{\"id\":\"4517\",\"type\":\"DatetimeAxis\"}],\"center\":[{\"id\":\"4521\",\"type\":\"Grid\"},{\"id\":\"4526\",\"type\":\"Grid\"},{\"id\":\"4562\",\"type\":\"Legend\"}],\"left\":[{\"id\":\"4522\",\"type\":\"LinearAxis\"}],\"plot_height\":200,\"renderers\":[{\"id\":\"4541\",\"type\":\"GlyphRenderer\"},{\"id\":\"4567\",\"type\":\"GlyphRenderer\"}],\"title\":{\"id\":\"4543\",\"type\":\"Title\"},\"toolbar\":{\"id\":\"4532\",\"type\":\"Toolbar\"},\"x_range\":{\"id\":\"4509\",\"type\":\"DataRange1d\"},\"x_scale\":{\"id\":\"4513\",\"type\":\"LinearScale\"},\"y_range\":{\"id\":\"4511\",\"type\":\"DataRange1d\"},\"y_scale\":{\"id\":\"4515\",\"type\":\"LinearScale\"}},\"id\":\"4508\",\"subtype\":\"Figure\",\"type\":\"Plot\"},{\"attributes\":{\"overlay\":{\"id\":\"4549\",\"type\":\"BoxAnnotation\"}},\"id\":\"4528\",\"type\":\"BoxZoomTool\"},{\"attributes\":{\"days\":[1,8,15,22]},\"id\":\"4555\",\"type\":\"DaysTicker\"},{\"attributes\":{\"dimensions\":\"width\"},\"id\":\"4529\",\"type\":\"WheelZoomTool\"},{\"attributes\":{},\"id\":\"4561\",\"type\":\"YearsTicker\"},{\"attributes\":{\"days\":[1,15]},\"id\":\"4556\",\"type\":\"DaysTicker\"},{\"attributes\":{},\"id\":\"4530\",\"type\":\"ResetTool\"},{\"attributes\":{\"label\":{\"value\":\"observed\"},\"renderers\":[{\"id\":\"4541\",\"type\":\"GlyphRenderer\"}]},\"id\":\"4563\",\"type\":\"LegendItem\"},{\"attributes\":{\"active_drag\":\"auto\",\"active_inspect\":\"auto\",\"active_multi\":null,\"active_scroll\":\"auto\",\"active_tap\":\"auto\",\"tools\":[{\"id\":\"4527\",\"type\":\"PanTool\"},{\"id\":\"4528\",\"type\":\"BoxZoomTool\"},{\"id\":\"4529\",\"type\":\"WheelZoomTool\"},{\"id\":\"4530\",\"type\":\"ResetTool\"},{\"id\":\"4531\",\"type\":\"SaveTool\"}]},\"id\":\"4532\",\"type\":\"Toolbar\"},{\"attributes\":{\"items\":[{\"id\":\"4563\",\"type\":\"LegendItem\"},{\"id\":\"4590\",\"type\":\"LegendItem\"}],\"location\":\"top_left\"},\"id\":\"4562\",\"type\":\"Legend\"},{\"attributes\":{\"text\":\"\"},\"id\":\"4543\",\"type\":\"Title\"},{\"attributes\":{},\"id\":\"4858\",\"type\":\"UnionRenderers\"},{\"attributes\":{\"line_color\":\"#1f77b4\",\"line_width\":2,\"x\":{\"field\":\"x\"},\"y\":{\"field\":\"y\"}},\"id\":\"4565\",\"type\":\"Line\"},{\"attributes\":{},\"id\":\"4515\",\"type\":\"LinearScale\"},{\"attributes\":{},\"id\":\"4531\",\"type\":\"SaveTool\"},{\"attributes\":{\"formatter\":{\"id\":\"4548\",\"type\":\"DatetimeTickFormatter\"},\"ticker\":{\"id\":\"4518\",\"type\":\"DatetimeTicker\"}},\"id\":\"4517\",\"type\":\"DatetimeAxis\"},{\"attributes\":{},\"id\":\"4527\",\"type\":\"PanTool\"},{\"attributes\":{\"line_alpha\":0.1,\"line_color\":\"#1f77b4\",\"line_width\":2,\"x\":{\"field\":\"x\"},\"y\":{\"field\":\"y\"}},\"id\":\"4566\",\"type\":\"Line\"},{\"attributes\":{\"data_source\":{\"id\":\"4538\",\"type\":\"ColumnDataSource\"},\"glyph\":{\"id\":\"4539\",\"type\":\"Line\"},\"hover_glyph\":null,\"muted_glyph\":null,\"nonselection_glyph\":{\"id\":\"4540\",\"type\":\"Line\"},\"selection_glyph\":null,\"view\":{\"id\":\"4542\",\"type\":\"CDSView\"}},\"id\":\"4541\",\"type\":\"GlyphRenderer\"},{\"attributes\":{\"months\":[0,4,8]},\"id\":\"4559\",\"type\":\"MonthsTicker\"},{\"attributes\":{\"data_source\":{\"id\":\"4564\",\"type\":\"ColumnDataSource\"},\"glyph\":{\"id\":\"4565\",\"type\":\"Line\"},\"hover_glyph\":null,\"muted_glyph\":null,\"nonselection_glyph\":{\"id\":\"4566\",\"type\":\"Line\"},\"selection_glyph\":null,\"view\":{\"id\":\"4568\",\"type\":\"CDSView\"}},\"id\":\"4567\",\"type\":\"GlyphRenderer\"},{\"attributes\":{},\"id\":\"4548\",\"type\":\"DatetimeTickFormatter\"},{\"attributes\":{\"num_minor_ticks\":5,\"tickers\":[{\"id\":\"4550\",\"type\":\"AdaptiveTicker\"},{\"id\":\"4551\",\"type\":\"AdaptiveTicker\"},{\"id\":\"4552\",\"type\":\"AdaptiveTicker\"},{\"id\":\"4553\",\"type\":\"DaysTicker\"},{\"id\":\"4554\",\"type\":\"DaysTicker\"},{\"id\":\"4555\",\"type\":\"DaysTicker\"},{\"id\":\"4556\",\"type\":\"DaysTicker\"},{\"id\":\"4557\",\"type\":\"MonthsTicker\"},{\"id\":\"4558\",\"type\":\"MonthsTicker\"},{\"id\":\"4559\",\"type\":\"MonthsTicker\"},{\"id\":\"4560\",\"type\":\"MonthsTicker\"},{\"id\":\"4561\",\"type\":\"YearsTicker\"}]},\"id\":\"4518\",\"type\":\"DatetimeTicker\"},{\"attributes\":{\"months\":[0,6]},\"id\":\"4560\",\"type\":\"MonthsTicker\"},{\"attributes\":{\"source\":{\"id\":\"4564\",\"type\":\"ColumnDataSource\"}},\"id\":\"4568\",\"type\":\"CDSView\"},{\"attributes\":{},\"id\":\"4588\",\"type\":\"UnionRenderers\"},{\"attributes\":{\"line_alpha\":0.1,\"line_color\":\"#1f77b4\",\"line_width\":2,\"x\":{\"field\":\"x\"},\"y\":{\"field\":\"y\"}},\"id\":\"4540\",\"type\":\"Line\"},{\"attributes\":{\"source\":{\"id\":\"4538\",\"type\":\"ColumnDataSource\"}},\"id\":\"4542\",\"type\":\"CDSView\"},{\"attributes\":{\"callback\":null,\"data\":{\"x\":{\"__ndarray__\":\"AADYyguzdkIAAMA5D7N2QgAAqKgSs3ZCAACQFxazdkIAAHiGGbN2QgAAYPUcs3ZCAABIZCCzdkIAADDTI7N2QgAAGEIns3ZCAAAAsSqzdkIAAOgfLrN2QgAA0I4xs3ZCAAC4/TSzdkIAAKBsOLN2QgAAiNs7s3ZCAABwSj+zdkIAAFi5QrN2QgAAQChGs3ZCAAAol0mzdkIAABAGTbN2QgAA+HRQs3ZCAADg41OzdkIAAMhSV7N2QgAAsMFas3ZC\",\"dtype\":\"float64\",\"shape\":[24]},\"y\":[5,0,0,0,0,10,100,200,350,500,650,800,900,700,200,500,400,200,100,20,0,0,0,0]},\"selected\":{\"id\":\"4859\",\"type\":\"Selection\"},\"selection_policy\":{\"id\":\"4858\",\"type\":\"UnionRenderers\"}},\"id\":\"4564\",\"type\":\"ColumnDataSource\"},{\"attributes\":{\"ticker\":{\"id\":\"4518\",\"type\":\"DatetimeTicker\"}},\"id\":\"4521\",\"type\":\"Grid\"},{\"attributes\":{\"base\":24,\"mantissas\":[1,2,4,6,8,12],\"max_interval\":43200000.0,\"min_interval\":3600000.0,\"num_minor_ticks\":0},\"id\":\"4552\",\"type\":\"AdaptiveTicker\"},{\"attributes\":{\"months\":[0,2,4,6,8,10]},\"id\":\"4558\",\"type\":\"MonthsTicker\"},{\"attributes\":{},\"id\":\"4589\",\"type\":\"Selection\"},{\"attributes\":{\"label\":{\"value\":\"persistence interval\"},\"renderers\":[{\"id\":\"4567\",\"type\":\"GlyphRenderer\"}]},\"id\":\"4590\",\"type\":\"LegendItem\"},{\"attributes\":{},\"id\":\"4546\",\"type\":\"BasicTickFormatter\"},{\"attributes\":{\"axis_label\":\"Irradiance (W/m^2)\",\"formatter\":{\"id\":\"4546\",\"type\":\"BasicTickFormatter\"},\"ticker\":{\"id\":\"4523\",\"type\":\"BasicTicker\"}},\"id\":\"4522\",\"type\":\"LinearAxis\"},{\"attributes\":{\"callback\":null},\"id\":\"4509\",\"type\":\"DataRange1d\"},{\"attributes\":{\"mantissas\":[1,2,5],\"max_interval\":500.0,\"num_minor_ticks\":0},\"id\":\"4550\",\"type\":\"AdaptiveTicker\"},{\"attributes\":{\"callback\":null},\"id\":\"4511\",\"type\":\"DataRange1d\"},{\"attributes\":{\"bottom_units\":\"screen\",\"fill_alpha\":{\"value\":0.5},\"fill_color\":{\"value\":\"lightgrey\"},\"left_units\":\"screen\",\"level\":\"overlay\",\"line_alpha\":{\"value\":1.0},\"line_color\":{\"value\":\"black\"},\"line_dash\":[4,4],\"line_width\":{\"value\":2},\"render_mode\":\"css\",\"right_units\":\"screen\",\"top_units\":\"screen\"},\"id\":\"4549\",\"type\":\"BoxAnnotation\"},{\"attributes\":{\"base\":60,\"mantissas\":[1,2,5,10,15,20,30],\"max_interval\":1800000.0,\"min_interval\":1000.0,\"num_minor_ticks\":0},\"id\":\"4551\",\"type\":\"AdaptiveTicker\"},{\"attributes\":{},\"id\":\"4513\",\"type\":\"LinearScale\"},{\"attributes\":{\"line_width\":2,\"x\":{\"field\":\"x\"},\"y\":{\"field\":\"y\"}},\"id\":\"4539\",\"type\":\"Line\"},{\"attributes\":{\"days\":[1,2,3,4,5,6,7,8,9,10,11,12,13,14,15,16,17,18,19,20,21,22,23,24,25,26,27,28,29,30,31]},\"id\":\"4553\",\"type\":\"DaysTicker\"},{\"attributes\":{},\"id\":\"4859\",\"type\":\"Selection\"},{\"attributes\":{\"days\":[1,4,7,10,13,16,19,22,25,28]},\"id\":\"4554\",\"type\":\"DaysTicker\"},{\"attributes\":{\"callback\":null,\"data\":{\"x\":{\"__ndarray__\":\"AAAYZbmydkIAAADUvLJ2QgAA6ELAsnZCAADQscOydkIAALggx7J2QgAAoI/KsnZCAACI/s2ydkIAAHBt0bJ2QgAAWNzUsnZCAABAS9iydkIAACi627J2QgAAECnfsnZCAAD4l+KydkIAAOAG5rJ2QgAAyHXpsnZCAACw5OyydkIAAJhT8LJ2QgAAgMLzsnZCAABoMfeydkIAAFCg+rJ2QgAAOA/+snZCAAAgfgGzdkIAAAjtBLN2QgAA8FsIs3ZC\",\"dtype\":\"float64\",\"shape\":[24]},\"y\":[5,0,0,0,0,10,100,200,350,500,650,800,900,700,200,500,400,200,100,20,0,0,0,0]},\"selected\":{\"id\":\"4589\",\"type\":\"Selection\"},\"selection_policy\":{\"id\":\"4588\",\"type\":\"UnionRenderers\"}},\"id\":\"4538\",\"type\":\"ColumnDataSource\"},{\"attributes\":{\"months\":[0,1,2,3,4,5,6,7,8,9,10,11]},\"id\":\"4557\",\"type\":\"MonthsTicker\"},{\"attributes\":{},\"id\":\"4523\",\"type\":\"BasicTicker\"},{\"attributes\":{\"dimension\":1,\"ticker\":{\"id\":\"4523\",\"type\":\"BasicTicker\"}},\"id\":\"4526\",\"type\":\"Grid\"}],\"root_ids\":[\"4508\"]},\"title\":\"Bokeh Application\",\"version\":\"1.2.0\"}};\n",
       "  var render_items = [{\"docid\":\"3ae46ca7-72a4-4c62-914f-0bdbb210d060\",\"roots\":{\"4508\":\"01abd8cb-0d67-4d32-8c9d-89d9324c5d1e\"}}];\n",
       "  root.Bokeh.embed.embed_items_notebook(docs_json, render_items);\n",
       "\n",
       "  }\n",
       "  if (root.Bokeh !== undefined) {\n",
       "    embed_document(root);\n",
       "  } else {\n",
       "    var attempts = 0;\n",
       "    var timer = setInterval(function(root) {\n",
       "      if (root.Bokeh !== undefined) {\n",
       "        embed_document(root);\n",
       "        clearInterval(timer);\n",
       "      }\n",
       "      attempts++;\n",
       "      if (attempts > 100) {\n",
       "        console.log(\"Bokeh: ERROR: Unable to run BokehJS code because BokehJS library is missing\");\n",
       "        clearInterval(timer);\n",
       "      }\n",
       "    }, 10, root)\n",
       "  }\n",
       "})(window);"
      ],
      "application/vnd.bokehjs_exec.v0+json": ""
     },
     "metadata": {
      "application/vnd.bokehjs_exec.v0+json": {
       "id": "4508"
      }
     },
     "output_type": "display_data"
    }
   ],
   "source": [
    "# persistence forecasts with scalar index\n",
    "# observation.interval_label = 'ending', \n",
    "# so data ranges are exclusive of start and inclusive of end\n",
    "data_start = pd.Timestamp('20190606 0600Z')\n",
    "data_end = pd.Timestamp('20190607 0600Z')\n",
    "forecast_start = pd.Timestamp('20190607 0600Z')\n",
    "interval_length = pd.Timedelta('1hr')\n",
    "interval_label = 'ending'\n",
    "\n",
    "fx_per_interval = persistence.persistence_interval(\n",
    "    observation, data_start, data_end, forecast_start,\n",
    "    interval_length, interval_label, load_data=load_data)\n",
    "\n",
    "fig_kwargs = dict(tools=TOOLS, x_axis_type=\"datetime\", plot_height=200)\n",
    "palette = iter(PALETTE)\n",
    "fig1 = figure(**fig_kwargs)\n",
    "fig1.line(observation_values.index, observation_values['value'], legend='observed', color='black', line_width=2)\n",
    "fig1.line(fx_per_interval.index, fx_per_interval, legend='persistence interval', color=next(palette), line_width=2)\n",
    "fig1.yaxis.axis_label = \"Irradiance (W/m^2)\"\n",
    "fig1.legend.location = \"top_left\"\n",
    "\n",
    "show(fig1)"
   ]
  },
  {
   "cell_type": "code",
   "execution_count": 17,
   "metadata": {},
   "outputs": [],
   "source": [
    "from solarforecastarbiter.plotting import timeseries"
   ]
  },
  {
   "cell_type": "code",
   "execution_count": 19,
   "metadata": {},
   "outputs": [
    {
     "data": {
      "text/html": [
       "\n",
       "\n",
       "\n",
       "\n",
       "\n",
       "\n",
       "  <div class=\"bk-root\" id=\"27aa8cd7-ed94-4365-b1af-65222317a583\" data-root-id=\"5239\"></div>\n"
      ]
     },
     "metadata": {},
     "output_type": "display_data"
    },
    {
     "data": {
      "application/javascript": [
       "(function(root) {\n",
       "  function embed_document(root) {\n",
       "    \n",
       "  var docs_json = {\"bd8add1a-8f8e-4c0e-bb84-c8784bc5fea2\":{\"roots\":{\"references\":[{\"attributes\":{\"children\":[{\"id\":\"5238\",\"type\":\"ToolbarBox\"},{\"id\":\"5236\",\"type\":\"GridBox\"}],\"sizing_mode\":\"scale_width\"},\"id\":\"5239\",\"type\":\"Column\"},{\"attributes\":{\"months\":[0,1,2,3,4,5,6,7,8,9,10,11]},\"id\":\"5228\",\"type\":\"MonthsTicker\"},{\"attributes\":{\"months\":[0,2,4,6,8,10]},\"id\":\"5229\",\"type\":\"MonthsTicker\"},{\"attributes\":{\"months\":[0,4,8]},\"id\":\"5230\",\"type\":\"MonthsTicker\"},{\"attributes\":{\"months\":[0,6]},\"id\":\"5231\",\"type\":\"MonthsTicker\"},{\"attributes\":{},\"id\":\"5232\",\"type\":\"YearsTicker\"},{\"attributes\":{\"tools\":[{\"id\":\"5142\",\"type\":\"PanTool\"},{\"id\":\"5143\",\"type\":\"WheelZoomTool\"},{\"id\":\"5144\",\"type\":\"BoxZoomTool\"},{\"id\":\"5145\",\"type\":\"ZoomInTool\"},{\"id\":\"5146\",\"type\":\"ZoomOutTool\"},{\"id\":\"5147\",\"type\":\"ResetTool\"},{\"id\":\"5148\",\"type\":\"SaveTool\"},{\"id\":\"5167\",\"type\":\"HoverTool\"},{\"id\":\"5187\",\"type\":\"PanTool\"}]},\"id\":\"5237\",\"type\":\"ProxyToolbar\"},{\"attributes\":{\"toolbar\":{\"id\":\"5237\",\"type\":\"ProxyToolbar\"},\"toolbar_location\":\"above\"},\"id\":\"5238\",\"type\":\"ToolbarBox\"},{\"attributes\":{\"children\":[[{\"id\":\"5121\",\"subtype\":\"Figure\",\"type\":\"Plot\"},0,0],[{\"id\":\"5169\",\"subtype\":\"Figure\",\"type\":\"Plot\"},1,0]]},\"id\":\"5236\",\"type\":\"GridBox\"},{\"attributes\":{\"center\":[{\"id\":\"5181\",\"type\":\"Grid\"},{\"id\":\"5186\",\"type\":\"Grid\"},{\"id\":\"5195\",\"type\":\"Label\"}],\"min_border_bottom\":0,\"min_border_top\":0,\"plot_height\":60,\"plot_width\":900,\"renderers\":[{\"id\":\"5193\",\"type\":\"GlyphRenderer\"}],\"sizing_mode\":\"stretch_width\",\"title\":{\"id\":\"5196\",\"type\":\"Title\"},\"toolbar\":{\"id\":\"5188\",\"type\":\"Toolbar\"},\"toolbar_location\":null,\"x_range\":{\"id\":\"5124\",\"type\":\"Range1d\"},\"x_scale\":{\"id\":\"5173\",\"type\":\"LinearScale\"},\"y_range\":{\"id\":\"5171\",\"type\":\"DataRange1d\"},\"y_scale\":{\"id\":\"5175\",\"type\":\"LinearScale\"}},\"id\":\"5169\",\"subtype\":\"Figure\",\"type\":\"Plot\"},{\"attributes\":{\"ticker\":{\"id\":\"5133\",\"type\":\"DatetimeTicker\"}},\"id\":\"5136\",\"type\":\"Grid\"},{\"attributes\":{},\"id\":\"5216\",\"type\":\"UnionRenderers\"},{\"attributes\":{\"base\":60,\"mantissas\":[1,2,5,10,15,20,30],\"max_interval\":1800000.0,\"min_interval\":1000.0,\"num_minor_ticks\":0},\"id\":\"5222\",\"type\":\"AdaptiveTicker\"},{\"attributes\":{\"axis_label\":\"Time (UTC)\",\"formatter\":{\"id\":\"5202\",\"type\":\"DatetimeTickFormatter\"},\"ticker\":{\"id\":\"5133\",\"type\":\"DatetimeTicker\"}},\"id\":\"5132\",\"type\":\"DatetimeAxis\"},{\"attributes\":{\"callback\":null},\"id\":\"5171\",\"type\":\"DataRange1d\"},{\"attributes\":{},\"id\":\"5173\",\"type\":\"LinearScale\"},{\"attributes\":{\"dimension\":1,\"ticker\":{\"id\":\"5138\",\"type\":\"BasicTicker\"}},\"id\":\"5141\",\"type\":\"Grid\"},{\"attributes\":{},\"id\":\"5175\",\"type\":\"LinearScale\"},{\"attributes\":{},\"id\":\"5138\",\"type\":\"BasicTicker\"},{\"attributes\":{\"active_drag\":\"auto\",\"active_inspect\":\"auto\",\"active_multi\":null,\"active_scroll\":\"auto\",\"active_tap\":\"auto\",\"tools\":[{\"id\":\"5187\",\"type\":\"PanTool\"}]},\"id\":\"5188\",\"type\":\"Toolbar\"},{\"attributes\":{\"dimensions\":\"width\"},\"id\":\"5187\",\"type\":\"PanTool\"},{\"attributes\":{\"num_minor_ticks\":5,\"tickers\":[{\"id\":\"5221\",\"type\":\"AdaptiveTicker\"},{\"id\":\"5222\",\"type\":\"AdaptiveTicker\"},{\"id\":\"5223\",\"type\":\"AdaptiveTicker\"},{\"id\":\"5224\",\"type\":\"DaysTicker\"},{\"id\":\"5225\",\"type\":\"DaysTicker\"},{\"id\":\"5226\",\"type\":\"DaysTicker\"},{\"id\":\"5227\",\"type\":\"DaysTicker\"},{\"id\":\"5228\",\"type\":\"MonthsTicker\"},{\"id\":\"5229\",\"type\":\"MonthsTicker\"},{\"id\":\"5230\",\"type\":\"MonthsTicker\"},{\"id\":\"5231\",\"type\":\"MonthsTicker\"},{\"id\":\"5232\",\"type\":\"YearsTicker\"}]},\"id\":\"5178\",\"type\":\"DatetimeTicker\"},{\"attributes\":{\"ticker\":{\"id\":\"5178\",\"type\":\"DatetimeTicker\"}},\"id\":\"5181\",\"type\":\"Grid\"},{\"attributes\":{},\"id\":\"5130\",\"type\":\"LinearScale\"},{\"attributes\":{},\"id\":\"5183\",\"type\":\"BasicTicker\"},{\"attributes\":{\"dimension\":1,\"grid_line_color\":null,\"ticker\":{\"id\":\"5183\",\"type\":\"BasicTicker\"}},\"id\":\"5186\",\"type\":\"Grid\"},{\"attributes\":{\"callback\":null,\"end\":1559887200000.0,\"start\":1559804400000.0},\"id\":\"5124\",\"type\":\"Range1d\"},{\"attributes\":{\"text\":\"sample observation 2019-06-06 07:00 to 2019-06-07 06:00 UTC\"},\"id\":\"5122\",\"type\":\"Title\"},{\"attributes\":{},\"id\":\"5128\",\"type\":\"LinearScale\"},{\"attributes\":{\"line_alpha\":0.6,\"line_color\":\"#ff7f0e\",\"line_width\":30,\"x\":{\"field\":\"timestamp\"},\"y\":{\"field\":\"NOT VALIDATED\"}},\"id\":\"5191\",\"type\":\"Line\"},{\"attributes\":{\"line_alpha\":0.1,\"line_color\":\"#1f77b4\",\"line_width\":30,\"x\":{\"field\":\"timestamp\"},\"y\":{\"field\":\"NOT VALIDATED\"}},\"id\":\"5192\",\"type\":\"Line\"},{\"attributes\":{\"line_alpha\":{\"value\":0.1},\"line_color\":{\"value\":\"#1f77b4\"},\"x\":{\"field\":\"timestamp\"},\"y\":{\"field\":\"value\"}},\"id\":\"5159\",\"type\":\"Step\"},{\"attributes\":{\"data_source\":{\"id\":\"5120\",\"type\":\"ColumnDataSource\"},\"glyph\":{\"id\":\"5191\",\"type\":\"Line\"},\"hover_glyph\":null,\"muted_glyph\":null,\"nonselection_glyph\":{\"id\":\"5192\",\"type\":\"Line\"},\"selection_glyph\":null,\"view\":{\"id\":\"5194\",\"type\":\"CDSView\"}},\"id\":\"5193\",\"type\":\"GlyphRenderer\"},{\"attributes\":{\"num_minor_ticks\":5,\"tickers\":[{\"id\":\"5204\",\"type\":\"AdaptiveTicker\"},{\"id\":\"5205\",\"type\":\"AdaptiveTicker\"},{\"id\":\"5206\",\"type\":\"AdaptiveTicker\"},{\"id\":\"5207\",\"type\":\"DaysTicker\"},{\"id\":\"5208\",\"type\":\"DaysTicker\"},{\"id\":\"5209\",\"type\":\"DaysTicker\"},{\"id\":\"5210\",\"type\":\"DaysTicker\"},{\"id\":\"5211\",\"type\":\"MonthsTicker\"},{\"id\":\"5212\",\"type\":\"MonthsTicker\"},{\"id\":\"5213\",\"type\":\"MonthsTicker\"},{\"id\":\"5214\",\"type\":\"MonthsTicker\"},{\"id\":\"5215\",\"type\":\"YearsTicker\"}]},\"id\":\"5133\",\"type\":\"DatetimeTicker\"},{\"attributes\":{\"source\":{\"id\":\"5120\",\"type\":\"ColumnDataSource\"}},\"id\":\"5194\",\"type\":\"CDSView\"},{\"attributes\":{\"axis_label\":\"GHI (W/m^2)\",\"formatter\":{\"id\":\"5200\",\"type\":\"BasicTickFormatter\"},\"ticker\":{\"id\":\"5138\",\"type\":\"BasicTicker\"}},\"id\":\"5137\",\"type\":\"LinearAxis\"},{\"attributes\":{\"background_fill_alpha\":{\"value\":0},\"render_mode\":\"css\",\"text\":\"NOT VALIDATED\",\"text_font_size\":{\"value\":\"1em\"},\"text_font_style\":\"bold\",\"x\":5,\"x_units\":\"screen\",\"y\":0,\"y_units\":\"screen\"},\"id\":\"5195\",\"type\":\"Label\"},{\"attributes\":{\"callback\":null},\"id\":\"5126\",\"type\":\"DataRange1d\"},{\"attributes\":{\"text\":\"Quality Flags\",\"text_font_size\":{\"value\":\"1em\"}},\"id\":\"5196\",\"type\":\"Title\"},{\"attributes\":{},\"id\":\"5200\",\"type\":\"BasicTickFormatter\"},{\"attributes\":{\"line_color\":{\"value\":\"#1f77b4\"},\"x\":{\"field\":\"timestamp\"},\"y\":{\"field\":\"value\"}},\"id\":\"5158\",\"type\":\"Step\"},{\"attributes\":{},\"id\":\"5202\",\"type\":\"DatetimeTickFormatter\"},{\"attributes\":{},\"id\":\"5215\",\"type\":\"YearsTicker\"},{\"attributes\":{\"active_drag\":\"auto\",\"active_inspect\":\"auto\",\"active_multi\":null,\"active_scroll\":\"auto\",\"active_tap\":\"auto\",\"tools\":[{\"id\":\"5142\",\"type\":\"PanTool\"},{\"id\":\"5143\",\"type\":\"WheelZoomTool\"},{\"id\":\"5144\",\"type\":\"BoxZoomTool\"},{\"id\":\"5145\",\"type\":\"ZoomInTool\"},{\"id\":\"5146\",\"type\":\"ZoomOutTool\"},{\"id\":\"5147\",\"type\":\"ResetTool\"},{\"id\":\"5148\",\"type\":\"SaveTool\"},{\"id\":\"5167\",\"type\":\"HoverTool\"}]},\"id\":\"5149\",\"type\":\"Toolbar\"},{\"attributes\":{},\"id\":\"5142\",\"type\":\"PanTool\"},{\"attributes\":{\"bottom_units\":\"screen\",\"fill_alpha\":{\"value\":0.5},\"fill_color\":{\"value\":\"lightgrey\"},\"left_units\":\"screen\",\"level\":\"overlay\",\"line_alpha\":{\"value\":1.0},\"line_color\":{\"value\":\"black\"},\"line_dash\":[4,4],\"line_width\":{\"value\":2},\"render_mode\":\"css\",\"right_units\":\"screen\",\"top_units\":\"screen\"},\"id\":\"5203\",\"type\":\"BoxAnnotation\"},{\"attributes\":{},\"id\":\"5143\",\"type\":\"WheelZoomTool\"},{\"attributes\":{\"mantissas\":[1,2,5],\"max_interval\":500.0,\"num_minor_ticks\":0},\"id\":\"5204\",\"type\":\"AdaptiveTicker\"},{\"attributes\":{\"overlay\":{\"id\":\"5203\",\"type\":\"BoxAnnotation\"}},\"id\":\"5144\",\"type\":\"BoxZoomTool\"},{\"attributes\":{\"base\":60,\"mantissas\":[1,2,5,10,15,20,30],\"max_interval\":1800000.0,\"min_interval\":1000.0,\"num_minor_ticks\":0},\"id\":\"5205\",\"type\":\"AdaptiveTicker\"},{\"attributes\":{},\"id\":\"5145\",\"type\":\"ZoomInTool\"},{\"attributes\":{\"base\":24,\"mantissas\":[1,2,4,6,8,12],\"max_interval\":43200000.0,\"min_interval\":3600000.0,\"num_minor_ticks\":0},\"id\":\"5206\",\"type\":\"AdaptiveTicker\"},{\"attributes\":{},\"id\":\"5146\",\"type\":\"ZoomOutTool\"},{\"attributes\":{\"days\":[1,2,3,4,5,6,7,8,9,10,11,12,13,14,15,16,17,18,19,20,21,22,23,24,25,26,27,28,29,30,31]},\"id\":\"5207\",\"type\":\"DaysTicker\"},{\"attributes\":{},\"id\":\"5147\",\"type\":\"ResetTool\"},{\"attributes\":{\"days\":[1,4,7,10,13,16,19,22,25,28]},\"id\":\"5208\",\"type\":\"DaysTicker\"},{\"attributes\":{},\"id\":\"5148\",\"type\":\"SaveTool\"},{\"attributes\":{\"days\":[1,8,15,22]},\"id\":\"5209\",\"type\":\"DaysTicker\"},{\"attributes\":{\"days\":[1,15]},\"id\":\"5210\",\"type\":\"DaysTicker\"},{\"attributes\":{\"months\":[0,1,2,3,4,5,6,7,8,9,10,11]},\"id\":\"5211\",\"type\":\"MonthsTicker\"},{\"attributes\":{\"data_source\":{\"id\":\"5120\",\"type\":\"ColumnDataSource\"},\"glyph\":{\"id\":\"5158\",\"type\":\"Step\"},\"hover_glyph\":null,\"muted_glyph\":null,\"nonselection_glyph\":{\"id\":\"5159\",\"type\":\"Step\"},\"selection_glyph\":null,\"view\":{\"id\":\"5161\",\"type\":\"CDSView\"}},\"id\":\"5160\",\"type\":\"GlyphRenderer\"},{\"attributes\":{\"source\":{\"id\":\"5120\",\"type\":\"ColumnDataSource\"}},\"id\":\"5161\",\"type\":\"CDSView\"},{\"attributes\":{\"months\":[0,2,4,6,8,10]},\"id\":\"5212\",\"type\":\"MonthsTicker\"},{\"attributes\":{\"below\":[{\"id\":\"5132\",\"type\":\"DatetimeAxis\"}],\"center\":[{\"id\":\"5136\",\"type\":\"Grid\"},{\"id\":\"5141\",\"type\":\"Grid\"}],\"left\":[{\"id\":\"5137\",\"type\":\"LinearAxis\"}],\"min_border_bottom\":50,\"plot_height\":300,\"plot_width\":900,\"renderers\":[{\"id\":\"5160\",\"type\":\"GlyphRenderer\"},{\"id\":\"5165\",\"type\":\"GlyphRenderer\"}],\"sizing_mode\":\"scale_width\",\"title\":{\"id\":\"5122\",\"type\":\"Title\"},\"toolbar\":{\"id\":\"5149\",\"type\":\"Toolbar\"},\"toolbar_location\":null,\"x_range\":{\"id\":\"5124\",\"type\":\"Range1d\"},\"x_scale\":{\"id\":\"5128\",\"type\":\"LinearScale\"},\"y_range\":{\"id\":\"5126\",\"type\":\"DataRange1d\"},\"y_scale\":{\"id\":\"5130\",\"type\":\"LinearScale\"}},\"id\":\"5121\",\"subtype\":\"Figure\",\"type\":\"Plot\"},{\"attributes\":{\"months\":[0,4,8]},\"id\":\"5213\",\"type\":\"MonthsTicker\"},{\"attributes\":{\"months\":[0,6]},\"id\":\"5214\",\"type\":\"MonthsTicker\"},{\"attributes\":{},\"id\":\"5217\",\"type\":\"Selection\"},{\"attributes\":{\"mantissas\":[1,2,5],\"max_interval\":500.0,\"num_minor_ticks\":0},\"id\":\"5221\",\"type\":\"AdaptiveTicker\"},{\"attributes\":{\"line_alpha\":0,\"line_color\":\"#1f77b4\",\"x\":{\"field\":\"timestamp\"},\"y\":{\"field\":\"value\"}},\"id\":\"5163\",\"type\":\"Line\"},{\"attributes\":{\"callback\":null,\"data\":{\"MISSING\":{\"__ndarray__\":\"AAAAAAAA+H8AAAAAAAD4fwAAAAAAAPh/AAAAAAAA+H8AAAAAAAD4fwAAAAAAAPh/AAAAAAAA+H8AAAAAAAD4fwAAAAAAAPh/AAAAAAAA+H8AAAAAAAD4fwAAAAAAAPh/AAAAAAAA+H8AAAAAAAD4fwAAAAAAAPh/AAAAAAAA+H8AAAAAAAD4fwAAAAAAAPh/AAAAAAAA+H8AAAAAAAD4fwAAAAAAAPh/AAAAAAAA+H8AAAAAAAD4fwAAAAAAAPh/\",\"dtype\":\"float64\",\"shape\":[24]},\"NOT VALIDATED\":[true,true,true,true,true,true,true,true,true,true,true,true,true,true,true,true,true,true,true,true,true,true,true,true],\"active_flags\":[\"NOT VALIDATED\",\"NOT VALIDATED\",\"NOT VALIDATED\",\"NOT VALIDATED\",\"NOT VALIDATED\",\"NOT VALIDATED\",\"NOT VALIDATED\",\"NOT VALIDATED\",\"NOT VALIDATED\",\"NOT VALIDATED\",\"NOT VALIDATED\",\"NOT VALIDATED\",\"NOT VALIDATED\",\"NOT VALIDATED\",\"NOT VALIDATED\",\"NOT VALIDATED\",\"NOT VALIDATED\",\"NOT VALIDATED\",\"NOT VALIDATED\",\"NOT VALIDATED\",\"NOT VALIDATED\",\"NOT VALIDATED\",\"NOT VALIDATED\",\"NOT VALIDATED\"],\"timestamp\":{\"__ndarray__\":\"AAAYZbmydkIAAADUvLJ2QgAA6ELAsnZCAADQscOydkIAALggx7J2QgAAoI/KsnZCAACI/s2ydkIAAHBt0bJ2QgAAWNzUsnZCAABAS9iydkIAACi627J2QgAAECnfsnZCAAD4l+KydkIAAOAG5rJ2QgAAyHXpsnZCAACw5OyydkIAAJhT8LJ2QgAAgMLzsnZCAABoMfeydkIAAFCg+rJ2QgAAOA/+snZCAAAgfgGzdkIAAAjtBLN2QgAA8FsIs3ZC\",\"dtype\":\"float64\",\"shape\":[24]},\"value\":[5,0,0,0,0,10,100,200,350,500,650,800,900,700,200,500,400,200,100,20,0,0,0,0]},\"selected\":{\"id\":\"5217\",\"type\":\"Selection\"},\"selection_policy\":{\"id\":\"5216\",\"type\":\"UnionRenderers\"}},\"id\":\"5120\",\"type\":\"ColumnDataSource\"},{\"attributes\":{\"base\":24,\"mantissas\":[1,2,4,6,8,12],\"max_interval\":43200000.0,\"min_interval\":3600000.0,\"num_minor_ticks\":0},\"id\":\"5223\",\"type\":\"AdaptiveTicker\"},{\"attributes\":{\"line_alpha\":0.1,\"line_color\":\"#1f77b4\",\"x\":{\"field\":\"timestamp\"},\"y\":{\"field\":\"value\"}},\"id\":\"5164\",\"type\":\"Line\"},{\"attributes\":{\"days\":[1,2,3,4,5,6,7,8,9,10,11,12,13,14,15,16,17,18,19,20,21,22,23,24,25,26,27,28,29,30,31]},\"id\":\"5224\",\"type\":\"DaysTicker\"},{\"attributes\":{\"data_source\":{\"id\":\"5120\",\"type\":\"ColumnDataSource\"},\"glyph\":{\"id\":\"5163\",\"type\":\"Line\"},\"hover_glyph\":null,\"muted_glyph\":null,\"nonselection_glyph\":{\"id\":\"5164\",\"type\":\"Line\"},\"selection_glyph\":null,\"view\":{\"id\":\"5166\",\"type\":\"CDSView\"}},\"id\":\"5165\",\"type\":\"GlyphRenderer\"},{\"attributes\":{\"days\":[1,4,7,10,13,16,19,22,25,28]},\"id\":\"5225\",\"type\":\"DaysTicker\"},{\"attributes\":{\"source\":{\"id\":\"5120\",\"type\":\"ColumnDataSource\"}},\"id\":\"5166\",\"type\":\"CDSView\"},{\"attributes\":{\"days\":[1,8,15,22]},\"id\":\"5226\",\"type\":\"DaysTicker\"},{\"attributes\":{\"attachment\":\"right\",\"callback\":null,\"formatters\":{\"timestamp\":\"datetime\",\"value\":\"printf\"},\"line_policy\":\"next\",\"mode\":\"vline\",\"tooltips\":[[\"timestamp\",\"@timestamp{%FT%H:%M:%S%z}\"],[\"value\",\"@value{%0.2f}\"],[\"quality flags\",\"@active_flags\"]]},\"id\":\"5167\",\"type\":\"HoverTool\"},{\"attributes\":{\"days\":[1,15]},\"id\":\"5227\",\"type\":\"DaysTicker\"}],\"root_ids\":[\"5239\"]},\"title\":\"Bokeh Application\",\"version\":\"1.2.0\"}};\n",
       "  var render_items = [{\"docid\":\"bd8add1a-8f8e-4c0e-bb84-c8784bc5fea2\",\"roots\":{\"5239\":\"27aa8cd7-ed94-4365-b1af-65222317a583\"}}];\n",
       "  root.Bokeh.embed.embed_items_notebook(docs_json, render_items);\n",
       "\n",
       "  }\n",
       "  if (root.Bokeh !== undefined) {\n",
       "    embed_document(root);\n",
       "  } else {\n",
       "    var attempts = 0;\n",
       "    var timer = setInterval(function(root) {\n",
       "      if (root.Bokeh !== undefined) {\n",
       "        embed_document(root);\n",
       "        clearInterval(timer);\n",
       "      }\n",
       "      attempts++;\n",
       "      if (attempts > 100) {\n",
       "        console.log(\"Bokeh: ERROR: Unable to run BokehJS code because BokehJS library is missing\");\n",
       "        clearInterval(timer);\n",
       "      }\n",
       "    }, 10, root)\n",
       "  }\n",
       "})(window);"
      ],
      "application/vnd.bokehjs_exec.v0+json": ""
     },
     "metadata": {
      "application/vnd.bokehjs_exec.v0+json": {
       "id": "5239"
      }
     },
     "output_type": "display_data"
    }
   ],
   "source": [
    "fig = timeseries.generate_observation_figure(observation, observation_values)\n",
    "show(fig)"
   ]
  },
  {
   "cell_type": "code",
   "execution_count": 20,
   "metadata": {},
   "outputs": [
    {
     "ename": "NameError",
     "evalue": "name 'forecast' is not defined",
     "output_type": "error",
     "traceback": [
      "\u001b[0;31m---------------------------------------------------------------------------\u001b[0m",
      "\u001b[0;31mNameError\u001b[0m                                 Traceback (most recent call last)",
      "\u001b[0;32m<ipython-input-20-18ec2dfa01d4>\u001b[0m in \u001b[0;36m<module>\u001b[0;34m\u001b[0m\n\u001b[0;32m----> 1\u001b[0;31m \u001b[0mfig\u001b[0m \u001b[0;34m=\u001b[0m \u001b[0mtimeseries\u001b[0m\u001b[0;34m.\u001b[0m\u001b[0mgenerate_forecast_figure\u001b[0m\u001b[0;34m(\u001b[0m\u001b[0mforecast\u001b[0m\u001b[0;34m,\u001b[0m \u001b[0mfx_per_interval\u001b[0m\u001b[0;34m)\u001b[0m\u001b[0;34m\u001b[0m\u001b[0;34m\u001b[0m\u001b[0m\n\u001b[0m\u001b[1;32m      2\u001b[0m \u001b[0mshow\u001b[0m\u001b[0;34m(\u001b[0m\u001b[0mfig\u001b[0m\u001b[0;34m)\u001b[0m\u001b[0;34m\u001b[0m\u001b[0;34m\u001b[0m\u001b[0m\n",
      "\u001b[0;31mNameError\u001b[0m: name 'forecast' is not defined"
     ]
    }
   ],
   "source": [
    "fig = timeseries.generate_forecast_figure(forecast, fx_per_interval)\n",
    "show(fig)"
   ]
  },
  {
   "cell_type": "code",
   "execution_count": null,
   "metadata": {},
   "outputs": [],
   "source": []
  }
 ],
 "metadata": {
  "kernelspec": {
   "display_name": "Python 3",
   "language": "python",
   "name": "python3"
  },
  "language_info": {
   "codemirror_mode": {
    "name": "ipython",
    "version": 3
   },
   "file_extension": ".py",
   "mimetype": "text/x-python",
   "name": "python",
   "nbconvert_exporter": "python",
   "pygments_lexer": "ipython3",
   "version": "3.7.3"
  }
 },
 "nbformat": 4,
 "nbformat_minor": 2
}
