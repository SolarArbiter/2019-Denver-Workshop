{
 "cells": [
  {
   "cell_type": "markdown",
   "metadata": {},
   "source": [
    "# Reference Forecasts\n",
    "\n",
    "This [Jupyter notebook](https://jupyter.org) is designed to introduce you to the [Solar Forecast Arbiter's](https://solarforecastarbiter.org/) built-in reference forecast capabilities. It is divided into 2 sections:\n",
    "\n",
    "1. [NWP-based forecasts](#NWP-based-forecasts)\n",
    "2. [Persistence forecasts](#persistence-forecasts)\n",
    "\n",
    "The API documentation is available [here](https://solarforecastarbiter-core.readthedocs.io/en/latest/reference_forecasts.html)."
   ]
  },
  {
   "cell_type": "code",
   "execution_count": 1,
   "metadata": {},
   "outputs": [
    {
     "data": {
      "text/html": [
       "\n",
       "    <div class=\"bk-root\">\n",
       "        <a href=\"https://bokeh.pydata.org\" target=\"_blank\" class=\"bk-logo bk-logo-small bk-logo-notebook\"></a>\n",
       "        <span id=\"1001\">Loading BokehJS ...</span>\n",
       "    </div>"
      ]
     },
     "metadata": {},
     "output_type": "display_data"
    },
    {
     "data": {
      "application/javascript": [
       "\n",
       "(function(root) {\n",
       "  function now() {\n",
       "    return new Date();\n",
       "  }\n",
       "\n",
       "  var force = true;\n",
       "\n",
       "  if (typeof root._bokeh_onload_callbacks === \"undefined\" || force === true) {\n",
       "    root._bokeh_onload_callbacks = [];\n",
       "    root._bokeh_is_loading = undefined;\n",
       "  }\n",
       "\n",
       "  var JS_MIME_TYPE = 'application/javascript';\n",
       "  var HTML_MIME_TYPE = 'text/html';\n",
       "  var EXEC_MIME_TYPE = 'application/vnd.bokehjs_exec.v0+json';\n",
       "  var CLASS_NAME = 'output_bokeh rendered_html';\n",
       "\n",
       "  /**\n",
       "   * Render data to the DOM node\n",
       "   */\n",
       "  function render(props, node) {\n",
       "    var script = document.createElement(\"script\");\n",
       "    node.appendChild(script);\n",
       "  }\n",
       "\n",
       "  /**\n",
       "   * Handle when an output is cleared or removed\n",
       "   */\n",
       "  function handleClearOutput(event, handle) {\n",
       "    var cell = handle.cell;\n",
       "\n",
       "    var id = cell.output_area._bokeh_element_id;\n",
       "    var server_id = cell.output_area._bokeh_server_id;\n",
       "    // Clean up Bokeh references\n",
       "    if (id != null && id in Bokeh.index) {\n",
       "      Bokeh.index[id].model.document.clear();\n",
       "      delete Bokeh.index[id];\n",
       "    }\n",
       "\n",
       "    if (server_id !== undefined) {\n",
       "      // Clean up Bokeh references\n",
       "      var cmd = \"from bokeh.io.state import curstate; print(curstate().uuid_to_server['\" + server_id + \"'].get_sessions()[0].document.roots[0]._id)\";\n",
       "      cell.notebook.kernel.execute(cmd, {\n",
       "        iopub: {\n",
       "          output: function(msg) {\n",
       "            var id = msg.content.text.trim();\n",
       "            if (id in Bokeh.index) {\n",
       "              Bokeh.index[id].model.document.clear();\n",
       "              delete Bokeh.index[id];\n",
       "            }\n",
       "          }\n",
       "        }\n",
       "      });\n",
       "      // Destroy server and session\n",
       "      var cmd = \"import bokeh.io.notebook as ion; ion.destroy_server('\" + server_id + \"')\";\n",
       "      cell.notebook.kernel.execute(cmd);\n",
       "    }\n",
       "  }\n",
       "\n",
       "  /**\n",
       "   * Handle when a new output is added\n",
       "   */\n",
       "  function handleAddOutput(event, handle) {\n",
       "    var output_area = handle.output_area;\n",
       "    var output = handle.output;\n",
       "\n",
       "    // limit handleAddOutput to display_data with EXEC_MIME_TYPE content only\n",
       "    if ((output.output_type != \"display_data\") || (!output.data.hasOwnProperty(EXEC_MIME_TYPE))) {\n",
       "      return\n",
       "    }\n",
       "\n",
       "    var toinsert = output_area.element.find(\".\" + CLASS_NAME.split(' ')[0]);\n",
       "\n",
       "    if (output.metadata[EXEC_MIME_TYPE][\"id\"] !== undefined) {\n",
       "      toinsert[toinsert.length - 1].firstChild.textContent = output.data[JS_MIME_TYPE];\n",
       "      // store reference to embed id on output_area\n",
       "      output_area._bokeh_element_id = output.metadata[EXEC_MIME_TYPE][\"id\"];\n",
       "    }\n",
       "    if (output.metadata[EXEC_MIME_TYPE][\"server_id\"] !== undefined) {\n",
       "      var bk_div = document.createElement(\"div\");\n",
       "      bk_div.innerHTML = output.data[HTML_MIME_TYPE];\n",
       "      var script_attrs = bk_div.children[0].attributes;\n",
       "      for (var i = 0; i < script_attrs.length; i++) {\n",
       "        toinsert[toinsert.length - 1].firstChild.setAttribute(script_attrs[i].name, script_attrs[i].value);\n",
       "      }\n",
       "      // store reference to server id on output_area\n",
       "      output_area._bokeh_server_id = output.metadata[EXEC_MIME_TYPE][\"server_id\"];\n",
       "    }\n",
       "  }\n",
       "\n",
       "  function register_renderer(events, OutputArea) {\n",
       "\n",
       "    function append_mime(data, metadata, element) {\n",
       "      // create a DOM node to render to\n",
       "      var toinsert = this.create_output_subarea(\n",
       "        metadata,\n",
       "        CLASS_NAME,\n",
       "        EXEC_MIME_TYPE\n",
       "      );\n",
       "      this.keyboard_manager.register_events(toinsert);\n",
       "      // Render to node\n",
       "      var props = {data: data, metadata: metadata[EXEC_MIME_TYPE]};\n",
       "      render(props, toinsert[toinsert.length - 1]);\n",
       "      element.append(toinsert);\n",
       "      return toinsert\n",
       "    }\n",
       "\n",
       "    /* Handle when an output is cleared or removed */\n",
       "    events.on('clear_output.CodeCell', handleClearOutput);\n",
       "    events.on('delete.Cell', handleClearOutput);\n",
       "\n",
       "    /* Handle when a new output is added */\n",
       "    events.on('output_added.OutputArea', handleAddOutput);\n",
       "\n",
       "    /**\n",
       "     * Register the mime type and append_mime function with output_area\n",
       "     */\n",
       "    OutputArea.prototype.register_mime_type(EXEC_MIME_TYPE, append_mime, {\n",
       "      /* Is output safe? */\n",
       "      safe: true,\n",
       "      /* Index of renderer in `output_area.display_order` */\n",
       "      index: 0\n",
       "    });\n",
       "  }\n",
       "\n",
       "  // register the mime type if in Jupyter Notebook environment and previously unregistered\n",
       "  if (root.Jupyter !== undefined) {\n",
       "    var events = require('base/js/events');\n",
       "    var OutputArea = require('notebook/js/outputarea').OutputArea;\n",
       "\n",
       "    if (OutputArea.prototype.mime_types().indexOf(EXEC_MIME_TYPE) == -1) {\n",
       "      register_renderer(events, OutputArea);\n",
       "    }\n",
       "  }\n",
       "\n",
       "  \n",
       "  if (typeof (root._bokeh_timeout) === \"undefined\" || force === true) {\n",
       "    root._bokeh_timeout = Date.now() + 5000;\n",
       "    root._bokeh_failed_load = false;\n",
       "  }\n",
       "\n",
       "  var NB_LOAD_WARNING = {'data': {'text/html':\n",
       "     \"<div style='background-color: #fdd'>\\n\"+\n",
       "     \"<p>\\n\"+\n",
       "     \"BokehJS does not appear to have successfully loaded. If loading BokehJS from CDN, this \\n\"+\n",
       "     \"may be due to a slow or bad network connection. Possible fixes:\\n\"+\n",
       "     \"</p>\\n\"+\n",
       "     \"<ul>\\n\"+\n",
       "     \"<li>re-rerun `output_notebook()` to attempt to load from CDN again, or</li>\\n\"+\n",
       "     \"<li>use INLINE resources instead, as so:</li>\\n\"+\n",
       "     \"</ul>\\n\"+\n",
       "     \"<code>\\n\"+\n",
       "     \"from bokeh.resources import INLINE\\n\"+\n",
       "     \"output_notebook(resources=INLINE)\\n\"+\n",
       "     \"</code>\\n\"+\n",
       "     \"</div>\"}};\n",
       "\n",
       "  function display_loaded() {\n",
       "    var el = document.getElementById(\"1001\");\n",
       "    if (el != null) {\n",
       "      el.textContent = \"BokehJS is loading...\";\n",
       "    }\n",
       "    if (root.Bokeh !== undefined) {\n",
       "      if (el != null) {\n",
       "        el.textContent = \"BokehJS \" + root.Bokeh.version + \" successfully loaded.\";\n",
       "      }\n",
       "    } else if (Date.now() < root._bokeh_timeout) {\n",
       "      setTimeout(display_loaded, 100)\n",
       "    }\n",
       "  }\n",
       "\n",
       "\n",
       "  function run_callbacks() {\n",
       "    try {\n",
       "      root._bokeh_onload_callbacks.forEach(function(callback) {\n",
       "        if (callback != null)\n",
       "          callback();\n",
       "      });\n",
       "    } finally {\n",
       "      delete root._bokeh_onload_callbacks\n",
       "    }\n",
       "    console.debug(\"Bokeh: all callbacks have finished\");\n",
       "  }\n",
       "\n",
       "  function load_libs(css_urls, js_urls, callback) {\n",
       "    if (css_urls == null) css_urls = [];\n",
       "    if (js_urls == null) js_urls = [];\n",
       "\n",
       "    root._bokeh_onload_callbacks.push(callback);\n",
       "    if (root._bokeh_is_loading > 0) {\n",
       "      console.debug(\"Bokeh: BokehJS is being loaded, scheduling callback at\", now());\n",
       "      return null;\n",
       "    }\n",
       "    if (js_urls == null || js_urls.length === 0) {\n",
       "      run_callbacks();\n",
       "      return null;\n",
       "    }\n",
       "    console.debug(\"Bokeh: BokehJS not loaded, scheduling load and callback at\", now());\n",
       "    root._bokeh_is_loading = css_urls.length + js_urls.length;\n",
       "\n",
       "    function on_load() {\n",
       "      root._bokeh_is_loading--;\n",
       "      if (root._bokeh_is_loading === 0) {\n",
       "        console.debug(\"Bokeh: all BokehJS libraries/stylesheets loaded\");\n",
       "        run_callbacks()\n",
       "      }\n",
       "    }\n",
       "\n",
       "    function on_error() {\n",
       "      console.error(\"failed to load \" + url);\n",
       "    }\n",
       "\n",
       "    for (var i = 0; i < css_urls.length; i++) {\n",
       "      var url = css_urls[i];\n",
       "      const element = document.createElement(\"link\");\n",
       "      element.onload = on_load;\n",
       "      element.onerror = on_error;\n",
       "      element.rel = \"stylesheet\";\n",
       "      element.type = \"text/css\";\n",
       "      element.href = url;\n",
       "      console.debug(\"Bokeh: injecting link tag for BokehJS stylesheet: \", url);\n",
       "      document.body.appendChild(element);\n",
       "    }\n",
       "\n",
       "    for (var i = 0; i < js_urls.length; i++) {\n",
       "      var url = js_urls[i];\n",
       "      var element = document.createElement('script');\n",
       "      element.onload = on_load;\n",
       "      element.onerror = on_error;\n",
       "      element.async = false;\n",
       "      element.src = url;\n",
       "      console.debug(\"Bokeh: injecting script tag for BokehJS library: \", url);\n",
       "      document.head.appendChild(element);\n",
       "    }\n",
       "  };var element = document.getElementById(\"1001\");\n",
       "  if (element == null) {\n",
       "    console.error(\"Bokeh: ERROR: autoload.js configured with elementid '1001' but no matching script tag was found. \")\n",
       "    return false;\n",
       "  }\n",
       "\n",
       "  function inject_raw_css(css) {\n",
       "    const element = document.createElement(\"style\");\n",
       "    element.appendChild(document.createTextNode(css));\n",
       "    document.body.appendChild(element);\n",
       "  }\n",
       "\n",
       "  var js_urls = [\"https://cdn.pydata.org/bokeh/release/bokeh-1.1.0.min.js\", \"https://cdn.pydata.org/bokeh/release/bokeh-widgets-1.1.0.min.js\", \"https://cdn.pydata.org/bokeh/release/bokeh-tables-1.1.0.min.js\", \"https://cdn.pydata.org/bokeh/release/bokeh-gl-1.1.0.min.js\"];\n",
       "  var css_urls = [\"https://cdn.pydata.org/bokeh/release/bokeh-1.1.0.min.css\", \"https://cdn.pydata.org/bokeh/release/bokeh-widgets-1.1.0.min.css\", \"https://cdn.pydata.org/bokeh/release/bokeh-tables-1.1.0.min.css\"];\n",
       "\n",
       "  var inline_js = [\n",
       "    function(Bokeh) {\n",
       "      Bokeh.set_log_level(\"info\");\n",
       "    },\n",
       "    \n",
       "    function(Bokeh) {\n",
       "      \n",
       "    },\n",
       "    function(Bokeh) {} // ensure no trailing comma for IE\n",
       "  ];\n",
       "\n",
       "  function run_inline_js() {\n",
       "    \n",
       "    if ((root.Bokeh !== undefined) || (force === true)) {\n",
       "      for (var i = 0; i < inline_js.length; i++) {\n",
       "        inline_js[i].call(root, root.Bokeh);\n",
       "      }if (force === true) {\n",
       "        display_loaded();\n",
       "      }} else if (Date.now() < root._bokeh_timeout) {\n",
       "      setTimeout(run_inline_js, 100);\n",
       "    } else if (!root._bokeh_failed_load) {\n",
       "      console.log(\"Bokeh: BokehJS failed to load within specified timeout.\");\n",
       "      root._bokeh_failed_load = true;\n",
       "    } else if (force !== true) {\n",
       "      var cell = $(document.getElementById(\"1001\")).parents('.cell').data().cell;\n",
       "      cell.output_area.append_execute_result(NB_LOAD_WARNING)\n",
       "    }\n",
       "\n",
       "  }\n",
       "\n",
       "  if (root._bokeh_is_loading === 0) {\n",
       "    console.debug(\"Bokeh: BokehJS loaded, going straight to plotting\");\n",
       "    run_inline_js();\n",
       "  } else {\n",
       "    load_libs(css_urls, js_urls, function() {\n",
       "      console.debug(\"Bokeh: BokehJS plotting callback run at\", now());\n",
       "      run_inline_js();\n",
       "    });\n",
       "  }\n",
       "}(window));"
      ],
      "application/vnd.bokehjs_load.v0+json": "\n(function(root) {\n  function now() {\n    return new Date();\n  }\n\n  var force = true;\n\n  if (typeof root._bokeh_onload_callbacks === \"undefined\" || force === true) {\n    root._bokeh_onload_callbacks = [];\n    root._bokeh_is_loading = undefined;\n  }\n\n  \n\n  \n  if (typeof (root._bokeh_timeout) === \"undefined\" || force === true) {\n    root._bokeh_timeout = Date.now() + 5000;\n    root._bokeh_failed_load = false;\n  }\n\n  var NB_LOAD_WARNING = {'data': {'text/html':\n     \"<div style='background-color: #fdd'>\\n\"+\n     \"<p>\\n\"+\n     \"BokehJS does not appear to have successfully loaded. If loading BokehJS from CDN, this \\n\"+\n     \"may be due to a slow or bad network connection. Possible fixes:\\n\"+\n     \"</p>\\n\"+\n     \"<ul>\\n\"+\n     \"<li>re-rerun `output_notebook()` to attempt to load from CDN again, or</li>\\n\"+\n     \"<li>use INLINE resources instead, as so:</li>\\n\"+\n     \"</ul>\\n\"+\n     \"<code>\\n\"+\n     \"from bokeh.resources import INLINE\\n\"+\n     \"output_notebook(resources=INLINE)\\n\"+\n     \"</code>\\n\"+\n     \"</div>\"}};\n\n  function display_loaded() {\n    var el = document.getElementById(\"1001\");\n    if (el != null) {\n      el.textContent = \"BokehJS is loading...\";\n    }\n    if (root.Bokeh !== undefined) {\n      if (el != null) {\n        el.textContent = \"BokehJS \" + root.Bokeh.version + \" successfully loaded.\";\n      }\n    } else if (Date.now() < root._bokeh_timeout) {\n      setTimeout(display_loaded, 100)\n    }\n  }\n\n\n  function run_callbacks() {\n    try {\n      root._bokeh_onload_callbacks.forEach(function(callback) {\n        if (callback != null)\n          callback();\n      });\n    } finally {\n      delete root._bokeh_onload_callbacks\n    }\n    console.debug(\"Bokeh: all callbacks have finished\");\n  }\n\n  function load_libs(css_urls, js_urls, callback) {\n    if (css_urls == null) css_urls = [];\n    if (js_urls == null) js_urls = [];\n\n    root._bokeh_onload_callbacks.push(callback);\n    if (root._bokeh_is_loading > 0) {\n      console.debug(\"Bokeh: BokehJS is being loaded, scheduling callback at\", now());\n      return null;\n    }\n    if (js_urls == null || js_urls.length === 0) {\n      run_callbacks();\n      return null;\n    }\n    console.debug(\"Bokeh: BokehJS not loaded, scheduling load and callback at\", now());\n    root._bokeh_is_loading = css_urls.length + js_urls.length;\n\n    function on_load() {\n      root._bokeh_is_loading--;\n      if (root._bokeh_is_loading === 0) {\n        console.debug(\"Bokeh: all BokehJS libraries/stylesheets loaded\");\n        run_callbacks()\n      }\n    }\n\n    function on_error() {\n      console.error(\"failed to load \" + url);\n    }\n\n    for (var i = 0; i < css_urls.length; i++) {\n      var url = css_urls[i];\n      const element = document.createElement(\"link\");\n      element.onload = on_load;\n      element.onerror = on_error;\n      element.rel = \"stylesheet\";\n      element.type = \"text/css\";\n      element.href = url;\n      console.debug(\"Bokeh: injecting link tag for BokehJS stylesheet: \", url);\n      document.body.appendChild(element);\n    }\n\n    for (var i = 0; i < js_urls.length; i++) {\n      var url = js_urls[i];\n      var element = document.createElement('script');\n      element.onload = on_load;\n      element.onerror = on_error;\n      element.async = false;\n      element.src = url;\n      console.debug(\"Bokeh: injecting script tag for BokehJS library: \", url);\n      document.head.appendChild(element);\n    }\n  };var element = document.getElementById(\"1001\");\n  if (element == null) {\n    console.error(\"Bokeh: ERROR: autoload.js configured with elementid '1001' but no matching script tag was found. \")\n    return false;\n  }\n\n  function inject_raw_css(css) {\n    const element = document.createElement(\"style\");\n    element.appendChild(document.createTextNode(css));\n    document.body.appendChild(element);\n  }\n\n  var js_urls = [\"https://cdn.pydata.org/bokeh/release/bokeh-1.1.0.min.js\", \"https://cdn.pydata.org/bokeh/release/bokeh-widgets-1.1.0.min.js\", \"https://cdn.pydata.org/bokeh/release/bokeh-tables-1.1.0.min.js\", \"https://cdn.pydata.org/bokeh/release/bokeh-gl-1.1.0.min.js\"];\n  var css_urls = [\"https://cdn.pydata.org/bokeh/release/bokeh-1.1.0.min.css\", \"https://cdn.pydata.org/bokeh/release/bokeh-widgets-1.1.0.min.css\", \"https://cdn.pydata.org/bokeh/release/bokeh-tables-1.1.0.min.css\"];\n\n  var inline_js = [\n    function(Bokeh) {\n      Bokeh.set_log_level(\"info\");\n    },\n    \n    function(Bokeh) {\n      \n    },\n    function(Bokeh) {} // ensure no trailing comma for IE\n  ];\n\n  function run_inline_js() {\n    \n    if ((root.Bokeh !== undefined) || (force === true)) {\n      for (var i = 0; i < inline_js.length; i++) {\n        inline_js[i].call(root, root.Bokeh);\n      }if (force === true) {\n        display_loaded();\n      }} else if (Date.now() < root._bokeh_timeout) {\n      setTimeout(run_inline_js, 100);\n    } else if (!root._bokeh_failed_load) {\n      console.log(\"Bokeh: BokehJS failed to load within specified timeout.\");\n      root._bokeh_failed_load = true;\n    } else if (force !== true) {\n      var cell = $(document.getElementById(\"1001\")).parents('.cell').data().cell;\n      cell.output_area.append_execute_result(NB_LOAD_WARNING)\n    }\n\n  }\n\n  if (root._bokeh_is_loading === 0) {\n    console.debug(\"Bokeh: BokehJS loaded, going straight to plotting\");\n    run_inline_js();\n  } else {\n    load_libs(css_urls, js_urls, function() {\n      console.debug(\"Bokeh: BokehJS plotting callback run at\", now());\n      run_inline_js();\n    });\n  }\n}(window));"
     },
     "metadata": {},
     "output_type": "display_data"
    }
   ],
   "source": [
    "import datetime\n",
    "from functools import partial\n",
    "from pathlib import Path\n",
    "\n",
    "import numpy as np\n",
    "import pandas as pd\n",
    "\n",
    "from bokeh.core.properties import value\n",
    "from bokeh.io import output_notebook\n",
    "from bokeh.layouts import gridplot\n",
    "from bokeh.models import ColumnDataSource\n",
    "from bokeh.plotting import figure, show\n",
    "from bokeh.palettes import Category10_10 as PALETTE\n",
    "TOOLS = \"pan,box_zoom,xwheel_zoom,reset,save,box_select\"\n",
    "output_notebook()"
   ]
  },
  {
   "cell_type": "code",
   "execution_count": 2,
   "metadata": {},
   "outputs": [],
   "source": [
    "from solarforecastarbiter import datamodel"
   ]
  },
  {
   "cell_type": "markdown",
   "metadata": {},
   "source": [
    "## NWP-based forecasts\n",
    "\n",
    "Forecasts based on NWP model data are used for intraday and longer forecasts. The Solar Forecast Arbiter contains a set of functions to process data from NWP forecasts. Here, we explore some of the functionality with an emphasis on obtaining results. See the [NWP section of the documentation](https://solarforecastarbiter-core.readthedocs.io/en/latest/reference_forecasts.html#nwp) for additional information."
   ]
  },
  {
   "cell_type": "markdown",
   "metadata": {},
   "source": [
    "The `solarforecastarbiter-core` package includes a handful of subsetted NWP model runs for testing. We'll use these for our demonstration below. The models were all initialized at 2019-05-15 00Z and the subsets include about half a degree of latitude and longitude near Tucson, AZ."
   ]
  },
  {
   "cell_type": "code",
   "execution_count": 3,
   "metadata": {},
   "outputs": [],
   "source": [
    "from solarforecastarbiter.io import nwp\n",
    "# find the files\n",
    "base_path = Path(nwp.__file__).resolve().parents[0] / 'tests/data'\n",
    "# define file loading function that knows where to find the files\n",
    "load_forecast = partial(nwp.load_forecast, base_path=base_path)"
   ]
  },
  {
   "cell_type": "code",
   "execution_count": 4,
   "metadata": {},
   "outputs": [],
   "source": [
    "# define coordinates\n",
    "latitude = 32.2\n",
    "longitude = -110.9\n",
    "elevation = 700\n",
    "\n",
    "# define initialization time, forecast start time, forecast end time\n",
    "init_time = pd.Timestamp('20190515T0000Z')\n",
    "start = pd.Timestamp('20190515T0100Z')\n",
    "end = pd.Timestamp('20190518T0000Z')"
   ]
  },
  {
   "cell_type": "code",
   "execution_count": 5,
   "metadata": {},
   "outputs": [],
   "source": [
    "from solarforecastarbiter.reference_forecasts import main, models"
   ]
  },
  {
   "cell_type": "code",
   "execution_count": 6,
   "metadata": {},
   "outputs": [],
   "source": [
    "# define a Site object\n",
    "site = datamodel.Site(\n",
    "    name='Tucson, AZ',\n",
    "    latitude=latitude,\n",
    "    longitude=longitude,\n",
    "    elevation=elevation,\n",
    "    timezone='America/Phoenix'\n",
    ")"
   ]
  },
  {
   "cell_type": "markdown",
   "metadata": {},
   "source": [
    "Next we select a NWP+post processing model, load and process the data, and plot the processed data.\n",
    "\n",
    "Here we use the subhourly irradiance directly from the HRRR model."
   ]
  },
  {
   "cell_type": "code",
   "execution_count": 7,
   "metadata": {},
   "outputs": [
    {
     "data": {
      "text/html": [
       "\n",
       "\n",
       "\n",
       "\n",
       "\n",
       "\n",
       "  <div class=\"bk-root\" id=\"35d8830b-50b2-436a-bccf-ceabef026b73\" data-root-id=\"1002\"></div>\n"
      ]
     },
     "metadata": {},
     "output_type": "display_data"
    },
    {
     "data": {
      "application/javascript": [
       "(function(root) {\n",
       "  function embed_document(root) {\n",
       "    \n",
       "  var docs_json = {\"eb553fae-3b14-4235-a080-7f4ce29ca07c\":{\"roots\":{\"references\":[{\"attributes\":{\"below\":[{\"id\":\"1013\",\"type\":\"DatetimeAxis\"}],\"center\":[{\"id\":\"1017\",\"type\":\"Grid\"},{\"id\":\"1022\",\"type\":\"Grid\"},{\"id\":\"1060\",\"type\":\"Legend\"}],\"left\":[{\"id\":\"1018\",\"type\":\"LinearAxis\"}],\"plot_height\":400,\"plot_width\":800,\"renderers\":[{\"id\":\"1039\",\"type\":\"GlyphRenderer\"},{\"id\":\"1065\",\"type\":\"GlyphRenderer\"},{\"id\":\"1092\",\"type\":\"GlyphRenderer\"}],\"title\":{\"id\":\"1003\",\"type\":\"Title\"},\"toolbar\":{\"id\":\"1029\",\"type\":\"Toolbar\"},\"x_range\":{\"id\":\"1005\",\"type\":\"DataRange1d\"},\"x_scale\":{\"id\":\"1009\",\"type\":\"LinearScale\"},\"y_range\":{\"id\":\"1007\",\"type\":\"DataRange1d\"},\"y_scale\":{\"id\":\"1011\",\"type\":\"LinearScale\"}},\"id\":\"1002\",\"subtype\":\"Figure\",\"type\":\"Plot\"},{\"attributes\":{\"active_drag\":\"auto\",\"active_inspect\":\"auto\",\"active_multi\":null,\"active_scroll\":\"auto\",\"active_tap\":\"auto\",\"tools\":[{\"id\":\"1023\",\"type\":\"PanTool\"},{\"id\":\"1024\",\"type\":\"BoxZoomTool\"},{\"id\":\"1025\",\"type\":\"WheelZoomTool\"},{\"id\":\"1026\",\"type\":\"ResetTool\"},{\"id\":\"1027\",\"type\":\"SaveTool\"},{\"id\":\"1028\",\"type\":\"BoxSelectTool\"}]},\"id\":\"1029\",\"type\":\"Toolbar\"},{\"attributes\":{\"callback\":null},\"id\":\"1005\",\"type\":\"DataRange1d\"},{\"attributes\":{\"items\":[{\"id\":\"1061\",\"type\":\"LegendItem\"},{\"id\":\"1088\",\"type\":\"LegendItem\"},{\"id\":\"1117\",\"type\":\"LegendItem\"}],\"location\":\"top_left\"},\"id\":\"1060\",\"type\":\"Legend\"},{\"attributes\":{},\"id\":\"1128\",\"type\":\"UnionRenderers\"},{\"attributes\":{\"axis_label\":\"Time (UTC)\",\"formatter\":{\"id\":\"1045\",\"type\":\"DatetimeTickFormatter\"},\"ticker\":{\"id\":\"1014\",\"type\":\"DatetimeTicker\"}},\"id\":\"1013\",\"type\":\"DatetimeAxis\"},{\"attributes\":{\"callback\":null,\"overlay\":{\"id\":\"1047\",\"type\":\"BoxAnnotation\"}},\"id\":\"1028\",\"type\":\"BoxSelectTool\"},{\"attributes\":{\"label\":{\"value\":\"GHI\"},\"renderers\":[{\"id\":\"1039\",\"type\":\"GlyphRenderer\"}]},\"id\":\"1061\",\"type\":\"LegendItem\"},{\"attributes\":{},\"id\":\"1009\",\"type\":\"LinearScale\"},{\"attributes\":{\"line_alpha\":0.1,\"line_color\":\"#1f77b4\",\"line_width\":2,\"x\":{\"field\":\"x\"},\"y\":{\"field\":\"y\"}},\"id\":\"1038\",\"type\":\"Line\"},{\"attributes\":{\"callback\":null,\"data\":{\"x\":{\"__ndarray__\":\"AAAoDZCrdkIAAOLokKt2QgAAnMSRq3ZCAABWoJKrdkIAABB8k6t2QgAAyleUq3ZCAACEM5WrdkIAAD4Plqt2QgAA+OqWq3ZCAACyxperdkIAAGyimKt2QgAAJn6Zq3ZCAADgWZqrdkIAAJo1m6t2QgAAVBGcq3ZCAAAO7ZyrdkIAAMjInat2QgAAgqSeq3ZCAAA8gJ+rdkIAAPZboKt2QgAAsDehq3ZCAABqE6KrdkIAACTvoqt2QgAA3sqjq3ZCAACYpqSrdkIAAFKCpat2QgAADF6mq3ZCAADGOaerdkIAAIAVqKt2QgAAOvGoq3ZCAAD0zKmrdkIAAK6oqqt2QgAAaISrq3ZCAAAiYKyrdkIAANw7rat2QgAAlheuq3ZCAABQ866rdkIAAArPr6t2QgAAxKqwq3ZCAAB+hrGrdkIAADhisqt2QgAA8j2zq3ZCAACsGbSrdkIAAGb1tKt2QgAAING1q3ZCAADarLardkIAAJSIt6t2QgAATmS4q3ZCAAAIQLmrdkIAAMIbuqt2QgAAfPe6q3ZCAAA207urdkIAAPCuvKt2QgAAqoq9q3ZCAABkZr6rdkIAAB5Cv6t2QgAA2B3Aq3ZCAACS+cCrdkIAAEzVwat2QgAABrHCq3ZCAADAjMOrdkIAAHpoxKt2QgAANETFq3ZCAADuH8ardkIAAKj7xqt2QgAAYtfHq3ZCAAAcs8irdkIAANaOyat2QgAAkGrKq3ZC\",\"dtype\":\"float64\",\"shape\":[69]},\"y\":{\"__ndarray__\":\"AADyQwAA6EMAgI9DAACZQwAAEkMAAAAAAAAAAAAAAAAAAAAAAAAAAAAAAAAAAAAAAAAAAAAAAAAAAAAAAAAAAAAAAAAAAAAAAAAAAAAAAAAAAAAAAAAAAAAAAAAAAAAAAAAAAAAAAAAAAAAAAAAAAAAAAAAAAAAAAAAAAAAAAAAAAAAAAAAAAAAAAAAAAAAAAAAAAAAAAAAAAAAAAAAAAAAAAAAAAAAAAAAAAAAAAAAAAAAAAAAAAAAAAAAAALJCAICFQwCAzEMAQAJEAMAXRACAKEQAwDZEAEBBRAAASEQAgEpEAABSRAAAXEQAgF5EAIBjRACAY0QAAFdEAABSRACAY0QAgGhEAIA7RACAT0QAAFxE\",\"dtype\":\"float32\",\"shape\":[69]}},\"selected\":{\"id\":\"1101\",\"type\":\"Selection\"},\"selection_policy\":{\"id\":\"1102\",\"type\":\"UnionRenderers\"}},\"id\":\"1062\",\"type\":\"ColumnDataSource\"},{\"attributes\":{\"data_source\":{\"id\":\"1036\",\"type\":\"ColumnDataSource\"},\"glyph\":{\"id\":\"1037\",\"type\":\"Line\"},\"hover_glyph\":null,\"muted_glyph\":null,\"nonselection_glyph\":{\"id\":\"1038\",\"type\":\"Line\"},\"selection_glyph\":null,\"view\":{\"id\":\"1040\",\"type\":\"CDSView\"}},\"id\":\"1039\",\"type\":\"GlyphRenderer\"},{\"attributes\":{\"line_color\":\"#ff7f0e\",\"line_width\":2,\"x\":{\"field\":\"x\"},\"y\":{\"field\":\"y\"}},\"id\":\"1063\",\"type\":\"Line\"},{\"attributes\":{\"source\":{\"id\":\"1036\",\"type\":\"ColumnDataSource\"}},\"id\":\"1040\",\"type\":\"CDSView\"},{\"attributes\":{},\"id\":\"1011\",\"type\":\"LinearScale\"},{\"attributes\":{\"base\":60,\"mantissas\":[1,2,5,10,15,20,30],\"max_interval\":1800000.0,\"min_interval\":1000.0,\"num_minor_ticks\":0},\"id\":\"1049\",\"type\":\"AdaptiveTicker\"},{\"attributes\":{\"line_alpha\":0.1,\"line_color\":\"#1f77b4\",\"line_width\":2,\"x\":{\"field\":\"x\"},\"y\":{\"field\":\"y\"}},\"id\":\"1064\",\"type\":\"Line\"},{\"attributes\":{\"num_minor_ticks\":5,\"tickers\":[{\"id\":\"1048\",\"type\":\"AdaptiveTicker\"},{\"id\":\"1049\",\"type\":\"AdaptiveTicker\"},{\"id\":\"1050\",\"type\":\"AdaptiveTicker\"},{\"id\":\"1051\",\"type\":\"DaysTicker\"},{\"id\":\"1052\",\"type\":\"DaysTicker\"},{\"id\":\"1053\",\"type\":\"DaysTicker\"},{\"id\":\"1054\",\"type\":\"DaysTicker\"},{\"id\":\"1055\",\"type\":\"MonthsTicker\"},{\"id\":\"1056\",\"type\":\"MonthsTicker\"},{\"id\":\"1057\",\"type\":\"MonthsTicker\"},{\"id\":\"1058\",\"type\":\"MonthsTicker\"},{\"id\":\"1059\",\"type\":\"YearsTicker\"}]},\"id\":\"1014\",\"type\":\"DatetimeTicker\"},{\"attributes\":{},\"id\":\"1045\",\"type\":\"DatetimeTickFormatter\"},{\"attributes\":{\"data_source\":{\"id\":\"1062\",\"type\":\"ColumnDataSource\"},\"glyph\":{\"id\":\"1063\",\"type\":\"Line\"},\"hover_glyph\":null,\"muted_glyph\":null,\"nonselection_glyph\":{\"id\":\"1064\",\"type\":\"Line\"},\"selection_glyph\":null,\"view\":{\"id\":\"1066\",\"type\":\"CDSView\"}},\"id\":\"1065\",\"type\":\"GlyphRenderer\"},{\"attributes\":{\"ticker\":{\"id\":\"1014\",\"type\":\"DatetimeTicker\"}},\"id\":\"1017\",\"type\":\"Grid\"},{\"attributes\":{},\"id\":\"1043\",\"type\":\"BasicTickFormatter\"},{\"attributes\":{\"bottom_units\":\"screen\",\"fill_alpha\":{\"value\":0.5},\"fill_color\":{\"value\":\"lightgrey\"},\"left_units\":\"screen\",\"level\":\"overlay\",\"line_alpha\":{\"value\":1.0},\"line_color\":{\"value\":\"black\"},\"line_dash\":[4,4],\"line_width\":{\"value\":2},\"render_mode\":\"css\",\"right_units\":\"screen\",\"top_units\":\"screen\"},\"id\":\"1046\",\"type\":\"BoxAnnotation\"},{\"attributes\":{\"source\":{\"id\":\"1062\",\"type\":\"ColumnDataSource\"}},\"id\":\"1066\",\"type\":\"CDSView\"},{\"attributes\":{\"bottom_units\":\"screen\",\"fill_alpha\":{\"value\":0.5},\"fill_color\":{\"value\":\"lightgrey\"},\"left_units\":\"screen\",\"level\":\"overlay\",\"line_alpha\":{\"value\":1.0},\"line_color\":{\"value\":\"black\"},\"line_dash\":[4,4],\"line_width\":{\"value\":2},\"render_mode\":\"css\",\"right_units\":\"screen\",\"top_units\":\"screen\"},\"id\":\"1047\",\"type\":\"BoxAnnotation\"},{\"attributes\":{\"text\":\"Irradiance (W/m^2)\"},\"id\":\"1003\",\"type\":\"Title\"},{\"attributes\":{\"formatter\":{\"id\":\"1043\",\"type\":\"BasicTickFormatter\"},\"ticker\":{\"id\":\"1019\",\"type\":\"BasicTicker\"}},\"id\":\"1018\",\"type\":\"LinearAxis\"},{\"attributes\":{},\"id\":\"1072\",\"type\":\"Selection\"},{\"attributes\":{},\"id\":\"1019\",\"type\":\"BasicTicker\"},{\"attributes\":{},\"id\":\"1073\",\"type\":\"UnionRenderers\"},{\"attributes\":{\"base\":24,\"mantissas\":[1,2,4,6,8,12],\"max_interval\":43200000.0,\"min_interval\":3600000.0,\"num_minor_ticks\":0},\"id\":\"1050\",\"type\":\"AdaptiveTicker\"},{\"attributes\":{\"dimension\":1,\"ticker\":{\"id\":\"1019\",\"type\":\"BasicTicker\"}},\"id\":\"1022\",\"type\":\"Grid\"},{\"attributes\":{\"label\":{\"value\":\"DNI\"},\"renderers\":[{\"id\":\"1065\",\"type\":\"GlyphRenderer\"}]},\"id\":\"1088\",\"type\":\"LegendItem\"},{\"attributes\":{\"days\":[1,2,3,4,5,6,7,8,9,10,11,12,13,14,15,16,17,18,19,20,21,22,23,24,25,26,27,28,29,30,31]},\"id\":\"1051\",\"type\":\"DaysTicker\"},{\"attributes\":{},\"id\":\"1023\",\"type\":\"PanTool\"},{\"attributes\":{\"days\":[1,4,7,10,13,16,19,22,25,28]},\"id\":\"1052\",\"type\":\"DaysTicker\"},{\"attributes\":{\"callback\":null,\"data\":{\"x\":{\"__ndarray__\":\"AAAoDZCrdkIAAOLokKt2QgAAnMSRq3ZCAABWoJKrdkIAABB8k6t2QgAAyleUq3ZCAACEM5WrdkIAAD4Plqt2QgAA+OqWq3ZCAACyxperdkIAAGyimKt2QgAAJn6Zq3ZCAADgWZqrdkIAAJo1m6t2QgAAVBGcq3ZCAAAO7ZyrdkIAAMjInat2QgAAgqSeq3ZCAAA8gJ+rdkIAAPZboKt2QgAAsDehq3ZCAABqE6KrdkIAACTvoqt2QgAA3sqjq3ZCAACYpqSrdkIAAFKCpat2QgAADF6mq3ZCAADGOaerdkIAAIAVqKt2QgAAOvGoq3ZCAAD0zKmrdkIAAK6oqqt2QgAAaISrq3ZCAAAiYKyrdkIAANw7rat2QgAAlheuq3ZCAABQ866rdkIAAArPr6t2QgAAxKqwq3ZCAAB+hrGrdkIAADhisqt2QgAA8j2zq3ZCAACsGbSrdkIAAGb1tKt2QgAAING1q3ZCAADarLardkIAAJSIt6t2QgAATmS4q3ZCAAAIQLmrdkIAAMIbuqt2QgAAfPe6q3ZCAAA207urdkIAAPCuvKt2QgAAqoq9q3ZCAABkZr6rdkIAAB5Cv6t2QgAA2B3Aq3ZCAACS+cCrdkIAAEzVwat2QgAABrHCq3ZCAADAjMOrdkIAAHpoxKt2QgAANETFq3ZCAADuH8ardkIAAKj7xqt2QgAAYtfHq3ZCAAAcs8irdkIAANaOyat2QgAAkGrKq3ZC\",\"dtype\":\"float64\",\"shape\":[69]},\"y\":{\"__ndarray__\":\"AABUQwAAIkMAANBCAACEQgAA0EEAAAAAAAAAAAAAAAAAAAAAAAAAAAAAAAAAAAAAAAAAAAAAAAAAAAAAAAAAAAAAAAAAAAAAAAAAAAAAAAAAAAAAAAAAAAAAAAAAAAAAAAAAAAAAAAAAAAAAAAAAAAAAAAAAAAAAAAAAAAAAAAAAAAAAAAAAAAAAAAAAAAAAAAAAAAAAAAAAAAAAAAAAAAAAAAAAAAAAAAAAAAAAAAAAAAAAAAAAAAAAAAAAAFBBAABIQgAAwEIAABRDAABMQwCAgkMAgKBDAIC9QwCA2kMAAPZDAEAJRABAF0QAQCREAIAxRACAO0QAgEVEAIBPRAAAXEQAAGZEAIBoRACAckQAAHpE\",\"dtype\":\"float32\",\"shape\":[69]}},\"selected\":{\"id\":\"1072\",\"type\":\"Selection\"},\"selection_policy\":{\"id\":\"1073\",\"type\":\"UnionRenderers\"}},\"id\":\"1036\",\"type\":\"ColumnDataSource\"},{\"attributes\":{\"callback\":null,\"data\":{\"x\":{\"__ndarray__\":\"AAAoDZCrdkIAAOLokKt2QgAAnMSRq3ZCAABWoJKrdkIAABB8k6t2QgAAyleUq3ZCAACEM5WrdkIAAD4Plqt2QgAA+OqWq3ZCAACyxperdkIAAGyimKt2QgAAJn6Zq3ZCAADgWZqrdkIAAJo1m6t2QgAAVBGcq3ZCAAAO7ZyrdkIAAMjInat2QgAAgqSeq3ZCAAA8gJ+rdkIAAPZboKt2QgAAsDehq3ZCAABqE6KrdkIAACTvoqt2QgAA3sqjq3ZCAACYpqSrdkIAAFKCpat2QgAADF6mq3ZCAADGOaerdkIAAIAVqKt2QgAAOvGoq3ZCAAD0zKmrdkIAAK6oqqt2QgAAaISrq3ZCAAAiYKyrdkIAANw7rat2QgAAlheuq3ZCAABQ866rdkIAAArPr6t2QgAAxKqwq3ZCAAB+hrGrdkIAADhisqt2QgAA8j2zq3ZCAACsGbSrdkIAAGb1tKt2QgAAING1q3ZCAADarLardkIAAJSIt6t2QgAATmS4q3ZCAAAIQLmrdkIAAMIbuqt2QgAAfPe6q3ZCAAA207urdkIAAPCuvKt2QgAAqoq9q3ZCAABkZr6rdkIAAB5Cv6t2QgAA2B3Aq3ZCAACS+cCrdkIAAEzVwat2QgAABrHCq3ZCAADAjMOrdkIAAHpoxKt2QgAANETFq3ZCAADuH8ardkIAAKj7xqt2QgAAYtfHq3ZCAAAcs8irdkIAANaOyat2QgAAkGrKq3ZC\",\"dtype\":\"float64\",\"shape\":[69]},\"y\":{\"__ndarray__\":\"AKCjQgCAXUIAQCVCAAC/QQAABUEAAAAAAAAAAAAAAAAAAAAAAAAAAAAAAAAAAAAAAAAAAAAAAAAAAAAAAAAAAAAAAAAAAAAAAAAAAAAAAAAAAAAAAAAAAAAAAAAAAAAAAAAAAAAAAAAAAAAAAAAAAAAAAAAAAAAAAAAAAAAAAAAAAAAAAAAAAAAAAAAAAAAAAAAAAAAAAAAAAAAAAAAAAAAAAAAAAAAAAAAAAAAAAAAAAAAAAAAAAAAAAAAAgKZBAAD4QQCANEIAQFlCAAB2QgAAh0IAQJBCAACbQgBApkIAwMdCAKC8QgCgsEIAwMVCAADCQgCg1kIAIChDAFA6QwBQEEMAoAJDAMCMQwAwZkMA0DxD\",\"dtype\":\"float32\",\"shape\":[69]}},\"selected\":{\"id\":\"1127\",\"type\":\"Selection\"},\"selection_policy\":{\"id\":\"1128\",\"type\":\"UnionRenderers\"}},\"id\":\"1089\",\"type\":\"ColumnDataSource\"},{\"attributes\":{\"mantissas\":[1,2,5],\"max_interval\":500.0,\"num_minor_ticks\":0},\"id\":\"1048\",\"type\":\"AdaptiveTicker\"},{\"attributes\":{\"line_color\":\"#2ca02c\",\"line_width\":2,\"x\":{\"field\":\"x\"},\"y\":{\"field\":\"y\"}},\"id\":\"1090\",\"type\":\"Line\"},{\"attributes\":{},\"id\":\"1127\",\"type\":\"Selection\"},{\"attributes\":{\"days\":[1,8,15,22]},\"id\":\"1053\",\"type\":\"DaysTicker\"},{\"attributes\":{\"overlay\":{\"id\":\"1046\",\"type\":\"BoxAnnotation\"}},\"id\":\"1024\",\"type\":\"BoxZoomTool\"},{\"attributes\":{\"line_color\":\"#1f77b4\",\"line_width\":2,\"x\":{\"field\":\"x\"},\"y\":{\"field\":\"y\"}},\"id\":\"1037\",\"type\":\"Line\"},{\"attributes\":{\"line_alpha\":0.1,\"line_color\":\"#1f77b4\",\"line_width\":2,\"x\":{\"field\":\"x\"},\"y\":{\"field\":\"y\"}},\"id\":\"1091\",\"type\":\"Line\"},{\"attributes\":{\"days\":[1,15]},\"id\":\"1054\",\"type\":\"DaysTicker\"},{\"attributes\":{\"data_source\":{\"id\":\"1089\",\"type\":\"ColumnDataSource\"},\"glyph\":{\"id\":\"1090\",\"type\":\"Line\"},\"hover_glyph\":null,\"muted_glyph\":null,\"nonselection_glyph\":{\"id\":\"1091\",\"type\":\"Line\"},\"selection_glyph\":null,\"view\":{\"id\":\"1093\",\"type\":\"CDSView\"}},\"id\":\"1092\",\"type\":\"GlyphRenderer\"},{\"attributes\":{\"months\":[0,1,2,3,4,5,6,7,8,9,10,11]},\"id\":\"1055\",\"type\":\"MonthsTicker\"},{\"attributes\":{\"dimensions\":\"width\"},\"id\":\"1025\",\"type\":\"WheelZoomTool\"},{\"attributes\":{\"source\":{\"id\":\"1089\",\"type\":\"ColumnDataSource\"}},\"id\":\"1093\",\"type\":\"CDSView\"},{\"attributes\":{\"months\":[0,2,4,6,8,10]},\"id\":\"1056\",\"type\":\"MonthsTicker\"},{\"attributes\":{},\"id\":\"1026\",\"type\":\"ResetTool\"},{\"attributes\":{},\"id\":\"1101\",\"type\":\"Selection\"},{\"attributes\":{\"months\":[0,4,8]},\"id\":\"1057\",\"type\":\"MonthsTicker\"},{\"attributes\":{},\"id\":\"1027\",\"type\":\"SaveTool\"},{\"attributes\":{},\"id\":\"1102\",\"type\":\"UnionRenderers\"},{\"attributes\":{\"months\":[0,6]},\"id\":\"1058\",\"type\":\"MonthsTicker\"},{\"attributes\":{\"callback\":null},\"id\":\"1007\",\"type\":\"DataRange1d\"},{\"attributes\":{\"label\":{\"value\":\"DHI\"},\"renderers\":[{\"id\":\"1092\",\"type\":\"GlyphRenderer\"}]},\"id\":\"1117\",\"type\":\"LegendItem\"},{\"attributes\":{},\"id\":\"1059\",\"type\":\"YearsTicker\"}],\"root_ids\":[\"1002\"]},\"title\":\"Bokeh Application\",\"version\":\"1.1.0\"}};\n",
       "  var render_items = [{\"docid\":\"eb553fae-3b14-4235-a080-7f4ce29ca07c\",\"roots\":{\"1002\":\"35d8830b-50b2-436a-bccf-ceabef026b73\"}}];\n",
       "  root.Bokeh.embed.embed_items_notebook(docs_json, render_items);\n",
       "\n",
       "  }\n",
       "  if (root.Bokeh !== undefined) {\n",
       "    embed_document(root);\n",
       "  } else {\n",
       "    var attempts = 0;\n",
       "    var timer = setInterval(function(root) {\n",
       "      if (root.Bokeh !== undefined) {\n",
       "        embed_document(root);\n",
       "        clearInterval(timer);\n",
       "      }\n",
       "      attempts++;\n",
       "      if (attempts > 100) {\n",
       "        console.log(\"Bokeh: ERROR: Unable to run BokehJS code because BokehJS library is missing\");\n",
       "        clearInterval(timer);\n",
       "      }\n",
       "    }, 10, root)\n",
       "  }\n",
       "})(window);"
      ],
      "application/vnd.bokehjs_exec.v0+json": ""
     },
     "metadata": {
      "application/vnd.bokehjs_exec.v0+json": {
       "id": "1002"
      }
     },
     "output_type": "display_data"
    }
   ],
   "source": [
    "# select the model\n",
    "model = models.hrrr_subhourly_to_subhourly_instantaneous\n",
    "\n",
    "# tell the model where to find the NWP data\n",
    "model_wrapped = partial(model, load_forecast=load_forecast)\n",
    "\n",
    "# load and process the NWP data\n",
    "ghi, dni, dhi, air_temperature, wind_speed, ac_power = main.run(site, model_wrapped, init_time, start, end)\n",
    "\n",
    "fig = figure(title=\"Irradiance (W/m^2)\", tools=TOOLS, x_axis_type=\"datetime\", plot_width=800, plot_height=400)\n",
    "palette = iter(PALETTE)\n",
    "for irrad, name in zip((ghi, dni, dhi), ('GHI', 'DNI', 'DHI')):\n",
    "    fig.line(irrad.index, irrad, legend=name, color=next(palette), line_width=2)\n",
    "fig.xaxis.axis_label = 'Time (UTC)'\n",
    "fig.legend.location = \"top_left\"\n",
    "show(fig)"
   ]
  },
  {
   "cell_type": "markdown",
   "metadata": {},
   "source": [
    "The Solar Forecast Arbiter includes processing functions derive GHI from cloud cover and then compute DNI and DHI using the Erbs model. These functions are applied to data from the GFS, NAM, and RAP weather models."
   ]
  },
  {
   "cell_type": "code",
   "execution_count": 8,
   "metadata": {},
   "outputs": [
    {
     "data": {
      "text/html": [
       "\n",
       "\n",
       "\n",
       "\n",
       "\n",
       "\n",
       "  <div class=\"bk-root\" id=\"b40141e6-60f8-412c-a531-5db8b6c2e5df\" data-root-id=\"1293\"></div>\n"
      ]
     },
     "metadata": {},
     "output_type": "display_data"
    },
    {
     "data": {
      "application/javascript": [
       "(function(root) {\n",
       "  function embed_document(root) {\n",
       "    \n",
       "  var docs_json = {\"51568901-1cf4-4dc7-8ccd-b4e7002d6c05\":{\"roots\":{\"references\":[{\"attributes\":{\"below\":[{\"id\":\"1304\",\"type\":\"DatetimeAxis\"}],\"center\":[{\"id\":\"1308\",\"type\":\"Grid\"},{\"id\":\"1313\",\"type\":\"Grid\"},{\"id\":\"1351\",\"type\":\"Legend\"}],\"left\":[{\"id\":\"1309\",\"type\":\"LinearAxis\"}],\"plot_height\":400,\"plot_width\":800,\"renderers\":[{\"id\":\"1330\",\"type\":\"GlyphRenderer\"},{\"id\":\"1356\",\"type\":\"GlyphRenderer\"},{\"id\":\"1383\",\"type\":\"GlyphRenderer\"}],\"title\":{\"id\":\"1294\",\"type\":\"Title\"},\"toolbar\":{\"id\":\"1320\",\"type\":\"Toolbar\"},\"x_range\":{\"id\":\"1296\",\"type\":\"DataRange1d\"},\"x_scale\":{\"id\":\"1300\",\"type\":\"LinearScale\"},\"y_range\":{\"id\":\"1298\",\"type\":\"DataRange1d\"},\"y_scale\":{\"id\":\"1302\",\"type\":\"LinearScale\"}},\"id\":\"1293\",\"subtype\":\"Figure\",\"type\":\"Plot\"},{\"attributes\":{\"label\":{\"value\":\"GHI\"},\"renderers\":[{\"id\":\"1330\",\"type\":\"GlyphRenderer\"}]},\"id\":\"1352\",\"type\":\"LegendItem\"},{\"attributes\":{\"months\":[0,6]},\"id\":\"1349\",\"type\":\"MonthsTicker\"},{\"attributes\":{\"dimension\":1,\"ticker\":{\"id\":\"1310\",\"type\":\"BasicTicker\"}},\"id\":\"1313\",\"type\":\"Grid\"},{\"attributes\":{\"callback\":null},\"id\":\"1298\",\"type\":\"DataRange1d\"},{\"attributes\":{\"data_source\":{\"id\":\"1353\",\"type\":\"ColumnDataSource\"},\"glyph\":{\"id\":\"1354\",\"type\":\"Line\"},\"hover_glyph\":null,\"muted_glyph\":null,\"nonselection_glyph\":{\"id\":\"1355\",\"type\":\"Line\"},\"selection_glyph\":null,\"view\":{\"id\":\"1357\",\"type\":\"CDSView\"}},\"id\":\"1356\",\"type\":\"GlyphRenderer\"},{\"attributes\":{\"callback\":null,\"data\":{\"x\":{\"__ndarray__\":\"AAAoDZCrdkIAABB8k6t2QgAA+OqWq3ZCAADgWZqrdkIAAMjInat2QgAAsDehq3ZCAACYpqSrdkIAAIAVqKt2QgAAaISrq3ZCAABQ866rdkIAADhisqt2QgAAING1q3ZCAAAIQLmrdkIAAPCuvKt2QgAA2B3Aq3ZCAADAjMOrdkIAAKj7xqt2QgAAkGrKq3ZCAAB42c2rdkIAAGBI0at2QgAASLfUq3ZCAAAwJtirdkIAABiV26t2QgAAAATfq3ZCAADocuKrdkIAANDh5at2QgAAuFDpq3ZCAACgv+yrdkIAAIgu8Kt2QgAAcJ3zq3ZCAABYDPerdkIAAEB7+qt2QgAAKOr9q3ZCAAAQWQGsdkIAAPjHBKx2QgAA4DYIrHZCAADIpQusdkIAALAUD6x2QgAAmIMSrHZCAACA8hWsdkIAAGhhGax2QgAAUNAcrHZCAAA4PyCsdkIAACCuI6x2QgAACB0nrHZCAADwiyqsdkIAANj6Lax2QgAAwGkxrHZCAACo2DSsdkIAAJBHOKx2QgAAeLY7rHZCAABgJT+sdkIAAEiUQqx2QgAAMANGrHZCAAAYckmsdkIAAADhTKx2QgAA6E9QrHZCAADQvlOsdkIAALgtV6x2QgAAoJxarHZCAACIC16sdkIAAHB6Yax2QgAAWOlkrHZCAABAWGisdkIAACjHa6x2QgAAEDZvrHZCAAD4pHKsdkIAAOATdqx2QgAAyIJ5rHZCAACw8XysdkIAAJhggKx2QgAAgM+DrHZC\",\"dtype\":\"float64\",\"shape\":[72]},\"y\":{\"__ndarray__\":\"w1uNhTSiTkBUutISyBnfPwAAAAAAAAAAAAAAAAAAAAAAAAAAAAAAAAAAAAAAAAAAAAAAAAAAAAAAAAAAAAAAAAAAAAAAAAAAAAAAAAAAAAAAAAAAAAAAAPTRN/1X/xVAfqL6+rk9VEDrCvbY25NaQFjfRusFtVxAQW/3UxCOYEDJw5mHCANjQMsTgHaBx2RAZV5GFRsUaECBhQSvp/dzQPx7OFGnsHdASZaaTZ9qcUA0Psh3UqJrQJ5wBEyZJGRAwBT3RaVeTEDQs9FtDhjaPwAAAAAAAAAAAAAAAAAAAAAAAAAAAAAAAAAAAAAAAAAAAAAAAAAAAAAAAAAAAAAAAAAAAAAAAAAAAAAAAAAAAAAAAAAAAAAAACgZndj2cw1A2orgfjLbUUDQ6wsChYdkQCEDI4gGFG1AIEh7utWOcUDEfzRE7it1QKmlvaopjXVArMq9WM8jZUB8eL7Kip5kQAlIKtpXimJANUJGmRWFYED3lFtrdPljQCBOdKfRamNAGRXifdPsSECw02s8WlbaPwAAAAAAAAAAAAAAAAAAAAAAAAAAAAAAAAAAAAAAAAAAAAAAAAAAAAAAAAAAAAAAAAAAAAAAAAAAAAAAAAAAAAAAAAAAAAAAADV8UTCSSBhAH31ArmcmVUCBSE2EAYxgQIgtVCQtVW1A295mmnilcUDrgfzhKcxlQAedDrBAqGRAlyCMMMRTZUD/7VnlYXdkQHEhKdU4d2JAX2WcLDPzX0CYDjCyQwBcQLMlY3do01pA\",\"dtype\":\"float64\",\"shape\":[72]}},\"selected\":{\"id\":\"1443\",\"type\":\"Selection\"},\"selection_policy\":{\"id\":\"1444\",\"type\":\"UnionRenderers\"}},\"id\":\"1380\",\"type\":\"ColumnDataSource\"},{\"attributes\":{},\"id\":\"1443\",\"type\":\"Selection\"},{\"attributes\":{\"line_color\":\"#2ca02c\",\"line_width\":2,\"x\":{\"field\":\"x\"},\"y\":{\"field\":\"y\"}},\"id\":\"1381\",\"type\":\"Line\"},{\"attributes\":{\"formatter\":{\"id\":\"1334\",\"type\":\"BasicTickFormatter\"},\"ticker\":{\"id\":\"1310\",\"type\":\"BasicTicker\"}},\"id\":\"1309\",\"type\":\"LinearAxis\"},{\"attributes\":{\"source\":{\"id\":\"1353\",\"type\":\"ColumnDataSource\"}},\"id\":\"1357\",\"type\":\"CDSView\"},{\"attributes\":{},\"id\":\"1393\",\"type\":\"UnionRenderers\"},{\"attributes\":{\"text\":\"Irradiance (W/m^2)\"},\"id\":\"1294\",\"type\":\"Title\"},{\"attributes\":{\"axis_label\":\"Time (UTC)\",\"formatter\":{\"id\":\"1336\",\"type\":\"DatetimeTickFormatter\"},\"ticker\":{\"id\":\"1305\",\"type\":\"DatetimeTicker\"}},\"id\":\"1304\",\"type\":\"DatetimeAxis\"},{\"attributes\":{\"callback\":null},\"id\":\"1296\",\"type\":\"DataRange1d\"},{\"attributes\":{},\"id\":\"1392\",\"type\":\"Selection\"},{\"attributes\":{\"line_alpha\":0.1,\"line_color\":\"#1f77b4\",\"line_width\":2,\"x\":{\"field\":\"x\"},\"y\":{\"field\":\"y\"}},\"id\":\"1382\",\"type\":\"Line\"},{\"attributes\":{\"base\":24,\"mantissas\":[1,2,4,6,8,12],\"max_interval\":43200000.0,\"min_interval\":3600000.0,\"num_minor_ticks\":0},\"id\":\"1341\",\"type\":\"AdaptiveTicker\"},{\"attributes\":{\"num_minor_ticks\":5,\"tickers\":[{\"id\":\"1339\",\"type\":\"AdaptiveTicker\"},{\"id\":\"1340\",\"type\":\"AdaptiveTicker\"},{\"id\":\"1341\",\"type\":\"AdaptiveTicker\"},{\"id\":\"1342\",\"type\":\"DaysTicker\"},{\"id\":\"1343\",\"type\":\"DaysTicker\"},{\"id\":\"1344\",\"type\":\"DaysTicker\"},{\"id\":\"1345\",\"type\":\"DaysTicker\"},{\"id\":\"1346\",\"type\":\"MonthsTicker\"},{\"id\":\"1347\",\"type\":\"MonthsTicker\"},{\"id\":\"1348\",\"type\":\"MonthsTicker\"},{\"id\":\"1349\",\"type\":\"MonthsTicker\"},{\"id\":\"1350\",\"type\":\"YearsTicker\"}]},\"id\":\"1305\",\"type\":\"DatetimeTicker\"},{\"attributes\":{},\"id\":\"1310\",\"type\":\"BasicTicker\"},{\"attributes\":{},\"id\":\"1336\",\"type\":\"DatetimeTickFormatter\"},{\"attributes\":{\"label\":{\"value\":\"DHI\"},\"renderers\":[{\"id\":\"1383\",\"type\":\"GlyphRenderer\"}]},\"id\":\"1408\",\"type\":\"LegendItem\"},{\"attributes\":{\"source\":{\"id\":\"1327\",\"type\":\"ColumnDataSource\"}},\"id\":\"1331\",\"type\":\"CDSView\"},{\"attributes\":{\"line_alpha\":0.1,\"line_color\":\"#1f77b4\",\"line_width\":2,\"x\":{\"field\":\"x\"},\"y\":{\"field\":\"y\"}},\"id\":\"1329\",\"type\":\"Line\"},{\"attributes\":{\"line_color\":\"#ff7f0e\",\"line_width\":2,\"x\":{\"field\":\"x\"},\"y\":{\"field\":\"y\"}},\"id\":\"1354\",\"type\":\"Line\"},{\"attributes\":{\"callback\":null,\"overlay\":{\"id\":\"1338\",\"type\":\"BoxAnnotation\"}},\"id\":\"1319\",\"type\":\"BoxSelectTool\"},{\"attributes\":{},\"id\":\"1363\",\"type\":\"Selection\"},{\"attributes\":{\"line_color\":\"#1f77b4\",\"line_width\":2,\"x\":{\"field\":\"x\"},\"y\":{\"field\":\"y\"}},\"id\":\"1328\",\"type\":\"Line\"},{\"attributes\":{\"days\":[1,4,7,10,13,16,19,22,25,28]},\"id\":\"1343\",\"type\":\"DaysTicker\"},{\"attributes\":{\"data_source\":{\"id\":\"1327\",\"type\":\"ColumnDataSource\"},\"glyph\":{\"id\":\"1328\",\"type\":\"Line\"},\"hover_glyph\":null,\"muted_glyph\":null,\"nonselection_glyph\":{\"id\":\"1329\",\"type\":\"Line\"},\"selection_glyph\":null,\"view\":{\"id\":\"1331\",\"type\":\"CDSView\"}},\"id\":\"1330\",\"type\":\"GlyphRenderer\"},{\"attributes\":{\"callback\":null,\"data\":{\"x\":{\"__ndarray__\":\"AAAoDZCrdkIAABB8k6t2QgAA+OqWq3ZCAADgWZqrdkIAAMjInat2QgAAsDehq3ZCAACYpqSrdkIAAIAVqKt2QgAAaISrq3ZCAABQ866rdkIAADhisqt2QgAAING1q3ZCAAAIQLmrdkIAAPCuvKt2QgAA2B3Aq3ZCAADAjMOrdkIAAKj7xqt2QgAAkGrKq3ZCAAB42c2rdkIAAGBI0at2QgAASLfUq3ZCAAAwJtirdkIAABiV26t2QgAAAATfq3ZCAADocuKrdkIAANDh5at2QgAAuFDpq3ZCAACgv+yrdkIAAIgu8Kt2QgAAcJ3zq3ZCAABYDPerdkIAAEB7+qt2QgAAKOr9q3ZCAAAQWQGsdkIAAPjHBKx2QgAA4DYIrHZCAADIpQusdkIAALAUD6x2QgAAmIMSrHZCAACA8hWsdkIAAGhhGax2QgAAUNAcrHZCAAA4PyCsdkIAACCuI6x2QgAACB0nrHZCAADwiyqsdkIAANj6Lax2QgAAwGkxrHZCAACo2DSsdkIAAJBHOKx2QgAAeLY7rHZCAABgJT+sdkIAAEiUQqx2QgAAMANGrHZCAAAYckmsdkIAAADhTKx2QgAA6E9QrHZCAADQvlOsdkIAALgtV6x2QgAAoJxarHZCAACIC16sdkIAAHB6Yax2QgAAWOlkrHZCAABAWGisdkIAACjHa6x2QgAAEDZvrHZCAAD4pHKsdkIAAOATdqx2QgAAyIJ5rHZCAACw8XysdkIAAJhggKx2QgAAgM+DrHZC\",\"dtype\":\"float64\",\"shape\":[72]},\"y\":{\"__ndarray__\":\"HQ98uHkAVEBUutISyBnfPwAAAAAAAAAAAAAAAAAAAAAAAAAAAAAAAAAAAAAAAAAAAAAAAAAAAAAAAAAAAAAAAAAAAAAAAAAAAAAAAAAAAAAAAAAAAAAAAFXEgrTZdhZAAv+509T5YED5VLdoUq12QOgd8VvBSYJAWOrGOpdEiECvMGZj/suMQA3yWZetio9AU1ptSPT/jUABRVyBWruHQMLKOtM2LoBAVETFi1KwckB8vE7r7hlvQLQ0hXX8PmpAAPdQnrqBT0DQs9FtDhjaPwAAAAAAAAAAAAAAAAAAAAAAAAAAAAAAAAAAAAAAAAAAAAAAAAAAAAAAAAAAAAAAAAAAAAAAAAAAAAAAAAAAAAAAAAAAAAAAAPQJMj+syw1Anb9g+kaqUkDYtmN+8yZmQL+uJDsp/m5A7zJh9jhockBLfcfhqmt2QJeGLa+FA4VApP8ZehYMkEDX6ICNEj2PQCNNCOHhDIxA2K0jTr6bhkDYKtPLq+B9QImQDuoDNWtA1HQVh9sHSkCw02s8WlbaPwAAAAAAAAAAAAAAAAAAAAAAAAAAAAAAAAAAAAAAAAAAAAAAAAAAAAAAAAAAAAAAAAAAAAAAAAAAAAAAAAAAAAAAAAAAAAAAAEXO8POz3RhAZQrKX3fXYEBHA5RWlyd1QPdR+u0TjXtAX2KayPP+gUD97sZDXeKKQEcsUkP4Po9A7qA7kIErkEAdzxLAnhOPQHHpaIOC4ItAiCPXpKz4hkDt5wyf0LmAQAih+Oei8XlA\",\"dtype\":\"float64\",\"shape\":[72]}},\"selected\":{\"id\":\"1363\",\"type\":\"Selection\"},\"selection_policy\":{\"id\":\"1364\",\"type\":\"UnionRenderers\"}},\"id\":\"1327\",\"type\":\"ColumnDataSource\"},{\"attributes\":{\"line_alpha\":0.1,\"line_color\":\"#1f77b4\",\"line_width\":2,\"x\":{\"field\":\"x\"},\"y\":{\"field\":\"y\"}},\"id\":\"1355\",\"type\":\"Line\"},{\"attributes\":{},\"id\":\"1350\",\"type\":\"YearsTicker\"},{\"attributes\":{\"callback\":null,\"data\":{\"x\":{\"__ndarray__\":\"AAAoDZCrdkIAABB8k6t2QgAA+OqWq3ZCAADgWZqrdkIAAMjInat2QgAAsDehq3ZCAACYpqSrdkIAAIAVqKt2QgAAaISrq3ZCAABQ866rdkIAADhisqt2QgAAING1q3ZCAAAIQLmrdkIAAPCuvKt2QgAA2B3Aq3ZCAADAjMOrdkIAAKj7xqt2QgAAkGrKq3ZCAAB42c2rdkIAAGBI0at2QgAASLfUq3ZCAAAwJtirdkIAABiV26t2QgAAAATfq3ZCAADocuKrdkIAANDh5at2QgAAuFDpq3ZCAACgv+yrdkIAAIgu8Kt2QgAAcJ3zq3ZCAABYDPerdkIAAEB7+qt2QgAAKOr9q3ZCAAAQWQGsdkIAAPjHBKx2QgAA4DYIrHZCAADIpQusdkIAALAUD6x2QgAAmIMSrHZCAACA8hWsdkIAAGhhGax2QgAAUNAcrHZCAAA4PyCsdkIAACCuI6x2QgAACB0nrHZCAADwiyqsdkIAANj6Lax2QgAAwGkxrHZCAACo2DSsdkIAAJBHOKx2QgAAeLY7rHZCAABgJT+sdkIAAEiUQqx2QgAAMANGrHZCAAAYckmsdkIAAADhTKx2QgAA6E9QrHZCAADQvlOsdkIAALgtV6x2QgAAoJxarHZCAACIC16sdkIAAHB6Yax2QgAAWOlkrHZCAABAWGisdkIAACjHa6x2QgAAEDZvrHZCAAD4pHKsdkIAAOATdqx2QgAAyIJ5rHZCAACw8XysdkIAAJhggKx2QgAAgM+DrHZC\",\"dtype\":\"float64\",\"shape\":[72]},\"y\":{\"__ndarray__\":\"cxq1DCfxV0AAAAAAAAAAAAAAAAAAAAAAAAAAAAAAAAAAAAAAAAAAAAAAAAAAAAAAAAAAAAAAAAAAAAAAAAAAAAAAAAAAAAAAAAAAAAAAAAAAAAAAAAAAAA3gd+opa/c/HPztYvsvbUBRz042cX+DQDFvOOP5qYhAD5CKBFOhikBDnb7gPGuLQKfUUdk0uotAyXnRdGiziEDFtd3i0Tt9QKuMaLlzEmRA9BbtNCNxO0DNg5sH3SlLQM3XHsbz22BAeB9yNjc5P0AAAAAAAAAAAAAAAAAAAAAAAAAAAAAAAAAAAAAAAAAAAAAAAAAAAAAAAAAAAAAAAAAAAAAAAAAAAAAAAAAAAAAAAAAAAAAAAAAAAAAAAAAAAKGV4rXZC+I/yXGAyb51LEC4IxsV5mA/QGvfwXZkTDpADzFPoc7YMUDFOAadvb82QIWi+xNBTXVAcBvz+DqYi0Dl+D4sUtGLQAtwxVUyeotAQWL9hBKdiUDtJycg/62BQJ+6q/nf92NAjX8oJ0flJkAAAAAAAAAAAAAAAAAAAAAAAAAAAAAAAAAAAAAAAAAAAAAAAAAAAAAAAAAAAAAAAAAAAAAAAAAAAAAAAAAAAAAAAAAAAAAAAAAAAAAAAAAAAMfoWaiGIP0/V7YnRMFhakA/HNfU/FF/QJH4M7vkMHZAZWaMPwCxd0ApWQG+HleIQKmCYk2GZItA1BKmZgHGi0D7R2Nx3KeLQOwMXMCkQ4tADHMAy7BJikDN07ZtlNaHQHy1geKSXIVA\",\"dtype\":\"float64\",\"shape\":[72]}},\"selected\":{\"id\":\"1392\",\"type\":\"Selection\"},\"selection_policy\":{\"id\":\"1393\",\"type\":\"UnionRenderers\"}},\"id\":\"1353\",\"type\":\"ColumnDataSource\"},{\"attributes\":{},\"id\":\"1314\",\"type\":\"PanTool\"},{\"attributes\":{\"months\":[0,1,2,3,4,5,6,7,8,9,10,11]},\"id\":\"1346\",\"type\":\"MonthsTicker\"},{\"attributes\":{\"active_drag\":\"auto\",\"active_inspect\":\"auto\",\"active_multi\":null,\"active_scroll\":\"auto\",\"active_tap\":\"auto\",\"tools\":[{\"id\":\"1314\",\"type\":\"PanTool\"},{\"id\":\"1315\",\"type\":\"BoxZoomTool\"},{\"id\":\"1316\",\"type\":\"WheelZoomTool\"},{\"id\":\"1317\",\"type\":\"ResetTool\"},{\"id\":\"1318\",\"type\":\"SaveTool\"},{\"id\":\"1319\",\"type\":\"BoxSelectTool\"}]},\"id\":\"1320\",\"type\":\"Toolbar\"},{\"attributes\":{\"items\":[{\"id\":\"1352\",\"type\":\"LegendItem\"},{\"id\":\"1379\",\"type\":\"LegendItem\"},{\"id\":\"1408\",\"type\":\"LegendItem\"}],\"location\":\"top_left\"},\"id\":\"1351\",\"type\":\"Legend\"},{\"attributes\":{\"bottom_units\":\"screen\",\"fill_alpha\":{\"value\":0.5},\"fill_color\":{\"value\":\"lightgrey\"},\"left_units\":\"screen\",\"level\":\"overlay\",\"line_alpha\":{\"value\":1.0},\"line_color\":{\"value\":\"black\"},\"line_dash\":[4,4],\"line_width\":{\"value\":2},\"render_mode\":\"css\",\"right_units\":\"screen\",\"top_units\":\"screen\"},\"id\":\"1338\",\"type\":\"BoxAnnotation\"},{\"attributes\":{\"overlay\":{\"id\":\"1337\",\"type\":\"BoxAnnotation\"}},\"id\":\"1315\",\"type\":\"BoxZoomTool\"},{\"attributes\":{\"days\":[1,2,3,4,5,6,7,8,9,10,11,12,13,14,15,16,17,18,19,20,21,22,23,24,25,26,27,28,29,30,31]},\"id\":\"1342\",\"type\":\"DaysTicker\"},{\"attributes\":{\"label\":{\"value\":\"DNI\"},\"renderers\":[{\"id\":\"1356\",\"type\":\"GlyphRenderer\"}]},\"id\":\"1379\",\"type\":\"LegendItem\"},{\"attributes\":{\"data_source\":{\"id\":\"1380\",\"type\":\"ColumnDataSource\"},\"glyph\":{\"id\":\"1381\",\"type\":\"Line\"},\"hover_glyph\":null,\"muted_glyph\":null,\"nonselection_glyph\":{\"id\":\"1382\",\"type\":\"Line\"},\"selection_glyph\":null,\"view\":{\"id\":\"1384\",\"type\":\"CDSView\"}},\"id\":\"1383\",\"type\":\"GlyphRenderer\"},{\"attributes\":{\"dimensions\":\"width\"},\"id\":\"1316\",\"type\":\"WheelZoomTool\"},{\"attributes\":{\"source\":{\"id\":\"1380\",\"type\":\"ColumnDataSource\"}},\"id\":\"1384\",\"type\":\"CDSView\"},{\"attributes\":{},\"id\":\"1317\",\"type\":\"ResetTool\"},{\"attributes\":{},\"id\":\"1334\",\"type\":\"BasicTickFormatter\"},{\"attributes\":{},\"id\":\"1318\",\"type\":\"SaveTool\"},{\"attributes\":{\"bottom_units\":\"screen\",\"fill_alpha\":{\"value\":0.5},\"fill_color\":{\"value\":\"lightgrey\"},\"left_units\":\"screen\",\"level\":\"overlay\",\"line_alpha\":{\"value\":1.0},\"line_color\":{\"value\":\"black\"},\"line_dash\":[4,4],\"line_width\":{\"value\":2},\"render_mode\":\"css\",\"right_units\":\"screen\",\"top_units\":\"screen\"},\"id\":\"1337\",\"type\":\"BoxAnnotation\"},{\"attributes\":{\"base\":60,\"mantissas\":[1,2,5,10,15,20,30],\"max_interval\":1800000.0,\"min_interval\":1000.0,\"num_minor_ticks\":0},\"id\":\"1340\",\"type\":\"AdaptiveTicker\"},{\"attributes\":{},\"id\":\"1444\",\"type\":\"UnionRenderers\"},{\"attributes\":{\"days\":[1,8,15,22]},\"id\":\"1344\",\"type\":\"DaysTicker\"},{\"attributes\":{\"ticker\":{\"id\":\"1305\",\"type\":\"DatetimeTicker\"}},\"id\":\"1308\",\"type\":\"Grid\"},{\"attributes\":{\"days\":[1,15]},\"id\":\"1345\",\"type\":\"DaysTicker\"},{\"attributes\":{\"mantissas\":[1,2,5],\"max_interval\":500.0,\"num_minor_ticks\":0},\"id\":\"1339\",\"type\":\"AdaptiveTicker\"},{\"attributes\":{\"months\":[0,4,8]},\"id\":\"1348\",\"type\":\"MonthsTicker\"},{\"attributes\":{},\"id\":\"1364\",\"type\":\"UnionRenderers\"},{\"attributes\":{},\"id\":\"1300\",\"type\":\"LinearScale\"},{\"attributes\":{\"months\":[0,2,4,6,8,10]},\"id\":\"1347\",\"type\":\"MonthsTicker\"},{\"attributes\":{},\"id\":\"1302\",\"type\":\"LinearScale\"}],\"root_ids\":[\"1293\"]},\"title\":\"Bokeh Application\",\"version\":\"1.1.0\"}};\n",
       "  var render_items = [{\"docid\":\"51568901-1cf4-4dc7-8ccd-b4e7002d6c05\",\"roots\":{\"1293\":\"b40141e6-60f8-412c-a531-5db8b6c2e5df\"}}];\n",
       "  root.Bokeh.embed.embed_items_notebook(docs_json, render_items);\n",
       "\n",
       "  }\n",
       "  if (root.Bokeh !== undefined) {\n",
       "    embed_document(root);\n",
       "  } else {\n",
       "    var attempts = 0;\n",
       "    var timer = setInterval(function(root) {\n",
       "      if (root.Bokeh !== undefined) {\n",
       "        embed_document(root);\n",
       "        clearInterval(timer);\n",
       "      }\n",
       "      attempts++;\n",
       "      if (attempts > 100) {\n",
       "        console.log(\"Bokeh: ERROR: Unable to run BokehJS code because BokehJS library is missing\");\n",
       "        clearInterval(timer);\n",
       "      }\n",
       "    }, 10, root)\n",
       "  }\n",
       "})(window);"
      ],
      "application/vnd.bokehjs_exec.v0+json": ""
     },
     "metadata": {
      "application/vnd.bokehjs_exec.v0+json": {
       "id": "1293"
      }
     },
     "output_type": "display_data"
    }
   ],
   "source": [
    "# select the model\n",
    "model = models.gfs_quarter_deg_to_hourly_mean\n",
    "\n",
    "# tell the model where to find the NWP data\n",
    "model_wrapped = partial(model, load_forecast=load_forecast)\n",
    "\n",
    "# load and process the NWP data\n",
    "ghi, dni, dhi, air_temperature, wind_speed, ac_power = main.run(site, model_wrapped, init_time, start, end)\n",
    "\n",
    "fig = figure(title=\"Irradiance (W/m^2)\", tools=TOOLS, x_axis_type=\"datetime\", plot_width=800, plot_height=400)\n",
    "palette = iter(PALETTE)\n",
    "for irrad, name in zip((ghi, dni, dhi), ('GHI', 'DNI', 'DHI')):\n",
    "    fig.line(irrad.index, irrad, legend=name, color=next(palette), line_width=2)\n",
    "fig.xaxis.axis_label = 'Time (UTC)'\n",
    "fig.legend.location = \"top_left\"\n",
    "show(fig)"
   ]
  },
  {
   "cell_type": "code",
   "execution_count": 9,
   "metadata": {},
   "outputs": [],
   "source": [
    "# define the modeling parameters\n",
    "modeling_parameters = datamodel.SingleAxisModelingParameters(\n",
    "    ac_capacity=10,\n",
    "    dc_capacity=13,\n",
    "    temperature_coefficient=-0.003,\n",
    "    dc_loss_factor=0,\n",
    "    ac_loss_factor=0,\n",
    "    axis_tilt=0,\n",
    "    axis_azimuth=0,\n",
    "    ground_coverage_ratio=0.4,\n",
    "    backtrack=True,\n",
    "    max_rotation_angle=50,\n",
    ")\n",
    "# define a SolarPowerPlant object\n",
    "plant = datamodel.SolarPowerPlant(\n",
    "    name='Tucson AZ Plant',\n",
    "    latitude=latitude,\n",
    "    longitude=longitude,\n",
    "    elevation=elevation,\n",
    "    timezone='America/Phoenix',\n",
    "    modeling_parameters=modeling_parameters\n",
    ")"
   ]
  },
  {
   "cell_type": "code",
   "execution_count": 10,
   "metadata": {},
   "outputs": [
    {
     "data": {
      "text/html": [
       "\n",
       "\n",
       "\n",
       "\n",
       "\n",
       "\n",
       "  <div class=\"bk-root\" id=\"9fd617ad-65fa-4371-8b38-bac87d52a361\" data-root-id=\"1994\"></div>\n"
      ]
     },
     "metadata": {},
     "output_type": "display_data"
    },
    {
     "data": {
      "application/javascript": [
       "(function(root) {\n",
       "  function embed_document(root) {\n",
       "    \n",
       "  var docs_json = {\"411e1df8-b540-4b84-9cb2-4d5c5c6f913f\":{\"roots\":{\"references\":[{\"attributes\":{\"children\":[{\"id\":\"1993\",\"type\":\"ToolbarBox\"},{\"id\":\"1991\",\"type\":\"GridBox\"}]},\"id\":\"1994\",\"type\":\"Column\"},{\"attributes\":{\"line_alpha\":0.1,\"line_color\":\"#1f77b4\",\"line_width\":2,\"x\":{\"field\":\"index\"},\"y\":{\"field\":\"DHI\"}},\"id\":\"1699\",\"type\":\"Line\"},{\"attributes\":{\"months\":[0,6]},\"id\":\"1665\",\"type\":\"MonthsTicker\"},{\"attributes\":{\"base\":24,\"mantissas\":[1,2,4,6,8,12],\"max_interval\":43200000.0,\"min_interval\":3600000.0,\"num_minor_ticks\":0},\"id\":\"1657\",\"type\":\"AdaptiveTicker\"},{\"attributes\":{\"data_source\":{\"id\":\"1609\",\"type\":\"ColumnDataSource\"},\"glyph\":{\"id\":\"1698\",\"type\":\"Line\"},\"hover_glyph\":null,\"muted_glyph\":null,\"nonselection_glyph\":{\"id\":\"1699\",\"type\":\"Line\"},\"selection_glyph\":null,\"view\":{\"id\":\"1701\",\"type\":\"CDSView\"}},\"id\":\"1700\",\"type\":\"GlyphRenderer\"},{\"attributes\":{\"line_color\":\"#1f77b4\",\"line_width\":2,\"x\":{\"field\":\"index\"},\"y\":{\"field\":\"GHI\"}},\"id\":\"1643\",\"type\":\"Line\"},{\"attributes\":{\"source\":{\"id\":\"1609\",\"type\":\"ColumnDataSource\"}},\"id\":\"1701\",\"type\":\"CDSView\"},{\"attributes\":{\"overlay\":{\"id\":\"1653\",\"type\":\"BoxAnnotation\"}},\"id\":\"1630\",\"type\":\"BoxZoomTool\"},{\"attributes\":{},\"id\":\"1652\",\"type\":\"DatetimeTickFormatter\"},{\"attributes\":{\"label\":{\"value\":\"DHI\"},\"renderers\":[{\"id\":\"1700\",\"type\":\"GlyphRenderer\"}]},\"id\":\"1724\",\"type\":\"LegendItem\"},{\"attributes\":{\"days\":[1,8,15,22]},\"id\":\"1660\",\"type\":\"DaysTicker\"},{\"attributes\":{\"callback\":null},\"id\":\"1727\",\"type\":\"DataRange1d\"},{\"attributes\":{\"line_color\":\"#2ca02c\",\"line_width\":2,\"x\":{\"field\":\"index\"},\"y\":{\"field\":\"DHI\"}},\"id\":\"1698\",\"type\":\"Line\"},{\"attributes\":{\"months\":[0,4,8]},\"id\":\"1664\",\"type\":\"MonthsTicker\"},{\"attributes\":{},\"id\":\"1729\",\"type\":\"LinearScale\"},{\"attributes\":{},\"id\":\"1731\",\"type\":\"LinearScale\"},{\"attributes\":{\"line_alpha\":0.1,\"line_color\":\"#1f77b4\",\"line_width\":2,\"x\":{\"field\":\"index\"},\"y\":{\"field\":\"GHI\"}},\"id\":\"1644\",\"type\":\"Line\"},{\"attributes\":{\"days\":[1,2,3,4,5,6,7,8,9,10,11,12,13,14,15,16,17,18,19,20,21,22,23,24,25,26,27,28,29,30,31]},\"id\":\"1658\",\"type\":\"DaysTicker\"},{\"attributes\":{\"formatter\":{\"id\":\"1766\",\"type\":\"DatetimeTickFormatter\"},\"ticker\":{\"id\":\"1734\",\"type\":\"DatetimeTicker\"}},\"id\":\"1733\",\"type\":\"DatetimeAxis\"},{\"attributes\":{\"days\":[1,4,7,10,13,16,19,22,25,28]},\"id\":\"1659\",\"type\":\"DaysTicker\"},{\"attributes\":{\"num_minor_ticks\":5,\"tickers\":[{\"id\":\"1769\",\"type\":\"AdaptiveTicker\"},{\"id\":\"1770\",\"type\":\"AdaptiveTicker\"},{\"id\":\"1771\",\"type\":\"AdaptiveTicker\"},{\"id\":\"1772\",\"type\":\"DaysTicker\"},{\"id\":\"1773\",\"type\":\"DaysTicker\"},{\"id\":\"1774\",\"type\":\"DaysTicker\"},{\"id\":\"1775\",\"type\":\"DaysTicker\"},{\"id\":\"1776\",\"type\":\"MonthsTicker\"},{\"id\":\"1777\",\"type\":\"MonthsTicker\"},{\"id\":\"1778\",\"type\":\"MonthsTicker\"},{\"id\":\"1779\",\"type\":\"MonthsTicker\"},{\"id\":\"1780\",\"type\":\"YearsTicker\"}]},\"id\":\"1734\",\"type\":\"DatetimeTicker\"},{\"attributes\":{\"ticker\":{\"id\":\"1734\",\"type\":\"DatetimeTicker\"}},\"id\":\"1737\",\"type\":\"Grid\"},{\"attributes\":{\"axis_label\":\"Air temperature (C)\",\"formatter\":{\"id\":\"1764\",\"type\":\"BasicTickFormatter\"},\"ticker\":{\"id\":\"1739\",\"type\":\"BasicTicker\"}},\"id\":\"1738\",\"type\":\"LinearAxis\"},{\"attributes\":{\"days\":[1,15]},\"id\":\"1661\",\"type\":\"DaysTicker\"},{\"attributes\":{\"months\":[0,2,4,6,8,10]},\"id\":\"1663\",\"type\":\"MonthsTicker\"},{\"attributes\":{},\"id\":\"1739\",\"type\":\"BasicTicker\"},{\"attributes\":{\"dimension\":1,\"ticker\":{\"id\":\"1739\",\"type\":\"BasicTicker\"}},\"id\":\"1742\",\"type\":\"Grid\"},{\"attributes\":{\"callback\":null,\"overlay\":{\"id\":\"1654\",\"type\":\"BoxAnnotation\"}},\"id\":\"1634\",\"type\":\"BoxSelectTool\"},{\"attributes\":{\"source\":{\"id\":\"1609\",\"type\":\"ColumnDataSource\"}},\"id\":\"1646\",\"type\":\"CDSView\"},{\"attributes\":{\"line_color\":\"#d62728\",\"line_width\":2,\"x\":{\"field\":\"index\"},\"y\":{\"field\":\"Air temperature\"}},\"id\":\"1757\",\"type\":\"Line\"},{\"attributes\":{\"below\":[{\"id\":\"1791\",\"type\":\"DatetimeAxis\"}],\"center\":[{\"id\":\"1795\",\"type\":\"Grid\"},{\"id\":\"1800\",\"type\":\"Grid\"},{\"id\":\"1839\",\"type\":\"Legend\"}],\"left\":[{\"id\":\"1796\",\"type\":\"LinearAxis\"}],\"plot_height\":200,\"plot_width\":800,\"renderers\":[{\"id\":\"1817\",\"type\":\"GlyphRenderer\"}],\"title\":{\"id\":\"1820\",\"type\":\"Title\"},\"toolbar\":{\"id\":\"1807\",\"type\":\"Toolbar\"},\"toolbar_location\":null,\"x_range\":{\"id\":\"1611\",\"type\":\"DataRange1d\"},\"x_scale\":{\"id\":\"1787\",\"type\":\"LinearScale\"},\"y_range\":{\"id\":\"1785\",\"type\":\"DataRange1d\"},\"y_scale\":{\"id\":\"1789\",\"type\":\"LinearScale\"}},\"id\":\"1783\",\"subtype\":\"Figure\",\"type\":\"Plot\"},{\"attributes\":{\"text\":\"\"},\"id\":\"1648\",\"type\":\"Title\"},{\"attributes\":{},\"id\":\"1743\",\"type\":\"PanTool\"},{\"attributes\":{\"bottom_units\":\"screen\",\"fill_alpha\":{\"value\":0.5},\"fill_color\":{\"value\":\"lightgrey\"},\"left_units\":\"screen\",\"level\":\"overlay\",\"line_alpha\":{\"value\":1.0},\"line_color\":{\"value\":\"black\"},\"line_dash\":[4,4],\"line_width\":{\"value\":2},\"render_mode\":\"css\",\"right_units\":\"screen\",\"top_units\":\"screen\"},\"id\":\"1653\",\"type\":\"BoxAnnotation\"},{\"attributes\":{},\"id\":\"1615\",\"type\":\"LinearScale\"},{\"attributes\":{\"overlay\":{\"id\":\"1767\",\"type\":\"BoxAnnotation\"}},\"id\":\"1744\",\"type\":\"BoxZoomTool\"},{\"attributes\":{\"data_source\":{\"id\":\"1609\",\"type\":\"ColumnDataSource\"},\"glyph\":{\"id\":\"1643\",\"type\":\"Line\"},\"hover_glyph\":null,\"muted_glyph\":null,\"nonselection_glyph\":{\"id\":\"1644\",\"type\":\"Line\"},\"selection_glyph\":null,\"view\":{\"id\":\"1646\",\"type\":\"CDSView\"}},\"id\":\"1645\",\"type\":\"GlyphRenderer\"},{\"attributes\":{},\"id\":\"1617\",\"type\":\"LinearScale\"},{\"attributes\":{\"dimensions\":\"width\"},\"id\":\"1745\",\"type\":\"WheelZoomTool\"},{\"attributes\":{},\"id\":\"1625\",\"type\":\"BasicTicker\"},{\"attributes\":{},\"id\":\"1650\",\"type\":\"BasicTickFormatter\"},{\"attributes\":{},\"id\":\"1746\",\"type\":\"ResetTool\"},{\"attributes\":{\"mantissas\":[1,2,5],\"max_interval\":500.0,\"num_minor_ticks\":0},\"id\":\"1655\",\"type\":\"AdaptiveTicker\"},{\"attributes\":{},\"id\":\"1747\",\"type\":\"SaveTool\"},{\"attributes\":{\"callback\":null},\"id\":\"1611\",\"type\":\"DataRange1d\"},{\"attributes\":{\"callback\":null,\"overlay\":{\"id\":\"1768\",\"type\":\"BoxAnnotation\"}},\"id\":\"1748\",\"type\":\"BoxSelectTool\"},{\"attributes\":{\"callback\":null},\"id\":\"1613\",\"type\":\"DataRange1d\"},{\"attributes\":{\"active_drag\":\"auto\",\"active_inspect\":\"auto\",\"active_multi\":null,\"active_scroll\":\"auto\",\"active_tap\":\"auto\",\"tools\":[{\"id\":\"1743\",\"type\":\"PanTool\"},{\"id\":\"1744\",\"type\":\"BoxZoomTool\"},{\"id\":\"1745\",\"type\":\"WheelZoomTool\"},{\"id\":\"1746\",\"type\":\"ResetTool\"},{\"id\":\"1747\",\"type\":\"SaveTool\"},{\"id\":\"1748\",\"type\":\"BoxSelectTool\"}]},\"id\":\"1749\",\"type\":\"Toolbar\"},{\"attributes\":{\"bottom_units\":\"screen\",\"fill_alpha\":{\"value\":0.5},\"fill_color\":{\"value\":\"lightgrey\"},\"left_units\":\"screen\",\"level\":\"overlay\",\"line_alpha\":{\"value\":1.0},\"line_color\":{\"value\":\"black\"},\"line_dash\":[4,4],\"line_width\":{\"value\":2},\"render_mode\":\"css\",\"right_units\":\"screen\",\"top_units\":\"screen\"},\"id\":\"1654\",\"type\":\"BoxAnnotation\"},{\"attributes\":{\"line_alpha\":0.1,\"line_color\":\"#1f77b4\",\"line_width\":2,\"x\":{\"field\":\"index\"},\"y\":{\"field\":\"Air temperature\"}},\"id\":\"1758\",\"type\":\"Line\"},{\"attributes\":{},\"id\":\"1632\",\"type\":\"ResetTool\"},{\"attributes\":{},\"id\":\"1797\",\"type\":\"BasicTicker\"},{\"attributes\":{\"axis_label\":\"Irradiance (W/m^2)\",\"formatter\":{\"id\":\"1650\",\"type\":\"BasicTickFormatter\"},\"ticker\":{\"id\":\"1625\",\"type\":\"BasicTicker\"}},\"id\":\"1624\",\"type\":\"LinearAxis\"},{\"attributes\":{\"data_source\":{\"id\":\"1609\",\"type\":\"ColumnDataSource\"},\"glyph\":{\"id\":\"1757\",\"type\":\"Line\"},\"hover_glyph\":null,\"muted_glyph\":null,\"nonselection_glyph\":{\"id\":\"1758\",\"type\":\"Line\"},\"selection_glyph\":null,\"view\":{\"id\":\"1760\",\"type\":\"CDSView\"}},\"id\":\"1759\",\"type\":\"GlyphRenderer\"},{\"attributes\":{\"base\":60,\"mantissas\":[1,2,5,10,15,20,30],\"max_interval\":1800000.0,\"min_interval\":1000.0,\"num_minor_ticks\":0},\"id\":\"1656\",\"type\":\"AdaptiveTicker\"},{\"attributes\":{\"source\":{\"id\":\"1609\",\"type\":\"ColumnDataSource\"}},\"id\":\"1760\",\"type\":\"CDSView\"},{\"attributes\":{\"months\":[0,1,2,3,4,5,6,7,8,9,10,11]},\"id\":\"1662\",\"type\":\"MonthsTicker\"},{\"attributes\":{},\"id\":\"1666\",\"type\":\"YearsTicker\"},{\"attributes\":{},\"id\":\"1633\",\"type\":\"SaveTool\"},{\"attributes\":{\"text\":\"\"},\"id\":\"1762\",\"type\":\"Title\"},{\"attributes\":{\"dimensions\":\"width\"},\"id\":\"1631\",\"type\":\"WheelZoomTool\"},{\"attributes\":{\"items\":[{\"id\":\"1668\",\"type\":\"LegendItem\"},{\"id\":\"1696\",\"type\":\"LegendItem\"},{\"id\":\"1724\",\"type\":\"LegendItem\"}],\"location\":\"top_left\"},\"id\":\"1667\",\"type\":\"Legend\"},{\"attributes\":{},\"id\":\"1764\",\"type\":\"BasicTickFormatter\"},{\"attributes\":{\"label\":{\"value\":\"GHI\"},\"renderers\":[{\"id\":\"1645\",\"type\":\"GlyphRenderer\"}]},\"id\":\"1668\",\"type\":\"LegendItem\"},{\"attributes\":{},\"id\":\"1766\",\"type\":\"DatetimeTickFormatter\"},{\"attributes\":{\"active_drag\":\"auto\",\"active_inspect\":\"auto\",\"active_multi\":null,\"active_scroll\":\"auto\",\"active_tap\":\"auto\",\"tools\":[{\"id\":\"1629\",\"type\":\"PanTool\"},{\"id\":\"1630\",\"type\":\"BoxZoomTool\"},{\"id\":\"1631\",\"type\":\"WheelZoomTool\"},{\"id\":\"1632\",\"type\":\"ResetTool\"},{\"id\":\"1633\",\"type\":\"SaveTool\"},{\"id\":\"1634\",\"type\":\"BoxSelectTool\"}]},\"id\":\"1635\",\"type\":\"Toolbar\"},{\"attributes\":{\"dimension\":1,\"ticker\":{\"id\":\"1797\",\"type\":\"BasicTicker\"}},\"id\":\"1800\",\"type\":\"Grid\"},{\"attributes\":{\"bottom_units\":\"screen\",\"fill_alpha\":{\"value\":0.5},\"fill_color\":{\"value\":\"lightgrey\"},\"left_units\":\"screen\",\"level\":\"overlay\",\"line_alpha\":{\"value\":1.0},\"line_color\":{\"value\":\"black\"},\"line_dash\":[4,4],\"line_width\":{\"value\":2},\"render_mode\":\"css\",\"right_units\":\"screen\",\"top_units\":\"screen\"},\"id\":\"1767\",\"type\":\"BoxAnnotation\"},{\"attributes\":{\"line_color\":\"#ff7f0e\",\"line_width\":2,\"x\":{\"field\":\"index\"},\"y\":{\"field\":\"DNI\"}},\"id\":\"1670\",\"type\":\"Line\"},{\"attributes\":{\"bottom_units\":\"screen\",\"fill_alpha\":{\"value\":0.5},\"fill_color\":{\"value\":\"lightgrey\"},\"left_units\":\"screen\",\"level\":\"overlay\",\"line_alpha\":{\"value\":1.0},\"line_color\":{\"value\":\"black\"},\"line_dash\":[4,4],\"line_width\":{\"value\":2},\"render_mode\":\"css\",\"right_units\":\"screen\",\"top_units\":\"screen\"},\"id\":\"1768\",\"type\":\"BoxAnnotation\"},{\"attributes\":{\"line_alpha\":0.1,\"line_color\":\"#1f77b4\",\"line_width\":2,\"x\":{\"field\":\"index\"},\"y\":{\"field\":\"DNI\"}},\"id\":\"1671\",\"type\":\"Line\"},{\"attributes\":{\"mantissas\":[1,2,5],\"max_interval\":500.0,\"num_minor_ticks\":0},\"id\":\"1769\",\"type\":\"AdaptiveTicker\"},{\"attributes\":{\"data_source\":{\"id\":\"1609\",\"type\":\"ColumnDataSource\"},\"glyph\":{\"id\":\"1670\",\"type\":\"Line\"},\"hover_glyph\":null,\"muted_glyph\":null,\"nonselection_glyph\":{\"id\":\"1671\",\"type\":\"Line\"},\"selection_glyph\":null,\"view\":{\"id\":\"1673\",\"type\":\"CDSView\"}},\"id\":\"1672\",\"type\":\"GlyphRenderer\"},{\"attributes\":{\"formatter\":{\"id\":\"1652\",\"type\":\"DatetimeTickFormatter\"},\"ticker\":{\"id\":\"1620\",\"type\":\"DatetimeTicker\"}},\"id\":\"1619\",\"type\":\"DatetimeAxis\"},{\"attributes\":{\"source\":{\"id\":\"1609\",\"type\":\"ColumnDataSource\"}},\"id\":\"1673\",\"type\":\"CDSView\"},{\"attributes\":{\"base\":60,\"mantissas\":[1,2,5,10,15,20,30],\"max_interval\":1800000.0,\"min_interval\":1000.0,\"num_minor_ticks\":0},\"id\":\"1770\",\"type\":\"AdaptiveTicker\"},{\"attributes\":{\"ticker\":{\"id\":\"1620\",\"type\":\"DatetimeTicker\"}},\"id\":\"1623\",\"type\":\"Grid\"},{\"attributes\":{},\"id\":\"1680\",\"type\":\"Selection\"},{\"attributes\":{\"base\":24,\"mantissas\":[1,2,4,6,8,12],\"max_interval\":43200000.0,\"min_interval\":3600000.0,\"num_minor_ticks\":0},\"id\":\"1771\",\"type\":\"AdaptiveTicker\"},{\"attributes\":{\"dimension\":1,\"ticker\":{\"id\":\"1625\",\"type\":\"BasicTicker\"}},\"id\":\"1628\",\"type\":\"Grid\"},{\"attributes\":{},\"id\":\"1681\",\"type\":\"UnionRenderers\"},{\"attributes\":{\"days\":[1,2,3,4,5,6,7,8,9,10,11,12,13,14,15,16,17,18,19,20,21,22,23,24,25,26,27,28,29,30,31]},\"id\":\"1772\",\"type\":\"DaysTicker\"},{\"attributes\":{\"num_minor_ticks\":5,\"tickers\":[{\"id\":\"1655\",\"type\":\"AdaptiveTicker\"},{\"id\":\"1656\",\"type\":\"AdaptiveTicker\"},{\"id\":\"1657\",\"type\":\"AdaptiveTicker\"},{\"id\":\"1658\",\"type\":\"DaysTicker\"},{\"id\":\"1659\",\"type\":\"DaysTicker\"},{\"id\":\"1660\",\"type\":\"DaysTicker\"},{\"id\":\"1661\",\"type\":\"DaysTicker\"},{\"id\":\"1662\",\"type\":\"MonthsTicker\"},{\"id\":\"1663\",\"type\":\"MonthsTicker\"},{\"id\":\"1664\",\"type\":\"MonthsTicker\"},{\"id\":\"1665\",\"type\":\"MonthsTicker\"},{\"id\":\"1666\",\"type\":\"YearsTicker\"}]},\"id\":\"1620\",\"type\":\"DatetimeTicker\"},{\"attributes\":{},\"id\":\"1629\",\"type\":\"PanTool\"},{\"attributes\":{\"callback\":null,\"data\":{\"AC power\":{\"__ndarray__\":\"2EEa5oZN/j8AAAAAAAAAAAAAAAAAAAAAAAAAAAAAAAAAAAAAAAAAAAAAAAAAAAAAAAAAAAAAAAAAAAAAAAAAAAAAAAAAAAAAAAAAAAAAAAAAAAAAAAAAAMwsozxsXa4/jdFGTqMWEEDxAUOtlq0iQAAAAAAAACRAAAAAAAAAJEAAAAAAAAAkQAAAAAAAACRAAAAAAAAAJEDmPjM4RCwiQJm5Uxvv/BhA0BxY9C7XCkDn27GvL5oIQDE79oP1Yg1AjRCu/U9n8D8AAAAAAAAAAAAAAAAAAAAAAAAAAAAAAAAAAAAAAAAAAAAAAAAAAAAAAAAAAAAAAAAAAAAAAAAAAAAAAAAAAAAAAAAAAAAAAAAAAAAAAAAAAEVFz8M7h50/GoI6HWor8D9hHqMEdt4BQJlOm6FV1wZAICSILbboCkDzLIQ7QecQQP3uqXA6OB9AAAAAAAAAJEAAAAAAAAAkQAAAAAAAACRAAAAAAAAAJECpclKJ9uUhQEeb8i63+A9ArJaH/o0l5j8AAAAAAAAAAAAAAAAAAAAAAAAAAAAAAAAAAAAAAAAAAAAAAAAAAAAAAAAAAAAAAAAAAAAAAAAAAAAAAAAAAAAAAAAAAAAAAAAAAAAAAAAAANFriLJvvrE/fTfbgDDlDkArVqO7mAIhQEWYEDFQSx5ANLWY7JA9IEAAAAAAAAAkQAAAAAAAACRAAAAAAAAAJEAAAAAAAAAkQAAAAAAAACRAAAAAAAAAJEAAAAAAAAAkQAAAAAAAACRA\",\"dtype\":\"float64\",\"shape\":[72]},\"Air temperature\":{\"__ndarray__\":\"JSTcQXtrzEHQ+r9BJby3QSUisUHQ3KpBJWilQSWCoEHQ9ppBe/mTQdAYjUElOoxB0HSZQSVErEF7SbpBJYLJQXsF2UF7jeVBJUTuQdDE9EF7s/hBe0X5QSUa9UF7gexBeznfQXvNzkHQHMJB0DK5QdAKsEEl2qZBJaydQdBilEHQboxB0FqGQSXegkHQBoZB0FCWQSXqqkF7P7lBJS7FQSWs0EF7vdxBe3fmQdBW6UHQfuZBe3viQXtn20F7U9BBJcS/QXuHrEHQ/pxBJZ6SQdAmikHQEINBoBF6QUuQb0H1rmZB9a5eQaBtV0FLuFRBoK1dQfWObkGgTX9B0IaKQdAYmEHQHKVB0KavQdAWt0HQ6rdBe/+yQXvJrEHQfKhB\",\"dtype\":\"float32\",\"shape\":[72]},\"DHI\":{\"__ndarray__\":\"w1uNhTSiTkBUutISyBnfPwAAAAAAAAAAAAAAAAAAAAAAAAAAAAAAAAAAAAAAAAAAAAAAAAAAAAAAAAAAAAAAAAAAAAAAAAAAAAAAAAAAAAAAAAAAAAAAAPTRN/1X/xVAfqL6+rk9VEDrCvbY25NaQFjfRusFtVxAQW/3UxCOYEDJw5mHCANjQMsTgHaBx2RAZV5GFRsUaECBhQSvp/dzQPx7OFGnsHdASZaaTZ9qcUA0Psh3UqJrQJ5wBEyZJGRAwBT3RaVeTEDQs9FtDhjaPwAAAAAAAAAAAAAAAAAAAAAAAAAAAAAAAAAAAAAAAAAAAAAAAAAAAAAAAAAAAAAAAAAAAAAAAAAAAAAAAAAAAAAAAAAAAAAAACgZndj2cw1A2orgfjLbUUDQ6wsChYdkQCEDI4gGFG1AIEh7utWOcUDEfzRE7it1QKmlvaopjXVArMq9WM8jZUB8eL7Kip5kQAlIKtpXimJANUJGmRWFYED3lFtrdPljQCBOdKfRamNAGRXifdPsSECw02s8WlbaPwAAAAAAAAAAAAAAAAAAAAAAAAAAAAAAAAAAAAAAAAAAAAAAAAAAAAAAAAAAAAAAAAAAAAAAAAAAAAAAAAAAAAAAAAAAAAAAADV8UTCSSBhAH31ArmcmVUCBSE2EAYxgQIgtVCQtVW1A295mmnilcUDrgfzhKcxlQAedDrBAqGRAlyCMMMRTZUD/7VnlYXdkQHEhKdU4d2JAX2WcLDPzX0CYDjCyQwBcQLMlY3do01pA\",\"dtype\":\"float64\",\"shape\":[72]},\"DNI\":{\"__ndarray__\":\"cxq1DCfxV0AAAAAAAAAAAAAAAAAAAAAAAAAAAAAAAAAAAAAAAAAAAAAAAAAAAAAAAAAAAAAAAAAAAAAAAAAAAAAAAAAAAAAAAAAAAAAAAAAAAAAAAAAAAA3gd+opa/c/HPztYvsvbUBRz042cX+DQDFvOOP5qYhAD5CKBFOhikBDnb7gPGuLQKfUUdk0uotAyXnRdGiziEDFtd3i0Tt9QKuMaLlzEmRA9BbtNCNxO0DNg5sH3SlLQM3XHsbz22BAeB9yNjc5P0AAAAAAAAAAAAAAAAAAAAAAAAAAAAAAAAAAAAAAAAAAAAAAAAAAAAAAAAAAAAAAAAAAAAAAAAAAAAAAAAAAAAAAAAAAAAAAAAAAAAAAAAAAAKGV4rXZC+I/yXGAyb51LEC4IxsV5mA/QGvfwXZkTDpADzFPoc7YMUDFOAadvb82QIWi+xNBTXVAcBvz+DqYi0Dl+D4sUtGLQAtwxVUyeotAQWL9hBKdiUDtJycg/62BQJ+6q/nf92NAjX8oJ0flJkAAAAAAAAAAAAAAAAAAAAAAAAAAAAAAAAAAAAAAAAAAAAAAAAAAAAAAAAAAAAAAAAAAAAAAAAAAAAAAAAAAAAAAAAAAAAAAAAAAAAAAAAAAAMfoWaiGIP0/V7YnRMFhakA/HNfU/FF/QJH4M7vkMHZAZWaMPwCxd0ApWQG+HleIQKmCYk2GZItA1BKmZgHGi0D7R2Nx3KeLQOwMXMCkQ4tADHMAy7BJikDN07ZtlNaHQHy1geKSXIVA\",\"dtype\":\"float64\",\"shape\":[72]},\"GHI\":{\"__ndarray__\":\"HQ98uHkAVEBUutISyBnfPwAAAAAAAAAAAAAAAAAAAAAAAAAAAAAAAAAAAAAAAAAAAAAAAAAAAAAAAAAAAAAAAAAAAAAAAAAAAAAAAAAAAAAAAAAAAAAAAFXEgrTZdhZAAv+509T5YED5VLdoUq12QOgd8VvBSYJAWOrGOpdEiECvMGZj/suMQA3yWZetio9AU1ptSPT/jUABRVyBWruHQMLKOtM2LoBAVETFi1KwckB8vE7r7hlvQLQ0hXX8PmpAAPdQnrqBT0DQs9FtDhjaPwAAAAAAAAAAAAAAAAAAAAAAAAAAAAAAAAAAAAAAAAAAAAAAAAAAAAAAAAAAAAAAAAAAAAAAAAAAAAAAAAAAAAAAAAAAAAAAAPQJMj+syw1Anb9g+kaqUkDYtmN+8yZmQL+uJDsp/m5A7zJh9jhockBLfcfhqmt2QJeGLa+FA4VApP8ZehYMkEDX6ICNEj2PQCNNCOHhDIxA2K0jTr6bhkDYKtPLq+B9QImQDuoDNWtA1HQVh9sHSkCw02s8WlbaPwAAAAAAAAAAAAAAAAAAAAAAAAAAAAAAAAAAAAAAAAAAAAAAAAAAAAAAAAAAAAAAAAAAAAAAAAAAAAAAAAAAAAAAAAAAAAAAAEXO8POz3RhAZQrKX3fXYEBHA5RWlyd1QPdR+u0TjXtAX2KayPP+gUD97sZDXeKKQEcsUkP4Po9A7qA7kIErkEAdzxLAnhOPQHHpaIOC4ItAiCPXpKz4hkDt5wyf0LmAQAih+Oei8XlA\",\"dtype\":\"float64\",\"shape\":[72]},\"Wind speed\":{\"__ndarray__\":\"VRUWQFWVMUCrujNAABAdQFX1E0BVhQVAAGD4PwAwA0Cr6gVAAEDzPwCA0j+rSqs/q+qJPwDARz8AQEk/AADMP1WVMkBVtXJAq/KGQFV9jUAAiJ5Aq4K+QFXt3UAAiOhAANDPQADgpUAAyIxAq1p8QKvaYUCraj5AAIAPQFX1zz9VVaE/q2qLP1V1nD+rytQ/AJADQAAAHUBV/YJAVeXJQKu68kBVwQpBAPwZQVXFJkFVjTBBAAQ4QVUpPEEAqDZBq04fQQCw/0AASM5AVcWkQFUFg0AAEFxAVfVRQKtaUUCrCkpAq0o6QFUFLUCryitAADBQQFW9hUCr0pxAqzK6QKt63UCrkv9AVQENQQBUGUGrDiRBq74mQQDEI0EAICFB\",\"dtype\":\"float32\",\"shape\":[72]},\"index\":{\"__ndarray__\":\"AAAoDZCrdkIAABB8k6t2QgAA+OqWq3ZCAADgWZqrdkIAAMjInat2QgAAsDehq3ZCAACYpqSrdkIAAIAVqKt2QgAAaISrq3ZCAABQ866rdkIAADhisqt2QgAAING1q3ZCAAAIQLmrdkIAAPCuvKt2QgAA2B3Aq3ZCAADAjMOrdkIAAKj7xqt2QgAAkGrKq3ZCAAB42c2rdkIAAGBI0at2QgAASLfUq3ZCAAAwJtirdkIAABiV26t2QgAAAATfq3ZCAADocuKrdkIAANDh5at2QgAAuFDpq3ZCAACgv+yrdkIAAIgu8Kt2QgAAcJ3zq3ZCAABYDPerdkIAAEB7+qt2QgAAKOr9q3ZCAAAQWQGsdkIAAPjHBKx2QgAA4DYIrHZCAADIpQusdkIAALAUD6x2QgAAmIMSrHZCAACA8hWsdkIAAGhhGax2QgAAUNAcrHZCAAA4PyCsdkIAACCuI6x2QgAACB0nrHZCAADwiyqsdkIAANj6Lax2QgAAwGkxrHZCAACo2DSsdkIAAJBHOKx2QgAAeLY7rHZCAABgJT+sdkIAAEiUQqx2QgAAMANGrHZCAAAYckmsdkIAAADhTKx2QgAA6E9QrHZCAADQvlOsdkIAALgtV6x2QgAAoJxarHZCAACIC16sdkIAAHB6Yax2QgAAWOlkrHZCAABAWGisdkIAACjHa6x2QgAAEDZvrHZCAAD4pHKsdkIAAOATdqx2QgAAyIJ5rHZCAACw8XysdkIAAJhggKx2QgAAgM+DrHZC\",\"dtype\":\"float64\",\"shape\":[72]}},\"selected\":{\"id\":\"1680\",\"type\":\"Selection\"},\"selection_policy\":{\"id\":\"1681\",\"type\":\"UnionRenderers\"}},\"id\":\"1609\",\"type\":\"ColumnDataSource\"},{\"attributes\":{\"label\":{\"value\":\"DNI\"},\"renderers\":[{\"id\":\"1672\",\"type\":\"GlyphRenderer\"}]},\"id\":\"1696\",\"type\":\"LegendItem\"},{\"attributes\":{\"days\":[1,4,7,10,13,16,19,22,25,28]},\"id\":\"1773\",\"type\":\"DaysTicker\"},{\"attributes\":{\"base\":60,\"mantissas\":[1,2,5,10,15,20,30],\"max_interval\":1800000.0,\"min_interval\":1000.0,\"num_minor_ticks\":0},\"id\":\"1828\",\"type\":\"AdaptiveTicker\"},{\"attributes\":{\"days\":[1,8,15,22]},\"id\":\"1774\",\"type\":\"DaysTicker\"},{\"attributes\":{\"bottom_units\":\"screen\",\"fill_alpha\":{\"value\":0.5},\"fill_color\":{\"value\":\"lightgrey\"},\"left_units\":\"screen\",\"level\":\"overlay\",\"line_alpha\":{\"value\":1.0},\"line_color\":{\"value\":\"black\"},\"line_dash\":[4,4],\"line_width\":{\"value\":2},\"render_mode\":\"css\",\"right_units\":\"screen\",\"top_units\":\"screen\"},\"id\":\"1884\",\"type\":\"BoxAnnotation\"},{\"attributes\":{\"base\":24,\"mantissas\":[1,2,4,6,8,12],\"max_interval\":43200000.0,\"min_interval\":3600000.0,\"num_minor_ticks\":0},\"id\":\"1829\",\"type\":\"AdaptiveTicker\"},{\"attributes\":{\"days\":[1,15]},\"id\":\"1775\",\"type\":\"DaysTicker\"},{\"attributes\":{\"days\":[1,2,3,4,5,6,7,8,9,10,11,12,13,14,15,16,17,18,19,20,21,22,23,24,25,26,27,28,29,30,31]},\"id\":\"1830\",\"type\":\"DaysTicker\"},{\"attributes\":{\"mantissas\":[1,2,5],\"max_interval\":500.0,\"num_minor_ticks\":0},\"id\":\"1885\",\"type\":\"AdaptiveTicker\"},{\"attributes\":{\"months\":[0,1,2,3,4,5,6,7,8,9,10,11]},\"id\":\"1776\",\"type\":\"MonthsTicker\"},{\"attributes\":{\"days\":[1,4,7,10,13,16,19,22,25,28]},\"id\":\"1831\",\"type\":\"DaysTicker\"},{\"attributes\":{\"months\":[0,2,4,6,8,10]},\"id\":\"1777\",\"type\":\"MonthsTicker\"},{\"attributes\":{\"base\":60,\"mantissas\":[1,2,5,10,15,20,30],\"max_interval\":1800000.0,\"min_interval\":1000.0,\"num_minor_ticks\":0},\"id\":\"1886\",\"type\":\"AdaptiveTicker\"},{\"attributes\":{\"days\":[1,8,15,22]},\"id\":\"1832\",\"type\":\"DaysTicker\"},{\"attributes\":{\"months\":[0,4,8]},\"id\":\"1778\",\"type\":\"MonthsTicker\"},{\"attributes\":{\"base\":24,\"mantissas\":[1,2,4,6,8,12],\"max_interval\":43200000.0,\"min_interval\":3600000.0,\"num_minor_ticks\":0},\"id\":\"1887\",\"type\":\"AdaptiveTicker\"},{\"attributes\":{\"days\":[1,15]},\"id\":\"1833\",\"type\":\"DaysTicker\"},{\"attributes\":{\"months\":[0,6]},\"id\":\"1779\",\"type\":\"MonthsTicker\"},{\"attributes\":{\"days\":[1,2,3,4,5,6,7,8,9,10,11,12,13,14,15,16,17,18,19,20,21,22,23,24,25,26,27,28,29,30,31]},\"id\":\"1888\",\"type\":\"DaysTicker\"},{\"attributes\":{\"months\":[0,1,2,3,4,5,6,7,8,9,10,11]},\"id\":\"1834\",\"type\":\"MonthsTicker\"},{\"attributes\":{},\"id\":\"1780\",\"type\":\"YearsTicker\"},{\"attributes\":{\"days\":[1,4,7,10,13,16,19,22,25,28]},\"id\":\"1889\",\"type\":\"DaysTicker\"},{\"attributes\":{\"months\":[0,2,4,6,8,10]},\"id\":\"1835\",\"type\":\"MonthsTicker\"},{\"attributes\":{\"items\":[{\"id\":\"1782\",\"type\":\"LegendItem\"}],\"location\":\"top_left\"},\"id\":\"1781\",\"type\":\"Legend\"},{\"attributes\":{\"days\":[1,8,15,22]},\"id\":\"1890\",\"type\":\"DaysTicker\"},{\"attributes\":{\"months\":[0,4,8]},\"id\":\"1836\",\"type\":\"MonthsTicker\"},{\"attributes\":{\"label\":{\"value\":\"Air temperature\"},\"renderers\":[{\"id\":\"1759\",\"type\":\"GlyphRenderer\"}]},\"id\":\"1782\",\"type\":\"LegendItem\"},{\"attributes\":{\"days\":[1,15]},\"id\":\"1891\",\"type\":\"DaysTicker\"},{\"attributes\":{\"months\":[0,6]},\"id\":\"1837\",\"type\":\"MonthsTicker\"},{\"attributes\":{\"months\":[0,1,2,3,4,5,6,7,8,9,10,11]},\"id\":\"1892\",\"type\":\"MonthsTicker\"},{\"attributes\":{},\"id\":\"1838\",\"type\":\"YearsTicker\"},{\"attributes\":{\"months\":[0,2,4,6,8,10]},\"id\":\"1893\",\"type\":\"MonthsTicker\"},{\"attributes\":{\"callback\":null},\"id\":\"1785\",\"type\":\"DataRange1d\"},{\"attributes\":{\"items\":[{\"id\":\"1840\",\"type\":\"LegendItem\"}],\"location\":\"top_left\"},\"id\":\"1839\",\"type\":\"Legend\"},{\"attributes\":{\"months\":[0,4,8]},\"id\":\"1894\",\"type\":\"MonthsTicker\"},{\"attributes\":{},\"id\":\"1787\",\"type\":\"LinearScale\"},{\"attributes\":{\"label\":{\"value\":\"Wind speed\"},\"renderers\":[{\"id\":\"1817\",\"type\":\"GlyphRenderer\"}]},\"id\":\"1840\",\"type\":\"LegendItem\"},{\"attributes\":{\"months\":[0,6]},\"id\":\"1895\",\"type\":\"MonthsTicker\"},{\"attributes\":{},\"id\":\"1789\",\"type\":\"LinearScale\"},{\"attributes\":{},\"id\":\"1896\",\"type\":\"YearsTicker\"},{\"attributes\":{\"formatter\":{\"id\":\"1824\",\"type\":\"DatetimeTickFormatter\"},\"ticker\":{\"id\":\"1792\",\"type\":\"DatetimeTicker\"}},\"id\":\"1791\",\"type\":\"DatetimeAxis\"},{\"attributes\":{\"callback\":null},\"id\":\"1843\",\"type\":\"DataRange1d\"},{\"attributes\":{\"items\":[{\"id\":\"1898\",\"type\":\"LegendItem\"}],\"location\":\"top_left\"},\"id\":\"1897\",\"type\":\"Legend\"},{\"attributes\":{\"num_minor_ticks\":5,\"tickers\":[{\"id\":\"1827\",\"type\":\"AdaptiveTicker\"},{\"id\":\"1828\",\"type\":\"AdaptiveTicker\"},{\"id\":\"1829\",\"type\":\"AdaptiveTicker\"},{\"id\":\"1830\",\"type\":\"DaysTicker\"},{\"id\":\"1831\",\"type\":\"DaysTicker\"},{\"id\":\"1832\",\"type\":\"DaysTicker\"},{\"id\":\"1833\",\"type\":\"DaysTicker\"},{\"id\":\"1834\",\"type\":\"MonthsTicker\"},{\"id\":\"1835\",\"type\":\"MonthsTicker\"},{\"id\":\"1836\",\"type\":\"MonthsTicker\"},{\"id\":\"1837\",\"type\":\"MonthsTicker\"},{\"id\":\"1838\",\"type\":\"YearsTicker\"}]},\"id\":\"1792\",\"type\":\"DatetimeTicker\"},{\"attributes\":{},\"id\":\"1845\",\"type\":\"LinearScale\"},{\"attributes\":{\"label\":{\"value\":\"AC power\"},\"renderers\":[{\"id\":\"1875\",\"type\":\"GlyphRenderer\"}]},\"id\":\"1898\",\"type\":\"LegendItem\"},{\"attributes\":{\"ticker\":{\"id\":\"1792\",\"type\":\"DatetimeTicker\"}},\"id\":\"1795\",\"type\":\"Grid\"},{\"attributes\":{},\"id\":\"1847\",\"type\":\"LinearScale\"},{\"attributes\":{\"axis_label\":\"Wind speed (m/s)\",\"formatter\":{\"id\":\"1822\",\"type\":\"BasicTickFormatter\"},\"ticker\":{\"id\":\"1797\",\"type\":\"BasicTicker\"}},\"id\":\"1796\",\"type\":\"LinearAxis\"},{\"attributes\":{\"children\":[[{\"id\":\"1610\",\"subtype\":\"Figure\",\"type\":\"Plot\"},0,0],[{\"id\":\"1725\",\"subtype\":\"Figure\",\"type\":\"Plot\"},1,0],[{\"id\":\"1783\",\"subtype\":\"Figure\",\"type\":\"Plot\"},2,0],[{\"id\":\"1841\",\"subtype\":\"Figure\",\"type\":\"Plot\"},3,0]]},\"id\":\"1991\",\"type\":\"GridBox\"},{\"attributes\":{\"axis_label\":\"Time (UTC)\",\"formatter\":{\"id\":\"1882\",\"type\":\"DatetimeTickFormatter\"},\"ticker\":{\"id\":\"1850\",\"type\":\"DatetimeTicker\"}},\"id\":\"1849\",\"type\":\"DatetimeAxis\"},{\"attributes\":{\"tools\":[{\"id\":\"1629\",\"type\":\"PanTool\"},{\"id\":\"1630\",\"type\":\"BoxZoomTool\"},{\"id\":\"1631\",\"type\":\"WheelZoomTool\"},{\"id\":\"1632\",\"type\":\"ResetTool\"},{\"id\":\"1633\",\"type\":\"SaveTool\"},{\"id\":\"1634\",\"type\":\"BoxSelectTool\"},{\"id\":\"1743\",\"type\":\"PanTool\"},{\"id\":\"1744\",\"type\":\"BoxZoomTool\"},{\"id\":\"1745\",\"type\":\"WheelZoomTool\"},{\"id\":\"1746\",\"type\":\"ResetTool\"},{\"id\":\"1747\",\"type\":\"SaveTool\"},{\"id\":\"1748\",\"type\":\"BoxSelectTool\"},{\"id\":\"1801\",\"type\":\"PanTool\"},{\"id\":\"1802\",\"type\":\"BoxZoomTool\"},{\"id\":\"1803\",\"type\":\"WheelZoomTool\"},{\"id\":\"1804\",\"type\":\"ResetTool\"},{\"id\":\"1805\",\"type\":\"SaveTool\"},{\"id\":\"1806\",\"type\":\"BoxSelectTool\"},{\"id\":\"1859\",\"type\":\"PanTool\"},{\"id\":\"1860\",\"type\":\"BoxZoomTool\"},{\"id\":\"1861\",\"type\":\"WheelZoomTool\"},{\"id\":\"1862\",\"type\":\"ResetTool\"},{\"id\":\"1863\",\"type\":\"SaveTool\"},{\"id\":\"1864\",\"type\":\"BoxSelectTool\"}]},\"id\":\"1992\",\"type\":\"ProxyToolbar\"},{\"attributes\":{\"line_color\":\"#9467bd\",\"line_width\":2,\"x\":{\"field\":\"index\"},\"y\":{\"field\":\"Wind speed\"}},\"id\":\"1815\",\"type\":\"Line\"},{\"attributes\":{\"bottom_units\":\"screen\",\"fill_alpha\":{\"value\":0.5},\"fill_color\":{\"value\":\"lightgrey\"},\"left_units\":\"screen\",\"level\":\"overlay\",\"line_alpha\":{\"value\":1.0},\"line_color\":{\"value\":\"black\"},\"line_dash\":[4,4],\"line_width\":{\"value\":2},\"render_mode\":\"css\",\"right_units\":\"screen\",\"top_units\":\"screen\"},\"id\":\"1883\",\"type\":\"BoxAnnotation\"},{\"attributes\":{\"num_minor_ticks\":5,\"tickers\":[{\"id\":\"1885\",\"type\":\"AdaptiveTicker\"},{\"id\":\"1886\",\"type\":\"AdaptiveTicker\"},{\"id\":\"1887\",\"type\":\"AdaptiveTicker\"},{\"id\":\"1888\",\"type\":\"DaysTicker\"},{\"id\":\"1889\",\"type\":\"DaysTicker\"},{\"id\":\"1890\",\"type\":\"DaysTicker\"},{\"id\":\"1891\",\"type\":\"DaysTicker\"},{\"id\":\"1892\",\"type\":\"MonthsTicker\"},{\"id\":\"1893\",\"type\":\"MonthsTicker\"},{\"id\":\"1894\",\"type\":\"MonthsTicker\"},{\"id\":\"1895\",\"type\":\"MonthsTicker\"},{\"id\":\"1896\",\"type\":\"YearsTicker\"}]},\"id\":\"1850\",\"type\":\"DatetimeTicker\"},{\"attributes\":{\"below\":[{\"id\":\"1849\",\"type\":\"DatetimeAxis\"}],\"center\":[{\"id\":\"1853\",\"type\":\"Grid\"},{\"id\":\"1858\",\"type\":\"Grid\"},{\"id\":\"1897\",\"type\":\"Legend\"}],\"left\":[{\"id\":\"1854\",\"type\":\"LinearAxis\"}],\"plot_height\":200,\"plot_width\":800,\"renderers\":[{\"id\":\"1875\",\"type\":\"GlyphRenderer\"}],\"title\":{\"id\":\"1878\",\"type\":\"Title\"},\"toolbar\":{\"id\":\"1865\",\"type\":\"Toolbar\"},\"toolbar_location\":null,\"x_range\":{\"id\":\"1611\",\"type\":\"DataRange1d\"},\"x_scale\":{\"id\":\"1845\",\"type\":\"LinearScale\"},\"y_range\":{\"id\":\"1843\",\"type\":\"DataRange1d\"},\"y_scale\":{\"id\":\"1847\",\"type\":\"LinearScale\"}},\"id\":\"1841\",\"subtype\":\"Figure\",\"type\":\"Plot\"},{\"attributes\":{\"toolbar\":{\"id\":\"1992\",\"type\":\"ProxyToolbar\"},\"toolbar_location\":\"above\"},\"id\":\"1993\",\"type\":\"ToolbarBox\"},{\"attributes\":{\"ticker\":{\"id\":\"1850\",\"type\":\"DatetimeTicker\"}},\"id\":\"1853\",\"type\":\"Grid\"},{\"attributes\":{},\"id\":\"1801\",\"type\":\"PanTool\"},{\"attributes\":{\"axis_label\":\"AC power (MW)\",\"formatter\":{\"id\":\"1880\",\"type\":\"BasicTickFormatter\"},\"ticker\":{\"id\":\"1855\",\"type\":\"BasicTicker\"}},\"id\":\"1854\",\"type\":\"LinearAxis\"},{\"attributes\":{\"overlay\":{\"id\":\"1825\",\"type\":\"BoxAnnotation\"}},\"id\":\"1802\",\"type\":\"BoxZoomTool\"},{\"attributes\":{},\"id\":\"1855\",\"type\":\"BasicTicker\"},{\"attributes\":{\"dimensions\":\"width\"},\"id\":\"1803\",\"type\":\"WheelZoomTool\"},{\"attributes\":{\"dimension\":1,\"ticker\":{\"id\":\"1855\",\"type\":\"BasicTicker\"}},\"id\":\"1858\",\"type\":\"Grid\"},{\"attributes\":{},\"id\":\"1804\",\"type\":\"ResetTool\"},{\"attributes\":{\"line_color\":\"#8c564b\",\"line_width\":2,\"x\":{\"field\":\"index\"},\"y\":{\"field\":\"AC power\"}},\"id\":\"1873\",\"type\":\"Line\"},{\"attributes\":{},\"id\":\"1805\",\"type\":\"SaveTool\"},{\"attributes\":{},\"id\":\"1882\",\"type\":\"DatetimeTickFormatter\"},{\"attributes\":{\"below\":[{\"id\":\"1733\",\"type\":\"DatetimeAxis\"}],\"center\":[{\"id\":\"1737\",\"type\":\"Grid\"},{\"id\":\"1742\",\"type\":\"Grid\"},{\"id\":\"1781\",\"type\":\"Legend\"}],\"left\":[{\"id\":\"1738\",\"type\":\"LinearAxis\"}],\"plot_height\":200,\"plot_width\":800,\"renderers\":[{\"id\":\"1759\",\"type\":\"GlyphRenderer\"}],\"title\":{\"id\":\"1762\",\"type\":\"Title\"},\"toolbar\":{\"id\":\"1749\",\"type\":\"Toolbar\"},\"toolbar_location\":null,\"x_range\":{\"id\":\"1611\",\"type\":\"DataRange1d\"},\"x_scale\":{\"id\":\"1729\",\"type\":\"LinearScale\"},\"y_range\":{\"id\":\"1727\",\"type\":\"DataRange1d\"},\"y_scale\":{\"id\":\"1731\",\"type\":\"LinearScale\"}},\"id\":\"1725\",\"subtype\":\"Figure\",\"type\":\"Plot\"},{\"attributes\":{\"callback\":null,\"overlay\":{\"id\":\"1826\",\"type\":\"BoxAnnotation\"}},\"id\":\"1806\",\"type\":\"BoxSelectTool\"},{\"attributes\":{},\"id\":\"1859\",\"type\":\"PanTool\"},{\"attributes\":{\"active_drag\":\"auto\",\"active_inspect\":\"auto\",\"active_multi\":null,\"active_scroll\":\"auto\",\"active_tap\":\"auto\",\"tools\":[{\"id\":\"1801\",\"type\":\"PanTool\"},{\"id\":\"1802\",\"type\":\"BoxZoomTool\"},{\"id\":\"1803\",\"type\":\"WheelZoomTool\"},{\"id\":\"1804\",\"type\":\"ResetTool\"},{\"id\":\"1805\",\"type\":\"SaveTool\"},{\"id\":\"1806\",\"type\":\"BoxSelectTool\"}]},\"id\":\"1807\",\"type\":\"Toolbar\"},{\"attributes\":{\"overlay\":{\"id\":\"1883\",\"type\":\"BoxAnnotation\"}},\"id\":\"1860\",\"type\":\"BoxZoomTool\"},{\"attributes\":{\"line_alpha\":0.1,\"line_color\":\"#1f77b4\",\"line_width\":2,\"x\":{\"field\":\"index\"},\"y\":{\"field\":\"Wind speed\"}},\"id\":\"1816\",\"type\":\"Line\"},{\"attributes\":{\"dimensions\":\"width\"},\"id\":\"1861\",\"type\":\"WheelZoomTool\"},{\"attributes\":{\"data_source\":{\"id\":\"1609\",\"type\":\"ColumnDataSource\"},\"glyph\":{\"id\":\"1815\",\"type\":\"Line\"},\"hover_glyph\":null,\"muted_glyph\":null,\"nonselection_glyph\":{\"id\":\"1816\",\"type\":\"Line\"},\"selection_glyph\":null,\"view\":{\"id\":\"1818\",\"type\":\"CDSView\"}},\"id\":\"1817\",\"type\":\"GlyphRenderer\"},{\"attributes\":{},\"id\":\"1862\",\"type\":\"ResetTool\"},{\"attributes\":{\"source\":{\"id\":\"1609\",\"type\":\"ColumnDataSource\"}},\"id\":\"1818\",\"type\":\"CDSView\"},{\"attributes\":{},\"id\":\"1863\",\"type\":\"SaveTool\"},{\"attributes\":{\"text\":\"\"},\"id\":\"1820\",\"type\":\"Title\"},{\"attributes\":{\"callback\":null,\"overlay\":{\"id\":\"1884\",\"type\":\"BoxAnnotation\"}},\"id\":\"1864\",\"type\":\"BoxSelectTool\"},{\"attributes\":{},\"id\":\"1822\",\"type\":\"BasicTickFormatter\"},{\"attributes\":{\"active_drag\":\"auto\",\"active_inspect\":\"auto\",\"active_multi\":null,\"active_scroll\":\"auto\",\"active_tap\":\"auto\",\"tools\":[{\"id\":\"1859\",\"type\":\"PanTool\"},{\"id\":\"1860\",\"type\":\"BoxZoomTool\"},{\"id\":\"1861\",\"type\":\"WheelZoomTool\"},{\"id\":\"1862\",\"type\":\"ResetTool\"},{\"id\":\"1863\",\"type\":\"SaveTool\"},{\"id\":\"1864\",\"type\":\"BoxSelectTool\"}]},\"id\":\"1865\",\"type\":\"Toolbar\"},{\"attributes\":{},\"id\":\"1824\",\"type\":\"DatetimeTickFormatter\"},{\"attributes\":{\"line_alpha\":0.1,\"line_color\":\"#1f77b4\",\"line_width\":2,\"x\":{\"field\":\"index\"},\"y\":{\"field\":\"AC power\"}},\"id\":\"1874\",\"type\":\"Line\"},{\"attributes\":{\"bottom_units\":\"screen\",\"fill_alpha\":{\"value\":0.5},\"fill_color\":{\"value\":\"lightgrey\"},\"left_units\":\"screen\",\"level\":\"overlay\",\"line_alpha\":{\"value\":1.0},\"line_color\":{\"value\":\"black\"},\"line_dash\":[4,4],\"line_width\":{\"value\":2},\"render_mode\":\"css\",\"right_units\":\"screen\",\"top_units\":\"screen\"},\"id\":\"1825\",\"type\":\"BoxAnnotation\"},{\"attributes\":{\"below\":[{\"id\":\"1619\",\"type\":\"DatetimeAxis\"}],\"center\":[{\"id\":\"1623\",\"type\":\"Grid\"},{\"id\":\"1628\",\"type\":\"Grid\"},{\"id\":\"1667\",\"type\":\"Legend\"}],\"left\":[{\"id\":\"1624\",\"type\":\"LinearAxis\"}],\"plot_height\":200,\"plot_width\":800,\"renderers\":[{\"id\":\"1645\",\"type\":\"GlyphRenderer\"},{\"id\":\"1672\",\"type\":\"GlyphRenderer\"},{\"id\":\"1700\",\"type\":\"GlyphRenderer\"}],\"title\":{\"id\":\"1648\",\"type\":\"Title\"},\"toolbar\":{\"id\":\"1635\",\"type\":\"Toolbar\"},\"toolbar_location\":null,\"x_range\":{\"id\":\"1611\",\"type\":\"DataRange1d\"},\"x_scale\":{\"id\":\"1615\",\"type\":\"LinearScale\"},\"y_range\":{\"id\":\"1613\",\"type\":\"DataRange1d\"},\"y_scale\":{\"id\":\"1617\",\"type\":\"LinearScale\"}},\"id\":\"1610\",\"subtype\":\"Figure\",\"type\":\"Plot\"},{\"attributes\":{\"data_source\":{\"id\":\"1609\",\"type\":\"ColumnDataSource\"},\"glyph\":{\"id\":\"1873\",\"type\":\"Line\"},\"hover_glyph\":null,\"muted_glyph\":null,\"nonselection_glyph\":{\"id\":\"1874\",\"type\":\"Line\"},\"selection_glyph\":null,\"view\":{\"id\":\"1876\",\"type\":\"CDSView\"}},\"id\":\"1875\",\"type\":\"GlyphRenderer\"},{\"attributes\":{\"bottom_units\":\"screen\",\"fill_alpha\":{\"value\":0.5},\"fill_color\":{\"value\":\"lightgrey\"},\"left_units\":\"screen\",\"level\":\"overlay\",\"line_alpha\":{\"value\":1.0},\"line_color\":{\"value\":\"black\"},\"line_dash\":[4,4],\"line_width\":{\"value\":2},\"render_mode\":\"css\",\"right_units\":\"screen\",\"top_units\":\"screen\"},\"id\":\"1826\",\"type\":\"BoxAnnotation\"},{\"attributes\":{\"source\":{\"id\":\"1609\",\"type\":\"ColumnDataSource\"}},\"id\":\"1876\",\"type\":\"CDSView\"},{\"attributes\":{\"mantissas\":[1,2,5],\"max_interval\":500.0,\"num_minor_ticks\":0},\"id\":\"1827\",\"type\":\"AdaptiveTicker\"},{\"attributes\":{\"text\":\"\"},\"id\":\"1878\",\"type\":\"Title\"},{\"attributes\":{},\"id\":\"1880\",\"type\":\"BasicTickFormatter\"}],\"root_ids\":[\"1994\"]},\"title\":\"Bokeh Application\",\"version\":\"1.1.0\"}};\n",
       "  var render_items = [{\"docid\":\"411e1df8-b540-4b84-9cb2-4d5c5c6f913f\",\"roots\":{\"1994\":\"9fd617ad-65fa-4371-8b38-bac87d52a361\"}}];\n",
       "  root.Bokeh.embed.embed_items_notebook(docs_json, render_items);\n",
       "\n",
       "  }\n",
       "  if (root.Bokeh !== undefined) {\n",
       "    embed_document(root);\n",
       "  } else {\n",
       "    var attempts = 0;\n",
       "    var timer = setInterval(function(root) {\n",
       "      if (root.Bokeh !== undefined) {\n",
       "        embed_document(root);\n",
       "        clearInterval(timer);\n",
       "      }\n",
       "      attempts++;\n",
       "      if (attempts > 100) {\n",
       "        console.log(\"Bokeh: ERROR: Unable to run BokehJS code because BokehJS library is missing\");\n",
       "        clearInterval(timer);\n",
       "      }\n",
       "    }, 10, root)\n",
       "  }\n",
       "})(window);"
      ],
      "application/vnd.bokehjs_exec.v0+json": ""
     },
     "metadata": {
      "application/vnd.bokehjs_exec.v0+json": {
       "id": "1994"
      }
     },
     "output_type": "display_data"
    }
   ],
   "source": [
    "# select the model\n",
    "model = models.gfs_quarter_deg_to_hourly_mean\n",
    "\n",
    "# tell the model where to find the NWP data\n",
    "model_wrapped = partial(model, load_forecast=load_forecast)\n",
    "\n",
    "# load and process the NWP data\n",
    "ghi, dni, dhi, air_temperature, wind_speed, ac_power = main.run(plant, model_wrapped, init_time, start, end)\n",
    "\n",
    "# plotting details...\n",
    "data = dict(zip(('GHI', 'DNI', 'DHI', 'Air temperature', 'Wind speed', 'AC power', 'index'),\n",
    "                (ghi, dni, dhi, air_temperature, wind_speed, ac_power, ac_power.index)))\n",
    "source = ColumnDataSource(data)\n",
    "\n",
    "fig_kwargs = dict(tools=TOOLS, x_axis_type=\"datetime\", plot_height=200)\n",
    "palette = iter(PALETTE)\n",
    "fig1 = figure(**fig_kwargs)\n",
    "for name in ('GHI', 'DNI', 'DHI'):\n",
    "    fig1.line(x='index', y=name, source=source, legend=value(name), color=next(palette), line_width=2)\n",
    "fig1.yaxis.axis_label = \"Irradiance (W/m^2)\"\n",
    "fig1.legend.location = \"top_left\"\n",
    "\n",
    "fig_kwargs['x_range'] = fig1.x_range  # link x-zoom\n",
    "fig2 = figure(**fig_kwargs)\n",
    "fig2.line(x='index', y='Air temperature', source=source, legend=value(\"Air temperature\"), color=next(palette), line_width=2)\n",
    "fig2.yaxis.axis_label = \"Air temperature (C)\"\n",
    "fig2.legend.location = \"top_left\"\n",
    "\n",
    "fig3 = figure(**fig_kwargs)\n",
    "fig3.line(x='index', y='Wind speed', source=source, legend=value(\"Wind speed\"), color=next(palette), line_width=2)\n",
    "fig3.yaxis.axis_label = \"Wind speed (m/s)\"\n",
    "fig3.legend.location = \"top_left\"\n",
    "\n",
    "fig4 = figure(**fig_kwargs)\n",
    "fig4.line(x='index', y='AC power', source=source, legend=value(\"AC power\"), color=next(palette), line_width=2)\n",
    "fig4.yaxis.axis_label = \"AC power (MW)\"\n",
    "fig4.xaxis.axis_label = 'Time (UTC)'\n",
    "fig4.legend.location = \"top_left\"\n",
    "\n",
    "grid = gridplot([fig1, fig2, fig3, fig4], ncols=1, plot_width=800)\n",
    "\n",
    "show(grid)"
   ]
  },
  {
   "cell_type": "code",
   "execution_count": null,
   "metadata": {},
   "outputs": [],
   "source": []
  },
  {
   "cell_type": "code",
   "execution_count": null,
   "metadata": {},
   "outputs": [],
   "source": []
  },
  {
   "cell_type": "code",
   "execution_count": 11,
   "metadata": {},
   "outputs": [],
   "source": [
    "# returns tuple of ghi, dni, dhi, air temperature, wind speed, resampling function, solar position function\n",
    "ghi, dni, dhi, air_temperature, wind_speed, resampler, solpos_func = models.hrrr_subhourly_to_subhourly_instantaneous(\n",
    "    latitude, longitude, elevation, init_time, start, end, load_forecast=load_forecast)"
   ]
  },
  {
   "cell_type": "markdown",
   "metadata": {},
   "source": [
    "Plot the irradiance components of `out`."
   ]
  },
  {
   "cell_type": "code",
   "execution_count": 12,
   "metadata": {},
   "outputs": [
    {
     "data": {
      "text/html": [
       "\n",
       "\n",
       "\n",
       "\n",
       "\n",
       "\n",
       "  <div class=\"bk-root\" id=\"6b9f4933-f75a-4f4b-ba22-75ffb86061a9\" data-root-id=\"2625\"></div>\n"
      ]
     },
     "metadata": {},
     "output_type": "display_data"
    },
    {
     "data": {
      "application/javascript": [
       "(function(root) {\n",
       "  function embed_document(root) {\n",
       "    \n",
       "  var docs_json = {\"196f0a44-54b7-4581-8ae4-92b5101548d6\":{\"roots\":{\"references\":[{\"attributes\":{\"below\":[{\"id\":\"2636\",\"type\":\"DatetimeAxis\"}],\"center\":[{\"id\":\"2640\",\"type\":\"Grid\"},{\"id\":\"2645\",\"type\":\"Grid\"},{\"id\":\"2683\",\"type\":\"Legend\"}],\"left\":[{\"id\":\"2641\",\"type\":\"LinearAxis\"}],\"plot_height\":400,\"plot_width\":800,\"renderers\":[{\"id\":\"2662\",\"type\":\"GlyphRenderer\"},{\"id\":\"2688\",\"type\":\"GlyphRenderer\"},{\"id\":\"2715\",\"type\":\"GlyphRenderer\"}],\"title\":{\"id\":\"2626\",\"type\":\"Title\"},\"toolbar\":{\"id\":\"2652\",\"type\":\"Toolbar\"},\"x_range\":{\"id\":\"2628\",\"type\":\"DataRange1d\"},\"x_scale\":{\"id\":\"2632\",\"type\":\"LinearScale\"},\"y_range\":{\"id\":\"2630\",\"type\":\"DataRange1d\"},\"y_scale\":{\"id\":\"2634\",\"type\":\"LinearScale\"}},\"id\":\"2625\",\"subtype\":\"Figure\",\"type\":\"Plot\"},{\"attributes\":{},\"id\":\"2634\",\"type\":\"LinearScale\"},{\"attributes\":{\"days\":[1,8,15,22]},\"id\":\"2676\",\"type\":\"DaysTicker\"},{\"attributes\":{},\"id\":\"2632\",\"type\":\"LinearScale\"},{\"attributes\":{},\"id\":\"2642\",\"type\":\"BasicTicker\"},{\"attributes\":{\"line_alpha\":0.1,\"line_color\":\"#1f77b4\",\"line_width\":2,\"x\":{\"field\":\"x\"},\"y\":{\"field\":\"y\"}},\"id\":\"2661\",\"type\":\"Line\"},{\"attributes\":{},\"id\":\"2682\",\"type\":\"YearsTicker\"},{\"attributes\":{\"callback\":null,\"overlay\":{\"id\":\"2670\",\"type\":\"BoxAnnotation\"}},\"id\":\"2651\",\"type\":\"BoxSelectTool\"},{\"attributes\":{},\"id\":\"2650\",\"type\":\"SaveTool\"},{\"attributes\":{\"callback\":null,\"data\":{\"x\":{\"__ndarray__\":\"AAAoDZCrdkIAAOLokKt2QgAAnMSRq3ZCAABWoJKrdkIAABB8k6t2QgAAyleUq3ZCAACEM5WrdkIAAD4Plqt2QgAA+OqWq3ZCAACyxperdkIAAGyimKt2QgAAJn6Zq3ZCAADgWZqrdkIAAJo1m6t2QgAAVBGcq3ZCAAAO7ZyrdkIAAMjInat2QgAAgqSeq3ZCAAA8gJ+rdkIAAPZboKt2QgAAsDehq3ZCAABqE6KrdkIAACTvoqt2QgAA3sqjq3ZCAACYpqSrdkIAAFKCpat2QgAADF6mq3ZCAADGOaerdkIAAIAVqKt2QgAAOvGoq3ZCAAD0zKmrdkIAAK6oqqt2QgAAaISrq3ZCAAAiYKyrdkIAANw7rat2QgAAlheuq3ZCAABQ866rdkIAAArPr6t2QgAAxKqwq3ZCAAB+hrGrdkIAADhisqt2QgAA8j2zq3ZCAACsGbSrdkIAAGb1tKt2QgAAING1q3ZCAADarLardkIAAJSIt6t2QgAATmS4q3ZCAAAIQLmrdkIAAMIbuqt2QgAAfPe6q3ZCAAA207urdkIAAPCuvKt2QgAAqoq9q3ZCAABkZr6rdkIAAB5Cv6t2QgAA2B3Aq3ZCAACS+cCrdkIAAEzVwat2QgAABrHCq3ZCAADAjMOrdkIAAHpoxKt2QgAANETFq3ZCAADuH8ardkIAAKj7xqt2QgAAYtfHq3ZCAAAcs8irdkIAANaOyat2QgAAkGrKq3ZC\",\"dtype\":\"float64\",\"shape\":[69]},\"y\":{\"__ndarray__\":\"AADyQwAA6EMAgI9DAACZQwAAEkMAAAAAAAAAAAAAAAAAAAAAAAAAAAAAAAAAAAAAAAAAAAAAAAAAAAAAAAAAAAAAAAAAAAAAAAAAAAAAAAAAAAAAAAAAAAAAAAAAAAAAAAAAAAAAAAAAAAAAAAAAAAAAAAAAAAAAAAAAAAAAAAAAAAAAAAAAAAAAAAAAAAAAAAAAAAAAAAAAAAAAAAAAAAAAAAAAAAAAAAAAAAAAAAAAAAAAAAAAAAAAAAAAALJCAICFQwCAzEMAQAJEAMAXRACAKEQAwDZEAEBBRAAASEQAgEpEAABSRAAAXEQAgF5EAIBjRACAY0QAAFdEAABSRACAY0QAgGhEAIA7RACAT0QAAFxE\",\"dtype\":\"float32\",\"shape\":[69]}},\"selected\":{\"id\":\"2724\",\"type\":\"Selection\"},\"selection_policy\":{\"id\":\"2725\",\"type\":\"UnionRenderers\"}},\"id\":\"2685\",\"type\":\"ColumnDataSource\"},{\"attributes\":{\"months\":[0,1,2,3,4,5,6,7,8,9,10,11]},\"id\":\"2678\",\"type\":\"MonthsTicker\"},{\"attributes\":{\"source\":{\"id\":\"2685\",\"type\":\"ColumnDataSource\"}},\"id\":\"2689\",\"type\":\"CDSView\"},{\"attributes\":{\"bottom_units\":\"screen\",\"fill_alpha\":{\"value\":0.5},\"fill_color\":{\"value\":\"lightgrey\"},\"left_units\":\"screen\",\"level\":\"overlay\",\"line_alpha\":{\"value\":1.0},\"line_color\":{\"value\":\"black\"},\"line_dash\":[4,4],\"line_width\":{\"value\":2},\"render_mode\":\"css\",\"right_units\":\"screen\",\"top_units\":\"screen\"},\"id\":\"2669\",\"type\":\"BoxAnnotation\"},{\"attributes\":{\"days\":[1,4,7,10,13,16,19,22,25,28]},\"id\":\"2675\",\"type\":\"DaysTicker\"},{\"attributes\":{\"months\":[0,6]},\"id\":\"2681\",\"type\":\"MonthsTicker\"},{\"attributes\":{\"callback\":null},\"id\":\"2628\",\"type\":\"DataRange1d\"},{\"attributes\":{\"dimension\":1,\"ticker\":{\"id\":\"2642\",\"type\":\"BasicTicker\"}},\"id\":\"2645\",\"type\":\"Grid\"},{\"attributes\":{\"data_source\":{\"id\":\"2685\",\"type\":\"ColumnDataSource\"},\"glyph\":{\"id\":\"2686\",\"type\":\"Line\"},\"hover_glyph\":null,\"muted_glyph\":null,\"nonselection_glyph\":{\"id\":\"2687\",\"type\":\"Line\"},\"selection_glyph\":null,\"view\":{\"id\":\"2689\",\"type\":\"CDSView\"}},\"id\":\"2688\",\"type\":\"GlyphRenderer\"},{\"attributes\":{\"num_minor_ticks\":5,\"tickers\":[{\"id\":\"2671\",\"type\":\"AdaptiveTicker\"},{\"id\":\"2672\",\"type\":\"AdaptiveTicker\"},{\"id\":\"2673\",\"type\":\"AdaptiveTicker\"},{\"id\":\"2674\",\"type\":\"DaysTicker\"},{\"id\":\"2675\",\"type\":\"DaysTicker\"},{\"id\":\"2676\",\"type\":\"DaysTicker\"},{\"id\":\"2677\",\"type\":\"DaysTicker\"},{\"id\":\"2678\",\"type\":\"MonthsTicker\"},{\"id\":\"2679\",\"type\":\"MonthsTicker\"},{\"id\":\"2680\",\"type\":\"MonthsTicker\"},{\"id\":\"2681\",\"type\":\"MonthsTicker\"},{\"id\":\"2682\",\"type\":\"YearsTicker\"}]},\"id\":\"2637\",\"type\":\"DatetimeTicker\"},{\"attributes\":{\"label\":{\"value\":\"dhi\"},\"renderers\":[{\"id\":\"2715\",\"type\":\"GlyphRenderer\"}]},\"id\":\"2740\",\"type\":\"LegendItem\"},{\"attributes\":{\"base\":60,\"mantissas\":[1,2,5,10,15,20,30],\"max_interval\":1800000.0,\"min_interval\":1000.0,\"num_minor_ticks\":0},\"id\":\"2672\",\"type\":\"AdaptiveTicker\"},{\"attributes\":{},\"id\":\"2724\",\"type\":\"Selection\"},{\"attributes\":{},\"id\":\"2882\",\"type\":\"Selection\"},{\"attributes\":{\"mantissas\":[1,2,5],\"max_interval\":500.0,\"num_minor_ticks\":0},\"id\":\"2671\",\"type\":\"AdaptiveTicker\"},{\"attributes\":{\"months\":[0,2,4,6,8,10]},\"id\":\"2679\",\"type\":\"MonthsTicker\"},{\"attributes\":{\"months\":[0,4,8]},\"id\":\"2680\",\"type\":\"MonthsTicker\"},{\"attributes\":{\"callback\":null,\"data\":{\"x\":{\"__ndarray__\":\"AAAoDZCrdkIAAOLokKt2QgAAnMSRq3ZCAABWoJKrdkIAABB8k6t2QgAAyleUq3ZCAACEM5WrdkIAAD4Plqt2QgAA+OqWq3ZCAACyxperdkIAAGyimKt2QgAAJn6Zq3ZCAADgWZqrdkIAAJo1m6t2QgAAVBGcq3ZCAAAO7ZyrdkIAAMjInat2QgAAgqSeq3ZCAAA8gJ+rdkIAAPZboKt2QgAAsDehq3ZCAABqE6KrdkIAACTvoqt2QgAA3sqjq3ZCAACYpqSrdkIAAFKCpat2QgAADF6mq3ZCAADGOaerdkIAAIAVqKt2QgAAOvGoq3ZCAAD0zKmrdkIAAK6oqqt2QgAAaISrq3ZCAAAiYKyrdkIAANw7rat2QgAAlheuq3ZCAABQ866rdkIAAArPr6t2QgAAxKqwq3ZCAAB+hrGrdkIAADhisqt2QgAA8j2zq3ZCAACsGbSrdkIAAGb1tKt2QgAAING1q3ZCAADarLardkIAAJSIt6t2QgAATmS4q3ZCAAAIQLmrdkIAAMIbuqt2QgAAfPe6q3ZCAAA207urdkIAAPCuvKt2QgAAqoq9q3ZCAABkZr6rdkIAAB5Cv6t2QgAA2B3Aq3ZCAACS+cCrdkIAAEzVwat2QgAABrHCq3ZCAADAjMOrdkIAAHpoxKt2QgAANETFq3ZCAADuH8ardkIAAKj7xqt2QgAAYtfHq3ZCAAAcs8irdkIAANaOyat2QgAAkGrKq3ZC\",\"dtype\":\"float64\",\"shape\":[69]},\"y\":{\"__ndarray__\":\"AABUQwAAIkMAANBCAACEQgAA0EEAAAAAAAAAAAAAAAAAAAAAAAAAAAAAAAAAAAAAAAAAAAAAAAAAAAAAAAAAAAAAAAAAAAAAAAAAAAAAAAAAAAAAAAAAAAAAAAAAAAAAAAAAAAAAAAAAAAAAAAAAAAAAAAAAAAAAAAAAAAAAAAAAAAAAAAAAAAAAAAAAAAAAAAAAAAAAAAAAAAAAAAAAAAAAAAAAAAAAAAAAAAAAAAAAAAAAAAAAAAAAAAAAAFBBAABIQgAAwEIAABRDAABMQwCAgkMAgKBDAIC9QwCA2kMAAPZDAEAJRABAF0QAQCREAIAxRACAO0QAgEVEAIBPRAAAXEQAAGZEAIBoRACAckQAAHpE\",\"dtype\":\"float32\",\"shape\":[69]}},\"selected\":{\"id\":\"2695\",\"type\":\"Selection\"},\"selection_policy\":{\"id\":\"2696\",\"type\":\"UnionRenderers\"}},\"id\":\"2659\",\"type\":\"ColumnDataSource\"},{\"attributes\":{\"callback\":null,\"data\":{\"x\":{\"__ndarray__\":\"AAAoDZCrdkIAAOLokKt2QgAAnMSRq3ZCAABWoJKrdkIAABB8k6t2QgAAyleUq3ZCAACEM5WrdkIAAD4Plqt2QgAA+OqWq3ZCAACyxperdkIAAGyimKt2QgAAJn6Zq3ZCAADgWZqrdkIAAJo1m6t2QgAAVBGcq3ZCAAAO7ZyrdkIAAMjInat2QgAAgqSeq3ZCAAA8gJ+rdkIAAPZboKt2QgAAsDehq3ZCAABqE6KrdkIAACTvoqt2QgAA3sqjq3ZCAACYpqSrdkIAAFKCpat2QgAADF6mq3ZCAADGOaerdkIAAIAVqKt2QgAAOvGoq3ZCAAD0zKmrdkIAAK6oqqt2QgAAaISrq3ZCAAAiYKyrdkIAANw7rat2QgAAlheuq3ZCAABQ866rdkIAAArPr6t2QgAAxKqwq3ZCAAB+hrGrdkIAADhisqt2QgAA8j2zq3ZCAACsGbSrdkIAAGb1tKt2QgAAING1q3ZCAADarLardkIAAJSIt6t2QgAATmS4q3ZCAAAIQLmrdkIAAMIbuqt2QgAAfPe6q3ZCAAA207urdkIAAPCuvKt2QgAAqoq9q3ZCAABkZr6rdkIAAB5Cv6t2QgAA2B3Aq3ZCAACS+cCrdkIAAEzVwat2QgAABrHCq3ZCAADAjMOrdkIAAHpoxKt2QgAANETFq3ZCAADuH8ardkIAAKj7xqt2QgAAYtfHq3ZCAAAcs8irdkIAANaOyat2QgAAkGrKq3ZC\",\"dtype\":\"float64\",\"shape\":[69]},\"y\":{\"__ndarray__\":\"AKCjQgCAXUIAQCVCAAC/QQAABUEAAAAAAAAAAAAAAAAAAAAAAAAAAAAAAAAAAAAAAAAAAAAAAAAAAAAAAAAAAAAAAAAAAAAAAAAAAAAAAAAAAAAAAAAAAAAAAAAAAAAAAAAAAAAAAAAAAAAAAAAAAAAAAAAAAAAAAAAAAAAAAAAAAAAAAAAAAAAAAAAAAAAAAAAAAAAAAAAAAAAAAAAAAAAAAAAAAAAAAAAAAAAAAAAAAAAAAAAAAAAAAAAAgKZBAAD4QQCANEIAQFlCAAB2QgAAh0IAQJBCAACbQgBApkIAwMdCAKC8QgCgsEIAwMVCAADCQgCg1kIAIChDAFA6QwBQEEMAoAJDAMCMQwAwZkMA0DxD\",\"dtype\":\"float32\",\"shape\":[69]}},\"selected\":{\"id\":\"2882\",\"type\":\"Selection\"},\"selection_policy\":{\"id\":\"2883\",\"type\":\"UnionRenderers\"}},\"id\":\"2712\",\"type\":\"ColumnDataSource\"},{\"attributes\":{\"callback\":null},\"id\":\"2630\",\"type\":\"DataRange1d\"},{\"attributes\":{},\"id\":\"2883\",\"type\":\"UnionRenderers\"},{\"attributes\":{\"line_color\":\"#2ca02c\",\"line_width\":2,\"x\":{\"field\":\"x\"},\"y\":{\"field\":\"y\"}},\"id\":\"2713\",\"type\":\"Line\"},{\"attributes\":{},\"id\":\"2649\",\"type\":\"ResetTool\"},{\"attributes\":{\"data_source\":{\"id\":\"2712\",\"type\":\"ColumnDataSource\"},\"glyph\":{\"id\":\"2713\",\"type\":\"Line\"},\"hover_glyph\":null,\"muted_glyph\":null,\"nonselection_glyph\":{\"id\":\"2714\",\"type\":\"Line\"},\"selection_glyph\":null,\"view\":{\"id\":\"2716\",\"type\":\"CDSView\"}},\"id\":\"2715\",\"type\":\"GlyphRenderer\"},{\"attributes\":{\"active_drag\":\"auto\",\"active_inspect\":\"auto\",\"active_multi\":null,\"active_scroll\":\"auto\",\"active_tap\":\"auto\",\"tools\":[{\"id\":\"2646\",\"type\":\"PanTool\"},{\"id\":\"2647\",\"type\":\"BoxZoomTool\"},{\"id\":\"2648\",\"type\":\"WheelZoomTool\"},{\"id\":\"2649\",\"type\":\"ResetTool\"},{\"id\":\"2650\",\"type\":\"SaveTool\"},{\"id\":\"2651\",\"type\":\"BoxSelectTool\"}]},\"id\":\"2652\",\"type\":\"Toolbar\"},{\"attributes\":{\"line_alpha\":0.1,\"line_color\":\"#1f77b4\",\"line_width\":2,\"x\":{\"field\":\"x\"},\"y\":{\"field\":\"y\"}},\"id\":\"2714\",\"type\":\"Line\"},{\"attributes\":{},\"id\":\"2646\",\"type\":\"PanTool\"},{\"attributes\":{\"formatter\":{\"id\":\"2666\",\"type\":\"BasicTickFormatter\"},\"ticker\":{\"id\":\"2642\",\"type\":\"BasicTicker\"}},\"id\":\"2641\",\"type\":\"LinearAxis\"},{\"attributes\":{},\"id\":\"2668\",\"type\":\"DatetimeTickFormatter\"},{\"attributes\":{\"days\":[1,15]},\"id\":\"2677\",\"type\":\"DaysTicker\"},{\"attributes\":{\"dimensions\":\"width\"},\"id\":\"2648\",\"type\":\"WheelZoomTool\"},{\"attributes\":{},\"id\":\"2666\",\"type\":\"BasicTickFormatter\"},{\"attributes\":{\"text\":\"Irradiance (W/m^2)\"},\"id\":\"2626\",\"type\":\"Title\"},{\"attributes\":{\"source\":{\"id\":\"2659\",\"type\":\"ColumnDataSource\"}},\"id\":\"2663\",\"type\":\"CDSView\"},{\"attributes\":{\"source\":{\"id\":\"2712\",\"type\":\"ColumnDataSource\"}},\"id\":\"2716\",\"type\":\"CDSView\"},{\"attributes\":{\"line_color\":\"#ff7f0e\",\"line_width\":2,\"x\":{\"field\":\"x\"},\"y\":{\"field\":\"y\"}},\"id\":\"2686\",\"type\":\"Line\"},{\"attributes\":{\"label\":{\"value\":\"dni\"},\"renderers\":[{\"id\":\"2688\",\"type\":\"GlyphRenderer\"}]},\"id\":\"2711\",\"type\":\"LegendItem\"},{\"attributes\":{\"days\":[1,2,3,4,5,6,7,8,9,10,11,12,13,14,15,16,17,18,19,20,21,22,23,24,25,26,27,28,29,30,31]},\"id\":\"2674\",\"type\":\"DaysTicker\"},{\"attributes\":{\"base\":24,\"mantissas\":[1,2,4,6,8,12],\"max_interval\":43200000.0,\"min_interval\":3600000.0,\"num_minor_ticks\":0},\"id\":\"2673\",\"type\":\"AdaptiveTicker\"},{\"attributes\":{\"ticker\":{\"id\":\"2637\",\"type\":\"DatetimeTicker\"}},\"id\":\"2640\",\"type\":\"Grid\"},{\"attributes\":{},\"id\":\"2696\",\"type\":\"UnionRenderers\"},{\"attributes\":{\"line_color\":\"#1f77b4\",\"line_width\":2,\"x\":{\"field\":\"x\"},\"y\":{\"field\":\"y\"}},\"id\":\"2660\",\"type\":\"Line\"},{\"attributes\":{\"data_source\":{\"id\":\"2659\",\"type\":\"ColumnDataSource\"},\"glyph\":{\"id\":\"2660\",\"type\":\"Line\"},\"hover_glyph\":null,\"muted_glyph\":null,\"nonselection_glyph\":{\"id\":\"2661\",\"type\":\"Line\"},\"selection_glyph\":null,\"view\":{\"id\":\"2663\",\"type\":\"CDSView\"}},\"id\":\"2662\",\"type\":\"GlyphRenderer\"},{\"attributes\":{\"items\":[{\"id\":\"2684\",\"type\":\"LegendItem\"},{\"id\":\"2711\",\"type\":\"LegendItem\"},{\"id\":\"2740\",\"type\":\"LegendItem\"}]},\"id\":\"2683\",\"type\":\"Legend\"},{\"attributes\":{},\"id\":\"2725\",\"type\":\"UnionRenderers\"},{\"attributes\":{\"overlay\":{\"id\":\"2669\",\"type\":\"BoxAnnotation\"}},\"id\":\"2647\",\"type\":\"BoxZoomTool\"},{\"attributes\":{\"bottom_units\":\"screen\",\"fill_alpha\":{\"value\":0.5},\"fill_color\":{\"value\":\"lightgrey\"},\"left_units\":\"screen\",\"level\":\"overlay\",\"line_alpha\":{\"value\":1.0},\"line_color\":{\"value\":\"black\"},\"line_dash\":[4,4],\"line_width\":{\"value\":2},\"render_mode\":\"css\",\"right_units\":\"screen\",\"top_units\":\"screen\"},\"id\":\"2670\",\"type\":\"BoxAnnotation\"},{\"attributes\":{\"axis_label\":\"Time (UTC)\",\"formatter\":{\"id\":\"2668\",\"type\":\"DatetimeTickFormatter\"},\"ticker\":{\"id\":\"2637\",\"type\":\"DatetimeTicker\"}},\"id\":\"2636\",\"type\":\"DatetimeAxis\"},{\"attributes\":{\"line_alpha\":0.1,\"line_color\":\"#1f77b4\",\"line_width\":2,\"x\":{\"field\":\"x\"},\"y\":{\"field\":\"y\"}},\"id\":\"2687\",\"type\":\"Line\"},{\"attributes\":{\"label\":{\"value\":\"ghi\"},\"renderers\":[{\"id\":\"2662\",\"type\":\"GlyphRenderer\"}]},\"id\":\"2684\",\"type\":\"LegendItem\"},{\"attributes\":{},\"id\":\"2695\",\"type\":\"Selection\"}],\"root_ids\":[\"2625\"]},\"title\":\"Bokeh Application\",\"version\":\"1.1.0\"}};\n",
       "  var render_items = [{\"docid\":\"196f0a44-54b7-4581-8ae4-92b5101548d6\",\"roots\":{\"2625\":\"6b9f4933-f75a-4f4b-ba22-75ffb86061a9\"}}];\n",
       "  root.Bokeh.embed.embed_items_notebook(docs_json, render_items);\n",
       "\n",
       "  }\n",
       "  if (root.Bokeh !== undefined) {\n",
       "    embed_document(root);\n",
       "  } else {\n",
       "    var attempts = 0;\n",
       "    var timer = setInterval(function(root) {\n",
       "      if (root.Bokeh !== undefined) {\n",
       "        embed_document(root);\n",
       "        clearInterval(timer);\n",
       "      }\n",
       "      attempts++;\n",
       "      if (attempts > 100) {\n",
       "        console.log(\"Bokeh: ERROR: Unable to run BokehJS code because BokehJS library is missing\");\n",
       "        clearInterval(timer);\n",
       "      }\n",
       "    }, 10, root)\n",
       "  }\n",
       "})(window);"
      ],
      "application/vnd.bokehjs_exec.v0+json": ""
     },
     "metadata": {
      "application/vnd.bokehjs_exec.v0+json": {
       "id": "2625"
      }
     },
     "output_type": "display_data"
    }
   ],
   "source": [
    "fig = figure(title=\"Irradiance (W/m^2)\", tools=TOOLS, x_axis_type=\"datetime\", plot_width=800, plot_height=400)\n",
    "palette = iter(PALETTE)\n",
    "for irrad, name in zip((ghi, dni, dhi), ('ghi', 'dni', 'dhi')):\n",
    "    resampled = resampler(irrad)\n",
    "    fig.line(resampled.index, resampled, legend=name, color=next(palette), line_width=2)\n",
    "fig.xaxis.axis_label = 'Time (UTC)'\n",
    "show(fig)"
   ]
  },
  {
   "cell_type": "code",
   "execution_count": 13,
   "metadata": {},
   "outputs": [
    {
     "data": {
      "text/html": [
       "\n",
       "\n",
       "\n",
       "\n",
       "\n",
       "\n",
       "  <div class=\"bk-root\" id=\"fe811c53-5d19-4981-bbc9-e8ccee7bbe12\" data-root-id=\"3048\"></div>\n"
      ]
     },
     "metadata": {},
     "output_type": "display_data"
    },
    {
     "data": {
      "application/javascript": [
       "(function(root) {\n",
       "  function embed_document(root) {\n",
       "    \n",
       "  var docs_json = {\"0cfb392d-b522-4674-9096-5a034a77ffb6\":{\"roots\":{\"references\":[{\"attributes\":{\"below\":[{\"id\":\"3059\",\"type\":\"DatetimeAxis\"}],\"center\":[{\"id\":\"3063\",\"type\":\"Grid\"},{\"id\":\"3068\",\"type\":\"Grid\"},{\"id\":\"3106\",\"type\":\"Legend\"}],\"left\":[{\"id\":\"3064\",\"type\":\"LinearAxis\"}],\"plot_height\":400,\"plot_width\":800,\"renderers\":[{\"id\":\"3085\",\"type\":\"GlyphRenderer\"},{\"id\":\"3111\",\"type\":\"GlyphRenderer\"},{\"id\":\"3137\",\"type\":\"GlyphRenderer\"},{\"id\":\"3166\",\"type\":\"GlyphRenderer\"},{\"id\":\"3196\",\"type\":\"GlyphRenderer\"},{\"id\":\"3229\",\"type\":\"GlyphRenderer\"}],\"title\":{\"id\":\"3049\",\"type\":\"Title\"},\"toolbar\":{\"id\":\"3075\",\"type\":\"Toolbar\"},\"x_range\":{\"id\":\"3051\",\"type\":\"DataRange1d\"},\"x_scale\":{\"id\":\"3055\",\"type\":\"LinearScale\"},\"y_range\":{\"id\":\"3053\",\"type\":\"DataRange1d\"},\"y_scale\":{\"id\":\"3057\",\"type\":\"LinearScale\"}},\"id\":\"3048\",\"subtype\":\"Figure\",\"type\":\"Plot\"},{\"attributes\":{\"source\":{\"id\":\"3193\",\"type\":\"ColumnDataSource\"}},\"id\":\"3197\",\"type\":\"CDSView\"},{\"attributes\":{},\"id\":\"3209\",\"type\":\"Selection\"},{\"attributes\":{},\"id\":\"3073\",\"type\":\"SaveTool\"},{\"attributes\":{\"line_alpha\":0.1,\"line_color\":\"#1f77b4\",\"line_width\":2,\"x\":{\"field\":\"x\"},\"y\":{\"field\":\"y\"}},\"id\":\"3195\",\"type\":\"Line\"},{\"attributes\":{\"dimensions\":\"width\"},\"id\":\"3071\",\"type\":\"WheelZoomTool\"},{\"attributes\":{},\"id\":\"3210\",\"type\":\"UnionRenderers\"},{\"attributes\":{\"label\":{\"value\":\"dhi\"},\"renderers\":[{\"id\":\"3196\",\"type\":\"GlyphRenderer\"},{\"id\":\"3229\",\"type\":\"GlyphRenderer\"}]},\"id\":\"3225\",\"type\":\"LegendItem\"},{\"attributes\":{\"axis_label\":\"Time (UTC)\",\"formatter\":{\"id\":\"3091\",\"type\":\"DatetimeTickFormatter\"},\"ticker\":{\"id\":\"3060\",\"type\":\"DatetimeTicker\"}},\"id\":\"3059\",\"type\":\"DatetimeAxis\"},{\"attributes\":{\"callback\":null,\"data\":{\"x\":{\"__ndarray__\":\"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\",\"dtype\":\"float64\",\"shape\":[853]},\"y\":{\"__ndarray__\":\"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\",\"dtype\":\"float64\",\"shape\":[853]}},\"selected\":{\"id\":\"3432\",\"type\":\"Selection\"},\"selection_policy\":{\"id\":\"3433\",\"type\":\"UnionRenderers\"}},\"id\":\"3226\",\"type\":\"ColumnDataSource\"},{\"attributes\":{\"overlay\":{\"id\":\"3092\",\"type\":\"BoxAnnotation\"}},\"id\":\"3070\",\"type\":\"BoxZoomTool\"},{\"attributes\":{\"line_color\":\"#2ca02c\",\"line_width\":2,\"x\":{\"field\":\"x\"},\"y\":{\"field\":\"y\"}},\"id\":\"3227\",\"type\":\"Line\"},{\"attributes\":{\"months\":[0,6]},\"id\":\"3104\",\"type\":\"MonthsTicker\"},{\"attributes\":{\"line_alpha\":0.1,\"line_color\":\"#1f77b4\",\"line_width\":2,\"x\":{\"field\":\"x\"},\"y\":{\"field\":\"y\"}},\"id\":\"3228\",\"type\":\"Line\"},{\"attributes\":{},\"id\":\"3069\",\"type\":\"PanTool\"},{\"attributes\":{\"months\":[0,1,2,3,4,5,6,7,8,9,10,11]},\"id\":\"3101\",\"type\":\"MonthsTicker\"},{\"attributes\":{\"data_source\":{\"id\":\"3226\",\"type\":\"ColumnDataSource\"},\"glyph\":{\"id\":\"3227\",\"type\":\"Line\"},\"hover_glyph\":null,\"muted_glyph\":null,\"nonselection_glyph\":{\"id\":\"3228\",\"type\":\"Line\"},\"selection_glyph\":null,\"view\":{\"id\":\"3230\",\"type\":\"CDSView\"}},\"id\":\"3229\",\"type\":\"GlyphRenderer\"},{\"attributes\":{\"source\":{\"id\":\"3226\",\"type\":\"ColumnDataSource\"}},\"id\":\"3230\",\"type\":\"CDSView\"},{\"attributes\":{},\"id\":\"3091\",\"type\":\"DatetimeTickFormatter\"},{\"attributes\":{\"days\":[1,2,3,4,5,6,7,8,9,10,11,12,13,14,15,16,17,18,19,20,21,22,23,24,25,26,27,28,29,30,31]},\"id\":\"3097\",\"type\":\"DaysTicker\"},{\"attributes\":{\"source\":{\"id\":\"3082\",\"type\":\"ColumnDataSource\"}},\"id\":\"3086\",\"type\":\"CDSView\"},{\"attributes\":{},\"id\":\"3244\",\"type\":\"Selection\"},{\"attributes\":{},\"id\":\"3245\",\"type\":\"UnionRenderers\"},{\"attributes\":{\"base\":24,\"mantissas\":[1,2,4,6,8,12],\"max_interval\":43200000.0,\"min_interval\":3600000.0,\"num_minor_ticks\":0},\"id\":\"3096\",\"type\":\"AdaptiveTicker\"},{\"attributes\":{\"months\":[0,4,8]},\"id\":\"3103\",\"type\":\"MonthsTicker\"},{\"attributes\":{\"data_source\":{\"id\":\"3082\",\"type\":\"ColumnDataSource\"},\"glyph\":{\"id\":\"3083\",\"type\":\"Line\"},\"hover_glyph\":null,\"muted_glyph\":null,\"nonselection_glyph\":{\"id\":\"3084\",\"type\":\"Line\"},\"selection_glyph\":null,\"view\":{\"id\":\"3086\",\"type\":\"CDSView\"}},\"id\":\"3085\",\"type\":\"GlyphRenderer\"},{\"attributes\":{},\"id\":\"3433\",\"type\":\"UnionRenderers\"},{\"attributes\":{\"callback\":null,\"overlay\":{\"id\":\"3093\",\"type\":\"BoxAnnotation\"}},\"id\":\"3074\",\"type\":\"BoxSelectTool\"},{\"attributes\":{},\"id\":\"3089\",\"type\":\"BasicTickFormatter\"},{\"attributes\":{\"line_color\":\"#1f77b4\",\"line_width\":2,\"x\":{\"field\":\"x\"},\"y\":{\"field\":\"y\"}},\"id\":\"3083\",\"type\":\"Line\"},{\"attributes\":{},\"id\":\"3105\",\"type\":\"YearsTicker\"},{\"attributes\":{\"days\":[1,15]},\"id\":\"3100\",\"type\":\"DaysTicker\"},{\"attributes\":{\"active_drag\":\"auto\",\"active_inspect\":\"auto\",\"active_multi\":null,\"active_scroll\":\"auto\",\"active_tap\":\"auto\",\"tools\":[{\"id\":\"3069\",\"type\":\"PanTool\"},{\"id\":\"3070\",\"type\":\"BoxZoomTool\"},{\"id\":\"3071\",\"type\":\"WheelZoomTool\"},{\"id\":\"3072\",\"type\":\"ResetTool\"},{\"id\":\"3073\",\"type\":\"SaveTool\"},{\"id\":\"3074\",\"type\":\"BoxSelectTool\"}]},\"id\":\"3075\",\"type\":\"Toolbar\"},{\"attributes\":{},\"id\":\"3057\",\"type\":\"LinearScale\"},{\"attributes\":{\"line_alpha\":0.1,\"line_color\":\"#1f77b4\",\"line_width\":2,\"x\":{\"field\":\"x\"},\"y\":{\"field\":\"y\"}},\"id\":\"3084\",\"type\":\"Line\"},{\"attributes\":{},\"id\":\"3072\",\"type\":\"ResetTool\"},{\"attributes\":{\"days\":[1,8,15,22]},\"id\":\"3099\",\"type\":\"DaysTicker\"},{\"attributes\":{\"months\":[0,2,4,6,8,10]},\"id\":\"3102\",\"type\":\"MonthsTicker\"},{\"attributes\":{\"days\":[1,4,7,10,13,16,19,22,25,28]},\"id\":\"3098\",\"type\":\"DaysTicker\"},{\"attributes\":{\"callback\":null,\"data\":{\"x\":{\"__ndarray__\":\"AAAoDZCrdkIAABB8k6t2QgAA+OqWq3ZCAADgWZqrdkIAAMjInat2QgAAsDehq3ZCAACYpqSrdkIAAIAVqKt2QgAAaISrq3ZCAABQ866rdkIAADhisqt2QgAAING1q3ZCAAAIQLmrdkIAAPCuvKt2QgAA2B3Aq3ZCAADAjMOrdkIAAKj7xqt2QgAAkGrKq3ZCAAB42c2rdkIAAGBI0at2QgAASLfUq3ZCAAAwJtirdkIAABiV26t2QgAAAATfq3ZCAADocuKrdkIAANDh5at2QgAAuFDpq3ZCAACgv+yrdkIAAIgu8Kt2QgAAcJ3zq3ZCAABYDPerdkIAAEB7+qt2QgAAKOr9q3ZCAAAQWQGsdkIAAPjHBKx2QgAA4DYIrHZCAADIpQusdkIAALAUD6x2QgAAmIMSrHZCAACA8hWsdkIAAGhhGax2QgAAUNAcrHZCAAA4PyCsdkIAACCuI6x2QgAACB0nrHZCAADwiyqsdkIAANj6Lax2QgAAwGkxrHZCAACo2DSsdkIAAJBHOKx2QgAAeLY7rHZCAABgJT+sdkIAAEiUQqx2QgAAMANGrHZCAAAYckmsdkIAAADhTKx2QgAA6E9QrHZCAADQvlOsdkIAALgtV6x2QgAAoJxarHZCAACIC16sdkIAAHB6Yax2QgAAWOlkrHZCAABAWGisdkIAACjHa6x2QgAAEDZvrHZCAAD4pHKsdkIAAOATdqx2QgAAyIJ5rHZCAACw8XysdkIAAJhggKx2QgAAgM+DrHZC\",\"dtype\":\"float64\",\"shape\":[72]},\"y\":{\"__ndarray__\":\"HQ98uHkAVEBUutISyBnfPwAAAAAAAAAAAAAAAAAAAAAAAAAAAAAAAAAAAAAAAAAAAAAAAAAAAAAAAAAAAAAAAAAAAAAAAAAAAAAAAAAAAAAAAAAAAAAAAFXEgrTZdhZAAv+509T5YED5VLdoUq12QOgd8VvBSYJAWOrGOpdEiECvMGZj/suMQA3yWZetio9AU1ptSPT/jUABRVyBWruHQMLKOtM2LoBAVETFi1KwckB8vE7r7hlvQLQ0hXX8PmpAAPdQnrqBT0DQs9FtDhjaPwAAAAAAAAAAAAAAAAAAAAAAAAAAAAAAAAAAAAAAAAAAAAAAAAAAAAAAAAAAAAAAAAAAAAAAAAAAAAAAAAAAAAAAAAAAAAAAAPQJMj+syw1Anb9g+kaqUkDYtmN+8yZmQL+uJDsp/m5A7zJh9jhockBLfcfhqmt2QJeGLa+FA4VApP8ZehYMkEDX6ICNEj2PQCNNCOHhDIxA2K0jTr6bhkDYKtPLq+B9QImQDuoDNWtA1HQVh9sHSkCw02s8WlbaPwAAAAAAAAAAAAAAAAAAAAAAAAAAAAAAAAAAAAAAAAAAAAAAAAAAAAAAAAAAAAAAAAAAAAAAAAAAAAAAAAAAAAAAAAAAAAAAAEXO8POz3RhAZQrKX3fXYEBHA5RWlyd1QPdR+u0TjXtAX2KayPP+gUD97sZDXeKKQEcsUkP4Po9A7qA7kIErkEAdzxLAnhOPQHHpaIOC4ItAiCPXpKz4hkDt5wyf0LmAQAih+Oei8XlA\",\"dtype\":\"float64\",\"shape\":[72]}},\"selected\":{\"id\":\"3118\",\"type\":\"Selection\"},\"selection_policy\":{\"id\":\"3119\",\"type\":\"UnionRenderers\"}},\"id\":\"3082\",\"type\":\"ColumnDataSource\"},{\"attributes\":{\"text\":\"Irradiance (W/m^2)\"},\"id\":\"3049\",\"type\":\"Title\"},{\"attributes\":{},\"id\":\"3118\",\"type\":\"Selection\"},{\"attributes\":{\"label\":{\"value\":\"ghi\"},\"renderers\":[{\"id\":\"3085\",\"type\":\"GlyphRenderer\"},{\"id\":\"3111\",\"type\":\"GlyphRenderer\"}]},\"id\":\"3107\",\"type\":\"LegendItem\"},{\"attributes\":{\"line_alpha\":0.1,\"line_color\":\"#1f77b4\",\"line_width\":2,\"x\":{\"field\":\"x\"},\"y\":{\"field\":\"y\"}},\"id\":\"3110\",\"type\":\"Line\"},{\"attributes\":{\"data_source\":{\"id\":\"3108\",\"type\":\"ColumnDataSource\"},\"glyph\":{\"id\":\"3109\",\"type\":\"Line\"},\"hover_glyph\":null,\"muted_glyph\":null,\"nonselection_glyph\":{\"id\":\"3110\",\"type\":\"Line\"},\"selection_glyph\":null,\"view\":{\"id\":\"3112\",\"type\":\"CDSView\"}},\"id\":\"3111\",\"type\":\"GlyphRenderer\"},{\"attributes\":{\"line_color\":\"#ff7f0e\",\"line_width\":2,\"x\":{\"field\":\"x\"},\"y\":{\"field\":\"y\"}},\"id\":\"3135\",\"type\":\"Line\"},{\"attributes\":{},\"id\":\"3119\",\"type\":\"UnionRenderers\"},{\"attributes\":{\"callback\":null,\"data\":{\"x\":{\"__ndarray__\":\"AAAoDZCrdkIAABB8k6t2QgAA+OqWq3ZCAADgWZqrdkIAAMjInat2QgAAsDehq3ZCAACYpqSrdkIAAIAVqKt2QgAAaISrq3ZCAABQ866rdkIAADhisqt2QgAAING1q3ZCAAAIQLmrdkIAAPCuvKt2QgAA2B3Aq3ZCAADAjMOrdkIAAKj7xqt2QgAAkGrKq3ZCAAB42c2rdkIAAGBI0at2QgAASLfUq3ZCAAAwJtirdkIAABiV26t2QgAAAATfq3ZCAADocuKrdkIAANDh5at2QgAAuFDpq3ZCAACgv+yrdkIAAIgu8Kt2QgAAcJ3zq3ZCAABYDPerdkIAAEB7+qt2QgAAKOr9q3ZCAAAQWQGsdkIAAPjHBKx2QgAA4DYIrHZCAADIpQusdkIAALAUD6x2QgAAmIMSrHZCAACA8hWsdkIAAGhhGax2QgAAUNAcrHZCAAA4PyCsdkIAACCuI6x2QgAACB0nrHZCAADwiyqsdkIAANj6Lax2QgAAwGkxrHZCAACo2DSsdkIAAJBHOKx2QgAAeLY7rHZCAABgJT+sdkIAAEiUQqx2QgAAMANGrHZCAAAYckmsdkIAAADhTKx2QgAA6E9QrHZCAADQvlOsdkIAALgtV6x2QgAAoJxarHZCAACIC16sdkIAAHB6Yax2QgAAWOlkrHZCAABAWGisdkIAACjHa6x2QgAAEDZvrHZCAAD4pHKsdkIAAOATdqx2QgAAyIJ5rHZCAACw8XysdkIAAJhggKx2QgAAgM+DrHZC\",\"dtype\":\"float64\",\"shape\":[72]},\"y\":{\"__ndarray__\":\"cxq1DCfxV0AAAAAAAAAAAAAAAAAAAAAAAAAAAAAAAAAAAAAAAAAAAAAAAAAAAAAAAAAAAAAAAAAAAAAAAAAAAAAAAAAAAAAAAAAAAAAAAAAAAAAAAAAAAA3gd+opa/c/HPztYvsvbUBRz042cX+DQDFvOOP5qYhAD5CKBFOhikBDnb7gPGuLQKfUUdk0uotAyXnRdGiziEDFtd3i0Tt9QKuMaLlzEmRA9BbtNCNxO0DNg5sH3SlLQM3XHsbz22BAeB9yNjc5P0AAAAAAAAAAAAAAAAAAAAAAAAAAAAAAAAAAAAAAAAAAAAAAAAAAAAAAAAAAAAAAAAAAAAAAAAAAAAAAAAAAAAAAAAAAAAAAAAAAAAAAAAAAAKGV4rXZC+I/yXGAyb51LEC4IxsV5mA/QGvfwXZkTDpADzFPoc7YMUDFOAadvb82QIWi+xNBTXVAcBvz+DqYi0Dl+D4sUtGLQAtwxVUyeotAQWL9hBKdiUDtJycg/62BQJ+6q/nf92NAjX8oJ0flJkAAAAAAAAAAAAAAAAAAAAAAAAAAAAAAAAAAAAAAAAAAAAAAAAAAAAAAAAAAAAAAAAAAAAAAAAAAAAAAAAAAAAAAAAAAAAAAAAAAAAAAAAAAAMfoWaiGIP0/V7YnRMFhakA/HNfU/FF/QJH4M7vkMHZAZWaMPwCxd0ApWQG+HleIQKmCYk2GZItA1BKmZgHGi0D7R2Nx3KeLQOwMXMCkQ4tADHMAy7BJikDN07ZtlNaHQHy1geKSXIVA\",\"dtype\":\"float64\",\"shape\":[72]}},\"selected\":{\"id\":\"3177\",\"type\":\"Selection\"},\"selection_policy\":{\"id\":\"3178\",\"type\":\"UnionRenderers\"}},\"id\":\"3134\",\"type\":\"ColumnDataSource\"},{\"attributes\":{\"line_alpha\":0.1,\"line_color\":\"#1f77b4\",\"line_width\":2,\"x\":{\"field\":\"x\"},\"y\":{\"field\":\"y\"}},\"id\":\"3136\",\"type\":\"Line\"},{\"attributes\":{\"data_source\":{\"id\":\"3134\",\"type\":\"ColumnDataSource\"},\"glyph\":{\"id\":\"3135\",\"type\":\"Line\"},\"hover_glyph\":null,\"muted_glyph\":null,\"nonselection_glyph\":{\"id\":\"3136\",\"type\":\"Line\"},\"selection_glyph\":null,\"view\":{\"id\":\"3138\",\"type\":\"CDSView\"}},\"id\":\"3137\",\"type\":\"GlyphRenderer\"},{\"attributes\":{\"items\":[{\"id\":\"3107\",\"type\":\"LegendItem\"},{\"id\":\"3162\",\"type\":\"LegendItem\"},{\"id\":\"3225\",\"type\":\"LegendItem\"}]},\"id\":\"3106\",\"type\":\"Legend\"},{\"attributes\":{\"source\":{\"id\":\"3108\",\"type\":\"ColumnDataSource\"}},\"id\":\"3112\",\"type\":\"CDSView\"},{\"attributes\":{},\"id\":\"3146\",\"type\":\"Selection\"},{\"attributes\":{},\"id\":\"3432\",\"type\":\"Selection\"},{\"attributes\":{\"line_color\":\"#1f77b4\",\"line_width\":2,\"x\":{\"field\":\"x\"},\"y\":{\"field\":\"y\"}},\"id\":\"3109\",\"type\":\"Line\"},{\"attributes\":{\"source\":{\"id\":\"3134\",\"type\":\"ColumnDataSource\"}},\"id\":\"3138\",\"type\":\"CDSView\"},{\"attributes\":{\"callback\":null},\"id\":\"3051\",\"type\":\"DataRange1d\"},{\"attributes\":{\"bottom_units\":\"screen\",\"fill_alpha\":{\"value\":0.5},\"fill_color\":{\"value\":\"lightgrey\"},\"left_units\":\"screen\",\"level\":\"overlay\",\"line_alpha\":{\"value\":1.0},\"line_color\":{\"value\":\"black\"},\"line_dash\":[4,4],\"line_width\":{\"value\":2},\"render_mode\":\"css\",\"right_units\":\"screen\",\"top_units\":\"screen\"},\"id\":\"3092\",\"type\":\"BoxAnnotation\"},{\"attributes\":{\"num_minor_ticks\":5,\"tickers\":[{\"id\":\"3094\",\"type\":\"AdaptiveTicker\"},{\"id\":\"3095\",\"type\":\"AdaptiveTicker\"},{\"id\":\"3096\",\"type\":\"AdaptiveTicker\"},{\"id\":\"3097\",\"type\":\"DaysTicker\"},{\"id\":\"3098\",\"type\":\"DaysTicker\"},{\"id\":\"3099\",\"type\":\"DaysTicker\"},{\"id\":\"3100\",\"type\":\"DaysTicker\"},{\"id\":\"3101\",\"type\":\"MonthsTicker\"},{\"id\":\"3102\",\"type\":\"MonthsTicker\"},{\"id\":\"3103\",\"type\":\"MonthsTicker\"},{\"id\":\"3104\",\"type\":\"MonthsTicker\"},{\"id\":\"3105\",\"type\":\"YearsTicker\"}]},\"id\":\"3060\",\"type\":\"DatetimeTicker\"},{\"attributes\":{\"bottom_units\":\"screen\",\"fill_alpha\":{\"value\":0.5},\"fill_color\":{\"value\":\"lightgrey\"},\"left_units\":\"screen\",\"level\":\"overlay\",\"line_alpha\":{\"value\":1.0},\"line_color\":{\"value\":\"black\"},\"line_dash\":[4,4],\"line_width\":{\"value\":2},\"render_mode\":\"css\",\"right_units\":\"screen\",\"top_units\":\"screen\"},\"id\":\"3093\",\"type\":\"BoxAnnotation\"},{\"attributes\":{},\"id\":\"3147\",\"type\":\"UnionRenderers\"},{\"attributes\":{\"label\":{\"value\":\"dni\"},\"renderers\":[{\"id\":\"3137\",\"type\":\"GlyphRenderer\"},{\"id\":\"3166\",\"type\":\"GlyphRenderer\"}]},\"id\":\"3162\",\"type\":\"LegendItem\"},{\"attributes\":{\"callback\":null,\"data\":{\"x\":{\"__ndarray__\":\"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\",\"dtype\":\"float64\",\"shape\":[853]},\"y\":{\"__ndarray__\":\"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\",\"dtype\":\"float64\",\"shape\":[853]}},\"selected\":{\"id\":\"3209\",\"type\":\"Selection\"},\"selection_policy\":{\"id\":\"3210\",\"type\":\"UnionRenderers\"}},\"id\":\"3163\",\"type\":\"ColumnDataSource\"},{\"attributes\":{\"ticker\":{\"id\":\"3060\",\"type\":\"DatetimeTicker\"}},\"id\":\"3063\",\"type\":\"Grid\"},{\"attributes\":{\"line_color\":\"#ff7f0e\",\"line_width\":2,\"x\":{\"field\":\"x\"},\"y\":{\"field\":\"y\"}},\"id\":\"3164\",\"type\":\"Line\"},{\"attributes\":{\"line_alpha\":0.1,\"line_color\":\"#1f77b4\",\"line_width\":2,\"x\":{\"field\":\"x\"},\"y\":{\"field\":\"y\"}},\"id\":\"3165\",\"type\":\"Line\"},{\"attributes\":{\"data_source\":{\"id\":\"3163\",\"type\":\"ColumnDataSource\"},\"glyph\":{\"id\":\"3164\",\"type\":\"Line\"},\"hover_glyph\":null,\"muted_glyph\":null,\"nonselection_glyph\":{\"id\":\"3165\",\"type\":\"Line\"},\"selection_glyph\":null,\"view\":{\"id\":\"3167\",\"type\":\"CDSView\"}},\"id\":\"3166\",\"type\":\"GlyphRenderer\"},{\"attributes\":{\"source\":{\"id\":\"3163\",\"type\":\"ColumnDataSource\"}},\"id\":\"3167\",\"type\":\"CDSView\"},{\"attributes\":{},\"id\":\"3055\",\"type\":\"LinearScale\"},{\"attributes\":{\"callback\":null,\"data\":{\"x\":{\"__ndarray__\":\"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\",\"dtype\":\"float64\",\"shape\":[853]},\"y\":{\"__ndarray__\":\"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\",\"dtype\":\"float64\",\"shape\":[853]}},\"selected\":{\"id\":\"3146\",\"type\":\"Selection\"},\"selection_policy\":{\"id\":\"3147\",\"type\":\"UnionRenderers\"}},\"id\":\"3108\",\"type\":\"ColumnDataSource\"},{\"attributes\":{},\"id\":\"3177\",\"type\":\"Selection\"},{\"attributes\":{\"base\":60,\"mantissas\":[1,2,5,10,15,20,30],\"max_interval\":1800000.0,\"min_interval\":1000.0,\"num_minor_ticks\":0},\"id\":\"3095\",\"type\":\"AdaptiveTicker\"},{\"attributes\":{\"formatter\":{\"id\":\"3089\",\"type\":\"BasicTickFormatter\"},\"ticker\":{\"id\":\"3065\",\"type\":\"BasicTicker\"}},\"id\":\"3064\",\"type\":\"LinearAxis\"},{\"attributes\":{},\"id\":\"3178\",\"type\":\"UnionRenderers\"},{\"attributes\":{\"data_source\":{\"id\":\"3193\",\"type\":\"ColumnDataSource\"},\"glyph\":{\"id\":\"3194\",\"type\":\"Line\"},\"hover_glyph\":null,\"muted_glyph\":null,\"nonselection_glyph\":{\"id\":\"3195\",\"type\":\"Line\"},\"selection_glyph\":null,\"view\":{\"id\":\"3197\",\"type\":\"CDSView\"}},\"id\":\"3196\",\"type\":\"GlyphRenderer\"},{\"attributes\":{\"mantissas\":[1,2,5],\"max_interval\":500.0,\"num_minor_ticks\":0},\"id\":\"3094\",\"type\":\"AdaptiveTicker\"},{\"attributes\":{\"dimension\":1,\"ticker\":{\"id\":\"3065\",\"type\":\"BasicTicker\"}},\"id\":\"3068\",\"type\":\"Grid\"},{\"attributes\":{\"callback\":null},\"id\":\"3053\",\"type\":\"DataRange1d\"},{\"attributes\":{\"callback\":null,\"data\":{\"x\":{\"__ndarray__\":\"AAAoDZCrdkIAABB8k6t2QgAA+OqWq3ZCAADgWZqrdkIAAMjInat2QgAAsDehq3ZCAACYpqSrdkIAAIAVqKt2QgAAaISrq3ZCAABQ866rdkIAADhisqt2QgAAING1q3ZCAAAIQLmrdkIAAPCuvKt2QgAA2B3Aq3ZCAADAjMOrdkIAAKj7xqt2QgAAkGrKq3ZCAAB42c2rdkIAAGBI0at2QgAASLfUq3ZCAAAwJtirdkIAABiV26t2QgAAAATfq3ZCAADocuKrdkIAANDh5at2QgAAuFDpq3ZCAACgv+yrdkIAAIgu8Kt2QgAAcJ3zq3ZCAABYDPerdkIAAEB7+qt2QgAAKOr9q3ZCAAAQWQGsdkIAAPjHBKx2QgAA4DYIrHZCAADIpQusdkIAALAUD6x2QgAAmIMSrHZCAACA8hWsdkIAAGhhGax2QgAAUNAcrHZCAAA4PyCsdkIAACCuI6x2QgAACB0nrHZCAADwiyqsdkIAANj6Lax2QgAAwGkxrHZCAACo2DSsdkIAAJBHOKx2QgAAeLY7rHZCAABgJT+sdkIAAEiUQqx2QgAAMANGrHZCAAAYckmsdkIAAADhTKx2QgAA6E9QrHZCAADQvlOsdkIAALgtV6x2QgAAoJxarHZCAACIC16sdkIAAHB6Yax2QgAAWOlkrHZCAABAWGisdkIAACjHa6x2QgAAEDZvrHZCAAD4pHKsdkIAAOATdqx2QgAAyIJ5rHZCAACw8XysdkIAAJhggKx2QgAAgM+DrHZC\",\"dtype\":\"float64\",\"shape\":[72]},\"y\":{\"__ndarray__\":\"w1uNhTSiTkBUutISyBnfPwAAAAAAAAAAAAAAAAAAAAAAAAAAAAAAAAAAAAAAAAAAAAAAAAAAAAAAAAAAAAAAAAAAAAAAAAAAAAAAAAAAAAAAAAAAAAAAAPTRN/1X/xVAfqL6+rk9VEDrCvbY25NaQFjfRusFtVxAQW/3UxCOYEDJw5mHCANjQMsTgHaBx2RAZV5GFRsUaECBhQSvp/dzQPx7OFGnsHdASZaaTZ9qcUA0Psh3UqJrQJ5wBEyZJGRAwBT3RaVeTEDQs9FtDhjaPwAAAAAAAAAAAAAAAAAAAAAAAAAAAAAAAAAAAAAAAAAAAAAAAAAAAAAAAAAAAAAAAAAAAAAAAAAAAAAAAAAAAAAAAAAAAAAAACgZndj2cw1A2orgfjLbUUDQ6wsChYdkQCEDI4gGFG1AIEh7utWOcUDEfzRE7it1QKmlvaopjXVArMq9WM8jZUB8eL7Kip5kQAlIKtpXimJANUJGmRWFYED3lFtrdPljQCBOdKfRamNAGRXifdPsSECw02s8WlbaPwAAAAAAAAAAAAAAAAAAAAAAAAAAAAAAAAAAAAAAAAAAAAAAAAAAAAAAAAAAAAAAAAAAAAAAAAAAAAAAAAAAAAAAAAAAAAAAADV8UTCSSBhAH31ArmcmVUCBSE2EAYxgQIgtVCQtVW1A295mmnilcUDrgfzhKcxlQAedDrBAqGRAlyCMMMRTZUD/7VnlYXdkQHEhKdU4d2JAX2WcLDPzX0CYDjCyQwBcQLMlY3do01pA\",\"dtype\":\"float64\",\"shape\":[72]}},\"selected\":{\"id\":\"3244\",\"type\":\"Selection\"},\"selection_policy\":{\"id\":\"3245\",\"type\":\"UnionRenderers\"}},\"id\":\"3193\",\"type\":\"ColumnDataSource\"},{\"attributes\":{},\"id\":\"3065\",\"type\":\"BasicTicker\"},{\"attributes\":{\"line_color\":\"#2ca02c\",\"line_width\":2,\"x\":{\"field\":\"x\"},\"y\":{\"field\":\"y\"}},\"id\":\"3194\",\"type\":\"Line\"}],\"root_ids\":[\"3048\"]},\"title\":\"Bokeh Application\",\"version\":\"1.1.0\"}};\n",
       "  var render_items = [{\"docid\":\"0cfb392d-b522-4674-9096-5a034a77ffb6\",\"roots\":{\"3048\":\"fe811c53-5d19-4981-bbc9-e8ccee7bbe12\"}}];\n",
       "  root.Bokeh.embed.embed_items_notebook(docs_json, render_items);\n",
       "\n",
       "  }\n",
       "  if (root.Bokeh !== undefined) {\n",
       "    embed_document(root);\n",
       "  } else {\n",
       "    var attempts = 0;\n",
       "    var timer = setInterval(function(root) {\n",
       "      if (root.Bokeh !== undefined) {\n",
       "        embed_document(root);\n",
       "        clearInterval(timer);\n",
       "      }\n",
       "      attempts++;\n",
       "      if (attempts > 100) {\n",
       "        console.log(\"Bokeh: ERROR: Unable to run BokehJS code because BokehJS library is missing\");\n",
       "        clearInterval(timer);\n",
       "      }\n",
       "    }, 10, root)\n",
       "  }\n",
       "})(window);"
      ],
      "application/vnd.bokehjs_exec.v0+json": ""
     },
     "metadata": {
      "application/vnd.bokehjs_exec.v0+json": {
       "id": "3048"
      }
     },
     "output_type": "display_data"
    }
   ],
   "source": [
    "ghi, dni, dhi, air_temperature, wind_speed, resampler, solpos_func = models.gfs_quarter_deg_hourly_to_hourly_mean(\n",
    "    latitude, longitude, elevation, init_time, start, end, load_forecast=load_forecast)\n",
    "\n",
    "fig = figure(title=\"Irradiance (W/m^2)\", tools=TOOLS, x_axis_type=\"datetime\", plot_width=800, plot_height=400)\n",
    "palette = iter(PALETTE)\n",
    "for irrad, name in zip((ghi, dni, dhi), ('ghi', 'dni', 'dhi')):\n",
    "    resampled = resampler(irrad)\n",
    "    color = next(palette)\n",
    "    fig.line(resampled.index, resampled, legend=name, color=color, line_width=2)\n",
    "    fig.line(irrad.index, irrad, legend=name, color=color, line_width=2)\n",
    "fig.xaxis.axis_label = 'Time (UTC)'\n",
    "show(fig)"
   ]
  },
  {
   "cell_type": "code",
   "execution_count": 14,
   "metadata": {},
   "outputs": [],
   "source": [
    "forecast = datamodel.Forecast(\n",
    "    name='NWP fx', \n",
    "    issue_time_of_day=datetime.time(0),  # 0Z\n",
    "    lead_time_to_start=pd.Timedelta('1hr'),\n",
    "    interval_length=pd.Timedelta('1hr'),\n",
    "    run_length=pd.Timedelta('24hr'),\n",
    "    interval_label='ending',\n",
    "    interval_value_type='mean',\n",
    "    variable='ghi',\n",
    "    site=site\n",
    ")"
   ]
  },
  {
   "cell_type": "markdown",
   "metadata": {},
   "source": [
    "## Persistence forecasts"
   ]
  },
  {
   "cell_type": "code",
   "execution_count": 15,
   "metadata": {},
   "outputs": [],
   "source": [
    "from solarforecastarbiter.reference_forecasts import persistence"
   ]
  }
 ],
 "metadata": {
  "kernelspec": {
   "display_name": "Python 3",
   "language": "python",
   "name": "python3"
  },
  "language_info": {
   "codemirror_mode": {
    "name": "ipython",
    "version": 3
   },
   "file_extension": ".py",
   "mimetype": "text/x-python",
   "name": "python",
   "nbconvert_exporter": "python",
   "pygments_lexer": "ipython3",
   "version": "3.7.3"
  }
 },
 "nbformat": 4,
 "nbformat_minor": 2
}
