{
 "cells": [
  {
   "cell_type": "markdown",
   "metadata": {},
   "source": [
    "# Reference Forecasts\n",
    "\n",
    "This [Jupyter notebook](https://jupyter.org) is designed to introduce you to the [Solar Forecast Arbiter's](https://solarforecastarbiter.org/) built-in reference forecast capabilities. It is divided into 2 sections:\n",
    "\n",
    "1. [NWP-based forecasts](#NWP-based-forecasts)\n",
    "2. [Persistence forecasts](#persistence-forecasts)\n",
    "\n",
    "The API documentation is available [here](https://solarforecastarbiter-core.readthedocs.io/en/latest/reference_forecasts.html).\n",
    "\n",
    "Click the \">| Run\" button in the toolbar above or type shift-enter to run the code in each cell. The help menu contains a brief User Interface Tour."
   ]
  },
  {
   "cell_type": "code",
   "execution_count": 1,
   "metadata": {},
   "outputs": [
    {
     "data": {
      "text/html": [
       "\n",
       "    <div class=\"bk-root\">\n",
       "        <a href=\"https://bokeh.pydata.org\" target=\"_blank\" class=\"bk-logo bk-logo-small bk-logo-notebook\"></a>\n",
       "        <span id=\"1001\">Loading BokehJS ...</span>\n",
       "    </div>"
      ]
     },
     "metadata": {},
     "output_type": "display_data"
    },
    {
     "data": {
      "application/javascript": [
       "\n",
       "(function(root) {\n",
       "  function now() {\n",
       "    return new Date();\n",
       "  }\n",
       "\n",
       "  var force = true;\n",
       "\n",
       "  if (typeof root._bokeh_onload_callbacks === \"undefined\" || force === true) {\n",
       "    root._bokeh_onload_callbacks = [];\n",
       "    root._bokeh_is_loading = undefined;\n",
       "  }\n",
       "\n",
       "  var JS_MIME_TYPE = 'application/javascript';\n",
       "  var HTML_MIME_TYPE = 'text/html';\n",
       "  var EXEC_MIME_TYPE = 'application/vnd.bokehjs_exec.v0+json';\n",
       "  var CLASS_NAME = 'output_bokeh rendered_html';\n",
       "\n",
       "  /**\n",
       "   * Render data to the DOM node\n",
       "   */\n",
       "  function render(props, node) {\n",
       "    var script = document.createElement(\"script\");\n",
       "    node.appendChild(script);\n",
       "  }\n",
       "\n",
       "  /**\n",
       "   * Handle when an output is cleared or removed\n",
       "   */\n",
       "  function handleClearOutput(event, handle) {\n",
       "    var cell = handle.cell;\n",
       "\n",
       "    var id = cell.output_area._bokeh_element_id;\n",
       "    var server_id = cell.output_area._bokeh_server_id;\n",
       "    // Clean up Bokeh references\n",
       "    if (id != null && id in Bokeh.index) {\n",
       "      Bokeh.index[id].model.document.clear();\n",
       "      delete Bokeh.index[id];\n",
       "    }\n",
       "\n",
       "    if (server_id !== undefined) {\n",
       "      // Clean up Bokeh references\n",
       "      var cmd = \"from bokeh.io.state import curstate; print(curstate().uuid_to_server['\" + server_id + \"'].get_sessions()[0].document.roots[0]._id)\";\n",
       "      cell.notebook.kernel.execute(cmd, {\n",
       "        iopub: {\n",
       "          output: function(msg) {\n",
       "            var id = msg.content.text.trim();\n",
       "            if (id in Bokeh.index) {\n",
       "              Bokeh.index[id].model.document.clear();\n",
       "              delete Bokeh.index[id];\n",
       "            }\n",
       "          }\n",
       "        }\n",
       "      });\n",
       "      // Destroy server and session\n",
       "      var cmd = \"import bokeh.io.notebook as ion; ion.destroy_server('\" + server_id + \"')\";\n",
       "      cell.notebook.kernel.execute(cmd);\n",
       "    }\n",
       "  }\n",
       "\n",
       "  /**\n",
       "   * Handle when a new output is added\n",
       "   */\n",
       "  function handleAddOutput(event, handle) {\n",
       "    var output_area = handle.output_area;\n",
       "    var output = handle.output;\n",
       "\n",
       "    // limit handleAddOutput to display_data with EXEC_MIME_TYPE content only\n",
       "    if ((output.output_type != \"display_data\") || (!output.data.hasOwnProperty(EXEC_MIME_TYPE))) {\n",
       "      return\n",
       "    }\n",
       "\n",
       "    var toinsert = output_area.element.find(\".\" + CLASS_NAME.split(' ')[0]);\n",
       "\n",
       "    if (output.metadata[EXEC_MIME_TYPE][\"id\"] !== undefined) {\n",
       "      toinsert[toinsert.length - 1].firstChild.textContent = output.data[JS_MIME_TYPE];\n",
       "      // store reference to embed id on output_area\n",
       "      output_area._bokeh_element_id = output.metadata[EXEC_MIME_TYPE][\"id\"];\n",
       "    }\n",
       "    if (output.metadata[EXEC_MIME_TYPE][\"server_id\"] !== undefined) {\n",
       "      var bk_div = document.createElement(\"div\");\n",
       "      bk_div.innerHTML = output.data[HTML_MIME_TYPE];\n",
       "      var script_attrs = bk_div.children[0].attributes;\n",
       "      for (var i = 0; i < script_attrs.length; i++) {\n",
       "        toinsert[toinsert.length - 1].firstChild.setAttribute(script_attrs[i].name, script_attrs[i].value);\n",
       "      }\n",
       "      // store reference to server id on output_area\n",
       "      output_area._bokeh_server_id = output.metadata[EXEC_MIME_TYPE][\"server_id\"];\n",
       "    }\n",
       "  }\n",
       "\n",
       "  function register_renderer(events, OutputArea) {\n",
       "\n",
       "    function append_mime(data, metadata, element) {\n",
       "      // create a DOM node to render to\n",
       "      var toinsert = this.create_output_subarea(\n",
       "        metadata,\n",
       "        CLASS_NAME,\n",
       "        EXEC_MIME_TYPE\n",
       "      );\n",
       "      this.keyboard_manager.register_events(toinsert);\n",
       "      // Render to node\n",
       "      var props = {data: data, metadata: metadata[EXEC_MIME_TYPE]};\n",
       "      render(props, toinsert[toinsert.length - 1]);\n",
       "      element.append(toinsert);\n",
       "      return toinsert\n",
       "    }\n",
       "\n",
       "    /* Handle when an output is cleared or removed */\n",
       "    events.on('clear_output.CodeCell', handleClearOutput);\n",
       "    events.on('delete.Cell', handleClearOutput);\n",
       "\n",
       "    /* Handle when a new output is added */\n",
       "    events.on('output_added.OutputArea', handleAddOutput);\n",
       "\n",
       "    /**\n",
       "     * Register the mime type and append_mime function with output_area\n",
       "     */\n",
       "    OutputArea.prototype.register_mime_type(EXEC_MIME_TYPE, append_mime, {\n",
       "      /* Is output safe? */\n",
       "      safe: true,\n",
       "      /* Index of renderer in `output_area.display_order` */\n",
       "      index: 0\n",
       "    });\n",
       "  }\n",
       "\n",
       "  // register the mime type if in Jupyter Notebook environment and previously unregistered\n",
       "  if (root.Jupyter !== undefined) {\n",
       "    var events = require('base/js/events');\n",
       "    var OutputArea = require('notebook/js/outputarea').OutputArea;\n",
       "\n",
       "    if (OutputArea.prototype.mime_types().indexOf(EXEC_MIME_TYPE) == -1) {\n",
       "      register_renderer(events, OutputArea);\n",
       "    }\n",
       "  }\n",
       "\n",
       "  \n",
       "  if (typeof (root._bokeh_timeout) === \"undefined\" || force === true) {\n",
       "    root._bokeh_timeout = Date.now() + 5000;\n",
       "    root._bokeh_failed_load = false;\n",
       "  }\n",
       "\n",
       "  var NB_LOAD_WARNING = {'data': {'text/html':\n",
       "     \"<div style='background-color: #fdd'>\\n\"+\n",
       "     \"<p>\\n\"+\n",
       "     \"BokehJS does not appear to have successfully loaded. If loading BokehJS from CDN, this \\n\"+\n",
       "     \"may be due to a slow or bad network connection. Possible fixes:\\n\"+\n",
       "     \"</p>\\n\"+\n",
       "     \"<ul>\\n\"+\n",
       "     \"<li>re-rerun `output_notebook()` to attempt to load from CDN again, or</li>\\n\"+\n",
       "     \"<li>use INLINE resources instead, as so:</li>\\n\"+\n",
       "     \"</ul>\\n\"+\n",
       "     \"<code>\\n\"+\n",
       "     \"from bokeh.resources import INLINE\\n\"+\n",
       "     \"output_notebook(resources=INLINE)\\n\"+\n",
       "     \"</code>\\n\"+\n",
       "     \"</div>\"}};\n",
       "\n",
       "  function display_loaded() {\n",
       "    var el = document.getElementById(\"1001\");\n",
       "    if (el != null) {\n",
       "      el.textContent = \"BokehJS is loading...\";\n",
       "    }\n",
       "    if (root.Bokeh !== undefined) {\n",
       "      if (el != null) {\n",
       "        el.textContent = \"BokehJS \" + root.Bokeh.version + \" successfully loaded.\";\n",
       "      }\n",
       "    } else if (Date.now() < root._bokeh_timeout) {\n",
       "      setTimeout(display_loaded, 100)\n",
       "    }\n",
       "  }\n",
       "\n",
       "\n",
       "  function run_callbacks() {\n",
       "    try {\n",
       "      root._bokeh_onload_callbacks.forEach(function(callback) {\n",
       "        if (callback != null)\n",
       "          callback();\n",
       "      });\n",
       "    } finally {\n",
       "      delete root._bokeh_onload_callbacks\n",
       "    }\n",
       "    console.debug(\"Bokeh: all callbacks have finished\");\n",
       "  }\n",
       "\n",
       "  function load_libs(css_urls, js_urls, callback) {\n",
       "    if (css_urls == null) css_urls = [];\n",
       "    if (js_urls == null) js_urls = [];\n",
       "\n",
       "    root._bokeh_onload_callbacks.push(callback);\n",
       "    if (root._bokeh_is_loading > 0) {\n",
       "      console.debug(\"Bokeh: BokehJS is being loaded, scheduling callback at\", now());\n",
       "      return null;\n",
       "    }\n",
       "    if (js_urls == null || js_urls.length === 0) {\n",
       "      run_callbacks();\n",
       "      return null;\n",
       "    }\n",
       "    console.debug(\"Bokeh: BokehJS not loaded, scheduling load and callback at\", now());\n",
       "    root._bokeh_is_loading = css_urls.length + js_urls.length;\n",
       "\n",
       "    function on_load() {\n",
       "      root._bokeh_is_loading--;\n",
       "      if (root._bokeh_is_loading === 0) {\n",
       "        console.debug(\"Bokeh: all BokehJS libraries/stylesheets loaded\");\n",
       "        run_callbacks()\n",
       "      }\n",
       "    }\n",
       "\n",
       "    function on_error() {\n",
       "      console.error(\"failed to load \" + url);\n",
       "    }\n",
       "\n",
       "    for (var i = 0; i < css_urls.length; i++) {\n",
       "      var url = css_urls[i];\n",
       "      const element = document.createElement(\"link\");\n",
       "      element.onload = on_load;\n",
       "      element.onerror = on_error;\n",
       "      element.rel = \"stylesheet\";\n",
       "      element.type = \"text/css\";\n",
       "      element.href = url;\n",
       "      console.debug(\"Bokeh: injecting link tag for BokehJS stylesheet: \", url);\n",
       "      document.body.appendChild(element);\n",
       "    }\n",
       "\n",
       "    for (var i = 0; i < js_urls.length; i++) {\n",
       "      var url = js_urls[i];\n",
       "      var element = document.createElement('script');\n",
       "      element.onload = on_load;\n",
       "      element.onerror = on_error;\n",
       "      element.async = false;\n",
       "      element.src = url;\n",
       "      console.debug(\"Bokeh: injecting script tag for BokehJS library: \", url);\n",
       "      document.head.appendChild(element);\n",
       "    }\n",
       "  };var element = document.getElementById(\"1001\");\n",
       "  if (element == null) {\n",
       "    console.error(\"Bokeh: ERROR: autoload.js configured with elementid '1001' but no matching script tag was found. \")\n",
       "    return false;\n",
       "  }\n",
       "\n",
       "  function inject_raw_css(css) {\n",
       "    const element = document.createElement(\"style\");\n",
       "    element.appendChild(document.createTextNode(css));\n",
       "    document.body.appendChild(element);\n",
       "  }\n",
       "\n",
       "  var js_urls = [\"https://cdn.pydata.org/bokeh/release/bokeh-1.2.0.min.js\", \"https://cdn.pydata.org/bokeh/release/bokeh-widgets-1.2.0.min.js\", \"https://cdn.pydata.org/bokeh/release/bokeh-tables-1.2.0.min.js\", \"https://cdn.pydata.org/bokeh/release/bokeh-gl-1.2.0.min.js\"];\n",
       "  var css_urls = [\"https://cdn.pydata.org/bokeh/release/bokeh-1.2.0.min.css\", \"https://cdn.pydata.org/bokeh/release/bokeh-widgets-1.2.0.min.css\", \"https://cdn.pydata.org/bokeh/release/bokeh-tables-1.2.0.min.css\"];\n",
       "\n",
       "  var inline_js = [\n",
       "    function(Bokeh) {\n",
       "      Bokeh.set_log_level(\"info\");\n",
       "    },\n",
       "    \n",
       "    function(Bokeh) {\n",
       "      \n",
       "    },\n",
       "    function(Bokeh) {} // ensure no trailing comma for IE\n",
       "  ];\n",
       "\n",
       "  function run_inline_js() {\n",
       "    \n",
       "    if ((root.Bokeh !== undefined) || (force === true)) {\n",
       "      for (var i = 0; i < inline_js.length; i++) {\n",
       "        inline_js[i].call(root, root.Bokeh);\n",
       "      }if (force === true) {\n",
       "        display_loaded();\n",
       "      }} else if (Date.now() < root._bokeh_timeout) {\n",
       "      setTimeout(run_inline_js, 100);\n",
       "    } else if (!root._bokeh_failed_load) {\n",
       "      console.log(\"Bokeh: BokehJS failed to load within specified timeout.\");\n",
       "      root._bokeh_failed_load = true;\n",
       "    } else if (force !== true) {\n",
       "      var cell = $(document.getElementById(\"1001\")).parents('.cell').data().cell;\n",
       "      cell.output_area.append_execute_result(NB_LOAD_WARNING)\n",
       "    }\n",
       "\n",
       "  }\n",
       "\n",
       "  if (root._bokeh_is_loading === 0) {\n",
       "    console.debug(\"Bokeh: BokehJS loaded, going straight to plotting\");\n",
       "    run_inline_js();\n",
       "  } else {\n",
       "    load_libs(css_urls, js_urls, function() {\n",
       "      console.debug(\"Bokeh: BokehJS plotting callback run at\", now());\n",
       "      run_inline_js();\n",
       "    });\n",
       "  }\n",
       "}(window));"
      ],
      "application/vnd.bokehjs_load.v0+json": "\n(function(root) {\n  function now() {\n    return new Date();\n  }\n\n  var force = true;\n\n  if (typeof root._bokeh_onload_callbacks === \"undefined\" || force === true) {\n    root._bokeh_onload_callbacks = [];\n    root._bokeh_is_loading = undefined;\n  }\n\n  \n\n  \n  if (typeof (root._bokeh_timeout) === \"undefined\" || force === true) {\n    root._bokeh_timeout = Date.now() + 5000;\n    root._bokeh_failed_load = false;\n  }\n\n  var NB_LOAD_WARNING = {'data': {'text/html':\n     \"<div style='background-color: #fdd'>\\n\"+\n     \"<p>\\n\"+\n     \"BokehJS does not appear to have successfully loaded. If loading BokehJS from CDN, this \\n\"+\n     \"may be due to a slow or bad network connection. Possible fixes:\\n\"+\n     \"</p>\\n\"+\n     \"<ul>\\n\"+\n     \"<li>re-rerun `output_notebook()` to attempt to load from CDN again, or</li>\\n\"+\n     \"<li>use INLINE resources instead, as so:</li>\\n\"+\n     \"</ul>\\n\"+\n     \"<code>\\n\"+\n     \"from bokeh.resources import INLINE\\n\"+\n     \"output_notebook(resources=INLINE)\\n\"+\n     \"</code>\\n\"+\n     \"</div>\"}};\n\n  function display_loaded() {\n    var el = document.getElementById(\"1001\");\n    if (el != null) {\n      el.textContent = \"BokehJS is loading...\";\n    }\n    if (root.Bokeh !== undefined) {\n      if (el != null) {\n        el.textContent = \"BokehJS \" + root.Bokeh.version + \" successfully loaded.\";\n      }\n    } else if (Date.now() < root._bokeh_timeout) {\n      setTimeout(display_loaded, 100)\n    }\n  }\n\n\n  function run_callbacks() {\n    try {\n      root._bokeh_onload_callbacks.forEach(function(callback) {\n        if (callback != null)\n          callback();\n      });\n    } finally {\n      delete root._bokeh_onload_callbacks\n    }\n    console.debug(\"Bokeh: all callbacks have finished\");\n  }\n\n  function load_libs(css_urls, js_urls, callback) {\n    if (css_urls == null) css_urls = [];\n    if (js_urls == null) js_urls = [];\n\n    root._bokeh_onload_callbacks.push(callback);\n    if (root._bokeh_is_loading > 0) {\n      console.debug(\"Bokeh: BokehJS is being loaded, scheduling callback at\", now());\n      return null;\n    }\n    if (js_urls == null || js_urls.length === 0) {\n      run_callbacks();\n      return null;\n    }\n    console.debug(\"Bokeh: BokehJS not loaded, scheduling load and callback at\", now());\n    root._bokeh_is_loading = css_urls.length + js_urls.length;\n\n    function on_load() {\n      root._bokeh_is_loading--;\n      if (root._bokeh_is_loading === 0) {\n        console.debug(\"Bokeh: all BokehJS libraries/stylesheets loaded\");\n        run_callbacks()\n      }\n    }\n\n    function on_error() {\n      console.error(\"failed to load \" + url);\n    }\n\n    for (var i = 0; i < css_urls.length; i++) {\n      var url = css_urls[i];\n      const element = document.createElement(\"link\");\n      element.onload = on_load;\n      element.onerror = on_error;\n      element.rel = \"stylesheet\";\n      element.type = \"text/css\";\n      element.href = url;\n      console.debug(\"Bokeh: injecting link tag for BokehJS stylesheet: \", url);\n      document.body.appendChild(element);\n    }\n\n    for (var i = 0; i < js_urls.length; i++) {\n      var url = js_urls[i];\n      var element = document.createElement('script');\n      element.onload = on_load;\n      element.onerror = on_error;\n      element.async = false;\n      element.src = url;\n      console.debug(\"Bokeh: injecting script tag for BokehJS library: \", url);\n      document.head.appendChild(element);\n    }\n  };var element = document.getElementById(\"1001\");\n  if (element == null) {\n    console.error(\"Bokeh: ERROR: autoload.js configured with elementid '1001' but no matching script tag was found. \")\n    return false;\n  }\n\n  function inject_raw_css(css) {\n    const element = document.createElement(\"style\");\n    element.appendChild(document.createTextNode(css));\n    document.body.appendChild(element);\n  }\n\n  var js_urls = [\"https://cdn.pydata.org/bokeh/release/bokeh-1.2.0.min.js\", \"https://cdn.pydata.org/bokeh/release/bokeh-widgets-1.2.0.min.js\", \"https://cdn.pydata.org/bokeh/release/bokeh-tables-1.2.0.min.js\", \"https://cdn.pydata.org/bokeh/release/bokeh-gl-1.2.0.min.js\"];\n  var css_urls = [\"https://cdn.pydata.org/bokeh/release/bokeh-1.2.0.min.css\", \"https://cdn.pydata.org/bokeh/release/bokeh-widgets-1.2.0.min.css\", \"https://cdn.pydata.org/bokeh/release/bokeh-tables-1.2.0.min.css\"];\n\n  var inline_js = [\n    function(Bokeh) {\n      Bokeh.set_log_level(\"info\");\n    },\n    \n    function(Bokeh) {\n      \n    },\n    function(Bokeh) {} // ensure no trailing comma for IE\n  ];\n\n  function run_inline_js() {\n    \n    if ((root.Bokeh !== undefined) || (force === true)) {\n      for (var i = 0; i < inline_js.length; i++) {\n        inline_js[i].call(root, root.Bokeh);\n      }if (force === true) {\n        display_loaded();\n      }} else if (Date.now() < root._bokeh_timeout) {\n      setTimeout(run_inline_js, 100);\n    } else if (!root._bokeh_failed_load) {\n      console.log(\"Bokeh: BokehJS failed to load within specified timeout.\");\n      root._bokeh_failed_load = true;\n    } else if (force !== true) {\n      var cell = $(document.getElementById(\"1001\")).parents('.cell').data().cell;\n      cell.output_area.append_execute_result(NB_LOAD_WARNING)\n    }\n\n  }\n\n  if (root._bokeh_is_loading === 0) {\n    console.debug(\"Bokeh: BokehJS loaded, going straight to plotting\");\n    run_inline_js();\n  } else {\n    load_libs(css_urls, js_urls, function() {\n      console.debug(\"Bokeh: BokehJS plotting callback run at\", now());\n      run_inline_js();\n    });\n  }\n}(window));"
     },
     "metadata": {},
     "output_type": "display_data"
    }
   ],
   "source": [
    "import datetime\n",
    "from functools import partial\n",
    "from pathlib import Path\n",
    "\n",
    "import numpy as np\n",
    "import pandas as pd\n",
    "\n",
    "from bokeh.core.properties import value\n",
    "from bokeh.io import output_notebook\n",
    "from bokeh.layouts import gridplot\n",
    "from bokeh.models import ColumnDataSource\n",
    "from bokeh.plotting import figure, show\n",
    "from bokeh.palettes import Category10_10 as PALETTE\n",
    "TOOLS = \"pan,box_zoom,xwheel_zoom,reset,save\"\n",
    "output_notebook()"
   ]
  },
  {
   "cell_type": "code",
   "execution_count": 2,
   "metadata": {},
   "outputs": [],
   "source": [
    "from solarforecastarbiter import datamodel"
   ]
  },
  {
   "cell_type": "markdown",
   "metadata": {},
   "source": [
    "## NWP-based forecasts\n",
    "\n",
    "Forecasts based on NWP model data are used for intraday and longer forecasts. The Solar Forecast Arbiter contains a set of functions to process data from NWP forecasts. Here, we explore some of the functionality with an emphasis on obtaining results. See the [NWP section of the documentation](https://solarforecastarbiter-core.readthedocs.io/en/latest/reference_forecasts.html#nwp) for additional information."
   ]
  },
  {
   "cell_type": "markdown",
   "metadata": {},
   "source": [
    "The `solarforecastarbiter` package includes a handful of subsetted NWP model runs for testing. We'll use these for our demonstration below. The models were all initialized at 2019-05-15 00Z and the subsets include about half a degree of latitude and longitude near Tucson, AZ."
   ]
  },
  {
   "cell_type": "code",
   "execution_count": 3,
   "metadata": {},
   "outputs": [],
   "source": [
    "from solarforecastarbiter.io import nwp\n",
    "# find the files\n",
    "base_path = Path(nwp.__file__).resolve().parents[0] / 'tests/data'\n",
    "# define file loading function that knows where to find the files\n",
    "load_forecast = partial(nwp.load_forecast, base_path=base_path)"
   ]
  },
  {
   "cell_type": "code",
   "execution_count": 4,
   "metadata": {},
   "outputs": [],
   "source": [
    "# define coordinates\n",
    "latitude = 32.2\n",
    "longitude = -110.9\n",
    "elevation = 700\n",
    "\n",
    "# define initialization time, forecast start time, forecast end time\n",
    "init_time = pd.Timestamp('20190515T0000Z')\n",
    "start = pd.Timestamp('20190515T0100Z')\n",
    "end = pd.Timestamp('20190518T0000Z')"
   ]
  },
  {
   "cell_type": "markdown",
   "metadata": {},
   "source": [
    "The Solar Forecast Arbiter organizes its metadata and data according to the ideas described in the [data model](https://solarforecastarbiter.org/datamodel/). The `solarforecastarbiter` package implements this data model in `solarforecastarbiter.datamodel`. Here, we define a `Site` object for which to make forecasts."
   ]
  },
  {
   "cell_type": "code",
   "execution_count": 5,
   "metadata": {},
   "outputs": [],
   "source": [
    "# define a Site object\n",
    "site = datamodel.Site(\n",
    "    name='Tucson, AZ',\n",
    "    latitude=latitude,\n",
    "    longitude=longitude,\n",
    "    elevation=elevation,\n",
    "    timezone='America/Phoenix'\n",
    ")"
   ]
  },
  {
   "cell_type": "markdown",
   "metadata": {},
   "source": [
    "Next we select a NWP+post processing model, load and process the data, and plot the processed data.\n",
    "\n",
    "Here we use the subhourly irradiance directly from the HRRR model."
   ]
  },
  {
   "cell_type": "code",
   "execution_count": 6,
   "metadata": {},
   "outputs": [],
   "source": [
    "# import the relevant python modules\n",
    "from solarforecastarbiter.reference_forecasts import main, models\n",
    "\n",
    "# select the model\n",
    "model = models.hrrr_subhourly_to_subhourly_instantaneous\n",
    "\n",
    "# tell the model where to find the NWP data\n",
    "model_wrapped = partial(model, load_forecast=load_forecast)\n",
    "\n",
    "# load and process the NWP data. ac_power is None because site is not a power plant.\n",
    "ghi, dni, dhi, air_temperature, wind_speed, ac_power = main.run(site, model_wrapped, init_time, start, end)"
   ]
  },
  {
   "cell_type": "code",
   "execution_count": 7,
   "metadata": {},
   "outputs": [
    {
     "data": {
      "text/plain": [
       "time\n",
       "2019-05-15 01:00:00+00:00    212.0\n",
       "2019-05-15 01:15:00+00:00    162.0\n",
       "2019-05-15 01:30:00+00:00    104.0\n",
       "2019-05-15 01:45:00+00:00     66.0\n",
       "2019-05-15 02:00:00+00:00     26.0\n",
       "Freq: 15T, Name: ghi, dtype: float32"
      ]
     },
     "execution_count": 7,
     "metadata": {},
     "output_type": "execute_result"
    }
   ],
   "source": [
    "ghi.head()"
   ]
  },
  {
   "cell_type": "markdown",
   "metadata": {},
   "source": [
    "Here's a function that will make a plot of the processed NWP data. The details of the function are not important for this exercise."
   ]
  },
  {
   "cell_type": "code",
   "execution_count": 8,
   "metadata": {},
   "outputs": [],
   "source": [
    "def plot_nwp(ghi, dni, dhi, air_temperature, wind_speed, ac_power):\n",
    "    \"\"\"Make a plot of the variables from processed NWP forecasts\"\"\"\n",
    "    # data prep\n",
    "    if ac_power is None:\n",
    "        ac_power = pd.Series(None, index=ghi.index)\n",
    "    data = dict(zip(('GHI', 'DNI', 'DHI', 'Air temperature', 'Wind speed', 'AC power', 'index'),\n",
    "                    (ghi, dni, dhi, air_temperature, wind_speed, ac_power, ghi.index)))\n",
    "    source = ColumnDataSource(data)\n",
    "\n",
    "    figs = []\n",
    "    fig_kwargs = dict(tools=TOOLS, x_axis_type=\"datetime\", plot_height=200)\n",
    "    palette = iter(PALETTE)\n",
    "    \n",
    "    # irradiance figure\n",
    "    fig1 = figure(**fig_kwargs)\n",
    "    for name in ('GHI', 'DNI', 'DHI'):\n",
    "        fig1.line(x='index', y=name, source=source, legend=value(name), color=next(palette), line_width=2)\n",
    "    fig1.yaxis.axis_label = \"Irradiance (W/m^2)\"\n",
    "    fig1.legend.location = \"top_left\"\n",
    "    figs.append(fig1)\n",
    "\n",
    "    # air temperature figure\n",
    "    fig_kwargs['x_range'] = fig1.x_range  # link x-zoom\n",
    "    fig2 = figure(**fig_kwargs)\n",
    "    fig2.line(x='index', y='Air temperature', source=source, legend=value(\"Air temperature\"), color=next(palette), line_width=2)\n",
    "    fig2.yaxis.axis_label = \"Air temperature (C)\"\n",
    "    fig2.legend.location = \"top_left\"\n",
    "    figs.append(fig2)\n",
    "\n",
    "    # wind speed figure\n",
    "    fig3 = figure(**fig_kwargs)\n",
    "    fig3.line(x='index', y='Wind speed', source=source, legend=value(\"Wind speed\"), color=next(palette), line_width=2)\n",
    "    fig3.yaxis.axis_label = \"Wind speed (m/s)\"\n",
    "    fig3.legend.location = \"top_left\"\n",
    "    figs.append(fig3)\n",
    "\n",
    "    # ac power figure\n",
    "    if not ac_power.dropna().empty:\n",
    "        fig4 = figure(**fig_kwargs)\n",
    "        fig4.line(x='index', y='AC power', source=source, legend=value(\"AC power\"), color=next(palette), line_width=2)\n",
    "        fig4.yaxis.axis_label = \"AC power (MW)\"\n",
    "        fig4.legend.location = \"top_left\"\n",
    "        figs.append(fig4)\n",
    "    \n",
    "    figs[-1].xaxis.axis_label = 'Time (UTC)'\n",
    "\n",
    "    grid = gridplot(figs, ncols=1, plot_width=800)\n",
    "    return grid"
   ]
  },
  {
   "cell_type": "markdown",
   "metadata": {},
   "source": [
    "Use the function to plot the HRRR data."
   ]
  },
  {
   "cell_type": "code",
   "execution_count": 9,
   "metadata": {},
   "outputs": [
    {
     "data": {
      "text/html": [
       "\n",
       "\n",
       "\n",
       "\n",
       "\n",
       "\n",
       "  <div class=\"bk-root\" id=\"c7fba286-ea75-47dc-ac63-6981551903af\" data-root-id=\"1292\"></div>\n"
      ]
     },
     "metadata": {},
     "output_type": "display_data"
    },
    {
     "data": {
      "application/javascript": [
       "(function(root) {\n",
       "  function embed_document(root) {\n",
       "    \n",
       "  var docs_json = {\"bac38722-a196-4497-b8eb-b2dd59a2b9ee\":{\"roots\":{\"references\":[{\"attributes\":{\"children\":[{\"id\":\"1291\",\"type\":\"ToolbarBox\"},{\"id\":\"1289\",\"type\":\"GridBox\"}]},\"id\":\"1292\",\"type\":\"Column\"},{\"attributes\":{\"months\":[0,2,4,6,8,10]},\"id\":\"1053\",\"type\":\"MonthsTicker\"},{\"attributes\":{\"data_source\":{\"id\":\"1002\",\"type\":\"ColumnDataSource\"},\"glyph\":{\"id\":\"1143\",\"type\":\"Line\"},\"hover_glyph\":null,\"muted_glyph\":null,\"nonselection_glyph\":{\"id\":\"1144\",\"type\":\"Line\"},\"selection_glyph\":null,\"view\":{\"id\":\"1146\",\"type\":\"CDSView\"}},\"id\":\"1145\",\"type\":\"GlyphRenderer\"},{\"attributes\":{\"source\":{\"id\":\"1002\",\"type\":\"ColumnDataSource\"}},\"id\":\"1146\",\"type\":\"CDSView\"},{\"attributes\":{\"text\":\"\"},\"id\":\"1147\",\"type\":\"Title\"},{\"attributes\":{\"line_color\":\"#1f77b4\",\"line_width\":2,\"x\":{\"field\":\"index\"},\"y\":{\"field\":\"GHI\"}},\"id\":\"1034\",\"type\":\"Line\"},{\"attributes\":{},\"id\":\"1149\",\"type\":\"BasicTickFormatter\"},{\"attributes\":{},\"id\":\"1151\",\"type\":\"DatetimeTickFormatter\"},{\"attributes\":{\"bottom_units\":\"screen\",\"fill_alpha\":{\"value\":0.5},\"fill_color\":{\"value\":\"lightgrey\"},\"left_units\":\"screen\",\"level\":\"overlay\",\"line_alpha\":{\"value\":1.0},\"line_color\":{\"value\":\"black\"},\"line_dash\":[4,4],\"line_width\":{\"value\":2},\"render_mode\":\"css\",\"right_units\":\"screen\",\"top_units\":\"screen\"},\"id\":\"1153\",\"type\":\"BoxAnnotation\"},{\"attributes\":{\"callback\":null},\"id\":\"1004\",\"type\":\"DataRange1d\"},{\"attributes\":{\"mantissas\":[1,2,5],\"max_interval\":500.0,\"num_minor_ticks\":0},\"id\":\"1154\",\"type\":\"AdaptiveTicker\"},{\"attributes\":{\"base\":60,\"mantissas\":[1,2,5,10,15,20,30],\"max_interval\":1800000.0,\"min_interval\":1000.0,\"num_minor_ticks\":0},\"id\":\"1155\",\"type\":\"AdaptiveTicker\"},{\"attributes\":{\"base\":24,\"mantissas\":[1,2,4,6,8,12],\"max_interval\":43200000.0,\"min_interval\":3600000.0,\"num_minor_ticks\":0},\"id\":\"1156\",\"type\":\"AdaptiveTicker\"},{\"attributes\":{\"days\":[1,2,3,4,5,6,7,8,9,10,11,12,13,14,15,16,17,18,19,20,21,22,23,24,25,26,27,28,29,30,31]},\"id\":\"1157\",\"type\":\"DaysTicker\"},{\"attributes\":{\"days\":[1,4,7,10,13,16,19,22,25,28]},\"id\":\"1158\",\"type\":\"DaysTicker\"},{\"attributes\":{\"days\":[1,8,15,22]},\"id\":\"1159\",\"type\":\"DaysTicker\"},{\"attributes\":{\"days\":[1,15]},\"id\":\"1160\",\"type\":\"DaysTicker\"},{\"attributes\":{\"callback\":null},\"id\":\"1006\",\"type\":\"DataRange1d\"},{\"attributes\":{\"months\":[0,1,2,3,4,5,6,7,8,9,10,11]},\"id\":\"1161\",\"type\":\"MonthsTicker\"},{\"attributes\":{\"months\":[0,2,4,6,8,10]},\"id\":\"1162\",\"type\":\"MonthsTicker\"},{\"attributes\":{\"dimensions\":\"width\"},\"id\":\"1024\",\"type\":\"WheelZoomTool\"},{\"attributes\":{\"below\":[{\"id\":\"1121\",\"type\":\"DatetimeAxis\"}],\"center\":[{\"id\":\"1125\",\"type\":\"Grid\"},{\"id\":\"1130\",\"type\":\"Grid\"},{\"id\":\"1166\",\"type\":\"Legend\"}],\"left\":[{\"id\":\"1126\",\"type\":\"LinearAxis\"}],\"plot_height\":200,\"plot_width\":800,\"renderers\":[{\"id\":\"1145\",\"type\":\"GlyphRenderer\"}],\"title\":{\"id\":\"1147\",\"type\":\"Title\"},\"toolbar\":{\"id\":\"1136\",\"type\":\"Toolbar\"},\"toolbar_location\":null,\"x_range\":{\"id\":\"1004\",\"type\":\"DataRange1d\"},\"x_scale\":{\"id\":\"1117\",\"type\":\"LinearScale\"},\"y_range\":{\"id\":\"1115\",\"type\":\"DataRange1d\"},\"y_scale\":{\"id\":\"1119\",\"type\":\"LinearScale\"}},\"id\":\"1113\",\"subtype\":\"Figure\",\"type\":\"Plot\"},{\"attributes\":{\"months\":[0,4,8]},\"id\":\"1163\",\"type\":\"MonthsTicker\"},{\"attributes\":{\"overlay\":{\"id\":\"1044\",\"type\":\"BoxAnnotation\"}},\"id\":\"1023\",\"type\":\"BoxZoomTool\"},{\"attributes\":{\"active_drag\":\"auto\",\"active_inspect\":\"auto\",\"active_multi\":null,\"active_scroll\":\"auto\",\"active_tap\":\"auto\",\"tools\":[{\"id\":\"1022\",\"type\":\"PanTool\"},{\"id\":\"1023\",\"type\":\"BoxZoomTool\"},{\"id\":\"1024\",\"type\":\"WheelZoomTool\"},{\"id\":\"1025\",\"type\":\"ResetTool\"},{\"id\":\"1026\",\"type\":\"SaveTool\"}]},\"id\":\"1027\",\"type\":\"Toolbar\"},{\"attributes\":{\"months\":[0,6]},\"id\":\"1164\",\"type\":\"MonthsTicker\"},{\"attributes\":{},\"id\":\"1026\",\"type\":\"SaveTool\"},{\"attributes\":{},\"id\":\"1008\",\"type\":\"LinearScale\"},{\"attributes\":{},\"id\":\"1165\",\"type\":\"YearsTicker\"},{\"attributes\":{\"items\":[{\"id\":\"1167\",\"type\":\"LegendItem\"}],\"location\":\"top_left\"},\"id\":\"1166\",\"type\":\"Legend\"},{\"attributes\":{\"below\":[{\"id\":\"1012\",\"type\":\"DatetimeAxis\"}],\"center\":[{\"id\":\"1016\",\"type\":\"Grid\"},{\"id\":\"1021\",\"type\":\"Grid\"},{\"id\":\"1057\",\"type\":\"Legend\"}],\"left\":[{\"id\":\"1017\",\"type\":\"LinearAxis\"}],\"plot_height\":200,\"plot_width\":800,\"renderers\":[{\"id\":\"1036\",\"type\":\"GlyphRenderer\"},{\"id\":\"1062\",\"type\":\"GlyphRenderer\"},{\"id\":\"1089\",\"type\":\"GlyphRenderer\"}],\"title\":{\"id\":\"1038\",\"type\":\"Title\"},\"toolbar\":{\"id\":\"1027\",\"type\":\"Toolbar\"},\"toolbar_location\":null,\"x_range\":{\"id\":\"1004\",\"type\":\"DataRange1d\"},\"x_scale\":{\"id\":\"1008\",\"type\":\"LinearScale\"},\"y_range\":{\"id\":\"1006\",\"type\":\"DataRange1d\"},\"y_scale\":{\"id\":\"1010\",\"type\":\"LinearScale\"}},\"id\":\"1003\",\"subtype\":\"Figure\",\"type\":\"Plot\"},{\"attributes\":{\"source\":{\"id\":\"1002\",\"type\":\"ColumnDataSource\"}},\"id\":\"1037\",\"type\":\"CDSView\"},{\"attributes\":{\"label\":{\"value\":\"Air temperature\"},\"renderers\":[{\"id\":\"1145\",\"type\":\"GlyphRenderer\"}]},\"id\":\"1167\",\"type\":\"LegendItem\"},{\"attributes\":{},\"id\":\"1025\",\"type\":\"ResetTool\"},{\"attributes\":{\"below\":[{\"id\":\"1176\",\"type\":\"DatetimeAxis\"}],\"center\":[{\"id\":\"1180\",\"type\":\"Grid\"},{\"id\":\"1185\",\"type\":\"Grid\"},{\"id\":\"1221\",\"type\":\"Legend\"}],\"left\":[{\"id\":\"1181\",\"type\":\"LinearAxis\"}],\"plot_height\":200,\"plot_width\":800,\"renderers\":[{\"id\":\"1200\",\"type\":\"GlyphRenderer\"}],\"title\":{\"id\":\"1202\",\"type\":\"Title\"},\"toolbar\":{\"id\":\"1191\",\"type\":\"Toolbar\"},\"toolbar_location\":null,\"x_range\":{\"id\":\"1004\",\"type\":\"DataRange1d\"},\"x_scale\":{\"id\":\"1172\",\"type\":\"LinearScale\"},\"y_range\":{\"id\":\"1170\",\"type\":\"DataRange1d\"},\"y_scale\":{\"id\":\"1174\",\"type\":\"LinearScale\"}},\"id\":\"1168\",\"subtype\":\"Figure\",\"type\":\"Plot\"},{\"attributes\":{\"text\":\"\"},\"id\":\"1038\",\"type\":\"Title\"},{\"attributes\":{},\"id\":\"1010\",\"type\":\"LinearScale\"},{\"attributes\":{},\"id\":\"1018\",\"type\":\"BasicTicker\"},{\"attributes\":{\"dimension\":1,\"ticker\":{\"id\":\"1018\",\"type\":\"BasicTicker\"}},\"id\":\"1021\",\"type\":\"Grid\"},{\"attributes\":{\"callback\":null},\"id\":\"1170\",\"type\":\"DataRange1d\"},{\"attributes\":{\"formatter\":{\"id\":\"1042\",\"type\":\"DatetimeTickFormatter\"},\"ticker\":{\"id\":\"1013\",\"type\":\"DatetimeTicker\"}},\"id\":\"1012\",\"type\":\"DatetimeAxis\"},{\"attributes\":{},\"id\":\"1172\",\"type\":\"LinearScale\"},{\"attributes\":{\"num_minor_ticks\":5,\"tickers\":[{\"id\":\"1045\",\"type\":\"AdaptiveTicker\"},{\"id\":\"1046\",\"type\":\"AdaptiveTicker\"},{\"id\":\"1047\",\"type\":\"AdaptiveTicker\"},{\"id\":\"1048\",\"type\":\"DaysTicker\"},{\"id\":\"1049\",\"type\":\"DaysTicker\"},{\"id\":\"1050\",\"type\":\"DaysTicker\"},{\"id\":\"1051\",\"type\":\"DaysTicker\"},{\"id\":\"1052\",\"type\":\"MonthsTicker\"},{\"id\":\"1053\",\"type\":\"MonthsTicker\"},{\"id\":\"1054\",\"type\":\"MonthsTicker\"},{\"id\":\"1055\",\"type\":\"MonthsTicker\"},{\"id\":\"1056\",\"type\":\"YearsTicker\"}]},\"id\":\"1013\",\"type\":\"DatetimeTicker\"},{\"attributes\":{},\"id\":\"1174\",\"type\":\"LinearScale\"},{\"attributes\":{\"ticker\":{\"id\":\"1013\",\"type\":\"DatetimeTicker\"}},\"id\":\"1016\",\"type\":\"Grid\"},{\"attributes\":{\"axis_label\":\"Time (UTC)\",\"formatter\":{\"id\":\"1206\",\"type\":\"DatetimeTickFormatter\"},\"ticker\":{\"id\":\"1177\",\"type\":\"DatetimeTicker\"}},\"id\":\"1176\",\"type\":\"DatetimeAxis\"},{\"attributes\":{},\"id\":\"1042\",\"type\":\"DatetimeTickFormatter\"},{\"attributes\":{},\"id\":\"1022\",\"type\":\"PanTool\"},{\"attributes\":{\"axis_label\":\"Irradiance (W/m^2)\",\"formatter\":{\"id\":\"1040\",\"type\":\"BasicTickFormatter\"},\"ticker\":{\"id\":\"1018\",\"type\":\"BasicTicker\"}},\"id\":\"1017\",\"type\":\"LinearAxis\"},{\"attributes\":{\"num_minor_ticks\":5,\"tickers\":[{\"id\":\"1209\",\"type\":\"AdaptiveTicker\"},{\"id\":\"1210\",\"type\":\"AdaptiveTicker\"},{\"id\":\"1211\",\"type\":\"AdaptiveTicker\"},{\"id\":\"1212\",\"type\":\"DaysTicker\"},{\"id\":\"1213\",\"type\":\"DaysTicker\"},{\"id\":\"1214\",\"type\":\"DaysTicker\"},{\"id\":\"1215\",\"type\":\"DaysTicker\"},{\"id\":\"1216\",\"type\":\"MonthsTicker\"},{\"id\":\"1217\",\"type\":\"MonthsTicker\"},{\"id\":\"1218\",\"type\":\"MonthsTicker\"},{\"id\":\"1219\",\"type\":\"MonthsTicker\"},{\"id\":\"1220\",\"type\":\"YearsTicker\"}]},\"id\":\"1177\",\"type\":\"DatetimeTicker\"},{\"attributes\":{},\"id\":\"1182\",\"type\":\"BasicTicker\"},{\"attributes\":{\"dimension\":1,\"ticker\":{\"id\":\"1182\",\"type\":\"BasicTicker\"}},\"id\":\"1185\",\"type\":\"Grid\"},{\"attributes\":{\"line_color\":\"#9467bd\",\"line_width\":2,\"x\":{\"field\":\"index\"},\"y\":{\"field\":\"Wind speed\"}},\"id\":\"1198\",\"type\":\"Line\"},{\"attributes\":{\"line_alpha\":0.1,\"line_color\":\"#1f77b4\",\"line_width\":2,\"x\":{\"field\":\"index\"},\"y\":{\"field\":\"Wind speed\"}},\"id\":\"1199\",\"type\":\"Line\"},{\"attributes\":{},\"id\":\"1186\",\"type\":\"PanTool\"},{\"attributes\":{\"overlay\":{\"id\":\"1208\",\"type\":\"BoxAnnotation\"}},\"id\":\"1187\",\"type\":\"BoxZoomTool\"},{\"attributes\":{\"dimensions\":\"width\"},\"id\":\"1188\",\"type\":\"WheelZoomTool\"},{\"attributes\":{\"callback\":null,\"data\":{\"AC power\":{\"__ndarray__\":\"AAAAAAAA+H8AAAAAAAD4fwAAAAAAAPh/AAAAAAAA+H8AAAAAAAD4fwAAAAAAAPh/AAAAAAAA+H8AAAAAAAD4fwAAAAAAAPh/AAAAAAAA+H8AAAAAAAD4fwAAAAAAAPh/AAAAAAAA+H8AAAAAAAD4fwAAAAAAAPh/AAAAAAAA+H8AAAAAAAD4fwAAAAAAAPh/AAAAAAAA+H8AAAAAAAD4fwAAAAAAAPh/AAAAAAAA+H8AAAAAAAD4fwAAAAAAAPh/AAAAAAAA+H8AAAAAAAD4fwAAAAAAAPh/AAAAAAAA+H8AAAAAAAD4fwAAAAAAAPh/AAAAAAAA+H8AAAAAAAD4fwAAAAAAAPh/AAAAAAAA+H8AAAAAAAD4fwAAAAAAAPh/AAAAAAAA+H8AAAAAAAD4fwAAAAAAAPh/AAAAAAAA+H8AAAAAAAD4fwAAAAAAAPh/AAAAAAAA+H8AAAAAAAD4fwAAAAAAAPh/AAAAAAAA+H8AAAAAAAD4fwAAAAAAAPh/AAAAAAAA+H8AAAAAAAD4fwAAAAAAAPh/AAAAAAAA+H8AAAAAAAD4fwAAAAAAAPh/AAAAAAAA+H8AAAAAAAD4fwAAAAAAAPh/AAAAAAAA+H8AAAAAAAD4fwAAAAAAAPh/AAAAAAAA+H8AAAAAAAD4fwAAAAAAAPh/AAAAAAAA+H8AAAAAAAD4fwAAAAAAAPh/AAAAAAAA+H8AAAAAAAD4fwAAAAAAAPh/\",\"dtype\":\"float64\",\"shape\":[69]},\"Air temperature\":{\"__ndarray__\":\"0OzCQdCcwEHQnL5B0Cy7QdD8tUHQ/LJB0CyxQdAcr0HQnKxB0FymQdCcn0HQrJtB0CyYQdC8lUHQvJNB0DyRQdAsj0HQrI5B0OyNQdAMjUHQfIxB0HyPQdCcmUHQrJtB0CyfQdBsoUHQrKBB0AygQdDsoEHQ/JpB0AyRQdC8jEHQDIpB0JyIQdA8hkHQfIRB0NyBQaDZfkGgOXhBoLlvQaAZakGgmWVBoPliQaA5X0GgOVxBoBlaQaAZWEGguVlBoPlkQaC5cEHQDIJB0ByNQdCsmUHQzJ1B0HyhQdA8o0HQTKZB0DyqQdDsrUHQ7LBB0By1QdB8ukHQXL9B0GzEQdCsx0HQjMpB0LzMQdDMzkHQLNBB\",\"dtype\":\"float32\",\"shape\":[69]},\"DHI\":{\"__ndarray__\":\"AKCjQgCAXUIAQCVCAAC/QQAABUEAAAAAAAAAAAAAAAAAAAAAAAAAAAAAAAAAAAAAAAAAAAAAAAAAAAAAAAAAAAAAAAAAAAAAAAAAAAAAAAAAAAAAAAAAAAAAAAAAAAAAAAAAAAAAAAAAAAAAAAAAAAAAAAAAAAAAAAAAAAAAAAAAAAAAAAAAAAAAAAAAAAAAAAAAAAAAAAAAAAAAAAAAAAAAAAAAAAAAAAAAAAAAAAAAAAAAAAAAAAAAAAAAgKZBAAD4QQCANEIAQFlCAAB2QgAAh0IAQJBCAACbQgBApkIAwMdCAKC8QgCgsEIAwMVCAADCQgCg1kIAIChDAFA6QwBQEEMAoAJDAMCMQwAwZkMA0DxD\",\"dtype\":\"float32\",\"shape\":[69]},\"DNI\":{\"__ndarray__\":\"AADyQwAA6EMAgI9DAACZQwAAEkMAAAAAAAAAAAAAAAAAAAAAAAAAAAAAAAAAAAAAAAAAAAAAAAAAAAAAAAAAAAAAAAAAAAAAAAAAAAAAAAAAAAAAAAAAAAAAAAAAAAAAAAAAAAAAAAAAAAAAAAAAAAAAAAAAAAAAAAAAAAAAAAAAAAAAAAAAAAAAAAAAAAAAAAAAAAAAAAAAAAAAAAAAAAAAAAAAAAAAAAAAAAAAAAAAAAAAAAAAAAAAAAAAALJCAICFQwCAzEMAQAJEAMAXRACAKEQAwDZEAEBBRAAASEQAgEpEAABSRAAAXEQAgF5EAIBjRACAY0QAAFdEAABSRACAY0QAgGhEAIA7RACAT0QAAFxE\",\"dtype\":\"float32\",\"shape\":[69]},\"GHI\":{\"__ndarray__\":\"AABUQwAAIkMAANBCAACEQgAA0EEAAAAAAAAAAAAAAAAAAAAAAAAAAAAAAAAAAAAAAAAAAAAAAAAAAAAAAAAAAAAAAAAAAAAAAAAAAAAAAAAAAAAAAAAAAAAAAAAAAAAAAAAAAAAAAAAAAAAAAAAAAAAAAAAAAAAAAAAAAAAAAAAAAAAAAAAAAAAAAAAAAAAAAAAAAAAAAAAAAAAAAAAAAAAAAAAAAAAAAAAAAAAAAAAAAAAAAAAAAAAAAAAAAFBBAABIQgAAwEIAABRDAABMQwCAgkMAgKBDAIC9QwCA2kMAAPZDAEAJRABAF0QAQCREAIAxRACAO0QAgEVEAIBPRAAAXEQAAGZEAIBoRACAckQAAHpE\",\"dtype\":\"float32\",\"shape\":[69]},\"Wind speed\":{\"__ndarray__\":\"AIBUQAAAYEAAAGVAAIBxQAAAg0AAgJNAAECKQACAg0AAgGtAAIBIQACAJkAAANw/AACPPwAAcD8AAD4/AAAIPwAAYj8AANE/AAANQACAK0AAAD5AAIBuQADAqEAAgAtBACAGQQAA5kAAgNVAAEC3QAAAk0AAgGtAAIA2QACAJkAAgDRAAIBWQACAQEAAADRAAAAmQACAB0AAAIM/AAC8PgAAjD8AALY/AADAPwAAyT8AAKg/AADcPgAAOD4AAPQ+AAAKPwAAoD8AACw/AAC4PgAAMD8AAI8/AADjPwAA+j8AAOg/AAD0PwCADkAAgBdAAIAXQACAHkAAADxAAABuQABAjEAAgJNAAICUQACAlEAAAI9A\",\"dtype\":\"float32\",\"shape\":[69]},\"index\":{\"__ndarray__\":\"AAAoDZCrdkIAAOLokKt2QgAAnMSRq3ZCAABWoJKrdkIAABB8k6t2QgAAyleUq3ZCAACEM5WrdkIAAD4Plqt2QgAA+OqWq3ZCAACyxperdkIAAGyimKt2QgAAJn6Zq3ZCAADgWZqrdkIAAJo1m6t2QgAAVBGcq3ZCAAAO7ZyrdkIAAMjInat2QgAAgqSeq3ZCAAA8gJ+rdkIAAPZboKt2QgAAsDehq3ZCAABqE6KrdkIAACTvoqt2QgAA3sqjq3ZCAACYpqSrdkIAAFKCpat2QgAADF6mq3ZCAADGOaerdkIAAIAVqKt2QgAAOvGoq3ZCAAD0zKmrdkIAAK6oqqt2QgAAaISrq3ZCAAAiYKyrdkIAANw7rat2QgAAlheuq3ZCAABQ866rdkIAAArPr6t2QgAAxKqwq3ZCAAB+hrGrdkIAADhisqt2QgAA8j2zq3ZCAACsGbSrdkIAAGb1tKt2QgAAING1q3ZCAADarLardkIAAJSIt6t2QgAATmS4q3ZCAAAIQLmrdkIAAMIbuqt2QgAAfPe6q3ZCAAA207urdkIAAPCuvKt2QgAAqoq9q3ZCAABkZr6rdkIAAB5Cv6t2QgAA2B3Aq3ZCAACS+cCrdkIAAEzVwat2QgAABrHCq3ZCAADAjMOrdkIAAHpoxKt2QgAANETFq3ZCAADuH8ardkIAAKj7xqt2QgAAYtfHq3ZCAAAcs8irdkIAANaOyat2QgAAkGrKq3ZC\",\"dtype\":\"float64\",\"shape\":[69]}},\"selected\":{\"id\":\"1083\",\"type\":\"Selection\"},\"selection_policy\":{\"id\":\"1084\",\"type\":\"UnionRenderers\"}},\"id\":\"1002\",\"type\":\"ColumnDataSource\"},{\"attributes\":{},\"id\":\"1189\",\"type\":\"ResetTool\"},{\"attributes\":{\"days\":[1,4,7,10,13,16,19,22,25,28]},\"id\":\"1049\",\"type\":\"DaysTicker\"},{\"attributes\":{\"days\":[1,15]},\"id\":\"1051\",\"type\":\"DaysTicker\"},{\"attributes\":{},\"id\":\"1190\",\"type\":\"SaveTool\"},{\"attributes\":{\"label\":{\"value\":\"DNI\"},\"renderers\":[{\"id\":\"1062\",\"type\":\"GlyphRenderer\"}]},\"id\":\"1085\",\"type\":\"LegendItem\"},{\"attributes\":{\"days\":[1,2,3,4,5,6,7,8,9,10,11,12,13,14,15,16,17,18,19,20,21,22,23,24,25,26,27,28,29,30,31]},\"id\":\"1048\",\"type\":\"DaysTicker\"},{\"attributes\":{\"months\":[0,1,2,3,4,5,6,7,8,9,10,11]},\"id\":\"1052\",\"type\":\"MonthsTicker\"},{\"attributes\":{\"active_drag\":\"auto\",\"active_inspect\":\"auto\",\"active_multi\":null,\"active_scroll\":\"auto\",\"active_tap\":\"auto\",\"tools\":[{\"id\":\"1186\",\"type\":\"PanTool\"},{\"id\":\"1187\",\"type\":\"BoxZoomTool\"},{\"id\":\"1188\",\"type\":\"WheelZoomTool\"},{\"id\":\"1189\",\"type\":\"ResetTool\"},{\"id\":\"1190\",\"type\":\"SaveTool\"}]},\"id\":\"1191\",\"type\":\"Toolbar\"},{\"attributes\":{\"data_source\":{\"id\":\"1002\",\"type\":\"ColumnDataSource\"},\"glyph\":{\"id\":\"1198\",\"type\":\"Line\"},\"hover_glyph\":null,\"muted_glyph\":null,\"nonselection_glyph\":{\"id\":\"1199\",\"type\":\"Line\"},\"selection_glyph\":null,\"view\":{\"id\":\"1201\",\"type\":\"CDSView\"}},\"id\":\"1200\",\"type\":\"GlyphRenderer\"},{\"attributes\":{\"months\":[0,4,8]},\"id\":\"1054\",\"type\":\"MonthsTicker\"},{\"attributes\":{},\"id\":\"1040\",\"type\":\"BasicTickFormatter\"},{\"attributes\":{\"months\":[0,6]},\"id\":\"1055\",\"type\":\"MonthsTicker\"},{\"attributes\":{\"source\":{\"id\":\"1002\",\"type\":\"ColumnDataSource\"}},\"id\":\"1201\",\"type\":\"CDSView\"},{\"attributes\":{},\"id\":\"1056\",\"type\":\"YearsTicker\"},{\"attributes\":{\"text\":\"\"},\"id\":\"1202\",\"type\":\"Title\"},{\"attributes\":{\"items\":[{\"id\":\"1058\",\"type\":\"LegendItem\"},{\"id\":\"1085\",\"type\":\"LegendItem\"},{\"id\":\"1112\",\"type\":\"LegendItem\"}],\"location\":\"top_left\"},\"id\":\"1057\",\"type\":\"Legend\"},{\"attributes\":{},\"id\":\"1204\",\"type\":\"BasicTickFormatter\"},{\"attributes\":{\"label\":{\"value\":\"GHI\"},\"renderers\":[{\"id\":\"1036\",\"type\":\"GlyphRenderer\"}]},\"id\":\"1058\",\"type\":\"LegendItem\"},{\"attributes\":{},\"id\":\"1206\",\"type\":\"DatetimeTickFormatter\"},{\"attributes\":{},\"id\":\"1083\",\"type\":\"Selection\"},{\"attributes\":{\"callback\":null},\"id\":\"1115\",\"type\":\"DataRange1d\"},{\"attributes\":{},\"id\":\"1117\",\"type\":\"LinearScale\"},{\"attributes\":{\"bottom_units\":\"screen\",\"fill_alpha\":{\"value\":0.5},\"fill_color\":{\"value\":\"lightgrey\"},\"left_units\":\"screen\",\"level\":\"overlay\",\"line_alpha\":{\"value\":1.0},\"line_color\":{\"value\":\"black\"},\"line_dash\":[4,4],\"line_width\":{\"value\":2},\"render_mode\":\"css\",\"right_units\":\"screen\",\"top_units\":\"screen\"},\"id\":\"1208\",\"type\":\"BoxAnnotation\"},{\"attributes\":{\"line_color\":\"#ff7f0e\",\"line_width\":2,\"x\":{\"field\":\"index\"},\"y\":{\"field\":\"DNI\"}},\"id\":\"1060\",\"type\":\"Line\"},{\"attributes\":{\"mantissas\":[1,2,5],\"max_interval\":500.0,\"num_minor_ticks\":0},\"id\":\"1209\",\"type\":\"AdaptiveTicker\"},{\"attributes\":{\"line_alpha\":0.1,\"line_color\":\"#1f77b4\",\"line_width\":2,\"x\":{\"field\":\"index\"},\"y\":{\"field\":\"DNI\"}},\"id\":\"1061\",\"type\":\"Line\"},{\"attributes\":{\"data_source\":{\"id\":\"1002\",\"type\":\"ColumnDataSource\"},\"glyph\":{\"id\":\"1060\",\"type\":\"Line\"},\"hover_glyph\":null,\"muted_glyph\":null,\"nonselection_glyph\":{\"id\":\"1061\",\"type\":\"Line\"},\"selection_glyph\":null,\"view\":{\"id\":\"1063\",\"type\":\"CDSView\"}},\"id\":\"1062\",\"type\":\"GlyphRenderer\"},{\"attributes\":{\"base\":60,\"mantissas\":[1,2,5,10,15,20,30],\"max_interval\":1800000.0,\"min_interval\":1000.0,\"num_minor_ticks\":0},\"id\":\"1210\",\"type\":\"AdaptiveTicker\"},{\"attributes\":{\"source\":{\"id\":\"1002\",\"type\":\"ColumnDataSource\"}},\"id\":\"1063\",\"type\":\"CDSView\"},{\"attributes\":{\"base\":24,\"mantissas\":[1,2,4,6,8,12],\"max_interval\":43200000.0,\"min_interval\":3600000.0,\"num_minor_ticks\":0},\"id\":\"1211\",\"type\":\"AdaptiveTicker\"},{\"attributes\":{\"days\":[1,2,3,4,5,6,7,8,9,10,11,12,13,14,15,16,17,18,19,20,21,22,23,24,25,26,27,28,29,30,31]},\"id\":\"1212\",\"type\":\"DaysTicker\"},{\"attributes\":{},\"id\":\"1084\",\"type\":\"UnionRenderers\"},{\"attributes\":{\"days\":[1,4,7,10,13,16,19,22,25,28]},\"id\":\"1213\",\"type\":\"DaysTicker\"},{\"attributes\":{\"days\":[1,8,15,22]},\"id\":\"1214\",\"type\":\"DaysTicker\"},{\"attributes\":{\"axis_label\":\"Wind speed (m/s)\",\"formatter\":{\"id\":\"1204\",\"type\":\"BasicTickFormatter\"},\"ticker\":{\"id\":\"1182\",\"type\":\"BasicTicker\"}},\"id\":\"1181\",\"type\":\"LinearAxis\"},{\"attributes\":{\"days\":[1,15]},\"id\":\"1215\",\"type\":\"DaysTicker\"},{\"attributes\":{\"line_color\":\"#2ca02c\",\"line_width\":2,\"x\":{\"field\":\"index\"},\"y\":{\"field\":\"DHI\"}},\"id\":\"1087\",\"type\":\"Line\"},{\"attributes\":{\"months\":[0,1,2,3,4,5,6,7,8,9,10,11]},\"id\":\"1216\",\"type\":\"MonthsTicker\"},{\"attributes\":{\"line_alpha\":0.1,\"line_color\":\"#1f77b4\",\"line_width\":2,\"x\":{\"field\":\"index\"},\"y\":{\"field\":\"DHI\"}},\"id\":\"1088\",\"type\":\"Line\"},{\"attributes\":{\"months\":[0,2,4,6,8,10]},\"id\":\"1217\",\"type\":\"MonthsTicker\"},{\"attributes\":{\"data_source\":{\"id\":\"1002\",\"type\":\"ColumnDataSource\"},\"glyph\":{\"id\":\"1087\",\"type\":\"Line\"},\"hover_glyph\":null,\"muted_glyph\":null,\"nonselection_glyph\":{\"id\":\"1088\",\"type\":\"Line\"},\"selection_glyph\":null,\"view\":{\"id\":\"1090\",\"type\":\"CDSView\"}},\"id\":\"1089\",\"type\":\"GlyphRenderer\"},{\"attributes\":{\"months\":[0,4,8]},\"id\":\"1218\",\"type\":\"MonthsTicker\"},{\"attributes\":{\"source\":{\"id\":\"1002\",\"type\":\"ColumnDataSource\"}},\"id\":\"1090\",\"type\":\"CDSView\"},{\"attributes\":{\"months\":[0,6]},\"id\":\"1219\",\"type\":\"MonthsTicker\"},{\"attributes\":{},\"id\":\"1220\",\"type\":\"YearsTicker\"},{\"attributes\":{\"mantissas\":[1,2,5],\"max_interval\":500.0,\"num_minor_ticks\":0},\"id\":\"1045\",\"type\":\"AdaptiveTicker\"},{\"attributes\":{},\"id\":\"1119\",\"type\":\"LinearScale\"},{\"attributes\":{\"items\":[{\"id\":\"1222\",\"type\":\"LegendItem\"}],\"location\":\"top_left\"},\"id\":\"1221\",\"type\":\"Legend\"},{\"attributes\":{\"formatter\":{\"id\":\"1151\",\"type\":\"DatetimeTickFormatter\"},\"ticker\":{\"id\":\"1122\",\"type\":\"DatetimeTicker\"}},\"id\":\"1121\",\"type\":\"DatetimeAxis\"},{\"attributes\":{\"label\":{\"value\":\"Wind speed\"},\"renderers\":[{\"id\":\"1200\",\"type\":\"GlyphRenderer\"}]},\"id\":\"1222\",\"type\":\"LegendItem\"},{\"attributes\":{\"label\":{\"value\":\"DHI\"},\"renderers\":[{\"id\":\"1089\",\"type\":\"GlyphRenderer\"}]},\"id\":\"1112\",\"type\":\"LegendItem\"},{\"attributes\":{\"children\":[[{\"id\":\"1003\",\"subtype\":\"Figure\",\"type\":\"Plot\"},0,0],[{\"id\":\"1113\",\"subtype\":\"Figure\",\"type\":\"Plot\"},1,0],[{\"id\":\"1168\",\"subtype\":\"Figure\",\"type\":\"Plot\"},2,0]]},\"id\":\"1289\",\"type\":\"GridBox\"},{\"attributes\":{\"num_minor_ticks\":5,\"tickers\":[{\"id\":\"1154\",\"type\":\"AdaptiveTicker\"},{\"id\":\"1155\",\"type\":\"AdaptiveTicker\"},{\"id\":\"1156\",\"type\":\"AdaptiveTicker\"},{\"id\":\"1157\",\"type\":\"DaysTicker\"},{\"id\":\"1158\",\"type\":\"DaysTicker\"},{\"id\":\"1159\",\"type\":\"DaysTicker\"},{\"id\":\"1160\",\"type\":\"DaysTicker\"},{\"id\":\"1161\",\"type\":\"MonthsTicker\"},{\"id\":\"1162\",\"type\":\"MonthsTicker\"},{\"id\":\"1163\",\"type\":\"MonthsTicker\"},{\"id\":\"1164\",\"type\":\"MonthsTicker\"},{\"id\":\"1165\",\"type\":\"YearsTicker\"}]},\"id\":\"1122\",\"type\":\"DatetimeTicker\"},{\"attributes\":{\"toolbar\":{\"id\":\"1290\",\"type\":\"ProxyToolbar\"},\"toolbar_location\":\"above\"},\"id\":\"1291\",\"type\":\"ToolbarBox\"},{\"attributes\":{\"data_source\":{\"id\":\"1002\",\"type\":\"ColumnDataSource\"},\"glyph\":{\"id\":\"1034\",\"type\":\"Line\"},\"hover_glyph\":null,\"muted_glyph\":null,\"nonselection_glyph\":{\"id\":\"1035\",\"type\":\"Line\"},\"selection_glyph\":null,\"view\":{\"id\":\"1037\",\"type\":\"CDSView\"}},\"id\":\"1036\",\"type\":\"GlyphRenderer\"},{\"attributes\":{\"ticker\":{\"id\":\"1122\",\"type\":\"DatetimeTicker\"}},\"id\":\"1125\",\"type\":\"Grid\"},{\"attributes\":{\"tools\":[{\"id\":\"1022\",\"type\":\"PanTool\"},{\"id\":\"1023\",\"type\":\"BoxZoomTool\"},{\"id\":\"1024\",\"type\":\"WheelZoomTool\"},{\"id\":\"1025\",\"type\":\"ResetTool\"},{\"id\":\"1026\",\"type\":\"SaveTool\"},{\"id\":\"1131\",\"type\":\"PanTool\"},{\"id\":\"1132\",\"type\":\"BoxZoomTool\"},{\"id\":\"1133\",\"type\":\"WheelZoomTool\"},{\"id\":\"1134\",\"type\":\"ResetTool\"},{\"id\":\"1135\",\"type\":\"SaveTool\"},{\"id\":\"1186\",\"type\":\"PanTool\"},{\"id\":\"1187\",\"type\":\"BoxZoomTool\"},{\"id\":\"1188\",\"type\":\"WheelZoomTool\"},{\"id\":\"1189\",\"type\":\"ResetTool\"},{\"id\":\"1190\",\"type\":\"SaveTool\"}]},\"id\":\"1290\",\"type\":\"ProxyToolbar\"},{\"attributes\":{\"axis_label\":\"Air temperature (C)\",\"formatter\":{\"id\":\"1149\",\"type\":\"BasicTickFormatter\"},\"ticker\":{\"id\":\"1127\",\"type\":\"BasicTicker\"}},\"id\":\"1126\",\"type\":\"LinearAxis\"},{\"attributes\":{},\"id\":\"1127\",\"type\":\"BasicTicker\"},{\"attributes\":{\"dimension\":1,\"ticker\":{\"id\":\"1127\",\"type\":\"BasicTicker\"}},\"id\":\"1130\",\"type\":\"Grid\"},{\"attributes\":{\"base\":60,\"mantissas\":[1,2,5,10,15,20,30],\"max_interval\":1800000.0,\"min_interval\":1000.0,\"num_minor_ticks\":0},\"id\":\"1046\",\"type\":\"AdaptiveTicker\"},{\"attributes\":{\"line_color\":\"#d62728\",\"line_width\":2,\"x\":{\"field\":\"index\"},\"y\":{\"field\":\"Air temperature\"}},\"id\":\"1143\",\"type\":\"Line\"},{\"attributes\":{\"ticker\":{\"id\":\"1177\",\"type\":\"DatetimeTicker\"}},\"id\":\"1180\",\"type\":\"Grid\"},{\"attributes\":{\"active_drag\":\"auto\",\"active_inspect\":\"auto\",\"active_multi\":null,\"active_scroll\":\"auto\",\"active_tap\":\"auto\",\"tools\":[{\"id\":\"1131\",\"type\":\"PanTool\"},{\"id\":\"1132\",\"type\":\"BoxZoomTool\"},{\"id\":\"1133\",\"type\":\"WheelZoomTool\"},{\"id\":\"1134\",\"type\":\"ResetTool\"},{\"id\":\"1135\",\"type\":\"SaveTool\"}]},\"id\":\"1136\",\"type\":\"Toolbar\"},{\"attributes\":{},\"id\":\"1131\",\"type\":\"PanTool\"},{\"attributes\":{\"line_alpha\":0.1,\"line_color\":\"#1f77b4\",\"line_width\":2,\"x\":{\"field\":\"index\"},\"y\":{\"field\":\"GHI\"}},\"id\":\"1035\",\"type\":\"Line\"},{\"attributes\":{\"overlay\":{\"id\":\"1153\",\"type\":\"BoxAnnotation\"}},\"id\":\"1132\",\"type\":\"BoxZoomTool\"},{\"attributes\":{\"bottom_units\":\"screen\",\"fill_alpha\":{\"value\":0.5},\"fill_color\":{\"value\":\"lightgrey\"},\"left_units\":\"screen\",\"level\":\"overlay\",\"line_alpha\":{\"value\":1.0},\"line_color\":{\"value\":\"black\"},\"line_dash\":[4,4],\"line_width\":{\"value\":2},\"render_mode\":\"css\",\"right_units\":\"screen\",\"top_units\":\"screen\"},\"id\":\"1044\",\"type\":\"BoxAnnotation\"},{\"attributes\":{\"dimensions\":\"width\"},\"id\":\"1133\",\"type\":\"WheelZoomTool\"},{\"attributes\":{},\"id\":\"1134\",\"type\":\"ResetTool\"},{\"attributes\":{\"base\":24,\"mantissas\":[1,2,4,6,8,12],\"max_interval\":43200000.0,\"min_interval\":3600000.0,\"num_minor_ticks\":0},\"id\":\"1047\",\"type\":\"AdaptiveTicker\"},{\"attributes\":{},\"id\":\"1135\",\"type\":\"SaveTool\"},{\"attributes\":{\"days\":[1,8,15,22]},\"id\":\"1050\",\"type\":\"DaysTicker\"},{\"attributes\":{\"line_alpha\":0.1,\"line_color\":\"#1f77b4\",\"line_width\":2,\"x\":{\"field\":\"index\"},\"y\":{\"field\":\"Air temperature\"}},\"id\":\"1144\",\"type\":\"Line\"}],\"root_ids\":[\"1292\"]},\"title\":\"Bokeh Application\",\"version\":\"1.2.0\"}};\n",
       "  var render_items = [{\"docid\":\"bac38722-a196-4497-b8eb-b2dd59a2b9ee\",\"roots\":{\"1292\":\"c7fba286-ea75-47dc-ac63-6981551903af\"}}];\n",
       "  root.Bokeh.embed.embed_items_notebook(docs_json, render_items);\n",
       "\n",
       "  }\n",
       "  if (root.Bokeh !== undefined) {\n",
       "    embed_document(root);\n",
       "  } else {\n",
       "    var attempts = 0;\n",
       "    var timer = setInterval(function(root) {\n",
       "      if (root.Bokeh !== undefined) {\n",
       "        embed_document(root);\n",
       "        clearInterval(timer);\n",
       "      }\n",
       "      attempts++;\n",
       "      if (attempts > 100) {\n",
       "        console.log(\"Bokeh: ERROR: Unable to run BokehJS code because BokehJS library is missing\");\n",
       "        clearInterval(timer);\n",
       "      }\n",
       "    }, 10, root)\n",
       "  }\n",
       "})(window);"
      ],
      "application/vnd.bokehjs_exec.v0+json": ""
     },
     "metadata": {
      "application/vnd.bokehjs_exec.v0+json": {
       "id": "1292"
      }
     },
     "output_type": "display_data"
    }
   ],
   "source": [
    "grid = plot_nwp(ghi, dni, dhi, air_temperature, wind_speed, ac_power)\n",
    "show(grid)"
   ]
  },
  {
   "cell_type": "markdown",
   "metadata": {},
   "source": [
    "The Solar Forecast Arbiter includes processing functions derive GHI from a NWP model's cloud cover forecast and estimate the DNI and DHI using the [Erbs model](https://pvlib-python.readthedocs.io/en/stable/generated/pvlib.irradiance.erbs.html?highlight=erbs). These functions are applied to data from the GFS, NAM, and RAP weather models. \n",
    "\n",
    "For example, GFS data is processed as follows:\n",
    "\n",
    "1. Load time series forecast of cloud cover, air temperature, and wind speed from gridded data.\n",
    "2. Convert mixed interval cloud cover in raw data into standard intervals.\n",
    "2. Interpolate cloud cover, air temperature, wind speed to 5 minute resolution to minimize errors due to solar position.\n",
    "2. Compute GHI from cloud cover.\n",
    "2. Compute DNI and DHI from GHI.\n",
    "2. If required, calculate AC power.\n",
    "2. Resample 5 minute data to 1 hour data.\n",
    "\n",
    "See the `models` [documentation](https://solarforecastarbiter-core.readthedocs.io/en/latest/generated/solarforecastarbiter.reference_forecasts.models.html#module-solarforecastarbiter.reference_forecasts.models) for more explanation. The plot below shows the results of these processing steps."
   ]
  },
  {
   "cell_type": "code",
   "execution_count": 10,
   "metadata": {},
   "outputs": [
    {
     "data": {
      "text/html": [
       "\n",
       "\n",
       "\n",
       "\n",
       "\n",
       "\n",
       "  <div class=\"bk-root\" id=\"23c19b08-dc80-4439-85f0-b8b9cb82bc57\" data-root-id=\"2000\"></div>\n"
      ]
     },
     "metadata": {},
     "output_type": "display_data"
    },
    {
     "data": {
      "application/javascript": [
       "(function(root) {\n",
       "  function embed_document(root) {\n",
       "    \n",
       "  var docs_json = {\"a1389e00-4a54-4d2d-b166-88488a638f9f\":{\"roots\":{\"references\":[{\"attributes\":{\"children\":[{\"id\":\"1999\",\"type\":\"ToolbarBox\"},{\"id\":\"1997\",\"type\":\"GridBox\"}]},\"id\":\"2000\",\"type\":\"Column\"},{\"attributes\":{\"dimensions\":\"width\"},\"id\":\"1732\",\"type\":\"WheelZoomTool\"},{\"attributes\":{},\"id\":\"1839\",\"type\":\"PanTool\"},{\"attributes\":{\"months\":[0,4,8]},\"id\":\"1871\",\"type\":\"MonthsTicker\"},{\"attributes\":{\"active_drag\":\"auto\",\"active_inspect\":\"auto\",\"active_multi\":null,\"active_scroll\":\"auto\",\"active_tap\":\"auto\",\"tools\":[{\"id\":\"1894\",\"type\":\"PanTool\"},{\"id\":\"1895\",\"type\":\"BoxZoomTool\"},{\"id\":\"1896\",\"type\":\"WheelZoomTool\"},{\"id\":\"1897\",\"type\":\"ResetTool\"},{\"id\":\"1898\",\"type\":\"SaveTool\"}]},\"id\":\"1899\",\"type\":\"Toolbar\"},{\"attributes\":{},\"id\":\"1890\",\"type\":\"BasicTicker\"},{\"attributes\":{\"overlay\":{\"id\":\"1861\",\"type\":\"BoxAnnotation\"}},\"id\":\"1840\",\"type\":\"BoxZoomTool\"},{\"attributes\":{\"months\":[0,6]},\"id\":\"1872\",\"type\":\"MonthsTicker\"},{\"attributes\":{},\"id\":\"1792\",\"type\":\"UnionRenderers\"},{\"attributes\":{},\"id\":\"1898\",\"type\":\"SaveTool\"},{\"attributes\":{\"text\":\"\"},\"id\":\"1746\",\"type\":\"Title\"},{\"attributes\":{\"base\":24,\"mantissas\":[1,2,4,6,8,12],\"max_interval\":43200000.0,\"min_interval\":3600000.0,\"num_minor_ticks\":0},\"id\":\"1864\",\"type\":\"AdaptiveTicker\"},{\"attributes\":{\"line_color\":\"#d62728\",\"line_width\":2,\"x\":{\"field\":\"index\"},\"y\":{\"field\":\"Air temperature\"}},\"id\":\"1851\",\"type\":\"Line\"},{\"attributes\":{},\"id\":\"1873\",\"type\":\"YearsTicker\"},{\"attributes\":{\"items\":[{\"id\":\"1875\",\"type\":\"LegendItem\"}],\"location\":\"top_left\"},\"id\":\"1874\",\"type\":\"Legend\"},{\"attributes\":{\"dimension\":1,\"ticker\":{\"id\":\"1835\",\"type\":\"BasicTicker\"}},\"id\":\"1838\",\"type\":\"Grid\"},{\"attributes\":{\"label\":{\"value\":\"DNI\"},\"renderers\":[{\"id\":\"1770\",\"type\":\"GlyphRenderer\"}]},\"id\":\"1793\",\"type\":\"LegendItem\"},{\"attributes\":{\"label\":{\"value\":\"Air temperature\"},\"renderers\":[{\"id\":\"1853\",\"type\":\"GlyphRenderer\"}]},\"id\":\"1875\",\"type\":\"LegendItem\"},{\"attributes\":{\"days\":[1,2,3,4,5,6,7,8,9,10,11,12,13,14,15,16,17,18,19,20,21,22,23,24,25,26,27,28,29,30,31]},\"id\":\"1865\",\"type\":\"DaysTicker\"},{\"attributes\":{\"line_color\":\"#2ca02c\",\"line_width\":2,\"x\":{\"field\":\"index\"},\"y\":{\"field\":\"DHI\"}},\"id\":\"1795\",\"type\":\"Line\"},{\"attributes\":{\"below\":[{\"id\":\"1884\",\"type\":\"DatetimeAxis\"}],\"center\":[{\"id\":\"1888\",\"type\":\"Grid\"},{\"id\":\"1893\",\"type\":\"Grid\"},{\"id\":\"1929\",\"type\":\"Legend\"}],\"left\":[{\"id\":\"1889\",\"type\":\"LinearAxis\"}],\"plot_height\":200,\"plot_width\":800,\"renderers\":[{\"id\":\"1908\",\"type\":\"GlyphRenderer\"}],\"title\":{\"id\":\"1910\",\"type\":\"Title\"},\"toolbar\":{\"id\":\"1899\",\"type\":\"Toolbar\"},\"toolbar_location\":null,\"x_range\":{\"id\":\"1712\",\"type\":\"DataRange1d\"},\"x_scale\":{\"id\":\"1880\",\"type\":\"LinearScale\"},\"y_range\":{\"id\":\"1878\",\"type\":\"DataRange1d\"},\"y_scale\":{\"id\":\"1882\",\"type\":\"LinearScale\"}},\"id\":\"1876\",\"subtype\":\"Figure\",\"type\":\"Plot\"},{\"attributes\":{\"days\":[1,4,7,10,13,16,19,22,25,28]},\"id\":\"1866\",\"type\":\"DaysTicker\"},{\"attributes\":{\"days\":[1,15]},\"id\":\"1923\",\"type\":\"DaysTicker\"},{\"attributes\":{\"axis_label\":\"Air temperature (C)\",\"formatter\":{\"id\":\"1857\",\"type\":\"BasicTickFormatter\"},\"ticker\":{\"id\":\"1835\",\"type\":\"BasicTicker\"}},\"id\":\"1834\",\"type\":\"LinearAxis\"},{\"attributes\":{},\"id\":\"1750\",\"type\":\"DatetimeTickFormatter\"},{\"attributes\":{\"callback\":null},\"id\":\"1878\",\"type\":\"DataRange1d\"},{\"attributes\":{\"data_source\":{\"id\":\"1710\",\"type\":\"ColumnDataSource\"},\"glyph\":{\"id\":\"1795\",\"type\":\"Line\"},\"hover_glyph\":null,\"muted_glyph\":null,\"nonselection_glyph\":{\"id\":\"1796\",\"type\":\"Line\"},\"selection_glyph\":null,\"view\":{\"id\":\"1798\",\"type\":\"CDSView\"}},\"id\":\"1797\",\"type\":\"GlyphRenderer\"},{\"attributes\":{\"axis_label\":\"Wind speed (m/s)\",\"formatter\":{\"id\":\"1912\",\"type\":\"BasicTickFormatter\"},\"ticker\":{\"id\":\"1890\",\"type\":\"BasicTicker\"}},\"id\":\"1889\",\"type\":\"LinearAxis\"},{\"attributes\":{},\"id\":\"1880\",\"type\":\"LinearScale\"},{\"attributes\":{\"active_drag\":\"auto\",\"active_inspect\":\"auto\",\"active_multi\":null,\"active_scroll\":\"auto\",\"active_tap\":\"auto\",\"tools\":[{\"id\":\"1839\",\"type\":\"PanTool\"},{\"id\":\"1840\",\"type\":\"BoxZoomTool\"},{\"id\":\"1841\",\"type\":\"WheelZoomTool\"},{\"id\":\"1842\",\"type\":\"ResetTool\"},{\"id\":\"1843\",\"type\":\"SaveTool\"}]},\"id\":\"1844\",\"type\":\"Toolbar\"},{\"attributes\":{\"dimensions\":\"width\"},\"id\":\"1841\",\"type\":\"WheelZoomTool\"},{\"attributes\":{},\"id\":\"1882\",\"type\":\"LinearScale\"},{\"attributes\":{\"line_alpha\":0.1,\"line_color\":\"#1f77b4\",\"line_width\":2,\"x\":{\"field\":\"index\"},\"y\":{\"field\":\"DHI\"}},\"id\":\"1796\",\"type\":\"Line\"},{\"attributes\":{\"axis_label\":\"Time (UTC)\",\"formatter\":{\"id\":\"1914\",\"type\":\"DatetimeTickFormatter\"},\"ticker\":{\"id\":\"1885\",\"type\":\"DatetimeTicker\"}},\"id\":\"1884\",\"type\":\"DatetimeAxis\"},{\"attributes\":{\"label\":{\"value\":\"DHI\"},\"renderers\":[{\"id\":\"1797\",\"type\":\"GlyphRenderer\"}]},\"id\":\"1820\",\"type\":\"LegendItem\"},{\"attributes\":{\"label\":{\"value\":\"GHI\"},\"renderers\":[{\"id\":\"1744\",\"type\":\"GlyphRenderer\"}]},\"id\":\"1766\",\"type\":\"LegendItem\"},{\"attributes\":{\"bottom_units\":\"screen\",\"fill_alpha\":{\"value\":0.5},\"fill_color\":{\"value\":\"lightgrey\"},\"left_units\":\"screen\",\"level\":\"overlay\",\"line_alpha\":{\"value\":1.0},\"line_color\":{\"value\":\"black\"},\"line_dash\":[4,4],\"line_width\":{\"value\":2},\"render_mode\":\"css\",\"right_units\":\"screen\",\"top_units\":\"screen\"},\"id\":\"1752\",\"type\":\"BoxAnnotation\"},{\"attributes\":{},\"id\":\"1835\",\"type\":\"BasicTicker\"},{\"attributes\":{\"num_minor_ticks\":5,\"tickers\":[{\"id\":\"1917\",\"type\":\"AdaptiveTicker\"},{\"id\":\"1918\",\"type\":\"AdaptiveTicker\"},{\"id\":\"1919\",\"type\":\"AdaptiveTicker\"},{\"id\":\"1920\",\"type\":\"DaysTicker\"},{\"id\":\"1921\",\"type\":\"DaysTicker\"},{\"id\":\"1922\",\"type\":\"DaysTicker\"},{\"id\":\"1923\",\"type\":\"DaysTicker\"},{\"id\":\"1924\",\"type\":\"MonthsTicker\"},{\"id\":\"1925\",\"type\":\"MonthsTicker\"},{\"id\":\"1926\",\"type\":\"MonthsTicker\"},{\"id\":\"1927\",\"type\":\"MonthsTicker\"},{\"id\":\"1928\",\"type\":\"YearsTicker\"}]},\"id\":\"1885\",\"type\":\"DatetimeTicker\"},{\"attributes\":{\"line_alpha\":0.1,\"line_color\":\"#1f77b4\",\"line_width\":2,\"x\":{\"field\":\"index\"},\"y\":{\"field\":\"Wind speed\"}},\"id\":\"1907\",\"type\":\"Line\"},{\"attributes\":{\"callback\":null},\"id\":\"1823\",\"type\":\"DataRange1d\"},{\"attributes\":{\"ticker\":{\"id\":\"1885\",\"type\":\"DatetimeTicker\"}},\"id\":\"1888\",\"type\":\"Grid\"},{\"attributes\":{\"data_source\":{\"id\":\"1710\",\"type\":\"ColumnDataSource\"},\"glyph\":{\"id\":\"1906\",\"type\":\"Line\"},\"hover_glyph\":null,\"muted_glyph\":null,\"nonselection_glyph\":{\"id\":\"1907\",\"type\":\"Line\"},\"selection_glyph\":null,\"view\":{\"id\":\"1909\",\"type\":\"CDSView\"}},\"id\":\"1908\",\"type\":\"GlyphRenderer\"},{\"attributes\":{\"mantissas\":[1,2,5],\"max_interval\":500.0,\"num_minor_ticks\":0},\"id\":\"1753\",\"type\":\"AdaptiveTicker\"},{\"attributes\":{},\"id\":\"1764\",\"type\":\"YearsTicker\"},{\"attributes\":{\"bottom_units\":\"screen\",\"fill_alpha\":{\"value\":0.5},\"fill_color\":{\"value\":\"lightgrey\"},\"left_units\":\"screen\",\"level\":\"overlay\",\"line_alpha\":{\"value\":1.0},\"line_color\":{\"value\":\"black\"},\"line_dash\":[4,4],\"line_width\":{\"value\":2},\"render_mode\":\"css\",\"right_units\":\"screen\",\"top_units\":\"screen\"},\"id\":\"1861\",\"type\":\"BoxAnnotation\"},{\"attributes\":{},\"id\":\"1842\",\"type\":\"ResetTool\"},{\"attributes\":{\"line_color\":\"#ff7f0e\",\"line_width\":2,\"x\":{\"field\":\"index\"},\"y\":{\"field\":\"DNI\"}},\"id\":\"1768\",\"type\":\"Line\"},{\"attributes\":{},\"id\":\"1843\",\"type\":\"SaveTool\"},{\"attributes\":{\"days\":[1,4,7,10,13,16,19,22,25,28]},\"id\":\"1757\",\"type\":\"DaysTicker\"},{\"attributes\":{\"months\":[0,1,2,3,4,5,6,7,8,9,10,11]},\"id\":\"1924\",\"type\":\"MonthsTicker\"},{\"attributes\":{\"months\":[0,6]},\"id\":\"1763\",\"type\":\"MonthsTicker\"},{\"attributes\":{\"months\":[0,1,2,3,4,5,6,7,8,9,10,11]},\"id\":\"1869\",\"type\":\"MonthsTicker\"},{\"attributes\":{\"days\":[1,2,3,4,5,6,7,8,9,10,11,12,13,14,15,16,17,18,19,20,21,22,23,24,25,26,27,28,29,30,31]},\"id\":\"1920\",\"type\":\"DaysTicker\"},{\"attributes\":{\"days\":[1,15]},\"id\":\"1868\",\"type\":\"DaysTicker\"},{\"attributes\":{\"mantissas\":[1,2,5],\"max_interval\":500.0,\"num_minor_ticks\":0},\"id\":\"1862\",\"type\":\"AdaptiveTicker\"},{\"attributes\":{\"items\":[{\"id\":\"1766\",\"type\":\"LegendItem\"},{\"id\":\"1793\",\"type\":\"LegendItem\"},{\"id\":\"1820\",\"type\":\"LegendItem\"}],\"location\":\"top_left\"},\"id\":\"1765\",\"type\":\"Legend\"},{\"attributes\":{\"base\":60,\"mantissas\":[1,2,5,10,15,20,30],\"max_interval\":1800000.0,\"min_interval\":1000.0,\"num_minor_ticks\":0},\"id\":\"1863\",\"type\":\"AdaptiveTicker\"},{\"attributes\":{\"mantissas\":[1,2,5],\"max_interval\":500.0,\"num_minor_ticks\":0},\"id\":\"1917\",\"type\":\"AdaptiveTicker\"},{\"attributes\":{\"source\":{\"id\":\"1710\",\"type\":\"ColumnDataSource\"}},\"id\":\"1798\",\"type\":\"CDSView\"},{\"attributes\":{\"months\":[0,1,2,3,4,5,6,7,8,9,10,11]},\"id\":\"1760\",\"type\":\"MonthsTicker\"},{\"attributes\":{\"days\":[1,8,15,22]},\"id\":\"1758\",\"type\":\"DaysTicker\"},{\"attributes\":{\"formatter\":{\"id\":\"1859\",\"type\":\"DatetimeTickFormatter\"},\"ticker\":{\"id\":\"1830\",\"type\":\"DatetimeTicker\"}},\"id\":\"1829\",\"type\":\"DatetimeAxis\"},{\"attributes\":{\"days\":[1,15]},\"id\":\"1759\",\"type\":\"DaysTicker\"},{\"attributes\":{\"base\":60,\"mantissas\":[1,2,5,10,15,20,30],\"max_interval\":1800000.0,\"min_interval\":1000.0,\"num_minor_ticks\":0},\"id\":\"1754\",\"type\":\"AdaptiveTicker\"},{\"attributes\":{\"months\":[0,2,4,6,8,10]},\"id\":\"1761\",\"type\":\"MonthsTicker\"},{\"attributes\":{},\"id\":\"1825\",\"type\":\"LinearScale\"},{\"attributes\":{\"months\":[0,4,8]},\"id\":\"1762\",\"type\":\"MonthsTicker\"},{\"attributes\":{\"active_drag\":\"auto\",\"active_inspect\":\"auto\",\"active_multi\":null,\"active_scroll\":\"auto\",\"active_tap\":\"auto\",\"tools\":[{\"id\":\"1730\",\"type\":\"PanTool\"},{\"id\":\"1731\",\"type\":\"BoxZoomTool\"},{\"id\":\"1732\",\"type\":\"WheelZoomTool\"},{\"id\":\"1733\",\"type\":\"ResetTool\"},{\"id\":\"1734\",\"type\":\"SaveTool\"}]},\"id\":\"1735\",\"type\":\"Toolbar\"},{\"attributes\":{},\"id\":\"1827\",\"type\":\"LinearScale\"},{\"attributes\":{\"source\":{\"id\":\"1710\",\"type\":\"ColumnDataSource\"}},\"id\":\"1854\",\"type\":\"CDSView\"},{\"attributes\":{\"data_source\":{\"id\":\"1710\",\"type\":\"ColumnDataSource\"},\"glyph\":{\"id\":\"1851\",\"type\":\"Line\"},\"hover_glyph\":null,\"muted_glyph\":null,\"nonselection_glyph\":{\"id\":\"1852\",\"type\":\"Line\"},\"selection_glyph\":null,\"view\":{\"id\":\"1854\",\"type\":\"CDSView\"}},\"id\":\"1853\",\"type\":\"GlyphRenderer\"},{\"attributes\":{\"data_source\":{\"id\":\"1710\",\"type\":\"ColumnDataSource\"},\"glyph\":{\"id\":\"1742\",\"type\":\"Line\"},\"hover_glyph\":null,\"muted_glyph\":null,\"nonselection_glyph\":{\"id\":\"1743\",\"type\":\"Line\"},\"selection_glyph\":null,\"view\":{\"id\":\"1745\",\"type\":\"CDSView\"}},\"id\":\"1744\",\"type\":\"GlyphRenderer\"},{\"attributes\":{\"text\":\"\"},\"id\":\"1855\",\"type\":\"Title\"},{\"attributes\":{},\"id\":\"1733\",\"type\":\"ResetTool\"},{\"attributes\":{\"formatter\":{\"id\":\"1750\",\"type\":\"DatetimeTickFormatter\"},\"ticker\":{\"id\":\"1721\",\"type\":\"DatetimeTicker\"}},\"id\":\"1720\",\"type\":\"DatetimeAxis\"},{\"attributes\":{\"num_minor_ticks\":5,\"tickers\":[{\"id\":\"1862\",\"type\":\"AdaptiveTicker\"},{\"id\":\"1863\",\"type\":\"AdaptiveTicker\"},{\"id\":\"1864\",\"type\":\"AdaptiveTicker\"},{\"id\":\"1865\",\"type\":\"DaysTicker\"},{\"id\":\"1866\",\"type\":\"DaysTicker\"},{\"id\":\"1867\",\"type\":\"DaysTicker\"},{\"id\":\"1868\",\"type\":\"DaysTicker\"},{\"id\":\"1869\",\"type\":\"MonthsTicker\"},{\"id\":\"1870\",\"type\":\"MonthsTicker\"},{\"id\":\"1871\",\"type\":\"MonthsTicker\"},{\"id\":\"1872\",\"type\":\"MonthsTicker\"},{\"id\":\"1873\",\"type\":\"YearsTicker\"}]},\"id\":\"1830\",\"type\":\"DatetimeTicker\"},{\"attributes\":{\"base\":24,\"mantissas\":[1,2,4,6,8,12],\"max_interval\":43200000.0,\"min_interval\":3600000.0,\"num_minor_ticks\":0},\"id\":\"1755\",\"type\":\"AdaptiveTicker\"},{\"attributes\":{\"ticker\":{\"id\":\"1830\",\"type\":\"DatetimeTicker\"}},\"id\":\"1833\",\"type\":\"Grid\"},{\"attributes\":{\"days\":[1,2,3,4,5,6,7,8,9,10,11,12,13,14,15,16,17,18,19,20,21,22,23,24,25,26,27,28,29,30,31]},\"id\":\"1756\",\"type\":\"DaysTicker\"},{\"attributes\":{\"base\":24,\"mantissas\":[1,2,4,6,8,12],\"max_interval\":43200000.0,\"min_interval\":3600000.0,\"num_minor_ticks\":0},\"id\":\"1919\",\"type\":\"AdaptiveTicker\"},{\"attributes\":{},\"id\":\"1897\",\"type\":\"ResetTool\"},{\"attributes\":{\"line_alpha\":0.1,\"line_color\":\"#1f77b4\",\"line_width\":2,\"x\":{\"field\":\"index\"},\"y\":{\"field\":\"DNI\"}},\"id\":\"1769\",\"type\":\"Line\"},{\"attributes\":{\"base\":60,\"mantissas\":[1,2,5,10,15,20,30],\"max_interval\":1800000.0,\"min_interval\":1000.0,\"num_minor_ticks\":0},\"id\":\"1918\",\"type\":\"AdaptiveTicker\"},{\"attributes\":{\"months\":[0,2,4,6,8,10]},\"id\":\"1870\",\"type\":\"MonthsTicker\"},{\"attributes\":{},\"id\":\"1734\",\"type\":\"SaveTool\"},{\"attributes\":{\"days\":[1,8,15,22]},\"id\":\"1922\",\"type\":\"DaysTicker\"},{\"attributes\":{},\"id\":\"1857\",\"type\":\"BasicTickFormatter\"},{\"attributes\":{\"source\":{\"id\":\"1710\",\"type\":\"ColumnDataSource\"}},\"id\":\"1745\",\"type\":\"CDSView\"},{\"attributes\":{},\"id\":\"1859\",\"type\":\"DatetimeTickFormatter\"},{\"attributes\":{\"line_color\":\"#9467bd\",\"line_width\":2,\"x\":{\"field\":\"index\"},\"y\":{\"field\":\"Wind speed\"}},\"id\":\"1906\",\"type\":\"Line\"},{\"attributes\":{\"days\":[1,8,15,22]},\"id\":\"1867\",\"type\":\"DaysTicker\"},{\"attributes\":{},\"id\":\"1748\",\"type\":\"BasicTickFormatter\"},{\"attributes\":{\"line_alpha\":0.1,\"line_color\":\"#1f77b4\",\"line_width\":2,\"x\":{\"field\":\"index\"},\"y\":{\"field\":\"GHI\"}},\"id\":\"1743\",\"type\":\"Line\"},{\"attributes\":{\"line_alpha\":0.1,\"line_color\":\"#1f77b4\",\"line_width\":2,\"x\":{\"field\":\"index\"},\"y\":{\"field\":\"Air temperature\"}},\"id\":\"1852\",\"type\":\"Line\"},{\"attributes\":{\"source\":{\"id\":\"1710\",\"type\":\"ColumnDataSource\"}},\"id\":\"1771\",\"type\":\"CDSView\"},{\"attributes\":{\"data_source\":{\"id\":\"1710\",\"type\":\"ColumnDataSource\"},\"glyph\":{\"id\":\"1768\",\"type\":\"Line\"},\"hover_glyph\":null,\"muted_glyph\":null,\"nonselection_glyph\":{\"id\":\"1769\",\"type\":\"Line\"},\"selection_glyph\":null,\"view\":{\"id\":\"1771\",\"type\":\"CDSView\"}},\"id\":\"1770\",\"type\":\"GlyphRenderer\"},{\"attributes\":{},\"id\":\"1894\",\"type\":\"PanTool\"},{\"attributes\":{\"ticker\":{\"id\":\"1721\",\"type\":\"DatetimeTicker\"}},\"id\":\"1724\",\"type\":\"Grid\"},{\"attributes\":{\"children\":[[{\"id\":\"1711\",\"subtype\":\"Figure\",\"type\":\"Plot\"},0,0],[{\"id\":\"1821\",\"subtype\":\"Figure\",\"type\":\"Plot\"},1,0],[{\"id\":\"1876\",\"subtype\":\"Figure\",\"type\":\"Plot\"},2,0]]},\"id\":\"1997\",\"type\":\"GridBox\"},{\"attributes\":{\"callback\":null,\"data\":{\"AC power\":{\"__ndarray__\":\"AAAAAAAA+H8AAAAAAAD4fwAAAAAAAPh/AAAAAAAA+H8AAAAAAAD4fwAAAAAAAPh/AAAAAAAA+H8AAAAAAAD4fwAAAAAAAPh/AAAAAAAA+H8AAAAAAAD4fwAAAAAAAPh/AAAAAAAA+H8AAAAAAAD4fwAAAAAAAPh/AAAAAAAA+H8AAAAAAAD4fwAAAAAAAPh/AAAAAAAA+H8AAAAAAAD4fwAAAAAAAPh/AAAAAAAA+H8AAAAAAAD4fwAAAAAAAPh/AAAAAAAA+H8AAAAAAAD4fwAAAAAAAPh/AAAAAAAA+H8AAAAAAAD4fwAAAAAAAPh/AAAAAAAA+H8AAAAAAAD4fwAAAAAAAPh/AAAAAAAA+H8AAAAAAAD4fwAAAAAAAPh/AAAAAAAA+H8AAAAAAAD4fwAAAAAAAPh/AAAAAAAA+H8AAAAAAAD4fwAAAAAAAPh/AAAAAAAA+H8AAAAAAAD4fwAAAAAAAPh/AAAAAAAA+H8AAAAAAAD4fwAAAAAAAPh/AAAAAAAA+H8AAAAAAAD4fwAAAAAAAPh/AAAAAAAA+H8AAAAAAAD4fwAAAAAAAPh/AAAAAAAA+H8AAAAAAAD4fwAAAAAAAPh/AAAAAAAA+H8AAAAAAAD4fwAAAAAAAPh/AAAAAAAA+H8AAAAAAAD4fwAAAAAAAPh/AAAAAAAA+H8AAAAAAAD4fwAAAAAAAPh/AAAAAAAA+H8AAAAAAAD4fwAAAAAAAPh/AAAAAAAA+H8AAAAAAAD4fwAAAAAAAPh/\",\"dtype\":\"float64\",\"shape\":[72]},\"Air temperature\":{\"__ndarray__\":\"JSTcQXtrzEHQ+r9BJby3QSUisUHQ3KpBJWilQSWCoEHQ9ppBe/mTQdAYjUElOoxB0HSZQSVErEF7SbpBJYLJQXsF2UF7jeVBJUTuQdDE9EF7s/hBe0X5QSUa9UF7gexBeznfQXvNzkHQHMJB0DK5QdAKsEEl2qZBJaydQdBilEHQboxB0FqGQSXegkHQBoZB0FCWQSXqqkF7P7lBJS7FQSWs0EF7vdxBe3fmQdBW6UHQfuZBe3viQXtn20F7U9BBJcS/QXuHrEHQ/pxBJZ6SQdAmikHQEINBoBF6QUuQb0H1rmZB9a5eQaBtV0FLuFRBoK1dQfWObkGgTX9B0IaKQdAYmEHQHKVB0KavQdAWt0HQ6rdBe/+yQXvJrEHQfKhB\",\"dtype\":\"float32\",\"shape\":[72]},\"DHI\":{\"__ndarray__\":\"w1uNhTSiTkBUutISyBnfPwAAAAAAAAAAAAAAAAAAAAAAAAAAAAAAAAAAAAAAAAAAAAAAAAAAAAAAAAAAAAAAAAAAAAAAAAAAAAAAAAAAAAAAAAAAAAAAAPTRN/1X/xVAfqL6+rk9VEDrCvbY25NaQFjfRusFtVxAQW/3UxCOYEDJw5mHCANjQMsTgHaBx2RAZV5GFRsUaECBhQSvp/dzQPx7OFGnsHdASZaaTZ9qcUA0Psh3UqJrQJ5wBEyZJGRAwBT3RaVeTEDQs9FtDhjaPwAAAAAAAAAAAAAAAAAAAAAAAAAAAAAAAAAAAAAAAAAAAAAAAAAAAAAAAAAAAAAAAAAAAAAAAAAAAAAAAAAAAAAAAAAAAAAAACgZndj2cw1A2orgfjLbUUDQ6wsChYdkQCEDI4gGFG1AIEh7utWOcUDEfzRE7it1QKmlvaopjXVArMq9WM8jZUB8eL7Kip5kQAlIKtpXimJANUJGmRWFYED3lFtrdPljQCBOdKfRamNAGRXifdPsSECw02s8WlbaPwAAAAAAAAAAAAAAAAAAAAAAAAAAAAAAAAAAAAAAAAAAAAAAAAAAAAAAAAAAAAAAAAAAAAAAAAAAAAAAAAAAAAAAAAAAAAAAADV8UTCSSBhAH31ArmcmVUCBSE2EAYxgQIgtVCQtVW1A295mmnilcUDrgfzhKcxlQAedDrBAqGRAlyCMMMRTZUD/7VnlYXdkQHEhKdU4d2JAX2WcLDPzX0CYDjCyQwBcQLMlY3do01pA\",\"dtype\":\"float64\",\"shape\":[72]},\"DNI\":{\"__ndarray__\":\"cxq1DCfxV0AAAAAAAAAAAAAAAAAAAAAAAAAAAAAAAAAAAAAAAAAAAAAAAAAAAAAAAAAAAAAAAAAAAAAAAAAAAAAAAAAAAAAAAAAAAAAAAAAAAAAAAAAAAA3gd+opa/c/HPztYvsvbUBRz042cX+DQDFvOOP5qYhAD5CKBFOhikBDnb7gPGuLQKfUUdk0uotAyXnRdGiziEDFtd3i0Tt9QKuMaLlzEmRA9BbtNCNxO0DNg5sH3SlLQM3XHsbz22BAeB9yNjc5P0AAAAAAAAAAAAAAAAAAAAAAAAAAAAAAAAAAAAAAAAAAAAAAAAAAAAAAAAAAAAAAAAAAAAAAAAAAAAAAAAAAAAAAAAAAAAAAAAAAAAAAAAAAAKGV4rXZC+I/yXGAyb51LEC4IxsV5mA/QGvfwXZkTDpADzFPoc7YMUDFOAadvb82QIWi+xNBTXVAcBvz+DqYi0Dl+D4sUtGLQAtwxVUyeotAQWL9hBKdiUDtJycg/62BQJ+6q/nf92NAjX8oJ0flJkAAAAAAAAAAAAAAAAAAAAAAAAAAAAAAAAAAAAAAAAAAAAAAAAAAAAAAAAAAAAAAAAAAAAAAAAAAAAAAAAAAAAAAAAAAAAAAAAAAAAAAAAAAAMfoWaiGIP0/V7YnRMFhakA/HNfU/FF/QJH4M7vkMHZAZWaMPwCxd0ApWQG+HleIQKmCYk2GZItA1BKmZgHGi0D7R2Nx3KeLQOwMXMCkQ4tADHMAy7BJikDN07ZtlNaHQHy1geKSXIVA\",\"dtype\":\"float64\",\"shape\":[72]},\"GHI\":{\"__ndarray__\":\"HQ98uHkAVEBUutISyBnfPwAAAAAAAAAAAAAAAAAAAAAAAAAAAAAAAAAAAAAAAAAAAAAAAAAAAAAAAAAAAAAAAAAAAAAAAAAAAAAAAAAAAAAAAAAAAAAAAFXEgrTZdhZAAv+509T5YED5VLdoUq12QOgd8VvBSYJAWOrGOpdEiECvMGZj/suMQA3yWZetio9AU1ptSPT/jUABRVyBWruHQMLKOtM2LoBAVETFi1KwckB8vE7r7hlvQLQ0hXX8PmpAAPdQnrqBT0DQs9FtDhjaPwAAAAAAAAAAAAAAAAAAAAAAAAAAAAAAAAAAAAAAAAAAAAAAAAAAAAAAAAAAAAAAAAAAAAAAAAAAAAAAAAAAAAAAAAAAAAAAAPQJMj+syw1Anb9g+kaqUkDYtmN+8yZmQL+uJDsp/m5A7zJh9jhockBLfcfhqmt2QJeGLa+FA4VApP8ZehYMkEDX6ICNEj2PQCNNCOHhDIxA2K0jTr6bhkDYKtPLq+B9QImQDuoDNWtA1HQVh9sHSkCw02s8WlbaPwAAAAAAAAAAAAAAAAAAAAAAAAAAAAAAAAAAAAAAAAAAAAAAAAAAAAAAAAAAAAAAAAAAAAAAAAAAAAAAAAAAAAAAAAAAAAAAAEXO8POz3RhAZQrKX3fXYEBHA5RWlyd1QPdR+u0TjXtAX2KayPP+gUD97sZDXeKKQEcsUkP4Po9A7qA7kIErkEAdzxLAnhOPQHHpaIOC4ItAiCPXpKz4hkDt5wyf0LmAQAih+Oei8XlA\",\"dtype\":\"float64\",\"shape\":[72]},\"Wind speed\":{\"__ndarray__\":\"VRUWQFWVMUCrujNAABAdQFX1E0BVhQVAAGD4PwAwA0Cr6gVAAEDzPwCA0j+rSqs/q+qJPwDARz8AQEk/AADMP1WVMkBVtXJAq/KGQFV9jUAAiJ5Aq4K+QFXt3UAAiOhAANDPQADgpUAAyIxAq1p8QKvaYUCraj5AAIAPQFX1zz9VVaE/q2qLP1V1nD+rytQ/AJADQAAAHUBV/YJAVeXJQKu68kBVwQpBAPwZQVXFJkFVjTBBAAQ4QVUpPEEAqDZBq04fQQCw/0AASM5AVcWkQFUFg0AAEFxAVfVRQKtaUUCrCkpAq0o6QFUFLUCryitAADBQQFW9hUCr0pxAqzK6QKt63UCrkv9AVQENQQBUGUGrDiRBq74mQQDEI0EAICFB\",\"dtype\":\"float32\",\"shape\":[72]},\"index\":{\"__ndarray__\":\"AAAoDZCrdkIAABB8k6t2QgAA+OqWq3ZCAADgWZqrdkIAAMjInat2QgAAsDehq3ZCAACYpqSrdkIAAIAVqKt2QgAAaISrq3ZCAABQ866rdkIAADhisqt2QgAAING1q3ZCAAAIQLmrdkIAAPCuvKt2QgAA2B3Aq3ZCAADAjMOrdkIAAKj7xqt2QgAAkGrKq3ZCAAB42c2rdkIAAGBI0at2QgAASLfUq3ZCAAAwJtirdkIAABiV26t2QgAAAATfq3ZCAADocuKrdkIAANDh5at2QgAAuFDpq3ZCAACgv+yrdkIAAIgu8Kt2QgAAcJ3zq3ZCAABYDPerdkIAAEB7+qt2QgAAKOr9q3ZCAAAQWQGsdkIAAPjHBKx2QgAA4DYIrHZCAADIpQusdkIAALAUD6x2QgAAmIMSrHZCAACA8hWsdkIAAGhhGax2QgAAUNAcrHZCAAA4PyCsdkIAACCuI6x2QgAACB0nrHZCAADwiyqsdkIAANj6Lax2QgAAwGkxrHZCAACo2DSsdkIAAJBHOKx2QgAAeLY7rHZCAABgJT+sdkIAAEiUQqx2QgAAMANGrHZCAAAYckmsdkIAAADhTKx2QgAA6E9QrHZCAADQvlOsdkIAALgtV6x2QgAAoJxarHZCAACIC16sdkIAAHB6Yax2QgAAWOlkrHZCAABAWGisdkIAACjHa6x2QgAAEDZvrHZCAAD4pHKsdkIAAOATdqx2QgAAyIJ5rHZCAACw8XysdkIAAJhggKx2QgAAgM+DrHZC\",\"dtype\":\"float64\",\"shape\":[72]}},\"selected\":{\"id\":\"1791\",\"type\":\"Selection\"},\"selection_policy\":{\"id\":\"1792\",\"type\":\"UnionRenderers\"}},\"id\":\"1710\",\"type\":\"ColumnDataSource\"},{\"attributes\":{\"below\":[{\"id\":\"1720\",\"type\":\"DatetimeAxis\"}],\"center\":[{\"id\":\"1724\",\"type\":\"Grid\"},{\"id\":\"1729\",\"type\":\"Grid\"},{\"id\":\"1765\",\"type\":\"Legend\"}],\"left\":[{\"id\":\"1725\",\"type\":\"LinearAxis\"}],\"plot_height\":200,\"plot_width\":800,\"renderers\":[{\"id\":\"1744\",\"type\":\"GlyphRenderer\"},{\"id\":\"1770\",\"type\":\"GlyphRenderer\"},{\"id\":\"1797\",\"type\":\"GlyphRenderer\"}],\"title\":{\"id\":\"1746\",\"type\":\"Title\"},\"toolbar\":{\"id\":\"1735\",\"type\":\"Toolbar\"},\"toolbar_location\":null,\"x_range\":{\"id\":\"1712\",\"type\":\"DataRange1d\"},\"x_scale\":{\"id\":\"1716\",\"type\":\"LinearScale\"},\"y_range\":{\"id\":\"1714\",\"type\":\"DataRange1d\"},\"y_scale\":{\"id\":\"1718\",\"type\":\"LinearScale\"}},\"id\":\"1711\",\"subtype\":\"Figure\",\"type\":\"Plot\"},{\"attributes\":{\"tools\":[{\"id\":\"1730\",\"type\":\"PanTool\"},{\"id\":\"1731\",\"type\":\"BoxZoomTool\"},{\"id\":\"1732\",\"type\":\"WheelZoomTool\"},{\"id\":\"1733\",\"type\":\"ResetTool\"},{\"id\":\"1734\",\"type\":\"SaveTool\"},{\"id\":\"1839\",\"type\":\"PanTool\"},{\"id\":\"1840\",\"type\":\"BoxZoomTool\"},{\"id\":\"1841\",\"type\":\"WheelZoomTool\"},{\"id\":\"1842\",\"type\":\"ResetTool\"},{\"id\":\"1843\",\"type\":\"SaveTool\"},{\"id\":\"1894\",\"type\":\"PanTool\"},{\"id\":\"1895\",\"type\":\"BoxZoomTool\"},{\"id\":\"1896\",\"type\":\"WheelZoomTool\"},{\"id\":\"1897\",\"type\":\"ResetTool\"},{\"id\":\"1898\",\"type\":\"SaveTool\"}]},\"id\":\"1998\",\"type\":\"ProxyToolbar\"},{\"attributes\":{\"overlay\":{\"id\":\"1752\",\"type\":\"BoxAnnotation\"}},\"id\":\"1731\",\"type\":\"BoxZoomTool\"},{\"attributes\":{\"num_minor_ticks\":5,\"tickers\":[{\"id\":\"1753\",\"type\":\"AdaptiveTicker\"},{\"id\":\"1754\",\"type\":\"AdaptiveTicker\"},{\"id\":\"1755\",\"type\":\"AdaptiveTicker\"},{\"id\":\"1756\",\"type\":\"DaysTicker\"},{\"id\":\"1757\",\"type\":\"DaysTicker\"},{\"id\":\"1758\",\"type\":\"DaysTicker\"},{\"id\":\"1759\",\"type\":\"DaysTicker\"},{\"id\":\"1760\",\"type\":\"MonthsTicker\"},{\"id\":\"1761\",\"type\":\"MonthsTicker\"},{\"id\":\"1762\",\"type\":\"MonthsTicker\"},{\"id\":\"1763\",\"type\":\"MonthsTicker\"},{\"id\":\"1764\",\"type\":\"YearsTicker\"}]},\"id\":\"1721\",\"type\":\"DatetimeTicker\"},{\"attributes\":{\"source\":{\"id\":\"1710\",\"type\":\"ColumnDataSource\"}},\"id\":\"1909\",\"type\":\"CDSView\"},{\"attributes\":{\"days\":[1,4,7,10,13,16,19,22,25,28]},\"id\":\"1921\",\"type\":\"DaysTicker\"},{\"attributes\":{\"label\":{\"value\":\"Wind speed\"},\"renderers\":[{\"id\":\"1908\",\"type\":\"GlyphRenderer\"}]},\"id\":\"1930\",\"type\":\"LegendItem\"},{\"attributes\":{\"dimension\":1,\"ticker\":{\"id\":\"1890\",\"type\":\"BasicTicker\"}},\"id\":\"1893\",\"type\":\"Grid\"},{\"attributes\":{},\"id\":\"1914\",\"type\":\"DatetimeTickFormatter\"},{\"attributes\":{\"bottom_units\":\"screen\",\"fill_alpha\":{\"value\":0.5},\"fill_color\":{\"value\":\"lightgrey\"},\"left_units\":\"screen\",\"level\":\"overlay\",\"line_alpha\":{\"value\":1.0},\"line_color\":{\"value\":\"black\"},\"line_dash\":[4,4],\"line_width\":{\"value\":2},\"render_mode\":\"css\",\"right_units\":\"screen\",\"top_units\":\"screen\"},\"id\":\"1916\",\"type\":\"BoxAnnotation\"},{\"attributes\":{},\"id\":\"1791\",\"type\":\"Selection\"},{\"attributes\":{},\"id\":\"1928\",\"type\":\"YearsTicker\"},{\"attributes\":{\"months\":[0,2,4,6,8,10]},\"id\":\"1925\",\"type\":\"MonthsTicker\"},{\"attributes\":{},\"id\":\"1718\",\"type\":\"LinearScale\"},{\"attributes\":{\"line_color\":\"#1f77b4\",\"line_width\":2,\"x\":{\"field\":\"index\"},\"y\":{\"field\":\"GHI\"}},\"id\":\"1742\",\"type\":\"Line\"},{\"attributes\":{},\"id\":\"1912\",\"type\":\"BasicTickFormatter\"},{\"attributes\":{\"dimensions\":\"width\"},\"id\":\"1896\",\"type\":\"WheelZoomTool\"},{\"attributes\":{\"dimension\":1,\"ticker\":{\"id\":\"1726\",\"type\":\"BasicTicker\"}},\"id\":\"1729\",\"type\":\"Grid\"},{\"attributes\":{\"toolbar\":{\"id\":\"1998\",\"type\":\"ProxyToolbar\"},\"toolbar_location\":\"above\"},\"id\":\"1999\",\"type\":\"ToolbarBox\"},{\"attributes\":{},\"id\":\"1716\",\"type\":\"LinearScale\"},{\"attributes\":{\"months\":[0,6]},\"id\":\"1927\",\"type\":\"MonthsTicker\"},{\"attributes\":{},\"id\":\"1730\",\"type\":\"PanTool\"},{\"attributes\":{\"callback\":null},\"id\":\"1714\",\"type\":\"DataRange1d\"},{\"attributes\":{\"callback\":null},\"id\":\"1712\",\"type\":\"DataRange1d\"},{\"attributes\":{\"items\":[{\"id\":\"1930\",\"type\":\"LegendItem\"}],\"location\":\"top_left\"},\"id\":\"1929\",\"type\":\"Legend\"},{\"attributes\":{\"axis_label\":\"Irradiance (W/m^2)\",\"formatter\":{\"id\":\"1748\",\"type\":\"BasicTickFormatter\"},\"ticker\":{\"id\":\"1726\",\"type\":\"BasicTicker\"}},\"id\":\"1725\",\"type\":\"LinearAxis\"},{\"attributes\":{\"months\":[0,4,8]},\"id\":\"1926\",\"type\":\"MonthsTicker\"},{\"attributes\":{\"text\":\"\"},\"id\":\"1910\",\"type\":\"Title\"},{\"attributes\":{},\"id\":\"1726\",\"type\":\"BasicTicker\"},{\"attributes\":{\"overlay\":{\"id\":\"1916\",\"type\":\"BoxAnnotation\"}},\"id\":\"1895\",\"type\":\"BoxZoomTool\"},{\"attributes\":{\"below\":[{\"id\":\"1829\",\"type\":\"DatetimeAxis\"}],\"center\":[{\"id\":\"1833\",\"type\":\"Grid\"},{\"id\":\"1838\",\"type\":\"Grid\"},{\"id\":\"1874\",\"type\":\"Legend\"}],\"left\":[{\"id\":\"1834\",\"type\":\"LinearAxis\"}],\"plot_height\":200,\"plot_width\":800,\"renderers\":[{\"id\":\"1853\",\"type\":\"GlyphRenderer\"}],\"title\":{\"id\":\"1855\",\"type\":\"Title\"},\"toolbar\":{\"id\":\"1844\",\"type\":\"Toolbar\"},\"toolbar_location\":null,\"x_range\":{\"id\":\"1712\",\"type\":\"DataRange1d\"},\"x_scale\":{\"id\":\"1825\",\"type\":\"LinearScale\"},\"y_range\":{\"id\":\"1823\",\"type\":\"DataRange1d\"},\"y_scale\":{\"id\":\"1827\",\"type\":\"LinearScale\"}},\"id\":\"1821\",\"subtype\":\"Figure\",\"type\":\"Plot\"}],\"root_ids\":[\"2000\"]},\"title\":\"Bokeh Application\",\"version\":\"1.2.0\"}};\n",
       "  var render_items = [{\"docid\":\"a1389e00-4a54-4d2d-b166-88488a638f9f\",\"roots\":{\"2000\":\"23c19b08-dc80-4439-85f0-b8b9cb82bc57\"}}];\n",
       "  root.Bokeh.embed.embed_items_notebook(docs_json, render_items);\n",
       "\n",
       "  }\n",
       "  if (root.Bokeh !== undefined) {\n",
       "    embed_document(root);\n",
       "  } else {\n",
       "    var attempts = 0;\n",
       "    var timer = setInterval(function(root) {\n",
       "      if (root.Bokeh !== undefined) {\n",
       "        embed_document(root);\n",
       "        clearInterval(timer);\n",
       "      }\n",
       "      attempts++;\n",
       "      if (attempts > 100) {\n",
       "        console.log(\"Bokeh: ERROR: Unable to run BokehJS code because BokehJS library is missing\");\n",
       "        clearInterval(timer);\n",
       "      }\n",
       "    }, 10, root)\n",
       "  }\n",
       "})(window);"
      ],
      "application/vnd.bokehjs_exec.v0+json": ""
     },
     "metadata": {
      "application/vnd.bokehjs_exec.v0+json": {
       "id": "2000"
      }
     },
     "output_type": "display_data"
    }
   ],
   "source": [
    "# select the model\n",
    "model = models.gfs_quarter_deg_to_hourly_mean\n",
    "\n",
    "# tell the model where to find the NWP data\n",
    "model_wrapped = partial(model, load_forecast=load_forecast)\n",
    "\n",
    "# load and process the NWP data. ac_power is None because site is not a power plant.\n",
    "ghi, dni, dhi, air_temperature, wind_speed, ac_power = main.run(site, model_wrapped, init_time, start, end)\n",
    "\n",
    "grid = plot_nwp(ghi, dni, dhi, air_temperature, wind_speed, ac_power)\n",
    "show(grid)"
   ]
  },
  {
   "cell_type": "markdown",
   "metadata": {},
   "source": [
    "The forecast function will produce an AC power forecast if supplied with the appropriate metadata. Here we define a single axis tracker."
   ]
  },
  {
   "cell_type": "code",
   "execution_count": 11,
   "metadata": {},
   "outputs": [],
   "source": [
    "# define the modeling parameters\n",
    "modeling_parameters = datamodel.SingleAxisModelingParameters(\n",
    "    ac_capacity=10,  # always in MW\n",
    "    dc_capacity=13,\n",
    "    temperature_coefficient=-0.003,  # 1/C\n",
    "    dc_loss_factor=0,\n",
    "    ac_loss_factor=0,\n",
    "    axis_tilt=0,\n",
    "    axis_azimuth=0,\n",
    "    ground_coverage_ratio=0.4,\n",
    "    backtrack=True,\n",
    "    max_rotation_angle=50,\n",
    ")\n",
    "# define a SolarPowerPlant object\n",
    "plant = datamodel.SolarPowerPlant(\n",
    "    name='Tucson AZ Plant',\n",
    "    latitude=latitude,\n",
    "    longitude=longitude,\n",
    "    elevation=elevation,\n",
    "    timezone='America/Phoenix',\n",
    "    modeling_parameters=modeling_parameters\n",
    ")"
   ]
  },
  {
   "cell_type": "markdown",
   "metadata": {},
   "source": [
    "Now we run the same code as before to create an AC power forecast from the GFS model."
   ]
  },
  {
   "cell_type": "code",
   "execution_count": 12,
   "metadata": {},
   "outputs": [
    {
     "data": {
      "text/html": [
       "\n",
       "\n",
       "\n",
       "\n",
       "\n",
       "\n",
       "  <div class=\"bk-root\" id=\"d033e8ac-4326-43c9-b8f6-af5a1d64e0a3\" data-root-id=\"2844\"></div>\n"
      ]
     },
     "metadata": {},
     "output_type": "display_data"
    },
    {
     "data": {
      "application/javascript": [
       "(function(root) {\n",
       "  function embed_document(root) {\n",
       "    \n",
       "  var docs_json = {\"915c56dd-6c93-477f-8b67-dc0b8ac04c3a\":{\"roots\":{\"references\":[{\"attributes\":{\"children\":[{\"id\":\"2843\",\"type\":\"ToolbarBox\"},{\"id\":\"2841\",\"type\":\"GridBox\"}]},\"id\":\"2844\",\"type\":\"Column\"},{\"attributes\":{},\"id\":\"2626\",\"type\":\"DatetimeTickFormatter\"},{\"attributes\":{\"data_source\":{\"id\":\"2477\",\"type\":\"ColumnDataSource\"},\"glyph\":{\"id\":\"2728\",\"type\":\"Line\"},\"hover_glyph\":null,\"muted_glyph\":null,\"nonselection_glyph\":{\"id\":\"2729\",\"type\":\"Line\"},\"selection_glyph\":null,\"view\":{\"id\":\"2731\",\"type\":\"CDSView\"}},\"id\":\"2730\",\"type\":\"GlyphRenderer\"},{\"attributes\":{\"bottom_units\":\"screen\",\"fill_alpha\":{\"value\":0.5},\"fill_color\":{\"value\":\"lightgrey\"},\"left_units\":\"screen\",\"level\":\"overlay\",\"line_alpha\":{\"value\":1.0},\"line_color\":{\"value\":\"black\"},\"line_dash\":[4,4],\"line_width\":{\"value\":2},\"render_mode\":\"css\",\"right_units\":\"screen\",\"top_units\":\"screen\"},\"id\":\"2628\",\"type\":\"BoxAnnotation\"},{\"attributes\":{\"source\":{\"id\":\"2477\",\"type\":\"ColumnDataSource\"}},\"id\":\"2731\",\"type\":\"CDSView\"},{\"attributes\":{\"mantissas\":[1,2,5],\"max_interval\":500.0,\"num_minor_ticks\":0},\"id\":\"2629\",\"type\":\"AdaptiveTicker\"},{\"attributes\":{},\"id\":\"2483\",\"type\":\"LinearScale\"},{\"attributes\":{},\"id\":\"2736\",\"type\":\"DatetimeTickFormatter\"},{\"attributes\":{},\"id\":\"2485\",\"type\":\"LinearScale\"},{\"attributes\":{\"bottom_units\":\"screen\",\"fill_alpha\":{\"value\":0.5},\"fill_color\":{\"value\":\"lightgrey\"},\"left_units\":\"screen\",\"level\":\"overlay\",\"line_alpha\":{\"value\":1.0},\"line_color\":{\"value\":\"black\"},\"line_dash\":[4,4],\"line_width\":{\"value\":2},\"render_mode\":\"css\",\"right_units\":\"screen\",\"top_units\":\"screen\"},\"id\":\"2738\",\"type\":\"BoxAnnotation\"},{\"attributes\":{\"base\":60,\"mantissas\":[1,2,5,10,15,20,30],\"max_interval\":1800000.0,\"min_interval\":1000.0,\"num_minor_ticks\":0},\"id\":\"2630\",\"type\":\"AdaptiveTicker\"},{\"attributes\":{\"base\":24,\"mantissas\":[1,2,4,6,8,12],\"max_interval\":43200000.0,\"min_interval\":3600000.0,\"num_minor_ticks\":0},\"id\":\"2631\",\"type\":\"AdaptiveTicker\"},{\"attributes\":{\"mantissas\":[1,2,5],\"max_interval\":500.0,\"num_minor_ticks\":0},\"id\":\"2739\",\"type\":\"AdaptiveTicker\"},{\"attributes\":{\"days\":[1,2,3,4,5,6,7,8,9,10,11,12,13,14,15,16,17,18,19,20,21,22,23,24,25,26,27,28,29,30,31]},\"id\":\"2632\",\"type\":\"DaysTicker\"},{\"attributes\":{\"below\":[{\"id\":\"2706\",\"type\":\"DatetimeAxis\"}],\"center\":[{\"id\":\"2710\",\"type\":\"Grid\"},{\"id\":\"2715\",\"type\":\"Grid\"},{\"id\":\"2751\",\"type\":\"Legend\"}],\"left\":[{\"id\":\"2711\",\"type\":\"LinearAxis\"}],\"plot_height\":200,\"plot_width\":800,\"renderers\":[{\"id\":\"2730\",\"type\":\"GlyphRenderer\"}],\"title\":{\"id\":\"2732\",\"type\":\"Title\"},\"toolbar\":{\"id\":\"2721\",\"type\":\"Toolbar\"},\"toolbar_location\":null,\"x_range\":{\"id\":\"2479\",\"type\":\"DataRange1d\"},\"x_scale\":{\"id\":\"2702\",\"type\":\"LinearScale\"},\"y_range\":{\"id\":\"2700\",\"type\":\"DataRange1d\"},\"y_scale\":{\"id\":\"2704\",\"type\":\"LinearScale\"}},\"id\":\"2698\",\"subtype\":\"Figure\",\"type\":\"Plot\"},{\"attributes\":{\"base\":60,\"mantissas\":[1,2,5,10,15,20,30],\"max_interval\":1800000.0,\"min_interval\":1000.0,\"num_minor_ticks\":0},\"id\":\"2740\",\"type\":\"AdaptiveTicker\"},{\"attributes\":{\"days\":[1,4,7,10,13,16,19,22,25,28]},\"id\":\"2633\",\"type\":\"DaysTicker\"},{\"attributes\":{\"base\":24,\"mantissas\":[1,2,4,6,8,12],\"max_interval\":43200000.0,\"min_interval\":3600000.0,\"num_minor_ticks\":0},\"id\":\"2741\",\"type\":\"AdaptiveTicker\"},{\"attributes\":{\"days\":[1,8,15,22]},\"id\":\"2634\",\"type\":\"DaysTicker\"},{\"attributes\":{\"days\":[1,2,3,4,5,6,7,8,9,10,11,12,13,14,15,16,17,18,19,20,21,22,23,24,25,26,27,28,29,30,31]},\"id\":\"2742\",\"type\":\"DaysTicker\"},{\"attributes\":{\"days\":[1,15]},\"id\":\"2635\",\"type\":\"DaysTicker\"},{\"attributes\":{\"days\":[1,4,7,10,13,16,19,22,25,28]},\"id\":\"2743\",\"type\":\"DaysTicker\"},{\"attributes\":{\"months\":[0,1,2,3,4,5,6,7,8,9,10,11]},\"id\":\"2636\",\"type\":\"MonthsTicker\"},{\"attributes\":{\"days\":[1,8,15,22]},\"id\":\"2744\",\"type\":\"DaysTicker\"},{\"attributes\":{\"months\":[0,2,4,6,8,10]},\"id\":\"2637\",\"type\":\"MonthsTicker\"},{\"attributes\":{\"days\":[1,15]},\"id\":\"2745\",\"type\":\"DaysTicker\"},{\"attributes\":{\"months\":[0,4,8]},\"id\":\"2638\",\"type\":\"MonthsTicker\"},{\"attributes\":{\"months\":[0,1,2,3,4,5,6,7,8,9,10,11]},\"id\":\"2746\",\"type\":\"MonthsTicker\"},{\"attributes\":{\"months\":[0,6]},\"id\":\"2639\",\"type\":\"MonthsTicker\"},{\"attributes\":{\"days\":[1,8,15,22]},\"id\":\"2525\",\"type\":\"DaysTicker\"},{\"attributes\":{\"months\":[0,2,4,6,8,10]},\"id\":\"2747\",\"type\":\"MonthsTicker\"},{\"attributes\":{\"days\":[1,15]},\"id\":\"2526\",\"type\":\"DaysTicker\"},{\"attributes\":{},\"id\":\"2640\",\"type\":\"YearsTicker\"},{\"attributes\":{\"months\":[0,4,8]},\"id\":\"2748\",\"type\":\"MonthsTicker\"},{\"attributes\":{\"items\":[{\"id\":\"2642\",\"type\":\"LegendItem\"}],\"location\":\"top_left\"},\"id\":\"2641\",\"type\":\"Legend\"},{\"attributes\":{\"months\":[0,6]},\"id\":\"2749\",\"type\":\"MonthsTicker\"},{\"attributes\":{\"label\":{\"value\":\"Air temperature\"},\"renderers\":[{\"id\":\"2620\",\"type\":\"GlyphRenderer\"}]},\"id\":\"2642\",\"type\":\"LegendItem\"},{\"attributes\":{\"months\":[0,1,2,3,4,5,6,7,8,9,10,11]},\"id\":\"2527\",\"type\":\"MonthsTicker\"},{\"attributes\":{},\"id\":\"2750\",\"type\":\"YearsTicker\"},{\"attributes\":{\"below\":[{\"id\":\"2651\",\"type\":\"DatetimeAxis\"}],\"center\":[{\"id\":\"2655\",\"type\":\"Grid\"},{\"id\":\"2660\",\"type\":\"Grid\"},{\"id\":\"2696\",\"type\":\"Legend\"}],\"left\":[{\"id\":\"2656\",\"type\":\"LinearAxis\"}],\"plot_height\":200,\"plot_width\":800,\"renderers\":[{\"id\":\"2675\",\"type\":\"GlyphRenderer\"}],\"title\":{\"id\":\"2677\",\"type\":\"Title\"},\"toolbar\":{\"id\":\"2666\",\"type\":\"Toolbar\"},\"toolbar_location\":null,\"x_range\":{\"id\":\"2479\",\"type\":\"DataRange1d\"},\"x_scale\":{\"id\":\"2647\",\"type\":\"LinearScale\"},\"y_range\":{\"id\":\"2645\",\"type\":\"DataRange1d\"},\"y_scale\":{\"id\":\"2649\",\"type\":\"LinearScale\"}},\"id\":\"2643\",\"subtype\":\"Figure\",\"type\":\"Plot\"},{\"attributes\":{\"base\":24,\"mantissas\":[1,2,4,6,8,12],\"max_interval\":43200000.0,\"min_interval\":3600000.0,\"num_minor_ticks\":0},\"id\":\"2522\",\"type\":\"AdaptiveTicker\"},{\"attributes\":{\"items\":[{\"id\":\"2752\",\"type\":\"LegendItem\"}],\"location\":\"top_left\"},\"id\":\"2751\",\"type\":\"Legend\"},{\"attributes\":{\"base\":60,\"mantissas\":[1,2,5,10,15,20,30],\"max_interval\":1800000.0,\"min_interval\":1000.0,\"num_minor_ticks\":0},\"id\":\"2521\",\"type\":\"AdaptiveTicker\"},{\"attributes\":{},\"id\":\"2531\",\"type\":\"YearsTicker\"},{\"attributes\":{\"callback\":null},\"id\":\"2645\",\"type\":\"DataRange1d\"},{\"attributes\":{\"label\":{\"value\":\"AC power\"},\"renderers\":[{\"id\":\"2730\",\"type\":\"GlyphRenderer\"}]},\"id\":\"2752\",\"type\":\"LegendItem\"},{\"attributes\":{},\"id\":\"2647\",\"type\":\"LinearScale\"},{\"attributes\":{\"children\":[[{\"id\":\"2478\",\"subtype\":\"Figure\",\"type\":\"Plot\"},0,0],[{\"id\":\"2588\",\"subtype\":\"Figure\",\"type\":\"Plot\"},1,0],[{\"id\":\"2643\",\"subtype\":\"Figure\",\"type\":\"Plot\"},2,0],[{\"id\":\"2698\",\"subtype\":\"Figure\",\"type\":\"Plot\"},3,0]]},\"id\":\"2841\",\"type\":\"GridBox\"},{\"attributes\":{\"formatter\":{\"id\":\"2517\",\"type\":\"DatetimeTickFormatter\"},\"ticker\":{\"id\":\"2488\",\"type\":\"DatetimeTicker\"}},\"id\":\"2487\",\"type\":\"DatetimeAxis\"},{\"attributes\":{\"days\":[1,4,7,10,13,16,19,22,25,28]},\"id\":\"2524\",\"type\":\"DaysTicker\"},{\"attributes\":{},\"id\":\"2649\",\"type\":\"LinearScale\"},{\"attributes\":{\"tools\":[{\"id\":\"2497\",\"type\":\"PanTool\"},{\"id\":\"2498\",\"type\":\"BoxZoomTool\"},{\"id\":\"2499\",\"type\":\"WheelZoomTool\"},{\"id\":\"2500\",\"type\":\"ResetTool\"},{\"id\":\"2501\",\"type\":\"SaveTool\"},{\"id\":\"2606\",\"type\":\"PanTool\"},{\"id\":\"2607\",\"type\":\"BoxZoomTool\"},{\"id\":\"2608\",\"type\":\"WheelZoomTool\"},{\"id\":\"2609\",\"type\":\"ResetTool\"},{\"id\":\"2610\",\"type\":\"SaveTool\"},{\"id\":\"2661\",\"type\":\"PanTool\"},{\"id\":\"2662\",\"type\":\"BoxZoomTool\"},{\"id\":\"2663\",\"type\":\"WheelZoomTool\"},{\"id\":\"2664\",\"type\":\"ResetTool\"},{\"id\":\"2665\",\"type\":\"SaveTool\"},{\"id\":\"2716\",\"type\":\"PanTool\"},{\"id\":\"2717\",\"type\":\"BoxZoomTool\"},{\"id\":\"2718\",\"type\":\"WheelZoomTool\"},{\"id\":\"2719\",\"type\":\"ResetTool\"},{\"id\":\"2720\",\"type\":\"SaveTool\"}]},\"id\":\"2842\",\"type\":\"ProxyToolbar\"},{\"attributes\":{\"formatter\":{\"id\":\"2681\",\"type\":\"DatetimeTickFormatter\"},\"ticker\":{\"id\":\"2652\",\"type\":\"DatetimeTicker\"}},\"id\":\"2651\",\"type\":\"DatetimeAxis\"},{\"attributes\":{\"toolbar\":{\"id\":\"2842\",\"type\":\"ProxyToolbar\"},\"toolbar_location\":\"above\"},\"id\":\"2843\",\"type\":\"ToolbarBox\"},{\"attributes\":{\"callback\":null,\"data\":{\"AC power\":{\"__ndarray__\":\"2EEa5oZN/j8AAAAAAAAAAAAAAAAAAAAAAAAAAAAAAAAAAAAAAAAAAAAAAAAAAAAAAAAAAAAAAAAAAAAAAAAAAAAAAAAAAAAAAAAAAAAAAAAAAAAAAAAAAMwsozxsXa4/jdFGTqMWEEDxAUOtlq0iQAAAAAAAACRAAAAAAAAAJEAAAAAAAAAkQAAAAAAAACRAAAAAAAAAJEDmPjM4RCwiQJm5Uxvv/BhA0BxY9C7XCkDn27GvL5oIQDE79oP1Yg1AjRCu/U9n8D8AAAAAAAAAAAAAAAAAAAAAAAAAAAAAAAAAAAAAAAAAAAAAAAAAAAAAAAAAAAAAAAAAAAAAAAAAAAAAAAAAAAAAAAAAAAAAAAAAAAAAAAAAAEVFz8M7h50/GoI6HWor8D9hHqMEdt4BQJlOm6FV1wZAICSILbboCkDzLIQ7QecQQP3uqXA6OB9AAAAAAAAAJEAAAAAAAAAkQAAAAAAAACRAAAAAAAAAJECpclKJ9uUhQEeb8i63+A9ArJaH/o0l5j8AAAAAAAAAAAAAAAAAAAAAAAAAAAAAAAAAAAAAAAAAAAAAAAAAAAAAAAAAAAAAAAAAAAAAAAAAAAAAAAAAAAAAAAAAAAAAAAAAAAAAAAAAANFriLJvvrE/fTfbgDDlDkArVqO7mAIhQEWYEDFQSx5ANLWY7JA9IEAAAAAAAAAkQAAAAAAAACRAAAAAAAAAJEAAAAAAAAAkQAAAAAAAACRAAAAAAAAAJEAAAAAAAAAkQAAAAAAAACRA\",\"dtype\":\"float64\",\"shape\":[72]},\"Air temperature\":{\"__ndarray__\":\"JSTcQXtrzEHQ+r9BJby3QSUisUHQ3KpBJWilQSWCoEHQ9ppBe/mTQdAYjUElOoxB0HSZQSVErEF7SbpBJYLJQXsF2UF7jeVBJUTuQdDE9EF7s/hBe0X5QSUa9UF7gexBeznfQXvNzkHQHMJB0DK5QdAKsEEl2qZBJaydQdBilEHQboxB0FqGQSXegkHQBoZB0FCWQSXqqkF7P7lBJS7FQSWs0EF7vdxBe3fmQdBW6UHQfuZBe3viQXtn20F7U9BBJcS/QXuHrEHQ/pxBJZ6SQdAmikHQEINBoBF6QUuQb0H1rmZB9a5eQaBtV0FLuFRBoK1dQfWObkGgTX9B0IaKQdAYmEHQHKVB0KavQdAWt0HQ6rdBe/+yQXvJrEHQfKhB\",\"dtype\":\"float32\",\"shape\":[72]},\"DHI\":{\"__ndarray__\":\"w1uNhTSiTkBUutISyBnfPwAAAAAAAAAAAAAAAAAAAAAAAAAAAAAAAAAAAAAAAAAAAAAAAAAAAAAAAAAAAAAAAAAAAAAAAAAAAAAAAAAAAAAAAAAAAAAAAPTRN/1X/xVAfqL6+rk9VEDrCvbY25NaQFjfRusFtVxAQW/3UxCOYEDJw5mHCANjQMsTgHaBx2RAZV5GFRsUaECBhQSvp/dzQPx7OFGnsHdASZaaTZ9qcUA0Psh3UqJrQJ5wBEyZJGRAwBT3RaVeTEDQs9FtDhjaPwAAAAAAAAAAAAAAAAAAAAAAAAAAAAAAAAAAAAAAAAAAAAAAAAAAAAAAAAAAAAAAAAAAAAAAAAAAAAAAAAAAAAAAAAAAAAAAACgZndj2cw1A2orgfjLbUUDQ6wsChYdkQCEDI4gGFG1AIEh7utWOcUDEfzRE7it1QKmlvaopjXVArMq9WM8jZUB8eL7Kip5kQAlIKtpXimJANUJGmRWFYED3lFtrdPljQCBOdKfRamNAGRXifdPsSECw02s8WlbaPwAAAAAAAAAAAAAAAAAAAAAAAAAAAAAAAAAAAAAAAAAAAAAAAAAAAAAAAAAAAAAAAAAAAAAAAAAAAAAAAAAAAAAAAAAAAAAAADV8UTCSSBhAH31ArmcmVUCBSE2EAYxgQIgtVCQtVW1A295mmnilcUDrgfzhKcxlQAedDrBAqGRAlyCMMMRTZUD/7VnlYXdkQHEhKdU4d2JAX2WcLDPzX0CYDjCyQwBcQLMlY3do01pA\",\"dtype\":\"float64\",\"shape\":[72]},\"DNI\":{\"__ndarray__\":\"cxq1DCfxV0AAAAAAAAAAAAAAAAAAAAAAAAAAAAAAAAAAAAAAAAAAAAAAAAAAAAAAAAAAAAAAAAAAAAAAAAAAAAAAAAAAAAAAAAAAAAAAAAAAAAAAAAAAAA3gd+opa/c/HPztYvsvbUBRz042cX+DQDFvOOP5qYhAD5CKBFOhikBDnb7gPGuLQKfUUdk0uotAyXnRdGiziEDFtd3i0Tt9QKuMaLlzEmRA9BbtNCNxO0DNg5sH3SlLQM3XHsbz22BAeB9yNjc5P0AAAAAAAAAAAAAAAAAAAAAAAAAAAAAAAAAAAAAAAAAAAAAAAAAAAAAAAAAAAAAAAAAAAAAAAAAAAAAAAAAAAAAAAAAAAAAAAAAAAAAAAAAAAKGV4rXZC+I/yXGAyb51LEC4IxsV5mA/QGvfwXZkTDpADzFPoc7YMUDFOAadvb82QIWi+xNBTXVAcBvz+DqYi0Dl+D4sUtGLQAtwxVUyeotAQWL9hBKdiUDtJycg/62BQJ+6q/nf92NAjX8oJ0flJkAAAAAAAAAAAAAAAAAAAAAAAAAAAAAAAAAAAAAAAAAAAAAAAAAAAAAAAAAAAAAAAAAAAAAAAAAAAAAAAAAAAAAAAAAAAAAAAAAAAAAAAAAAAMfoWaiGIP0/V7YnRMFhakA/HNfU/FF/QJH4M7vkMHZAZWaMPwCxd0ApWQG+HleIQKmCYk2GZItA1BKmZgHGi0D7R2Nx3KeLQOwMXMCkQ4tADHMAy7BJikDN07ZtlNaHQHy1geKSXIVA\",\"dtype\":\"float64\",\"shape\":[72]},\"GHI\":{\"__ndarray__\":\"HQ98uHkAVEBUutISyBnfPwAAAAAAAAAAAAAAAAAAAAAAAAAAAAAAAAAAAAAAAAAAAAAAAAAAAAAAAAAAAAAAAAAAAAAAAAAAAAAAAAAAAAAAAAAAAAAAAFXEgrTZdhZAAv+509T5YED5VLdoUq12QOgd8VvBSYJAWOrGOpdEiECvMGZj/suMQA3yWZetio9AU1ptSPT/jUABRVyBWruHQMLKOtM2LoBAVETFi1KwckB8vE7r7hlvQLQ0hXX8PmpAAPdQnrqBT0DQs9FtDhjaPwAAAAAAAAAAAAAAAAAAAAAAAAAAAAAAAAAAAAAAAAAAAAAAAAAAAAAAAAAAAAAAAAAAAAAAAAAAAAAAAAAAAAAAAAAAAAAAAPQJMj+syw1Anb9g+kaqUkDYtmN+8yZmQL+uJDsp/m5A7zJh9jhockBLfcfhqmt2QJeGLa+FA4VApP8ZehYMkEDX6ICNEj2PQCNNCOHhDIxA2K0jTr6bhkDYKtPLq+B9QImQDuoDNWtA1HQVh9sHSkCw02s8WlbaPwAAAAAAAAAAAAAAAAAAAAAAAAAAAAAAAAAAAAAAAAAAAAAAAAAAAAAAAAAAAAAAAAAAAAAAAAAAAAAAAAAAAAAAAAAAAAAAAEXO8POz3RhAZQrKX3fXYEBHA5RWlyd1QPdR+u0TjXtAX2KayPP+gUD97sZDXeKKQEcsUkP4Po9A7qA7kIErkEAdzxLAnhOPQHHpaIOC4ItAiCPXpKz4hkDt5wyf0LmAQAih+Oei8XlA\",\"dtype\":\"float64\",\"shape\":[72]},\"Wind speed\":{\"__ndarray__\":\"VRUWQFWVMUCrujNAABAdQFX1E0BVhQVAAGD4PwAwA0Cr6gVAAEDzPwCA0j+rSqs/q+qJPwDARz8AQEk/AADMP1WVMkBVtXJAq/KGQFV9jUAAiJ5Aq4K+QFXt3UAAiOhAANDPQADgpUAAyIxAq1p8QKvaYUCraj5AAIAPQFX1zz9VVaE/q2qLP1V1nD+rytQ/AJADQAAAHUBV/YJAVeXJQKu68kBVwQpBAPwZQVXFJkFVjTBBAAQ4QVUpPEEAqDZBq04fQQCw/0AASM5AVcWkQFUFg0AAEFxAVfVRQKtaUUCrCkpAq0o6QFUFLUCryitAADBQQFW9hUCr0pxAqzK6QKt63UCrkv9AVQENQQBUGUGrDiRBq74mQQDEI0EAICFB\",\"dtype\":\"float32\",\"shape\":[72]},\"index\":{\"__ndarray__\":\"AAAoDZCrdkIAABB8k6t2QgAA+OqWq3ZCAADgWZqrdkIAAMjInat2QgAAsDehq3ZCAACYpqSrdkIAAIAVqKt2QgAAaISrq3ZCAABQ866rdkIAADhisqt2QgAAING1q3ZCAAAIQLmrdkIAAPCuvKt2QgAA2B3Aq3ZCAADAjMOrdkIAAKj7xqt2QgAAkGrKq3ZCAAB42c2rdkIAAGBI0at2QgAASLfUq3ZCAAAwJtirdkIAABiV26t2QgAAAATfq3ZCAADocuKrdkIAANDh5at2QgAAuFDpq3ZCAACgv+yrdkIAAIgu8Kt2QgAAcJ3zq3ZCAABYDPerdkIAAEB7+qt2QgAAKOr9q3ZCAAAQWQGsdkIAAPjHBKx2QgAA4DYIrHZCAADIpQusdkIAALAUD6x2QgAAmIMSrHZCAACA8hWsdkIAAGhhGax2QgAAUNAcrHZCAAA4PyCsdkIAACCuI6x2QgAACB0nrHZCAADwiyqsdkIAANj6Lax2QgAAwGkxrHZCAACo2DSsdkIAAJBHOKx2QgAAeLY7rHZCAABgJT+sdkIAAEiUQqx2QgAAMANGrHZCAAAYckmsdkIAAADhTKx2QgAA6E9QrHZCAADQvlOsdkIAALgtV6x2QgAAoJxarHZCAACIC16sdkIAAHB6Yax2QgAAWOlkrHZCAABAWGisdkIAACjHa6x2QgAAEDZvrHZCAAD4pHKsdkIAAOATdqx2QgAAyIJ5rHZCAACw8XysdkIAAJhggKx2QgAAgM+DrHZC\",\"dtype\":\"float64\",\"shape\":[72]}},\"selected\":{\"id\":\"2558\",\"type\":\"Selection\"},\"selection_policy\":{\"id\":\"2559\",\"type\":\"UnionRenderers\"}},\"id\":\"2477\",\"type\":\"ColumnDataSource\"},{\"attributes\":{\"num_minor_ticks\":5,\"tickers\":[{\"id\":\"2684\",\"type\":\"AdaptiveTicker\"},{\"id\":\"2685\",\"type\":\"AdaptiveTicker\"},{\"id\":\"2686\",\"type\":\"AdaptiveTicker\"},{\"id\":\"2687\",\"type\":\"DaysTicker\"},{\"id\":\"2688\",\"type\":\"DaysTicker\"},{\"id\":\"2689\",\"type\":\"DaysTicker\"},{\"id\":\"2690\",\"type\":\"DaysTicker\"},{\"id\":\"2691\",\"type\":\"MonthsTicker\"},{\"id\":\"2692\",\"type\":\"MonthsTicker\"},{\"id\":\"2693\",\"type\":\"MonthsTicker\"},{\"id\":\"2694\",\"type\":\"MonthsTicker\"},{\"id\":\"2695\",\"type\":\"YearsTicker\"}]},\"id\":\"2652\",\"type\":\"DatetimeTicker\"},{\"attributes\":{\"months\":[0,6]},\"id\":\"2530\",\"type\":\"MonthsTicker\"},{\"attributes\":{},\"id\":\"2500\",\"type\":\"ResetTool\"},{\"attributes\":{\"ticker\":{\"id\":\"2652\",\"type\":\"DatetimeTicker\"}},\"id\":\"2655\",\"type\":\"Grid\"},{\"attributes\":{\"source\":{\"id\":\"2477\",\"type\":\"ColumnDataSource\"}},\"id\":\"2512\",\"type\":\"CDSView\"},{\"attributes\":{\"dimension\":1,\"ticker\":{\"id\":\"2657\",\"type\":\"BasicTicker\"}},\"id\":\"2660\",\"type\":\"Grid\"},{\"attributes\":{\"line_color\":\"#9467bd\",\"line_width\":2,\"x\":{\"field\":\"index\"},\"y\":{\"field\":\"Wind speed\"}},\"id\":\"2673\",\"type\":\"Line\"},{\"attributes\":{},\"id\":\"2734\",\"type\":\"BasicTickFormatter\"},{\"attributes\":{\"line_alpha\":0.1,\"line_color\":\"#1f77b4\",\"line_width\":2,\"x\":{\"field\":\"index\"},\"y\":{\"field\":\"AC power\"}},\"id\":\"2729\",\"type\":\"Line\"},{\"attributes\":{\"active_drag\":\"auto\",\"active_inspect\":\"auto\",\"active_multi\":null,\"active_scroll\":\"auto\",\"active_tap\":\"auto\",\"tools\":[{\"id\":\"2661\",\"type\":\"PanTool\"},{\"id\":\"2662\",\"type\":\"BoxZoomTool\"},{\"id\":\"2663\",\"type\":\"WheelZoomTool\"},{\"id\":\"2664\",\"type\":\"ResetTool\"},{\"id\":\"2665\",\"type\":\"SaveTool\"}]},\"id\":\"2666\",\"type\":\"Toolbar\"},{\"attributes\":{},\"id\":\"2661\",\"type\":\"PanTool\"},{\"attributes\":{\"overlay\":{\"id\":\"2683\",\"type\":\"BoxAnnotation\"}},\"id\":\"2662\",\"type\":\"BoxZoomTool\"},{\"attributes\":{\"text\":\"\"},\"id\":\"2513\",\"type\":\"Title\"},{\"attributes\":{\"dimensions\":\"width\"},\"id\":\"2663\",\"type\":\"WheelZoomTool\"},{\"attributes\":{\"active_drag\":\"auto\",\"active_inspect\":\"auto\",\"active_multi\":null,\"active_scroll\":\"auto\",\"active_tap\":\"auto\",\"tools\":[{\"id\":\"2497\",\"type\":\"PanTool\"},{\"id\":\"2498\",\"type\":\"BoxZoomTool\"},{\"id\":\"2499\",\"type\":\"WheelZoomTool\"},{\"id\":\"2500\",\"type\":\"ResetTool\"},{\"id\":\"2501\",\"type\":\"SaveTool\"}]},\"id\":\"2502\",\"type\":\"Toolbar\"},{\"attributes\":{\"overlay\":{\"id\":\"2519\",\"type\":\"BoxAnnotation\"}},\"id\":\"2498\",\"type\":\"BoxZoomTool\"},{\"attributes\":{},\"id\":\"2664\",\"type\":\"ResetTool\"},{\"attributes\":{\"callback\":null},\"id\":\"2479\",\"type\":\"DataRange1d\"},{\"attributes\":{\"data_source\":{\"id\":\"2477\",\"type\":\"ColumnDataSource\"},\"glyph\":{\"id\":\"2509\",\"type\":\"Line\"},\"hover_glyph\":null,\"muted_glyph\":null,\"nonselection_glyph\":{\"id\":\"2510\",\"type\":\"Line\"},\"selection_glyph\":null,\"view\":{\"id\":\"2512\",\"type\":\"CDSView\"}},\"id\":\"2511\",\"type\":\"GlyphRenderer\"},{\"attributes\":{},\"id\":\"2665\",\"type\":\"SaveTool\"},{\"attributes\":{\"below\":[{\"id\":\"2596\",\"type\":\"DatetimeAxis\"}],\"center\":[{\"id\":\"2600\",\"type\":\"Grid\"},{\"id\":\"2605\",\"type\":\"Grid\"},{\"id\":\"2641\",\"type\":\"Legend\"}],\"left\":[{\"id\":\"2601\",\"type\":\"LinearAxis\"}],\"plot_height\":200,\"plot_width\":800,\"renderers\":[{\"id\":\"2620\",\"type\":\"GlyphRenderer\"}],\"title\":{\"id\":\"2622\",\"type\":\"Title\"},\"toolbar\":{\"id\":\"2611\",\"type\":\"Toolbar\"},\"toolbar_location\":null,\"x_range\":{\"id\":\"2479\",\"type\":\"DataRange1d\"},\"x_scale\":{\"id\":\"2592\",\"type\":\"LinearScale\"},\"y_range\":{\"id\":\"2590\",\"type\":\"DataRange1d\"},\"y_scale\":{\"id\":\"2594\",\"type\":\"LinearScale\"}},\"id\":\"2588\",\"subtype\":\"Figure\",\"type\":\"Plot\"},{\"attributes\":{},\"id\":\"2501\",\"type\":\"SaveTool\"},{\"attributes\":{\"days\":[1,2,3,4,5,6,7,8,9,10,11,12,13,14,15,16,17,18,19,20,21,22,23,24,25,26,27,28,29,30,31]},\"id\":\"2523\",\"type\":\"DaysTicker\"},{\"attributes\":{\"dimensions\":\"width\"},\"id\":\"2499\",\"type\":\"WheelZoomTool\"},{\"attributes\":{\"line_alpha\":0.1,\"line_color\":\"#1f77b4\",\"line_width\":2,\"x\":{\"field\":\"index\"},\"y\":{\"field\":\"GHI\"}},\"id\":\"2510\",\"type\":\"Line\"},{\"attributes\":{\"line_alpha\":0.1,\"line_color\":\"#1f77b4\",\"line_width\":2,\"x\":{\"field\":\"index\"},\"y\":{\"field\":\"Wind speed\"}},\"id\":\"2674\",\"type\":\"Line\"},{\"attributes\":{},\"id\":\"2558\",\"type\":\"Selection\"},{\"attributes\":{},\"id\":\"2517\",\"type\":\"DatetimeTickFormatter\"},{\"attributes\":{\"data_source\":{\"id\":\"2477\",\"type\":\"ColumnDataSource\"},\"glyph\":{\"id\":\"2673\",\"type\":\"Line\"},\"hover_glyph\":null,\"muted_glyph\":null,\"nonselection_glyph\":{\"id\":\"2674\",\"type\":\"Line\"},\"selection_glyph\":null,\"view\":{\"id\":\"2676\",\"type\":\"CDSView\"}},\"id\":\"2675\",\"type\":\"GlyphRenderer\"},{\"attributes\":{\"months\":[0,4,8]},\"id\":\"2529\",\"type\":\"MonthsTicker\"},{\"attributes\":{\"items\":[{\"id\":\"2533\",\"type\":\"LegendItem\"},{\"id\":\"2560\",\"type\":\"LegendItem\"},{\"id\":\"2587\",\"type\":\"LegendItem\"}],\"location\":\"top_left\"},\"id\":\"2532\",\"type\":\"Legend\"},{\"attributes\":{\"source\":{\"id\":\"2477\",\"type\":\"ColumnDataSource\"}},\"id\":\"2676\",\"type\":\"CDSView\"},{\"attributes\":{\"mantissas\":[1,2,5],\"max_interval\":500.0,\"num_minor_ticks\":0},\"id\":\"2520\",\"type\":\"AdaptiveTicker\"},{\"attributes\":{},\"id\":\"2515\",\"type\":\"BasicTickFormatter\"},{\"attributes\":{\"months\":[0,2,4,6,8,10]},\"id\":\"2528\",\"type\":\"MonthsTicker\"},{\"attributes\":{\"bottom_units\":\"screen\",\"fill_alpha\":{\"value\":0.5},\"fill_color\":{\"value\":\"lightgrey\"},\"left_units\":\"screen\",\"level\":\"overlay\",\"line_alpha\":{\"value\":1.0},\"line_color\":{\"value\":\"black\"},\"line_dash\":[4,4],\"line_width\":{\"value\":2},\"render_mode\":\"css\",\"right_units\":\"screen\",\"top_units\":\"screen\"},\"id\":\"2519\",\"type\":\"BoxAnnotation\"},{\"attributes\":{\"text\":\"\"},\"id\":\"2677\",\"type\":\"Title\"},{\"attributes\":{\"label\":{\"value\":\"GHI\"},\"renderers\":[{\"id\":\"2511\",\"type\":\"GlyphRenderer\"}]},\"id\":\"2533\",\"type\":\"LegendItem\"},{\"attributes\":{},\"id\":\"2679\",\"type\":\"BasicTickFormatter\"},{\"attributes\":{\"formatter\":{\"id\":\"2626\",\"type\":\"DatetimeTickFormatter\"},\"ticker\":{\"id\":\"2597\",\"type\":\"DatetimeTicker\"}},\"id\":\"2596\",\"type\":\"DatetimeAxis\"},{\"attributes\":{},\"id\":\"2681\",\"type\":\"DatetimeTickFormatter\"},{\"attributes\":{\"bottom_units\":\"screen\",\"fill_alpha\":{\"value\":0.5},\"fill_color\":{\"value\":\"lightgrey\"},\"left_units\":\"screen\",\"level\":\"overlay\",\"line_alpha\":{\"value\":1.0},\"line_color\":{\"value\":\"black\"},\"line_dash\":[4,4],\"line_width\":{\"value\":2},\"render_mode\":\"css\",\"right_units\":\"screen\",\"top_units\":\"screen\"},\"id\":\"2683\",\"type\":\"BoxAnnotation\"},{\"attributes\":{\"line_color\":\"#ff7f0e\",\"line_width\":2,\"x\":{\"field\":\"index\"},\"y\":{\"field\":\"DNI\"}},\"id\":\"2535\",\"type\":\"Line\"},{\"attributes\":{\"ticker\":{\"id\":\"2488\",\"type\":\"DatetimeTicker\"}},\"id\":\"2491\",\"type\":\"Grid\"},{\"attributes\":{\"line_alpha\":0.1,\"line_color\":\"#1f77b4\",\"line_width\":2,\"x\":{\"field\":\"index\"},\"y\":{\"field\":\"DNI\"}},\"id\":\"2536\",\"type\":\"Line\"},{\"attributes\":{\"mantissas\":[1,2,5],\"max_interval\":500.0,\"num_minor_ticks\":0},\"id\":\"2684\",\"type\":\"AdaptiveTicker\"},{\"attributes\":{\"data_source\":{\"id\":\"2477\",\"type\":\"ColumnDataSource\"},\"glyph\":{\"id\":\"2535\",\"type\":\"Line\"},\"hover_glyph\":null,\"muted_glyph\":null,\"nonselection_glyph\":{\"id\":\"2536\",\"type\":\"Line\"},\"selection_glyph\":null,\"view\":{\"id\":\"2538\",\"type\":\"CDSView\"}},\"id\":\"2537\",\"type\":\"GlyphRenderer\"},{\"attributes\":{\"base\":60,\"mantissas\":[1,2,5,10,15,20,30],\"max_interval\":1800000.0,\"min_interval\":1000.0,\"num_minor_ticks\":0},\"id\":\"2685\",\"type\":\"AdaptiveTicker\"},{\"attributes\":{\"source\":{\"id\":\"2477\",\"type\":\"ColumnDataSource\"}},\"id\":\"2538\",\"type\":\"CDSView\"},{\"attributes\":{\"base\":24,\"mantissas\":[1,2,4,6,8,12],\"max_interval\":43200000.0,\"min_interval\":3600000.0,\"num_minor_ticks\":0},\"id\":\"2686\",\"type\":\"AdaptiveTicker\"},{\"attributes\":{},\"id\":\"2559\",\"type\":\"UnionRenderers\"},{\"attributes\":{\"days\":[1,2,3,4,5,6,7,8,9,10,11,12,13,14,15,16,17,18,19,20,21,22,23,24,25,26,27,28,29,30,31]},\"id\":\"2687\",\"type\":\"DaysTicker\"},{\"attributes\":{\"label\":{\"value\":\"DNI\"},\"renderers\":[{\"id\":\"2537\",\"type\":\"GlyphRenderer\"}]},\"id\":\"2560\",\"type\":\"LegendItem\"},{\"attributes\":{\"days\":[1,4,7,10,13,16,19,22,25,28]},\"id\":\"2688\",\"type\":\"DaysTicker\"},{\"attributes\":{},\"id\":\"2657\",\"type\":\"BasicTicker\"},{\"attributes\":{\"line_color\":\"#1f77b4\",\"line_width\":2,\"x\":{\"field\":\"index\"},\"y\":{\"field\":\"GHI\"}},\"id\":\"2509\",\"type\":\"Line\"},{\"attributes\":{\"days\":[1,8,15,22]},\"id\":\"2689\",\"type\":\"DaysTicker\"},{\"attributes\":{\"line_color\":\"#2ca02c\",\"line_width\":2,\"x\":{\"field\":\"index\"},\"y\":{\"field\":\"DHI\"}},\"id\":\"2562\",\"type\":\"Line\"},{\"attributes\":{\"days\":[1,15]},\"id\":\"2690\",\"type\":\"DaysTicker\"},{\"attributes\":{\"line_alpha\":0.1,\"line_color\":\"#1f77b4\",\"line_width\":2,\"x\":{\"field\":\"index\"},\"y\":{\"field\":\"DHI\"}},\"id\":\"2563\",\"type\":\"Line\"},{\"attributes\":{\"callback\":null},\"id\":\"2481\",\"type\":\"DataRange1d\"},{\"attributes\":{\"months\":[0,1,2,3,4,5,6,7,8,9,10,11]},\"id\":\"2691\",\"type\":\"MonthsTicker\"},{\"attributes\":{\"data_source\":{\"id\":\"2477\",\"type\":\"ColumnDataSource\"},\"glyph\":{\"id\":\"2562\",\"type\":\"Line\"},\"hover_glyph\":null,\"muted_glyph\":null,\"nonselection_glyph\":{\"id\":\"2563\",\"type\":\"Line\"},\"selection_glyph\":null,\"view\":{\"id\":\"2565\",\"type\":\"CDSView\"}},\"id\":\"2564\",\"type\":\"GlyphRenderer\"},{\"attributes\":{\"months\":[0,2,4,6,8,10]},\"id\":\"2692\",\"type\":\"MonthsTicker\"},{\"attributes\":{\"source\":{\"id\":\"2477\",\"type\":\"ColumnDataSource\"}},\"id\":\"2565\",\"type\":\"CDSView\"},{\"attributes\":{\"months\":[0,4,8]},\"id\":\"2693\",\"type\":\"MonthsTicker\"},{\"attributes\":{\"label\":{\"value\":\"DHI\"},\"renderers\":[{\"id\":\"2564\",\"type\":\"GlyphRenderer\"}]},\"id\":\"2587\",\"type\":\"LegendItem\"},{\"attributes\":{\"months\":[0,6]},\"id\":\"2694\",\"type\":\"MonthsTicker\"},{\"attributes\":{},\"id\":\"2695\",\"type\":\"YearsTicker\"},{\"attributes\":{\"callback\":null},\"id\":\"2590\",\"type\":\"DataRange1d\"},{\"attributes\":{\"items\":[{\"id\":\"2697\",\"type\":\"LegendItem\"}],\"location\":\"top_left\"},\"id\":\"2696\",\"type\":\"Legend\"},{\"attributes\":{\"dimension\":1,\"ticker\":{\"id\":\"2493\",\"type\":\"BasicTicker\"}},\"id\":\"2496\",\"type\":\"Grid\"},{\"attributes\":{},\"id\":\"2592\",\"type\":\"LinearScale\"},{\"attributes\":{\"label\":{\"value\":\"Wind speed\"},\"renderers\":[{\"id\":\"2675\",\"type\":\"GlyphRenderer\"}]},\"id\":\"2697\",\"type\":\"LegendItem\"},{\"attributes\":{},\"id\":\"2594\",\"type\":\"LinearScale\"},{\"attributes\":{},\"id\":\"2493\",\"type\":\"BasicTicker\"},{\"attributes\":{},\"id\":\"2702\",\"type\":\"LinearScale\"},{\"attributes\":{\"num_minor_ticks\":5,\"tickers\":[{\"id\":\"2629\",\"type\":\"AdaptiveTicker\"},{\"id\":\"2630\",\"type\":\"AdaptiveTicker\"},{\"id\":\"2631\",\"type\":\"AdaptiveTicker\"},{\"id\":\"2632\",\"type\":\"DaysTicker\"},{\"id\":\"2633\",\"type\":\"DaysTicker\"},{\"id\":\"2634\",\"type\":\"DaysTicker\"},{\"id\":\"2635\",\"type\":\"DaysTicker\"},{\"id\":\"2636\",\"type\":\"MonthsTicker\"},{\"id\":\"2637\",\"type\":\"MonthsTicker\"},{\"id\":\"2638\",\"type\":\"MonthsTicker\"},{\"id\":\"2639\",\"type\":\"MonthsTicker\"},{\"id\":\"2640\",\"type\":\"YearsTicker\"}]},\"id\":\"2597\",\"type\":\"DatetimeTicker\"},{\"attributes\":{\"ticker\":{\"id\":\"2597\",\"type\":\"DatetimeTicker\"}},\"id\":\"2600\",\"type\":\"Grid\"},{\"attributes\":{\"callback\":null},\"id\":\"2700\",\"type\":\"DataRange1d\"},{\"attributes\":{},\"id\":\"2497\",\"type\":\"PanTool\"},{\"attributes\":{\"axis_label\":\"Air temperature (C)\",\"formatter\":{\"id\":\"2624\",\"type\":\"BasicTickFormatter\"},\"ticker\":{\"id\":\"2602\",\"type\":\"BasicTicker\"}},\"id\":\"2601\",\"type\":\"LinearAxis\"},{\"attributes\":{},\"id\":\"2704\",\"type\":\"LinearScale\"},{\"attributes\":{},\"id\":\"2602\",\"type\":\"BasicTicker\"},{\"attributes\":{\"axis_label\":\"Time (UTC)\",\"formatter\":{\"id\":\"2736\",\"type\":\"DatetimeTickFormatter\"},\"ticker\":{\"id\":\"2707\",\"type\":\"DatetimeTicker\"}},\"id\":\"2706\",\"type\":\"DatetimeAxis\"},{\"attributes\":{\"dimension\":1,\"ticker\":{\"id\":\"2602\",\"type\":\"BasicTicker\"}},\"id\":\"2605\",\"type\":\"Grid\"},{\"attributes\":{\"num_minor_ticks\":5,\"tickers\":[{\"id\":\"2739\",\"type\":\"AdaptiveTicker\"},{\"id\":\"2740\",\"type\":\"AdaptiveTicker\"},{\"id\":\"2741\",\"type\":\"AdaptiveTicker\"},{\"id\":\"2742\",\"type\":\"DaysTicker\"},{\"id\":\"2743\",\"type\":\"DaysTicker\"},{\"id\":\"2744\",\"type\":\"DaysTicker\"},{\"id\":\"2745\",\"type\":\"DaysTicker\"},{\"id\":\"2746\",\"type\":\"MonthsTicker\"},{\"id\":\"2747\",\"type\":\"MonthsTicker\"},{\"id\":\"2748\",\"type\":\"MonthsTicker\"},{\"id\":\"2749\",\"type\":\"MonthsTicker\"},{\"id\":\"2750\",\"type\":\"YearsTicker\"}]},\"id\":\"2707\",\"type\":\"DatetimeTicker\"},{\"attributes\":{\"line_color\":\"#d62728\",\"line_width\":2,\"x\":{\"field\":\"index\"},\"y\":{\"field\":\"Air temperature\"}},\"id\":\"2618\",\"type\":\"Line\"},{\"attributes\":{\"ticker\":{\"id\":\"2707\",\"type\":\"DatetimeTicker\"}},\"id\":\"2710\",\"type\":\"Grid\"},{\"attributes\":{\"axis_label\":\"Wind speed (m/s)\",\"formatter\":{\"id\":\"2679\",\"type\":\"BasicTickFormatter\"},\"ticker\":{\"id\":\"2657\",\"type\":\"BasicTicker\"}},\"id\":\"2656\",\"type\":\"LinearAxis\"},{\"attributes\":{\"active_drag\":\"auto\",\"active_inspect\":\"auto\",\"active_multi\":null,\"active_scroll\":\"auto\",\"active_tap\":\"auto\",\"tools\":[{\"id\":\"2606\",\"type\":\"PanTool\"},{\"id\":\"2607\",\"type\":\"BoxZoomTool\"},{\"id\":\"2608\",\"type\":\"WheelZoomTool\"},{\"id\":\"2609\",\"type\":\"ResetTool\"},{\"id\":\"2610\",\"type\":\"SaveTool\"}]},\"id\":\"2611\",\"type\":\"Toolbar\"},{\"attributes\":{\"axis_label\":\"AC power (MW)\",\"formatter\":{\"id\":\"2734\",\"type\":\"BasicTickFormatter\"},\"ticker\":{\"id\":\"2712\",\"type\":\"BasicTicker\"}},\"id\":\"2711\",\"type\":\"LinearAxis\"},{\"attributes\":{},\"id\":\"2606\",\"type\":\"PanTool\"},{\"attributes\":{},\"id\":\"2712\",\"type\":\"BasicTicker\"},{\"attributes\":{\"overlay\":{\"id\":\"2628\",\"type\":\"BoxAnnotation\"}},\"id\":\"2607\",\"type\":\"BoxZoomTool\"},{\"attributes\":{\"dimension\":1,\"ticker\":{\"id\":\"2712\",\"type\":\"BasicTicker\"}},\"id\":\"2715\",\"type\":\"Grid\"},{\"attributes\":{\"dimensions\":\"width\"},\"id\":\"2608\",\"type\":\"WheelZoomTool\"},{\"attributes\":{\"line_color\":\"#8c564b\",\"line_width\":2,\"x\":{\"field\":\"index\"},\"y\":{\"field\":\"AC power\"}},\"id\":\"2728\",\"type\":\"Line\"},{\"attributes\":{\"below\":[{\"id\":\"2487\",\"type\":\"DatetimeAxis\"}],\"center\":[{\"id\":\"2491\",\"type\":\"Grid\"},{\"id\":\"2496\",\"type\":\"Grid\"},{\"id\":\"2532\",\"type\":\"Legend\"}],\"left\":[{\"id\":\"2492\",\"type\":\"LinearAxis\"}],\"plot_height\":200,\"plot_width\":800,\"renderers\":[{\"id\":\"2511\",\"type\":\"GlyphRenderer\"},{\"id\":\"2537\",\"type\":\"GlyphRenderer\"},{\"id\":\"2564\",\"type\":\"GlyphRenderer\"}],\"title\":{\"id\":\"2513\",\"type\":\"Title\"},\"toolbar\":{\"id\":\"2502\",\"type\":\"Toolbar\"},\"toolbar_location\":null,\"x_range\":{\"id\":\"2479\",\"type\":\"DataRange1d\"},\"x_scale\":{\"id\":\"2483\",\"type\":\"LinearScale\"},\"y_range\":{\"id\":\"2481\",\"type\":\"DataRange1d\"},\"y_scale\":{\"id\":\"2485\",\"type\":\"LinearScale\"}},\"id\":\"2478\",\"subtype\":\"Figure\",\"type\":\"Plot\"},{\"attributes\":{},\"id\":\"2609\",\"type\":\"ResetTool\"},{\"attributes\":{\"text\":\"\"},\"id\":\"2732\",\"type\":\"Title\"},{\"attributes\":{},\"id\":\"2610\",\"type\":\"SaveTool\"},{\"attributes\":{\"active_drag\":\"auto\",\"active_inspect\":\"auto\",\"active_multi\":null,\"active_scroll\":\"auto\",\"active_tap\":\"auto\",\"tools\":[{\"id\":\"2716\",\"type\":\"PanTool\"},{\"id\":\"2717\",\"type\":\"BoxZoomTool\"},{\"id\":\"2718\",\"type\":\"WheelZoomTool\"},{\"id\":\"2719\",\"type\":\"ResetTool\"},{\"id\":\"2720\",\"type\":\"SaveTool\"}]},\"id\":\"2721\",\"type\":\"Toolbar\"},{\"attributes\":{},\"id\":\"2716\",\"type\":\"PanTool\"},{\"attributes\":{\"line_alpha\":0.1,\"line_color\":\"#1f77b4\",\"line_width\":2,\"x\":{\"field\":\"index\"},\"y\":{\"field\":\"Air temperature\"}},\"id\":\"2619\",\"type\":\"Line\"},{\"attributes\":{\"overlay\":{\"id\":\"2738\",\"type\":\"BoxAnnotation\"}},\"id\":\"2717\",\"type\":\"BoxZoomTool\"},{\"attributes\":{\"axis_label\":\"Irradiance (W/m^2)\",\"formatter\":{\"id\":\"2515\",\"type\":\"BasicTickFormatter\"},\"ticker\":{\"id\":\"2493\",\"type\":\"BasicTicker\"}},\"id\":\"2492\",\"type\":\"LinearAxis\"},{\"attributes\":{\"data_source\":{\"id\":\"2477\",\"type\":\"ColumnDataSource\"},\"glyph\":{\"id\":\"2618\",\"type\":\"Line\"},\"hover_glyph\":null,\"muted_glyph\":null,\"nonselection_glyph\":{\"id\":\"2619\",\"type\":\"Line\"},\"selection_glyph\":null,\"view\":{\"id\":\"2621\",\"type\":\"CDSView\"}},\"id\":\"2620\",\"type\":\"GlyphRenderer\"},{\"attributes\":{\"dimensions\":\"width\"},\"id\":\"2718\",\"type\":\"WheelZoomTool\"},{\"attributes\":{},\"id\":\"2719\",\"type\":\"ResetTool\"},{\"attributes\":{\"num_minor_ticks\":5,\"tickers\":[{\"id\":\"2520\",\"type\":\"AdaptiveTicker\"},{\"id\":\"2521\",\"type\":\"AdaptiveTicker\"},{\"id\":\"2522\",\"type\":\"AdaptiveTicker\"},{\"id\":\"2523\",\"type\":\"DaysTicker\"},{\"id\":\"2524\",\"type\":\"DaysTicker\"},{\"id\":\"2525\",\"type\":\"DaysTicker\"},{\"id\":\"2526\",\"type\":\"DaysTicker\"},{\"id\":\"2527\",\"type\":\"MonthsTicker\"},{\"id\":\"2528\",\"type\":\"MonthsTicker\"},{\"id\":\"2529\",\"type\":\"MonthsTicker\"},{\"id\":\"2530\",\"type\":\"MonthsTicker\"},{\"id\":\"2531\",\"type\":\"YearsTicker\"}]},\"id\":\"2488\",\"type\":\"DatetimeTicker\"},{\"attributes\":{\"source\":{\"id\":\"2477\",\"type\":\"ColumnDataSource\"}},\"id\":\"2621\",\"type\":\"CDSView\"},{\"attributes\":{},\"id\":\"2720\",\"type\":\"SaveTool\"},{\"attributes\":{\"text\":\"\"},\"id\":\"2622\",\"type\":\"Title\"},{\"attributes\":{},\"id\":\"2624\",\"type\":\"BasicTickFormatter\"}],\"root_ids\":[\"2844\"]},\"title\":\"Bokeh Application\",\"version\":\"1.2.0\"}};\n",
       "  var render_items = [{\"docid\":\"915c56dd-6c93-477f-8b67-dc0b8ac04c3a\",\"roots\":{\"2844\":\"d033e8ac-4326-43c9-b8f6-af5a1d64e0a3\"}}];\n",
       "  root.Bokeh.embed.embed_items_notebook(docs_json, render_items);\n",
       "\n",
       "  }\n",
       "  if (root.Bokeh !== undefined) {\n",
       "    embed_document(root);\n",
       "  } else {\n",
       "    var attempts = 0;\n",
       "    var timer = setInterval(function(root) {\n",
       "      if (root.Bokeh !== undefined) {\n",
       "        embed_document(root);\n",
       "        clearInterval(timer);\n",
       "      }\n",
       "      attempts++;\n",
       "      if (attempts > 100) {\n",
       "        console.log(\"Bokeh: ERROR: Unable to run BokehJS code because BokehJS library is missing\");\n",
       "        clearInterval(timer);\n",
       "      }\n",
       "    }, 10, root)\n",
       "  }\n",
       "})(window);"
      ],
      "application/vnd.bokehjs_exec.v0+json": ""
     },
     "metadata": {
      "application/vnd.bokehjs_exec.v0+json": {
       "id": "2844"
      }
     },
     "output_type": "display_data"
    }
   ],
   "source": [
    "# select the model\n",
    "model = models.gfs_quarter_deg_to_hourly_mean\n",
    "\n",
    "# tell the model where to find the NWP data\n",
    "model_wrapped = partial(model, load_forecast=load_forecast)\n",
    "\n",
    "# load and process the NWP data. only difference from before is plant replaces site\n",
    "ghi, dni, dhi, air_temperature, wind_speed, ac_power = main.run(plant, model_wrapped, init_time, start, end)\n",
    "\n",
    "grid = plot_nwp(ghi, dni, dhi, air_temperature, wind_speed, ac_power)\n",
    "show(grid)"
   ]
  },
  {
   "cell_type": "markdown",
   "metadata": {},
   "source": [
    "## Persistence forecasts\n",
    "\n",
    "The solarforecastarbiter supports several varieties of persistence forecasts:\n",
    "\n",
    "1. Persistence of observed values\n",
    "2. Persistence of irradiance or power accounting for solar position. (This is sometimes referred to as smart persistence, but we discourage that term because it's ambiguous.)\n",
    "\n",
    "The [`persistence`](https://solarforecastarbiter-core.readthedocs.io/en/latest/generated/solarforecastarbiter.reference_forecasts.persistence.html#module-solarforecastarbiter.reference_forecasts.persistence) module contains functions that implement these methods and are easily adapted to a user's own data and workflow. The [`reference_forecasts.main.run_persistence`](https://solarforecastarbiter-core.readthedocs.io/en/latest/generated/solarforecastarbiter.reference_forecasts.main.run_persistence.html#solarforecastarbiter.reference_forecasts.main.run_persistence) function is a higher-level interface that integrate more tightly with the Solar Forecast Arbiter data model and API."
   ]
  },
  {
   "cell_type": "markdown",
   "metadata": {},
   "source": [
    "### run_persistence"
   ]
  },
  {
   "cell_type": "markdown",
   "metadata": {},
   "source": [
    "The code below queries the API for observation metadata and data. We'll use the NREL MIDC OASIS station located on the University of Arizona campus. See the [Data Upload and Download]() exercises for more information on the data transfer."
   ]
  },
  {
   "cell_type": "code",
   "execution_count": 13,
   "metadata": {},
   "outputs": [
    {
     "data": {
      "text/plain": [
       "Observation(name='University of Arizona OASIS ghi', variable='ghi', interval_value_type='interval_mean', interval_length=Timedelta('0 days 00:01:00'), interval_label='ending', site=Site(name='NREL MIDC University of Arizona OASIS', latitude=32.22969, longitude=-110.95534, elevation=786.0, timezone='Etc/GMT+7', site_id='9f61b880-7e49-11e9-9624-0a580a8003e9', provider='Reference', extra_parameters='{\"network\": \"NREL MIDC\", \"network_api_id\": \"UAT\", \"network_api_abbreviation\": \"UA OASIS\", \"observation_interval_length\": 1}'), uncertainty=0.0, observation_id='9f657636-7e49-11e9-b77f-0a580a8003e9', extra_parameters='{\"network\": \"NREL MIDC\", \"network_api_id\": \"UAT\", \"network_api_abbreviation\": \"UA OASIS\", \"observation_interval_length\": 1, \"network_data_label\": \"Global Horiz (platform) [W/m^2]\"}', units='W/m^2')"
      ]
     },
     "execution_count": 13,
     "metadata": {},
     "output_type": "execute_result"
    }
   ],
   "source": [
    "from solarforecastarbiter.io.api import APISession, request_cli_access_token\n",
    "# don't store your real passwords or tokens in plain text like this! only for demonstration purposes!\n",
    "token = request_cli_access_token('testing@solarforecastarbiter.org', 'Thepassword123!')\n",
    "session = APISession(token)\n",
    "observations = session.list_observations()\n",
    "observations_oasis = list(filter(lambda x: 'NREL MIDC' in x.site.name and 'Arizona' in x.site.name, observations))\n",
    "oasis_ghi = observations_oasis[0]\n",
    "oasis_ghi"
   ]
  },
  {
   "cell_type": "code",
   "execution_count": 14,
   "metadata": {},
   "outputs": [
    {
     "data": {
      "text/html": [
       "<div>\n",
       "<style scoped>\n",
       "    .dataframe tbody tr th:only-of-type {\n",
       "        vertical-align: middle;\n",
       "    }\n",
       "\n",
       "    .dataframe tbody tr th {\n",
       "        vertical-align: top;\n",
       "    }\n",
       "\n",
       "    .dataframe thead th {\n",
       "        text-align: right;\n",
       "    }\n",
       "</style>\n",
       "<table border=\"1\" class=\"dataframe\">\n",
       "  <thead>\n",
       "    <tr style=\"text-align: right;\">\n",
       "      <th></th>\n",
       "      <th>value</th>\n",
       "      <th>quality_flag</th>\n",
       "    </tr>\n",
       "    <tr>\n",
       "      <th>timestamp</th>\n",
       "      <th></th>\n",
       "      <th></th>\n",
       "    </tr>\n",
       "  </thead>\n",
       "  <tbody>\n",
       "    <tr>\n",
       "      <th>2019-05-15 00:00:00+00:00</th>\n",
       "      <td>428.807</td>\n",
       "      <td>2</td>\n",
       "    </tr>\n",
       "    <tr>\n",
       "      <th>2019-05-15 00:01:00+00:00</th>\n",
       "      <td>425.372</td>\n",
       "      <td>2</td>\n",
       "    </tr>\n",
       "    <tr>\n",
       "      <th>2019-05-15 00:02:00+00:00</th>\n",
       "      <td>422.223</td>\n",
       "      <td>2</td>\n",
       "    </tr>\n",
       "    <tr>\n",
       "      <th>2019-05-15 00:03:00+00:00</th>\n",
       "      <td>418.949</td>\n",
       "      <td>2</td>\n",
       "    </tr>\n",
       "    <tr>\n",
       "      <th>2019-05-15 00:04:00+00:00</th>\n",
       "      <td>414.445</td>\n",
       "      <td>2</td>\n",
       "    </tr>\n",
       "  </tbody>\n",
       "</table>\n",
       "</div>"
      ],
      "text/plain": [
       "                             value  quality_flag\n",
       "timestamp                                       \n",
       "2019-05-15 00:00:00+00:00  428.807             2\n",
       "2019-05-15 00:01:00+00:00  425.372             2\n",
       "2019-05-15 00:02:00+00:00  422.223             2\n",
       "2019-05-15 00:03:00+00:00  418.949             2\n",
       "2019-05-15 00:04:00+00:00  414.445             2"
      ]
     },
     "execution_count": 14,
     "metadata": {},
     "output_type": "execute_result"
    }
   ],
   "source": [
    "start = pd.Timestamp('20190515 0000Z')\n",
    "end = pd.Timestamp('20190518 0000Z')\n",
    "oasis_ghi_values = session.get_observation_values(oasis_ghi.observation_id, start, end)\n",
    "oasis_ghi_values.head()"
   ]
  },
  {
   "cell_type": "markdown",
   "metadata": {},
   "source": [
    "Our example persistence forecast will be a 15 minute ahead, 15 minute interval average forecast for the NREL MIDC OASIS GHI observation. Both the observation's and forecast's intervals are labeled by their ending time."
   ]
  },
  {
   "cell_type": "code",
   "execution_count": 15,
   "metadata": {},
   "outputs": [],
   "source": [
    "forecast = datamodel.Forecast(\n",
    "    name='15 min ahead, 15 min avg', \n",
    "    issue_time_of_day=datetime.time(0), \n",
    "    lead_time_to_start=pd.Timedelta('15min'),\n",
    "    interval_length=pd.Timedelta('15min'),\n",
    "    run_length=pd.Timedelta('15min'),\n",
    "    interval_label='ending',\n",
    "    interval_value_type='interval_mean',\n",
    "    variable='ghi',\n",
    "    site=oasis_ghi\n",
    ")"
   ]
  },
  {
   "cell_type": "markdown",
   "metadata": {},
   "source": [
    "Resample the observed 1 minute interval data to have the same interval length as the forecasts for a fair comparison."
   ]
  },
  {
   "cell_type": "code",
   "execution_count": 16,
   "metadata": {},
   "outputs": [],
   "source": [
    "resampled_data = oasis_ghi_values.resample(forecast.interval_length, label='right').mean()\n",
    "resampled_data['quality_flag'] = 0"
   ]
  },
  {
   "cell_type": "markdown",
   "metadata": {},
   "source": [
    "Define a forecast `run_time` and `issue_time`. For operational forecasts, `run_time` is typically set to now. For retrospective forecasts, `run_time` is the time by which the forecast should be run so that it could have been be delivered for the `issue_time`. Forecasts will only use data with timestamps before `run_time`. Let's assume they are the same for this exercise."
   ]
  },
  {
   "cell_type": "code",
   "execution_count": 17,
   "metadata": {},
   "outputs": [],
   "source": [
    "run_time = pd.Timestamp('20190515 1900Z')\n",
    "issue_time = pd.Timestamp('20190515 1900Z')"
   ]
  },
  {
   "cell_type": "markdown",
   "metadata": {},
   "source": [
    "Let's look at the observation values leading up to the forecast run time. We expect the persistence forecast to be equal to an average of these values."
   ]
  },
  {
   "cell_type": "code",
   "execution_count": 18,
   "metadata": {},
   "outputs": [
    {
     "name": "stdout",
     "output_type": "stream",
     "text": [
      "                              value  quality_flag\n",
      "timestamp                                        \n",
      "2019-05-15 18:45:00+00:00  1059.300             2\n",
      "2019-05-15 18:46:00+00:00  1059.250             2\n",
      "2019-05-15 18:47:00+00:00  1058.190             2\n",
      "2019-05-15 18:48:00+00:00  1059.600             2\n",
      "2019-05-15 18:49:00+00:00  1059.650             2\n",
      "2019-05-15 18:50:00+00:00  1062.410             2\n",
      "2019-05-15 18:51:00+00:00  1043.830             2\n",
      "2019-05-15 18:52:00+00:00  1053.610             2\n",
      "2019-05-15 18:53:00+00:00  1082.200             2\n",
      "2019-05-15 18:54:00+00:00  1087.860             2\n",
      "2019-05-15 18:55:00+00:00  1097.610             2\n",
      "2019-05-15 18:56:00+00:00  1104.210             2\n",
      "2019-05-15 18:57:00+00:00  1069.280             2\n",
      "2019-05-15 18:58:00+00:00   897.564             2\n",
      "2019-05-15 18:59:00+00:00   832.101             2\n",
      "2019-05-15 19:00:00+00:00   916.081             2\n",
      "\n",
      " mean:\n",
      "value           1033.921625\n",
      "quality_flag       2.000000\n",
      "dtype: float64\n"
     ]
    }
   ],
   "source": [
    "print(oasis_ghi_values.loc[run_time - forecast.interval_length:run_time])\n",
    "print('\\n mean:')\n",
    "print(oasis_ghi_values.loc[run_time - forecast.interval_length:run_time].mean())"
   ]
  },
  {
   "cell_type": "code",
   "execution_count": 19,
   "metadata": {},
   "outputs": [
    {
     "data": {
      "text/plain": [
       "2019-05-15 19:30:00+00:00    1033.921625\n",
       "Freq: 15T, dtype: float64"
      ]
     },
     "execution_count": 19,
     "metadata": {},
     "output_type": "execute_result"
    }
   ],
   "source": [
    "oasis_ghi_fx = main.run_persistence(session, oasis_ghi, forecast, run_time, issue_time, index=False)\n",
    "oasis_ghi_fx"
   ]
  },
  {
   "cell_type": "markdown",
   "metadata": {},
   "source": [
    "It works! \n",
    "\n",
    "There is a problem, though. A 15 minute interval should include *either* the start time, value pair *or* the end time, value pair, but *not* both. This bug is tracked in [this GitHub issue](https://github.com/SolarArbiter/solarforecastarbiter-core/issues/80). The resampled data that we'll use for plotting actually shows the correct result. The correct result is slightly below than the incorrect result because it discards the above average value that marks the end of the last interval."
   ]
  },
  {
   "cell_type": "code",
   "execution_count": 20,
   "metadata": {},
   "outputs": [
    {
     "data": {
      "text/plain": [
       "value           1032.537933\n",
       "quality_flag       0.000000\n",
       "Name: 2019-05-15 18:45:00+00:00, dtype: float64"
      ]
     },
     "execution_count": 20,
     "metadata": {},
     "output_type": "execute_result"
    }
   ],
   "source": [
    "resampled_data.loc[run_time - forecast.interval_length]"
   ]
  },
  {
   "cell_type": "markdown",
   "metadata": {},
   "source": [
    "To make a [forecast evaluation time series](https://solarforecastarbiter.org/usecases/#forecastevalts), we need to loop over many run times."
   ]
  },
  {
   "cell_type": "code",
   "execution_count": 21,
   "metadata": {},
   "outputs": [],
   "source": [
    "run_times = pd.date_range(start=start, end=end, freq=forecast.run_length)"
   ]
  },
  {
   "cell_type": "code",
   "execution_count": 22,
   "metadata": {},
   "outputs": [],
   "source": [
    "oasis_ghi_fx_runs = []\n",
    "for run_time in run_times:\n",
    "    issue_time = run_time  # an offset may be needed in an operational environment\n",
    "    fx_run = main.run_persistence(session, oasis_ghi, forecast, run_time, issue_time, index=False)\n",
    "    oasis_ghi_fx_runs.append(fx_run)\n",
    "oasis_ghi_fx = pd.concat(oasis_ghi_fx_runs)"
   ]
  },
  {
   "cell_type": "code",
   "execution_count": 23,
   "metadata": {},
   "outputs": [],
   "source": [
    "def plot_persistence(observation_values, forecast_values=None, forecast_values_index=None):\n",
    "    fig_kwargs = dict(tools=TOOLS, x_axis_type=\"datetime\", plot_height=250, plot_width=800)\n",
    "    palette = iter(PALETTE)\n",
    "    fig1 = figure(**fig_kwargs)\n",
    "    fig1.line(observation_values.index, observation_values['value'], legend='observed', color='black', line_width=2)\n",
    "    color = next(palette)\n",
    "    if forecast_values is not None:\n",
    "        fig1.line(forecast_values.index, forecast_values, legend='persistence', color=color, line_width=2)\n",
    "    color = next(palette)\n",
    "    if forecast_values_index is not None:\n",
    "        fig1.line(forecast_values_index.index, forecast_values_index, legend='persistence index', color=color, line_width=2)\n",
    "    fig1.yaxis.axis_label = \"Irradiance (W/m^2)\"\n",
    "    fig1.legend.location = \"top_left\"\n",
    "    fig1.xaxis.axis_label = 'Time (UTC)'\n",
    "    return fig1"
   ]
  },
  {
   "cell_type": "code",
   "execution_count": 24,
   "metadata": {},
   "outputs": [
    {
     "data": {
      "text/html": [
       "\n",
       "\n",
       "\n",
       "\n",
       "\n",
       "\n",
       "  <div class=\"bk-root\" id=\"45fbc16e-dec1-4772-a4a2-2b2bbec8e59d\" data-root-id=\"3515\"></div>\n"
      ]
     },
     "metadata": {},
     "output_type": "display_data"
    },
    {
     "data": {
      "application/javascript": [
       "(function(root) {\n",
       "  function embed_document(root) {\n",
       "    \n",
       "  var docs_json = {\"94c59de6-9b1a-47fb-a2e3-a9ceae6fc90a\":{\"roots\":{\"references\":[{\"attributes\":{\"below\":[{\"id\":\"3524\",\"type\":\"DatetimeAxis\"}],\"center\":[{\"id\":\"3528\",\"type\":\"Grid\"},{\"id\":\"3533\",\"type\":\"Grid\"},{\"id\":\"3569\",\"type\":\"Legend\"}],\"left\":[{\"id\":\"3529\",\"type\":\"LinearAxis\"}],\"plot_height\":250,\"plot_width\":800,\"renderers\":[{\"id\":\"3548\",\"type\":\"GlyphRenderer\"},{\"id\":\"3574\",\"type\":\"GlyphRenderer\"}],\"title\":{\"id\":\"3550\",\"type\":\"Title\"},\"toolbar\":{\"id\":\"3539\",\"type\":\"Toolbar\"},\"x_range\":{\"id\":\"3516\",\"type\":\"DataRange1d\"},\"x_scale\":{\"id\":\"3520\",\"type\":\"LinearScale\"},\"y_range\":{\"id\":\"3518\",\"type\":\"DataRange1d\"},\"y_scale\":{\"id\":\"3522\",\"type\":\"LinearScale\"}},\"id\":\"3515\",\"subtype\":\"Figure\",\"type\":\"Plot\"},{\"attributes\":{\"days\":[1,15]},\"id\":\"3563\",\"type\":\"DaysTicker\"},{\"attributes\":{\"callback\":null},\"id\":\"3516\",\"type\":\"DataRange1d\"},{\"attributes\":{},\"id\":\"3554\",\"type\":\"DatetimeTickFormatter\"},{\"attributes\":{\"days\":[1,4,7,10,13,16,19,22,25,28]},\"id\":\"3561\",\"type\":\"DaysTicker\"},{\"attributes\":{},\"id\":\"3520\",\"type\":\"LinearScale\"},{\"attributes\":{},\"id\":\"3552\",\"type\":\"BasicTickFormatter\"},{\"attributes\":{\"line_alpha\":0.1,\"line_color\":\"#1f77b4\",\"line_width\":2,\"x\":{\"field\":\"x\"},\"y\":{\"field\":\"y\"}},\"id\":\"3573\",\"type\":\"Line\"},{\"attributes\":{\"base\":60,\"mantissas\":[1,2,5,10,15,20,30],\"max_interval\":1800000.0,\"min_interval\":1000.0,\"num_minor_ticks\":0},\"id\":\"3558\",\"type\":\"AdaptiveTicker\"},{\"attributes\":{\"bottom_units\":\"screen\",\"fill_alpha\":{\"value\":0.5},\"fill_color\":{\"value\":\"lightgrey\"},\"left_units\":\"screen\",\"level\":\"overlay\",\"line_alpha\":{\"value\":1.0},\"line_color\":{\"value\":\"black\"},\"line_dash\":[4,4],\"line_width\":{\"value\":2},\"render_mode\":\"css\",\"right_units\":\"screen\",\"top_units\":\"screen\"},\"id\":\"3556\",\"type\":\"BoxAnnotation\"},{\"attributes\":{\"line_alpha\":0.1,\"line_color\":\"#1f77b4\",\"line_width\":2,\"x\":{\"field\":\"x\"},\"y\":{\"field\":\"y\"}},\"id\":\"3547\",\"type\":\"Line\"},{\"attributes\":{\"days\":[1,2,3,4,5,6,7,8,9,10,11,12,13,14,15,16,17,18,19,20,21,22,23,24,25,26,27,28,29,30,31]},\"id\":\"3560\",\"type\":\"DaysTicker\"},{\"attributes\":{\"overlay\":{\"id\":\"3556\",\"type\":\"BoxAnnotation\"}},\"id\":\"3535\",\"type\":\"BoxZoomTool\"},{\"attributes\":{\"months\":[0,2,4,6,8,10]},\"id\":\"3565\",\"type\":\"MonthsTicker\"},{\"attributes\":{\"months\":[0,4,8]},\"id\":\"3566\",\"type\":\"MonthsTicker\"},{\"attributes\":{\"axis_label\":\"Irradiance (W/m^2)\",\"formatter\":{\"id\":\"3552\",\"type\":\"BasicTickFormatter\"},\"ticker\":{\"id\":\"3530\",\"type\":\"BasicTicker\"}},\"id\":\"3529\",\"type\":\"LinearAxis\"},{\"attributes\":{\"months\":[0,6]},\"id\":\"3567\",\"type\":\"MonthsTicker\"},{\"attributes\":{\"text\":\"\"},\"id\":\"3550\",\"type\":\"Title\"},{\"attributes\":{},\"id\":\"3538\",\"type\":\"SaveTool\"},{\"attributes\":{\"base\":24,\"mantissas\":[1,2,4,6,8,12],\"max_interval\":43200000.0,\"min_interval\":3600000.0,\"num_minor_ticks\":0},\"id\":\"3559\",\"type\":\"AdaptiveTicker\"},{\"attributes\":{\"axis_label\":\"Time (UTC)\",\"formatter\":{\"id\":\"3554\",\"type\":\"DatetimeTickFormatter\"},\"ticker\":{\"id\":\"3525\",\"type\":\"DatetimeTicker\"}},\"id\":\"3524\",\"type\":\"DatetimeAxis\"},{\"attributes\":{},\"id\":\"3530\",\"type\":\"BasicTicker\"},{\"attributes\":{},\"id\":\"3568\",\"type\":\"YearsTicker\"},{\"attributes\":{},\"id\":\"3522\",\"type\":\"LinearScale\"},{\"attributes\":{\"dimension\":1,\"ticker\":{\"id\":\"3530\",\"type\":\"BasicTicker\"}},\"id\":\"3533\",\"type\":\"Grid\"},{\"attributes\":{\"line_color\":\"#1f77b4\",\"line_width\":2,\"x\":{\"field\":\"x\"},\"y\":{\"field\":\"y\"}},\"id\":\"3572\",\"type\":\"Line\"},{\"attributes\":{\"num_minor_ticks\":5,\"tickers\":[{\"id\":\"3557\",\"type\":\"AdaptiveTicker\"},{\"id\":\"3558\",\"type\":\"AdaptiveTicker\"},{\"id\":\"3559\",\"type\":\"AdaptiveTicker\"},{\"id\":\"3560\",\"type\":\"DaysTicker\"},{\"id\":\"3561\",\"type\":\"DaysTicker\"},{\"id\":\"3562\",\"type\":\"DaysTicker\"},{\"id\":\"3563\",\"type\":\"DaysTicker\"},{\"id\":\"3564\",\"type\":\"MonthsTicker\"},{\"id\":\"3565\",\"type\":\"MonthsTicker\"},{\"id\":\"3566\",\"type\":\"MonthsTicker\"},{\"id\":\"3567\",\"type\":\"MonthsTicker\"},{\"id\":\"3568\",\"type\":\"YearsTicker\"}]},\"id\":\"3525\",\"type\":\"DatetimeTicker\"},{\"attributes\":{\"label\":{\"value\":\"observed\"},\"renderers\":[{\"id\":\"3548\",\"type\":\"GlyphRenderer\"}]},\"id\":\"3570\",\"type\":\"LegendItem\"},{\"attributes\":{\"ticker\":{\"id\":\"3525\",\"type\":\"DatetimeTicker\"}},\"id\":\"3528\",\"type\":\"Grid\"},{\"attributes\":{\"data_source\":{\"id\":\"3545\",\"type\":\"ColumnDataSource\"},\"glyph\":{\"id\":\"3546\",\"type\":\"Line\"},\"hover_glyph\":null,\"muted_glyph\":null,\"nonselection_glyph\":{\"id\":\"3547\",\"type\":\"Line\"},\"selection_glyph\":null,\"view\":{\"id\":\"3549\",\"type\":\"CDSView\"}},\"id\":\"3548\",\"type\":\"GlyphRenderer\"},{\"attributes\":{\"line_width\":2,\"x\":{\"field\":\"x\"},\"y\":{\"field\":\"y\"}},\"id\":\"3546\",\"type\":\"Line\"},{\"attributes\":{\"callback\":null,\"data\":{\"x\":{\"__ndarray__\":\"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\",\"dtype\":\"float64\",\"shape\":[289]},\"y\":{\"__ndarray__\":\"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\",\"dtype\":\"float64\",\"shape\":[289]}},\"selected\":{\"id\":\"3815\",\"type\":\"Selection\"},\"selection_policy\":{\"id\":\"3816\",\"type\":\"UnionRenderers\"}},\"id\":\"3571\",\"type\":\"ColumnDataSource\"},{\"attributes\":{\"callback\":null},\"id\":\"3518\",\"type\":\"DataRange1d\"},{\"attributes\":{\"active_drag\":\"auto\",\"active_inspect\":\"auto\",\"active_multi\":null,\"active_scroll\":\"auto\",\"active_tap\":\"auto\",\"tools\":[{\"id\":\"3534\",\"type\":\"PanTool\"},{\"id\":\"3535\",\"type\":\"BoxZoomTool\"},{\"id\":\"3536\",\"type\":\"WheelZoomTool\"},{\"id\":\"3537\",\"type\":\"ResetTool\"},{\"id\":\"3538\",\"type\":\"SaveTool\"}]},\"id\":\"3539\",\"type\":\"Toolbar\"},{\"attributes\":{\"label\":{\"value\":\"persistence\"},\"renderers\":[{\"id\":\"3574\",\"type\":\"GlyphRenderer\"}]},\"id\":\"3597\",\"type\":\"LegendItem\"},{\"attributes\":{\"dimensions\":\"width\"},\"id\":\"3536\",\"type\":\"WheelZoomTool\"},{\"attributes\":{},\"id\":\"3534\",\"type\":\"PanTool\"},{\"attributes\":{\"mantissas\":[1,2,5],\"max_interval\":500.0,\"num_minor_ticks\":0},\"id\":\"3557\",\"type\":\"AdaptiveTicker\"},{\"attributes\":{\"callback\":null,\"data\":{\"x\":{\"__ndarray__\":\"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\",\"dtype\":\"float64\",\"shape\":[289]},\"y\":{\"__ndarray__\":\"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\",\"dtype\":\"float64\",\"shape\":[289]}},\"selected\":{\"id\":\"3595\",\"type\":\"Selection\"},\"selection_policy\":{\"id\":\"3596\",\"type\":\"UnionRenderers\"}},\"id\":\"3545\",\"type\":\"ColumnDataSource\"},{\"attributes\":{},\"id\":\"3816\",\"type\":\"UnionRenderers\"},{\"attributes\":{},\"id\":\"3595\",\"type\":\"Selection\"},{\"attributes\":{\"source\":{\"id\":\"3545\",\"type\":\"ColumnDataSource\"}},\"id\":\"3549\",\"type\":\"CDSView\"},{\"attributes\":{\"items\":[{\"id\":\"3570\",\"type\":\"LegendItem\"},{\"id\":\"3597\",\"type\":\"LegendItem\"}],\"location\":\"top_left\"},\"id\":\"3569\",\"type\":\"Legend\"},{\"attributes\":{},\"id\":\"3815\",\"type\":\"Selection\"},{\"attributes\":{\"source\":{\"id\":\"3571\",\"type\":\"ColumnDataSource\"}},\"id\":\"3575\",\"type\":\"CDSView\"},{\"attributes\":{},\"id\":\"3537\",\"type\":\"ResetTool\"},{\"attributes\":{},\"id\":\"3596\",\"type\":\"UnionRenderers\"},{\"attributes\":{\"days\":[1,8,15,22]},\"id\":\"3562\",\"type\":\"DaysTicker\"},{\"attributes\":{\"months\":[0,1,2,3,4,5,6,7,8,9,10,11]},\"id\":\"3564\",\"type\":\"MonthsTicker\"},{\"attributes\":{\"data_source\":{\"id\":\"3571\",\"type\":\"ColumnDataSource\"},\"glyph\":{\"id\":\"3572\",\"type\":\"Line\"},\"hover_glyph\":null,\"muted_glyph\":null,\"nonselection_glyph\":{\"id\":\"3573\",\"type\":\"Line\"},\"selection_glyph\":null,\"view\":{\"id\":\"3575\",\"type\":\"CDSView\"}},\"id\":\"3574\",\"type\":\"GlyphRenderer\"}],\"root_ids\":[\"3515\"]},\"title\":\"Bokeh Application\",\"version\":\"1.2.0\"}};\n",
       "  var render_items = [{\"docid\":\"94c59de6-9b1a-47fb-a2e3-a9ceae6fc90a\",\"roots\":{\"3515\":\"45fbc16e-dec1-4772-a4a2-2b2bbec8e59d\"}}];\n",
       "  root.Bokeh.embed.embed_items_notebook(docs_json, render_items);\n",
       "\n",
       "  }\n",
       "  if (root.Bokeh !== undefined) {\n",
       "    embed_document(root);\n",
       "  } else {\n",
       "    var attempts = 0;\n",
       "    var timer = setInterval(function(root) {\n",
       "      if (root.Bokeh !== undefined) {\n",
       "        embed_document(root);\n",
       "        clearInterval(timer);\n",
       "      }\n",
       "      attempts++;\n",
       "      if (attempts > 100) {\n",
       "        console.log(\"Bokeh: ERROR: Unable to run BokehJS code because BokehJS library is missing\");\n",
       "        clearInterval(timer);\n",
       "      }\n",
       "    }, 10, root)\n",
       "  }\n",
       "})(window);"
      ],
      "application/vnd.bokehjs_exec.v0+json": ""
     },
     "metadata": {
      "application/vnd.bokehjs_exec.v0+json": {
       "id": "3515"
      }
     },
     "output_type": "display_data"
    }
   ],
   "source": [
    "fig1 = plot_persistence(resampled_data, oasis_ghi_fx)\n",
    "show(fig1)"
   ]
  },
  {
   "cell_type": "markdown",
   "metadata": {},
   "source": [
    "As expected, the persistence forecast appears to be a simple translation in time of the input data.\n",
    "\n",
    "Next we will examine forecasts using persistence of clear sky index to account for changing solar position."
   ]
  },
  {
   "cell_type": "code",
   "execution_count": 25,
   "metadata": {},
   "outputs": [],
   "source": [
    "oasis_ghi_fx_runs = []\n",
    "for run_time in run_times:\n",
    "    issue_time = run_time  # an offset may be needed in an operational environment\n",
    "    fx_run = main.run_persistence(session, oasis_ghi, forecast, run_time, issue_time, index=True)\n",
    "    oasis_ghi_fx_runs.append(fx_run)\n",
    "oasis_ghi_index_fx = pd.concat(oasis_ghi_fx_runs)"
   ]
  },
  {
   "cell_type": "code",
   "execution_count": 26,
   "metadata": {},
   "outputs": [
    {
     "data": {
      "text/html": [
       "\n",
       "\n",
       "\n",
       "\n",
       "\n",
       "\n",
       "  <div class=\"bk-root\" id=\"010297a8-3926-4a01-bf31-89dbdc0c323c\" data-root-id=\"3955\"></div>\n"
      ]
     },
     "metadata": {},
     "output_type": "display_data"
    },
    {
     "data": {
      "application/javascript": [
       "(function(root) {\n",
       "  function embed_document(root) {\n",
       "    \n",
       "  var docs_json = {\"95e6b284-849d-4591-a863-253f15b4b17c\":{\"roots\":{\"references\":[{\"attributes\":{\"below\":[{\"id\":\"3964\",\"type\":\"DatetimeAxis\"}],\"center\":[{\"id\":\"3968\",\"type\":\"Grid\"},{\"id\":\"3973\",\"type\":\"Grid\"},{\"id\":\"4009\",\"type\":\"Legend\"}],\"left\":[{\"id\":\"3969\",\"type\":\"LinearAxis\"}],\"plot_height\":250,\"plot_width\":800,\"renderers\":[{\"id\":\"3988\",\"type\":\"GlyphRenderer\"},{\"id\":\"4014\",\"type\":\"GlyphRenderer\"}],\"title\":{\"id\":\"3990\",\"type\":\"Title\"},\"toolbar\":{\"id\":\"3979\",\"type\":\"Toolbar\"},\"x_range\":{\"id\":\"3956\",\"type\":\"DataRange1d\"},\"x_scale\":{\"id\":\"3960\",\"type\":\"LinearScale\"},\"y_range\":{\"id\":\"3958\",\"type\":\"DataRange1d\"},\"y_scale\":{\"id\":\"3962\",\"type\":\"LinearScale\"}},\"id\":\"3955\",\"subtype\":\"Figure\",\"type\":\"Plot\"},{\"attributes\":{},\"id\":\"3994\",\"type\":\"DatetimeTickFormatter\"},{\"attributes\":{\"days\":[1,2,3,4,5,6,7,8,9,10,11,12,13,14,15,16,17,18,19,20,21,22,23,24,25,26,27,28,29,30,31]},\"id\":\"4000\",\"type\":\"DaysTicker\"},{\"attributes\":{},\"id\":\"3970\",\"type\":\"BasicTicker\"},{\"attributes\":{\"base\":24,\"mantissas\":[1,2,4,6,8,12],\"max_interval\":43200000.0,\"min_interval\":3600000.0,\"num_minor_ticks\":0},\"id\":\"3999\",\"type\":\"AdaptiveTicker\"},{\"attributes\":{\"ticker\":{\"id\":\"3965\",\"type\":\"DatetimeTicker\"}},\"id\":\"3968\",\"type\":\"Grid\"},{\"attributes\":{\"line_alpha\":0.1,\"line_color\":\"#1f77b4\",\"line_width\":2,\"x\":{\"field\":\"x\"},\"y\":{\"field\":\"y\"}},\"id\":\"3987\",\"type\":\"Line\"},{\"attributes\":{\"callback\":null},\"id\":\"3956\",\"type\":\"DataRange1d\"},{\"attributes\":{},\"id\":\"3978\",\"type\":\"SaveTool\"},{\"attributes\":{\"dimension\":1,\"ticker\":{\"id\":\"3970\",\"type\":\"BasicTicker\"}},\"id\":\"3973\",\"type\":\"Grid\"},{\"attributes\":{\"days\":[1,4,7,10,13,16,19,22,25,28]},\"id\":\"4001\",\"type\":\"DaysTicker\"},{\"attributes\":{\"mantissas\":[1,2,5],\"max_interval\":500.0,\"num_minor_ticks\":0},\"id\":\"3997\",\"type\":\"AdaptiveTicker\"},{\"attributes\":{\"days\":[1,8,15,22]},\"id\":\"4002\",\"type\":\"DaysTicker\"},{\"attributes\":{},\"id\":\"4008\",\"type\":\"YearsTicker\"},{\"attributes\":{\"source\":{\"id\":\"4011\",\"type\":\"ColumnDataSource\"}},\"id\":\"4015\",\"type\":\"CDSView\"},{\"attributes\":{\"overlay\":{\"id\":\"3996\",\"type\":\"BoxAnnotation\"}},\"id\":\"3975\",\"type\":\"BoxZoomTool\"},{\"attributes\":{\"text\":\"\"},\"id\":\"3990\",\"type\":\"Title\"},{\"attributes\":{\"data_source\":{\"id\":\"4011\",\"type\":\"ColumnDataSource\"},\"glyph\":{\"id\":\"4012\",\"type\":\"Line\"},\"hover_glyph\":null,\"muted_glyph\":null,\"nonselection_glyph\":{\"id\":\"4013\",\"type\":\"Line\"},\"selection_glyph\":null,\"view\":{\"id\":\"4015\",\"type\":\"CDSView\"}},\"id\":\"4014\",\"type\":\"GlyphRenderer\"},{\"attributes\":{},\"id\":\"3992\",\"type\":\"BasicTickFormatter\"},{\"attributes\":{\"callback\":null},\"id\":\"3958\",\"type\":\"DataRange1d\"},{\"attributes\":{\"axis_label\":\"Time (UTC)\",\"formatter\":{\"id\":\"3994\",\"type\":\"DatetimeTickFormatter\"},\"ticker\":{\"id\":\"3965\",\"type\":\"DatetimeTicker\"}},\"id\":\"3964\",\"type\":\"DatetimeAxis\"},{\"attributes\":{},\"id\":\"3960\",\"type\":\"LinearScale\"},{\"attributes\":{\"num_minor_ticks\":5,\"tickers\":[{\"id\":\"3997\",\"type\":\"AdaptiveTicker\"},{\"id\":\"3998\",\"type\":\"AdaptiveTicker\"},{\"id\":\"3999\",\"type\":\"AdaptiveTicker\"},{\"id\":\"4000\",\"type\":\"DaysTicker\"},{\"id\":\"4001\",\"type\":\"DaysTicker\"},{\"id\":\"4002\",\"type\":\"DaysTicker\"},{\"id\":\"4003\",\"type\":\"DaysTicker\"},{\"id\":\"4004\",\"type\":\"MonthsTicker\"},{\"id\":\"4005\",\"type\":\"MonthsTicker\"},{\"id\":\"4006\",\"type\":\"MonthsTicker\"},{\"id\":\"4007\",\"type\":\"MonthsTicker\"},{\"id\":\"4008\",\"type\":\"YearsTicker\"}]},\"id\":\"3965\",\"type\":\"DatetimeTicker\"},{\"attributes\":{\"line_alpha\":0.1,\"line_color\":\"#1f77b4\",\"line_width\":2,\"x\":{\"field\":\"x\"},\"y\":{\"field\":\"y\"}},\"id\":\"4013\",\"type\":\"Line\"},{\"attributes\":{\"bottom_units\":\"screen\",\"fill_alpha\":{\"value\":0.5},\"fill_color\":{\"value\":\"lightgrey\"},\"left_units\":\"screen\",\"level\":\"overlay\",\"line_alpha\":{\"value\":1.0},\"line_color\":{\"value\":\"black\"},\"line_dash\":[4,4],\"line_width\":{\"value\":2},\"render_mode\":\"css\",\"right_units\":\"screen\",\"top_units\":\"screen\"},\"id\":\"3996\",\"type\":\"BoxAnnotation\"},{\"attributes\":{\"months\":[0,4,8]},\"id\":\"4006\",\"type\":\"MonthsTicker\"},{\"attributes\":{\"data_source\":{\"id\":\"3985\",\"type\":\"ColumnDataSource\"},\"glyph\":{\"id\":\"3986\",\"type\":\"Line\"},\"hover_glyph\":null,\"muted_glyph\":null,\"nonselection_glyph\":{\"id\":\"3987\",\"type\":\"Line\"},\"selection_glyph\":null,\"view\":{\"id\":\"3989\",\"type\":\"CDSView\"}},\"id\":\"3988\",\"type\":\"GlyphRenderer\"},{\"attributes\":{\"months\":[0,6]},\"id\":\"4007\",\"type\":\"MonthsTicker\"},{\"attributes\":{},\"id\":\"4279\",\"type\":\"UnionRenderers\"},{\"attributes\":{\"days\":[1,15]},\"id\":\"4003\",\"type\":\"DaysTicker\"},{\"attributes\":{\"axis_label\":\"Irradiance (W/m^2)\",\"formatter\":{\"id\":\"3992\",\"type\":\"BasicTickFormatter\"},\"ticker\":{\"id\":\"3970\",\"type\":\"BasicTicker\"}},\"id\":\"3969\",\"type\":\"LinearAxis\"},{\"attributes\":{},\"id\":\"3974\",\"type\":\"PanTool\"},{\"attributes\":{\"items\":[{\"id\":\"4010\",\"type\":\"LegendItem\"},{\"id\":\"4037\",\"type\":\"LegendItem\"}],\"location\":\"top_left\"},\"id\":\"4009\",\"type\":\"Legend\"},{\"attributes\":{},\"id\":\"4278\",\"type\":\"Selection\"},{\"attributes\":{\"active_drag\":\"auto\",\"active_inspect\":\"auto\",\"active_multi\":null,\"active_scroll\":\"auto\",\"active_tap\":\"auto\",\"tools\":[{\"id\":\"3974\",\"type\":\"PanTool\"},{\"id\":\"3975\",\"type\":\"BoxZoomTool\"},{\"id\":\"3976\",\"type\":\"WheelZoomTool\"},{\"id\":\"3977\",\"type\":\"ResetTool\"},{\"id\":\"3978\",\"type\":\"SaveTool\"}]},\"id\":\"3979\",\"type\":\"Toolbar\"},{\"attributes\":{},\"id\":\"4036\",\"type\":\"UnionRenderers\"},{\"attributes\":{},\"id\":\"3977\",\"type\":\"ResetTool\"},{\"attributes\":{\"label\":{\"value\":\"persistence index\"},\"renderers\":[{\"id\":\"4014\",\"type\":\"GlyphRenderer\"}]},\"id\":\"4037\",\"type\":\"LegendItem\"},{\"attributes\":{\"label\":{\"value\":\"observed\"},\"renderers\":[{\"id\":\"3988\",\"type\":\"GlyphRenderer\"}]},\"id\":\"4010\",\"type\":\"LegendItem\"},{\"attributes\":{\"months\":[0,1,2,3,4,5,6,7,8,9,10,11]},\"id\":\"4004\",\"type\":\"MonthsTicker\"},{\"attributes\":{},\"id\":\"3962\",\"type\":\"LinearScale\"},{\"attributes\":{\"callback\":null,\"data\":{\"x\":{\"__ndarray__\":\"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\",\"dtype\":\"float64\",\"shape\":[289]},\"y\":{\"__ndarray__\":\"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\",\"dtype\":\"float64\",\"shape\":[289]}},\"selected\":{\"id\":\"4035\",\"type\":\"Selection\"},\"selection_policy\":{\"id\":\"4036\",\"type\":\"UnionRenderers\"}},\"id\":\"3985\",\"type\":\"ColumnDataSource\"},{\"attributes\":{\"months\":[0,2,4,6,8,10]},\"id\":\"4005\",\"type\":\"MonthsTicker\"},{\"attributes\":{\"dimensions\":\"width\"},\"id\":\"3976\",\"type\":\"WheelZoomTool\"},{\"attributes\":{},\"id\":\"4035\",\"type\":\"Selection\"},{\"attributes\":{\"line_width\":2,\"x\":{\"field\":\"x\"},\"y\":{\"field\":\"y\"}},\"id\":\"3986\",\"type\":\"Line\"},{\"attributes\":{\"callback\":null,\"data\":{\"x\":{\"__ndarray__\":\"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\",\"dtype\":\"float64\",\"shape\":[289]},\"y\":{\"__ndarray__\":\"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\",\"dtype\":\"float64\",\"shape\":[289]}},\"selected\":{\"id\":\"4278\",\"type\":\"Selection\"},\"selection_policy\":{\"id\":\"4279\",\"type\":\"UnionRenderers\"}},\"id\":\"4011\",\"type\":\"ColumnDataSource\"},{\"attributes\":{\"source\":{\"id\":\"3985\",\"type\":\"ColumnDataSource\"}},\"id\":\"3989\",\"type\":\"CDSView\"},{\"attributes\":{\"base\":60,\"mantissas\":[1,2,5,10,15,20,30],\"max_interval\":1800000.0,\"min_interval\":1000.0,\"num_minor_ticks\":0},\"id\":\"3998\",\"type\":\"AdaptiveTicker\"},{\"attributes\":{\"line_color\":\"#ff7f0e\",\"line_width\":2,\"x\":{\"field\":\"x\"},\"y\":{\"field\":\"y\"}},\"id\":\"4012\",\"type\":\"Line\"}],\"root_ids\":[\"3955\"]},\"title\":\"Bokeh Application\",\"version\":\"1.2.0\"}};\n",
       "  var render_items = [{\"docid\":\"95e6b284-849d-4591-a863-253f15b4b17c\",\"roots\":{\"3955\":\"010297a8-3926-4a01-bf31-89dbdc0c323c\"}}];\n",
       "  root.Bokeh.embed.embed_items_notebook(docs_json, render_items);\n",
       "\n",
       "  }\n",
       "  if (root.Bokeh !== undefined) {\n",
       "    embed_document(root);\n",
       "  } else {\n",
       "    var attempts = 0;\n",
       "    var timer = setInterval(function(root) {\n",
       "      if (root.Bokeh !== undefined) {\n",
       "        embed_document(root);\n",
       "        clearInterval(timer);\n",
       "      }\n",
       "      attempts++;\n",
       "      if (attempts > 100) {\n",
       "        console.log(\"Bokeh: ERROR: Unable to run BokehJS code because BokehJS library is missing\");\n",
       "        clearInterval(timer);\n",
       "      }\n",
       "    }, 10, root)\n",
       "  }\n",
       "})(window);"
      ],
      "application/vnd.bokehjs_exec.v0+json": ""
     },
     "metadata": {
      "application/vnd.bokehjs_exec.v0+json": {
       "id": "3955"
      }
     },
     "output_type": "display_data"
    }
   ],
   "source": [
    "fig1 = plot_persistence(resampled_data, forecast_values_index=oasis_ghi_index_fx)\n",
    "show(fig1)"
   ]
  },
  {
   "cell_type": "markdown",
   "metadata": {},
   "source": [
    "The persistence of clear sky index accounts for the change in solar position. It also introduces errors near sunrise when the ratio of actual to expected clear sky depends sensitively on the instrumentation and the clear sky model.\n",
    "\n",
    "\"Day ahead persistence\" is another flavor of persistence in which the observed values for a 24 hour period are used as the forecast for another 24 hour period. The Solar Forecast Arbiter's [`persistence_interval`](https://solarforecastarbiter-core.readthedocs.io/en/latest/generated/solarforecastarbiter.reference_forecasts.persistence.persistence_interval.html#solarforecastarbiter.reference_forecasts.persistence.persistence_interval) function implements this feature. The high-level interface currently does not work with the function due to the same [bug](https://github.com/SolarArbiter/solarforecastarbiter-core/issues/80) discussed above."
   ]
  },
  {
   "cell_type": "code",
   "execution_count": 27,
   "metadata": {},
   "outputs": [],
   "source": [
    "da_forecast = datamodel.Forecast(\n",
    "    name='day ahead persistence', \n",
    "    issue_time_of_day=datetime.time(7),  # local midnight\n",
    "    lead_time_to_start=pd.Timedelta('0min'),\n",
    "    interval_length=pd.Timedelta('1h'),\n",
    "    run_length=pd.Timedelta('24hr'),\n",
    "    interval_label='beginning',\n",
    "    interval_value_type='interval_mean',\n",
    "    variable='ghi',\n",
    "    site=oasis_ghi\n",
    ")"
   ]
  },
  {
   "cell_type": "code",
   "execution_count": 28,
   "metadata": {},
   "outputs": [
    {
     "name": "stdout",
     "output_type": "stream",
     "text": [
      "Length of passed values is 25, index implies 24\n"
     ]
    }
   ],
   "source": [
    "run_time = pd.Timestamp('20190516 0000-0700')\n",
    "issue_time = run_time\n",
    "try:\n",
    "    fx_run = main.run_persistence(session, oasis_ghi, da_forecast, run_time, issue_time, index=False)\n",
    "except ValueError as e:\n",
    "    print(e)"
   ]
  },
  {
   "cell_type": "markdown",
   "metadata": {},
   "source": [
    "### persistence module\n",
    "\n",
    "This section demonstrates the lower level persistence functions."
   ]
  },
  {
   "cell_type": "code",
   "execution_count": 29,
   "metadata": {},
   "outputs": [],
   "source": [
    "from solarforecastarbiter.reference_forecasts import persistence"
   ]
  },
  {
   "cell_type": "markdown",
   "metadata": {},
   "source": [
    "The functions in the persistence module are meant to be easily useable by the community. To facilitate this, the persistence functions allow a user to provide a function that will load their data rather than loading data from the Solar Forecast Arbiter API. Below, we define a function that will load the appropriate data."
   ]
  },
  {
   "cell_type": "code",
   "execution_count": 30,
   "metadata": {},
   "outputs": [],
   "source": [
    "# change default load_data function so we can use without API access\n",
    "def load_data_base(data, observation, data_start, data_end):\n",
    "    # slice doesn't care about closed or interval label \n",
    "    # so here we manually adjust start and end times\n",
    "    if 'instant' in observation.interval_label:\n",
    "        pass\n",
    "    elif observation.interval_label == 'ending':\n",
    "        data_start += pd.Timedelta('1s')\n",
    "    elif observation.interval_label == 'beginning':\n",
    "        data_end -= pd.Timedelta('1s')\n",
    "    return data[data_start:data_end]\n",
    "\n",
    "load_data = partial(load_data_base, oasis_ghi_values['value'])"
   ]
  },
  {
   "cell_type": "markdown",
   "metadata": {},
   "source": [
    "The code below makes two forecasts, one for persistence of the observed GHI (`persistence_scalar`) and one using persistence of the clear sky index (`persistence_scalar_index`). Notice how the persistence index forecast accounts for the changing solar position."
   ]
  },
  {
   "cell_type": "code",
   "execution_count": 31,
   "metadata": {},
   "outputs": [],
   "source": [
    "observation = oasis_ghi"
   ]
  },
  {
   "cell_type": "code",
   "execution_count": 32,
   "metadata": {},
   "outputs": [
    {
     "data": {
      "text/html": [
       "\n",
       "\n",
       "\n",
       "\n",
       "\n",
       "\n",
       "  <div class=\"bk-root\" id=\"41d08d8d-c203-48a6-9584-a4a092d85052\" data-root-id=\"4418\"></div>\n"
      ]
     },
     "metadata": {},
     "output_type": "display_data"
    },
    {
     "data": {
      "application/javascript": [
       "(function(root) {\n",
       "  function embed_document(root) {\n",
       "    \n",
       "  var docs_json = {\"dd64434e-4851-4d63-9c8b-17ac0bbad1c6\":{\"roots\":{\"references\":[{\"attributes\":{\"below\":[{\"id\":\"4427\",\"type\":\"DatetimeAxis\"}],\"center\":[{\"id\":\"4431\",\"type\":\"Grid\"},{\"id\":\"4436\",\"type\":\"Grid\"},{\"id\":\"4472\",\"type\":\"Legend\"}],\"left\":[{\"id\":\"4432\",\"type\":\"LinearAxis\"}],\"plot_height\":250,\"plot_width\":800,\"renderers\":[{\"id\":\"4451\",\"type\":\"GlyphRenderer\"},{\"id\":\"4477\",\"type\":\"GlyphRenderer\"},{\"id\":\"4504\",\"type\":\"GlyphRenderer\"}],\"title\":{\"id\":\"4453\",\"type\":\"Title\"},\"toolbar\":{\"id\":\"4442\",\"type\":\"Toolbar\"},\"x_range\":{\"id\":\"4419\",\"type\":\"DataRange1d\"},\"x_scale\":{\"id\":\"4423\",\"type\":\"LinearScale\"},\"y_range\":{\"id\":\"4421\",\"type\":\"DataRange1d\"},\"y_scale\":{\"id\":\"4425\",\"type\":\"LinearScale\"}},\"id\":\"4418\",\"subtype\":\"Figure\",\"type\":\"Plot\"},{\"attributes\":{},\"id\":\"4433\",\"type\":\"BasicTicker\"},{\"attributes\":{\"days\":[1,15]},\"id\":\"4466\",\"type\":\"DaysTicker\"},{\"attributes\":{},\"id\":\"4423\",\"type\":\"LinearScale\"},{\"attributes\":{\"num_minor_ticks\":5,\"tickers\":[{\"id\":\"4460\",\"type\":\"AdaptiveTicker\"},{\"id\":\"4461\",\"type\":\"AdaptiveTicker\"},{\"id\":\"4462\",\"type\":\"AdaptiveTicker\"},{\"id\":\"4463\",\"type\":\"DaysTicker\"},{\"id\":\"4464\",\"type\":\"DaysTicker\"},{\"id\":\"4465\",\"type\":\"DaysTicker\"},{\"id\":\"4466\",\"type\":\"DaysTicker\"},{\"id\":\"4467\",\"type\":\"MonthsTicker\"},{\"id\":\"4468\",\"type\":\"MonthsTicker\"},{\"id\":\"4469\",\"type\":\"MonthsTicker\"},{\"id\":\"4470\",\"type\":\"MonthsTicker\"},{\"id\":\"4471\",\"type\":\"YearsTicker\"}]},\"id\":\"4428\",\"type\":\"DatetimeTicker\"},{\"attributes\":{},\"id\":\"4425\",\"type\":\"LinearScale\"},{\"attributes\":{},\"id\":\"4499\",\"type\":\"UnionRenderers\"},{\"attributes\":{\"months\":[0,1,2,3,4,5,6,7,8,9,10,11]},\"id\":\"4467\",\"type\":\"MonthsTicker\"},{\"attributes\":{\"line_alpha\":0.1,\"line_color\":\"#1f77b4\",\"line_width\":2,\"x\":{\"field\":\"x\"},\"y\":{\"field\":\"y\"}},\"id\":\"4503\",\"type\":\"Line\"},{\"attributes\":{},\"id\":\"4528\",\"type\":\"UnionRenderers\"},{\"attributes\":{\"label\":{\"value\":\"persistence\"},\"renderers\":[{\"id\":\"4477\",\"type\":\"GlyphRenderer\"}]},\"id\":\"4500\",\"type\":\"LegendItem\"},{\"attributes\":{\"mantissas\":[1,2,5],\"max_interval\":500.0,\"num_minor_ticks\":0},\"id\":\"4460\",\"type\":\"AdaptiveTicker\"},{\"attributes\":{},\"id\":\"4795\",\"type\":\"Selection\"},{\"attributes\":{\"dimension\":1,\"ticker\":{\"id\":\"4433\",\"type\":\"BasicTicker\"}},\"id\":\"4436\",\"type\":\"Grid\"},{\"attributes\":{\"label\":{\"value\":\"observed\"},\"renderers\":[{\"id\":\"4451\",\"type\":\"GlyphRenderer\"}]},\"id\":\"4473\",\"type\":\"LegendItem\"},{\"attributes\":{\"axis_label\":\"Time (UTC)\",\"formatter\":{\"id\":\"4457\",\"type\":\"DatetimeTickFormatter\"},\"ticker\":{\"id\":\"4428\",\"type\":\"DatetimeTicker\"}},\"id\":\"4427\",\"type\":\"DatetimeAxis\"},{\"attributes\":{\"label\":{\"value\":\"persistence index\"},\"renderers\":[{\"id\":\"4504\",\"type\":\"GlyphRenderer\"}]},\"id\":\"4529\",\"type\":\"LegendItem\"},{\"attributes\":{\"callback\":null,\"data\":{\"x\":{\"__ndarray__\":\"AAD+1cOrdkIAADwfxKt2QgAAemjEq3ZCAAC4scSrdkIAAPb6xKt2QgAANETFq3ZCAAByjcWrdkIAALDWxat2QgAA7h/Gq3ZCAAAsacardkIAAGqyxqt2QgAAqPvGq3ZC\",\"dtype\":\"float64\",\"shape\":[12]},\"y\":{\"__ndarray__\":\"qXldk61YhkARDmyJXNeGQJzfiKClU4dA9SEy+3fNh0DocFEsw0SIQOi9ETh3uYhAmr+MjoQriUCjBKsQ3JqJQLm+kghvB4pAO6y5MC9xikDXAAOtDtiKQDwXyA8APItA\",\"dtype\":\"float64\",\"shape\":[12]}},\"selected\":{\"id\":\"4795\",\"type\":\"Selection\"},\"selection_policy\":{\"id\":\"4796\",\"type\":\"UnionRenderers\"}},\"id\":\"4501\",\"type\":\"ColumnDataSource\"},{\"attributes\":{\"data_source\":{\"id\":\"4501\",\"type\":\"ColumnDataSource\"},\"glyph\":{\"id\":\"4502\",\"type\":\"Line\"},\"hover_glyph\":null,\"muted_glyph\":null,\"nonselection_glyph\":{\"id\":\"4503\",\"type\":\"Line\"},\"selection_glyph\":null,\"view\":{\"id\":\"4505\",\"type\":\"CDSView\"}},\"id\":\"4504\",\"type\":\"GlyphRenderer\"},{\"attributes\":{\"ticker\":{\"id\":\"4428\",\"type\":\"DatetimeTicker\"}},\"id\":\"4431\",\"type\":\"Grid\"},{\"attributes\":{\"months\":[0,2,4,6,8,10]},\"id\":\"4468\",\"type\":\"MonthsTicker\"},{\"attributes\":{},\"id\":\"4796\",\"type\":\"UnionRenderers\"},{\"attributes\":{\"days\":[1,2,3,4,5,6,7,8,9,10,11,12,13,14,15,16,17,18,19,20,21,22,23,24,25,26,27,28,29,30,31]},\"id\":\"4463\",\"type\":\"DaysTicker\"},{\"attributes\":{\"bottom_units\":\"screen\",\"fill_alpha\":{\"value\":0.5},\"fill_color\":{\"value\":\"lightgrey\"},\"left_units\":\"screen\",\"level\":\"overlay\",\"line_alpha\":{\"value\":1.0},\"line_color\":{\"value\":\"black\"},\"line_dash\":[4,4],\"line_width\":{\"value\":2},\"render_mode\":\"css\",\"right_units\":\"screen\",\"top_units\":\"screen\"},\"id\":\"4459\",\"type\":\"BoxAnnotation\"},{\"attributes\":{\"line_width\":2,\"x\":{\"field\":\"x\"},\"y\":{\"field\":\"y\"}},\"id\":\"4449\",\"type\":\"Line\"},{\"attributes\":{\"text\":\"\"},\"id\":\"4453\",\"type\":\"Title\"},{\"attributes\":{\"source\":{\"id\":\"4448\",\"type\":\"ColumnDataSource\"}},\"id\":\"4452\",\"type\":\"CDSView\"},{\"attributes\":{},\"id\":\"4457\",\"type\":\"DatetimeTickFormatter\"},{\"attributes\":{},\"id\":\"4527\",\"type\":\"Selection\"},{\"attributes\":{\"callback\":null,\"data\":{\"x\":{\"__ndarray__\":\"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\",\"dtype\":\"float64\",\"shape\":[865]},\"y\":{\"__ndarray__\":\"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\",\"dtype\":\"float64\",\"shape\":[865]}},\"selected\":{\"id\":\"4498\",\"type\":\"Selection\"},\"selection_policy\":{\"id\":\"4499\",\"type\":\"UnionRenderers\"}},\"id\":\"4448\",\"type\":\"ColumnDataSource\"},{\"attributes\":{\"source\":{\"id\":\"4501\",\"type\":\"ColumnDataSource\"}},\"id\":\"4505\",\"type\":\"CDSView\"},{\"attributes\":{\"active_drag\":\"auto\",\"active_inspect\":\"auto\",\"active_multi\":null,\"active_scroll\":\"auto\",\"active_tap\":\"auto\",\"tools\":[{\"id\":\"4437\",\"type\":\"PanTool\"},{\"id\":\"4438\",\"type\":\"BoxZoomTool\"},{\"id\":\"4439\",\"type\":\"WheelZoomTool\"},{\"id\":\"4440\",\"type\":\"ResetTool\"},{\"id\":\"4441\",\"type\":\"SaveTool\"}]},\"id\":\"4442\",\"type\":\"Toolbar\"},{\"attributes\":{},\"id\":\"4437\",\"type\":\"PanTool\"},{\"attributes\":{\"months\":[0,6]},\"id\":\"4470\",\"type\":\"MonthsTicker\"},{\"attributes\":{\"overlay\":{\"id\":\"4459\",\"type\":\"BoxAnnotation\"}},\"id\":\"4438\",\"type\":\"BoxZoomTool\"},{\"attributes\":{\"days\":[1,8,15,22]},\"id\":\"4465\",\"type\":\"DaysTicker\"},{\"attributes\":{\"line_alpha\":0.1,\"line_color\":\"#1f77b4\",\"line_width\":2,\"x\":{\"field\":\"x\"},\"y\":{\"field\":\"y\"}},\"id\":\"4476\",\"type\":\"Line\"},{\"attributes\":{\"dimensions\":\"width\"},\"id\":\"4439\",\"type\":\"WheelZoomTool\"},{\"attributes\":{},\"id\":\"4498\",\"type\":\"Selection\"},{\"attributes\":{},\"id\":\"4440\",\"type\":\"ResetTool\"},{\"attributes\":{\"base\":60,\"mantissas\":[1,2,5,10,15,20,30],\"max_interval\":1800000.0,\"min_interval\":1000.0,\"num_minor_ticks\":0},\"id\":\"4461\",\"type\":\"AdaptiveTicker\"},{\"attributes\":{\"callback\":null},\"id\":\"4421\",\"type\":\"DataRange1d\"},{\"attributes\":{},\"id\":\"4441\",\"type\":\"SaveTool\"},{\"attributes\":{\"callback\":null,\"data\":{\"x\":{\"__ndarray__\":\"AAD+1cOrdkIAADwfxKt2QgAAemjEq3ZCAAC4scSrdkIAAPb6xKt2QgAANETFq3ZCAAByjcWrdkIAALDWxat2QgAA7h/Gq3ZCAAAsacardkIAAGqyxqt2QgAAqPvGq3ZC\",\"dtype\":\"float64\",\"shape\":[12]},\"y\":{\"__ndarray__\":\"rygSOaregkCvKBI5qt6CQK8oEjmq3oJArygSOaregkCvKBI5qt6CQK8oEjmq3oJArygSOaregkCvKBI5qt6CQK8oEjmq3oJArygSOaregkCvKBI5qt6CQK8oEjmq3oJA\",\"dtype\":\"float64\",\"shape\":[12]}},\"selected\":{\"id\":\"4527\",\"type\":\"Selection\"},\"selection_policy\":{\"id\":\"4528\",\"type\":\"UnionRenderers\"}},\"id\":\"4474\",\"type\":\"ColumnDataSource\"},{\"attributes\":{\"callback\":null},\"id\":\"4419\",\"type\":\"DataRange1d\"},{\"attributes\":{\"data_source\":{\"id\":\"4474\",\"type\":\"ColumnDataSource\"},\"glyph\":{\"id\":\"4475\",\"type\":\"Line\"},\"hover_glyph\":null,\"muted_glyph\":null,\"nonselection_glyph\":{\"id\":\"4476\",\"type\":\"Line\"},\"selection_glyph\":null,\"view\":{\"id\":\"4478\",\"type\":\"CDSView\"}},\"id\":\"4477\",\"type\":\"GlyphRenderer\"},{\"attributes\":{\"base\":24,\"mantissas\":[1,2,4,6,8,12],\"max_interval\":43200000.0,\"min_interval\":3600000.0,\"num_minor_ticks\":0},\"id\":\"4462\",\"type\":\"AdaptiveTicker\"},{\"attributes\":{\"days\":[1,4,7,10,13,16,19,22,25,28]},\"id\":\"4464\",\"type\":\"DaysTicker\"},{\"attributes\":{\"axis_label\":\"Irradiance (W/m^2)\",\"formatter\":{\"id\":\"4455\",\"type\":\"BasicTickFormatter\"},\"ticker\":{\"id\":\"4433\",\"type\":\"BasicTicker\"}},\"id\":\"4432\",\"type\":\"LinearAxis\"},{\"attributes\":{\"months\":[0,4,8]},\"id\":\"4469\",\"type\":\"MonthsTicker\"},{\"attributes\":{\"line_alpha\":0.1,\"line_color\":\"#1f77b4\",\"line_width\":2,\"x\":{\"field\":\"x\"},\"y\":{\"field\":\"y\"}},\"id\":\"4450\",\"type\":\"Line\"},{\"attributes\":{\"line_color\":\"#ff7f0e\",\"line_width\":2,\"x\":{\"field\":\"x\"},\"y\":{\"field\":\"y\"}},\"id\":\"4502\",\"type\":\"Line\"},{\"attributes\":{},\"id\":\"4455\",\"type\":\"BasicTickFormatter\"},{\"attributes\":{\"source\":{\"id\":\"4474\",\"type\":\"ColumnDataSource\"}},\"id\":\"4478\",\"type\":\"CDSView\"},{\"attributes\":{\"data_source\":{\"id\":\"4448\",\"type\":\"ColumnDataSource\"},\"glyph\":{\"id\":\"4449\",\"type\":\"Line\"},\"hover_glyph\":null,\"muted_glyph\":null,\"nonselection_glyph\":{\"id\":\"4450\",\"type\":\"Line\"},\"selection_glyph\":null,\"view\":{\"id\":\"4452\",\"type\":\"CDSView\"}},\"id\":\"4451\",\"type\":\"GlyphRenderer\"},{\"attributes\":{},\"id\":\"4471\",\"type\":\"YearsTicker\"},{\"attributes\":{\"line_color\":\"#1f77b4\",\"line_width\":2,\"x\":{\"field\":\"x\"},\"y\":{\"field\":\"y\"}},\"id\":\"4475\",\"type\":\"Line\"},{\"attributes\":{\"items\":[{\"id\":\"4473\",\"type\":\"LegendItem\"},{\"id\":\"4500\",\"type\":\"LegendItem\"},{\"id\":\"4529\",\"type\":\"LegendItem\"}],\"location\":\"top_left\"},\"id\":\"4472\",\"type\":\"Legend\"}],\"root_ids\":[\"4418\"]},\"title\":\"Bokeh Application\",\"version\":\"1.2.0\"}};\n",
       "  var render_items = [{\"docid\":\"dd64434e-4851-4d63-9c8b-17ac0bbad1c6\",\"roots\":{\"4418\":\"41d08d8d-c203-48a6-9584-a4a092d85052\"}}];\n",
       "  root.Bokeh.embed.embed_items_notebook(docs_json, render_items);\n",
       "\n",
       "  }\n",
       "  if (root.Bokeh !== undefined) {\n",
       "    embed_document(root);\n",
       "  } else {\n",
       "    var attempts = 0;\n",
       "    var timer = setInterval(function(root) {\n",
       "      if (root.Bokeh !== undefined) {\n",
       "        embed_document(root);\n",
       "        clearInterval(timer);\n",
       "      }\n",
       "      attempts++;\n",
       "      if (attempts > 100) {\n",
       "        console.log(\"Bokeh: ERROR: Unable to run BokehJS code because BokehJS library is missing\");\n",
       "        clearInterval(timer);\n",
       "      }\n",
       "    }, 10, root)\n",
       "  }\n",
       "})(window);"
      ],
      "application/vnd.bokehjs_exec.v0+json": ""
     },
     "metadata": {
      "application/vnd.bokehjs_exec.v0+json": {
       "id": "4418"
      }
     },
     "output_type": "display_data"
    }
   ],
   "source": [
    "# persistence forecasts with scalar index\n",
    "# observation.interval_label = 'ending', \n",
    "# so data ranges are exclusive of start and inclusive of end\n",
    "data_start = pd.Timestamp('20190515 1500Z')\n",
    "data_end = pd.Timestamp('20190515 1600Z')\n",
    "forecast_start = pd.Timestamp('20190515 1600Z')\n",
    "forecast_end = pd.Timestamp('20190515 1700Z')\n",
    "interval_length = pd.Timedelta('5min')\n",
    "interval_label = 'ending'\n",
    "\n",
    "fx_per = persistence.persistence_scalar(\n",
    "    observation, data_start, data_end, forecast_start,\n",
    "    forecast_end, interval_length, interval_label, load_data=load_data)\n",
    "fx_per_idx = persistence.persistence_scalar_index(\n",
    "    observation, data_start, data_end, forecast_start,\n",
    "    forecast_end, interval_length, interval_label, load_data=load_data)\n",
    "\n",
    "resampled_data = oasis_ghi_values.resample(interval_length, label='right').mean()\n",
    "fig = plot_persistence(resampled_data, fx_per, fx_per_idx)\n",
    "show(fig)"
   ]
  },
  {
   "cell_type": "markdown",
   "metadata": {},
   "source": [
    "Same data and forecast methods but for a cloudy period."
   ]
  },
  {
   "cell_type": "code",
   "execution_count": 33,
   "metadata": {},
   "outputs": [
    {
     "data": {
      "text/html": [
       "\n",
       "\n",
       "\n",
       "\n",
       "\n",
       "\n",
       "  <div class=\"bk-root\" id=\"c4290af8-c330-4bc9-b438-43b44492f34b\" data-root-id=\"4947\"></div>\n"
      ]
     },
     "metadata": {},
     "output_type": "display_data"
    },
    {
     "data": {
      "application/javascript": [
       "(function(root) {\n",
       "  function embed_document(root) {\n",
       "    \n",
       "  var docs_json = {\"9dbf5d65-6047-4e36-a581-177171074273\":{\"roots\":{\"references\":[{\"attributes\":{\"below\":[{\"id\":\"4956\",\"type\":\"DatetimeAxis\"}],\"center\":[{\"id\":\"4960\",\"type\":\"Grid\"},{\"id\":\"4965\",\"type\":\"Grid\"},{\"id\":\"5001\",\"type\":\"Legend\"}],\"left\":[{\"id\":\"4961\",\"type\":\"LinearAxis\"}],\"plot_height\":250,\"plot_width\":800,\"renderers\":[{\"id\":\"4980\",\"type\":\"GlyphRenderer\"},{\"id\":\"5006\",\"type\":\"GlyphRenderer\"},{\"id\":\"5033\",\"type\":\"GlyphRenderer\"}],\"title\":{\"id\":\"4982\",\"type\":\"Title\"},\"toolbar\":{\"id\":\"4971\",\"type\":\"Toolbar\"},\"x_range\":{\"id\":\"4948\",\"type\":\"DataRange1d\"},\"x_scale\":{\"id\":\"4952\",\"type\":\"LinearScale\"},\"y_range\":{\"id\":\"4950\",\"type\":\"DataRange1d\"},\"y_scale\":{\"id\":\"4954\",\"type\":\"LinearScale\"}},\"id\":\"4947\",\"subtype\":\"Figure\",\"type\":\"Plot\"},{\"attributes\":{\"line_alpha\":0.1,\"line_color\":\"#1f77b4\",\"line_width\":2,\"x\":{\"field\":\"x\"},\"y\":{\"field\":\"y\"}},\"id\":\"4979\",\"type\":\"Line\"},{\"attributes\":{},\"id\":\"4966\",\"type\":\"PanTool\"},{\"attributes\":{\"days\":[1,15]},\"id\":\"4995\",\"type\":\"DaysTicker\"},{\"attributes\":{\"months\":[0,4,8]},\"id\":\"4998\",\"type\":\"MonthsTicker\"},{\"attributes\":{\"overlay\":{\"id\":\"4988\",\"type\":\"BoxAnnotation\"}},\"id\":\"4967\",\"type\":\"BoxZoomTool\"},{\"attributes\":{},\"id\":\"5350\",\"type\":\"UnionRenderers\"},{\"attributes\":{\"label\":{\"value\":\"observed\"},\"renderers\":[{\"id\":\"4980\",\"type\":\"GlyphRenderer\"}]},\"id\":\"5002\",\"type\":\"LegendItem\"},{\"attributes\":{\"days\":[1,8,15,22]},\"id\":\"4994\",\"type\":\"DaysTicker\"},{\"attributes\":{\"callback\":null,\"data\":{\"x\":{\"__ndarray__\":\"AADOs8qrdkIAAAz9yqt2QgAASkbLq3ZCAACIj8urdkIAAMbYy6t2QgAABCLMq3ZCAABCa8yrdkIAAIC0zKt2QgAAvv3Mq3ZCAAD8Rs2rdkIAADqQzat2QgAAeNnNq3ZC\",\"dtype\":\"float64\",\"shape\":[12]},\"y\":{\"__ndarray__\":\"C0P3v7a4i0ALQ/e/triLQAtD97+2uItAC0P3v7a4i0ALQ/e/triLQAtD97+2uItAC0P3v7a4i0ALQ/e/triLQAtD97+2uItAC0P3v7a4i0ALQ/e/triLQAtD97+2uItA\",\"dtype\":\"float64\",\"shape\":[12]}},\"selected\":{\"id\":\"5056\",\"type\":\"Selection\"},\"selection_policy\":{\"id\":\"5057\",\"type\":\"UnionRenderers\"}},\"id\":\"5003\",\"type\":\"ColumnDataSource\"},{\"attributes\":{},\"id\":\"5000\",\"type\":\"YearsTicker\"},{\"attributes\":{\"days\":[1,2,3,4,5,6,7,8,9,10,11,12,13,14,15,16,17,18,19,20,21,22,23,24,25,26,27,28,29,30,31]},\"id\":\"4992\",\"type\":\"DaysTicker\"},{\"attributes\":{\"line_color\":\"#1f77b4\",\"line_width\":2,\"x\":{\"field\":\"x\"},\"y\":{\"field\":\"y\"}},\"id\":\"5004\",\"type\":\"Line\"},{\"attributes\":{\"days\":[1,4,7,10,13,16,19,22,25,28]},\"id\":\"4993\",\"type\":\"DaysTicker\"},{\"attributes\":{\"months\":[0,2,4,6,8,10]},\"id\":\"4997\",\"type\":\"MonthsTicker\"},{\"attributes\":{\"line_alpha\":0.1,\"line_color\":\"#1f77b4\",\"line_width\":2,\"x\":{\"field\":\"x\"},\"y\":{\"field\":\"y\"}},\"id\":\"5005\",\"type\":\"Line\"},{\"attributes\":{},\"id\":\"5057\",\"type\":\"UnionRenderers\"},{\"attributes\":{\"data_source\":{\"id\":\"5003\",\"type\":\"ColumnDataSource\"},\"glyph\":{\"id\":\"5004\",\"type\":\"Line\"},\"hover_glyph\":null,\"muted_glyph\":null,\"nonselection_glyph\":{\"id\":\"5005\",\"type\":\"Line\"},\"selection_glyph\":null,\"view\":{\"id\":\"5007\",\"type\":\"CDSView\"}},\"id\":\"5006\",\"type\":\"GlyphRenderer\"},{\"attributes\":{\"data_source\":{\"id\":\"4977\",\"type\":\"ColumnDataSource\"},\"glyph\":{\"id\":\"4978\",\"type\":\"Line\"},\"hover_glyph\":null,\"muted_glyph\":null,\"nonselection_glyph\":{\"id\":\"4979\",\"type\":\"Line\"},\"selection_glyph\":null,\"view\":{\"id\":\"4981\",\"type\":\"CDSView\"}},\"id\":\"4980\",\"type\":\"GlyphRenderer\"},{\"attributes\":{\"axis_label\":\"Time (UTC)\",\"formatter\":{\"id\":\"4986\",\"type\":\"DatetimeTickFormatter\"},\"ticker\":{\"id\":\"4957\",\"type\":\"DatetimeTicker\"}},\"id\":\"4956\",\"type\":\"DatetimeAxis\"},{\"attributes\":{\"source\":{\"id\":\"5003\",\"type\":\"ColumnDataSource\"}},\"id\":\"5007\",\"type\":\"CDSView\"},{\"attributes\":{\"items\":[{\"id\":\"5002\",\"type\":\"LegendItem\"},{\"id\":\"5029\",\"type\":\"LegendItem\"},{\"id\":\"5058\",\"type\":\"LegendItem\"}],\"location\":\"top_left\"},\"id\":\"5001\",\"type\":\"Legend\"},{\"attributes\":{\"dimension\":1,\"ticker\":{\"id\":\"4962\",\"type\":\"BasicTicker\"}},\"id\":\"4965\",\"type\":\"Grid\"},{\"attributes\":{\"label\":{\"value\":\"persistence index\"},\"renderers\":[{\"id\":\"5033\",\"type\":\"GlyphRenderer\"}]},\"id\":\"5058\",\"type\":\"LegendItem\"},{\"attributes\":{\"base\":60,\"mantissas\":[1,2,5,10,15,20,30],\"max_interval\":1800000.0,\"min_interval\":1000.0,\"num_minor_ticks\":0},\"id\":\"4990\",\"type\":\"AdaptiveTicker\"},{\"attributes\":{\"months\":[0,6]},\"id\":\"4999\",\"type\":\"MonthsTicker\"},{\"attributes\":{},\"id\":\"4954\",\"type\":\"LinearScale\"},{\"attributes\":{},\"id\":\"5027\",\"type\":\"Selection\"},{\"attributes\":{\"ticker\":{\"id\":\"4957\",\"type\":\"DatetimeTicker\"}},\"id\":\"4960\",\"type\":\"Grid\"},{\"attributes\":{},\"id\":\"4962\",\"type\":\"BasicTicker\"},{\"attributes\":{},\"id\":\"5028\",\"type\":\"UnionRenderers\"},{\"attributes\":{\"callback\":null,\"data\":{\"x\":{\"__ndarray__\":\"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\",\"dtype\":\"float64\",\"shape\":[865]},\"y\":{\"__ndarray__\":\"LWUZ4lhfekDeAgmKHx15QHvysFBrInhAQhzr4jbAdkCezarP1T51QJLLf0i/93NAyoRf6udnbUAehetRuLpvQDy9UpYhOnBApU5AE2FvbkAL16NwPaprQBQ/xty1VGlA5j+k374qZ0CJY13cRgtlQGsJ+aBn22JAduCcEaW5YEAdOGdEaa9dQA/M0eP3YllAsoAJ3LqTVUC9UpYhjgVSQCrLEMe60ExAHSCYo8c/RkAv3SQGgY1AQG1zY3rC8jZA7kJznUa6LECETDJyFjYZQEjm7PiKSfw/O0FRjyNM8b+Wxi+8kmQFwOv17o/3qgrA7d0f71UrDsAwurw5XCsOwF6iemtgKw7AXqJ6a2ArDsAwurw5XCsOwFMoC19fKw7Ai4o4nWQrDsDW52or9pcNwNDZAkLrIQ7AVks6ysGsDcBdctwpHawLwKpRSDKrdwzAaFpiZTTyC8D9ogT9hd4MwH7iAPp9fwvAQFdbsb9sC8BbzqW4qmwLwPWDukihbAvAXTXPEfluC8D7BiY3imwLwBOHbCBdbAvAc9pTck5sC8Dep6rQQGwLwF0UPfAxWArAe9y3WieuCMDcL5+sGK4IwLYMOEvJsgjAbmJITiauCMAOTdnpB7UIwDs3bcZpSAnAyOpWz0mvCcCk42pkV9oIwEFOmDCa1QjAVz1gHjIlCcB+NnLdlLIIwP4pVaLsrQjAo1nZPuStCMBw7q8e960IwJ6cobjjDQnACDpa1ZLOCMCk5UAPta0IwA+zl22nrQjAbvdynxzFCMAElIYahaQIwA71u7A1mwjA5qkOuRmuCMCuR+F6FK4IwBrEB3b8lwnAmljgK7o1CcDOZ0C9GbUIwECnID8b+QjAl8eakUGuCMB1WUxsPq4IwFpJK76hsAjAG2SSkbOwCMAOg/krZK4IwMUj8fJ0rgjA7U0MyclEC8D7IMuCif8JwOAO1CmPrgjAtCYW+IquCMCcMjffiK4IwPse9dcrrAjARlm/mZiuCMAfaAWGrK4IwCVfCaTErgjA3NWryOiAB8BZ+Ppal1oIwD1kyoegagvAAOZatABtC8BdNGQ8SuUKwCKFsvD1tQjAJdOh0/OuCMDej9svn6wIwL6/QXv1cQjAh/iHLT1aCMBOnrKarmcGwOJDiZY8XgbAglmhSPczBsAAHebLC/AFwG1blNkgEwbAGmg+525XCMCq0asBSkMHwJCF6BA4UgbACD2bVZ+rCMBZ+tAF9a0IwBjTTPc6qQjAa/erAN+tCMB2cRsN4K0IwKNZ2T7krQjASz52FyipCMAgJAuYwK0IwMZTjzS4rQjAYM5sV+gDB8CvldBdEicHwBrHSPYI9QfAxLgbRGsFCMB47dKGw5IHwNsr81ZdBwbAa+o8Kv7vBcBV9l0R/O8FwD4Cf/j57wXADcnJxK0CBsAnSkIibSMGwHJtqBjn7wXA3jr/dtnvBcAtkQvO4O8FwK5cb5upEAbAEojX9Qs2BsAomgewyO8FwLbVrDO+7wXAUIvBw7TvBcBy+Q/pt+8FwDmX4qqy7wXA6kDWU6vvBcCUFFgAU4YFwBjTTPc6KQLAesvVj03y97+z+qAdJtCmv91hE5m5gAFALSXLSSi9FUAS1zGuuIgpQPTg7qzdpjVA5YOezaofQEDOx7WhYjRGQFbZd0Xw10xAa9laXyQAUkD1vvG1Z95VQJolAWpq5VlAfYy5awn5XUD6D+m3rxNhQBsN4C2QPGNAryXkg55xZUA5RUdy+atnQKVOQBNh52lAu7iNBvA+bEAydy0hH6BuQMuhRbbzf3BAtqZ5xymkcUAEVg4tstVyQL7BFyZTA3RABOeMKO0vdUAIPZtVn1F2QGX35GGhhndA4noUrke5eEDqlbIMcdx5QNNNYhBY9XpAtch2vp8ofEDmriXkg0p9QH6utmJ/bX5Au0kMAiuZf0DXo3A9ClmAQNtoAG+B5YBAirDh6ZVrgUBGtvP91AGCQBcmUwWjjoJA7Xw/NV4Tg0CPoPgx5piDQFYOLbKdF4RAS1mGONaYhECLSuoENCGFQMGopE5Ao4VASb99HTgihkBp3nGKjpSGQIGVQ4tsBodANs07TtFzh0D1udqK/fCHQLZif9k9XYhAJlMFo5LRiEATP8bctUeJQHicoiO5wolAM6K0N/glikAe9GxWfYqKQOALk6mC8YpAkjoBTYRgi0CgGi/dJMyLQCbChqdXNoxA+1xtxf6ojEDiehSuR0CNQK0cWmQ77o1AjnVxGw3MjEDeAgmKHyOKQDhnRGlvF4tAqvHSTWJii0CNl24Sgw6MQPXb14FzHYlAltQJaCLNh0Ci1jTvOJmKQKLWNO84po9ApXA9CtcukECKQWDl0AGQQGDl0CLbMJBAdZMYBFZQkEDjpZvEIDuQQJb/kH77tY9AbhKDwMqMkECvcmiR7aeQQE1iEFg5QY9ADXGsi9uCjECYbhKDwKSQQOtRuB6FgpBAYxBYObRgkEBT46WbxGiQQAvXo3A9ipBA/Yf029cAj0Cb5h2n6GOIQOYdp+hIC41Af2q8dJOCkEDo+6nx0qCQQJLtfD81RpBAEoPAyqEekEBuEoPAyv+PQPp+arx0D5BAuB6F61HEj0AW2c73U3+PQHWTGARWgI9ArYvbaAApj0CWkA96NoeOQHCBBMWPGI5Aam/whcmXjEB4nKIjueqNQJDtfD81FY5AqOhILv9QjkDrwDkjSuONQFtCPujZ9YpAwKikTkCai0DzQc9m1TmMQOAtkKD4rIpAWhe30QC3iED0bFZ9rnmHQIMvTKYKY4lAa3h6pSySh0C2FfvL7sWJQLFyaJHtr4VAN4lBYOV0gkAi/fZ14FSKQLUV+8vuLX9AVHQkl//EgUAGzhlR2p6KQGgibHh66IdAblZ9rrZ9hkD1SlmGOFyHQMKGp1fK04VALEMc6+JhhUDeJAaBlZ97QHgLJCh+hntAZcxdS8gvf0DnjCjtDWR3QKJFtvP9VYVAlrIMcayRhUAvTKYKRtGDQIv9ZffkAoJAGlHaG3ybgUDN7snDQtt/QNobfGEyt3lAYjJVMCoXc0ACmggbnmxyQMP1KFyPoHFAMnctIR/cdEBQHhZqTRdrQC7/If32tWtAO07RkVwSa0BwXwfOGaFpQFXBqKROMGxAEoPAyqHdakBOFYxK6shxQNIA3gIJsHRAJ8KGp1e6cUAcDeAtkNhoQNUrZRniGF1APgrXo3CJVUBqAG+BBIFTQEUvo1huMVRATpzc71DIV0B6pSxDHDdhQN5xio7k0mBAsOHplbI8XEAd6+I2GiBWQAM5KGGmXU1AtwvNdRoRQkDZX3ZPHlY5QI0tBDko0TBArBqEud07JEAN/n4xW7ITQOaOSCWGLt0/2swhqYUS/b+Q96qVCf8FwOs7vyhB/wrAmrnA5bEmDsDowd1Zuy0OwLhy9s5oKw7AzmbV52orDsDOZtXnaisOwPLUIw1uKw7AMEeP39t0DcClFd9Q+KwNwEr0Morl1g3AIqtbPSf9DMBDlC9oIcELwIBEEyhikQzAajLjbaUXDMAeSx+6oL4LwG1xjc9kfwvA9YO6SKFsC8CmLa7xmWwLwDVpU3WPbAvAKiFYVS9/C8A19bpFYGwLwPuSjQdbbAvAcAwBwLFnC8ALKT+p9mkLwABYHTnS2QnANs8R+S5lC8D7HvXXK2wLwPCpnPaUHAvAeEmcFVGTCcClMO9xpgkLwB3dCIuKeArAAtvBiH0CC8Cb49wm3GsLwC4WhsjpawvARX79EBtsC8BeJ/VlaWcLwMWww5j09wnAYLNcNjpnC8DD0sCPatgKwCN7hJohFQvA9j/AWrVrC8BjXkccskELwK3Zykv+JwvAK2wGuCAbCsBRaFn3j8UIwEZDxqNUAgnArKbria4LCcACZVOu8C4JwOcdp+hIrgjAWkQUkzcACcAlzoqoiX4JwIZREDy+vQnAlstG5/xUC8DWEYdsIF0KwJmbb0T3LAnAiGTIsfXMCMALZHYWvVMKwD7jwoGQbAvAkmCqmbVUCcBZMzLIXUQJwAoRcAhVagvAxhft8UJ6CcDbMAqCx/cKwDhHHR1XYwvAwhiRKLRsC8CeDI6SV+cKwI0pWONsugjACAH5Eiq4CMCtF0M50a4IwPLz34PXrgjAspquJ7quCMCiKTv9oK4IwIvBw7RvrgjArrt5qkOuCMBk6NhBJa4IwIBfI0kQrgjAMQkX8giuCMC6wVCHFa4IwLu1TIbj+QfAFo21v7M9CMAxCRfyCK4IwIBfI0kQrgjASP31CguuCMAPm8jMBa4IwObOTDCcqwjAIJijx++tCMDWa3pQUEoHwCbK3lLOFwbAgt4bQwDwBcCqY5XSMz0GwO4CJQUWgAfAzvi+uFRlCMCyhLUxdsIGwIvc09UdSwbAVp+rrdifCMCnID8buW4IwLvUCP1MvQnA6iPwh5+/CcDFxydk560IwJBpbRrbKwfA8tHijGEOBsDaHr3hPvIFwN46/3bZ7wXAml5iLNPvBcDHRiBe1+8FwINqgxPR7wXAyvs4miPrBcAiF5zB3+8FwCHJrN7h9gXABDbn4JkQBsAZBFYOLfIFwHjwEwfQ7wXAbmjKTj+oBMB3EhH+RVADwPEqa5viMQPAOLwgIjUtA8BF9kGWBRMBwLXEymjkcwDApppZSwFp+b8QyMrUyb7gv+tvCcA/xQhA2scKfhtiJ0BNT1jiAZU4QNZz0vvGD0VAInGPpQ/JUECu2F92TxZWQMA+OnXl61VAfuNrzyylWkDOzMzMzKxfQAN4CyQoXl5AbqMBvAXKYkA9m1Wfq61gQA4om3KFm11Awvo/h/lCU0BuqBjnb/5UQP5l9+RhVVdAtvP91HihWEB+jLlrCUFaQDtO0ZFcVlxAPQrXo3CVX0BvXwfOGVlgQA7gLZCgCGJAuvyH9NsbZEAi/fZ14CxmQBDHuriNlmVAxrq4jQYsY0C9UpYhjsViQP5D+u3rjGRArfpcbcVyZ0ByGw3gLeRpQJCg+DHmOmxAPQrXo3CZcUDysFBrmmF0QKFns+pzs3RAQs9m1ec0dUAr1JrmHRN3QG1Wfa62RnhAkML1KFyzd0BoAG+BBO13QGpv8IXJ6HlAPb1SliGieUAIPZtVn0l8QK5H4XoUrH9AsAPnjChxfEADeAskKOh1QEOLbOf7w3RAX5hMFYy+cUBSJ6CJsB9wQKAaL90k7m5AsOHplbIQckBIcvkP6Q92QNhfdk8exHdAguLHmLu2dkCVh4Va02Z3QCZTBaOSEHtAdk8eFmpJfECDns2qz9V8QJLLf0i/P3lAqDXNO04IhkD1bFZ9rnJ6QKabxCCwIYdAO99PjZcWkUDwp8ZLN8+MQBB6Nqs+R45A4L4OnDOvjEDW52ordrWQQA6cM6K0lY1AgNk9eVi9jkCvlGWI43mQQDYawFsgpIxAokW28/30kECitDf4wqiMQAY9m1Wfv4xAaJHtfD8qkUDFILByaJmQQP7UeOkmZJFAFK5H4XrEkEBANV66SZuQQNv5fmq8zJBAR+F6FK7/kEBg5dAi2zGRQGDl0CLbfZFAcmiR7XzakEAj2/l+aoKQQCCwcmiRV5BA+n5qvHRVkEDpJjEIrD6QQMUgsHJoY5BA2c73U+NTkEDiehSuR0mQQHJoke18V5BAVOOlm8RGkEBzaJHtfGKQQJq7lpAPf49AwOyePCxzj0CSfvs6cL+NQBPQRNjw+Y1AZRniWBdnj0CGWtO840uPQHPXEvJBMY9AGgRWDi3JjkAL16NwPdqNQAMrhxbZho1AONbFbTS4jECS7Xw/NfWMQAIrhxbZHo1A9rnaiv2FjEDqlbIMcYuMQCKwcmiRQIxAayv2l93mi0DAfR04Z5KLQFXBqKROOYtAU5YhjnXMikCF61G4HmOKQLhAguLH9YlA0ytlGeKLiUCmeccpOhyJQEtZhjjWoohAw9MrZRkmiEAX2c73U6+HQM07TtGROodAiv1l9+TIhkCopE5AE1eGQISezarPyIVARgN4CyROhUD+1HjpJsqEQJ7Nqs/VOYRAAiuHFtm9g0B0tRX7y0eDQH5qvHSTuoJALUMc6+IpgkAoXI/C9Z6BQKCJsOHpBYFAqqROQBNVgEBw8IXJVKt/QPaX3ZOHsX1AyJi7lpBxfECl374OnL97QNtoAG+BqHpAA+eMKO1veUDr4jYawK93QDojSnuDBXdABMWPMXefdUBMN4lBYKl0QNBE2PD0rHNAaW/whcmackB5eqUsQ0pxQJ2iI7n8AXBAEz/G3LXsa0A+CtejcD1oQHDwhclULWVAHHxhMlU8Y0Ay5q4l5HdhQLZif9k9+V9Au37BbthKW0C6LCY2H+NXQLN224XmrlVANc07TtElVkCCqPsApDZRQHMMyF7vDkxABMqmXOElQ0ASwqONI2Y8QEbmkT8YmDVA8kHPZtW3MEAVOq+xS3QlQL1XrUz45RFAvTrHgOz16T9tSVhl8EGxPx4sCIrEafa/uLBuvDvyBcANchdhirIIwNOowMk2sAjAqvV+ox13CcAWMlcG1QYJwLZFmQ0yCQnASN45lKHqCMA9LxUb8/oIwKsBSkONQgrAysuaWOCrCsDOTgZHyWsLwFYHQNzVawvAMBaGyOlrC8Dltn2P+msLwINjlj0JbAvAc2a7Qh9sC8BLdQEvM2wLwH5Uw35PbAvA8Bge+1lsC8CeNqrTgWwLwEXaxp+obAvAAHLChNFsC8AzUYTU7WwLwEZ8J2a9GAvA2scKfhsiC8DYgAhx5WwLwMNBQpQvaAvABvUtc7psC8CTMNP2r2wLwAt4mWGjbAvAlnFTA81nC8BtyhXe5WILwIpamlshbAvA9nXgnBFlC8Aw9IjRc4sKwGZjJeZZCQnASMX/HVFhCsCKtI0/UVkLwAglzLT9awvAXUwz3etkC8DrOel942sLwGOBr+jWawvAjmltGttrC8ACLsiW5WsLwFucMcwJGgvANqeSAaAKCsDaCpqWWJkKwL7wSpLnegrAa+9TVWjgCcBzE7U0t0IKwNNNYhBYOQrAqf+s+fHXCMDLSpNS0K0IwPkyUYTUrQjAIhgHl465CMDFxydk560IwOI+cmvSrQjANrHAV3SrCMBkdEAS9u0HwDNN2H4yxgfAnmLVIMytCMDOWZ9yTJYIwJtxGqIKvwfAmKWdmstNCMAFGQEVjmAIwJwzorQ3+AbAuMoTCDsFCMCYa9ECtK0IwEgVxausrQjA11BqL6KtCMAglzjyQKQIwPHbEOM1LwjAsJKP3QWKBsDww0FClO8FwLZhFASP7wXArb8lAP8UBsDudVJflvYFwKznpPeN7wXAlfPF3ovvBcCs56T3je8FwK4NFeP8DQbAUkmdgCbCBsBdGOlF7f4GwCibcoV3eQbAHbCryVNWBsDTFAFO7yIGwDJbsirCDQbAOsjrwaT4BcABTYQNT+8FwG4a22tB7wXAKj4+ITvvBcAexM4UOu8FwBNKXwg57wXAsvZ3tkfvBcBYJvxSP+8FwKz/c5gv7wXAc51GWirvBcBFtYgoJu8FwH4XtmYr7wXAc51GWirvBcCKkSVzLO8FwGgj100p7wXALsGpDyTvBcDU8C2sG+8FwJAUkWEV7wXA1fAtrBvvBcAYzcr2Ie8FwH4XtmYr7wXAt3njpDDvBcDw2xDjNe8FwCo+PiE77wXAwCDp0yo6BsBpAG+BBIUGwFgm/FI/7wXAc51GWirvBcBlGeJYF/cEwM4d/S/XIgHAUhogh3dv9L+T61wHve3bP3BiSE4mLgZAgmqDE9GPGUDc8/xpo3olQNIA3gIJmjZAwjQMHxHDPECRJ0nXTO43QLrVc9L7bkBAQgkzbf+KS0DV52or9u9VQCpSYWwhUFpADZOpglExXkAHzhlR2iNhQB44Z0RpX2NAFvvL7smTZUAll/+QfgtoQMrlP6TfkmpACM4ZUdr7bEB7gy9MpmJvQInS3uAL6XBANl66SQwYckDByqFFtlFzQM4ZUdobZHRAiPTb14GNdUBztRX7y652QN61hHzQxXdA0iLb+X4GeUBtVn2utjR6QHMkl/+QUHtALdSa5h19fEAFNBE2PO19QNZW7C+7D39AmbuWkA8pgECqglFJnaWAQD7G3LWEYoFA/Knx0k0lgkBzRpT2BkuEQATFjzF3ZohAhXzQs1m9i0CRoPgx5riFQCWX/5B+uXpA4zYawFvqd0AD54wo7X18QG3F/rJ7XnNAslBrmnc1gEA9CtejcHt/QHNGlPYGvYtAQmDl0CLAgkBKnYAmwsR8QCDSb18HWnlAnjws1JpIdEBbQj7o2U52QDLEsS5upXdAPgrXo3BjfUA7TtGRXESMQNLe4AuTa4VAk6mCUUl7jUCfq63YX7+DQMDKoUW2EX9ApixDHOu9iUAAkX77OoOPQBDpt68DY4pAmruWkA9Aj0BGA3gLJEiPQA0CK4cWGJBAS1mGONZ/ikB8YTJVMJGIQOSDns2qwYhAyJi7lpDZjkBg5dAi23mIQGCYTBWMho5ArrZif9nfkEDtL7snD02MQPH0SlmGCodA8KfGSzcgikDb+X5qvFOFQFJJnYAm8oxA1QloImzvkEBvEoPAyuWQQCJseHolAZBAGy/dJAa9jkCF61G4Hm6RQGu8dJMY+JBAObTIdr6QkECq8dJNYm2QQDMzMzMzYpBAZDvfT41FkECF61G4Hj+QQHNoke18MZBAMzMzMzMmkEC/nxov3SeQQGIQWDm0CJBAIbByaJEHkECOwvUoXOGPQIcW2c73BJBAppvEILASkEAGgZVDi/SPQC2yne+nDJBA1XjpJjGwj0BGlPYGXxCOQEoMAiuHlIxAcoqO5PKyjUBz+Q/pt9yLQOiMKO0NcY5AfWEyVTApjED1SlmGOJyMQJ7Nqs/V+IxAQmDl0CLwjEA9LNSa5hCNQFD8GHPXUYxAYJhMFYzki0Ct+lxtxT6LQMDsnjwsoYpAnV4pyxAZi0BlO99PjcCKQAg9m1WfLopAoImw4enPiUA8TtGRXFKJQN4kBoGV94hApuhILv9riEC2hHzQs+mHQJm7lpAPbodAklz+Q/rchkBcIEHxY2+GQLZif9k9+IVA87BQa5qAhUDW52or9g2FQIUNT6+UiIRAcF8HzhkAhEAm5IOezYGDQIy5awn5AYNAm8QgsHJugkCZTBWMSuKBQHVxGw3gTIFAMsSxLm7NgECn6Egu/0WAQNIi2/l+Un9AeukmMQhIfkD99nXgnA19QLq4jQbw4ntAHVpkO98ve0A=\",\"dtype\":\"float64\",\"shape\":[865]}},\"selected\":{\"id\":\"5027\",\"type\":\"Selection\"},\"selection_policy\":{\"id\":\"5028\",\"type\":\"UnionRenderers\"}},\"id\":\"4977\",\"type\":\"ColumnDataSource\"},{\"attributes\":{\"label\":{\"value\":\"persistence\"},\"renderers\":[{\"id\":\"5006\",\"type\":\"GlyphRenderer\"}]},\"id\":\"5029\",\"type\":\"LegendItem\"},{\"attributes\":{},\"id\":\"4986\",\"type\":\"DatetimeTickFormatter\"},{\"attributes\":{\"active_drag\":\"auto\",\"active_inspect\":\"auto\",\"active_multi\":null,\"active_scroll\":\"auto\",\"active_tap\":\"auto\",\"tools\":[{\"id\":\"4966\",\"type\":\"PanTool\"},{\"id\":\"4967\",\"type\":\"BoxZoomTool\"},{\"id\":\"4968\",\"type\":\"WheelZoomTool\"},{\"id\":\"4969\",\"type\":\"ResetTool\"},{\"id\":\"4970\",\"type\":\"SaveTool\"}]},\"id\":\"4971\",\"type\":\"Toolbar\"},{\"attributes\":{\"num_minor_ticks\":5,\"tickers\":[{\"id\":\"4989\",\"type\":\"AdaptiveTicker\"},{\"id\":\"4990\",\"type\":\"AdaptiveTicker\"},{\"id\":\"4991\",\"type\":\"AdaptiveTicker\"},{\"id\":\"4992\",\"type\":\"DaysTicker\"},{\"id\":\"4993\",\"type\":\"DaysTicker\"},{\"id\":\"4994\",\"type\":\"DaysTicker\"},{\"id\":\"4995\",\"type\":\"DaysTicker\"},{\"id\":\"4996\",\"type\":\"MonthsTicker\"},{\"id\":\"4997\",\"type\":\"MonthsTicker\"},{\"id\":\"4998\",\"type\":\"MonthsTicker\"},{\"id\":\"4999\",\"type\":\"MonthsTicker\"},{\"id\":\"5000\",\"type\":\"YearsTicker\"}]},\"id\":\"4957\",\"type\":\"DatetimeTicker\"},{\"attributes\":{\"base\":24,\"mantissas\":[1,2,4,6,8,12],\"max_interval\":43200000.0,\"min_interval\":3600000.0,\"num_minor_ticks\":0},\"id\":\"4991\",\"type\":\"AdaptiveTicker\"},{\"attributes\":{\"callback\":null},\"id\":\"4950\",\"type\":\"DataRange1d\"},{\"attributes\":{\"callback\":null,\"data\":{\"x\":{\"__ndarray__\":\"AADOs8qrdkIAAAz9yqt2QgAASkbLq3ZCAACIj8urdkIAAMbYy6t2QgAABCLMq3ZCAABCa8yrdkIAAIC0zKt2QgAAvv3Mq3ZCAAD8Rs2rdkIAADqQzat2QgAAeNnNq3ZC\",\"dtype\":\"float64\",\"shape\":[12]},\"y\":{\"__ndarray__\":\"JoYKQol3jUCwQmjI46qNQEEO1x7s2o1AhLoPMZwHjkDZ6opX7jCOQH11IVrdVo5AvctTb2R5jkBia848f5iOQO29adgptI5A51Vmx2DMjkBiBwIAIeGOQEo7Nuhn8o5A\",\"dtype\":\"float64\",\"shape\":[12]}},\"selected\":{\"id\":\"5349\",\"type\":\"Selection\"},\"selection_policy\":{\"id\":\"5350\",\"type\":\"UnionRenderers\"}},\"id\":\"5030\",\"type\":\"ColumnDataSource\"},{\"attributes\":{},\"id\":\"5349\",\"type\":\"Selection\"},{\"attributes\":{},\"id\":\"4969\",\"type\":\"ResetTool\"},{\"attributes\":{\"callback\":null},\"id\":\"4948\",\"type\":\"DataRange1d\"},{\"attributes\":{\"line_color\":\"#ff7f0e\",\"line_width\":2,\"x\":{\"field\":\"x\"},\"y\":{\"field\":\"y\"}},\"id\":\"5031\",\"type\":\"Line\"},{\"attributes\":{\"line_width\":2,\"x\":{\"field\":\"x\"},\"y\":{\"field\":\"y\"}},\"id\":\"4978\",\"type\":\"Line\"},{\"attributes\":{\"line_alpha\":0.1,\"line_color\":\"#1f77b4\",\"line_width\":2,\"x\":{\"field\":\"x\"},\"y\":{\"field\":\"y\"}},\"id\":\"5032\",\"type\":\"Line\"},{\"attributes\":{\"mantissas\":[1,2,5],\"max_interval\":500.0,\"num_minor_ticks\":0},\"id\":\"4989\",\"type\":\"AdaptiveTicker\"},{\"attributes\":{},\"id\":\"4984\",\"type\":\"BasicTickFormatter\"},{\"attributes\":{\"data_source\":{\"id\":\"5030\",\"type\":\"ColumnDataSource\"},\"glyph\":{\"id\":\"5031\",\"type\":\"Line\"},\"hover_glyph\":null,\"muted_glyph\":null,\"nonselection_glyph\":{\"id\":\"5032\",\"type\":\"Line\"},\"selection_glyph\":null,\"view\":{\"id\":\"5034\",\"type\":\"CDSView\"}},\"id\":\"5033\",\"type\":\"GlyphRenderer\"},{\"attributes\":{},\"id\":\"4970\",\"type\":\"SaveTool\"},{\"attributes\":{\"months\":[0,1,2,3,4,5,6,7,8,9,10,11]},\"id\":\"4996\",\"type\":\"MonthsTicker\"},{\"attributes\":{\"bottom_units\":\"screen\",\"fill_alpha\":{\"value\":0.5},\"fill_color\":{\"value\":\"lightgrey\"},\"left_units\":\"screen\",\"level\":\"overlay\",\"line_alpha\":{\"value\":1.0},\"line_color\":{\"value\":\"black\"},\"line_dash\":[4,4],\"line_width\":{\"value\":2},\"render_mode\":\"css\",\"right_units\":\"screen\",\"top_units\":\"screen\"},\"id\":\"4988\",\"type\":\"BoxAnnotation\"},{\"attributes\":{\"source\":{\"id\":\"5030\",\"type\":\"ColumnDataSource\"}},\"id\":\"5034\",\"type\":\"CDSView\"},{\"attributes\":{\"axis_label\":\"Irradiance (W/m^2)\",\"formatter\":{\"id\":\"4984\",\"type\":\"BasicTickFormatter\"},\"ticker\":{\"id\":\"4962\",\"type\":\"BasicTicker\"}},\"id\":\"4961\",\"type\":\"LinearAxis\"},{\"attributes\":{},\"id\":\"4952\",\"type\":\"LinearScale\"},{\"attributes\":{},\"id\":\"5056\",\"type\":\"Selection\"},{\"attributes\":{\"source\":{\"id\":\"4977\",\"type\":\"ColumnDataSource\"}},\"id\":\"4981\",\"type\":\"CDSView\"},{\"attributes\":{\"text\":\"\"},\"id\":\"4982\",\"type\":\"Title\"},{\"attributes\":{\"dimensions\":\"width\"},\"id\":\"4968\",\"type\":\"WheelZoomTool\"}],\"root_ids\":[\"4947\"]},\"title\":\"Bokeh Application\",\"version\":\"1.2.0\"}};\n",
       "  var render_items = [{\"docid\":\"9dbf5d65-6047-4e36-a581-177171074273\",\"roots\":{\"4947\":\"c4290af8-c330-4bc9-b438-43b44492f34b\"}}];\n",
       "  root.Bokeh.embed.embed_items_notebook(docs_json, render_items);\n",
       "\n",
       "  }\n",
       "  if (root.Bokeh !== undefined) {\n",
       "    embed_document(root);\n",
       "  } else {\n",
       "    var attempts = 0;\n",
       "    var timer = setInterval(function(root) {\n",
       "      if (root.Bokeh !== undefined) {\n",
       "        embed_document(root);\n",
       "        clearInterval(timer);\n",
       "      }\n",
       "      attempts++;\n",
       "      if (attempts > 100) {\n",
       "        console.log(\"Bokeh: ERROR: Unable to run BokehJS code because BokehJS library is missing\");\n",
       "        clearInterval(timer);\n",
       "      }\n",
       "    }, 10, root)\n",
       "  }\n",
       "})(window);"
      ],
      "application/vnd.bokehjs_exec.v0+json": ""
     },
     "metadata": {
      "application/vnd.bokehjs_exec.v0+json": {
       "id": "4947"
      }
     },
     "output_type": "display_data"
    }
   ],
   "source": [
    "# persistence forecasts with scalar index\n",
    "# observation.interval_label = 'ending', \n",
    "# so data ranges are exclusive of start and inclusive of end\n",
    "data_start = pd.Timestamp('20190515 1700Z')\n",
    "data_end = pd.Timestamp('20190515 1800Z')\n",
    "forecast_start = pd.Timestamp('20190515 1800Z')\n",
    "forecast_end = pd.Timestamp('20190515 1900Z')\n",
    "interval_length = pd.Timedelta('5min')\n",
    "interval_label = 'ending'\n",
    "\n",
    "fx_per = persistence.persistence_scalar(\n",
    "    observation, data_start, data_end, forecast_start,\n",
    "    forecast_end, interval_length, interval_label, load_data=load_data)\n",
    "fx_per_idx = persistence.persistence_scalar_index(\n",
    "    observation, data_start, data_end, forecast_start,\n",
    "    forecast_end, interval_length, interval_label, load_data=load_data)\n",
    "\n",
    "resampled_data = oasis_ghi_values.resample(interval_length, label='right').mean()\n",
    "fig = plot_persistence(resampled_data, fx_per, fx_per_idx)\n",
    "show(fig)"
   ]
  },
  {
   "cell_type": "markdown",
   "metadata": {},
   "source": [
    "The \"day ahead persistence\" function [`persistence_interval`](https://solarforecastarbiter-core.readthedocs.io/en/latest/generated/solarforecastarbiter.reference_forecasts.persistence.persistence_interval.html#solarforecastarbiter.reference_forecasts.persistence.persistence_interval) works here because our example `load_data` function accounts for interval labeling."
   ]
  },
  {
   "cell_type": "code",
   "execution_count": 34,
   "metadata": {},
   "outputs": [
    {
     "data": {
      "text/html": [
       "\n",
       "\n",
       "\n",
       "\n",
       "\n",
       "\n",
       "  <div class=\"bk-root\" id=\"568df126-39c3-4cca-a8d0-87f74c74b213\" data-root-id=\"5501\"></div>\n"
      ]
     },
     "metadata": {},
     "output_type": "display_data"
    },
    {
     "data": {
      "application/javascript": [
       "(function(root) {\n",
       "  function embed_document(root) {\n",
       "    \n",
       "  var docs_json = {\"9815d08c-4198-4159-946f-0117679b4b5d\":{\"roots\":{\"references\":[{\"attributes\":{\"below\":[{\"id\":\"5510\",\"type\":\"DatetimeAxis\"}],\"center\":[{\"id\":\"5514\",\"type\":\"Grid\"},{\"id\":\"5519\",\"type\":\"Grid\"},{\"id\":\"5555\",\"type\":\"Legend\"}],\"left\":[{\"id\":\"5515\",\"type\":\"LinearAxis\"}],\"plot_height\":250,\"plot_width\":800,\"renderers\":[{\"id\":\"5534\",\"type\":\"GlyphRenderer\"},{\"id\":\"5560\",\"type\":\"GlyphRenderer\"}],\"title\":{\"id\":\"5536\",\"type\":\"Title\"},\"toolbar\":{\"id\":\"5525\",\"type\":\"Toolbar\"},\"x_range\":{\"id\":\"5502\",\"type\":\"DataRange1d\"},\"x_scale\":{\"id\":\"5506\",\"type\":\"LinearScale\"},\"y_range\":{\"id\":\"5504\",\"type\":\"DataRange1d\"},\"y_scale\":{\"id\":\"5508\",\"type\":\"LinearScale\"}},\"id\":\"5501\",\"subtype\":\"Figure\",\"type\":\"Plot\"},{\"attributes\":{\"overlay\":{\"id\":\"5542\",\"type\":\"BoxAnnotation\"}},\"id\":\"5521\",\"type\":\"BoxZoomTool\"},{\"attributes\":{\"months\":[0,1,2,3,4,5,6,7,8,9,10,11]},\"id\":\"5550\",\"type\":\"MonthsTicker\"},{\"attributes\":{\"dimensions\":\"width\"},\"id\":\"5522\",\"type\":\"WheelZoomTool\"},{\"attributes\":{\"months\":[0,2,4,6,8,10]},\"id\":\"5551\",\"type\":\"MonthsTicker\"},{\"attributes\":{},\"id\":\"5523\",\"type\":\"ResetTool\"},{\"attributes\":{},\"id\":\"5897\",\"type\":\"Selection\"},{\"attributes\":{},\"id\":\"5516\",\"type\":\"BasicTicker\"},{\"attributes\":{\"months\":[0,4,8]},\"id\":\"5552\",\"type\":\"MonthsTicker\"},{\"attributes\":{},\"id\":\"5524\",\"type\":\"SaveTool\"},{\"attributes\":{\"callback\":null,\"data\":{\"x\":{\"__ndarray__\":\"AAAoDZCrdkIAABB8k6t2QgAA+OqWq3ZCAADgWZqrdkIAAMjInat2QgAAsDehq3ZCAACYpqSrdkIAAIAVqKt2QgAAaISrq3ZCAABQ866rdkIAADhisqt2QgAAING1q3ZCAAAIQLmrdkIAAPCuvKt2QgAA2B3Aq3ZCAADAjMOrdkIAAKj7xqt2QgAAkGrKq3ZCAAB42c2rdkIAAGBI0at2QgAASLfUq3ZCAAAwJtirdkIAABiV26t2QgAAAATfq3ZCAADocuKrdkIAANDh5at2QgAAuFDpq3ZCAACgv+yrdkIAAIgu8Kt2QgAAcJ3zq3ZCAABYDPerdkIAAEB7+qt2QgAAKOr9q3ZCAAAQWQGsdkIAAPjHBKx2QgAA4DYIrHZCAADIpQusdkIAALAUD6x2QgAAmIMSrHZCAACA8hWsdkIAAGhhGax2QgAAUNAcrHZCAAA4PyCsdkIAACCuI6x2QgAACB0nrHZCAADwiyqsdkIAANj6Lax2QgAAwGkxrHZCAACo2DSsdkIAAJBHOKx2QgAAeLY7rHZCAABgJT+sdkIAAEiUQqx2QgAAMANGrHZCAAAYckmsdkIAAADhTKx2QgAA6E9QrHZCAADQvlOsdkIAALgtV6x2QgAAoJxarHZCAACIC16sdkIAAHB6Yax2QgAAWOlkrHZCAABAWGisdkIAACjHa6x2QgAAEDZvrHZCAAD4pHKsdkIAAOATdqx2QgAAyIJ5rHZCAACw8XysdkIAAJhggKx2QgAAgM+DrHZCAABoPoesdkI=\",\"dtype\":\"float64\",\"shape\":[73]},\"y\":{\"__ndarray__\":\"tDUPTQYCc0BHpIDHyntYQIUBk5yUauO/wb1YBVeGDMDTnM+TRQQKwNOeknNi3wjABxbAlIHTCMAgGBpizwEJwErR3YgBxQjAirLw9bWuB8DZ4XZoWEwHwB7lcwFC/gXA955JGlvbK0BG6b/045ZkQOLHmLsWFHhA6dms+lzDgkB//mglGpWIQGXxiPdJ0YtA/cvuyUMbj0ABJSusAWWPQL3ERdte9Y5AxWSqYJQwikBz/2tTT3GEQFeGONbFVH5Ay8ZwYjWsbUCeLKITL89TQFWIxpLxF/S/56dL2fxSDMAsg0TtkQALwLZN8bioJgvA3ReqdfV9CcBJ2fzStUkKwOkBP70soAjArd674ObHB8ClXt2eDaYHwFz6l6QyZQXAXAYuIbFUOkDDjUgBj6tbQM6LAJSs12RAvzb1lC/dd0AU+8vuyXV1QPlT46XbtYdAx05lPq0YkEC4rNUxAZyQQAEoWWENAY9ApVfKMoTUi0CAJsKGJ/eGQHRGlPZGlYBAT4c7BHuOckBgTA1HaiRVQDL8XY4NY/E/fWEMv67ZCsDJdr6fGl8LwDdWT9NUDAvAD6PnFroiCsAn5HDTjEIIwMW9Mm/VRQfAIO9CYNI1BsDSbcK9Mu8FwJk0DYrmAQbAJ7CB9QD0I0DNlxdgH8BkQJ+iI7l8fHhAsOHplTKlgUCqYFRSp+qAQEDo2aw6lIpAYjixmgHrjEDxYJ6of1mQQDm39itK4I5AJHLU5HzSi0BNzmOnci+HQDnWxW00CoFAHVpkO98ve0A=\",\"dtype\":\"float64\",\"shape\":[73]}},\"selected\":{\"id\":\"5581\",\"type\":\"Selection\"},\"selection_policy\":{\"id\":\"5582\",\"type\":\"UnionRenderers\"}},\"id\":\"5531\",\"type\":\"ColumnDataSource\"},{\"attributes\":{\"months\":[0,6]},\"id\":\"5553\",\"type\":\"MonthsTicker\"},{\"attributes\":{},\"id\":\"5520\",\"type\":\"PanTool\"},{\"attributes\":{\"line_alpha\":0.1,\"line_color\":\"#1f77b4\",\"line_width\":2,\"x\":{\"field\":\"x\"},\"y\":{\"field\":\"y\"}},\"id\":\"5559\",\"type\":\"Line\"},{\"attributes\":{\"active_drag\":\"auto\",\"active_inspect\":\"auto\",\"active_multi\":null,\"active_scroll\":\"auto\",\"active_tap\":\"auto\",\"tools\":[{\"id\":\"5520\",\"type\":\"PanTool\"},{\"id\":\"5521\",\"type\":\"BoxZoomTool\"},{\"id\":\"5522\",\"type\":\"WheelZoomTool\"},{\"id\":\"5523\",\"type\":\"ResetTool\"},{\"id\":\"5524\",\"type\":\"SaveTool\"}]},\"id\":\"5525\",\"type\":\"Toolbar\"},{\"attributes\":{\"line_color\":\"#1f77b4\",\"line_width\":2,\"x\":{\"field\":\"x\"},\"y\":{\"field\":\"y\"}},\"id\":\"5558\",\"type\":\"Line\"},{\"attributes\":{},\"id\":\"5554\",\"type\":\"YearsTicker\"},{\"attributes\":{\"callback\":null,\"data\":{\"x\":{\"__ndarray__\":\"AABYDPerdkIAAEB7+qt2QgAAKOr9q3ZCAAAQWQGsdkIAAPjHBKx2QgAA4DYIrHZCAADIpQusdkIAALAUD6x2QgAAmIMSrHZCAACA8hWsdkIAAGhhGax2QgAAUNAcrHZCAAA4PyCsdkIAACCuI6x2QgAACB0nrHZCAADwiyqsdkIAANj6Lax2QgAAwGkxrHZCAACo2DSsdkIAAJBHOKx2QgAAeLY7rHZCAABgJT+sdkIAAEiUQqx2QgAAMANGrHZC\",\"dtype\":\"float64\",\"shape\":[24]},\"y\":{\"__ndarray__\":\"KkVRjYTTCMCZCC5pnwEJwAwAaKf5vQjAuT7Szeu1B8B9s26WpUAHwJHLpd5A/gXAI0hKH18jLkDOVksnfwZlQKxjggdzT3hAsCgSOaregkB/khXWoKuIQAxD97+2uItAe6L+jdA5j0BBDQVZvHSPQGGnMp/G7Y5AgImLtv3/iUDLpHNrf22EQH/fmeNvGn5AA2iBY7wdbUCj5wPv0XNTQCnbGTgycfi/+xbWjXdHDMC+tJWEMf8KwI8ONfd9JQvA\",\"dtype\":\"float64\",\"shape\":[24]}},\"selected\":{\"id\":\"5897\",\"type\":\"Selection\"},\"selection_policy\":{\"id\":\"5898\",\"type\":\"UnionRenderers\"}},\"id\":\"5557\",\"type\":\"ColumnDataSource\"},{\"attributes\":{\"data_source\":{\"id\":\"5557\",\"type\":\"ColumnDataSource\"},\"glyph\":{\"id\":\"5558\",\"type\":\"Line\"},\"hover_glyph\":null,\"muted_glyph\":null,\"nonselection_glyph\":{\"id\":\"5559\",\"type\":\"Line\"},\"selection_glyph\":null,\"view\":{\"id\":\"5561\",\"type\":\"CDSView\"}},\"id\":\"5560\",\"type\":\"GlyphRenderer\"},{\"attributes\":{\"line_alpha\":0.1,\"line_color\":\"#1f77b4\",\"line_width\":2,\"x\":{\"field\":\"x\"},\"y\":{\"field\":\"y\"}},\"id\":\"5533\",\"type\":\"Line\"},{\"attributes\":{\"data_source\":{\"id\":\"5531\",\"type\":\"ColumnDataSource\"},\"glyph\":{\"id\":\"5532\",\"type\":\"Line\"},\"hover_glyph\":null,\"muted_glyph\":null,\"nonselection_glyph\":{\"id\":\"5533\",\"type\":\"Line\"},\"selection_glyph\":null,\"view\":{\"id\":\"5535\",\"type\":\"CDSView\"}},\"id\":\"5534\",\"type\":\"GlyphRenderer\"},{\"attributes\":{\"axis_label\":\"Irradiance (W/m^2)\",\"formatter\":{\"id\":\"5538\",\"type\":\"BasicTickFormatter\"},\"ticker\":{\"id\":\"5516\",\"type\":\"BasicTicker\"}},\"id\":\"5515\",\"type\":\"LinearAxis\"},{\"attributes\":{\"source\":{\"id\":\"5557\",\"type\":\"ColumnDataSource\"}},\"id\":\"5561\",\"type\":\"CDSView\"},{\"attributes\":{\"callback\":null},\"id\":\"5502\",\"type\":\"DataRange1d\"},{\"attributes\":{\"source\":{\"id\":\"5531\",\"type\":\"ColumnDataSource\"}},\"id\":\"5535\",\"type\":\"CDSView\"},{\"attributes\":{\"num_minor_ticks\":5,\"tickers\":[{\"id\":\"5543\",\"type\":\"AdaptiveTicker\"},{\"id\":\"5544\",\"type\":\"AdaptiveTicker\"},{\"id\":\"5545\",\"type\":\"AdaptiveTicker\"},{\"id\":\"5546\",\"type\":\"DaysTicker\"},{\"id\":\"5547\",\"type\":\"DaysTicker\"},{\"id\":\"5548\",\"type\":\"DaysTicker\"},{\"id\":\"5549\",\"type\":\"DaysTicker\"},{\"id\":\"5550\",\"type\":\"MonthsTicker\"},{\"id\":\"5551\",\"type\":\"MonthsTicker\"},{\"id\":\"5552\",\"type\":\"MonthsTicker\"},{\"id\":\"5553\",\"type\":\"MonthsTicker\"},{\"id\":\"5554\",\"type\":\"YearsTicker\"}]},\"id\":\"5511\",\"type\":\"DatetimeTicker\"},{\"attributes\":{},\"id\":\"5581\",\"type\":\"Selection\"},{\"attributes\":{\"text\":\"\"},\"id\":\"5536\",\"type\":\"Title\"},{\"attributes\":{\"dimension\":1,\"ticker\":{\"id\":\"5516\",\"type\":\"BasicTicker\"}},\"id\":\"5519\",\"type\":\"Grid\"},{\"attributes\":{},\"id\":\"5508\",\"type\":\"LinearScale\"},{\"attributes\":{},\"id\":\"5582\",\"type\":\"UnionRenderers\"},{\"attributes\":{},\"id\":\"5538\",\"type\":\"BasicTickFormatter\"},{\"attributes\":{\"label\":{\"value\":\"persistence\"},\"renderers\":[{\"id\":\"5560\",\"type\":\"GlyphRenderer\"}]},\"id\":\"5583\",\"type\":\"LegendItem\"},{\"attributes\":{\"line_width\":2,\"x\":{\"field\":\"x\"},\"y\":{\"field\":\"y\"}},\"id\":\"5532\",\"type\":\"Line\"},{\"attributes\":{},\"id\":\"5540\",\"type\":\"DatetimeTickFormatter\"},{\"attributes\":{\"days\":[1,2,3,4,5,6,7,8,9,10,11,12,13,14,15,16,17,18,19,20,21,22,23,24,25,26,27,28,29,30,31]},\"id\":\"5546\",\"type\":\"DaysTicker\"},{\"attributes\":{\"bottom_units\":\"screen\",\"fill_alpha\":{\"value\":0.5},\"fill_color\":{\"value\":\"lightgrey\"},\"left_units\":\"screen\",\"level\":\"overlay\",\"line_alpha\":{\"value\":1.0},\"line_color\":{\"value\":\"black\"},\"line_dash\":[4,4],\"line_width\":{\"value\":2},\"render_mode\":\"css\",\"right_units\":\"screen\",\"top_units\":\"screen\"},\"id\":\"5542\",\"type\":\"BoxAnnotation\"},{\"attributes\":{\"ticker\":{\"id\":\"5511\",\"type\":\"DatetimeTicker\"}},\"id\":\"5514\",\"type\":\"Grid\"},{\"attributes\":{},\"id\":\"5898\",\"type\":\"UnionRenderers\"},{\"attributes\":{\"mantissas\":[1,2,5],\"max_interval\":500.0,\"num_minor_ticks\":0},\"id\":\"5543\",\"type\":\"AdaptiveTicker\"},{\"attributes\":{\"base\":60,\"mantissas\":[1,2,5,10,15,20,30],\"max_interval\":1800000.0,\"min_interval\":1000.0,\"num_minor_ticks\":0},\"id\":\"5544\",\"type\":\"AdaptiveTicker\"},{\"attributes\":{\"axis_label\":\"Time (UTC)\",\"formatter\":{\"id\":\"5540\",\"type\":\"DatetimeTickFormatter\"},\"ticker\":{\"id\":\"5511\",\"type\":\"DatetimeTicker\"}},\"id\":\"5510\",\"type\":\"DatetimeAxis\"},{\"attributes\":{\"base\":24,\"mantissas\":[1,2,4,6,8,12],\"max_interval\":43200000.0,\"min_interval\":3600000.0,\"num_minor_ticks\":0},\"id\":\"5545\",\"type\":\"AdaptiveTicker\"},{\"attributes\":{\"label\":{\"value\":\"observed\"},\"renderers\":[{\"id\":\"5534\",\"type\":\"GlyphRenderer\"}]},\"id\":\"5556\",\"type\":\"LegendItem\"},{\"attributes\":{},\"id\":\"5506\",\"type\":\"LinearScale\"},{\"attributes\":{\"days\":[1,4,7,10,13,16,19,22,25,28]},\"id\":\"5547\",\"type\":\"DaysTicker\"},{\"attributes\":{\"items\":[{\"id\":\"5556\",\"type\":\"LegendItem\"},{\"id\":\"5583\",\"type\":\"LegendItem\"}],\"location\":\"top_left\"},\"id\":\"5555\",\"type\":\"Legend\"},{\"attributes\":{\"days\":[1,8,15,22]},\"id\":\"5548\",\"type\":\"DaysTicker\"},{\"attributes\":{\"callback\":null},\"id\":\"5504\",\"type\":\"DataRange1d\"},{\"attributes\":{\"days\":[1,15]},\"id\":\"5549\",\"type\":\"DaysTicker\"}],\"root_ids\":[\"5501\"]},\"title\":\"Bokeh Application\",\"version\":\"1.2.0\"}};\n",
       "  var render_items = [{\"docid\":\"9815d08c-4198-4159-946f-0117679b4b5d\",\"roots\":{\"5501\":\"568df126-39c3-4cca-a8d0-87f74c74b213\"}}];\n",
       "  root.Bokeh.embed.embed_items_notebook(docs_json, render_items);\n",
       "\n",
       "  }\n",
       "  if (root.Bokeh !== undefined) {\n",
       "    embed_document(root);\n",
       "  } else {\n",
       "    var attempts = 0;\n",
       "    var timer = setInterval(function(root) {\n",
       "      if (root.Bokeh !== undefined) {\n",
       "        embed_document(root);\n",
       "        clearInterval(timer);\n",
       "      }\n",
       "      attempts++;\n",
       "      if (attempts > 100) {\n",
       "        console.log(\"Bokeh: ERROR: Unable to run BokehJS code because BokehJS library is missing\");\n",
       "        clearInterval(timer);\n",
       "      }\n",
       "    }, 10, root)\n",
       "  }\n",
       "})(window);"
      ],
      "application/vnd.bokehjs_exec.v0+json": ""
     },
     "metadata": {
      "application/vnd.bokehjs_exec.v0+json": {
       "id": "5501"
      }
     },
     "output_type": "display_data"
    }
   ],
   "source": [
    "# persistence forecasts with scalar index\n",
    "# observation.interval_label = 'ending', \n",
    "# so data ranges are exclusive of start and inclusive of end\n",
    "data_start = pd.Timestamp('20190515 0600Z')\n",
    "data_end = pd.Timestamp('20190516 0600Z')\n",
    "forecast_start = pd.Timestamp('20190516 0600Z')\n",
    "interval_length = pd.Timedelta('1hr')\n",
    "interval_label = 'ending'\n",
    "\n",
    "fx_per_interval = persistence.persistence_interval(\n",
    "    observation, data_start, data_end, forecast_start,\n",
    "    interval_length, interval_label, load_data=load_data)\n",
    "\n",
    "resampled_data = oasis_ghi_values.resample(interval_length, label='right').mean()\n",
    "fig = plot_persistence(resampled_data, fx_per_interval)\n",
    "show(fig)"
   ]
  },
  {
   "cell_type": "code",
   "execution_count": null,
   "metadata": {},
   "outputs": [],
   "source": []
  }
 ],
 "metadata": {
  "kernelspec": {
   "display_name": "Python 3",
   "language": "python",
   "name": "python3"
  },
  "language_info": {
   "codemirror_mode": {
    "name": "ipython",
    "version": 3
   },
   "file_extension": ".py",
   "mimetype": "text/x-python",
   "name": "python",
   "nbconvert_exporter": "python",
   "pygments_lexer": "ipython3",
   "version": "3.7.3"
  }
 },
 "nbformat": 4,
 "nbformat_minor": 2
}
