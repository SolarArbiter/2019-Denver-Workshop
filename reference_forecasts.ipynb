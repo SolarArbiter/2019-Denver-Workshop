{
 "cells": [
  {
   "cell_type": "markdown",
   "metadata": {},
   "source": [
    "# Reference Forecasts\n",
    "\n",
    "This [Jupyter notebook](https://jupyter.org) is designed to introduce you to the [Solar Forecast Arbiter's](https://solarforecastarbiter.org/) built-in reference forecast capabilities. It is divided into 2 sections:\n",
    "\n",
    "1. [NWP-based forecasts](#NWP-based-forecasts)\n",
    "2. [Persistence forecasts](#persistence-forecasts)\n",
    "\n",
    "The API documentation is available [here](https://solarforecastarbiter-core.readthedocs.io/en/latest/reference_forecasts.html)."
   ]
  },
  {
   "cell_type": "code",
   "execution_count": 32,
   "metadata": {},
   "outputs": [
    {
     "data": {
      "text/html": [
       "\n",
       "    <div class=\"bk-root\">\n",
       "        <a href=\"https://bokeh.pydata.org\" target=\"_blank\" class=\"bk-logo bk-logo-small bk-logo-notebook\"></a>\n",
       "        <span id=\"5895\">Loading BokehJS ...</span>\n",
       "    </div>"
      ]
     },
     "metadata": {},
     "output_type": "display_data"
    },
    {
     "data": {
      "application/javascript": [
       "\n",
       "(function(root) {\n",
       "  function now() {\n",
       "    return new Date();\n",
       "  }\n",
       "\n",
       "  var force = true;\n",
       "\n",
       "  if (typeof root._bokeh_onload_callbacks === \"undefined\" || force === true) {\n",
       "    root._bokeh_onload_callbacks = [];\n",
       "    root._bokeh_is_loading = undefined;\n",
       "  }\n",
       "\n",
       "  var JS_MIME_TYPE = 'application/javascript';\n",
       "  var HTML_MIME_TYPE = 'text/html';\n",
       "  var EXEC_MIME_TYPE = 'application/vnd.bokehjs_exec.v0+json';\n",
       "  var CLASS_NAME = 'output_bokeh rendered_html';\n",
       "\n",
       "  /**\n",
       "   * Render data to the DOM node\n",
       "   */\n",
       "  function render(props, node) {\n",
       "    var script = document.createElement(\"script\");\n",
       "    node.appendChild(script);\n",
       "  }\n",
       "\n",
       "  /**\n",
       "   * Handle when an output is cleared or removed\n",
       "   */\n",
       "  function handleClearOutput(event, handle) {\n",
       "    var cell = handle.cell;\n",
       "\n",
       "    var id = cell.output_area._bokeh_element_id;\n",
       "    var server_id = cell.output_area._bokeh_server_id;\n",
       "    // Clean up Bokeh references\n",
       "    if (id != null && id in Bokeh.index) {\n",
       "      Bokeh.index[id].model.document.clear();\n",
       "      delete Bokeh.index[id];\n",
       "    }\n",
       "\n",
       "    if (server_id !== undefined) {\n",
       "      // Clean up Bokeh references\n",
       "      var cmd = \"from bokeh.io.state import curstate; print(curstate().uuid_to_server['\" + server_id + \"'].get_sessions()[0].document.roots[0]._id)\";\n",
       "      cell.notebook.kernel.execute(cmd, {\n",
       "        iopub: {\n",
       "          output: function(msg) {\n",
       "            var id = msg.content.text.trim();\n",
       "            if (id in Bokeh.index) {\n",
       "              Bokeh.index[id].model.document.clear();\n",
       "              delete Bokeh.index[id];\n",
       "            }\n",
       "          }\n",
       "        }\n",
       "      });\n",
       "      // Destroy server and session\n",
       "      var cmd = \"import bokeh.io.notebook as ion; ion.destroy_server('\" + server_id + \"')\";\n",
       "      cell.notebook.kernel.execute(cmd);\n",
       "    }\n",
       "  }\n",
       "\n",
       "  /**\n",
       "   * Handle when a new output is added\n",
       "   */\n",
       "  function handleAddOutput(event, handle) {\n",
       "    var output_area = handle.output_area;\n",
       "    var output = handle.output;\n",
       "\n",
       "    // limit handleAddOutput to display_data with EXEC_MIME_TYPE content only\n",
       "    if ((output.output_type != \"display_data\") || (!output.data.hasOwnProperty(EXEC_MIME_TYPE))) {\n",
       "      return\n",
       "    }\n",
       "\n",
       "    var toinsert = output_area.element.find(\".\" + CLASS_NAME.split(' ')[0]);\n",
       "\n",
       "    if (output.metadata[EXEC_MIME_TYPE][\"id\"] !== undefined) {\n",
       "      toinsert[toinsert.length - 1].firstChild.textContent = output.data[JS_MIME_TYPE];\n",
       "      // store reference to embed id on output_area\n",
       "      output_area._bokeh_element_id = output.metadata[EXEC_MIME_TYPE][\"id\"];\n",
       "    }\n",
       "    if (output.metadata[EXEC_MIME_TYPE][\"server_id\"] !== undefined) {\n",
       "      var bk_div = document.createElement(\"div\");\n",
       "      bk_div.innerHTML = output.data[HTML_MIME_TYPE];\n",
       "      var script_attrs = bk_div.children[0].attributes;\n",
       "      for (var i = 0; i < script_attrs.length; i++) {\n",
       "        toinsert[toinsert.length - 1].firstChild.setAttribute(script_attrs[i].name, script_attrs[i].value);\n",
       "      }\n",
       "      // store reference to server id on output_area\n",
       "      output_area._bokeh_server_id = output.metadata[EXEC_MIME_TYPE][\"server_id\"];\n",
       "    }\n",
       "  }\n",
       "\n",
       "  function register_renderer(events, OutputArea) {\n",
       "\n",
       "    function append_mime(data, metadata, element) {\n",
       "      // create a DOM node to render to\n",
       "      var toinsert = this.create_output_subarea(\n",
       "        metadata,\n",
       "        CLASS_NAME,\n",
       "        EXEC_MIME_TYPE\n",
       "      );\n",
       "      this.keyboard_manager.register_events(toinsert);\n",
       "      // Render to node\n",
       "      var props = {data: data, metadata: metadata[EXEC_MIME_TYPE]};\n",
       "      render(props, toinsert[toinsert.length - 1]);\n",
       "      element.append(toinsert);\n",
       "      return toinsert\n",
       "    }\n",
       "\n",
       "    /* Handle when an output is cleared or removed */\n",
       "    events.on('clear_output.CodeCell', handleClearOutput);\n",
       "    events.on('delete.Cell', handleClearOutput);\n",
       "\n",
       "    /* Handle when a new output is added */\n",
       "    events.on('output_added.OutputArea', handleAddOutput);\n",
       "\n",
       "    /**\n",
       "     * Register the mime type and append_mime function with output_area\n",
       "     */\n",
       "    OutputArea.prototype.register_mime_type(EXEC_MIME_TYPE, append_mime, {\n",
       "      /* Is output safe? */\n",
       "      safe: true,\n",
       "      /* Index of renderer in `output_area.display_order` */\n",
       "      index: 0\n",
       "    });\n",
       "  }\n",
       "\n",
       "  // register the mime type if in Jupyter Notebook environment and previously unregistered\n",
       "  if (root.Jupyter !== undefined) {\n",
       "    var events = require('base/js/events');\n",
       "    var OutputArea = require('notebook/js/outputarea').OutputArea;\n",
       "\n",
       "    if (OutputArea.prototype.mime_types().indexOf(EXEC_MIME_TYPE) == -1) {\n",
       "      register_renderer(events, OutputArea);\n",
       "    }\n",
       "  }\n",
       "\n",
       "  \n",
       "  if (typeof (root._bokeh_timeout) === \"undefined\" || force === true) {\n",
       "    root._bokeh_timeout = Date.now() + 5000;\n",
       "    root._bokeh_failed_load = false;\n",
       "  }\n",
       "\n",
       "  var NB_LOAD_WARNING = {'data': {'text/html':\n",
       "     \"<div style='background-color: #fdd'>\\n\"+\n",
       "     \"<p>\\n\"+\n",
       "     \"BokehJS does not appear to have successfully loaded. If loading BokehJS from CDN, this \\n\"+\n",
       "     \"may be due to a slow or bad network connection. Possible fixes:\\n\"+\n",
       "     \"</p>\\n\"+\n",
       "     \"<ul>\\n\"+\n",
       "     \"<li>re-rerun `output_notebook()` to attempt to load from CDN again, or</li>\\n\"+\n",
       "     \"<li>use INLINE resources instead, as so:</li>\\n\"+\n",
       "     \"</ul>\\n\"+\n",
       "     \"<code>\\n\"+\n",
       "     \"from bokeh.resources import INLINE\\n\"+\n",
       "     \"output_notebook(resources=INLINE)\\n\"+\n",
       "     \"</code>\\n\"+\n",
       "     \"</div>\"}};\n",
       "\n",
       "  function display_loaded() {\n",
       "    var el = document.getElementById(\"5895\");\n",
       "    if (el != null) {\n",
       "      el.textContent = \"BokehJS is loading...\";\n",
       "    }\n",
       "    if (root.Bokeh !== undefined) {\n",
       "      if (el != null) {\n",
       "        el.textContent = \"BokehJS \" + root.Bokeh.version + \" successfully loaded.\";\n",
       "      }\n",
       "    } else if (Date.now() < root._bokeh_timeout) {\n",
       "      setTimeout(display_loaded, 100)\n",
       "    }\n",
       "  }\n",
       "\n",
       "\n",
       "  function run_callbacks() {\n",
       "    try {\n",
       "      root._bokeh_onload_callbacks.forEach(function(callback) {\n",
       "        if (callback != null)\n",
       "          callback();\n",
       "      });\n",
       "    } finally {\n",
       "      delete root._bokeh_onload_callbacks\n",
       "    }\n",
       "    console.debug(\"Bokeh: all callbacks have finished\");\n",
       "  }\n",
       "\n",
       "  function load_libs(css_urls, js_urls, callback) {\n",
       "    if (css_urls == null) css_urls = [];\n",
       "    if (js_urls == null) js_urls = [];\n",
       "\n",
       "    root._bokeh_onload_callbacks.push(callback);\n",
       "    if (root._bokeh_is_loading > 0) {\n",
       "      console.debug(\"Bokeh: BokehJS is being loaded, scheduling callback at\", now());\n",
       "      return null;\n",
       "    }\n",
       "    if (js_urls == null || js_urls.length === 0) {\n",
       "      run_callbacks();\n",
       "      return null;\n",
       "    }\n",
       "    console.debug(\"Bokeh: BokehJS not loaded, scheduling load and callback at\", now());\n",
       "    root._bokeh_is_loading = css_urls.length + js_urls.length;\n",
       "\n",
       "    function on_load() {\n",
       "      root._bokeh_is_loading--;\n",
       "      if (root._bokeh_is_loading === 0) {\n",
       "        console.debug(\"Bokeh: all BokehJS libraries/stylesheets loaded\");\n",
       "        run_callbacks()\n",
       "      }\n",
       "    }\n",
       "\n",
       "    function on_error() {\n",
       "      console.error(\"failed to load \" + url);\n",
       "    }\n",
       "\n",
       "    for (var i = 0; i < css_urls.length; i++) {\n",
       "      var url = css_urls[i];\n",
       "      const element = document.createElement(\"link\");\n",
       "      element.onload = on_load;\n",
       "      element.onerror = on_error;\n",
       "      element.rel = \"stylesheet\";\n",
       "      element.type = \"text/css\";\n",
       "      element.href = url;\n",
       "      console.debug(\"Bokeh: injecting link tag for BokehJS stylesheet: \", url);\n",
       "      document.body.appendChild(element);\n",
       "    }\n",
       "\n",
       "    for (var i = 0; i < js_urls.length; i++) {\n",
       "      var url = js_urls[i];\n",
       "      var element = document.createElement('script');\n",
       "      element.onload = on_load;\n",
       "      element.onerror = on_error;\n",
       "      element.async = false;\n",
       "      element.src = url;\n",
       "      console.debug(\"Bokeh: injecting script tag for BokehJS library: \", url);\n",
       "      document.head.appendChild(element);\n",
       "    }\n",
       "  };var element = document.getElementById(\"5895\");\n",
       "  if (element == null) {\n",
       "    console.error(\"Bokeh: ERROR: autoload.js configured with elementid '5895' but no matching script tag was found. \")\n",
       "    return false;\n",
       "  }\n",
       "\n",
       "  function inject_raw_css(css) {\n",
       "    const element = document.createElement(\"style\");\n",
       "    element.appendChild(document.createTextNode(css));\n",
       "    document.body.appendChild(element);\n",
       "  }\n",
       "\n",
       "  var js_urls = [\"https://cdn.pydata.org/bokeh/release/bokeh-1.1.0.min.js\", \"https://cdn.pydata.org/bokeh/release/bokeh-widgets-1.1.0.min.js\", \"https://cdn.pydata.org/bokeh/release/bokeh-tables-1.1.0.min.js\", \"https://cdn.pydata.org/bokeh/release/bokeh-gl-1.1.0.min.js\"];\n",
       "  var css_urls = [\"https://cdn.pydata.org/bokeh/release/bokeh-1.1.0.min.css\", \"https://cdn.pydata.org/bokeh/release/bokeh-widgets-1.1.0.min.css\", \"https://cdn.pydata.org/bokeh/release/bokeh-tables-1.1.0.min.css\"];\n",
       "\n",
       "  var inline_js = [\n",
       "    function(Bokeh) {\n",
       "      Bokeh.set_log_level(\"info\");\n",
       "    },\n",
       "    \n",
       "    function(Bokeh) {\n",
       "      \n",
       "    },\n",
       "    function(Bokeh) {} // ensure no trailing comma for IE\n",
       "  ];\n",
       "\n",
       "  function run_inline_js() {\n",
       "    \n",
       "    if ((root.Bokeh !== undefined) || (force === true)) {\n",
       "      for (var i = 0; i < inline_js.length; i++) {\n",
       "        inline_js[i].call(root, root.Bokeh);\n",
       "      }if (force === true) {\n",
       "        display_loaded();\n",
       "      }} else if (Date.now() < root._bokeh_timeout) {\n",
       "      setTimeout(run_inline_js, 100);\n",
       "    } else if (!root._bokeh_failed_load) {\n",
       "      console.log(\"Bokeh: BokehJS failed to load within specified timeout.\");\n",
       "      root._bokeh_failed_load = true;\n",
       "    } else if (force !== true) {\n",
       "      var cell = $(document.getElementById(\"5895\")).parents('.cell').data().cell;\n",
       "      cell.output_area.append_execute_result(NB_LOAD_WARNING)\n",
       "    }\n",
       "\n",
       "  }\n",
       "\n",
       "  if (root._bokeh_is_loading === 0) {\n",
       "    console.debug(\"Bokeh: BokehJS loaded, going straight to plotting\");\n",
       "    run_inline_js();\n",
       "  } else {\n",
       "    load_libs(css_urls, js_urls, function() {\n",
       "      console.debug(\"Bokeh: BokehJS plotting callback run at\", now());\n",
       "      run_inline_js();\n",
       "    });\n",
       "  }\n",
       "}(window));"
      ],
      "application/vnd.bokehjs_load.v0+json": "\n(function(root) {\n  function now() {\n    return new Date();\n  }\n\n  var force = true;\n\n  if (typeof root._bokeh_onload_callbacks === \"undefined\" || force === true) {\n    root._bokeh_onload_callbacks = [];\n    root._bokeh_is_loading = undefined;\n  }\n\n  \n\n  \n  if (typeof (root._bokeh_timeout) === \"undefined\" || force === true) {\n    root._bokeh_timeout = Date.now() + 5000;\n    root._bokeh_failed_load = false;\n  }\n\n  var NB_LOAD_WARNING = {'data': {'text/html':\n     \"<div style='background-color: #fdd'>\\n\"+\n     \"<p>\\n\"+\n     \"BokehJS does not appear to have successfully loaded. If loading BokehJS from CDN, this \\n\"+\n     \"may be due to a slow or bad network connection. Possible fixes:\\n\"+\n     \"</p>\\n\"+\n     \"<ul>\\n\"+\n     \"<li>re-rerun `output_notebook()` to attempt to load from CDN again, or</li>\\n\"+\n     \"<li>use INLINE resources instead, as so:</li>\\n\"+\n     \"</ul>\\n\"+\n     \"<code>\\n\"+\n     \"from bokeh.resources import INLINE\\n\"+\n     \"output_notebook(resources=INLINE)\\n\"+\n     \"</code>\\n\"+\n     \"</div>\"}};\n\n  function display_loaded() {\n    var el = document.getElementById(\"5895\");\n    if (el != null) {\n      el.textContent = \"BokehJS is loading...\";\n    }\n    if (root.Bokeh !== undefined) {\n      if (el != null) {\n        el.textContent = \"BokehJS \" + root.Bokeh.version + \" successfully loaded.\";\n      }\n    } else if (Date.now() < root._bokeh_timeout) {\n      setTimeout(display_loaded, 100)\n    }\n  }\n\n\n  function run_callbacks() {\n    try {\n      root._bokeh_onload_callbacks.forEach(function(callback) {\n        if (callback != null)\n          callback();\n      });\n    } finally {\n      delete root._bokeh_onload_callbacks\n    }\n    console.debug(\"Bokeh: all callbacks have finished\");\n  }\n\n  function load_libs(css_urls, js_urls, callback) {\n    if (css_urls == null) css_urls = [];\n    if (js_urls == null) js_urls = [];\n\n    root._bokeh_onload_callbacks.push(callback);\n    if (root._bokeh_is_loading > 0) {\n      console.debug(\"Bokeh: BokehJS is being loaded, scheduling callback at\", now());\n      return null;\n    }\n    if (js_urls == null || js_urls.length === 0) {\n      run_callbacks();\n      return null;\n    }\n    console.debug(\"Bokeh: BokehJS not loaded, scheduling load and callback at\", now());\n    root._bokeh_is_loading = css_urls.length + js_urls.length;\n\n    function on_load() {\n      root._bokeh_is_loading--;\n      if (root._bokeh_is_loading === 0) {\n        console.debug(\"Bokeh: all BokehJS libraries/stylesheets loaded\");\n        run_callbacks()\n      }\n    }\n\n    function on_error() {\n      console.error(\"failed to load \" + url);\n    }\n\n    for (var i = 0; i < css_urls.length; i++) {\n      var url = css_urls[i];\n      const element = document.createElement(\"link\");\n      element.onload = on_load;\n      element.onerror = on_error;\n      element.rel = \"stylesheet\";\n      element.type = \"text/css\";\n      element.href = url;\n      console.debug(\"Bokeh: injecting link tag for BokehJS stylesheet: \", url);\n      document.body.appendChild(element);\n    }\n\n    for (var i = 0; i < js_urls.length; i++) {\n      var url = js_urls[i];\n      var element = document.createElement('script');\n      element.onload = on_load;\n      element.onerror = on_error;\n      element.async = false;\n      element.src = url;\n      console.debug(\"Bokeh: injecting script tag for BokehJS library: \", url);\n      document.head.appendChild(element);\n    }\n  };var element = document.getElementById(\"5895\");\n  if (element == null) {\n    console.error(\"Bokeh: ERROR: autoload.js configured with elementid '5895' but no matching script tag was found. \")\n    return false;\n  }\n\n  function inject_raw_css(css) {\n    const element = document.createElement(\"style\");\n    element.appendChild(document.createTextNode(css));\n    document.body.appendChild(element);\n  }\n\n  var js_urls = [\"https://cdn.pydata.org/bokeh/release/bokeh-1.1.0.min.js\", \"https://cdn.pydata.org/bokeh/release/bokeh-widgets-1.1.0.min.js\", \"https://cdn.pydata.org/bokeh/release/bokeh-tables-1.1.0.min.js\", \"https://cdn.pydata.org/bokeh/release/bokeh-gl-1.1.0.min.js\"];\n  var css_urls = [\"https://cdn.pydata.org/bokeh/release/bokeh-1.1.0.min.css\", \"https://cdn.pydata.org/bokeh/release/bokeh-widgets-1.1.0.min.css\", \"https://cdn.pydata.org/bokeh/release/bokeh-tables-1.1.0.min.css\"];\n\n  var inline_js = [\n    function(Bokeh) {\n      Bokeh.set_log_level(\"info\");\n    },\n    \n    function(Bokeh) {\n      \n    },\n    function(Bokeh) {} // ensure no trailing comma for IE\n  ];\n\n  function run_inline_js() {\n    \n    if ((root.Bokeh !== undefined) || (force === true)) {\n      for (var i = 0; i < inline_js.length; i++) {\n        inline_js[i].call(root, root.Bokeh);\n      }if (force === true) {\n        display_loaded();\n      }} else if (Date.now() < root._bokeh_timeout) {\n      setTimeout(run_inline_js, 100);\n    } else if (!root._bokeh_failed_load) {\n      console.log(\"Bokeh: BokehJS failed to load within specified timeout.\");\n      root._bokeh_failed_load = true;\n    } else if (force !== true) {\n      var cell = $(document.getElementById(\"5895\")).parents('.cell').data().cell;\n      cell.output_area.append_execute_result(NB_LOAD_WARNING)\n    }\n\n  }\n\n  if (root._bokeh_is_loading === 0) {\n    console.debug(\"Bokeh: BokehJS loaded, going straight to plotting\");\n    run_inline_js();\n  } else {\n    load_libs(css_urls, js_urls, function() {\n      console.debug(\"Bokeh: BokehJS plotting callback run at\", now());\n      run_inline_js();\n    });\n  }\n}(window));"
     },
     "metadata": {},
     "output_type": "display_data"
    }
   ],
   "source": [
    "import datetime\n",
    "from functools import partial\n",
    "from pathlib import Path\n",
    "\n",
    "import numpy as np\n",
    "import pandas as pd\n",
    "\n",
    "from bokeh.io import output_notebook\n",
    "from bokeh.layouts import gridplot\n",
    "from bokeh.plotting import figure, show\n",
    "from bokeh.palettes import Dark2_5 as PALETTE\n",
    "TOOLS = \"pan,wheel_zoom,box_zoom,reset,save,box_select\"\n",
    "output_notebook()"
   ]
  },
  {
   "cell_type": "code",
   "execution_count": 10,
   "metadata": {},
   "outputs": [],
   "source": [
    "from solarforecastarbiter import datamodel"
   ]
  },
  {
   "cell_type": "markdown",
   "metadata": {},
   "source": [
    "## NWP-based forecasts\n",
    "\n",
    "Forecasts based on NWP model data are used for intraday and longer forecasts. The Solar Forecast Arbiter contains a set of functions to process data from NWP forecasts. Here, we explore some of the functionality with an emphasis on obtaining results. See the [NWP section of the documentation](https://solarforecastarbiter-core.readthedocs.io/en/latest/reference_forecasts.html#nwp) for additional information."
   ]
  },
  {
   "cell_type": "markdown",
   "metadata": {},
   "source": [
    "The `solarforecastarbiter-core` package includes a handful of subsetted NWP model runs for testing. We'll use these for our demonstration below. The models were all initialized at 2019-05-15 00Z and the subsets include about half a degree of latitude and longitude near Tucson, AZ."
   ]
  },
  {
   "cell_type": "code",
   "execution_count": 11,
   "metadata": {},
   "outputs": [],
   "source": [
    "from solarforecastarbiter.io import nwp\n",
    "# find the files\n",
    "base_path = Path(nwp.__file__).resolve().parents[0] / 'tests/data'\n",
    "# define file loading function that knows where to find the files\n",
    "load_forecast = partial(nwp.load_forecast, base_path=base_path)"
   ]
  },
  {
   "cell_type": "code",
   "execution_count": 20,
   "metadata": {},
   "outputs": [],
   "source": [
    "# define coordinates\n",
    "latitude = 32.2\n",
    "longitude = -110.9\n",
    "elevation = 700\n",
    "\n",
    "# define initialization time, forecast start time, forecast end time\n",
    "init_time = pd.Timestamp('20190515T0000Z')\n",
    "start = pd.Timestamp('20190515T0100Z')\n",
    "end = pd.Timestamp('20190518T0000Z')"
   ]
  },
  {
   "cell_type": "code",
   "execution_count": 34,
   "metadata": {},
   "outputs": [],
   "source": [
    "from solarforecastarbiter.reference_forecasts import main, models"
   ]
  },
  {
   "cell_type": "code",
   "execution_count": 33,
   "metadata": {},
   "outputs": [],
   "source": [
    "site = datamodel.Site(\n",
    "    name='Tucson, AZ',\n",
    "    latitude=32.2,\n",
    "    longitude=-110.9,\n",
    "    elevation=700,\n",
    "    timezone='America/Phoenix'\n",
    ")"
   ]
  },
  {
   "cell_type": "code",
   "execution_count": 37,
   "metadata": {},
   "outputs": [],
   "source": []
  },
  {
   "cell_type": "code",
   "execution_count": 43,
   "metadata": {},
   "outputs": [],
   "source": [
    "# select the model\n",
    "model = models.hrrr_subhourly_to_subhourly_instantaneous\n",
    "\n",
    "# tell the model where to find the NWP data\n",
    "model_wrapped = partial(model, load_forecast=load_forecast)\n",
    "\n",
    "# load and process the NWP data\n",
    "ghi, dni, dhi, air_temperature, wind_speed, ac_power = main.run(site, model_wrapped, init_time, start, end)"
   ]
  },
  {
   "cell_type": "code",
   "execution_count": 42,
   "metadata": {},
   "outputs": [
    {
     "data": {
      "text/html": [
       "\n",
       "\n",
       "\n",
       "\n",
       "\n",
       "\n",
       "  <div class=\"bk-root\" id=\"7df4aba1-036a-4c1a-9c23-53542e37de12\" data-root-id=\"5896\"></div>\n"
      ]
     },
     "metadata": {},
     "output_type": "display_data"
    },
    {
     "data": {
      "application/javascript": [
       "(function(root) {\n",
       "  function embed_document(root) {\n",
       "    \n",
       "  var docs_json = {\"385559b8-8e88-4d71-b873-c66e43714f84\":{\"roots\":{\"references\":[{\"attributes\":{\"below\":[{\"id\":\"5907\",\"type\":\"DatetimeAxis\"}],\"center\":[{\"id\":\"5911\",\"type\":\"Grid\"},{\"id\":\"5916\",\"type\":\"Grid\"},{\"id\":\"5954\",\"type\":\"Legend\"}],\"left\":[{\"id\":\"5912\",\"type\":\"LinearAxis\"}],\"plot_height\":400,\"plot_width\":800,\"renderers\":[{\"id\":\"5933\",\"type\":\"GlyphRenderer\"},{\"id\":\"5959\",\"type\":\"GlyphRenderer\"},{\"id\":\"5986\",\"type\":\"GlyphRenderer\"}],\"title\":{\"id\":\"5897\",\"type\":\"Title\"},\"toolbar\":{\"id\":\"5923\",\"type\":\"Toolbar\"},\"x_range\":{\"id\":\"5899\",\"type\":\"DataRange1d\"},\"x_scale\":{\"id\":\"5903\",\"type\":\"LinearScale\"},\"y_range\":{\"id\":\"5901\",\"type\":\"DataRange1d\"},\"y_scale\":{\"id\":\"5905\",\"type\":\"LinearScale\"}},\"id\":\"5896\",\"subtype\":\"Figure\",\"type\":\"Plot\"},{\"attributes\":{\"label\":{\"value\":\"dhi\"},\"renderers\":[{\"id\":\"5986\",\"type\":\"GlyphRenderer\"}]},\"id\":\"6011\",\"type\":\"LegendItem\"},{\"attributes\":{},\"id\":\"6303\",\"type\":\"UnionRenderers\"},{\"attributes\":{},\"id\":\"5905\",\"type\":\"LinearScale\"},{\"attributes\":{\"axis_label\":\"Time (UTC)\",\"formatter\":{\"id\":\"5938\",\"type\":\"DatetimeTickFormatter\"},\"ticker\":{\"id\":\"5908\",\"type\":\"DatetimeTicker\"}},\"id\":\"5907\",\"type\":\"DatetimeAxis\"},{\"attributes\":{\"bottom_units\":\"screen\",\"fill_alpha\":{\"value\":0.5},\"fill_color\":{\"value\":\"lightgrey\"},\"left_units\":\"screen\",\"level\":\"overlay\",\"line_alpha\":{\"value\":1.0},\"line_color\":{\"value\":\"black\"},\"line_dash\":[4,4],\"line_width\":{\"value\":2},\"render_mode\":\"css\",\"right_units\":\"screen\",\"top_units\":\"screen\"},\"id\":\"5952\",\"type\":\"BoxAnnotation\"},{\"attributes\":{\"line_color\":\"#7570b3\",\"line_width\":2,\"x\":{\"field\":\"x\"},\"y\":{\"field\":\"y\"}},\"id\":\"5984\",\"type\":\"Line\"},{\"attributes\":{\"source\":{\"id\":\"5983\",\"type\":\"ColumnDataSource\"}},\"id\":\"5987\",\"type\":\"CDSView\"},{\"attributes\":{},\"id\":\"5921\",\"type\":\"SaveTool\"},{\"attributes\":{\"line_alpha\":0.1,\"line_color\":\"#1f77b4\",\"line_width\":2,\"x\":{\"field\":\"x\"},\"y\":{\"field\":\"y\"}},\"id\":\"5985\",\"type\":\"Line\"},{\"attributes\":{\"mantissas\":[1,2,5],\"max_interval\":500.0,\"num_minor_ticks\":0},\"id\":\"5940\",\"type\":\"AdaptiveTicker\"},{\"attributes\":{\"data_source\":{\"id\":\"5956\",\"type\":\"ColumnDataSource\"},\"glyph\":{\"id\":\"5957\",\"type\":\"Line\"},\"hover_glyph\":null,\"muted_glyph\":null,\"nonselection_glyph\":{\"id\":\"5958\",\"type\":\"Line\"},\"selection_glyph\":null,\"view\":{\"id\":\"5960\",\"type\":\"CDSView\"}},\"id\":\"5959\",\"type\":\"GlyphRenderer\"},{\"attributes\":{\"callback\":null},\"id\":\"5899\",\"type\":\"DataRange1d\"},{\"attributes\":{\"days\":[1,2,3,4,5,6,7,8,9,10,11,12,13,14,15,16,17,18,19,20,21,22,23,24,25,26,27,28,29,30,31]},\"id\":\"5943\",\"type\":\"DaysTicker\"},{\"attributes\":{},\"id\":\"6302\",\"type\":\"Selection\"},{\"attributes\":{\"formatter\":{\"id\":\"5936\",\"type\":\"BasicTickFormatter\"},\"ticker\":{\"id\":\"5913\",\"type\":\"BasicTicker\"}},\"id\":\"5912\",\"type\":\"LinearAxis\"},{\"attributes\":{},\"id\":\"5938\",\"type\":\"DatetimeTickFormatter\"},{\"attributes\":{\"months\":[0,2,4,6,8,10]},\"id\":\"5948\",\"type\":\"MonthsTicker\"},{\"attributes\":{\"base\":24,\"mantissas\":[1,2,4,6,8,12],\"max_interval\":43200000.0,\"min_interval\":3600000.0,\"num_minor_ticks\":0},\"id\":\"5942\",\"type\":\"AdaptiveTicker\"},{\"attributes\":{\"days\":[1,15]},\"id\":\"5946\",\"type\":\"DaysTicker\"},{\"attributes\":{\"months\":[0,1,2,3,4,5,6,7,8,9,10,11]},\"id\":\"5947\",\"type\":\"MonthsTicker\"},{\"attributes\":{\"base\":60,\"mantissas\":[1,2,5,10,15,20,30],\"max_interval\":1800000.0,\"min_interval\":1000.0,\"num_minor_ticks\":0},\"id\":\"5941\",\"type\":\"AdaptiveTicker\"},{\"attributes\":{\"active_drag\":\"auto\",\"active_inspect\":\"auto\",\"active_multi\":null,\"active_scroll\":\"auto\",\"active_tap\":\"auto\",\"tools\":[{\"id\":\"5917\",\"type\":\"PanTool\"},{\"id\":\"5918\",\"type\":\"WheelZoomTool\"},{\"id\":\"5919\",\"type\":\"BoxZoomTool\"},{\"id\":\"5920\",\"type\":\"ResetTool\"},{\"id\":\"5921\",\"type\":\"SaveTool\"},{\"id\":\"5922\",\"type\":\"BoxSelectTool\"}]},\"id\":\"5923\",\"type\":\"Toolbar\"},{\"attributes\":{\"data_source\":{\"id\":\"5983\",\"type\":\"ColumnDataSource\"},\"glyph\":{\"id\":\"5984\",\"type\":\"Line\"},\"hover_glyph\":null,\"muted_glyph\":null,\"nonselection_glyph\":{\"id\":\"5985\",\"type\":\"Line\"},\"selection_glyph\":null,\"view\":{\"id\":\"5987\",\"type\":\"CDSView\"}},\"id\":\"5986\",\"type\":\"GlyphRenderer\"},{\"attributes\":{\"callback\":null},\"id\":\"5901\",\"type\":\"DataRange1d\"},{\"attributes\":{},\"id\":\"5936\",\"type\":\"BasicTickFormatter\"},{\"attributes\":{\"line_color\":\"#d95f02\",\"line_width\":2,\"x\":{\"field\":\"x\"},\"y\":{\"field\":\"y\"}},\"id\":\"5957\",\"type\":\"Line\"},{\"attributes\":{\"num_minor_ticks\":5,\"tickers\":[{\"id\":\"5940\",\"type\":\"AdaptiveTicker\"},{\"id\":\"5941\",\"type\":\"AdaptiveTicker\"},{\"id\":\"5942\",\"type\":\"AdaptiveTicker\"},{\"id\":\"5943\",\"type\":\"DaysTicker\"},{\"id\":\"5944\",\"type\":\"DaysTicker\"},{\"id\":\"5945\",\"type\":\"DaysTicker\"},{\"id\":\"5946\",\"type\":\"DaysTicker\"},{\"id\":\"5947\",\"type\":\"MonthsTicker\"},{\"id\":\"5948\",\"type\":\"MonthsTicker\"},{\"id\":\"5949\",\"type\":\"MonthsTicker\"},{\"id\":\"5950\",\"type\":\"MonthsTicker\"},{\"id\":\"5951\",\"type\":\"YearsTicker\"}]},\"id\":\"5908\",\"type\":\"DatetimeTicker\"},{\"attributes\":{},\"id\":\"5995\",\"type\":\"Selection\"},{\"attributes\":{\"items\":[{\"id\":\"5955\",\"type\":\"LegendItem\"},{\"id\":\"5982\",\"type\":\"LegendItem\"},{\"id\":\"6011\",\"type\":\"LegendItem\"}]},\"id\":\"5954\",\"type\":\"Legend\"},{\"attributes\":{\"months\":[0,6]},\"id\":\"5950\",\"type\":\"MonthsTicker\"},{\"attributes\":{\"source\":{\"id\":\"5930\",\"type\":\"ColumnDataSource\"}},\"id\":\"5934\",\"type\":\"CDSView\"},{\"attributes\":{\"line_alpha\":0.1,\"line_color\":\"#1f77b4\",\"line_width\":2,\"x\":{\"field\":\"x\"},\"y\":{\"field\":\"y\"}},\"id\":\"5958\",\"type\":\"Line\"},{\"attributes\":{\"days\":[1,4,7,10,13,16,19,22,25,28]},\"id\":\"5944\",\"type\":\"DaysTicker\"},{\"attributes\":{\"line_color\":\"#1b9e77\",\"line_width\":2,\"x\":{\"field\":\"x\"},\"y\":{\"field\":\"y\"}},\"id\":\"5931\",\"type\":\"Line\"},{\"attributes\":{},\"id\":\"5996\",\"type\":\"UnionRenderers\"},{\"attributes\":{\"label\":{\"value\":\"dni\"},\"renderers\":[{\"id\":\"5959\",\"type\":\"GlyphRenderer\"}]},\"id\":\"5982\",\"type\":\"LegendItem\"},{\"attributes\":{},\"id\":\"5903\",\"type\":\"LinearScale\"},{\"attributes\":{},\"id\":\"5917\",\"type\":\"PanTool\"},{\"attributes\":{\"source\":{\"id\":\"5956\",\"type\":\"ColumnDataSource\"}},\"id\":\"5960\",\"type\":\"CDSView\"},{\"attributes\":{\"line_alpha\":0.1,\"line_color\":\"#1f77b4\",\"line_width\":2,\"x\":{\"field\":\"x\"},\"y\":{\"field\":\"y\"}},\"id\":\"5932\",\"type\":\"Line\"},{\"attributes\":{\"text\":\"Irradiance (W/m^2)\"},\"id\":\"5897\",\"type\":\"Title\"},{\"attributes\":{},\"id\":\"5918\",\"type\":\"WheelZoomTool\"},{\"attributes\":{},\"id\":\"5966\",\"type\":\"Selection\"},{\"attributes\":{\"callback\":null,\"data\":{\"x\":{\"__ndarray__\":\"AAAoDZCrdkIAAOLokKt2QgAAnMSRq3ZCAABWoJKrdkIAABB8k6t2QgAAyleUq3ZCAACEM5WrdkIAAD4Plqt2QgAA+OqWq3ZCAACyxperdkIAAGyimKt2QgAAJn6Zq3ZCAADgWZqrdkIAAJo1m6t2QgAAVBGcq3ZCAAAO7ZyrdkIAAMjInat2QgAAgqSeq3ZCAAA8gJ+rdkIAAPZboKt2QgAAsDehq3ZCAABqE6KrdkIAACTvoqt2QgAA3sqjq3ZCAACYpqSrdkIAAFKCpat2QgAADF6mq3ZCAADGOaerdkIAAIAVqKt2QgAAOvGoq3ZCAAD0zKmrdkIAAK6oqqt2QgAAaISrq3ZCAAAiYKyrdkIAANw7rat2QgAAlheuq3ZCAABQ866rdkIAAArPr6t2QgAAxKqwq3ZCAAB+hrGrdkIAADhisqt2QgAA8j2zq3ZCAACsGbSrdkIAAGb1tKt2QgAAING1q3ZCAADarLardkIAAJSIt6t2QgAATmS4q3ZCAAAIQLmrdkIAAMIbuqt2QgAAfPe6q3ZCAAA207urdkIAAPCuvKt2QgAAqoq9q3ZCAABkZr6rdkIAAB5Cv6t2QgAA2B3Aq3ZCAACS+cCrdkIAAEzVwat2QgAABrHCq3ZCAADAjMOrdkIAAHpoxKt2QgAANETFq3ZCAADuH8ardkIAAKj7xqt2QgAAYtfHq3ZCAAAcs8irdkIAANaOyat2QgAAkGrKq3ZC\",\"dtype\":\"float64\",\"shape\":[69]},\"y\":{\"__ndarray__\":\"AADyQwAA6EMAgI9DAACZQwAAEkMAAAAAAAAAAAAAAAAAAAAAAAAAAAAAAAAAAAAAAAAAAAAAAAAAAAAAAAAAAAAAAAAAAAAAAAAAAAAAAAAAAAAAAAAAAAAAAAAAAAAAAAAAAAAAAAAAAAAAAAAAAAAAAAAAAAAAAAAAAAAAAAAAAAAAAAAAAAAAAAAAAAAAAAAAAAAAAAAAAAAAAAAAAAAAAAAAAAAAAAAAAAAAAAAAAAAAAAAAAAAAAAAAALJCAICFQwCAzEMAQAJEAMAXRACAKEQAwDZEAEBBRAAASEQAgEpEAABSRAAAXEQAgF5EAIBjRACAY0QAAFdEAABSRACAY0QAgGhEAIA7RACAT0QAAFxE\",\"dtype\":\"float32\",\"shape\":[69]}},\"selected\":{\"id\":\"5995\",\"type\":\"Selection\"},\"selection_policy\":{\"id\":\"5996\",\"type\":\"UnionRenderers\"}},\"id\":\"5956\",\"type\":\"ColumnDataSource\"},{\"attributes\":{\"overlay\":{\"id\":\"5952\",\"type\":\"BoxAnnotation\"}},\"id\":\"5919\",\"type\":\"BoxZoomTool\"},{\"attributes\":{},\"id\":\"5951\",\"type\":\"YearsTicker\"},{\"attributes\":{\"data_source\":{\"id\":\"5930\",\"type\":\"ColumnDataSource\"},\"glyph\":{\"id\":\"5931\",\"type\":\"Line\"},\"hover_glyph\":null,\"muted_glyph\":null,\"nonselection_glyph\":{\"id\":\"5932\",\"type\":\"Line\"},\"selection_glyph\":null,\"view\":{\"id\":\"5934\",\"type\":\"CDSView\"}},\"id\":\"5933\",\"type\":\"GlyphRenderer\"},{\"attributes\":{\"callback\":null,\"data\":{\"x\":{\"__ndarray__\":\"AAAoDZCrdkIAAOLokKt2QgAAnMSRq3ZCAABWoJKrdkIAABB8k6t2QgAAyleUq3ZCAACEM5WrdkIAAD4Plqt2QgAA+OqWq3ZCAACyxperdkIAAGyimKt2QgAAJn6Zq3ZCAADgWZqrdkIAAJo1m6t2QgAAVBGcq3ZCAAAO7ZyrdkIAAMjInat2QgAAgqSeq3ZCAAA8gJ+rdkIAAPZboKt2QgAAsDehq3ZCAABqE6KrdkIAACTvoqt2QgAA3sqjq3ZCAACYpqSrdkIAAFKCpat2QgAADF6mq3ZCAADGOaerdkIAAIAVqKt2QgAAOvGoq3ZCAAD0zKmrdkIAAK6oqqt2QgAAaISrq3ZCAAAiYKyrdkIAANw7rat2QgAAlheuq3ZCAABQ866rdkIAAArPr6t2QgAAxKqwq3ZCAAB+hrGrdkIAADhisqt2QgAA8j2zq3ZCAACsGbSrdkIAAGb1tKt2QgAAING1q3ZCAADarLardkIAAJSIt6t2QgAATmS4q3ZCAAAIQLmrdkIAAMIbuqt2QgAAfPe6q3ZCAAA207urdkIAAPCuvKt2QgAAqoq9q3ZCAABkZr6rdkIAAB5Cv6t2QgAA2B3Aq3ZCAACS+cCrdkIAAEzVwat2QgAABrHCq3ZCAADAjMOrdkIAAHpoxKt2QgAANETFq3ZCAADuH8ardkIAAKj7xqt2QgAAYtfHq3ZCAAAcs8irdkIAANaOyat2QgAAkGrKq3ZC\",\"dtype\":\"float64\",\"shape\":[69]},\"y\":{\"__ndarray__\":\"AKCjQgCAXUIAQCVCAAC/QQAABUEAAAAAAAAAAAAAAAAAAAAAAAAAAAAAAAAAAAAAAAAAAAAAAAAAAAAAAAAAAAAAAAAAAAAAAAAAAAAAAAAAAAAAAAAAAAAAAAAAAAAAAAAAAAAAAAAAAAAAAAAAAAAAAAAAAAAAAAAAAAAAAAAAAAAAAAAAAAAAAAAAAAAAAAAAAAAAAAAAAAAAAAAAAAAAAAAAAAAAAAAAAAAAAAAAAAAAAAAAAAAAAAAAgKZBAAD4QQCANEIAQFlCAAB2QgAAh0IAQJBCAACbQgBApkIAwMdCAKC8QgCgsEIAwMVCAADCQgCg1kIAIChDAFA6QwBQEEMAoAJDAMCMQwAwZkMA0DxD\",\"dtype\":\"float32\",\"shape\":[69]}},\"selected\":{\"id\":\"6302\",\"type\":\"Selection\"},\"selection_policy\":{\"id\":\"6303\",\"type\":\"UnionRenderers\"}},\"id\":\"5983\",\"type\":\"ColumnDataSource\"},{\"attributes\":{\"callback\":null,\"data\":{\"x\":{\"__ndarray__\":\"AAAoDZCrdkIAAOLokKt2QgAAnMSRq3ZCAABWoJKrdkIAABB8k6t2QgAAyleUq3ZCAACEM5WrdkIAAD4Plqt2QgAA+OqWq3ZCAACyxperdkIAAGyimKt2QgAAJn6Zq3ZCAADgWZqrdkIAAJo1m6t2QgAAVBGcq3ZCAAAO7ZyrdkIAAMjInat2QgAAgqSeq3ZCAAA8gJ+rdkIAAPZboKt2QgAAsDehq3ZCAABqE6KrdkIAACTvoqt2QgAA3sqjq3ZCAACYpqSrdkIAAFKCpat2QgAADF6mq3ZCAADGOaerdkIAAIAVqKt2QgAAOvGoq3ZCAAD0zKmrdkIAAK6oqqt2QgAAaISrq3ZCAAAiYKyrdkIAANw7rat2QgAAlheuq3ZCAABQ866rdkIAAArPr6t2QgAAxKqwq3ZCAAB+hrGrdkIAADhisqt2QgAA8j2zq3ZCAACsGbSrdkIAAGb1tKt2QgAAING1q3ZCAADarLardkIAAJSIt6t2QgAATmS4q3ZCAAAIQLmrdkIAAMIbuqt2QgAAfPe6q3ZCAAA207urdkIAAPCuvKt2QgAAqoq9q3ZCAABkZr6rdkIAAB5Cv6t2QgAA2B3Aq3ZCAACS+cCrdkIAAEzVwat2QgAABrHCq3ZCAADAjMOrdkIAAHpoxKt2QgAANETFq3ZCAADuH8ardkIAAKj7xqt2QgAAYtfHq3ZCAAAcs8irdkIAANaOyat2QgAAkGrKq3ZC\",\"dtype\":\"float64\",\"shape\":[69]},\"y\":{\"__ndarray__\":\"AABUQwAAIkMAANBCAACEQgAA0EEAAAAAAAAAAAAAAAAAAAAAAAAAAAAAAAAAAAAAAAAAAAAAAAAAAAAAAAAAAAAAAAAAAAAAAAAAAAAAAAAAAAAAAAAAAAAAAAAAAAAAAAAAAAAAAAAAAAAAAAAAAAAAAAAAAAAAAAAAAAAAAAAAAAAAAAAAAAAAAAAAAAAAAAAAAAAAAAAAAAAAAAAAAAAAAAAAAAAAAAAAAAAAAAAAAAAAAAAAAAAAAAAAAFBBAABIQgAAwEIAABRDAABMQwCAgkMAgKBDAIC9QwCA2kMAAPZDAEAJRABAF0QAQCREAIAxRACAO0QAgEVEAIBPRAAAXEQAAGZEAIBoRACAckQAAHpE\",\"dtype\":\"float32\",\"shape\":[69]}},\"selected\":{\"id\":\"5966\",\"type\":\"Selection\"},\"selection_policy\":{\"id\":\"5967\",\"type\":\"UnionRenderers\"}},\"id\":\"5930\",\"type\":\"ColumnDataSource\"},{\"attributes\":{\"days\":[1,8,15,22]},\"id\":\"5945\",\"type\":\"DaysTicker\"},{\"attributes\":{},\"id\":\"5913\",\"type\":\"BasicTicker\"},{\"attributes\":{\"months\":[0,4,8]},\"id\":\"5949\",\"type\":\"MonthsTicker\"},{\"attributes\":{\"bottom_units\":\"screen\",\"fill_alpha\":{\"value\":0.5},\"fill_color\":{\"value\":\"lightgrey\"},\"left_units\":\"screen\",\"level\":\"overlay\",\"line_alpha\":{\"value\":1.0},\"line_color\":{\"value\":\"black\"},\"line_dash\":[4,4],\"line_width\":{\"value\":2},\"render_mode\":\"css\",\"right_units\":\"screen\",\"top_units\":\"screen\"},\"id\":\"5953\",\"type\":\"BoxAnnotation\"},{\"attributes\":{\"label\":{\"value\":\"ghi\"},\"renderers\":[{\"id\":\"5933\",\"type\":\"GlyphRenderer\"}]},\"id\":\"5955\",\"type\":\"LegendItem\"},{\"attributes\":{},\"id\":\"5920\",\"type\":\"ResetTool\"},{\"attributes\":{\"dimension\":1,\"ticker\":{\"id\":\"5913\",\"type\":\"BasicTicker\"}},\"id\":\"5916\",\"type\":\"Grid\"},{\"attributes\":{\"callback\":null,\"overlay\":{\"id\":\"5953\",\"type\":\"BoxAnnotation\"}},\"id\":\"5922\",\"type\":\"BoxSelectTool\"},{\"attributes\":{\"ticker\":{\"id\":\"5908\",\"type\":\"DatetimeTicker\"}},\"id\":\"5911\",\"type\":\"Grid\"},{\"attributes\":{},\"id\":\"5967\",\"type\":\"UnionRenderers\"}],\"root_ids\":[\"5896\"]},\"title\":\"Bokeh Application\",\"version\":\"1.1.0\"}};\n",
       "  var render_items = [{\"docid\":\"385559b8-8e88-4d71-b873-c66e43714f84\",\"roots\":{\"5896\":\"7df4aba1-036a-4c1a-9c23-53542e37de12\"}}];\n",
       "  root.Bokeh.embed.embed_items_notebook(docs_json, render_items);\n",
       "\n",
       "  }\n",
       "  if (root.Bokeh !== undefined) {\n",
       "    embed_document(root);\n",
       "  } else {\n",
       "    var attempts = 0;\n",
       "    var timer = setInterval(function(root) {\n",
       "      if (root.Bokeh !== undefined) {\n",
       "        embed_document(root);\n",
       "        clearInterval(timer);\n",
       "      }\n",
       "      attempts++;\n",
       "      if (attempts > 100) {\n",
       "        console.log(\"Bokeh: ERROR: Unable to run BokehJS code because BokehJS library is missing\");\n",
       "        clearInterval(timer);\n",
       "      }\n",
       "    }, 10, root)\n",
       "  }\n",
       "})(window);"
      ],
      "application/vnd.bokehjs_exec.v0+json": ""
     },
     "metadata": {
      "application/vnd.bokehjs_exec.v0+json": {
       "id": "5896"
      }
     },
     "output_type": "display_data"
    }
   ],
   "source": [
    "fig = figure(title=\"Irradiance (W/m^2)\", tools=TOOLS, x_axis_type=\"datetime\", plot_width=800, plot_height=400)\n",
    "palette = iter(PALETTE)\n",
    "for irrad, name in zip((ghi, dni, dhi), ('ghi', 'dni', 'dhi')):\n",
    "    fig.line(irrad.index, irrad, legend=name, color=next(palette), line_width=2)\n",
    "fig.xaxis.axis_label = 'Time (UTC)'\n",
    "show(fig)"
   ]
  },
  {
   "cell_type": "code",
   "execution_count": null,
   "metadata": {},
   "outputs": [],
   "source": []
  },
  {
   "cell_type": "code",
   "execution_count": null,
   "metadata": {},
   "outputs": [],
   "source": []
  },
  {
   "cell_type": "code",
   "execution_count": 25,
   "metadata": {},
   "outputs": [],
   "source": [
    "# returns tuple of ghi, dni, dhi, air temperature, wind speed, resampling function, solar position function\n",
    "ghi, dni, dhi, air_temperature, wind_speed, resampler, solpos_func = models.hrrr_subhourly_to_subhourly_instantaneous(\n",
    "    latitude, longitude, elevation, init_time, start, end, load_forecast=load_forecast)"
   ]
  },
  {
   "cell_type": "markdown",
   "metadata": {},
   "source": [
    "Plot the irradiance components of `out`."
   ]
  },
  {
   "cell_type": "code",
   "execution_count": 26,
   "metadata": {},
   "outputs": [
    {
     "data": {
      "text/html": [
       "\n",
       "\n",
       "\n",
       "\n",
       "\n",
       "\n",
       "  <div class=\"bk-root\" id=\"eedd2ce0-700d-4783-b93f-9413495a40c6\" data-root-id=\"4031\"></div>\n"
      ]
     },
     "metadata": {},
     "output_type": "display_data"
    },
    {
     "data": {
      "application/javascript": [
       "(function(root) {\n",
       "  function embed_document(root) {\n",
       "    \n",
       "  var docs_json = {\"7f32bb11-d2ef-4697-99e4-1ec4233527fe\":{\"roots\":{\"references\":[{\"attributes\":{\"below\":[{\"id\":\"4042\",\"type\":\"DatetimeAxis\"}],\"center\":[{\"id\":\"4046\",\"type\":\"Grid\"},{\"id\":\"4051\",\"type\":\"Grid\"},{\"id\":\"4089\",\"type\":\"Legend\"}],\"left\":[{\"id\":\"4047\",\"type\":\"LinearAxis\"}],\"plot_height\":400,\"plot_width\":800,\"renderers\":[{\"id\":\"4068\",\"type\":\"GlyphRenderer\"},{\"id\":\"4094\",\"type\":\"GlyphRenderer\"},{\"id\":\"4121\",\"type\":\"GlyphRenderer\"}],\"title\":{\"id\":\"4032\",\"type\":\"Title\"},\"toolbar\":{\"id\":\"4058\",\"type\":\"Toolbar\"},\"x_range\":{\"id\":\"4034\",\"type\":\"DataRange1d\"},\"x_scale\":{\"id\":\"4038\",\"type\":\"LinearScale\"},\"y_range\":{\"id\":\"4036\",\"type\":\"DataRange1d\"},\"y_scale\":{\"id\":\"4040\",\"type\":\"LinearScale\"}},\"id\":\"4031\",\"subtype\":\"Figure\",\"type\":\"Plot\"},{\"attributes\":{\"active_drag\":\"auto\",\"active_inspect\":\"auto\",\"active_multi\":null,\"active_scroll\":\"auto\",\"active_tap\":\"auto\",\"tools\":[{\"id\":\"4052\",\"type\":\"PanTool\"},{\"id\":\"4053\",\"type\":\"WheelZoomTool\"},{\"id\":\"4054\",\"type\":\"BoxZoomTool\"},{\"id\":\"4055\",\"type\":\"ResetTool\"},{\"id\":\"4056\",\"type\":\"SaveTool\"},{\"id\":\"4057\",\"type\":\"BoxSelectTool\"}]},\"id\":\"4058\",\"type\":\"Toolbar\"},{\"attributes\":{\"data_source\":{\"id\":\"4118\",\"type\":\"ColumnDataSource\"},\"glyph\":{\"id\":\"4119\",\"type\":\"Line\"},\"hover_glyph\":null,\"muted_glyph\":null,\"nonselection_glyph\":{\"id\":\"4120\",\"type\":\"Line\"},\"selection_glyph\":null,\"view\":{\"id\":\"4122\",\"type\":\"CDSView\"}},\"id\":\"4121\",\"type\":\"GlyphRenderer\"},{\"attributes\":{},\"id\":\"4040\",\"type\":\"LinearScale\"},{\"attributes\":{},\"id\":\"4101\",\"type\":\"Selection\"},{\"attributes\":{\"mantissas\":[1,2,5],\"max_interval\":500.0,\"num_minor_ticks\":0},\"id\":\"4075\",\"type\":\"AdaptiveTicker\"},{\"attributes\":{},\"id\":\"4073\",\"type\":\"DatetimeTickFormatter\"},{\"attributes\":{\"line_alpha\":0.1,\"line_color\":\"#1f77b4\",\"line_width\":2,\"x\":{\"field\":\"x\"},\"y\":{\"field\":\"y\"}},\"id\":\"4120\",\"type\":\"Line\"},{\"attributes\":{},\"id\":\"4052\",\"type\":\"PanTool\"},{\"attributes\":{\"months\":[0,2,4,6,8,10]},\"id\":\"4083\",\"type\":\"MonthsTicker\"},{\"attributes\":{\"source\":{\"id\":\"4091\",\"type\":\"ColumnDataSource\"}},\"id\":\"4095\",\"type\":\"CDSView\"},{\"attributes\":{\"days\":[1,8,15,22]},\"id\":\"4080\",\"type\":\"DaysTicker\"},{\"attributes\":{\"months\":[0,1,2,3,4,5,6,7,8,9,10,11]},\"id\":\"4082\",\"type\":\"MonthsTicker\"},{\"attributes\":{\"source\":{\"id\":\"4118\",\"type\":\"ColumnDataSource\"}},\"id\":\"4122\",\"type\":\"CDSView\"},{\"attributes\":{\"base\":60,\"mantissas\":[1,2,5,10,15,20,30],\"max_interval\":1800000.0,\"min_interval\":1000.0,\"num_minor_ticks\":0},\"id\":\"4076\",\"type\":\"AdaptiveTicker\"},{\"attributes\":{\"ticker\":{\"id\":\"4043\",\"type\":\"DatetimeTicker\"}},\"id\":\"4046\",\"type\":\"Grid\"},{\"attributes\":{},\"id\":\"4053\",\"type\":\"WheelZoomTool\"},{\"attributes\":{\"months\":[0,6]},\"id\":\"4085\",\"type\":\"MonthsTicker\"},{\"attributes\":{\"line_alpha\":0.1,\"line_color\":\"#1f77b4\",\"line_width\":2,\"x\":{\"field\":\"x\"},\"y\":{\"field\":\"y\"}},\"id\":\"4093\",\"type\":\"Line\"},{\"attributes\":{},\"id\":\"4130\",\"type\":\"Selection\"},{\"attributes\":{},\"id\":\"4086\",\"type\":\"YearsTicker\"},{\"attributes\":{\"line_color\":\"#d95f02\",\"line_width\":2,\"x\":{\"field\":\"x\"},\"y\":{\"field\":\"y\"}},\"id\":\"4092\",\"type\":\"Line\"},{\"attributes\":{},\"id\":\"4055\",\"type\":\"ResetTool\"},{\"attributes\":{},\"id\":\"4056\",\"type\":\"SaveTool\"},{\"attributes\":{},\"id\":\"4131\",\"type\":\"UnionRenderers\"},{\"attributes\":{},\"id\":\"4356\",\"type\":\"Selection\"},{\"attributes\":{\"dimension\":1,\"ticker\":{\"id\":\"4048\",\"type\":\"BasicTicker\"}},\"id\":\"4051\",\"type\":\"Grid\"},{\"attributes\":{\"bottom_units\":\"screen\",\"fill_alpha\":{\"value\":0.5},\"fill_color\":{\"value\":\"lightgrey\"},\"left_units\":\"screen\",\"level\":\"overlay\",\"line_alpha\":{\"value\":1.0},\"line_color\":{\"value\":\"black\"},\"line_dash\":[4,4],\"line_width\":{\"value\":2},\"render_mode\":\"css\",\"right_units\":\"screen\",\"top_units\":\"screen\"},\"id\":\"4087\",\"type\":\"BoxAnnotation\"},{\"attributes\":{\"label\":{\"value\":\"dhi\"},\"renderers\":[{\"id\":\"4121\",\"type\":\"GlyphRenderer\"}]},\"id\":\"4146\",\"type\":\"LegendItem\"},{\"attributes\":{\"callback\":null},\"id\":\"4034\",\"type\":\"DataRange1d\"},{\"attributes\":{\"months\":[0,4,8]},\"id\":\"4084\",\"type\":\"MonthsTicker\"},{\"attributes\":{},\"id\":\"4048\",\"type\":\"BasicTicker\"},{\"attributes\":{},\"id\":\"4357\",\"type\":\"UnionRenderers\"},{\"attributes\":{\"base\":24,\"mantissas\":[1,2,4,6,8,12],\"max_interval\":43200000.0,\"min_interval\":3600000.0,\"num_minor_ticks\":0},\"id\":\"4077\",\"type\":\"AdaptiveTicker\"},{\"attributes\":{\"data_source\":{\"id\":\"4091\",\"type\":\"ColumnDataSource\"},\"glyph\":{\"id\":\"4092\",\"type\":\"Line\"},\"hover_glyph\":null,\"muted_glyph\":null,\"nonselection_glyph\":{\"id\":\"4093\",\"type\":\"Line\"},\"selection_glyph\":null,\"view\":{\"id\":\"4095\",\"type\":\"CDSView\"}},\"id\":\"4094\",\"type\":\"GlyphRenderer\"},{\"attributes\":{\"label\":{\"value\":\"ghi\"},\"renderers\":[{\"id\":\"4068\",\"type\":\"GlyphRenderer\"}]},\"id\":\"4090\",\"type\":\"LegendItem\"},{\"attributes\":{\"axis_label\":\"Time (UTC)\",\"formatter\":{\"id\":\"4073\",\"type\":\"DatetimeTickFormatter\"},\"ticker\":{\"id\":\"4043\",\"type\":\"DatetimeTicker\"}},\"id\":\"4042\",\"type\":\"DatetimeAxis\"},{\"attributes\":{\"line_alpha\":0.1,\"line_color\":\"#1f77b4\",\"line_width\":2,\"x\":{\"field\":\"x\"},\"y\":{\"field\":\"y\"}},\"id\":\"4067\",\"type\":\"Line\"},{\"attributes\":{\"bottom_units\":\"screen\",\"fill_alpha\":{\"value\":0.5},\"fill_color\":{\"value\":\"lightgrey\"},\"left_units\":\"screen\",\"level\":\"overlay\",\"line_alpha\":{\"value\":1.0},\"line_color\":{\"value\":\"black\"},\"line_dash\":[4,4],\"line_width\":{\"value\":2},\"render_mode\":\"css\",\"right_units\":\"screen\",\"top_units\":\"screen\"},\"id\":\"4088\",\"type\":\"BoxAnnotation\"},{\"attributes\":{\"line_color\":\"#1b9e77\",\"line_width\":2,\"x\":{\"field\":\"x\"},\"y\":{\"field\":\"y\"}},\"id\":\"4066\",\"type\":\"Line\"},{\"attributes\":{\"text\":\"Irradiance (W/m^2)\"},\"id\":\"4032\",\"type\":\"Title\"},{\"attributes\":{\"num_minor_ticks\":5,\"tickers\":[{\"id\":\"4075\",\"type\":\"AdaptiveTicker\"},{\"id\":\"4076\",\"type\":\"AdaptiveTicker\"},{\"id\":\"4077\",\"type\":\"AdaptiveTicker\"},{\"id\":\"4078\",\"type\":\"DaysTicker\"},{\"id\":\"4079\",\"type\":\"DaysTicker\"},{\"id\":\"4080\",\"type\":\"DaysTicker\"},{\"id\":\"4081\",\"type\":\"DaysTicker\"},{\"id\":\"4082\",\"type\":\"MonthsTicker\"},{\"id\":\"4083\",\"type\":\"MonthsTicker\"},{\"id\":\"4084\",\"type\":\"MonthsTicker\"},{\"id\":\"4085\",\"type\":\"MonthsTicker\"},{\"id\":\"4086\",\"type\":\"YearsTicker\"}]},\"id\":\"4043\",\"type\":\"DatetimeTicker\"},{\"attributes\":{\"callback\":null},\"id\":\"4036\",\"type\":\"DataRange1d\"},{\"attributes\":{\"items\":[{\"id\":\"4090\",\"type\":\"LegendItem\"},{\"id\":\"4117\",\"type\":\"LegendItem\"},{\"id\":\"4146\",\"type\":\"LegendItem\"}]},\"id\":\"4089\",\"type\":\"Legend\"},{\"attributes\":{\"days\":[1,4,7,10,13,16,19,22,25,28]},\"id\":\"4079\",\"type\":\"DaysTicker\"},{\"attributes\":{\"overlay\":{\"id\":\"4087\",\"type\":\"BoxAnnotation\"}},\"id\":\"4054\",\"type\":\"BoxZoomTool\"},{\"attributes\":{\"data_source\":{\"id\":\"4065\",\"type\":\"ColumnDataSource\"},\"glyph\":{\"id\":\"4066\",\"type\":\"Line\"},\"hover_glyph\":null,\"muted_glyph\":null,\"nonselection_glyph\":{\"id\":\"4067\",\"type\":\"Line\"},\"selection_glyph\":null,\"view\":{\"id\":\"4069\",\"type\":\"CDSView\"}},\"id\":\"4068\",\"type\":\"GlyphRenderer\"},{\"attributes\":{\"callback\":null,\"overlay\":{\"id\":\"4088\",\"type\":\"BoxAnnotation\"}},\"id\":\"4057\",\"type\":\"BoxSelectTool\"},{\"attributes\":{},\"id\":\"4102\",\"type\":\"UnionRenderers\"},{\"attributes\":{\"source\":{\"id\":\"4065\",\"type\":\"ColumnDataSource\"}},\"id\":\"4069\",\"type\":\"CDSView\"},{\"attributes\":{\"days\":[1,2,3,4,5,6,7,8,9,10,11,12,13,14,15,16,17,18,19,20,21,22,23,24,25,26,27,28,29,30,31]},\"id\":\"4078\",\"type\":\"DaysTicker\"},{\"attributes\":{\"callback\":null,\"data\":{\"x\":{\"__ndarray__\":\"AAAoDZCrdkIAAOLokKt2QgAAnMSRq3ZCAABWoJKrdkIAABB8k6t2QgAAyleUq3ZCAACEM5WrdkIAAD4Plqt2QgAA+OqWq3ZCAACyxperdkIAAGyimKt2QgAAJn6Zq3ZCAADgWZqrdkIAAJo1m6t2QgAAVBGcq3ZCAAAO7ZyrdkIAAMjInat2QgAAgqSeq3ZCAAA8gJ+rdkIAAPZboKt2QgAAsDehq3ZCAABqE6KrdkIAACTvoqt2QgAA3sqjq3ZCAACYpqSrdkIAAFKCpat2QgAADF6mq3ZCAADGOaerdkIAAIAVqKt2QgAAOvGoq3ZCAAD0zKmrdkIAAK6oqqt2QgAAaISrq3ZCAAAiYKyrdkIAANw7rat2QgAAlheuq3ZCAABQ866rdkIAAArPr6t2QgAAxKqwq3ZCAAB+hrGrdkIAADhisqt2QgAA8j2zq3ZCAACsGbSrdkIAAGb1tKt2QgAAING1q3ZCAADarLardkIAAJSIt6t2QgAATmS4q3ZCAAAIQLmrdkIAAMIbuqt2QgAAfPe6q3ZCAAA207urdkIAAPCuvKt2QgAAqoq9q3ZCAABkZr6rdkIAAB5Cv6t2QgAA2B3Aq3ZCAACS+cCrdkIAAEzVwat2QgAABrHCq3ZCAADAjMOrdkIAAHpoxKt2QgAANETFq3ZCAADuH8ardkIAAKj7xqt2QgAAYtfHq3ZCAAAcs8irdkIAANaOyat2QgAAkGrKq3ZC\",\"dtype\":\"float64\",\"shape\":[69]},\"y\":{\"__ndarray__\":\"AABUQwAAIkMAANBCAACEQgAA0EEAAAAAAAAAAAAAAAAAAAAAAAAAAAAAAAAAAAAAAAAAAAAAAAAAAAAAAAAAAAAAAAAAAAAAAAAAAAAAAAAAAAAAAAAAAAAAAAAAAAAAAAAAAAAAAAAAAAAAAAAAAAAAAAAAAAAAAAAAAAAAAAAAAAAAAAAAAAAAAAAAAAAAAAAAAAAAAAAAAAAAAAAAAAAAAAAAAAAAAAAAAAAAAAAAAAAAAAAAAAAAAAAAAFBBAABIQgAAwEIAABRDAABMQwCAgkMAgKBDAIC9QwCA2kMAAPZDAEAJRABAF0QAQCREAIAxRACAO0QAgEVEAIBPRAAAXEQAAGZEAIBoRACAckQAAHpE\",\"dtype\":\"float32\",\"shape\":[69]}},\"selected\":{\"id\":\"4101\",\"type\":\"Selection\"},\"selection_policy\":{\"id\":\"4102\",\"type\":\"UnionRenderers\"}},\"id\":\"4065\",\"type\":\"ColumnDataSource\"},{\"attributes\":{\"label\":{\"value\":\"dni\"},\"renderers\":[{\"id\":\"4094\",\"type\":\"GlyphRenderer\"}]},\"id\":\"4117\",\"type\":\"LegendItem\"},{\"attributes\":{},\"id\":\"4038\",\"type\":\"LinearScale\"},{\"attributes\":{\"days\":[1,15]},\"id\":\"4081\",\"type\":\"DaysTicker\"},{\"attributes\":{\"line_color\":\"#7570b3\",\"line_width\":2,\"x\":{\"field\":\"x\"},\"y\":{\"field\":\"y\"}},\"id\":\"4119\",\"type\":\"Line\"},{\"attributes\":{\"formatter\":{\"id\":\"4071\",\"type\":\"BasicTickFormatter\"},\"ticker\":{\"id\":\"4048\",\"type\":\"BasicTicker\"}},\"id\":\"4047\",\"type\":\"LinearAxis\"},{\"attributes\":{},\"id\":\"4071\",\"type\":\"BasicTickFormatter\"},{\"attributes\":{\"callback\":null,\"data\":{\"x\":{\"__ndarray__\":\"AAAoDZCrdkIAAOLokKt2QgAAnMSRq3ZCAABWoJKrdkIAABB8k6t2QgAAyleUq3ZCAACEM5WrdkIAAD4Plqt2QgAA+OqWq3ZCAACyxperdkIAAGyimKt2QgAAJn6Zq3ZCAADgWZqrdkIAAJo1m6t2QgAAVBGcq3ZCAAAO7ZyrdkIAAMjInat2QgAAgqSeq3ZCAAA8gJ+rdkIAAPZboKt2QgAAsDehq3ZCAABqE6KrdkIAACTvoqt2QgAA3sqjq3ZCAACYpqSrdkIAAFKCpat2QgAADF6mq3ZCAADGOaerdkIAAIAVqKt2QgAAOvGoq3ZCAAD0zKmrdkIAAK6oqqt2QgAAaISrq3ZCAAAiYKyrdkIAANw7rat2QgAAlheuq3ZCAABQ866rdkIAAArPr6t2QgAAxKqwq3ZCAAB+hrGrdkIAADhisqt2QgAA8j2zq3ZCAACsGbSrdkIAAGb1tKt2QgAAING1q3ZCAADarLardkIAAJSIt6t2QgAATmS4q3ZCAAAIQLmrdkIAAMIbuqt2QgAAfPe6q3ZCAAA207urdkIAAPCuvKt2QgAAqoq9q3ZCAABkZr6rdkIAAB5Cv6t2QgAA2B3Aq3ZCAACS+cCrdkIAAEzVwat2QgAABrHCq3ZCAADAjMOrdkIAAHpoxKt2QgAANETFq3ZCAADuH8ardkIAAKj7xqt2QgAAYtfHq3ZCAAAcs8irdkIAANaOyat2QgAAkGrKq3ZC\",\"dtype\":\"float64\",\"shape\":[69]},\"y\":{\"__ndarray__\":\"AKCjQgCAXUIAQCVCAAC/QQAABUEAAAAAAAAAAAAAAAAAAAAAAAAAAAAAAAAAAAAAAAAAAAAAAAAAAAAAAAAAAAAAAAAAAAAAAAAAAAAAAAAAAAAAAAAAAAAAAAAAAAAAAAAAAAAAAAAAAAAAAAAAAAAAAAAAAAAAAAAAAAAAAAAAAAAAAAAAAAAAAAAAAAAAAAAAAAAAAAAAAAAAAAAAAAAAAAAAAAAAAAAAAAAAAAAAAAAAAAAAAAAAAAAAgKZBAAD4QQCANEIAQFlCAAB2QgAAh0IAQJBCAACbQgBApkIAwMdCAKC8QgCgsEIAwMVCAADCQgCg1kIAIChDAFA6QwBQEEMAoAJDAMCMQwAwZkMA0DxD\",\"dtype\":\"float32\",\"shape\":[69]}},\"selected\":{\"id\":\"4356\",\"type\":\"Selection\"},\"selection_policy\":{\"id\":\"4357\",\"type\":\"UnionRenderers\"}},\"id\":\"4118\",\"type\":\"ColumnDataSource\"},{\"attributes\":{\"callback\":null,\"data\":{\"x\":{\"__ndarray__\":\"AAAoDZCrdkIAAOLokKt2QgAAnMSRq3ZCAABWoJKrdkIAABB8k6t2QgAAyleUq3ZCAACEM5WrdkIAAD4Plqt2QgAA+OqWq3ZCAACyxperdkIAAGyimKt2QgAAJn6Zq3ZCAADgWZqrdkIAAJo1m6t2QgAAVBGcq3ZCAAAO7ZyrdkIAAMjInat2QgAAgqSeq3ZCAAA8gJ+rdkIAAPZboKt2QgAAsDehq3ZCAABqE6KrdkIAACTvoqt2QgAA3sqjq3ZCAACYpqSrdkIAAFKCpat2QgAADF6mq3ZCAADGOaerdkIAAIAVqKt2QgAAOvGoq3ZCAAD0zKmrdkIAAK6oqqt2QgAAaISrq3ZCAAAiYKyrdkIAANw7rat2QgAAlheuq3ZCAABQ866rdkIAAArPr6t2QgAAxKqwq3ZCAAB+hrGrdkIAADhisqt2QgAA8j2zq3ZCAACsGbSrdkIAAGb1tKt2QgAAING1q3ZCAADarLardkIAAJSIt6t2QgAATmS4q3ZCAAAIQLmrdkIAAMIbuqt2QgAAfPe6q3ZCAAA207urdkIAAPCuvKt2QgAAqoq9q3ZCAABkZr6rdkIAAB5Cv6t2QgAA2B3Aq3ZCAACS+cCrdkIAAEzVwat2QgAABrHCq3ZCAADAjMOrdkIAAHpoxKt2QgAANETFq3ZCAADuH8ardkIAAKj7xqt2QgAAYtfHq3ZCAAAcs8irdkIAANaOyat2QgAAkGrKq3ZC\",\"dtype\":\"float64\",\"shape\":[69]},\"y\":{\"__ndarray__\":\"AADyQwAA6EMAgI9DAACZQwAAEkMAAAAAAAAAAAAAAAAAAAAAAAAAAAAAAAAAAAAAAAAAAAAAAAAAAAAAAAAAAAAAAAAAAAAAAAAAAAAAAAAAAAAAAAAAAAAAAAAAAAAAAAAAAAAAAAAAAAAAAAAAAAAAAAAAAAAAAAAAAAAAAAAAAAAAAAAAAAAAAAAAAAAAAAAAAAAAAAAAAAAAAAAAAAAAAAAAAAAAAAAAAAAAAAAAAAAAAAAAAAAAAAAAALJCAICFQwCAzEMAQAJEAMAXRACAKEQAwDZEAEBBRAAASEQAgEpEAABSRAAAXEQAgF5EAIBjRACAY0QAAFdEAABSRACAY0QAgGhEAIA7RACAT0QAAFxE\",\"dtype\":\"float32\",\"shape\":[69]}},\"selected\":{\"id\":\"4130\",\"type\":\"Selection\"},\"selection_policy\":{\"id\":\"4131\",\"type\":\"UnionRenderers\"}},\"id\":\"4091\",\"type\":\"ColumnDataSource\"}],\"root_ids\":[\"4031\"]},\"title\":\"Bokeh Application\",\"version\":\"1.1.0\"}};\n",
       "  var render_items = [{\"docid\":\"7f32bb11-d2ef-4697-99e4-1ec4233527fe\",\"roots\":{\"4031\":\"eedd2ce0-700d-4783-b93f-9413495a40c6\"}}];\n",
       "  root.Bokeh.embed.embed_items_notebook(docs_json, render_items);\n",
       "\n",
       "  }\n",
       "  if (root.Bokeh !== undefined) {\n",
       "    embed_document(root);\n",
       "  } else {\n",
       "    var attempts = 0;\n",
       "    var timer = setInterval(function(root) {\n",
       "      if (root.Bokeh !== undefined) {\n",
       "        embed_document(root);\n",
       "        clearInterval(timer);\n",
       "      }\n",
       "      attempts++;\n",
       "      if (attempts > 100) {\n",
       "        console.log(\"Bokeh: ERROR: Unable to run BokehJS code because BokehJS library is missing\");\n",
       "        clearInterval(timer);\n",
       "      }\n",
       "    }, 10, root)\n",
       "  }\n",
       "})(window);"
      ],
      "application/vnd.bokehjs_exec.v0+json": ""
     },
     "metadata": {
      "application/vnd.bokehjs_exec.v0+json": {
       "id": "4031"
      }
     },
     "output_type": "display_data"
    }
   ],
   "source": [
    "fig = figure(title=\"Irradiance (W/m^2)\", tools=TOOLS, x_axis_type=\"datetime\", plot_width=800, plot_height=400)\n",
    "palette = iter(PALETTE)\n",
    "for irrad, name in zip((ghi, dni, dhi), ('ghi', 'dni', 'dhi')):\n",
    "    resampled = resampler(irrad)\n",
    "    fig.line(resampled.index, resampled, legend=name, color=next(palette), line_width=2)\n",
    "fig.xaxis.axis_label = 'Time (UTC)'\n",
    "show(fig)"
   ]
  },
  {
   "cell_type": "code",
   "execution_count": 29,
   "metadata": {},
   "outputs": [
    {
     "data": {
      "text/html": [
       "\n",
       "\n",
       "\n",
       "\n",
       "\n",
       "\n",
       "  <div class=\"bk-root\" id=\"08dfdd30-a16c-44e7-b902-93b2b8d34de7\" data-root-id=\"5216\"></div>\n"
      ]
     },
     "metadata": {},
     "output_type": "display_data"
    },
    {
     "data": {
      "application/javascript": [
       "(function(root) {\n",
       "  function embed_document(root) {\n",
       "    \n",
       "  var docs_json = {\"93c29e58-950b-457a-9385-c18682519eda\":{\"roots\":{\"references\":[{\"attributes\":{\"below\":[{\"id\":\"5227\",\"type\":\"DatetimeAxis\"}],\"center\":[{\"id\":\"5231\",\"type\":\"Grid\"},{\"id\":\"5236\",\"type\":\"Grid\"},{\"id\":\"5274\",\"type\":\"Legend\"}],\"left\":[{\"id\":\"5232\",\"type\":\"LinearAxis\"}],\"plot_height\":400,\"plot_width\":800,\"renderers\":[{\"id\":\"5253\",\"type\":\"GlyphRenderer\"},{\"id\":\"5279\",\"type\":\"GlyphRenderer\"},{\"id\":\"5305\",\"type\":\"GlyphRenderer\"},{\"id\":\"5334\",\"type\":\"GlyphRenderer\"},{\"id\":\"5364\",\"type\":\"GlyphRenderer\"},{\"id\":\"5397\",\"type\":\"GlyphRenderer\"}],\"title\":{\"id\":\"5217\",\"type\":\"Title\"},\"toolbar\":{\"id\":\"5243\",\"type\":\"Toolbar\"},\"x_range\":{\"id\":\"5219\",\"type\":\"DataRange1d\"},\"x_scale\":{\"id\":\"5223\",\"type\":\"LinearScale\"},\"y_range\":{\"id\":\"5221\",\"type\":\"DataRange1d\"},\"y_scale\":{\"id\":\"5225\",\"type\":\"LinearScale\"}},\"id\":\"5216\",\"subtype\":\"Figure\",\"type\":\"Plot\"},{\"attributes\":{},\"id\":\"5315\",\"type\":\"UnionRenderers\"},{\"attributes\":{},\"id\":\"5314\",\"type\":\"Selection\"},{\"attributes\":{\"label\":{\"value\":\"dni\"},\"renderers\":[{\"id\":\"5305\",\"type\":\"GlyphRenderer\"},{\"id\":\"5334\",\"type\":\"GlyphRenderer\"}]},\"id\":\"5330\",\"type\":\"LegendItem\"},{\"attributes\":{\"callback\":null,\"data\":{\"x\":{\"__ndarray__\":\"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\",\"dtype\":\"float64\",\"shape\":[853]},\"y\":{\"__ndarray__\":\"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\",\"dtype\":\"float64\",\"shape\":[853]}},\"selected\":{\"id\":\"5377\",\"type\":\"Selection\"},\"selection_policy\":{\"id\":\"5378\",\"type\":\"UnionRenderers\"}},\"id\":\"5331\",\"type\":\"ColumnDataSource\"},{\"attributes\":{\"line_color\":\"#d95f02\",\"line_width\":2,\"x\":{\"field\":\"x\"},\"y\":{\"field\":\"y\"}},\"id\":\"5332\",\"type\":\"Line\"},{\"attributes\":{\"line_alpha\":0.1,\"line_color\":\"#1f77b4\",\"line_width\":2,\"x\":{\"field\":\"x\"},\"y\":{\"field\":\"y\"}},\"id\":\"5333\",\"type\":\"Line\"},{\"attributes\":{\"data_source\":{\"id\":\"5331\",\"type\":\"ColumnDataSource\"},\"glyph\":{\"id\":\"5332\",\"type\":\"Line\"},\"hover_glyph\":null,\"muted_glyph\":null,\"nonselection_glyph\":{\"id\":\"5333\",\"type\":\"Line\"},\"selection_glyph\":null,\"view\":{\"id\":\"5335\",\"type\":\"CDSView\"}},\"id\":\"5334\",\"type\":\"GlyphRenderer\"},{\"attributes\":{\"source\":{\"id\":\"5331\",\"type\":\"ColumnDataSource\"}},\"id\":\"5335\",\"type\":\"CDSView\"},{\"attributes\":{\"text\":\"Irradiance (W/m^2)\"},\"id\":\"5217\",\"type\":\"Title\"},{\"attributes\":{},\"id\":\"5345\",\"type\":\"Selection\"},{\"attributes\":{},\"id\":\"5346\",\"type\":\"UnionRenderers\"},{\"attributes\":{\"data_source\":{\"id\":\"5361\",\"type\":\"ColumnDataSource\"},\"glyph\":{\"id\":\"5362\",\"type\":\"Line\"},\"hover_glyph\":null,\"muted_glyph\":null,\"nonselection_glyph\":{\"id\":\"5363\",\"type\":\"Line\"},\"selection_glyph\":null,\"view\":{\"id\":\"5365\",\"type\":\"CDSView\"}},\"id\":\"5364\",\"type\":\"GlyphRenderer\"},{\"attributes\":{\"callback\":null,\"data\":{\"x\":{\"__ndarray__\":\"AAAoDZCrdkIAABB8k6t2QgAA+OqWq3ZCAADgWZqrdkIAAMjInat2QgAAsDehq3ZCAACYpqSrdkIAAIAVqKt2QgAAaISrq3ZCAABQ866rdkIAADhisqt2QgAAING1q3ZCAAAIQLmrdkIAAPCuvKt2QgAA2B3Aq3ZCAADAjMOrdkIAAKj7xqt2QgAAkGrKq3ZCAAB42c2rdkIAAGBI0at2QgAASLfUq3ZCAAAwJtirdkIAABiV26t2QgAAAATfq3ZCAADocuKrdkIAANDh5at2QgAAuFDpq3ZCAACgv+yrdkIAAIgu8Kt2QgAAcJ3zq3ZCAABYDPerdkIAAEB7+qt2QgAAKOr9q3ZCAAAQWQGsdkIAAPjHBKx2QgAA4DYIrHZCAADIpQusdkIAALAUD6x2QgAAmIMSrHZCAACA8hWsdkIAAGhhGax2QgAAUNAcrHZCAAA4PyCsdkIAACCuI6x2QgAACB0nrHZCAADwiyqsdkIAANj6Lax2QgAAwGkxrHZCAACo2DSsdkIAAJBHOKx2QgAAeLY7rHZCAABgJT+sdkIAAEiUQqx2QgAAMANGrHZCAAAYckmsdkIAAADhTKx2QgAA6E9QrHZCAADQvlOsdkIAALgtV6x2QgAAoJxarHZCAACIC16sdkIAAHB6Yax2QgAAWOlkrHZCAABAWGisdkIAACjHa6x2QgAAEDZvrHZCAAD4pHKsdkIAAOATdqx2QgAAyIJ5rHZCAACw8XysdkIAAJhggKx2QgAAgM+DrHZC\",\"dtype\":\"float64\",\"shape\":[72]},\"y\":{\"__ndarray__\":\"bbvzm5Z5TkDt3DjoeuPdPwAAAAAAAAAAAAAAAAAAAAAAAAAAAAAAAAAAAAAAAAAAAAAAAAAAAAAAAAAAAAAAAAAAAAAAAAAAAAAAAAAAAAAAAAAAAAAAAPTRN/1X/xVAfqL6+rk9VEDrCvbY25NaQFjfRusFtVxAQW/3UxCOYEDJw5mHCANjQMsTgHaBx2RAY7GzyjieZUD3PF0YvbNqQFtg+NygHXFAZ7GiQ05qckCXk2UjRMluQJ5wBEyZJGRAp32YVlRtTEDwY+zekk3aPwAAAAAAAAAAAAAAAAAAAAAAAAAAAAAAAAAAAAAAAAAAAAAAAAAAAAAAAAAAAAAAAAAAAAAAAAAAAAAAAAAAAAAAAAAAAAAAACgZndj2cw1ApH9LT3ObUkArEjVpbdNlQDfib/vMRXBAg7rqBJOBdEATZHWd3aN3QPcvDIjTP3VA8r6reocUZUAQuGxF8V9kQAlRD14jc2JA9JWxVK0NYECYlgq6Sw5eQElQFHoOdWFATaQUMbuiSEAfWb81Hz3ZPwAAAAAAAAAAAAAAAAAAAAAAAAAAAAAAAAAAAAAAAAAAAAAAAAAAAAAAAAAAAAAAAAAAAAAAAAAAAAAAAAAAAAAAAAAAAAAAADcZqcW92hZAAaP04tQRVUBEP4jmj4BeQDFaiP4+QmRAK3zyTjr1aUCTAbws18RqQFQj8ZyB1WZAlyCMMMRTZUD/7VnlYXdkQHEhKdU4d2JAX2WcLDPzX0CYDjCyQwBcQLMlY3do01pA\",\"dtype\":\"float64\",\"shape\":[72]}},\"selected\":{\"id\":\"5412\",\"type\":\"Selection\"},\"selection_policy\":{\"id\":\"5413\",\"type\":\"UnionRenderers\"}},\"id\":\"5361\",\"type\":\"ColumnDataSource\"},{\"attributes\":{\"line_alpha\":0.1,\"line_color\":\"#1f77b4\",\"line_width\":2,\"x\":{\"field\":\"x\"},\"y\":{\"field\":\"y\"}},\"id\":\"5363\",\"type\":\"Line\"},{\"attributes\":{\"line_color\":\"#7570b3\",\"line_width\":2,\"x\":{\"field\":\"x\"},\"y\":{\"field\":\"y\"}},\"id\":\"5362\",\"type\":\"Line\"},{\"attributes\":{},\"id\":\"5377\",\"type\":\"Selection\"},{\"attributes\":{\"source\":{\"id\":\"5361\",\"type\":\"ColumnDataSource\"}},\"id\":\"5365\",\"type\":\"CDSView\"},{\"attributes\":{},\"id\":\"5223\",\"type\":\"LinearScale\"},{\"attributes\":{},\"id\":\"5378\",\"type\":\"UnionRenderers\"},{\"attributes\":{\"label\":{\"value\":\"dhi\"},\"renderers\":[{\"id\":\"5364\",\"type\":\"GlyphRenderer\"},{\"id\":\"5397\",\"type\":\"GlyphRenderer\"}]},\"id\":\"5393\",\"type\":\"LegendItem\"},{\"attributes\":{\"callback\":null,\"data\":{\"x\":{\"__ndarray__\":\"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\",\"dtype\":\"float64\",\"shape\":[853]},\"y\":{\"__ndarray__\":\"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\",\"dtype\":\"float64\",\"shape\":[853]}},\"selected\":{\"id\":\"5693\",\"type\":\"Selection\"},\"selection_policy\":{\"id\":\"5694\",\"type\":\"UnionRenderers\"}},\"id\":\"5394\",\"type\":\"ColumnDataSource\"},{\"attributes\":{},\"id\":\"5693\",\"type\":\"Selection\"},{\"attributes\":{\"line_color\":\"#7570b3\",\"line_width\":2,\"x\":{\"field\":\"x\"},\"y\":{\"field\":\"y\"}},\"id\":\"5395\",\"type\":\"Line\"},{\"attributes\":{\"line_alpha\":0.1,\"line_color\":\"#1f77b4\",\"line_width\":2,\"x\":{\"field\":\"x\"},\"y\":{\"field\":\"y\"}},\"id\":\"5396\",\"type\":\"Line\"},{\"attributes\":{\"data_source\":{\"id\":\"5394\",\"type\":\"ColumnDataSource\"},\"glyph\":{\"id\":\"5395\",\"type\":\"Line\"},\"hover_glyph\":null,\"muted_glyph\":null,\"nonselection_glyph\":{\"id\":\"5396\",\"type\":\"Line\"},\"selection_glyph\":null,\"view\":{\"id\":\"5398\",\"type\":\"CDSView\"}},\"id\":\"5397\",\"type\":\"GlyphRenderer\"},{\"attributes\":{\"source\":{\"id\":\"5394\",\"type\":\"ColumnDataSource\"}},\"id\":\"5398\",\"type\":\"CDSView\"},{\"attributes\":{\"num_minor_ticks\":5,\"tickers\":[{\"id\":\"5260\",\"type\":\"AdaptiveTicker\"},{\"id\":\"5261\",\"type\":\"AdaptiveTicker\"},{\"id\":\"5262\",\"type\":\"AdaptiveTicker\"},{\"id\":\"5263\",\"type\":\"DaysTicker\"},{\"id\":\"5264\",\"type\":\"DaysTicker\"},{\"id\":\"5265\",\"type\":\"DaysTicker\"},{\"id\":\"5266\",\"type\":\"DaysTicker\"},{\"id\":\"5267\",\"type\":\"MonthsTicker\"},{\"id\":\"5268\",\"type\":\"MonthsTicker\"},{\"id\":\"5269\",\"type\":\"MonthsTicker\"},{\"id\":\"5270\",\"type\":\"MonthsTicker\"},{\"id\":\"5271\",\"type\":\"YearsTicker\"}]},\"id\":\"5228\",\"type\":\"DatetimeTicker\"},{\"attributes\":{},\"id\":\"5412\",\"type\":\"Selection\"},{\"attributes\":{},\"id\":\"5413\",\"type\":\"UnionRenderers\"},{\"attributes\":{},\"id\":\"5694\",\"type\":\"UnionRenderers\"},{\"attributes\":{\"callback\":null,\"data\":{\"x\":{\"__ndarray__\":\"AAAoDZCrdkIAABB8k6t2QgAA+OqWq3ZCAADgWZqrdkIAAMjInat2QgAAsDehq3ZCAACYpqSrdkIAAIAVqKt2QgAAaISrq3ZCAABQ866rdkIAADhisqt2QgAAING1q3ZCAAAIQLmrdkIAAPCuvKt2QgAA2B3Aq3ZCAADAjMOrdkIAAKj7xqt2QgAAkGrKq3ZCAAB42c2rdkIAAGBI0at2QgAASLfUq3ZCAAAwJtirdkIAABiV26t2QgAAAATfq3ZCAADocuKrdkIAANDh5at2QgAAuFDpq3ZCAACgv+yrdkIAAIgu8Kt2QgAAcJ3zq3ZCAABYDPerdkIAAEB7+qt2QgAAKOr9q3ZCAAAQWQGsdkIAAPjHBKx2QgAA4DYIrHZCAADIpQusdkIAALAUD6x2QgAAmIMSrHZCAACA8hWsdkIAAGhhGax2QgAAUNAcrHZCAAA4PyCsdkIAACCuI6x2QgAACB0nrHZCAADwiyqsdkIAANj6Lax2QgAAwGkxrHZCAACo2DSsdkIAAJBHOKx2QgAAeLY7rHZCAABgJT+sdkIAAEiUQqx2QgAAMANGrHZCAAAYckmsdkIAAADhTKx2QgAA6E9QrHZCAADQvlOsdkIAALgtV6x2QgAAoJxarHZCAACIC16sdkIAAHB6Yax2QgAAWOlkrHZCAABAWGisdkIAACjHa6x2QgAAEDZvrHZCAAD4pHKsdkIAAOATdqx2QgAAyIJ5rHZCAACw8XysdkIAAJhggKx2QgAAgM+DrHZC\",\"dtype\":\"float64\",\"shape\":[72]},\"y\":{\"__ndarray__\":\"Qc71CQgBV0AAAAAAAAAAAAAAAAAAAAAAAAAAAAAAAAAAAAAAAAAAAAAAAAAAAAAAAAAAAAAAAAAAAAAAAAAAAAAAAAAAAAAAAAAAAAAAAAAAAAAAAAAAAA3gd+opa/c/HPztYvsvbUBRz042cX+DQDFvOOP5qYhAD5CKBFOhikBDnb7gPGuLQKfUUdk0uotAD1ODs5qGikCxwEOWliCGQA2k/TPH3X9AHzNftWhlc0AX9Lu5u+xnQM3XHsbz22BA9IQEwXd7P0AAAAAAAAAAAAAAAAAAAAAAAAAAAAAAAAAAAAAAAAAAAAAAAAAAAAAAAAAAAAAAAAAAAAAAAAAAAAAAAAAAAAAAAAAAAAAAAAAAAAAAAAAAAKGV4rXZC+I/OCJYj/roMkAkLZ5AhQtKQD2SqEgq2U5APE3TREhmTECXFwuUxKtKQFwnLi198HdAZxWb4cyCi0D08j3sv5GLQJApFo6lRYtACzcnwzUpikD0JjB2Ja+GQImUF67hHHFA54ia+joCJkAAAAAAAAAAAAAAAAAAAAAAAAAAAAAAAAAAAAAAAAAAAAAAAAAAAAAAAAAAAAAAAAAAAAAAAAAAAAAAAAAAAAAAAAAAAAAAAAAAAAAAAAAAAIHCSi1MF/k/zPLpn17NakBq6VcQ4y2BQA9lyu6QQoNA2L8eMM8Eg0DHIwG5PAGFQKSR+XYLEIlA1BKmZgHGi0D7R2Nx3KeLQOwMXMCkQ4tADHMAy7BJikDN07ZtlNaHQHy1geKSXIVA\",\"dtype\":\"float64\",\"shape\":[72]}},\"selected\":{\"id\":\"5345\",\"type\":\"Selection\"},\"selection_policy\":{\"id\":\"5346\",\"type\":\"UnionRenderers\"}},\"id\":\"5302\",\"type\":\"ColumnDataSource\"},{\"attributes\":{\"axis_label\":\"Time (UTC)\",\"formatter\":{\"id\":\"5258\",\"type\":\"DatetimeTickFormatter\"},\"ticker\":{\"id\":\"5228\",\"type\":\"DatetimeTicker\"}},\"id\":\"5227\",\"type\":\"DatetimeAxis\"},{\"attributes\":{\"callback\":null},\"id\":\"5221\",\"type\":\"DataRange1d\"},{\"attributes\":{\"callback\":null},\"id\":\"5219\",\"type\":\"DataRange1d\"},{\"attributes\":{},\"id\":\"5258\",\"type\":\"DatetimeTickFormatter\"},{\"attributes\":{\"callback\":null,\"data\":{\"x\":{\"__ndarray__\":\"AAAoDZCrdkIAABB8k6t2QgAA+OqWq3ZCAADgWZqrdkIAAMjInat2QgAAsDehq3ZCAACYpqSrdkIAAIAVqKt2QgAAaISrq3ZCAABQ866rdkIAADhisqt2QgAAING1q3ZCAAAIQLmrdkIAAPCuvKt2QgAA2B3Aq3ZCAADAjMOrdkIAAKj7xqt2QgAAkGrKq3ZCAAB42c2rdkIAAGBI0at2QgAASLfUq3ZCAAAwJtirdkIAABiV26t2QgAAAATfq3ZCAADocuKrdkIAANDh5at2QgAAuFDpq3ZCAACgv+yrdkIAAIgu8Kt2QgAAcJ3zq3ZCAABYDPerdkIAAEB7+qt2QgAAKOr9q3ZCAAAQWQGsdkIAAPjHBKx2QgAA4DYIrHZCAADIpQusdkIAALAUD6x2QgAAmIMSrHZCAACA8hWsdkIAAGhhGax2QgAAUNAcrHZCAAA4PyCsdkIAACCuI6x2QgAACB0nrHZCAADwiyqsdkIAANj6Lax2QgAAwGkxrHZCAACo2DSsdkIAAJBHOKx2QgAAeLY7rHZCAABgJT+sdkIAAEiUQqx2QgAAMANGrHZCAAAYckmsdkIAAADhTKx2QgAA6E9QrHZCAADQvlOsdkIAALgtV6x2QgAAoJxarHZCAACIC16sdkIAAHB6Yax2QgAAWOlkrHZCAABAWGisdkIAACjHa6x2QgAAEDZvrHZCAAD4pHKsdkIAAOATdqx2QgAAyIJ5rHZCAACw8XysdkIAAJhggKx2QgAAgM+DrHZC\",\"dtype\":\"float64\",\"shape\":[72]},\"y\":{\"__ndarray__\":\"TdxP6WbFU0Dt3DjoeuPdPwAAAAAAAAAAAAAAAAAAAAAAAAAAAAAAAAAAAAAAAAAAAAAAAAAAAAAAAAAAAAAAAAAAAAAAAAAAAAAAAAAAAAAAAAAAAAAAAFXEgrTZdhZAAv+509T5YED5VLdoUq12QOgd8VvBSYJAWOrGOpdEiECvMGZj/suMQA3yWZetio9AcBl3OjMnj0BxIZZgH26LQBuYkQF5LIZAnpSVjHQ/gECcQ+FFSwV2QLQ0hXX8PmpAt1WC/AKWT0DwY+zekk3aPwAAAAAAAAAAAAAAAAAAAAAAAAAAAAAAAAAAAAAAAAAAAAAAAAAAAAAAAAAAAAAAAAAAAAAAAAAAAAAAAAAAAAAAAAAAAAAAAPQJMj+syw1AeECuqvC2U0BgrlprcoVoQLEO4jqqkHJAzCNl4JAwd0AXZ7dInJB6QDGuEnSGHYZAmEMXO4//j0BE/mKqBfKOQGuMcZWL2YtAPQQcwpbehkBnUrV32VaAQFfkpRU2+m5A3A8pQEy0SUAfWb81Hz3ZPwAAAAAAAAAAAAAAAAAAAAAAAAAAAAAAAAAAAAAAAAAAAAAAAAAAAAAAAAAAAAAAAAAAAAAAAAAAAAAAAAAAAAAAAAAAAAAAANPniCh8WxdAXDq3um7oYEAzhn5vvNV1QGndoSNDiYBAvdc7lnHshEBIZ2Rd4iqJQB1hDhC3l41A7qA7kIErkEAdzxLAnhOPQHHpaIOC4ItAiCPXpKz4hkDt5wyf0LmAQAih+Oei8XlA\",\"dtype\":\"float64\",\"shape\":[72]}},\"selected\":{\"id\":\"5286\",\"type\":\"Selection\"},\"selection_policy\":{\"id\":\"5287\",\"type\":\"UnionRenderers\"}},\"id\":\"5250\",\"type\":\"ColumnDataSource\"},{\"attributes\":{\"base\":60,\"mantissas\":[1,2,5,10,15,20,30],\"max_interval\":1800000.0,\"min_interval\":1000.0,\"num_minor_ticks\":0},\"id\":\"5261\",\"type\":\"AdaptiveTicker\"},{\"attributes\":{},\"id\":\"5271\",\"type\":\"YearsTicker\"},{\"attributes\":{\"months\":[0,6]},\"id\":\"5270\",\"type\":\"MonthsTicker\"},{\"attributes\":{},\"id\":\"5225\",\"type\":\"LinearScale\"},{\"attributes\":{\"months\":[0,4,8]},\"id\":\"5269\",\"type\":\"MonthsTicker\"},{\"attributes\":{\"source\":{\"id\":\"5250\",\"type\":\"ColumnDataSource\"}},\"id\":\"5254\",\"type\":\"CDSView\"},{\"attributes\":{\"line_alpha\":0.1,\"line_color\":\"#1f77b4\",\"line_width\":2,\"x\":{\"field\":\"x\"},\"y\":{\"field\":\"y\"}},\"id\":\"5278\",\"type\":\"Line\"},{\"attributes\":{},\"id\":\"5238\",\"type\":\"WheelZoomTool\"},{\"attributes\":{\"callback\":null,\"data\":{\"x\":{\"__ndarray__\":\"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\",\"dtype\":\"float64\",\"shape\":[853]},\"y\":{\"__ndarray__\":\"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\",\"dtype\":\"float64\",\"shape\":[853]}},\"selected\":{\"id\":\"5314\",\"type\":\"Selection\"},\"selection_policy\":{\"id\":\"5315\",\"type\":\"UnionRenderers\"}},\"id\":\"5276\",\"type\":\"ColumnDataSource\"},{\"attributes\":{\"line_alpha\":0.1,\"line_color\":\"#1f77b4\",\"line_width\":2,\"x\":{\"field\":\"x\"},\"y\":{\"field\":\"y\"}},\"id\":\"5304\",\"type\":\"Line\"},{\"attributes\":{\"data_source\":{\"id\":\"5250\",\"type\":\"ColumnDataSource\"},\"glyph\":{\"id\":\"5251\",\"type\":\"Line\"},\"hover_glyph\":null,\"muted_glyph\":null,\"nonselection_glyph\":{\"id\":\"5252\",\"type\":\"Line\"},\"selection_glyph\":null,\"view\":{\"id\":\"5254\",\"type\":\"CDSView\"}},\"id\":\"5253\",\"type\":\"GlyphRenderer\"},{\"attributes\":{\"line_color\":\"#1b9e77\",\"line_width\":2,\"x\":{\"field\":\"x\"},\"y\":{\"field\":\"y\"}},\"id\":\"5277\",\"type\":\"Line\"},{\"attributes\":{\"months\":[0,2,4,6,8,10]},\"id\":\"5268\",\"type\":\"MonthsTicker\"},{\"attributes\":{\"line_color\":\"#d95f02\",\"line_width\":2,\"x\":{\"field\":\"x\"},\"y\":{\"field\":\"y\"}},\"id\":\"5303\",\"type\":\"Line\"},{\"attributes\":{},\"id\":\"5237\",\"type\":\"PanTool\"},{\"attributes\":{\"base\":24,\"mantissas\":[1,2,4,6,8,12],\"max_interval\":43200000.0,\"min_interval\":3600000.0,\"num_minor_ticks\":0},\"id\":\"5262\",\"type\":\"AdaptiveTicker\"},{\"attributes\":{\"items\":[{\"id\":\"5275\",\"type\":\"LegendItem\"},{\"id\":\"5330\",\"type\":\"LegendItem\"},{\"id\":\"5393\",\"type\":\"LegendItem\"}]},\"id\":\"5274\",\"type\":\"Legend\"},{\"attributes\":{},\"id\":\"5256\",\"type\":\"BasicTickFormatter\"},{\"attributes\":{\"line_color\":\"#1b9e77\",\"line_width\":2,\"x\":{\"field\":\"x\"},\"y\":{\"field\":\"y\"}},\"id\":\"5251\",\"type\":\"Line\"},{\"attributes\":{\"label\":{\"value\":\"ghi\"},\"renderers\":[{\"id\":\"5253\",\"type\":\"GlyphRenderer\"},{\"id\":\"5279\",\"type\":\"GlyphRenderer\"}]},\"id\":\"5275\",\"type\":\"LegendItem\"},{\"attributes\":{\"months\":[0,1,2,3,4,5,6,7,8,9,10,11]},\"id\":\"5267\",\"type\":\"MonthsTicker\"},{\"attributes\":{\"active_drag\":\"auto\",\"active_inspect\":\"auto\",\"active_multi\":null,\"active_scroll\":\"auto\",\"active_tap\":\"auto\",\"tools\":[{\"id\":\"5237\",\"type\":\"PanTool\"},{\"id\":\"5238\",\"type\":\"WheelZoomTool\"},{\"id\":\"5239\",\"type\":\"BoxZoomTool\"},{\"id\":\"5240\",\"type\":\"ResetTool\"},{\"id\":\"5241\",\"type\":\"SaveTool\"},{\"id\":\"5242\",\"type\":\"BoxSelectTool\"}]},\"id\":\"5243\",\"type\":\"Toolbar\"},{\"attributes\":{\"mantissas\":[1,2,5],\"max_interval\":500.0,\"num_minor_ticks\":0},\"id\":\"5260\",\"type\":\"AdaptiveTicker\"},{\"attributes\":{\"formatter\":{\"id\":\"5256\",\"type\":\"BasicTickFormatter\"},\"ticker\":{\"id\":\"5233\",\"type\":\"BasicTicker\"}},\"id\":\"5232\",\"type\":\"LinearAxis\"},{\"attributes\":{\"bottom_units\":\"screen\",\"fill_alpha\":{\"value\":0.5},\"fill_color\":{\"value\":\"lightgrey\"},\"left_units\":\"screen\",\"level\":\"overlay\",\"line_alpha\":{\"value\":1.0},\"line_color\":{\"value\":\"black\"},\"line_dash\":[4,4],\"line_width\":{\"value\":2},\"render_mode\":\"css\",\"right_units\":\"screen\",\"top_units\":\"screen\"},\"id\":\"5273\",\"type\":\"BoxAnnotation\"},{\"attributes\":{},\"id\":\"5233\",\"type\":\"BasicTicker\"},{\"attributes\":{\"days\":[1,2,3,4,5,6,7,8,9,10,11,12,13,14,15,16,17,18,19,20,21,22,23,24,25,26,27,28,29,30,31]},\"id\":\"5263\",\"type\":\"DaysTicker\"},{\"attributes\":{\"data_source\":{\"id\":\"5302\",\"type\":\"ColumnDataSource\"},\"glyph\":{\"id\":\"5303\",\"type\":\"Line\"},\"hover_glyph\":null,\"muted_glyph\":null,\"nonselection_glyph\":{\"id\":\"5304\",\"type\":\"Line\"},\"selection_glyph\":null,\"view\":{\"id\":\"5306\",\"type\":\"CDSView\"}},\"id\":\"5305\",\"type\":\"GlyphRenderer\"},{\"attributes\":{\"bottom_units\":\"screen\",\"fill_alpha\":{\"value\":0.5},\"fill_color\":{\"value\":\"lightgrey\"},\"left_units\":\"screen\",\"level\":\"overlay\",\"line_alpha\":{\"value\":1.0},\"line_color\":{\"value\":\"black\"},\"line_dash\":[4,4],\"line_width\":{\"value\":2},\"render_mode\":\"css\",\"right_units\":\"screen\",\"top_units\":\"screen\"},\"id\":\"5272\",\"type\":\"BoxAnnotation\"},{\"attributes\":{\"dimension\":1,\"ticker\":{\"id\":\"5233\",\"type\":\"BasicTicker\"}},\"id\":\"5236\",\"type\":\"Grid\"},{\"attributes\":{\"days\":[1,15]},\"id\":\"5266\",\"type\":\"DaysTicker\"},{\"attributes\":{\"data_source\":{\"id\":\"5276\",\"type\":\"ColumnDataSource\"},\"glyph\":{\"id\":\"5277\",\"type\":\"Line\"},\"hover_glyph\":null,\"muted_glyph\":null,\"nonselection_glyph\":{\"id\":\"5278\",\"type\":\"Line\"},\"selection_glyph\":null,\"view\":{\"id\":\"5280\",\"type\":\"CDSView\"}},\"id\":\"5279\",\"type\":\"GlyphRenderer\"},{\"attributes\":{\"ticker\":{\"id\":\"5228\",\"type\":\"DatetimeTicker\"}},\"id\":\"5231\",\"type\":\"Grid\"},{\"attributes\":{\"days\":[1,8,15,22]},\"id\":\"5265\",\"type\":\"DaysTicker\"},{\"attributes\":{\"days\":[1,4,7,10,13,16,19,22,25,28]},\"id\":\"5264\",\"type\":\"DaysTicker\"},{\"attributes\":{\"source\":{\"id\":\"5302\",\"type\":\"ColumnDataSource\"}},\"id\":\"5306\",\"type\":\"CDSView\"},{\"attributes\":{\"source\":{\"id\":\"5276\",\"type\":\"ColumnDataSource\"}},\"id\":\"5280\",\"type\":\"CDSView\"},{\"attributes\":{\"overlay\":{\"id\":\"5272\",\"type\":\"BoxAnnotation\"}},\"id\":\"5239\",\"type\":\"BoxZoomTool\"},{\"attributes\":{},\"id\":\"5286\",\"type\":\"Selection\"},{\"attributes\":{},\"id\":\"5287\",\"type\":\"UnionRenderers\"},{\"attributes\":{},\"id\":\"5240\",\"type\":\"ResetTool\"},{\"attributes\":{\"callback\":null,\"overlay\":{\"id\":\"5273\",\"type\":\"BoxAnnotation\"}},\"id\":\"5242\",\"type\":\"BoxSelectTool\"},{\"attributes\":{\"line_alpha\":0.1,\"line_color\":\"#1f77b4\",\"line_width\":2,\"x\":{\"field\":\"x\"},\"y\":{\"field\":\"y\"}},\"id\":\"5252\",\"type\":\"Line\"},{\"attributes\":{},\"id\":\"5241\",\"type\":\"SaveTool\"}],\"root_ids\":[\"5216\"]},\"title\":\"Bokeh Application\",\"version\":\"1.1.0\"}};\n",
       "  var render_items = [{\"docid\":\"93c29e58-950b-457a-9385-c18682519eda\",\"roots\":{\"5216\":\"08dfdd30-a16c-44e7-b902-93b2b8d34de7\"}}];\n",
       "  root.Bokeh.embed.embed_items_notebook(docs_json, render_items);\n",
       "\n",
       "  }\n",
       "  if (root.Bokeh !== undefined) {\n",
       "    embed_document(root);\n",
       "  } else {\n",
       "    var attempts = 0;\n",
       "    var timer = setInterval(function(root) {\n",
       "      if (root.Bokeh !== undefined) {\n",
       "        embed_document(root);\n",
       "        clearInterval(timer);\n",
       "      }\n",
       "      attempts++;\n",
       "      if (attempts > 100) {\n",
       "        console.log(\"Bokeh: ERROR: Unable to run BokehJS code because BokehJS library is missing\");\n",
       "        clearInterval(timer);\n",
       "      }\n",
       "    }, 10, root)\n",
       "  }\n",
       "})(window);"
      ],
      "application/vnd.bokehjs_exec.v0+json": ""
     },
     "metadata": {
      "application/vnd.bokehjs_exec.v0+json": {
       "id": "5216"
      }
     },
     "output_type": "display_data"
    }
   ],
   "source": [
    "ghi, dni, dhi, air_temperature, wind_speed, resampler, solpos_func = models.gfs_quarter_deg_hourly_to_hourly_mean(\n",
    "    latitude, longitude, elevation, init_time, start, end, load_forecast=load_forecast)\n",
    "\n",
    "fig = figure(title=\"Irradiance (W/m^2)\", tools=TOOLS, x_axis_type=\"datetime\", plot_width=800, plot_height=400)\n",
    "palette = iter(PALETTE)\n",
    "for irrad, name in zip((ghi, dni, dhi), ('ghi', 'dni', 'dhi')):\n",
    "    resampled = resampler(irrad)\n",
    "    color = next(palette)\n",
    "    fig.line(resampled.index, resampled, legend=name, color=color, line_width=2)\n",
    "    fig.line(irrad.index, irrad, legend=name, color=color, line_width=2)\n",
    "fig.xaxis.axis_label = 'Time (UTC)'\n",
    "show(fig)"
   ]
  },
  {
   "cell_type": "code",
   "execution_count": null,
   "metadata": {},
   "outputs": [],
   "source": [
    "forecast = datamodel.Forecast(\n",
    "    name='NWP fx', \n",
    "    issue_time_of_day=datetime.time(0),  # 0Z\n",
    "    lead_time_to_start=pd.Timedelta('1hr'),\n",
    "    interval_length=pd.Timedelta('1hr'),\n",
    "    run_length=pd.Timedelta('24hr'),\n",
    "    interval_label='ending',\n",
    "    interval_value_type='mean',\n",
    "    variable='ghi',\n",
    "    site=site\n",
    ")"
   ]
  },
  {
   "cell_type": "markdown",
   "metadata": {},
   "source": [
    "## Persistence forecasts"
   ]
  },
  {
   "cell_type": "code",
   "execution_count": 8,
   "metadata": {},
   "outputs": [],
   "source": [
    "from solarforecastarbiter.reference_forecasts import persistence"
   ]
  }
 ],
 "metadata": {
  "kernelspec": {
   "display_name": "Python 3",
   "language": "python",
   "name": "python3"
  },
  "language_info": {
   "codemirror_mode": {
    "name": "ipython",
    "version": 3
   },
   "file_extension": ".py",
   "mimetype": "text/x-python",
   "name": "python",
   "nbconvert_exporter": "python",
   "pygments_lexer": "ipython3",
   "version": "3.7.3"
  }
 },
 "nbformat": 4,
 "nbformat_minor": 2
}
