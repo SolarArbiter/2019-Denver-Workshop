{
 "cells": [
  {
   "cell_type": "markdown",
   "metadata": {},
   "source": [
    "# Reference Forecasts\n",
    "\n",
    "This [Jupyter notebook](https://jupyter.org) is designed to introduce you to the [Solar Forecast Arbiter's](https://solarforecastarbiter.org/) built-in reference forecast capabilities. It is divided into 2 sections:\n",
    "\n",
    "1. [NWP-based forecasts](#NWP-based-forecasts)\n",
    "2. [Persistence forecasts](#persistence-forecasts)\n",
    "\n",
    "The API documentation is available [here](https://solarforecastarbiter-core.readthedocs.io/en/latest/reference_forecasts.html).\n",
    "\n",
    "Click the \">| Run\" button in the toolbar above or type shift-enter to run the code in each cell. The help menu contains a brief User Interface Tour."
   ]
  },
  {
   "cell_type": "code",
   "execution_count": 1,
   "metadata": {},
   "outputs": [
    {
     "data": {
      "text/html": [
       "\n",
       "    <div class=\"bk-root\">\n",
       "        <a href=\"https://bokeh.org\" target=\"_blank\" class=\"bk-logo bk-logo-small bk-logo-notebook\"></a>\n",
       "        <span id=\"1001\">Loading BokehJS ...</span>\n",
       "    </div>"
      ]
     },
     "metadata": {},
     "output_type": "display_data"
    },
    {
     "data": {
      "application/javascript": [
       "\n",
       "(function(root) {\n",
       "  function now() {\n",
       "    return new Date();\n",
       "  }\n",
       "\n",
       "  var force = true;\n",
       "\n",
       "  if (typeof root._bokeh_onload_callbacks === \"undefined\" || force === true) {\n",
       "    root._bokeh_onload_callbacks = [];\n",
       "    root._bokeh_is_loading = undefined;\n",
       "  }\n",
       "\n",
       "  var JS_MIME_TYPE = 'application/javascript';\n",
       "  var HTML_MIME_TYPE = 'text/html';\n",
       "  var EXEC_MIME_TYPE = 'application/vnd.bokehjs_exec.v0+json';\n",
       "  var CLASS_NAME = 'output_bokeh rendered_html';\n",
       "\n",
       "  /**\n",
       "   * Render data to the DOM node\n",
       "   */\n",
       "  function render(props, node) {\n",
       "    var script = document.createElement(\"script\");\n",
       "    node.appendChild(script);\n",
       "  }\n",
       "\n",
       "  /**\n",
       "   * Handle when an output is cleared or removed\n",
       "   */\n",
       "  function handleClearOutput(event, handle) {\n",
       "    var cell = handle.cell;\n",
       "\n",
       "    var id = cell.output_area._bokeh_element_id;\n",
       "    var server_id = cell.output_area._bokeh_server_id;\n",
       "    // Clean up Bokeh references\n",
       "    if (id != null && id in Bokeh.index) {\n",
       "      Bokeh.index[id].model.document.clear();\n",
       "      delete Bokeh.index[id];\n",
       "    }\n",
       "\n",
       "    if (server_id !== undefined) {\n",
       "      // Clean up Bokeh references\n",
       "      var cmd = \"from bokeh.io.state import curstate; print(curstate().uuid_to_server['\" + server_id + \"'].get_sessions()[0].document.roots[0]._id)\";\n",
       "      cell.notebook.kernel.execute(cmd, {\n",
       "        iopub: {\n",
       "          output: function(msg) {\n",
       "            var id = msg.content.text.trim();\n",
       "            if (id in Bokeh.index) {\n",
       "              Bokeh.index[id].model.document.clear();\n",
       "              delete Bokeh.index[id];\n",
       "            }\n",
       "          }\n",
       "        }\n",
       "      });\n",
       "      // Destroy server and session\n",
       "      var cmd = \"import bokeh.io.notebook as ion; ion.destroy_server('\" + server_id + \"')\";\n",
       "      cell.notebook.kernel.execute(cmd);\n",
       "    }\n",
       "  }\n",
       "\n",
       "  /**\n",
       "   * Handle when a new output is added\n",
       "   */\n",
       "  function handleAddOutput(event, handle) {\n",
       "    var output_area = handle.output_area;\n",
       "    var output = handle.output;\n",
       "\n",
       "    // limit handleAddOutput to display_data with EXEC_MIME_TYPE content only\n",
       "    if ((output.output_type != \"display_data\") || (!output.data.hasOwnProperty(EXEC_MIME_TYPE))) {\n",
       "      return\n",
       "    }\n",
       "\n",
       "    var toinsert = output_area.element.find(\".\" + CLASS_NAME.split(' ')[0]);\n",
       "\n",
       "    if (output.metadata[EXEC_MIME_TYPE][\"id\"] !== undefined) {\n",
       "      toinsert[toinsert.length - 1].firstChild.textContent = output.data[JS_MIME_TYPE];\n",
       "      // store reference to embed id on output_area\n",
       "      output_area._bokeh_element_id = output.metadata[EXEC_MIME_TYPE][\"id\"];\n",
       "    }\n",
       "    if (output.metadata[EXEC_MIME_TYPE][\"server_id\"] !== undefined) {\n",
       "      var bk_div = document.createElement(\"div\");\n",
       "      bk_div.innerHTML = output.data[HTML_MIME_TYPE];\n",
       "      var script_attrs = bk_div.children[0].attributes;\n",
       "      for (var i = 0; i < script_attrs.length; i++) {\n",
       "        toinsert[toinsert.length - 1].firstChild.setAttribute(script_attrs[i].name, script_attrs[i].value);\n",
       "      }\n",
       "      // store reference to server id on output_area\n",
       "      output_area._bokeh_server_id = output.metadata[EXEC_MIME_TYPE][\"server_id\"];\n",
       "    }\n",
       "  }\n",
       "\n",
       "  function register_renderer(events, OutputArea) {\n",
       "\n",
       "    function append_mime(data, metadata, element) {\n",
       "      // create a DOM node to render to\n",
       "      var toinsert = this.create_output_subarea(\n",
       "        metadata,\n",
       "        CLASS_NAME,\n",
       "        EXEC_MIME_TYPE\n",
       "      );\n",
       "      this.keyboard_manager.register_events(toinsert);\n",
       "      // Render to node\n",
       "      var props = {data: data, metadata: metadata[EXEC_MIME_TYPE]};\n",
       "      render(props, toinsert[toinsert.length - 1]);\n",
       "      element.append(toinsert);\n",
       "      return toinsert\n",
       "    }\n",
       "\n",
       "    /* Handle when an output is cleared or removed */\n",
       "    events.on('clear_output.CodeCell', handleClearOutput);\n",
       "    events.on('delete.Cell', handleClearOutput);\n",
       "\n",
       "    /* Handle when a new output is added */\n",
       "    events.on('output_added.OutputArea', handleAddOutput);\n",
       "\n",
       "    /**\n",
       "     * Register the mime type and append_mime function with output_area\n",
       "     */\n",
       "    OutputArea.prototype.register_mime_type(EXEC_MIME_TYPE, append_mime, {\n",
       "      /* Is output safe? */\n",
       "      safe: true,\n",
       "      /* Index of renderer in `output_area.display_order` */\n",
       "      index: 0\n",
       "    });\n",
       "  }\n",
       "\n",
       "  // register the mime type if in Jupyter Notebook environment and previously unregistered\n",
       "  if (root.Jupyter !== undefined) {\n",
       "    var events = require('base/js/events');\n",
       "    var OutputArea = require('notebook/js/outputarea').OutputArea;\n",
       "\n",
       "    if (OutputArea.prototype.mime_types().indexOf(EXEC_MIME_TYPE) == -1) {\n",
       "      register_renderer(events, OutputArea);\n",
       "    }\n",
       "  }\n",
       "\n",
       "  \n",
       "  if (typeof (root._bokeh_timeout) === \"undefined\" || force === true) {\n",
       "    root._bokeh_timeout = Date.now() + 5000;\n",
       "    root._bokeh_failed_load = false;\n",
       "  }\n",
       "\n",
       "  var NB_LOAD_WARNING = {'data': {'text/html':\n",
       "     \"<div style='background-color: #fdd'>\\n\"+\n",
       "     \"<p>\\n\"+\n",
       "     \"BokehJS does not appear to have successfully loaded. If loading BokehJS from CDN, this \\n\"+\n",
       "     \"may be due to a slow or bad network connection. Possible fixes:\\n\"+\n",
       "     \"</p>\\n\"+\n",
       "     \"<ul>\\n\"+\n",
       "     \"<li>re-rerun `output_notebook()` to attempt to load from CDN again, or</li>\\n\"+\n",
       "     \"<li>use INLINE resources instead, as so:</li>\\n\"+\n",
       "     \"</ul>\\n\"+\n",
       "     \"<code>\\n\"+\n",
       "     \"from bokeh.resources import INLINE\\n\"+\n",
       "     \"output_notebook(resources=INLINE)\\n\"+\n",
       "     \"</code>\\n\"+\n",
       "     \"</div>\"}};\n",
       "\n",
       "  function display_loaded() {\n",
       "    var el = document.getElementById(\"1001\");\n",
       "    if (el != null) {\n",
       "      el.textContent = \"BokehJS is loading...\";\n",
       "    }\n",
       "    if (root.Bokeh !== undefined) {\n",
       "      if (el != null) {\n",
       "        el.textContent = \"BokehJS \" + root.Bokeh.version + \" successfully loaded.\";\n",
       "      }\n",
       "    } else if (Date.now() < root._bokeh_timeout) {\n",
       "      setTimeout(display_loaded, 100)\n",
       "    }\n",
       "  }\n",
       "\n",
       "\n",
       "  function run_callbacks() {\n",
       "    try {\n",
       "      root._bokeh_onload_callbacks.forEach(function(callback) {\n",
       "        if (callback != null)\n",
       "          callback();\n",
       "      });\n",
       "    } finally {\n",
       "      delete root._bokeh_onload_callbacks\n",
       "    }\n",
       "    console.debug(\"Bokeh: all callbacks have finished\");\n",
       "  }\n",
       "\n",
       "  function load_libs(css_urls, js_urls, callback) {\n",
       "    if (css_urls == null) css_urls = [];\n",
       "    if (js_urls == null) js_urls = [];\n",
       "\n",
       "    root._bokeh_onload_callbacks.push(callback);\n",
       "    if (root._bokeh_is_loading > 0) {\n",
       "      console.debug(\"Bokeh: BokehJS is being loaded, scheduling callback at\", now());\n",
       "      return null;\n",
       "    }\n",
       "    if (js_urls == null || js_urls.length === 0) {\n",
       "      run_callbacks();\n",
       "      return null;\n",
       "    }\n",
       "    console.debug(\"Bokeh: BokehJS not loaded, scheduling load and callback at\", now());\n",
       "    root._bokeh_is_loading = css_urls.length + js_urls.length;\n",
       "\n",
       "    function on_load() {\n",
       "      root._bokeh_is_loading--;\n",
       "      if (root._bokeh_is_loading === 0) {\n",
       "        console.debug(\"Bokeh: all BokehJS libraries/stylesheets loaded\");\n",
       "        run_callbacks()\n",
       "      }\n",
       "    }\n",
       "\n",
       "    function on_error() {\n",
       "      console.error(\"failed to load \" + url);\n",
       "    }\n",
       "\n",
       "    for (var i = 0; i < css_urls.length; i++) {\n",
       "      var url = css_urls[i];\n",
       "      const element = document.createElement(\"link\");\n",
       "      element.onload = on_load;\n",
       "      element.onerror = on_error;\n",
       "      element.rel = \"stylesheet\";\n",
       "      element.type = \"text/css\";\n",
       "      element.href = url;\n",
       "      console.debug(\"Bokeh: injecting link tag for BokehJS stylesheet: \", url);\n",
       "      document.body.appendChild(element);\n",
       "    }\n",
       "\n",
       "    for (var i = 0; i < js_urls.length; i++) {\n",
       "      var url = js_urls[i];\n",
       "      var element = document.createElement('script');\n",
       "      element.onload = on_load;\n",
       "      element.onerror = on_error;\n",
       "      element.async = false;\n",
       "      element.src = url;\n",
       "      console.debug(\"Bokeh: injecting script tag for BokehJS library: \", url);\n",
       "      document.head.appendChild(element);\n",
       "    }\n",
       "  };var element = document.getElementById(\"1001\");\n",
       "  if (element == null) {\n",
       "    console.error(\"Bokeh: ERROR: autoload.js configured with elementid '1001' but no matching script tag was found. \")\n",
       "    return false;\n",
       "  }\n",
       "\n",
       "  function inject_raw_css(css) {\n",
       "    const element = document.createElement(\"style\");\n",
       "    element.appendChild(document.createTextNode(css));\n",
       "    document.body.appendChild(element);\n",
       "  }\n",
       "\n",
       "  \n",
       "  var js_urls = [\"https://cdn.pydata.org/bokeh/release/bokeh-1.4.0.min.js\", \"https://cdn.pydata.org/bokeh/release/bokeh-widgets-1.4.0.min.js\", \"https://cdn.pydata.org/bokeh/release/bokeh-tables-1.4.0.min.js\", \"https://cdn.pydata.org/bokeh/release/bokeh-gl-1.4.0.min.js\"];\n",
       "  var css_urls = [];\n",
       "  \n",
       "\n",
       "  var inline_js = [\n",
       "    function(Bokeh) {\n",
       "      Bokeh.set_log_level(\"info\");\n",
       "    },\n",
       "    function(Bokeh) {\n",
       "    \n",
       "    \n",
       "    }\n",
       "  ];\n",
       "\n",
       "  function run_inline_js() {\n",
       "    \n",
       "    if (root.Bokeh !== undefined || force === true) {\n",
       "      \n",
       "    for (var i = 0; i < inline_js.length; i++) {\n",
       "      inline_js[i].call(root, root.Bokeh);\n",
       "    }\n",
       "    if (force === true) {\n",
       "        display_loaded();\n",
       "      }} else if (Date.now() < root._bokeh_timeout) {\n",
       "      setTimeout(run_inline_js, 100);\n",
       "    } else if (!root._bokeh_failed_load) {\n",
       "      console.log(\"Bokeh: BokehJS failed to load within specified timeout.\");\n",
       "      root._bokeh_failed_load = true;\n",
       "    } else if (force !== true) {\n",
       "      var cell = $(document.getElementById(\"1001\")).parents('.cell').data().cell;\n",
       "      cell.output_area.append_execute_result(NB_LOAD_WARNING)\n",
       "    }\n",
       "\n",
       "  }\n",
       "\n",
       "  if (root._bokeh_is_loading === 0) {\n",
       "    console.debug(\"Bokeh: BokehJS loaded, going straight to plotting\");\n",
       "    run_inline_js();\n",
       "  } else {\n",
       "    load_libs(css_urls, js_urls, function() {\n",
       "      console.debug(\"Bokeh: BokehJS plotting callback run at\", now());\n",
       "      run_inline_js();\n",
       "    });\n",
       "  }\n",
       "}(window));"
      ],
      "application/vnd.bokehjs_load.v0+json": "\n(function(root) {\n  function now() {\n    return new Date();\n  }\n\n  var force = true;\n\n  if (typeof root._bokeh_onload_callbacks === \"undefined\" || force === true) {\n    root._bokeh_onload_callbacks = [];\n    root._bokeh_is_loading = undefined;\n  }\n\n  \n\n  \n  if (typeof (root._bokeh_timeout) === \"undefined\" || force === true) {\n    root._bokeh_timeout = Date.now() + 5000;\n    root._bokeh_failed_load = false;\n  }\n\n  var NB_LOAD_WARNING = {'data': {'text/html':\n     \"<div style='background-color: #fdd'>\\n\"+\n     \"<p>\\n\"+\n     \"BokehJS does not appear to have successfully loaded. If loading BokehJS from CDN, this \\n\"+\n     \"may be due to a slow or bad network connection. Possible fixes:\\n\"+\n     \"</p>\\n\"+\n     \"<ul>\\n\"+\n     \"<li>re-rerun `output_notebook()` to attempt to load from CDN again, or</li>\\n\"+\n     \"<li>use INLINE resources instead, as so:</li>\\n\"+\n     \"</ul>\\n\"+\n     \"<code>\\n\"+\n     \"from bokeh.resources import INLINE\\n\"+\n     \"output_notebook(resources=INLINE)\\n\"+\n     \"</code>\\n\"+\n     \"</div>\"}};\n\n  function display_loaded() {\n    var el = document.getElementById(\"1001\");\n    if (el != null) {\n      el.textContent = \"BokehJS is loading...\";\n    }\n    if (root.Bokeh !== undefined) {\n      if (el != null) {\n        el.textContent = \"BokehJS \" + root.Bokeh.version + \" successfully loaded.\";\n      }\n    } else if (Date.now() < root._bokeh_timeout) {\n      setTimeout(display_loaded, 100)\n    }\n  }\n\n\n  function run_callbacks() {\n    try {\n      root._bokeh_onload_callbacks.forEach(function(callback) {\n        if (callback != null)\n          callback();\n      });\n    } finally {\n      delete root._bokeh_onload_callbacks\n    }\n    console.debug(\"Bokeh: all callbacks have finished\");\n  }\n\n  function load_libs(css_urls, js_urls, callback) {\n    if (css_urls == null) css_urls = [];\n    if (js_urls == null) js_urls = [];\n\n    root._bokeh_onload_callbacks.push(callback);\n    if (root._bokeh_is_loading > 0) {\n      console.debug(\"Bokeh: BokehJS is being loaded, scheduling callback at\", now());\n      return null;\n    }\n    if (js_urls == null || js_urls.length === 0) {\n      run_callbacks();\n      return null;\n    }\n    console.debug(\"Bokeh: BokehJS not loaded, scheduling load and callback at\", now());\n    root._bokeh_is_loading = css_urls.length + js_urls.length;\n\n    function on_load() {\n      root._bokeh_is_loading--;\n      if (root._bokeh_is_loading === 0) {\n        console.debug(\"Bokeh: all BokehJS libraries/stylesheets loaded\");\n        run_callbacks()\n      }\n    }\n\n    function on_error() {\n      console.error(\"failed to load \" + url);\n    }\n\n    for (var i = 0; i < css_urls.length; i++) {\n      var url = css_urls[i];\n      const element = document.createElement(\"link\");\n      element.onload = on_load;\n      element.onerror = on_error;\n      element.rel = \"stylesheet\";\n      element.type = \"text/css\";\n      element.href = url;\n      console.debug(\"Bokeh: injecting link tag for BokehJS stylesheet: \", url);\n      document.body.appendChild(element);\n    }\n\n    for (var i = 0; i < js_urls.length; i++) {\n      var url = js_urls[i];\n      var element = document.createElement('script');\n      element.onload = on_load;\n      element.onerror = on_error;\n      element.async = false;\n      element.src = url;\n      console.debug(\"Bokeh: injecting script tag for BokehJS library: \", url);\n      document.head.appendChild(element);\n    }\n  };var element = document.getElementById(\"1001\");\n  if (element == null) {\n    console.error(\"Bokeh: ERROR: autoload.js configured with elementid '1001' but no matching script tag was found. \")\n    return false;\n  }\n\n  function inject_raw_css(css) {\n    const element = document.createElement(\"style\");\n    element.appendChild(document.createTextNode(css));\n    document.body.appendChild(element);\n  }\n\n  \n  var js_urls = [\"https://cdn.pydata.org/bokeh/release/bokeh-1.4.0.min.js\", \"https://cdn.pydata.org/bokeh/release/bokeh-widgets-1.4.0.min.js\", \"https://cdn.pydata.org/bokeh/release/bokeh-tables-1.4.0.min.js\", \"https://cdn.pydata.org/bokeh/release/bokeh-gl-1.4.0.min.js\"];\n  var css_urls = [];\n  \n\n  var inline_js = [\n    function(Bokeh) {\n      Bokeh.set_log_level(\"info\");\n    },\n    function(Bokeh) {\n    \n    \n    }\n  ];\n\n  function run_inline_js() {\n    \n    if (root.Bokeh !== undefined || force === true) {\n      \n    for (var i = 0; i < inline_js.length; i++) {\n      inline_js[i].call(root, root.Bokeh);\n    }\n    if (force === true) {\n        display_loaded();\n      }} else if (Date.now() < root._bokeh_timeout) {\n      setTimeout(run_inline_js, 100);\n    } else if (!root._bokeh_failed_load) {\n      console.log(\"Bokeh: BokehJS failed to load within specified timeout.\");\n      root._bokeh_failed_load = true;\n    } else if (force !== true) {\n      var cell = $(document.getElementById(\"1001\")).parents('.cell').data().cell;\n      cell.output_area.append_execute_result(NB_LOAD_WARNING)\n    }\n\n  }\n\n  if (root._bokeh_is_loading === 0) {\n    console.debug(\"Bokeh: BokehJS loaded, going straight to plotting\");\n    run_inline_js();\n  } else {\n    load_libs(css_urls, js_urls, function() {\n      console.debug(\"Bokeh: BokehJS plotting callback run at\", now());\n      run_inline_js();\n    });\n  }\n}(window));"
     },
     "metadata": {},
     "output_type": "display_data"
    }
   ],
   "source": [
    "import datetime\n",
    "from functools import partial\n",
    "from pathlib import Path\n",
    "\n",
    "import numpy as np\n",
    "import pandas as pd\n",
    "\n",
    "from bokeh.core.properties import value\n",
    "from bokeh.io import output_notebook\n",
    "from bokeh.layouts import gridplot\n",
    "from bokeh.models import ColumnDataSource\n",
    "from bokeh.plotting import figure, show\n",
    "from bokeh import palettes\n",
    "from bokeh.palettes import Category10_10 as PALETTE\n",
    "TOOLS = \"pan,box_zoom,xwheel_zoom,reset,save\"\n",
    "output_notebook()"
   ]
  },
  {
   "cell_type": "code",
   "execution_count": 2,
   "metadata": {},
   "outputs": [],
   "source": [
    "from solarforecastarbiter import datamodel"
   ]
  },
  {
   "cell_type": "markdown",
   "metadata": {},
   "source": [
    "## NWP-based forecasts\n",
    "\n",
    "Forecasts based on NWP model data are used for intraday and longer forecasts. The Solar Forecast Arbiter contains a set of functions to process data from NWP forecasts. Here, we explore some of the functionality with an emphasis on obtaining results. See the [NWP section of the documentation](https://solarforecastarbiter-core.readthedocs.io/en/latest/reference_forecasts.html#nwp) for additional information."
   ]
  },
  {
   "cell_type": "markdown",
   "metadata": {},
   "source": [
    "The `solarforecastarbiter` package includes a handful of subsetted NWP model runs for testing. We'll use these for our demonstration below. The models were all initialized at 2019-05-15 00Z and the subsets include about half a degree of latitude and longitude near Tucson, AZ."
   ]
  },
  {
   "cell_type": "code",
   "execution_count": 3,
   "metadata": {},
   "outputs": [],
   "source": [
    "from solarforecastarbiter.io import nwp\n",
    "# find the files\n",
    "base_path = Path(nwp.__file__).resolve().parents[0] / 'tests/data'\n",
    "# define file loading function that knows where to find the files\n",
    "load_forecast = partial(nwp.load_forecast, base_path=base_path)"
   ]
  },
  {
   "cell_type": "code",
   "execution_count": 4,
   "metadata": {},
   "outputs": [],
   "source": [
    "# define coordinates\n",
    "latitude = 32.2\n",
    "longitude = -110.9\n",
    "elevation = 700\n",
    "\n",
    "# define initialization time, start time, end time, run time, issue time\n",
    "init_time = pd.Timestamp('20190515T0000Z')\n",
    "start = pd.Timestamp('20190515T0100Z')\n",
    "end = pd.Timestamp('20190518T0000Z')\n",
    "run_time = pd.Timestamp('20190515T0200Z')\n",
    "issue_time = pd.Timestamp('20190515T0000Z')"
   ]
  },
  {
   "cell_type": "markdown",
   "metadata": {},
   "source": [
    "The Solar Forecast Arbiter organizes its metadata and data according to the ideas described in the [data model](https://solarforecastarbiter.org/datamodel/). The `solarforecastarbiter` package implements this data model in `solarforecastarbiter.datamodel`. Here, we define a `Site` object for which to make forecasts."
   ]
  },
  {
   "cell_type": "code",
   "execution_count": 5,
   "metadata": {},
   "outputs": [],
   "source": [
    "# define a Site object\n",
    "site = datamodel.Site(\n",
    "    name='Tucson, AZ',\n",
    "    latitude=latitude,\n",
    "    longitude=longitude,\n",
    "    elevation=elevation,\n",
    "    timezone='America/Phoenix'\n",
    ")\n",
    "\n",
    "# define a Forecast object\n",
    "forecast = datamodel.Forecast(\n",
    "    name='OASIS DA GHI',\n",
    "    site=site,\n",
    "    variable='ghi',\n",
    "    interval_label='instant',\n",
    "    interval_value_type='interval_mean',\n",
    "    interval_length='1h',\n",
    "    issue_time_of_day=datetime.time(hour=0),\n",
    "    run_length=pd.Timedelta('24h'),\n",
    "    lead_time_to_start=pd.Timedelta('0h')\n",
    ")"
   ]
  },
  {
   "cell_type": "markdown",
   "metadata": {},
   "source": [
    "Next we select a NWP+post processing model, load and process the data, and plot the processed data.\n",
    "\n",
    "Here we use the subhourly irradiance directly from the HRRR model."
   ]
  },
  {
   "cell_type": "code",
   "execution_count": 6,
   "metadata": {},
   "outputs": [],
   "source": [
    "# import the relevant python modules\n",
    "from solarforecastarbiter.reference_forecasts import main, models\n",
    "\n",
    "# select the model\n",
    "model = models.hrrr_subhourly_to_subhourly_instantaneous\n",
    "\n",
    "# tell the model where to find the NWP data\n",
    "model_wrapped = partial(model, load_forecast=load_forecast)\n",
    "\n",
    "# load and process the NWP data. ac_power is None because site is not a power plant.\n",
    "ghi, dni, dhi, air_temperature, wind_speed, ac_power = main.run_nwp(forecast, model_wrapped, run_time, issue_time)"
   ]
  },
  {
   "cell_type": "code",
   "execution_count": 7,
   "metadata": {},
   "outputs": [
    {
     "data": {
      "text/plain": [
       "time\n",
       "2019-05-15 00:00:00+00:00    418.0\n",
       "2019-05-15 00:15:00+00:00    395.0\n",
       "2019-05-15 00:30:00+00:00    324.0\n",
       "2019-05-15 00:45:00+00:00    270.0\n",
       "2019-05-15 01:00:00+00:00    212.0\n",
       "Freq: 15T, Name: ghi, dtype: float32"
      ]
     },
     "execution_count": 7,
     "metadata": {},
     "output_type": "execute_result"
    }
   ],
   "source": [
    "ghi.head()"
   ]
  },
  {
   "cell_type": "markdown",
   "metadata": {},
   "source": [
    "Here's a function that will make a plot of the processed NWP data. The details of the function are not important for this exercise."
   ]
  },
  {
   "cell_type": "code",
   "execution_count": 8,
   "metadata": {},
   "outputs": [],
   "source": [
    "def plot_nwp(ghi, dni, dhi, air_temperature, wind_speed, ac_power):\n",
    "    \"\"\"Make a plot of the variables from processed NWP forecasts\"\"\"\n",
    "    # data prep\n",
    "    if ac_power is None:\n",
    "        ac_power = pd.Series(np.nan, index=ghi.index)\n",
    "    data = dict(zip(('GHI', 'DNI', 'DHI', 'Air temperature', 'Wind speed', 'AC power', 'index'),\n",
    "                    (ghi, dni, dhi, air_temperature, wind_speed, ac_power, ghi.index)))\n",
    "    source = ColumnDataSource(data)\n",
    "\n",
    "    figs = []\n",
    "    fig_kwargs = dict(tools=TOOLS, x_axis_type=\"datetime\", plot_height=200)\n",
    "    palette = iter(PALETTE)\n",
    "    \n",
    "    # irradiance figure\n",
    "    fig1 = figure(**fig_kwargs)\n",
    "    for name in ('GHI', 'DNI', 'DHI'):\n",
    "        fig1.line(x='index', y=name, source=source, legend_label=name, color=next(palette), line_width=2)\n",
    "    fig1.yaxis.axis_label = \"Irradiance (W/m^2)\"\n",
    "    fig1.legend.location = \"top_left\"\n",
    "    figs.append(fig1)\n",
    "\n",
    "    # air temperature figure\n",
    "    fig_kwargs['x_range'] = fig1.x_range  # link x-zoom\n",
    "    fig2 = figure(**fig_kwargs)\n",
    "    fig2.line(x='index', y='Air temperature', source=source, legend_label=\"Air temperature\", color=next(palette), line_width=2)\n",
    "    fig2.yaxis.axis_label = \"Air temperature (C)\"\n",
    "    fig2.legend.location = \"top_left\"\n",
    "    figs.append(fig2)\n",
    "\n",
    "    # wind speed figure\n",
    "    fig3 = figure(**fig_kwargs)\n",
    "    fig3.line(x='index', y='Wind speed', source=source, legend_label=\"Wind speed\", color=next(palette), line_width=2)\n",
    "    fig3.yaxis.axis_label = \"Wind speed (m/s)\"\n",
    "    fig3.legend.location = \"top_left\"\n",
    "    figs.append(fig3)\n",
    "\n",
    "    # ac power figure\n",
    "    if not ac_power.dropna().empty:\n",
    "        fig4 = figure(**fig_kwargs)\n",
    "        fig4.line(x='index', y='AC power', source=source, legend_label=\"AC power\", color=next(palette), line_width=2)\n",
    "        fig4.yaxis.axis_label = \"AC power (MW)\"\n",
    "        fig4.legend.location = \"top_left\"\n",
    "        figs.append(fig4)\n",
    "    \n",
    "    figs[-1].xaxis.axis_label = 'Time (UTC)'\n",
    "\n",
    "    grid = gridplot(figs, ncols=1, plot_width=800)\n",
    "    return grid"
   ]
  },
  {
   "cell_type": "markdown",
   "metadata": {},
   "source": [
    "Use the function to plot the HRRR data."
   ]
  },
  {
   "cell_type": "code",
   "execution_count": 9,
   "metadata": {},
   "outputs": [
    {
     "data": {
      "text/html": [
       "\n",
       "\n",
       "\n",
       "\n",
       "\n",
       "\n",
       "  <div class=\"bk-root\" id=\"d51d940a-eff5-4de5-9007-5386a7a727c1\" data-root-id=\"1292\"></div>\n"
      ]
     },
     "metadata": {},
     "output_type": "display_data"
    },
    {
     "data": {
      "application/javascript": [
       "(function(root) {\n",
       "  function embed_document(root) {\n",
       "    \n",
       "  var docs_json = {\"efecbc5f-1354-4bce-a33f-90efc9f01568\":{\"roots\":{\"references\":[{\"attributes\":{\"children\":[{\"id\":\"1291\",\"type\":\"ToolbarBox\"},{\"id\":\"1289\",\"type\":\"GridBox\"}]},\"id\":\"1292\",\"type\":\"Column\"},{\"attributes\":{},\"id\":\"1043\",\"type\":\"DatetimeTickFormatter\"},{\"attributes\":{\"items\":[{\"id\":\"1222\",\"type\":\"LegendItem\"}],\"location\":\"top_left\"},\"id\":\"1221\",\"type\":\"Legend\"},{\"attributes\":{\"label\":{\"value\":\"Wind speed\"},\"renderers\":[{\"id\":\"1200\",\"type\":\"GlyphRenderer\"}]},\"id\":\"1222\",\"type\":\"LegendItem\"},{\"attributes\":{\"text\":\"\"},\"id\":\"1202\",\"type\":\"Title\"},{\"attributes\":{\"mantissas\":[1,2,5],\"max_interval\":500.0,\"num_minor_ticks\":0},\"id\":\"1153\",\"type\":\"AdaptiveTicker\"},{\"attributes\":{\"base\":60,\"mantissas\":[1,2,5,10,15,20,30],\"max_interval\":1800000.0,\"min_interval\":1000.0,\"num_minor_ticks\":0},\"id\":\"1154\",\"type\":\"AdaptiveTicker\"},{\"attributes\":{\"days\":[1,2,3,4,5,6,7,8,9,10,11,12,13,14,15,16,17,18,19,20,21,22,23,24,25,26,27,28,29,30,31]},\"id\":\"1156\",\"type\":\"DaysTicker\"},{\"attributes\":{\"base\":24,\"mantissas\":[1,2,4,6,8,12],\"max_interval\":43200000.0,\"min_interval\":3600000.0,\"num_minor_ticks\":0},\"id\":\"1155\",\"type\":\"AdaptiveTicker\"},{\"attributes\":{\"callback\":null},\"id\":\"1115\",\"type\":\"DataRange1d\"},{\"attributes\":{\"months\":[0,1,2,3,4,5,6,7,8,9,10,11]},\"id\":\"1160\",\"type\":\"MonthsTicker\"},{\"attributes\":{\"months\":[0,2,4,6,8,10]},\"id\":\"1161\",\"type\":\"MonthsTicker\"},{\"attributes\":{\"dimension\":1,\"ticker\":{\"id\":\"1018\",\"type\":\"BasicTicker\"}},\"id\":\"1021\",\"type\":\"Grid\"},{\"attributes\":{\"line_color\":\"#2ca02c\",\"line_width\":2,\"x\":{\"field\":\"index\"},\"y\":{\"field\":\"DHI\"}},\"id\":\"1087\",\"type\":\"Line\"},{\"attributes\":{\"days\":[1,4,7,10,13,16,19,22,25,28]},\"id\":\"1157\",\"type\":\"DaysTicker\"},{\"attributes\":{\"line_alpha\":0.1,\"line_color\":\"#1f77b4\",\"line_width\":2,\"x\":{\"field\":\"index\"},\"y\":{\"field\":\"DHI\"}},\"id\":\"1088\",\"type\":\"Line\"},{\"attributes\":{\"days\":[1,15]},\"id\":\"1159\",\"type\":\"DaysTicker\"},{\"attributes\":{},\"id\":\"1041\",\"type\":\"BasicTickFormatter\"},{\"attributes\":{\"source\":{\"id\":\"1002\",\"type\":\"ColumnDataSource\"}},\"id\":\"1090\",\"type\":\"CDSView\"},{\"attributes\":{\"months\":[0,6]},\"id\":\"1163\",\"type\":\"MonthsTicker\"},{\"attributes\":{\"label\":{\"value\":\"DHI\"},\"renderers\":[{\"id\":\"1089\",\"type\":\"GlyphRenderer\"}]},\"id\":\"1112\",\"type\":\"LegendItem\"},{\"attributes\":{\"days\":[1,8,15,22]},\"id\":\"1158\",\"type\":\"DaysTicker\"},{\"attributes\":{},\"id\":\"1119\",\"type\":\"LinearScale\"},{\"attributes\":{},\"id\":\"1164\",\"type\":\"YearsTicker\"},{\"attributes\":{\"months\":[0,4,8]},\"id\":\"1162\",\"type\":\"MonthsTicker\"},{\"attributes\":{},\"id\":\"1117\",\"type\":\"LinearScale\"},{\"attributes\":{},\"id\":\"1205\",\"type\":\"BasicTickFormatter\"},{\"attributes\":{\"below\":[{\"id\":\"1012\",\"type\":\"DatetimeAxis\"}],\"center\":[{\"id\":\"1016\",\"type\":\"Grid\"},{\"id\":\"1021\",\"type\":\"Grid\"},{\"id\":\"1057\",\"type\":\"Legend\"}],\"left\":[{\"id\":\"1017\",\"type\":\"LinearAxis\"}],\"plot_height\":200,\"plot_width\":800,\"renderers\":[{\"id\":\"1036\",\"type\":\"GlyphRenderer\"},{\"id\":\"1062\",\"type\":\"GlyphRenderer\"},{\"id\":\"1089\",\"type\":\"GlyphRenderer\"}],\"title\":{\"id\":\"1038\",\"type\":\"Title\"},\"toolbar\":{\"id\":\"1027\",\"type\":\"Toolbar\"},\"toolbar_location\":null,\"x_range\":{\"id\":\"1004\",\"type\":\"DataRange1d\"},\"x_scale\":{\"id\":\"1008\",\"type\":\"LinearScale\"},\"y_range\":{\"id\":\"1006\",\"type\":\"DataRange1d\"},\"y_scale\":{\"id\":\"1010\",\"type\":\"LinearScale\"}},\"id\":\"1003\",\"subtype\":\"Figure\",\"type\":\"Plot\"},{\"attributes\":{\"bottom_units\":\"screen\",\"fill_alpha\":{\"value\":0.5},\"fill_color\":{\"value\":\"lightgrey\"},\"left_units\":\"screen\",\"level\":\"overlay\",\"line_alpha\":{\"value\":1.0},\"line_color\":{\"value\":\"black\"},\"line_dash\":[4,4],\"line_width\":{\"value\":2},\"render_mode\":\"css\",\"right_units\":\"screen\",\"top_units\":\"screen\"},\"id\":\"1165\",\"type\":\"BoxAnnotation\"},{\"attributes\":{\"callback\":null,\"data\":{\"AC power\":{\"__ndarray__\":\"AAAAAAAA+H8AAAAAAAD4fwAAAAAAAPh/AAAAAAAA+H8AAAAAAAD4fwAAAAAAAPh/AAAAAAAA+H8AAAAAAAD4fwAAAAAAAPh/AAAAAAAA+H8AAAAAAAD4fwAAAAAAAPh/AAAAAAAA+H8AAAAAAAD4fwAAAAAAAPh/AAAAAAAA+H8AAAAAAAD4fwAAAAAAAPh/AAAAAAAA+H8AAAAAAAD4fwAAAAAAAPh/AAAAAAAA+H8AAAAAAAD4fwAAAAAAAPh/AAAAAAAA+H8AAAAAAAD4fwAAAAAAAPh/AAAAAAAA+H8AAAAAAAD4fwAAAAAAAPh/AAAAAAAA+H8AAAAAAAD4fwAAAAAAAPh/AAAAAAAA+H8AAAAAAAD4fwAAAAAAAPh/AAAAAAAA+H8AAAAAAAD4fwAAAAAAAPh/AAAAAAAA+H8AAAAAAAD4fwAAAAAAAPh/AAAAAAAA+H8AAAAAAAD4fwAAAAAAAPh/AAAAAAAA+H8AAAAAAAD4fwAAAAAAAPh/AAAAAAAA+H8AAAAAAAD4fwAAAAAAAPh/AAAAAAAA+H8AAAAAAAD4fwAAAAAAAPh/AAAAAAAA+H8AAAAAAAD4fwAAAAAAAPh/AAAAAAAA+H8AAAAAAAD4fwAAAAAAAPh/AAAAAAAA+H8AAAAAAAD4fwAAAAAAAPh/AAAAAAAA+H8AAAAAAAD4fwAAAAAAAPh/AAAAAAAA+H8AAAAAAAD4fwAAAAAAAPh/AAAAAAAA+H8AAAAAAAD4fwAAAAAAAPh/AAAAAAAA+H8=\",\"dtype\":\"float64\",\"shape\":[73]},\"Air temperature\":{\"__ndarray__\":\"0NzKQdBcyEHQ3MZB0OzEQdDswkHQnMBB0Jy+QdAsu0HQ/LVB0PyyQdAssUHQHK9B0JysQdBcpkHQnJ9B0KybQdAsmEHQvJVB0LyTQdA8kUHQLI9B0KyOQdDsjUHQDI1B0HyMQdB8j0HQnJlB0KybQdAsn0HQbKFB0KygQdAMoEHQ7KBB0PyaQdAMkUHQvIxB0AyKQdCciEHQPIZB0HyEQdDcgUGg2X5BoDl4QaC5b0GgGWpBoJllQaD5YkGgOV9BoDlcQaAZWkGgGVhBoLlZQaD5ZEGguXBB0AyCQdAcjUHQrJlB0MydQdB8oUHQPKNB0EymQdA8qkHQ7K1B0OywQdActUHQfLpB0Fy/QdBsxEHQrMdB0IzKQdC8zEHQzM5B0CzQQQ==\",\"dtype\":\"float32\",\"shape\":[73]},\"DHI\":{\"__ndarray__\":\"AACtQgDAmUIAQLFCAKCmQgCgo0IAgF1CAEAlQgAAv0EAAAVBAAAAAAAAAAAAAAAAAAAAAAAAAAAAAAAAAAAAAAAAAAAAAAAAAAAAAAAAAAAAAAAAAAAAAAAAAAAAAAAAAAAAAAAAAAAAAAAAAAAAAAAAAAAAAAAAAAAAAAAAAAAAAAAAAAAAAAAAAAAAAAAAAAAAAAAAAAAAAAAAAAAAAAAAAAAAAAAAAAAAAAAAAAAAAAAAAAAAAAAAAAAAAAAAAAAAAAAAAAAAAAAAAICmQQAA+EEAgDRCAEBZQgAAdkIAAIdCAECQQgAAm0IAQKZCAMDHQgCgvEIAoLBCAMDFQgAAwkIAoNZCACAoQwBQOkMAUBBDAKACQwDAjEMAMGZDANA8Qw==\",\"dtype\":\"float32\",\"shape\":[73]},\"DNI\":{\"__ndarray__\":\"AEA9RABAPUQAgBVEAIAPRAAA8kMAAOhDAICPQwAAmUMAABJDAAAAAAAAAAAAAAAAAAAAAAAAAAAAAAAAAAAAAAAAAAAAAAAAAAAAAAAAAAAAAAAAAAAAAAAAAAAAAAAAAAAAAAAAAAAAAAAAAAAAAAAAAAAAAAAAAAAAAAAAAAAAAAAAAAAAAAAAAAAAAAAAAAAAAAAAAAAAAAAAAAAAAAAAAAAAAAAAAAAAAAAAAAAAAAAAAAAAAAAAAAAAAAAAAAAAAAAAAAAAAAAAAACyQgCAhUMAgMxDAEACRADAF0QAgChEAMA2RABAQUQAAEhEAIBKRAAAUkQAAFxEAIBeRACAY0QAgGNEAABXRAAAUkQAgGNEAIBoRACAO0QAgE9EAABcRA==\",\"dtype\":\"float32\",\"shape\":[73]},\"GHI\":{\"__ndarray__\":\"AADRQwCAxUMAAKJDAACHQwAAVEMAACJDAADQQgAAhEIAANBBAAAAAAAAAAAAAAAAAAAAAAAAAAAAAAAAAAAAAAAAAAAAAAAAAAAAAAAAAAAAAAAAAAAAAAAAAAAAAAAAAAAAAAAAAAAAAAAAAAAAAAAAAAAAAAAAAAAAAAAAAAAAAAAAAAAAAAAAAAAAAAAAAAAAAAAAAAAAAAAAAAAAAAAAAAAAAAAAAAAAAAAAAAAAAAAAAAAAAAAAAAAAAAAAAAAAAAAAAAAAAAAAAABQQQAASEIAAMBCAAAUQwAATEMAgIJDAICgQwCAvUMAgNpDAAD2QwBACUQAQBdEAEAkRACAMUQAgDtEAIBFRACAT0QAAFxEAABmRACAaEQAgHJEAAB6RA==\",\"dtype\":\"float32\",\"shape\":[73]},\"Wind speed\":{\"__ndarray__\":\"AAAVQAAAa0AAgFtAAABLQACAVEAAAGBAAABlQACAcUAAAINAAICTQABAikAAgINAAIBrQACASEAAgCZAAADcPwAAjz8AAHA/AAA+PwAACD8AAGI/AADRPwAADUAAgCtAAAA+QACAbkAAwKhAAIALQQAgBkEAAOZAAIDVQABAt0AAAJNAAIBrQACANkAAgCZAAIA0QACAVkAAgEBAAAA0QAAAJkAAgAdAAACDPwAAvD4AAIw/AAC2PwAAwD8AAMk/AACoPwAA3D4AADg+AAD0PgAACj8AAKA/AAAsPwAAuD4AADA/AACPPwAA4z8AAPo/AADoPwAA9D8AgA5AAIAXQACAF0AAgB5AAAA8QAAAbkAAQIxAAICTQACAlEAAgJRAAACPQA==\",\"dtype\":\"float32\",\"shape\":[73]},\"index\":{\"__ndarray__\":\"AABAnoyrdkIAAPp5jat2QgAAtFWOq3ZCAABuMY+rdkIAACgNkKt2QgAA4uiQq3ZCAACcxJGrdkIAAFagkqt2QgAAEHyTq3ZCAADKV5SrdkIAAIQzlat2QgAAPg+Wq3ZCAAD46pardkIAALLGl6t2QgAAbKKYq3ZCAAAmfpmrdkIAAOBZmqt2QgAAmjWbq3ZCAABUEZyrdkIAAA7tnKt2QgAAyMidq3ZCAACCpJ6rdkIAADyAn6t2QgAA9lugq3ZCAACwN6GrdkIAAGoToqt2QgAAJO+iq3ZCAADeyqOrdkIAAJimpKt2QgAAUoKlq3ZCAAAMXqardkIAAMY5p6t2QgAAgBWoq3ZCAAA68airdkIAAPTMqat2QgAArqiqq3ZCAABohKurdkIAACJgrKt2QgAA3Dutq3ZCAACWF66rdkIAAFDzrqt2QgAACs+vq3ZCAADEqrCrdkIAAH6Gsat2QgAAOGKyq3ZCAADyPbOrdkIAAKwZtKt2QgAAZvW0q3ZCAAAg0bWrdkIAANqstqt2QgAAlIi3q3ZCAABOZLirdkIAAAhAuat2QgAAwhu6q3ZCAAB897qrdkIAADbTu6t2QgAA8K68q3ZCAACqir2rdkIAAGRmvqt2QgAAHkK/q3ZCAADYHcCrdkIAAJL5wKt2QgAATNXBq3ZCAAAGscKrdkIAAMCMw6t2QgAAemjEq3ZCAAA0RMWrdkIAAO4fxqt2QgAAqPvGq3ZCAABi18erdkIAAByzyKt2QgAA1o7Jq3ZCAACQasqrdkI=\",\"dtype\":\"float64\",\"shape\":[73]}},\"selected\":{\"id\":\"1083\",\"type\":\"Selection\"},\"selection_policy\":{\"id\":\"1084\",\"type\":\"UnionRenderers\"}},\"id\":\"1002\",\"type\":\"ColumnDataSource\"},{\"attributes\":{},\"id\":\"1207\",\"type\":\"DatetimeTickFormatter\"},{\"attributes\":{\"ticker\":{\"id\":\"1122\",\"type\":\"DatetimeTicker\"}},\"id\":\"1125\",\"type\":\"Grid\"},{\"attributes\":{\"axis_label\":\"Air temperature (C)\",\"formatter\":{\"id\":\"1150\",\"type\":\"BasicTickFormatter\"},\"ticker\":{\"id\":\"1127\",\"type\":\"BasicTicker\"}},\"id\":\"1126\",\"type\":\"LinearAxis\"},{\"attributes\":{\"formatter\":{\"id\":\"1152\",\"type\":\"DatetimeTickFormatter\"},\"ticker\":{\"id\":\"1122\",\"type\":\"DatetimeTicker\"}},\"id\":\"1121\",\"type\":\"DatetimeAxis\"},{\"attributes\":{\"below\":[{\"id\":\"1121\",\"type\":\"DatetimeAxis\"}],\"center\":[{\"id\":\"1125\",\"type\":\"Grid\"},{\"id\":\"1130\",\"type\":\"Grid\"},{\"id\":\"1166\",\"type\":\"Legend\"}],\"left\":[{\"id\":\"1126\",\"type\":\"LinearAxis\"}],\"plot_height\":200,\"plot_width\":800,\"renderers\":[{\"id\":\"1145\",\"type\":\"GlyphRenderer\"}],\"title\":{\"id\":\"1147\",\"type\":\"Title\"},\"toolbar\":{\"id\":\"1136\",\"type\":\"Toolbar\"},\"toolbar_location\":null,\"x_range\":{\"id\":\"1004\",\"type\":\"DataRange1d\"},\"x_scale\":{\"id\":\"1117\",\"type\":\"LinearScale\"},\"y_range\":{\"id\":\"1115\",\"type\":\"DataRange1d\"},\"y_scale\":{\"id\":\"1119\",\"type\":\"LinearScale\"}},\"id\":\"1113\",\"subtype\":\"Figure\",\"type\":\"Plot\"},{\"attributes\":{\"mantissas\":[1,2,5],\"max_interval\":500.0,\"num_minor_ticks\":0},\"id\":\"1208\",\"type\":\"AdaptiveTicker\"},{\"attributes\":{\"num_minor_ticks\":5,\"tickers\":[{\"id\":\"1153\",\"type\":\"AdaptiveTicker\"},{\"id\":\"1154\",\"type\":\"AdaptiveTicker\"},{\"id\":\"1155\",\"type\":\"AdaptiveTicker\"},{\"id\":\"1156\",\"type\":\"DaysTicker\"},{\"id\":\"1157\",\"type\":\"DaysTicker\"},{\"id\":\"1158\",\"type\":\"DaysTicker\"},{\"id\":\"1159\",\"type\":\"DaysTicker\"},{\"id\":\"1160\",\"type\":\"MonthsTicker\"},{\"id\":\"1161\",\"type\":\"MonthsTicker\"},{\"id\":\"1162\",\"type\":\"MonthsTicker\"},{\"id\":\"1163\",\"type\":\"MonthsTicker\"},{\"id\":\"1164\",\"type\":\"YearsTicker\"}]},\"id\":\"1122\",\"type\":\"DatetimeTicker\"},{\"attributes\":{\"base\":60,\"mantissas\":[1,2,5,10,15,20,30],\"max_interval\":1800000.0,\"min_interval\":1000.0,\"num_minor_ticks\":0},\"id\":\"1209\",\"type\":\"AdaptiveTicker\"},{\"attributes\":{},\"id\":\"1127\",\"type\":\"BasicTicker\"},{\"attributes\":{\"days\":[1,2,3,4,5,6,7,8,9,10,11,12,13,14,15,16,17,18,19,20,21,22,23,24,25,26,27,28,29,30,31]},\"id\":\"1211\",\"type\":\"DaysTicker\"},{\"attributes\":{\"base\":24,\"mantissas\":[1,2,4,6,8,12],\"max_interval\":43200000.0,\"min_interval\":3600000.0,\"num_minor_ticks\":0},\"id\":\"1210\",\"type\":\"AdaptiveTicker\"},{\"attributes\":{\"text\":\"\"},\"id\":\"1038\",\"type\":\"Title\"},{\"attributes\":{},\"id\":\"1131\",\"type\":\"PanTool\"},{\"attributes\":{\"data_source\":{\"id\":\"1002\",\"type\":\"ColumnDataSource\"},\"glyph\":{\"id\":\"1034\",\"type\":\"Line\"},\"hover_glyph\":null,\"muted_glyph\":null,\"nonselection_glyph\":{\"id\":\"1035\",\"type\":\"Line\"},\"selection_glyph\":null,\"view\":{\"id\":\"1037\",\"type\":\"CDSView\"}},\"id\":\"1036\",\"type\":\"GlyphRenderer\"},{\"attributes\":{\"months\":[0,1,2,3,4,5,6,7,8,9,10,11]},\"id\":\"1215\",\"type\":\"MonthsTicker\"},{\"attributes\":{\"dimension\":1,\"ticker\":{\"id\":\"1127\",\"type\":\"BasicTicker\"}},\"id\":\"1130\",\"type\":\"Grid\"},{\"attributes\":{\"months\":[0,2,4,6,8,10]},\"id\":\"1216\",\"type\":\"MonthsTicker\"},{\"attributes\":{},\"id\":\"1010\",\"type\":\"LinearScale\"},{\"attributes\":{\"days\":[1,4,7,10,13,16,19,22,25,28]},\"id\":\"1212\",\"type\":\"DaysTicker\"},{\"attributes\":{\"label\":{\"value\":\"GHI\"},\"renderers\":[{\"id\":\"1036\",\"type\":\"GlyphRenderer\"}]},\"id\":\"1058\",\"type\":\"LegendItem\"},{\"attributes\":{\"days\":[1,15]},\"id\":\"1214\",\"type\":\"DaysTicker\"},{\"attributes\":{\"callback\":null},\"id\":\"1006\",\"type\":\"DataRange1d\"},{\"attributes\":{\"line_alpha\":0.1,\"line_color\":\"#1f77b4\",\"line_width\":2,\"x\":{\"field\":\"index\"},\"y\":{\"field\":\"Air temperature\"}},\"id\":\"1144\",\"type\":\"Line\"},{\"attributes\":{\"months\":[0,6]},\"id\":\"1218\",\"type\":\"MonthsTicker\"},{\"attributes\":{\"overlay\":{\"id\":\"1165\",\"type\":\"BoxAnnotation\"}},\"id\":\"1132\",\"type\":\"BoxZoomTool\"},{\"attributes\":{\"days\":[1,8,15,22]},\"id\":\"1213\",\"type\":\"DaysTicker\"},{\"attributes\":{\"callback\":null},\"id\":\"1004\",\"type\":\"DataRange1d\"},{\"attributes\":{\"source\":{\"id\":\"1002\",\"type\":\"ColumnDataSource\"}},\"id\":\"1146\",\"type\":\"CDSView\"},{\"attributes\":{},\"id\":\"1219\",\"type\":\"YearsTicker\"},{\"attributes\":{\"dimensions\":\"width\"},\"id\":\"1133\",\"type\":\"WheelZoomTool\"},{\"attributes\":{\"items\":[{\"id\":\"1058\",\"type\":\"LegendItem\"},{\"id\":\"1085\",\"type\":\"LegendItem\"},{\"id\":\"1112\",\"type\":\"LegendItem\"}],\"location\":\"top_left\"},\"id\":\"1057\",\"type\":\"Legend\"},{\"attributes\":{},\"id\":\"1134\",\"type\":\"ResetTool\"},{\"attributes\":{},\"id\":\"1018\",\"type\":\"BasicTicker\"},{\"attributes\":{\"months\":[0,4,8]},\"id\":\"1217\",\"type\":\"MonthsTicker\"},{\"attributes\":{},\"id\":\"1135\",\"type\":\"SaveTool\"},{\"attributes\":{\"active_drag\":\"auto\",\"active_inspect\":\"auto\",\"active_multi\":null,\"active_scroll\":\"auto\",\"active_tap\":\"auto\",\"tools\":[{\"id\":\"1131\",\"type\":\"PanTool\"},{\"id\":\"1132\",\"type\":\"BoxZoomTool\"},{\"id\":\"1133\",\"type\":\"WheelZoomTool\"},{\"id\":\"1134\",\"type\":\"ResetTool\"},{\"id\":\"1135\",\"type\":\"SaveTool\"}]},\"id\":\"1136\",\"type\":\"Toolbar\"},{\"attributes\":{\"line_color\":\"#d62728\",\"line_width\":2,\"x\":{\"field\":\"index\"},\"y\":{\"field\":\"Air temperature\"}},\"id\":\"1143\",\"type\":\"Line\"},{\"attributes\":{\"overlay\":{\"id\":\"1056\",\"type\":\"BoxAnnotation\"}},\"id\":\"1023\",\"type\":\"BoxZoomTool\"},{\"attributes\":{\"axis_label\":\"Irradiance (W/m^2)\",\"formatter\":{\"id\":\"1041\",\"type\":\"BasicTickFormatter\"},\"ticker\":{\"id\":\"1018\",\"type\":\"BasicTicker\"}},\"id\":\"1017\",\"type\":\"LinearAxis\"},{\"attributes\":{\"label\":{\"value\":\"Air temperature\"},\"renderers\":[{\"id\":\"1145\",\"type\":\"GlyphRenderer\"}]},\"id\":\"1167\",\"type\":\"LegendItem\"},{\"attributes\":{\"items\":[{\"id\":\"1167\",\"type\":\"LegendItem\"}],\"location\":\"top_left\"},\"id\":\"1166\",\"type\":\"Legend\"},{\"attributes\":{\"text\":\"\"},\"id\":\"1147\",\"type\":\"Title\"},{\"attributes\":{\"callback\":null},\"id\":\"1170\",\"type\":\"DataRange1d\"},{\"attributes\":{},\"id\":\"1008\",\"type\":\"LinearScale\"},{\"attributes\":{\"formatter\":{\"id\":\"1043\",\"type\":\"DatetimeTickFormatter\"},\"ticker\":{\"id\":\"1013\",\"type\":\"DatetimeTicker\"}},\"id\":\"1012\",\"type\":\"DatetimeAxis\"},{\"attributes\":{\"axis_label\":\"Wind speed (m/s)\",\"formatter\":{\"id\":\"1205\",\"type\":\"BasicTickFormatter\"},\"ticker\":{\"id\":\"1182\",\"type\":\"BasicTicker\"}},\"id\":\"1181\",\"type\":\"LinearAxis\"},{\"attributes\":{\"data_source\":{\"id\":\"1002\",\"type\":\"ColumnDataSource\"},\"glyph\":{\"id\":\"1143\",\"type\":\"Line\"},\"hover_glyph\":null,\"muted_glyph\":null,\"nonselection_glyph\":{\"id\":\"1144\",\"type\":\"Line\"},\"selection_glyph\":null,\"view\":{\"id\":\"1146\",\"type\":\"CDSView\"}},\"id\":\"1145\",\"type\":\"GlyphRenderer\"},{\"attributes\":{\"bottom_units\":\"screen\",\"fill_alpha\":{\"value\":0.5},\"fill_color\":{\"value\":\"lightgrey\"},\"left_units\":\"screen\",\"level\":\"overlay\",\"line_alpha\":{\"value\":1.0},\"line_color\":{\"value\":\"black\"},\"line_dash\":[4,4],\"line_width\":{\"value\":2},\"render_mode\":\"css\",\"right_units\":\"screen\",\"top_units\":\"screen\"},\"id\":\"1220\",\"type\":\"BoxAnnotation\"},{\"attributes\":{\"below\":[{\"id\":\"1176\",\"type\":\"DatetimeAxis\"}],\"center\":[{\"id\":\"1180\",\"type\":\"Grid\"},{\"id\":\"1185\",\"type\":\"Grid\"},{\"id\":\"1221\",\"type\":\"Legend\"}],\"left\":[{\"id\":\"1181\",\"type\":\"LinearAxis\"}],\"plot_height\":200,\"plot_width\":800,\"renderers\":[{\"id\":\"1200\",\"type\":\"GlyphRenderer\"}],\"title\":{\"id\":\"1202\",\"type\":\"Title\"},\"toolbar\":{\"id\":\"1191\",\"type\":\"Toolbar\"},\"toolbar_location\":null,\"x_range\":{\"id\":\"1004\",\"type\":\"DataRange1d\"},\"x_scale\":{\"id\":\"1172\",\"type\":\"LinearScale\"},\"y_range\":{\"id\":\"1170\",\"type\":\"DataRange1d\"},\"y_scale\":{\"id\":\"1174\",\"type\":\"LinearScale\"}},\"id\":\"1168\",\"subtype\":\"Figure\",\"type\":\"Plot\"},{\"attributes\":{\"ticker\":{\"id\":\"1013\",\"type\":\"DatetimeTicker\"}},\"id\":\"1016\",\"type\":\"Grid\"},{\"attributes\":{},\"id\":\"1172\",\"type\":\"LinearScale\"},{\"attributes\":{\"data_source\":{\"id\":\"1002\",\"type\":\"ColumnDataSource\"},\"glyph\":{\"id\":\"1198\",\"type\":\"Line\"},\"hover_glyph\":null,\"muted_glyph\":null,\"nonselection_glyph\":{\"id\":\"1199\",\"type\":\"Line\"},\"selection_glyph\":null,\"view\":{\"id\":\"1201\",\"type\":\"CDSView\"}},\"id\":\"1200\",\"type\":\"GlyphRenderer\"},{\"attributes\":{\"num_minor_ticks\":5,\"tickers\":[{\"id\":\"1044\",\"type\":\"AdaptiveTicker\"},{\"id\":\"1045\",\"type\":\"AdaptiveTicker\"},{\"id\":\"1046\",\"type\":\"AdaptiveTicker\"},{\"id\":\"1047\",\"type\":\"DaysTicker\"},{\"id\":\"1048\",\"type\":\"DaysTicker\"},{\"id\":\"1049\",\"type\":\"DaysTicker\"},{\"id\":\"1050\",\"type\":\"DaysTicker\"},{\"id\":\"1051\",\"type\":\"MonthsTicker\"},{\"id\":\"1052\",\"type\":\"MonthsTicker\"},{\"id\":\"1053\",\"type\":\"MonthsTicker\"},{\"id\":\"1054\",\"type\":\"MonthsTicker\"},{\"id\":\"1055\",\"type\":\"YearsTicker\"}]},\"id\":\"1013\",\"type\":\"DatetimeTicker\"},{\"attributes\":{},\"id\":\"1174\",\"type\":\"LinearScale\"},{\"attributes\":{\"active_drag\":\"auto\",\"active_inspect\":\"auto\",\"active_multi\":null,\"active_scroll\":\"auto\",\"active_tap\":\"auto\",\"tools\":[{\"id\":\"1022\",\"type\":\"PanTool\"},{\"id\":\"1023\",\"type\":\"BoxZoomTool\"},{\"id\":\"1024\",\"type\":\"WheelZoomTool\"},{\"id\":\"1025\",\"type\":\"ResetTool\"},{\"id\":\"1026\",\"type\":\"SaveTool\"}]},\"id\":\"1027\",\"type\":\"Toolbar\"},{\"attributes\":{},\"id\":\"1182\",\"type\":\"BasicTicker\"},{\"attributes\":{\"axis_label\":\"Time (UTC)\",\"formatter\":{\"id\":\"1207\",\"type\":\"DatetimeTickFormatter\"},\"ticker\":{\"id\":\"1177\",\"type\":\"DatetimeTicker\"}},\"id\":\"1176\",\"type\":\"DatetimeAxis\"},{\"attributes\":{\"dimensions\":\"width\"},\"id\":\"1024\",\"type\":\"WheelZoomTool\"},{\"attributes\":{\"num_minor_ticks\":5,\"tickers\":[{\"id\":\"1208\",\"type\":\"AdaptiveTicker\"},{\"id\":\"1209\",\"type\":\"AdaptiveTicker\"},{\"id\":\"1210\",\"type\":\"AdaptiveTicker\"},{\"id\":\"1211\",\"type\":\"DaysTicker\"},{\"id\":\"1212\",\"type\":\"DaysTicker\"},{\"id\":\"1213\",\"type\":\"DaysTicker\"},{\"id\":\"1214\",\"type\":\"DaysTicker\"},{\"id\":\"1215\",\"type\":\"MonthsTicker\"},{\"id\":\"1216\",\"type\":\"MonthsTicker\"},{\"id\":\"1217\",\"type\":\"MonthsTicker\"},{\"id\":\"1218\",\"type\":\"MonthsTicker\"},{\"id\":\"1219\",\"type\":\"YearsTicker\"}]},\"id\":\"1177\",\"type\":\"DatetimeTicker\"},{\"attributes\":{\"ticker\":{\"id\":\"1177\",\"type\":\"DatetimeTicker\"}},\"id\":\"1180\",\"type\":\"Grid\"},{\"attributes\":{},\"id\":\"1025\",\"type\":\"ResetTool\"},{\"attributes\":{},\"id\":\"1186\",\"type\":\"PanTool\"},{\"attributes\":{\"data_source\":{\"id\":\"1002\",\"type\":\"ColumnDataSource\"},\"glyph\":{\"id\":\"1060\",\"type\":\"Line\"},\"hover_glyph\":null,\"muted_glyph\":null,\"nonselection_glyph\":{\"id\":\"1061\",\"type\":\"Line\"},\"selection_glyph\":null,\"view\":{\"id\":\"1063\",\"type\":\"CDSView\"}},\"id\":\"1062\",\"type\":\"GlyphRenderer\"},{\"attributes\":{\"dimension\":1,\"ticker\":{\"id\":\"1182\",\"type\":\"BasicTicker\"}},\"id\":\"1185\",\"type\":\"Grid\"},{\"attributes\":{},\"id\":\"1022\",\"type\":\"PanTool\"},{\"attributes\":{},\"id\":\"1026\",\"type\":\"SaveTool\"},{\"attributes\":{\"line_alpha\":0.1,\"line_color\":\"#1f77b4\",\"line_width\":2,\"x\":{\"field\":\"index\"},\"y\":{\"field\":\"GHI\"}},\"id\":\"1035\",\"type\":\"Line\"},{\"attributes\":{\"line_alpha\":0.1,\"line_color\":\"#1f77b4\",\"line_width\":2,\"x\":{\"field\":\"index\"},\"y\":{\"field\":\"Wind speed\"}},\"id\":\"1199\",\"type\":\"Line\"},{\"attributes\":{\"overlay\":{\"id\":\"1220\",\"type\":\"BoxAnnotation\"}},\"id\":\"1187\",\"type\":\"BoxZoomTool\"},{\"attributes\":{\"line_color\":\"#1f77b4\",\"line_width\":2,\"x\":{\"field\":\"index\"},\"y\":{\"field\":\"GHI\"}},\"id\":\"1034\",\"type\":\"Line\"},{\"attributes\":{\"source\":{\"id\":\"1002\",\"type\":\"ColumnDataSource\"}},\"id\":\"1201\",\"type\":\"CDSView\"},{\"attributes\":{\"dimensions\":\"width\"},\"id\":\"1188\",\"type\":\"WheelZoomTool\"},{\"attributes\":{},\"id\":\"1189\",\"type\":\"ResetTool\"},{\"attributes\":{},\"id\":\"1150\",\"type\":\"BasicTickFormatter\"},{\"attributes\":{},\"id\":\"1190\",\"type\":\"SaveTool\"},{\"attributes\":{\"active_drag\":\"auto\",\"active_inspect\":\"auto\",\"active_multi\":null,\"active_scroll\":\"auto\",\"active_tap\":\"auto\",\"tools\":[{\"id\":\"1186\",\"type\":\"PanTool\"},{\"id\":\"1187\",\"type\":\"BoxZoomTool\"},{\"id\":\"1188\",\"type\":\"WheelZoomTool\"},{\"id\":\"1189\",\"type\":\"ResetTool\"},{\"id\":\"1190\",\"type\":\"SaveTool\"}]},\"id\":\"1191\",\"type\":\"Toolbar\"},{\"attributes\":{\"source\":{\"id\":\"1002\",\"type\":\"ColumnDataSource\"}},\"id\":\"1037\",\"type\":\"CDSView\"},{\"attributes\":{},\"id\":\"1152\",\"type\":\"DatetimeTickFormatter\"},{\"attributes\":{\"line_color\":\"#9467bd\",\"line_width\":2,\"x\":{\"field\":\"index\"},\"y\":{\"field\":\"Wind speed\"}},\"id\":\"1198\",\"type\":\"Line\"},{\"attributes\":{\"mantissas\":[1,2,5],\"max_interval\":500.0,\"num_minor_ticks\":0},\"id\":\"1044\",\"type\":\"AdaptiveTicker\"},{\"attributes\":{\"base\":60,\"mantissas\":[1,2,5,10,15,20,30],\"max_interval\":1800000.0,\"min_interval\":1000.0,\"num_minor_ticks\":0},\"id\":\"1045\",\"type\":\"AdaptiveTicker\"},{\"attributes\":{\"months\":[0,6]},\"id\":\"1054\",\"type\":\"MonthsTicker\"},{\"attributes\":{\"days\":[1,2,3,4,5,6,7,8,9,10,11,12,13,14,15,16,17,18,19,20,21,22,23,24,25,26,27,28,29,30,31]},\"id\":\"1047\",\"type\":\"DaysTicker\"},{\"attributes\":{\"base\":24,\"mantissas\":[1,2,4,6,8,12],\"max_interval\":43200000.0,\"min_interval\":3600000.0,\"num_minor_ticks\":0},\"id\":\"1046\",\"type\":\"AdaptiveTicker\"},{\"attributes\":{\"months\":[0,1,2,3,4,5,6,7,8,9,10,11]},\"id\":\"1051\",\"type\":\"MonthsTicker\"},{\"attributes\":{\"months\":[0,2,4,6,8,10]},\"id\":\"1052\",\"type\":\"MonthsTicker\"},{\"attributes\":{\"days\":[1,4,7,10,13,16,19,22,25,28]},\"id\":\"1048\",\"type\":\"DaysTicker\"},{\"attributes\":{\"children\":[[{\"id\":\"1003\",\"subtype\":\"Figure\",\"type\":\"Plot\"},0,0],[{\"id\":\"1113\",\"subtype\":\"Figure\",\"type\":\"Plot\"},1,0],[{\"id\":\"1168\",\"subtype\":\"Figure\",\"type\":\"Plot\"},2,0]]},\"id\":\"1289\",\"type\":\"GridBox\"},{\"attributes\":{\"days\":[1,15]},\"id\":\"1050\",\"type\":\"DaysTicker\"},{\"attributes\":{\"days\":[1,8,15,22]},\"id\":\"1049\",\"type\":\"DaysTicker\"},{\"attributes\":{\"tools\":[{\"id\":\"1022\",\"type\":\"PanTool\"},{\"id\":\"1023\",\"type\":\"BoxZoomTool\"},{\"id\":\"1024\",\"type\":\"WheelZoomTool\"},{\"id\":\"1025\",\"type\":\"ResetTool\"},{\"id\":\"1026\",\"type\":\"SaveTool\"},{\"id\":\"1131\",\"type\":\"PanTool\"},{\"id\":\"1132\",\"type\":\"BoxZoomTool\"},{\"id\":\"1133\",\"type\":\"WheelZoomTool\"},{\"id\":\"1134\",\"type\":\"ResetTool\"},{\"id\":\"1135\",\"type\":\"SaveTool\"},{\"id\":\"1186\",\"type\":\"PanTool\"},{\"id\":\"1187\",\"type\":\"BoxZoomTool\"},{\"id\":\"1188\",\"type\":\"WheelZoomTool\"},{\"id\":\"1189\",\"type\":\"ResetTool\"},{\"id\":\"1190\",\"type\":\"SaveTool\"}]},\"id\":\"1290\",\"type\":\"ProxyToolbar\"},{\"attributes\":{},\"id\":\"1055\",\"type\":\"YearsTicker\"},{\"attributes\":{\"months\":[0,4,8]},\"id\":\"1053\",\"type\":\"MonthsTicker\"},{\"attributes\":{\"bottom_units\":\"screen\",\"fill_alpha\":{\"value\":0.5},\"fill_color\":{\"value\":\"lightgrey\"},\"left_units\":\"screen\",\"level\":\"overlay\",\"line_alpha\":{\"value\":1.0},\"line_color\":{\"value\":\"black\"},\"line_dash\":[4,4],\"line_width\":{\"value\":2},\"render_mode\":\"css\",\"right_units\":\"screen\",\"top_units\":\"screen\"},\"id\":\"1056\",\"type\":\"BoxAnnotation\"},{\"attributes\":{\"toolbar\":{\"id\":\"1290\",\"type\":\"ProxyToolbar\"},\"toolbar_location\":\"above\"},\"id\":\"1291\",\"type\":\"ToolbarBox\"},{\"attributes\":{\"data_source\":{\"id\":\"1002\",\"type\":\"ColumnDataSource\"},\"glyph\":{\"id\":\"1087\",\"type\":\"Line\"},\"hover_glyph\":null,\"muted_glyph\":null,\"nonselection_glyph\":{\"id\":\"1088\",\"type\":\"Line\"},\"selection_glyph\":null,\"view\":{\"id\":\"1090\",\"type\":\"CDSView\"}},\"id\":\"1089\",\"type\":\"GlyphRenderer\"},{\"attributes\":{\"line_color\":\"#ff7f0e\",\"line_width\":2,\"x\":{\"field\":\"index\"},\"y\":{\"field\":\"DNI\"}},\"id\":\"1060\",\"type\":\"Line\"},{\"attributes\":{\"line_alpha\":0.1,\"line_color\":\"#1f77b4\",\"line_width\":2,\"x\":{\"field\":\"index\"},\"y\":{\"field\":\"DNI\"}},\"id\":\"1061\",\"type\":\"Line\"},{\"attributes\":{\"source\":{\"id\":\"1002\",\"type\":\"ColumnDataSource\"}},\"id\":\"1063\",\"type\":\"CDSView\"},{\"attributes\":{\"label\":{\"value\":\"DNI\"},\"renderers\":[{\"id\":\"1062\",\"type\":\"GlyphRenderer\"}]},\"id\":\"1085\",\"type\":\"LegendItem\"},{\"attributes\":{},\"id\":\"1083\",\"type\":\"Selection\"},{\"attributes\":{},\"id\":\"1084\",\"type\":\"UnionRenderers\"}],\"root_ids\":[\"1292\"]},\"title\":\"Bokeh Application\",\"version\":\"1.4.0\"}};\n",
       "  var render_items = [{\"docid\":\"efecbc5f-1354-4bce-a33f-90efc9f01568\",\"roots\":{\"1292\":\"d51d940a-eff5-4de5-9007-5386a7a727c1\"}}];\n",
       "  root.Bokeh.embed.embed_items_notebook(docs_json, render_items);\n",
       "\n",
       "  }\n",
       "  if (root.Bokeh !== undefined) {\n",
       "    embed_document(root);\n",
       "  } else {\n",
       "    var attempts = 0;\n",
       "    var timer = setInterval(function(root) {\n",
       "      if (root.Bokeh !== undefined) {\n",
       "        clearInterval(timer);\n",
       "        embed_document(root);\n",
       "      } else {\n",
       "        attempts++;\n",
       "        if (attempts > 100) {\n",
       "          clearInterval(timer);\n",
       "          console.log(\"Bokeh: ERROR: Unable to run BokehJS code because BokehJS library is missing\");\n",
       "        }\n",
       "      }\n",
       "    }, 10, root)\n",
       "  }\n",
       "})(window);"
      ],
      "application/vnd.bokehjs_exec.v0+json": ""
     },
     "metadata": {
      "application/vnd.bokehjs_exec.v0+json": {
       "id": "1292"
      }
     },
     "output_type": "display_data"
    }
   ],
   "source": [
    "grid = plot_nwp(ghi, dni, dhi, air_temperature, wind_speed, ac_power)\n",
    "show(grid)"
   ]
  },
  {
   "cell_type": "markdown",
   "metadata": {},
   "source": [
    "The Solar Forecast Arbiter includes processing functions derive GHI from a NWP model's cloud cover forecast and estimate the DNI and DHI using the [Erbs model](https://pvlib-python.readthedocs.io/en/stable/generated/pvlib.irradiance.erbs.html?highlight=erbs). These functions are applied to data from the GFS, NAM, and RAP weather models. \n",
    "\n",
    "For example, GFS data is processed as follows:\n",
    "\n",
    "1. Load time series forecast of cloud cover, air temperature, and wind speed from gridded data.\n",
    "2. Convert mixed interval cloud cover in raw data into standard intervals.\n",
    "2. Backfill cloud cover to 5 minute resolution and interpolate air temperature, wind speed to 5 minute resolution. This is needed to account for changing solar position over 1 hour intervals.\n",
    "2. Compute GHI from cloud cover.\n",
    "2. Compute DNI and DHI from GHI.\n",
    "2. If required, calculate AC power.\n",
    "2. Resample 5 minute data to 1 hour data.\n",
    "\n",
    "See the `models` [documentation](https://solarforecastarbiter-core.readthedocs.io/en/latest/generated/solarforecastarbiter.reference_forecasts.models.html#module-solarforecastarbiter.reference_forecasts.models) for more explanation. The plot below shows the results of these processing steps."
   ]
  },
  {
   "cell_type": "code",
   "execution_count": 10,
   "metadata": {},
   "outputs": [
    {
     "data": {
      "text/html": [
       "\n",
       "\n",
       "\n",
       "\n",
       "\n",
       "\n",
       "  <div class=\"bk-root\" id=\"c03de1f2-e0cd-4ad4-a048-304103ed715d\" data-root-id=\"2000\"></div>\n"
      ]
     },
     "metadata": {},
     "output_type": "display_data"
    },
    {
     "data": {
      "application/javascript": [
       "(function(root) {\n",
       "  function embed_document(root) {\n",
       "    \n",
       "  var docs_json = {\"30297b8a-8acd-4969-a84c-7cead4509c94\":{\"roots\":{\"references\":[{\"attributes\":{\"children\":[{\"id\":\"1999\",\"type\":\"ToolbarBox\"},{\"id\":\"1997\",\"type\":\"GridBox\"}]},\"id\":\"2000\",\"type\":\"Column\"},{\"attributes\":{\"axis_label\":\"Air temperature (C)\",\"formatter\":{\"id\":\"1858\",\"type\":\"BasicTickFormatter\"},\"ticker\":{\"id\":\"1835\",\"type\":\"BasicTicker\"}},\"id\":\"1834\",\"type\":\"LinearAxis\"},{\"attributes\":{},\"id\":\"1827\",\"type\":\"LinearScale\"},{\"attributes\":{},\"id\":\"1825\",\"type\":\"LinearScale\"},{\"attributes\":{},\"id\":\"1835\",\"type\":\"BasicTicker\"},{\"attributes\":{\"formatter\":{\"id\":\"1860\",\"type\":\"DatetimeTickFormatter\"},\"ticker\":{\"id\":\"1830\",\"type\":\"DatetimeTicker\"}},\"id\":\"1829\",\"type\":\"DatetimeAxis\"},{\"attributes\":{\"mantissas\":[1,2,5],\"max_interval\":500.0,\"num_minor_ticks\":0},\"id\":\"1916\",\"type\":\"AdaptiveTicker\"},{\"attributes\":{\"num_minor_ticks\":5,\"tickers\":[{\"id\":\"1861\",\"type\":\"AdaptiveTicker\"},{\"id\":\"1862\",\"type\":\"AdaptiveTicker\"},{\"id\":\"1863\",\"type\":\"AdaptiveTicker\"},{\"id\":\"1864\",\"type\":\"DaysTicker\"},{\"id\":\"1865\",\"type\":\"DaysTicker\"},{\"id\":\"1866\",\"type\":\"DaysTicker\"},{\"id\":\"1867\",\"type\":\"DaysTicker\"},{\"id\":\"1868\",\"type\":\"MonthsTicker\"},{\"id\":\"1869\",\"type\":\"MonthsTicker\"},{\"id\":\"1870\",\"type\":\"MonthsTicker\"},{\"id\":\"1871\",\"type\":\"MonthsTicker\"},{\"id\":\"1872\",\"type\":\"YearsTicker\"}]},\"id\":\"1830\",\"type\":\"DatetimeTicker\"},{\"attributes\":{\"base\":60,\"mantissas\":[1,2,5,10,15,20,30],\"max_interval\":1800000.0,\"min_interval\":1000.0,\"num_minor_ticks\":0},\"id\":\"1917\",\"type\":\"AdaptiveTicker\"},{\"attributes\":{\"ticker\":{\"id\":\"1830\",\"type\":\"DatetimeTicker\"}},\"id\":\"1833\",\"type\":\"Grid\"},{\"attributes\":{\"days\":[1,2,3,4,5,6,7,8,9,10,11,12,13,14,15,16,17,18,19,20,21,22,23,24,25,26,27,28,29,30,31]},\"id\":\"1919\",\"type\":\"DaysTicker\"},{\"attributes\":{\"callback\":null},\"id\":\"1714\",\"type\":\"DataRange1d\"},{\"attributes\":{\"base\":24,\"mantissas\":[1,2,4,6,8,12],\"max_interval\":43200000.0,\"min_interval\":3600000.0,\"num_minor_ticks\":0},\"id\":\"1918\",\"type\":\"AdaptiveTicker\"},{\"attributes\":{},\"id\":\"1839\",\"type\":\"PanTool\"},{\"attributes\":{\"months\":[0,1,2,3,4,5,6,7,8,9,10,11]},\"id\":\"1923\",\"type\":\"MonthsTicker\"},{\"attributes\":{\"dimension\":1,\"ticker\":{\"id\":\"1835\",\"type\":\"BasicTicker\"}},\"id\":\"1838\",\"type\":\"Grid\"},{\"attributes\":{\"months\":[0,2,4,6,8,10]},\"id\":\"1924\",\"type\":\"MonthsTicker\"},{\"attributes\":{\"days\":[1,4,7,10,13,16,19,22,25,28]},\"id\":\"1920\",\"type\":\"DaysTicker\"},{\"attributes\":{\"days\":[1,15]},\"id\":\"1922\",\"type\":\"DaysTicker\"},{\"attributes\":{\"line_alpha\":0.1,\"line_color\":\"#1f77b4\",\"line_width\":2,\"x\":{\"field\":\"index\"},\"y\":{\"field\":\"Air temperature\"}},\"id\":\"1852\",\"type\":\"Line\"},{\"attributes\":{\"months\":[0,6]},\"id\":\"1926\",\"type\":\"MonthsTicker\"},{\"attributes\":{\"overlay\":{\"id\":\"1873\",\"type\":\"BoxAnnotation\"}},\"id\":\"1840\",\"type\":\"BoxZoomTool\"},{\"attributes\":{\"base\":24,\"mantissas\":[1,2,4,6,8,12],\"max_interval\":43200000.0,\"min_interval\":3600000.0,\"num_minor_ticks\":0},\"id\":\"1754\",\"type\":\"AdaptiveTicker\"},{\"attributes\":{\"days\":[1,8,15,22]},\"id\":\"1921\",\"type\":\"DaysTicker\"},{\"attributes\":{\"source\":{\"id\":\"1710\",\"type\":\"ColumnDataSource\"}},\"id\":\"1854\",\"type\":\"CDSView\"},{\"attributes\":{},\"id\":\"1927\",\"type\":\"YearsTicker\"},{\"attributes\":{\"dimensions\":\"width\"},\"id\":\"1841\",\"type\":\"WheelZoomTool\"},{\"attributes\":{\"callback\":null},\"id\":\"1712\",\"type\":\"DataRange1d\"},{\"attributes\":{},\"id\":\"1842\",\"type\":\"ResetTool\"},{\"attributes\":{\"months\":[0,4,8]},\"id\":\"1925\",\"type\":\"MonthsTicker\"},{\"attributes\":{},\"id\":\"1843\",\"type\":\"SaveTool\"},{\"attributes\":{\"active_drag\":\"auto\",\"active_inspect\":\"auto\",\"active_multi\":null,\"active_scroll\":\"auto\",\"active_tap\":\"auto\",\"tools\":[{\"id\":\"1839\",\"type\":\"PanTool\"},{\"id\":\"1840\",\"type\":\"BoxZoomTool\"},{\"id\":\"1841\",\"type\":\"WheelZoomTool\"},{\"id\":\"1842\",\"type\":\"ResetTool\"},{\"id\":\"1843\",\"type\":\"SaveTool\"}]},\"id\":\"1844\",\"type\":\"Toolbar\"},{\"attributes\":{\"line_color\":\"#d62728\",\"line_width\":2,\"x\":{\"field\":\"index\"},\"y\":{\"field\":\"Air temperature\"}},\"id\":\"1851\",\"type\":\"Line\"},{\"attributes\":{\"label\":{\"value\":\"Air temperature\"},\"renderers\":[{\"id\":\"1853\",\"type\":\"GlyphRenderer\"}]},\"id\":\"1875\",\"type\":\"LegendItem\"},{\"attributes\":{\"items\":[{\"id\":\"1875\",\"type\":\"LegendItem\"}],\"location\":\"top_left\"},\"id\":\"1874\",\"type\":\"Legend\"},{\"attributes\":{},\"id\":\"1791\",\"type\":\"Selection\"},{\"attributes\":{},\"id\":\"1792\",\"type\":\"UnionRenderers\"},{\"attributes\":{\"text\":\"\"},\"id\":\"1855\",\"type\":\"Title\"},{\"attributes\":{\"bottom_units\":\"screen\",\"fill_alpha\":{\"value\":0.5},\"fill_color\":{\"value\":\"lightgrey\"},\"left_units\":\"screen\",\"level\":\"overlay\",\"line_alpha\":{\"value\":1.0},\"line_color\":{\"value\":\"black\"},\"line_dash\":[4,4],\"line_width\":{\"value\":2},\"render_mode\":\"css\",\"right_units\":\"screen\",\"top_units\":\"screen\"},\"id\":\"1928\",\"type\":\"BoxAnnotation\"},{\"attributes\":{\"data_source\":{\"id\":\"1710\",\"type\":\"ColumnDataSource\"},\"glyph\":{\"id\":\"1742\",\"type\":\"Line\"},\"hover_glyph\":null,\"muted_glyph\":null,\"nonselection_glyph\":{\"id\":\"1743\",\"type\":\"Line\"},\"selection_glyph\":null,\"view\":{\"id\":\"1745\",\"type\":\"CDSView\"}},\"id\":\"1744\",\"type\":\"GlyphRenderer\"},{\"attributes\":{\"below\":[{\"id\":\"1720\",\"type\":\"DatetimeAxis\"}],\"center\":[{\"id\":\"1724\",\"type\":\"Grid\"},{\"id\":\"1729\",\"type\":\"Grid\"},{\"id\":\"1765\",\"type\":\"Legend\"}],\"left\":[{\"id\":\"1725\",\"type\":\"LinearAxis\"}],\"plot_height\":200,\"plot_width\":800,\"renderers\":[{\"id\":\"1744\",\"type\":\"GlyphRenderer\"},{\"id\":\"1770\",\"type\":\"GlyphRenderer\"},{\"id\":\"1797\",\"type\":\"GlyphRenderer\"}],\"title\":{\"id\":\"1746\",\"type\":\"Title\"},\"toolbar\":{\"id\":\"1735\",\"type\":\"Toolbar\"},\"toolbar_location\":null,\"x_range\":{\"id\":\"1712\",\"type\":\"DataRange1d\"},\"x_scale\":{\"id\":\"1716\",\"type\":\"LinearScale\"},\"y_range\":{\"id\":\"1714\",\"type\":\"DataRange1d\"},\"y_scale\":{\"id\":\"1718\",\"type\":\"LinearScale\"}},\"id\":\"1711\",\"subtype\":\"Figure\",\"type\":\"Plot\"},{\"attributes\":{\"data_source\":{\"id\":\"1710\",\"type\":\"ColumnDataSource\"},\"glyph\":{\"id\":\"1851\",\"type\":\"Line\"},\"hover_glyph\":null,\"muted_glyph\":null,\"nonselection_glyph\":{\"id\":\"1852\",\"type\":\"Line\"},\"selection_glyph\":null,\"view\":{\"id\":\"1854\",\"type\":\"CDSView\"}},\"id\":\"1853\",\"type\":\"GlyphRenderer\"},{\"attributes\":{},\"id\":\"1858\",\"type\":\"BasicTickFormatter\"},{\"attributes\":{},\"id\":\"1860\",\"type\":\"DatetimeTickFormatter\"},{\"attributes\":{\"mantissas\":[1,2,5],\"max_interval\":500.0,\"num_minor_ticks\":0},\"id\":\"1861\",\"type\":\"AdaptiveTicker\"},{\"attributes\":{\"base\":60,\"mantissas\":[1,2,5,10,15,20,30],\"max_interval\":1800000.0,\"min_interval\":1000.0,\"num_minor_ticks\":0},\"id\":\"1862\",\"type\":\"AdaptiveTicker\"},{\"attributes\":{\"days\":[1,2,3,4,5,6,7,8,9,10,11,12,13,14,15,16,17,18,19,20,21,22,23,24,25,26,27,28,29,30,31]},\"id\":\"1864\",\"type\":\"DaysTicker\"},{\"attributes\":{\"base\":24,\"mantissas\":[1,2,4,6,8,12],\"max_interval\":43200000.0,\"min_interval\":3600000.0,\"num_minor_ticks\":0},\"id\":\"1863\",\"type\":\"AdaptiveTicker\"},{\"attributes\":{\"months\":[0,1,2,3,4,5,6,7,8,9,10,11]},\"id\":\"1868\",\"type\":\"MonthsTicker\"},{\"attributes\":{\"months\":[0,2,4,6,8,10]},\"id\":\"1869\",\"type\":\"MonthsTicker\"},{\"attributes\":{\"days\":[1,4,7,10,13,16,19,22,25,28]},\"id\":\"1865\",\"type\":\"DaysTicker\"},{\"attributes\":{\"days\":[1,15]},\"id\":\"1867\",\"type\":\"DaysTicker\"},{\"attributes\":{\"months\":[0,6]},\"id\":\"1871\",\"type\":\"MonthsTicker\"},{\"attributes\":{\"children\":[[{\"id\":\"1711\",\"subtype\":\"Figure\",\"type\":\"Plot\"},0,0],[{\"id\":\"1821\",\"subtype\":\"Figure\",\"type\":\"Plot\"},1,0],[{\"id\":\"1876\",\"subtype\":\"Figure\",\"type\":\"Plot\"},2,0]]},\"id\":\"1997\",\"type\":\"GridBox\"},{\"attributes\":{\"days\":[1,8,15,22]},\"id\":\"1866\",\"type\":\"DaysTicker\"},{\"attributes\":{},\"id\":\"1872\",\"type\":\"YearsTicker\"},{\"attributes\":{\"months\":[0,4,8]},\"id\":\"1870\",\"type\":\"MonthsTicker\"},{\"attributes\":{\"tools\":[{\"id\":\"1730\",\"type\":\"PanTool\"},{\"id\":\"1731\",\"type\":\"BoxZoomTool\"},{\"id\":\"1732\",\"type\":\"WheelZoomTool\"},{\"id\":\"1733\",\"type\":\"ResetTool\"},{\"id\":\"1734\",\"type\":\"SaveTool\"},{\"id\":\"1839\",\"type\":\"PanTool\"},{\"id\":\"1840\",\"type\":\"BoxZoomTool\"},{\"id\":\"1841\",\"type\":\"WheelZoomTool\"},{\"id\":\"1842\",\"type\":\"ResetTool\"},{\"id\":\"1843\",\"type\":\"SaveTool\"},{\"id\":\"1894\",\"type\":\"PanTool\"},{\"id\":\"1895\",\"type\":\"BoxZoomTool\"},{\"id\":\"1896\",\"type\":\"WheelZoomTool\"},{\"id\":\"1897\",\"type\":\"ResetTool\"},{\"id\":\"1898\",\"type\":\"SaveTool\"}]},\"id\":\"1998\",\"type\":\"ProxyToolbar\"},{\"attributes\":{\"bottom_units\":\"screen\",\"fill_alpha\":{\"value\":0.5},\"fill_color\":{\"value\":\"lightgrey\"},\"left_units\":\"screen\",\"level\":\"overlay\",\"line_alpha\":{\"value\":1.0},\"line_color\":{\"value\":\"black\"},\"line_dash\":[4,4],\"line_width\":{\"value\":2},\"render_mode\":\"css\",\"right_units\":\"screen\",\"top_units\":\"screen\"},\"id\":\"1873\",\"type\":\"BoxAnnotation\"},{\"attributes\":{\"toolbar\":{\"id\":\"1998\",\"type\":\"ProxyToolbar\"},\"toolbar_location\":\"above\"},\"id\":\"1999\",\"type\":\"ToolbarBox\"},{\"attributes\":{\"months\":[0,1,2,3,4,5,6,7,8,9,10,11]},\"id\":\"1759\",\"type\":\"MonthsTicker\"},{\"attributes\":{\"months\":[0,2,4,6,8,10]},\"id\":\"1760\",\"type\":\"MonthsTicker\"},{\"attributes\":{\"days\":[1,15]},\"id\":\"1758\",\"type\":\"DaysTicker\"},{\"attributes\":{\"months\":[0,6]},\"id\":\"1762\",\"type\":\"MonthsTicker\"},{\"attributes\":{\"days\":[1,8,15,22]},\"id\":\"1757\",\"type\":\"DaysTicker\"},{\"attributes\":{},\"id\":\"1763\",\"type\":\"YearsTicker\"},{\"attributes\":{\"months\":[0,4,8]},\"id\":\"1761\",\"type\":\"MonthsTicker\"},{\"attributes\":{},\"id\":\"1726\",\"type\":\"BasicTicker\"},{\"attributes\":{},\"id\":\"1718\",\"type\":\"LinearScale\"},{\"attributes\":{\"dimension\":1,\"ticker\":{\"id\":\"1726\",\"type\":\"BasicTicker\"}},\"id\":\"1729\",\"type\":\"Grid\"},{\"attributes\":{\"bottom_units\":\"screen\",\"fill_alpha\":{\"value\":0.5},\"fill_color\":{\"value\":\"lightgrey\"},\"left_units\":\"screen\",\"level\":\"overlay\",\"line_alpha\":{\"value\":1.0},\"line_color\":{\"value\":\"black\"},\"line_dash\":[4,4],\"line_width\":{\"value\":2},\"render_mode\":\"css\",\"right_units\":\"screen\",\"top_units\":\"screen\"},\"id\":\"1764\",\"type\":\"BoxAnnotation\"},{\"attributes\":{},\"id\":\"1734\",\"type\":\"SaveTool\"},{\"attributes\":{\"text\":\"\"},\"id\":\"1746\",\"type\":\"Title\"},{\"attributes\":{\"below\":[{\"id\":\"1884\",\"type\":\"DatetimeAxis\"}],\"center\":[{\"id\":\"1888\",\"type\":\"Grid\"},{\"id\":\"1893\",\"type\":\"Grid\"},{\"id\":\"1929\",\"type\":\"Legend\"}],\"left\":[{\"id\":\"1889\",\"type\":\"LinearAxis\"}],\"plot_height\":200,\"plot_width\":800,\"renderers\":[{\"id\":\"1908\",\"type\":\"GlyphRenderer\"}],\"title\":{\"id\":\"1910\",\"type\":\"Title\"},\"toolbar\":{\"id\":\"1899\",\"type\":\"Toolbar\"},\"toolbar_location\":null,\"x_range\":{\"id\":\"1712\",\"type\":\"DataRange1d\"},\"x_scale\":{\"id\":\"1880\",\"type\":\"LinearScale\"},\"y_range\":{\"id\":\"1878\",\"type\":\"DataRange1d\"},\"y_scale\":{\"id\":\"1882\",\"type\":\"LinearScale\"}},\"id\":\"1876\",\"subtype\":\"Figure\",\"type\":\"Plot\"},{\"attributes\":{},\"id\":\"1733\",\"type\":\"ResetTool\"},{\"attributes\":{\"axis_label\":\"Wind speed (m/s)\",\"formatter\":{\"id\":\"1913\",\"type\":\"BasicTickFormatter\"},\"ticker\":{\"id\":\"1890\",\"type\":\"BasicTicker\"}},\"id\":\"1889\",\"type\":\"LinearAxis\"},{\"attributes\":{\"line_color\":\"#1f77b4\",\"line_width\":2,\"x\":{\"field\":\"index\"},\"y\":{\"field\":\"GHI\"}},\"id\":\"1742\",\"type\":\"Line\"},{\"attributes\":{\"label\":{\"value\":\"DNI\"},\"renderers\":[{\"id\":\"1770\",\"type\":\"GlyphRenderer\"}]},\"id\":\"1793\",\"type\":\"LegendItem\"},{\"attributes\":{\"callback\":null},\"id\":\"1878\",\"type\":\"DataRange1d\"},{\"attributes\":{\"data_source\":{\"id\":\"1710\",\"type\":\"ColumnDataSource\"},\"glyph\":{\"id\":\"1795\",\"type\":\"Line\"},\"hover_glyph\":null,\"muted_glyph\":null,\"nonselection_glyph\":{\"id\":\"1796\",\"type\":\"Line\"},\"selection_glyph\":null,\"view\":{\"id\":\"1798\",\"type\":\"CDSView\"}},\"id\":\"1797\",\"type\":\"GlyphRenderer\"},{\"attributes\":{},\"id\":\"1880\",\"type\":\"LinearScale\"},{\"attributes\":{},\"id\":\"1882\",\"type\":\"LinearScale\"},{\"attributes\":{},\"id\":\"1730\",\"type\":\"PanTool\"},{\"attributes\":{},\"id\":\"1890\",\"type\":\"BasicTicker\"},{\"attributes\":{\"axis_label\":\"Time (UTC)\",\"formatter\":{\"id\":\"1915\",\"type\":\"DatetimeTickFormatter\"},\"ticker\":{\"id\":\"1885\",\"type\":\"DatetimeTicker\"}},\"id\":\"1884\",\"type\":\"DatetimeAxis\"},{\"attributes\":{\"num_minor_ticks\":5,\"tickers\":[{\"id\":\"1916\",\"type\":\"AdaptiveTicker\"},{\"id\":\"1917\",\"type\":\"AdaptiveTicker\"},{\"id\":\"1918\",\"type\":\"AdaptiveTicker\"},{\"id\":\"1919\",\"type\":\"DaysTicker\"},{\"id\":\"1920\",\"type\":\"DaysTicker\"},{\"id\":\"1921\",\"type\":\"DaysTicker\"},{\"id\":\"1922\",\"type\":\"DaysTicker\"},{\"id\":\"1923\",\"type\":\"MonthsTicker\"},{\"id\":\"1924\",\"type\":\"MonthsTicker\"},{\"id\":\"1925\",\"type\":\"MonthsTicker\"},{\"id\":\"1926\",\"type\":\"MonthsTicker\"},{\"id\":\"1927\",\"type\":\"YearsTicker\"}]},\"id\":\"1885\",\"type\":\"DatetimeTicker\"},{\"attributes\":{\"ticker\":{\"id\":\"1885\",\"type\":\"DatetimeTicker\"}},\"id\":\"1888\",\"type\":\"Grid\"},{\"attributes\":{\"active_drag\":\"auto\",\"active_inspect\":\"auto\",\"active_multi\":null,\"active_scroll\":\"auto\",\"active_tap\":\"auto\",\"tools\":[{\"id\":\"1730\",\"type\":\"PanTool\"},{\"id\":\"1731\",\"type\":\"BoxZoomTool\"},{\"id\":\"1732\",\"type\":\"WheelZoomTool\"},{\"id\":\"1733\",\"type\":\"ResetTool\"},{\"id\":\"1734\",\"type\":\"SaveTool\"}]},\"id\":\"1735\",\"type\":\"Toolbar\"},{\"attributes\":{\"line_alpha\":0.1,\"line_color\":\"#1f77b4\",\"line_width\":2,\"x\":{\"field\":\"index\"},\"y\":{\"field\":\"GHI\"}},\"id\":\"1743\",\"type\":\"Line\"},{\"attributes\":{},\"id\":\"1894\",\"type\":\"PanTool\"},{\"attributes\":{\"dimension\":1,\"ticker\":{\"id\":\"1890\",\"type\":\"BasicTicker\"}},\"id\":\"1893\",\"type\":\"Grid\"},{\"attributes\":{\"num_minor_ticks\":5,\"tickers\":[{\"id\":\"1752\",\"type\":\"AdaptiveTicker\"},{\"id\":\"1753\",\"type\":\"AdaptiveTicker\"},{\"id\":\"1754\",\"type\":\"AdaptiveTicker\"},{\"id\":\"1755\",\"type\":\"DaysTicker\"},{\"id\":\"1756\",\"type\":\"DaysTicker\"},{\"id\":\"1757\",\"type\":\"DaysTicker\"},{\"id\":\"1758\",\"type\":\"DaysTicker\"},{\"id\":\"1759\",\"type\":\"MonthsTicker\"},{\"id\":\"1760\",\"type\":\"MonthsTicker\"},{\"id\":\"1761\",\"type\":\"MonthsTicker\"},{\"id\":\"1762\",\"type\":\"MonthsTicker\"},{\"id\":\"1763\",\"type\":\"YearsTicker\"}]},\"id\":\"1721\",\"type\":\"DatetimeTicker\"},{\"attributes\":{\"ticker\":{\"id\":\"1721\",\"type\":\"DatetimeTicker\"}},\"id\":\"1724\",\"type\":\"Grid\"},{\"attributes\":{\"line_alpha\":0.1,\"line_color\":\"#1f77b4\",\"line_width\":2,\"x\":{\"field\":\"index\"},\"y\":{\"field\":\"Wind speed\"}},\"id\":\"1907\",\"type\":\"Line\"},{\"attributes\":{\"overlay\":{\"id\":\"1928\",\"type\":\"BoxAnnotation\"}},\"id\":\"1895\",\"type\":\"BoxZoomTool\"},{\"attributes\":{\"items\":[{\"id\":\"1766\",\"type\":\"LegendItem\"},{\"id\":\"1793\",\"type\":\"LegendItem\"},{\"id\":\"1820\",\"type\":\"LegendItem\"}],\"location\":\"top_left\"},\"id\":\"1765\",\"type\":\"Legend\"},{\"attributes\":{\"source\":{\"id\":\"1710\",\"type\":\"ColumnDataSource\"}},\"id\":\"1909\",\"type\":\"CDSView\"},{\"attributes\":{\"days\":[1,4,7,10,13,16,19,22,25,28]},\"id\":\"1756\",\"type\":\"DaysTicker\"},{\"attributes\":{\"dimensions\":\"width\"},\"id\":\"1896\",\"type\":\"WheelZoomTool\"},{\"attributes\":{\"label\":{\"value\":\"GHI\"},\"renderers\":[{\"id\":\"1744\",\"type\":\"GlyphRenderer\"}]},\"id\":\"1766\",\"type\":\"LegendItem\"},{\"attributes\":{\"overlay\":{\"id\":\"1764\",\"type\":\"BoxAnnotation\"}},\"id\":\"1731\",\"type\":\"BoxZoomTool\"},{\"attributes\":{},\"id\":\"1897\",\"type\":\"ResetTool\"},{\"attributes\":{},\"id\":\"1898\",\"type\":\"SaveTool\"},{\"attributes\":{\"active_drag\":\"auto\",\"active_inspect\":\"auto\",\"active_multi\":null,\"active_scroll\":\"auto\",\"active_tap\":\"auto\",\"tools\":[{\"id\":\"1894\",\"type\":\"PanTool\"},{\"id\":\"1895\",\"type\":\"BoxZoomTool\"},{\"id\":\"1896\",\"type\":\"WheelZoomTool\"},{\"id\":\"1897\",\"type\":\"ResetTool\"},{\"id\":\"1898\",\"type\":\"SaveTool\"}]},\"id\":\"1899\",\"type\":\"Toolbar\"},{\"attributes\":{\"line_color\":\"#ff7f0e\",\"line_width\":2,\"x\":{\"field\":\"index\"},\"y\":{\"field\":\"DNI\"}},\"id\":\"1768\",\"type\":\"Line\"},{\"attributes\":{\"line_color\":\"#9467bd\",\"line_width\":2,\"x\":{\"field\":\"index\"},\"y\":{\"field\":\"Wind speed\"}},\"id\":\"1906\",\"type\":\"Line\"},{\"attributes\":{\"label\":{\"value\":\"Wind speed\"},\"renderers\":[{\"id\":\"1908\",\"type\":\"GlyphRenderer\"}]},\"id\":\"1930\",\"type\":\"LegendItem\"},{\"attributes\":{\"items\":[{\"id\":\"1930\",\"type\":\"LegendItem\"}],\"location\":\"top_left\"},\"id\":\"1929\",\"type\":\"Legend\"},{\"attributes\":{\"data_source\":{\"id\":\"1710\",\"type\":\"ColumnDataSource\"},\"glyph\":{\"id\":\"1906\",\"type\":\"Line\"},\"hover_glyph\":null,\"muted_glyph\":null,\"nonselection_glyph\":{\"id\":\"1907\",\"type\":\"Line\"},\"selection_glyph\":null,\"view\":{\"id\":\"1909\",\"type\":\"CDSView\"}},\"id\":\"1908\",\"type\":\"GlyphRenderer\"},{\"attributes\":{\"axis_label\":\"Irradiance (W/m^2)\",\"formatter\":{\"id\":\"1749\",\"type\":\"BasicTickFormatter\"},\"ticker\":{\"id\":\"1726\",\"type\":\"BasicTicker\"}},\"id\":\"1725\",\"type\":\"LinearAxis\"},{\"attributes\":{\"text\":\"\"},\"id\":\"1910\",\"type\":\"Title\"},{\"attributes\":{\"line_alpha\":0.1,\"line_color\":\"#1f77b4\",\"line_width\":2,\"x\":{\"field\":\"index\"},\"y\":{\"field\":\"DNI\"}},\"id\":\"1769\",\"type\":\"Line\"},{\"attributes\":{\"data_source\":{\"id\":\"1710\",\"type\":\"ColumnDataSource\"},\"glyph\":{\"id\":\"1768\",\"type\":\"Line\"},\"hover_glyph\":null,\"muted_glyph\":null,\"nonselection_glyph\":{\"id\":\"1769\",\"type\":\"Line\"},\"selection_glyph\":null,\"view\":{\"id\":\"1771\",\"type\":\"CDSView\"}},\"id\":\"1770\",\"type\":\"GlyphRenderer\"},{\"attributes\":{\"callback\":null,\"data\":{\"AC power\":{\"__ndarray__\":\"AAAAAAAA+H8AAAAAAAD4fwAAAAAAAPh/AAAAAAAA+H8AAAAAAAD4fwAAAAAAAPh/AAAAAAAA+H8AAAAAAAD4fwAAAAAAAPh/AAAAAAAA+H8AAAAAAAD4fwAAAAAAAPh/AAAAAAAA+H8AAAAAAAD4fwAAAAAAAPh/AAAAAAAA+H8AAAAAAAD4fwAAAAAAAPh/AAAAAAAA+H8AAAAAAAD4fwAAAAAAAPh/AAAAAAAA+H8AAAAAAAD4fwAAAAAAAPh/AAAAAAAA+H8AAAAAAAD4fwAAAAAAAPh/AAAAAAAA+H8AAAAAAAD4fwAAAAAAAPh/AAAAAAAA+H8AAAAAAAD4fwAAAAAAAPh/AAAAAAAA+H8AAAAAAAD4fwAAAAAAAPh/AAAAAAAA+H8AAAAAAAD4fwAAAAAAAPh/AAAAAAAA+H8AAAAAAAD4fwAAAAAAAPh/AAAAAAAA+H8AAAAAAAD4fwAAAAAAAPh/AAAAAAAA+H8AAAAAAAD4fwAAAAAAAPh/AAAAAAAA+H8AAAAAAAD4fwAAAAAAAPh/AAAAAAAA+H8AAAAAAAD4fwAAAAAAAPh/AAAAAAAA+H8AAAAAAAD4fwAAAAAAAPh/AAAAAAAA+H8AAAAAAAD4fwAAAAAAAPh/AAAAAAAA+H8AAAAAAAD4fwAAAAAAAPh/AAAAAAAA+H8AAAAAAAD4fwAAAAAAAPh/AAAAAAAA+H8AAAAAAAD4fwAAAAAAAPh/AAAAAAAA+H8AAAAAAAD4fwAAAAAAAPh/AAAAAAAA+H8=\",\"dtype\":\"float64\",\"shape\":[73]},\"Air temperature\":{\"__ndarray__\":\"0CLRQXtzwEHQFLRBexOuQXuxqEElHqJBJcibQdCgl0F7l5JBJeiLQXuJhUF7mYRBe+WRQdDko0F7ebFBe5u/QSV2zUHQ7NlB0LTiQSUk6UF7g+1Be23uQSVw60EljuNBJarVQXuhxEEldLhB0GKwQSWap0F7kZ9Be5uXQSUij0HQvIhBJbKEQdBWgUEl6IJB0NqQQdBao0Elaq9Bexe4QdBiw0HQHNFB0KbbQXuX3kHQTttB0ALYQSUQ0UEl2sRB0PqyQXsbn0F77ZBBeyWIQXtFgUFL4HZBS3BsQUvQYkFLMFlB9U5QQfV2TUGg/UxBoJVMQUvQVUFLbGZB9WJ5QdD6hkHQVJJBJdacQdAOpUHQhqhBe5emQXtxoEHQGJdB0JyRQQ==\",\"dtype\":\"float32\",\"shape\":[73]},\"DHI\":{\"__ndarray__\":\"IKL9w9AgTkBwvGlLh0HfPwAAAAAAAAAAAAAAAAAAAAAAAAAAAAAAAAAAAAAAAAAAAAAAAAAAAAAAAAAAAAAAAAAAAAAAAAAAAAAAAAAAAAAAAAAAAAAAAPTRN/1X/xVAfqL6+rk9VEDrCvbY25NaQFjfRusFtVxAQW/3UxCOYEB2ON230KljQFcpPgK2+GxA6KjuWFBtekBFGnfWh1N3QKG83DkGPnRAbKoTfpx/cECrdK2BoohqQG0Aa5yMEGBAoCY4YT/WQkA4Xsa9K17RPwAAAAAAAAAAAAAAAAAAAAAAAAAAAAAAAAAAAAAAAAAAAAAAAAAAAAAAAAAAAAAAAAAAAAAAAAAAAAAAAAAAAAAAAAAAAAAAAM+EbYsS+gBAFJF1LAkeSEAP1yAOB7RfQMRk8wx2UWlAZW5fkLSxcEDVAIpFjbxzQCCAHP75mWZAES61r6FQZUBMI2Je2HNkQAlRD14jc2JA88xNWA7rX0AL0hFEvAlnQJiZMqh781xA4dyTUl6KQECJpeCz7XjPPwAAAAAAAAAAAAAAAAAAAAAAAAAAAAAAAAAAAAAAAAAAAAAAAAAAAAAAAAAAAAAAAAAAAAAAAAAAAAAAAAAAAAAAAAAAAAAAAMobQmkoCgNABW7Z6NcsVEBkOeelmRZnQLMjbYKAUWhAY9DDgZ67YkCxZ7q6siBjQDeclnxzzWRAlyCMMMRTZUD/7VnlYXdkQHEhKdU4d2JAX2WcLDPzX0CYDjCyQwBcQPVm+sXONlpApUCpJW90WEA=\",\"dtype\":\"float64\",\"shape\":[73]},\"DNI\":{\"__ndarray__\":\"RK4bA9SIX0AAAAAAAAAAAAAAAAAAAAAAAAAAAAAAAAAAAAAAAAAAAAAAAAAAAAAAAAAAAAAAAAAAAAAAAAAAAAAAAAAAAAAAAAAAAAAAAAAAAAAAAAAAAA3gd+opa/c/HPztYvsvbUBRz042cX+DQDFvOOP5qYhAD5CKBFOhikDbKzfrxQ6KQNmz7oe8HYVAiU7cuhRlYkBBp24xpPo/QHxAM3+VyzRAV2vhk02jMEDEzX3kCjQ3QGUN3c/+2i5AZzxZy148EEAAAAAAAAAAAAAAAAAAAAAAAAAAAAAAAAAAAAAAAAAAAAAAAAAAAAAAAAAAAAAAAAAAAAAAAAAAAAAAAAAAAAAAAAAAAAAAAAAAAAAAAAAAAHieuUG898c/3P3ifswGDkBUVBfunC0eQL36Bz+I0CVAL0gBZe2TKkDEEktKD4otQAWABEfcc4lAhOFQdbDIi0C8UwYfZKqLQJApFo6lRYtA/1NpiShKikC+yKXvHs5TQA3GHubhwiFA0K01Ul2xB0AAAAAAAAAAAAAAAAAAAAAAAAAAAAAAAAAAAAAAAAAAAAAAAAAAAAAAAAAAAAAAAAAAAAAAAAAAAAAAAAAAAAAAAAAAAAAAAAAAAAAAAAAAALvGaJY0Osw/D5O1C4DwQUAnxVALzsthQPRqP5d/1n5ARGMYw35WiEB4hyDTCESLQAELNJRYtItA1BKmZgHGi0D7R2Nx3KeLQOwMXMCkQ4tADHMAy7BJikDN07ZtlNaHQJ82Sr/1W4FAEzPgTYfadUA=\",\"dtype\":\"float64\",\"shape\":[73]},\"GHI\":{\"__ndarray__\":\"kf52RoRFVUBwvGlLh0HfPwAAAAAAAAAAAAAAAAAAAAAAAAAAAAAAAAAAAAAAAAAAAAAAAAAAAAAAAAAAAAAAAAAAAAAAAAAAAAAAAAAAAAAAAAAAAAAAAFXEgrTZdhZAAv+509T5YED5VLdoUq12QOgd8VvBSYJAWOrGOpdEiEDxKvHv8cKLQHGVHCnkS4tAWMUrXDetgUALAq8eSTV5QBT77D6cWXVA0o9odKI/cUBvv6F78iFsQGslTfJnxmBAs1XIWEw1Q0A4Xsa9K17RPwAAAAAAAAAAAAAAAAAAAAAAAAAAAAAAAAAAAAAAAAAAAAAAAAAAAAAAAAAAAAAAAAAAAAAAAAAAAAAAAAAAAAAAAAAAAAAAAJg0+x1NFwFAW4QYCxOISEDj78qz/j1gQB/VUw24ImpAyiAaA+xScUAqWb/fIYx0QK1zui2k6o1An0SbkEEpkEBHsF58Uw6PQGuMcZWL2YtAGOQj6EzvhkAvrU8p5C9tQO+DK6QvxF1AlI77MlLPQECJpeCz7XjPPwAAAAAAAAAAAAAAAAAAAAAAAAAAAAAAAAAAAAAAAAAAAAAAAAAAAAAAAAAAAAAAAAAAAAAAAAAAAAAAAAAAAAAAAAAAAAAAAE8bakFfLQNAcKMaIDRbVkB8YlRqdYpuQGj1BrGGx35AdeCXWnIth0DUidb/rsCMQDfDDPaek49A7qA7kIErkEAdzxLAnhOPQHHpaIOC4ItAiCPXpKz4hkDt5wyf0LmAQA+88cYGUnNAOfB3wsUFZ0A=\",\"dtype\":\"float64\",\"shape\":[73]},\"Wind speed\":{\"__ndarray__\":\"ANAkQKvKIEBVZRtAq2oaQABAE0CriuY/AKDGPwBg9j+rqv8/AIDZP1U1sz8AwIk/VVVXPwBAOD+r6kk/VVWsP6tqFkAAUFlAqyqAQABojECruqNAVb3AQKuyzkCrqsNAq4KdQFXlakBVZU5Aq0o9QFXVKUBVhRZAVRX3P6uqvD+rKqU/q+qjP1XVsT+rqs8/VRX2P6vaLECr6ohAVZ21QABA00CruvRAVSUQQavqJ0EAkDRBqxY7QQDgOUGrFitBVZUMQVVF2UAAkKtAq0KEQKuabEBV5WxAqyppQKsKYUCrulRAAPBGQFWFQECr6j5AABBBQACwYEBVdYZAAKiYQFWlqEBVpbxAAGjYQKvS/kAAiBBBVSkRQVURB0EAKPBAAEDcQA==\",\"dtype\":\"float32\",\"shape\":[73]},\"index\":{\"__ndarray__\":\"AAAoDZCrdkIAABB8k6t2QgAA+OqWq3ZCAADgWZqrdkIAAMjInat2QgAAsDehq3ZCAACYpqSrdkIAAIAVqKt2QgAAaISrq3ZCAABQ866rdkIAADhisqt2QgAAING1q3ZCAAAIQLmrdkIAAPCuvKt2QgAA2B3Aq3ZCAADAjMOrdkIAAKj7xqt2QgAAkGrKq3ZCAAB42c2rdkIAAGBI0at2QgAASLfUq3ZCAAAwJtirdkIAABiV26t2QgAAAATfq3ZCAADocuKrdkIAANDh5at2QgAAuFDpq3ZCAACgv+yrdkIAAIgu8Kt2QgAAcJ3zq3ZCAABYDPerdkIAAEB7+qt2QgAAKOr9q3ZCAAAQWQGsdkIAAPjHBKx2QgAA4DYIrHZCAADIpQusdkIAALAUD6x2QgAAmIMSrHZCAACA8hWsdkIAAGhhGax2QgAAUNAcrHZCAAA4PyCsdkIAACCuI6x2QgAACB0nrHZCAADwiyqsdkIAANj6Lax2QgAAwGkxrHZCAACo2DSsdkIAAJBHOKx2QgAAeLY7rHZCAABgJT+sdkIAAEiUQqx2QgAAMANGrHZCAAAYckmsdkIAAADhTKx2QgAA6E9QrHZCAADQvlOsdkIAALgtV6x2QgAAoJxarHZCAACIC16sdkIAAHB6Yax2QgAAWOlkrHZCAABAWGisdkIAACjHa6x2QgAAEDZvrHZCAAD4pHKsdkIAAOATdqx2QgAAyIJ5rHZCAACw8XysdkIAAJhggKx2QgAAgM+DrHZCAABoPoesdkI=\",\"dtype\":\"float64\",\"shape\":[73]}},\"selected\":{\"id\":\"1791\",\"type\":\"Selection\"},\"selection_policy\":{\"id\":\"1792\",\"type\":\"UnionRenderers\"}},\"id\":\"1710\",\"type\":\"ColumnDataSource\"},{\"attributes\":{\"source\":{\"id\":\"1710\",\"type\":\"ColumnDataSource\"}},\"id\":\"1771\",\"type\":\"CDSView\"},{\"attributes\":{\"callback\":null},\"id\":\"1823\",\"type\":\"DataRange1d\"},{\"attributes\":{\"days\":[1,2,3,4,5,6,7,8,9,10,11,12,13,14,15,16,17,18,19,20,21,22,23,24,25,26,27,28,29,30,31]},\"id\":\"1755\",\"type\":\"DaysTicker\"},{\"attributes\":{\"formatter\":{\"id\":\"1751\",\"type\":\"DatetimeTickFormatter\"},\"ticker\":{\"id\":\"1721\",\"type\":\"DatetimeTicker\"}},\"id\":\"1720\",\"type\":\"DatetimeAxis\"},{\"attributes\":{\"line_alpha\":0.1,\"line_color\":\"#1f77b4\",\"line_width\":2,\"x\":{\"field\":\"index\"},\"y\":{\"field\":\"DHI\"}},\"id\":\"1796\",\"type\":\"Line\"},{\"attributes\":{},\"id\":\"1749\",\"type\":\"BasicTickFormatter\"},{\"attributes\":{\"source\":{\"id\":\"1710\",\"type\":\"ColumnDataSource\"}},\"id\":\"1798\",\"type\":\"CDSView\"},{\"attributes\":{\"line_color\":\"#2ca02c\",\"line_width\":2,\"x\":{\"field\":\"index\"},\"y\":{\"field\":\"DHI\"}},\"id\":\"1795\",\"type\":\"Line\"},{\"attributes\":{},\"id\":\"1751\",\"type\":\"DatetimeTickFormatter\"},{\"attributes\":{\"source\":{\"id\":\"1710\",\"type\":\"ColumnDataSource\"}},\"id\":\"1745\",\"type\":\"CDSView\"},{\"attributes\":{\"label\":{\"value\":\"DHI\"},\"renderers\":[{\"id\":\"1797\",\"type\":\"GlyphRenderer\"}]},\"id\":\"1820\",\"type\":\"LegendItem\"},{\"attributes\":{\"below\":[{\"id\":\"1829\",\"type\":\"DatetimeAxis\"}],\"center\":[{\"id\":\"1833\",\"type\":\"Grid\"},{\"id\":\"1838\",\"type\":\"Grid\"},{\"id\":\"1874\",\"type\":\"Legend\"}],\"left\":[{\"id\":\"1834\",\"type\":\"LinearAxis\"}],\"plot_height\":200,\"plot_width\":800,\"renderers\":[{\"id\":\"1853\",\"type\":\"GlyphRenderer\"}],\"title\":{\"id\":\"1855\",\"type\":\"Title\"},\"toolbar\":{\"id\":\"1844\",\"type\":\"Toolbar\"},\"toolbar_location\":null,\"x_range\":{\"id\":\"1712\",\"type\":\"DataRange1d\"},\"x_scale\":{\"id\":\"1825\",\"type\":\"LinearScale\"},\"y_range\":{\"id\":\"1823\",\"type\":\"DataRange1d\"},\"y_scale\":{\"id\":\"1827\",\"type\":\"LinearScale\"}},\"id\":\"1821\",\"subtype\":\"Figure\",\"type\":\"Plot\"},{\"attributes\":{},\"id\":\"1716\",\"type\":\"LinearScale\"},{\"attributes\":{\"dimensions\":\"width\"},\"id\":\"1732\",\"type\":\"WheelZoomTool\"},{\"attributes\":{},\"id\":\"1913\",\"type\":\"BasicTickFormatter\"},{\"attributes\":{\"mantissas\":[1,2,5],\"max_interval\":500.0,\"num_minor_ticks\":0},\"id\":\"1752\",\"type\":\"AdaptiveTicker\"},{\"attributes\":{\"base\":60,\"mantissas\":[1,2,5,10,15,20,30],\"max_interval\":1800000.0,\"min_interval\":1000.0,\"num_minor_ticks\":0},\"id\":\"1753\",\"type\":\"AdaptiveTicker\"},{\"attributes\":{},\"id\":\"1915\",\"type\":\"DatetimeTickFormatter\"}],\"root_ids\":[\"2000\"]},\"title\":\"Bokeh Application\",\"version\":\"1.4.0\"}};\n",
       "  var render_items = [{\"docid\":\"30297b8a-8acd-4969-a84c-7cead4509c94\",\"roots\":{\"2000\":\"c03de1f2-e0cd-4ad4-a048-304103ed715d\"}}];\n",
       "  root.Bokeh.embed.embed_items_notebook(docs_json, render_items);\n",
       "\n",
       "  }\n",
       "  if (root.Bokeh !== undefined) {\n",
       "    embed_document(root);\n",
       "  } else {\n",
       "    var attempts = 0;\n",
       "    var timer = setInterval(function(root) {\n",
       "      if (root.Bokeh !== undefined) {\n",
       "        clearInterval(timer);\n",
       "        embed_document(root);\n",
       "      } else {\n",
       "        attempts++;\n",
       "        if (attempts > 100) {\n",
       "          clearInterval(timer);\n",
       "          console.log(\"Bokeh: ERROR: Unable to run BokehJS code because BokehJS library is missing\");\n",
       "        }\n",
       "      }\n",
       "    }, 10, root)\n",
       "  }\n",
       "})(window);"
      ],
      "application/vnd.bokehjs_exec.v0+json": ""
     },
     "metadata": {
      "application/vnd.bokehjs_exec.v0+json": {
       "id": "2000"
      }
     },
     "output_type": "display_data"
    }
   ],
   "source": [
    "# Complete GFS is available 5 hours after its initialization time\n",
    "run_time = pd.Timestamp('20190515T0500Z')\n",
    "issue_time = pd.Timestamp('20190515T0100Z')\n",
    "\n",
    "# define a Forecast object\n",
    "forecast = datamodel.Forecast(\n",
    "    name='OASIS 3 days GHI',\n",
    "    site=site,\n",
    "    variable='ghi',\n",
    "    interval_label='instant',\n",
    "    interval_value_type='interval_mean',\n",
    "    interval_length='1h',\n",
    "    issue_time_of_day=datetime.time(hour=1),\n",
    "    run_length=pd.Timedelta('24h')*3,\n",
    "    lead_time_to_start=pd.Timedelta('0h')\n",
    ")\n",
    "\n",
    "# select the model\n",
    "model = models.gfs_quarter_deg_to_hourly_mean\n",
    "\n",
    "# tell the model where to find the NWP data\n",
    "model_wrapped = partial(model, load_forecast=load_forecast)\n",
    "\n",
    "# load and process the NWP data. ac_power is None because site is not a power plant.\n",
    "ghi, dni, dhi, air_temperature, wind_speed, ac_power = main.run_nwp(forecast, model_wrapped, run_time, issue_time)\n",
    "\n",
    "grid = plot_nwp(ghi, dni, dhi, air_temperature, wind_speed, ac_power)\n",
    "show(grid)"
   ]
  },
  {
   "cell_type": "markdown",
   "metadata": {},
   "source": [
    "The forecast function will produce an AC power forecast if supplied with the appropriate metadata. Here we define a single axis tracker."
   ]
  },
  {
   "cell_type": "code",
   "execution_count": 11,
   "metadata": {},
   "outputs": [],
   "source": [
    "# define the modeling parameters\n",
    "modeling_parameters = datamodel.SingleAxisModelingParameters(\n",
    "    ac_capacity=10,  # always in MW\n",
    "    dc_capacity=13,\n",
    "    temperature_coefficient=-0.003,  # 1/C\n",
    "    dc_loss_factor=0,\n",
    "    ac_loss_factor=0,\n",
    "    axis_tilt=0,\n",
    "    axis_azimuth=0,\n",
    "    ground_coverage_ratio=0.4,\n",
    "    backtrack=True,\n",
    "    max_rotation_angle=50,\n",
    ")\n",
    "# define a SolarPowerPlant object\n",
    "plant = datamodel.SolarPowerPlant(\n",
    "    name='Tucson AZ Plant',\n",
    "    latitude=latitude,\n",
    "    longitude=longitude,\n",
    "    elevation=elevation,\n",
    "    timezone='America/Phoenix',\n",
    "    modeling_parameters=modeling_parameters\n",
    ")"
   ]
  },
  {
   "cell_type": "markdown",
   "metadata": {},
   "source": [
    "Now we run the same code as before to create an AC power forecast from the GFS model."
   ]
  },
  {
   "cell_type": "code",
   "execution_count": 12,
   "metadata": {},
   "outputs": [
    {
     "data": {
      "text/html": [
       "\n",
       "\n",
       "\n",
       "\n",
       "\n",
       "\n",
       "  <div class=\"bk-root\" id=\"4a773a66-560d-4249-864f-2fc36550bd11\" data-root-id=\"2844\"></div>\n"
      ]
     },
     "metadata": {},
     "output_type": "display_data"
    },
    {
     "data": {
      "application/javascript": [
       "(function(root) {\n",
       "  function embed_document(root) {\n",
       "    \n",
       "  var docs_json = {\"eee2815e-a9e1-45bb-ad21-85ae667e6045\":{\"roots\":{\"references\":[{\"attributes\":{\"children\":[{\"id\":\"2843\",\"type\":\"ToolbarBox\"},{\"id\":\"2841\",\"type\":\"GridBox\"}]},\"id\":\"2844\",\"type\":\"Column\"},{\"attributes\":{\"base\":60,\"mantissas\":[1,2,5,10,15,20,30],\"max_interval\":1800000.0,\"min_interval\":1000.0,\"num_minor_ticks\":0},\"id\":\"2520\",\"type\":\"AdaptiveTicker\"},{\"attributes\":{\"days\":[1,2,3,4,5,6,7,8,9,10,11,12,13,14,15,16,17,18,19,20,21,22,23,24,25,26,27,28,29,30,31]},\"id\":\"2522\",\"type\":\"DaysTicker\"},{\"attributes\":{},\"id\":\"2497\",\"type\":\"PanTool\"},{\"attributes\":{\"base\":24,\"mantissas\":[1,2,4,6,8,12],\"max_interval\":43200000.0,\"min_interval\":3600000.0,\"num_minor_ticks\":0},\"id\":\"2521\",\"type\":\"AdaptiveTicker\"},{\"attributes\":{\"months\":[0,1,2,3,4,5,6,7,8,9,10,11]},\"id\":\"2526\",\"type\":\"MonthsTicker\"},{\"attributes\":{\"items\":[{\"id\":\"2642\",\"type\":\"LegendItem\"}],\"location\":\"top_left\"},\"id\":\"2641\",\"type\":\"Legend\"},{\"attributes\":{\"line_color\":\"#1f77b4\",\"line_width\":2,\"x\":{\"field\":\"index\"},\"y\":{\"field\":\"GHI\"}},\"id\":\"2509\",\"type\":\"Line\"},{\"attributes\":{\"months\":[0,2,4,6,8,10]},\"id\":\"2527\",\"type\":\"MonthsTicker\"},{\"attributes\":{\"callback\":null},\"id\":\"2590\",\"type\":\"DataRange1d\"},{\"attributes\":{\"days\":[1,4,7,10,13,16,19,22,25,28]},\"id\":\"2523\",\"type\":\"DaysTicker\"},{\"attributes\":{\"label\":{\"value\":\"Air temperature\"},\"renderers\":[{\"id\":\"2620\",\"type\":\"GlyphRenderer\"}]},\"id\":\"2642\",\"type\":\"LegendItem\"},{\"attributes\":{\"days\":[1,15]},\"id\":\"2525\",\"type\":\"DaysTicker\"},{\"attributes\":{\"text\":\"\"},\"id\":\"2513\",\"type\":\"Title\"},{\"attributes\":{\"line_color\":\"#2ca02c\",\"line_width\":2,\"x\":{\"field\":\"index\"},\"y\":{\"field\":\"DHI\"}},\"id\":\"2562\",\"type\":\"Line\"},{\"attributes\":{\"months\":[0,6]},\"id\":\"2529\",\"type\":\"MonthsTicker\"},{\"attributes\":{\"line_alpha\":0.1,\"line_color\":\"#1f77b4\",\"line_width\":2,\"x\":{\"field\":\"index\"},\"y\":{\"field\":\"DHI\"}},\"id\":\"2563\",\"type\":\"Line\"},{\"attributes\":{\"days\":[1,8,15,22]},\"id\":\"2524\",\"type\":\"DaysTicker\"},{\"attributes\":{},\"id\":\"2501\",\"type\":\"SaveTool\"},{\"attributes\":{\"source\":{\"id\":\"2477\",\"type\":\"ColumnDataSource\"}},\"id\":\"2565\",\"type\":\"CDSView\"},{\"attributes\":{},\"id\":\"2530\",\"type\":\"YearsTicker\"},{\"attributes\":{\"label\":{\"value\":\"DHI\"},\"renderers\":[{\"id\":\"2564\",\"type\":\"GlyphRenderer\"}]},\"id\":\"2587\",\"type\":\"LegendItem\"},{\"attributes\":{},\"id\":\"2594\",\"type\":\"LinearScale\"},{\"attributes\":{\"months\":[0,4,8]},\"id\":\"2528\",\"type\":\"MonthsTicker\"},{\"attributes\":{\"line_alpha\":0.1,\"line_color\":\"#1f77b4\",\"line_width\":2,\"x\":{\"field\":\"index\"},\"y\":{\"field\":\"GHI\"}},\"id\":\"2510\",\"type\":\"Line\"},{\"attributes\":{},\"id\":\"2500\",\"type\":\"ResetTool\"},{\"attributes\":{},\"id\":\"2592\",\"type\":\"LinearScale\"},{\"attributes\":{\"source\":{\"id\":\"2477\",\"type\":\"ColumnDataSource\"}},\"id\":\"2512\",\"type\":\"CDSView\"},{\"attributes\":{\"bottom_units\":\"screen\",\"fill_alpha\":{\"value\":0.5},\"fill_color\":{\"value\":\"lightgrey\"},\"left_units\":\"screen\",\"level\":\"overlay\",\"line_alpha\":{\"value\":1.0},\"line_color\":{\"value\":\"black\"},\"line_dash\":[4,4],\"line_width\":{\"value\":2},\"render_mode\":\"css\",\"right_units\":\"screen\",\"top_units\":\"screen\"},\"id\":\"2531\",\"type\":\"BoxAnnotation\"},{\"attributes\":{\"line_color\":\"#d62728\",\"line_width\":2,\"x\":{\"field\":\"index\"},\"y\":{\"field\":\"Air temperature\"}},\"id\":\"2618\",\"type\":\"Line\"},{\"attributes\":{\"days\":[1,2,3,4,5,6,7,8,9,10,11,12,13,14,15,16,17,18,19,20,21,22,23,24,25,26,27,28,29,30,31]},\"id\":\"2686\",\"type\":\"DaysTicker\"},{\"attributes\":{\"ticker\":{\"id\":\"2597\",\"type\":\"DatetimeTicker\"}},\"id\":\"2600\",\"type\":\"Grid\"},{\"attributes\":{\"axis_label\":\"Air temperature (C)\",\"formatter\":{\"id\":\"2625\",\"type\":\"BasicTickFormatter\"},\"ticker\":{\"id\":\"2602\",\"type\":\"BasicTicker\"}},\"id\":\"2601\",\"type\":\"LinearAxis\"},{\"attributes\":{\"formatter\":{\"id\":\"2627\",\"type\":\"DatetimeTickFormatter\"},\"ticker\":{\"id\":\"2597\",\"type\":\"DatetimeTicker\"}},\"id\":\"2596\",\"type\":\"DatetimeAxis\"},{\"attributes\":{\"below\":[{\"id\":\"2596\",\"type\":\"DatetimeAxis\"}],\"center\":[{\"id\":\"2600\",\"type\":\"Grid\"},{\"id\":\"2605\",\"type\":\"Grid\"},{\"id\":\"2641\",\"type\":\"Legend\"}],\"left\":[{\"id\":\"2601\",\"type\":\"LinearAxis\"}],\"plot_height\":200,\"plot_width\":800,\"renderers\":[{\"id\":\"2620\",\"type\":\"GlyphRenderer\"}],\"title\":{\"id\":\"2622\",\"type\":\"Title\"},\"toolbar\":{\"id\":\"2611\",\"type\":\"Toolbar\"},\"toolbar_location\":null,\"x_range\":{\"id\":\"2479\",\"type\":\"DataRange1d\"},\"x_scale\":{\"id\":\"2592\",\"type\":\"LinearScale\"},\"y_range\":{\"id\":\"2590\",\"type\":\"DataRange1d\"},\"y_scale\":{\"id\":\"2594\",\"type\":\"LinearScale\"}},\"id\":\"2588\",\"subtype\":\"Figure\",\"type\":\"Plot\"},{\"attributes\":{\"num_minor_ticks\":5,\"tickers\":[{\"id\":\"2628\",\"type\":\"AdaptiveTicker\"},{\"id\":\"2629\",\"type\":\"AdaptiveTicker\"},{\"id\":\"2630\",\"type\":\"AdaptiveTicker\"},{\"id\":\"2631\",\"type\":\"DaysTicker\"},{\"id\":\"2632\",\"type\":\"DaysTicker\"},{\"id\":\"2633\",\"type\":\"DaysTicker\"},{\"id\":\"2634\",\"type\":\"DaysTicker\"},{\"id\":\"2635\",\"type\":\"MonthsTicker\"},{\"id\":\"2636\",\"type\":\"MonthsTicker\"},{\"id\":\"2637\",\"type\":\"MonthsTicker\"},{\"id\":\"2638\",\"type\":\"MonthsTicker\"},{\"id\":\"2639\",\"type\":\"YearsTicker\"}]},\"id\":\"2597\",\"type\":\"DatetimeTicker\"},{\"attributes\":{},\"id\":\"2602\",\"type\":\"BasicTicker\"},{\"attributes\":{},\"id\":\"2606\",\"type\":\"PanTool\"},{\"attributes\":{\"dimension\":1,\"ticker\":{\"id\":\"2602\",\"type\":\"BasicTicker\"}},\"id\":\"2605\",\"type\":\"Grid\"},{\"attributes\":{\"source\":{\"id\":\"2477\",\"type\":\"ColumnDataSource\"}},\"id\":\"2621\",\"type\":\"CDSView\"},{\"attributes\":{},\"id\":\"2483\",\"type\":\"LinearScale\"},{\"attributes\":{\"overlay\":{\"id\":\"2640\",\"type\":\"BoxAnnotation\"}},\"id\":\"2607\",\"type\":\"BoxZoomTool\"},{\"attributes\":{\"dimensions\":\"width\"},\"id\":\"2608\",\"type\":\"WheelZoomTool\"},{\"attributes\":{},\"id\":\"2609\",\"type\":\"ResetTool\"},{\"attributes\":{},\"id\":\"2610\",\"type\":\"SaveTool\"},{\"attributes\":{\"active_drag\":\"auto\",\"active_inspect\":\"auto\",\"active_multi\":null,\"active_scroll\":\"auto\",\"active_tap\":\"auto\",\"tools\":[{\"id\":\"2497\",\"type\":\"PanTool\"},{\"id\":\"2498\",\"type\":\"BoxZoomTool\"},{\"id\":\"2499\",\"type\":\"WheelZoomTool\"},{\"id\":\"2500\",\"type\":\"ResetTool\"},{\"id\":\"2501\",\"type\":\"SaveTool\"}]},\"id\":\"2502\",\"type\":\"Toolbar\"},{\"attributes\":{\"active_drag\":\"auto\",\"active_inspect\":\"auto\",\"active_multi\":null,\"active_scroll\":\"auto\",\"active_tap\":\"auto\",\"tools\":[{\"id\":\"2606\",\"type\":\"PanTool\"},{\"id\":\"2607\",\"type\":\"BoxZoomTool\"},{\"id\":\"2608\",\"type\":\"WheelZoomTool\"},{\"id\":\"2609\",\"type\":\"ResetTool\"},{\"id\":\"2610\",\"type\":\"SaveTool\"}]},\"id\":\"2611\",\"type\":\"Toolbar\"},{\"attributes\":{\"line_alpha\":0.1,\"line_color\":\"#1f77b4\",\"line_width\":2,\"x\":{\"field\":\"index\"},\"y\":{\"field\":\"Air temperature\"}},\"id\":\"2619\",\"type\":\"Line\"},{\"attributes\":{\"text\":\"\"},\"id\":\"2622\",\"type\":\"Title\"},{\"attributes\":{},\"id\":\"2493\",\"type\":\"BasicTicker\"},{\"attributes\":{\"axis_label\":\"Irradiance (W/m^2)\",\"formatter\":{\"id\":\"2516\",\"type\":\"BasicTickFormatter\"},\"ticker\":{\"id\":\"2493\",\"type\":\"BasicTicker\"}},\"id\":\"2492\",\"type\":\"LinearAxis\"},{\"attributes\":{\"items\":[{\"id\":\"2533\",\"type\":\"LegendItem\"},{\"id\":\"2560\",\"type\":\"LegendItem\"},{\"id\":\"2587\",\"type\":\"LegendItem\"}],\"location\":\"top_left\"},\"id\":\"2532\",\"type\":\"Legend\"},{\"attributes\":{\"below\":[{\"id\":\"2487\",\"type\":\"DatetimeAxis\"}],\"center\":[{\"id\":\"2491\",\"type\":\"Grid\"},{\"id\":\"2496\",\"type\":\"Grid\"},{\"id\":\"2532\",\"type\":\"Legend\"}],\"left\":[{\"id\":\"2492\",\"type\":\"LinearAxis\"}],\"plot_height\":200,\"plot_width\":800,\"renderers\":[{\"id\":\"2511\",\"type\":\"GlyphRenderer\"},{\"id\":\"2537\",\"type\":\"GlyphRenderer\"},{\"id\":\"2564\",\"type\":\"GlyphRenderer\"}],\"title\":{\"id\":\"2513\",\"type\":\"Title\"},\"toolbar\":{\"id\":\"2502\",\"type\":\"Toolbar\"},\"toolbar_location\":null,\"x_range\":{\"id\":\"2479\",\"type\":\"DataRange1d\"},\"x_scale\":{\"id\":\"2483\",\"type\":\"LinearScale\"},\"y_range\":{\"id\":\"2481\",\"type\":\"DataRange1d\"},\"y_scale\":{\"id\":\"2485\",\"type\":\"LinearScale\"}},\"id\":\"2478\",\"subtype\":\"Figure\",\"type\":\"Plot\"},{\"attributes\":{\"callback\":null},\"id\":\"2479\",\"type\":\"DataRange1d\"},{\"attributes\":{\"line_color\":\"#ff7f0e\",\"line_width\":2,\"x\":{\"field\":\"index\"},\"y\":{\"field\":\"DNI\"}},\"id\":\"2535\",\"type\":\"Line\"},{\"attributes\":{\"data_source\":{\"id\":\"2477\",\"type\":\"ColumnDataSource\"},\"glyph\":{\"id\":\"2509\",\"type\":\"Line\"},\"hover_glyph\":null,\"muted_glyph\":null,\"nonselection_glyph\":{\"id\":\"2510\",\"type\":\"Line\"},\"selection_glyph\":null,\"view\":{\"id\":\"2512\",\"type\":\"CDSView\"}},\"id\":\"2511\",\"type\":\"GlyphRenderer\"},{\"attributes\":{\"label\":{\"value\":\"GHI\"},\"renderers\":[{\"id\":\"2511\",\"type\":\"GlyphRenderer\"}]},\"id\":\"2533\",\"type\":\"LegendItem\"},{\"attributes\":{\"data_source\":{\"id\":\"2477\",\"type\":\"ColumnDataSource\"},\"glyph\":{\"id\":\"2562\",\"type\":\"Line\"},\"hover_glyph\":null,\"muted_glyph\":null,\"nonselection_glyph\":{\"id\":\"2563\",\"type\":\"Line\"},\"selection_glyph\":null,\"view\":{\"id\":\"2565\",\"type\":\"CDSView\"}},\"id\":\"2564\",\"type\":\"GlyphRenderer\"},{\"attributes\":{\"line_alpha\":0.1,\"line_color\":\"#1f77b4\",\"line_width\":2,\"x\":{\"field\":\"index\"},\"y\":{\"field\":\"DNI\"}},\"id\":\"2536\",\"type\":\"Line\"},{\"attributes\":{\"data_source\":{\"id\":\"2477\",\"type\":\"ColumnDataSource\"},\"glyph\":{\"id\":\"2535\",\"type\":\"Line\"},\"hover_glyph\":null,\"muted_glyph\":null,\"nonselection_glyph\":{\"id\":\"2536\",\"type\":\"Line\"},\"selection_glyph\":null,\"view\":{\"id\":\"2538\",\"type\":\"CDSView\"}},\"id\":\"2537\",\"type\":\"GlyphRenderer\"},{\"attributes\":{\"source\":{\"id\":\"2477\",\"type\":\"ColumnDataSource\"}},\"id\":\"2538\",\"type\":\"CDSView\"},{\"attributes\":{\"label\":{\"value\":\"DNI\"},\"renderers\":[{\"id\":\"2537\",\"type\":\"GlyphRenderer\"}]},\"id\":\"2560\",\"type\":\"LegendItem\"},{\"attributes\":{},\"id\":\"2625\",\"type\":\"BasicTickFormatter\"},{\"attributes\":{\"formatter\":{\"id\":\"2518\",\"type\":\"DatetimeTickFormatter\"},\"ticker\":{\"id\":\"2488\",\"type\":\"DatetimeTicker\"}},\"id\":\"2487\",\"type\":\"DatetimeAxis\"},{\"attributes\":{\"ticker\":{\"id\":\"2488\",\"type\":\"DatetimeTicker\"}},\"id\":\"2491\",\"type\":\"Grid\"},{\"attributes\":{\"dimensions\":\"width\"},\"id\":\"2499\",\"type\":\"WheelZoomTool\"},{\"attributes\":{},\"id\":\"2485\",\"type\":\"LinearScale\"},{\"attributes\":{},\"id\":\"2627\",\"type\":\"DatetimeTickFormatter\"},{\"attributes\":{\"dimension\":1,\"ticker\":{\"id\":\"2493\",\"type\":\"BasicTicker\"}},\"id\":\"2496\",\"type\":\"Grid\"},{\"attributes\":{\"callback\":null},\"id\":\"2481\",\"type\":\"DataRange1d\"},{\"attributes\":{\"num_minor_ticks\":5,\"tickers\":[{\"id\":\"2519\",\"type\":\"AdaptiveTicker\"},{\"id\":\"2520\",\"type\":\"AdaptiveTicker\"},{\"id\":\"2521\",\"type\":\"AdaptiveTicker\"},{\"id\":\"2522\",\"type\":\"DaysTicker\"},{\"id\":\"2523\",\"type\":\"DaysTicker\"},{\"id\":\"2524\",\"type\":\"DaysTicker\"},{\"id\":\"2525\",\"type\":\"DaysTicker\"},{\"id\":\"2526\",\"type\":\"MonthsTicker\"},{\"id\":\"2527\",\"type\":\"MonthsTicker\"},{\"id\":\"2528\",\"type\":\"MonthsTicker\"},{\"id\":\"2529\",\"type\":\"MonthsTicker\"},{\"id\":\"2530\",\"type\":\"YearsTicker\"}]},\"id\":\"2488\",\"type\":\"DatetimeTicker\"},{\"attributes\":{\"mantissas\":[1,2,5],\"max_interval\":500.0,\"num_minor_ticks\":0},\"id\":\"2628\",\"type\":\"AdaptiveTicker\"},{\"attributes\":{\"base\":60,\"mantissas\":[1,2,5,10,15,20,30],\"max_interval\":1800000.0,\"min_interval\":1000.0,\"num_minor_ticks\":0},\"id\":\"2629\",\"type\":\"AdaptiveTicker\"},{\"attributes\":{\"overlay\":{\"id\":\"2531\",\"type\":\"BoxAnnotation\"}},\"id\":\"2498\",\"type\":\"BoxZoomTool\"},{\"attributes\":{},\"id\":\"2559\",\"type\":\"UnionRenderers\"},{\"attributes\":{\"days\":[1,2,3,4,5,6,7,8,9,10,11,12,13,14,15,16,17,18,19,20,21,22,23,24,25,26,27,28,29,30,31]},\"id\":\"2631\",\"type\":\"DaysTicker\"},{\"attributes\":{\"base\":24,\"mantissas\":[1,2,4,6,8,12],\"max_interval\":43200000.0,\"min_interval\":3600000.0,\"num_minor_ticks\":0},\"id\":\"2630\",\"type\":\"AdaptiveTicker\"},{\"attributes\":{},\"id\":\"2558\",\"type\":\"Selection\"},{\"attributes\":{\"days\":[1,8,15,22]},\"id\":\"2633\",\"type\":\"DaysTicker\"},{\"attributes\":{\"data_source\":{\"id\":\"2477\",\"type\":\"ColumnDataSource\"},\"glyph\":{\"id\":\"2618\",\"type\":\"Line\"},\"hover_glyph\":null,\"muted_glyph\":null,\"nonselection_glyph\":{\"id\":\"2619\",\"type\":\"Line\"},\"selection_glyph\":null,\"view\":{\"id\":\"2621\",\"type\":\"CDSView\"}},\"id\":\"2620\",\"type\":\"GlyphRenderer\"},{\"attributes\":{\"days\":[1,4,7,10,13,16,19,22,25,28]},\"id\":\"2632\",\"type\":\"DaysTicker\"},{\"attributes\":{},\"id\":\"2702\",\"type\":\"LinearScale\"},{\"attributes\":{\"days\":[1,15]},\"id\":\"2634\",\"type\":\"DaysTicker\"},{\"attributes\":{\"below\":[{\"id\":\"2706\",\"type\":\"DatetimeAxis\"}],\"center\":[{\"id\":\"2710\",\"type\":\"Grid\"},{\"id\":\"2715\",\"type\":\"Grid\"},{\"id\":\"2751\",\"type\":\"Legend\"}],\"left\":[{\"id\":\"2711\",\"type\":\"LinearAxis\"}],\"plot_height\":200,\"plot_width\":800,\"renderers\":[{\"id\":\"2730\",\"type\":\"GlyphRenderer\"}],\"title\":{\"id\":\"2732\",\"type\":\"Title\"},\"toolbar\":{\"id\":\"2721\",\"type\":\"Toolbar\"},\"toolbar_location\":null,\"x_range\":{\"id\":\"2479\",\"type\":\"DataRange1d\"},\"x_scale\":{\"id\":\"2702\",\"type\":\"LinearScale\"},\"y_range\":{\"id\":\"2700\",\"type\":\"DataRange1d\"},\"y_scale\":{\"id\":\"2704\",\"type\":\"LinearScale\"}},\"id\":\"2698\",\"subtype\":\"Figure\",\"type\":\"Plot\"},{\"attributes\":{\"months\":[0,6]},\"id\":\"2638\",\"type\":\"MonthsTicker\"},{\"attributes\":{},\"id\":\"2704\",\"type\":\"LinearScale\"},{\"attributes\":{},\"id\":\"2639\",\"type\":\"YearsTicker\"},{\"attributes\":{\"months\":[0,1,2,3,4,5,6,7,8,9,10,11]},\"id\":\"2635\",\"type\":\"MonthsTicker\"},{\"attributes\":{\"data_source\":{\"id\":\"2477\",\"type\":\"ColumnDataSource\"},\"glyph\":{\"id\":\"2728\",\"type\":\"Line\"},\"hover_glyph\":null,\"muted_glyph\":null,\"nonselection_glyph\":{\"id\":\"2729\",\"type\":\"Line\"},\"selection_glyph\":null,\"view\":{\"id\":\"2731\",\"type\":\"CDSView\"}},\"id\":\"2730\",\"type\":\"GlyphRenderer\"},{\"attributes\":{\"bottom_units\":\"screen\",\"fill_alpha\":{\"value\":0.5},\"fill_color\":{\"value\":\"lightgrey\"},\"left_units\":\"screen\",\"level\":\"overlay\",\"line_alpha\":{\"value\":1.0},\"line_color\":{\"value\":\"black\"},\"line_dash\":[4,4],\"line_width\":{\"value\":2},\"render_mode\":\"css\",\"right_units\":\"screen\",\"top_units\":\"screen\"},\"id\":\"2750\",\"type\":\"BoxAnnotation\"},{\"attributes\":{\"months\":[0,2,4,6,8,10]},\"id\":\"2636\",\"type\":\"MonthsTicker\"},{\"attributes\":{\"axis_label\":\"AC power (MW)\",\"formatter\":{\"id\":\"2735\",\"type\":\"BasicTickFormatter\"},\"ticker\":{\"id\":\"2712\",\"type\":\"BasicTicker\"}},\"id\":\"2711\",\"type\":\"LinearAxis\"},{\"attributes\":{\"months\":[0,4,8]},\"id\":\"2637\",\"type\":\"MonthsTicker\"},{\"attributes\":{\"callback\":null},\"id\":\"2700\",\"type\":\"DataRange1d\"},{\"attributes\":{},\"id\":\"2712\",\"type\":\"BasicTicker\"},{\"attributes\":{\"axis_label\":\"Time (UTC)\",\"formatter\":{\"id\":\"2737\",\"type\":\"DatetimeTickFormatter\"},\"ticker\":{\"id\":\"2707\",\"type\":\"DatetimeTicker\"}},\"id\":\"2706\",\"type\":\"DatetimeAxis\"},{\"attributes\":{\"num_minor_ticks\":5,\"tickers\":[{\"id\":\"2738\",\"type\":\"AdaptiveTicker\"},{\"id\":\"2739\",\"type\":\"AdaptiveTicker\"},{\"id\":\"2740\",\"type\":\"AdaptiveTicker\"},{\"id\":\"2741\",\"type\":\"DaysTicker\"},{\"id\":\"2742\",\"type\":\"DaysTicker\"},{\"id\":\"2743\",\"type\":\"DaysTicker\"},{\"id\":\"2744\",\"type\":\"DaysTicker\"},{\"id\":\"2745\",\"type\":\"MonthsTicker\"},{\"id\":\"2746\",\"type\":\"MonthsTicker\"},{\"id\":\"2747\",\"type\":\"MonthsTicker\"},{\"id\":\"2748\",\"type\":\"MonthsTicker\"},{\"id\":\"2749\",\"type\":\"YearsTicker\"}]},\"id\":\"2707\",\"type\":\"DatetimeTicker\"},{\"attributes\":{\"ticker\":{\"id\":\"2707\",\"type\":\"DatetimeTicker\"}},\"id\":\"2710\",\"type\":\"Grid\"},{\"attributes\":{\"callback\":null,\"data\":{\"AC power\":{\"__ndarray__\":\"MTeqEXOyAkAAAAAAAAAAAAAAAAAAAAAAAAAAAAAAAAAAAAAAAAAAAAAAAAAAAAAAAAAAAAAAAAAAAAAAAAAAAAAAAAAAAAAAAAAAAAAAAAAAAAAAAAAAAGnmGTqfna0/xZEwXp5oEECJV6J+8SojQAAAAAAAACRAAAAAAAAAJEAAAAAAAAAkQAAAAAAAACRAZQQgbismHECLA8NbPw0UQGn9OMRcexBAa4zcvOdzCUBmrD+/lfUEQEiOWuMCAvo/c6CfnHum3D8AAAAAAAAAAAAAAAAAAAAAAAAAAAAAAAAAAAAAAAAAAAAAAAAAAAAAAAAAAAAAAAAAAAAAAAAAAAAAAAAAAAAAAAAAAAAAAAAAAAAAAAAAAGLut+e1aIE/nvfoHDg94j9HTEeYo1X3P0GAhtwopAJAw+nDBUq6CUBRHRxuGNwPQJMlmRT1DCNAAAAAAAAAJEAAAAAAAAAkQAAAAAAAACRAAAAAAAAAJEA5asfyKfAGQGPL1AJVE/Y/FTxIJDoQ2D8AAAAAAAAAAAAAAAAAAAAAAAAAAAAAAAAAAAAAAAAAAAAAAAAAAAAAAAAAAAAAAAAAAAAAAAAAAAAAAAAAAAAAAAAAAAAAAAAAAAAAAAAAAGiwOu0yQIY/bWmt61jA9j8YR76x/skQQPn+ivLqayJAAAAAAAAAJEAAAAAAAAAkQAAAAAAAACRAAAAAAAAAJEAAAAAAAAAkQAAAAAAAACRAAAAAAAAAJEAAAAAAAAAkQC1lLoVS0SFA0e0Y7JzqF0A=\",\"dtype\":\"float64\",\"shape\":[73]},\"Air temperature\":{\"__ndarray__\":\"0CLRQXtzwEHQFLRBexOuQXuxqEElHqJBJcibQdCgl0F7l5JBJeiLQXuJhUF7mYRBe+WRQdDko0F7ebFBe5u/QSV2zUHQ7NlB0LTiQSUk6UF7g+1Be23uQSVw60EljuNBJarVQXuhxEEldLhB0GKwQSWap0F7kZ9Be5uXQSUij0HQvIhBJbKEQdBWgUEl6IJB0NqQQdBao0Elaq9Bexe4QdBiw0HQHNFB0KbbQXuX3kHQTttB0ALYQSUQ0UEl2sRB0PqyQXsbn0F77ZBBeyWIQXtFgUFL4HZBS3BsQUvQYkFLMFlB9U5QQfV2TUGg/UxBoJVMQUvQVUFLbGZB9WJ5QdD6hkHQVJJBJdacQdAOpUHQhqhBe5emQXtxoEHQGJdB0JyRQQ==\",\"dtype\":\"float32\",\"shape\":[73]},\"DHI\":{\"__ndarray__\":\"IKL9w9AgTkBwvGlLh0HfPwAAAAAAAAAAAAAAAAAAAAAAAAAAAAAAAAAAAAAAAAAAAAAAAAAAAAAAAAAAAAAAAAAAAAAAAAAAAAAAAAAAAAAAAAAAAAAAAPTRN/1X/xVAfqL6+rk9VEDrCvbY25NaQFjfRusFtVxAQW/3UxCOYEB2ON230KljQFcpPgK2+GxA6KjuWFBtekBFGnfWh1N3QKG83DkGPnRAbKoTfpx/cECrdK2BoohqQG0Aa5yMEGBAoCY4YT/WQkA4Xsa9K17RPwAAAAAAAAAAAAAAAAAAAAAAAAAAAAAAAAAAAAAAAAAAAAAAAAAAAAAAAAAAAAAAAAAAAAAAAAAAAAAAAAAAAAAAAAAAAAAAAM+EbYsS+gBAFJF1LAkeSEAP1yAOB7RfQMRk8wx2UWlAZW5fkLSxcEDVAIpFjbxzQCCAHP75mWZAES61r6FQZUBMI2Je2HNkQAlRD14jc2JA88xNWA7rX0AL0hFEvAlnQJiZMqh781xA4dyTUl6KQECJpeCz7XjPPwAAAAAAAAAAAAAAAAAAAAAAAAAAAAAAAAAAAAAAAAAAAAAAAAAAAAAAAAAAAAAAAAAAAAAAAAAAAAAAAAAAAAAAAAAAAAAAAMobQmkoCgNABW7Z6NcsVEBkOeelmRZnQLMjbYKAUWhAY9DDgZ67YkCxZ7q6siBjQDeclnxzzWRAlyCMMMRTZUD/7VnlYXdkQHEhKdU4d2JAX2WcLDPzX0CYDjCyQwBcQPVm+sXONlpApUCpJW90WEA=\",\"dtype\":\"float64\",\"shape\":[73]},\"DNI\":{\"__ndarray__\":\"RK4bA9SIX0AAAAAAAAAAAAAAAAAAAAAAAAAAAAAAAAAAAAAAAAAAAAAAAAAAAAAAAAAAAAAAAAAAAAAAAAAAAAAAAAAAAAAAAAAAAAAAAAAAAAAAAAAAAA3gd+opa/c/HPztYvsvbUBRz042cX+DQDFvOOP5qYhAD5CKBFOhikDbKzfrxQ6KQNmz7oe8HYVAiU7cuhRlYkBBp24xpPo/QHxAM3+VyzRAV2vhk02jMEDEzX3kCjQ3QGUN3c/+2i5AZzxZy148EEAAAAAAAAAAAAAAAAAAAAAAAAAAAAAAAAAAAAAAAAAAAAAAAAAAAAAAAAAAAAAAAAAAAAAAAAAAAAAAAAAAAAAAAAAAAAAAAAAAAAAAAAAAAHieuUG898c/3P3ifswGDkBUVBfunC0eQL36Bz+I0CVAL0gBZe2TKkDEEktKD4otQAWABEfcc4lAhOFQdbDIi0C8UwYfZKqLQJApFo6lRYtA/1NpiShKikC+yKXvHs5TQA3GHubhwiFA0K01Ul2xB0AAAAAAAAAAAAAAAAAAAAAAAAAAAAAAAAAAAAAAAAAAAAAAAAAAAAAAAAAAAAAAAAAAAAAAAAAAAAAAAAAAAAAAAAAAAAAAAAAAAAAAAAAAALvGaJY0Osw/D5O1C4DwQUAnxVALzsthQPRqP5d/1n5ARGMYw35WiEB4hyDTCESLQAELNJRYtItA1BKmZgHGi0D7R2Nx3KeLQOwMXMCkQ4tADHMAy7BJikDN07ZtlNaHQJ82Sr/1W4FAEzPgTYfadUA=\",\"dtype\":\"float64\",\"shape\":[73]},\"GHI\":{\"__ndarray__\":\"kf52RoRFVUBwvGlLh0HfPwAAAAAAAAAAAAAAAAAAAAAAAAAAAAAAAAAAAAAAAAAAAAAAAAAAAAAAAAAAAAAAAAAAAAAAAAAAAAAAAAAAAAAAAAAAAAAAAFXEgrTZdhZAAv+509T5YED5VLdoUq12QOgd8VvBSYJAWOrGOpdEiEDxKvHv8cKLQHGVHCnkS4tAWMUrXDetgUALAq8eSTV5QBT77D6cWXVA0o9odKI/cUBvv6F78iFsQGslTfJnxmBAs1XIWEw1Q0A4Xsa9K17RPwAAAAAAAAAAAAAAAAAAAAAAAAAAAAAAAAAAAAAAAAAAAAAAAAAAAAAAAAAAAAAAAAAAAAAAAAAAAAAAAAAAAAAAAAAAAAAAAJg0+x1NFwFAW4QYCxOISEDj78qz/j1gQB/VUw24ImpAyiAaA+xScUAqWb/fIYx0QK1zui2k6o1An0SbkEEpkEBHsF58Uw6PQGuMcZWL2YtAGOQj6EzvhkAvrU8p5C9tQO+DK6QvxF1AlI77MlLPQECJpeCz7XjPPwAAAAAAAAAAAAAAAAAAAAAAAAAAAAAAAAAAAAAAAAAAAAAAAAAAAAAAAAAAAAAAAAAAAAAAAAAAAAAAAAAAAAAAAAAAAAAAAE8bakFfLQNAcKMaIDRbVkB8YlRqdYpuQGj1BrGGx35AdeCXWnIth0DUidb/rsCMQDfDDPaek49A7qA7kIErkEAdzxLAnhOPQHHpaIOC4ItAiCPXpKz4hkDt5wyf0LmAQA+88cYGUnNAOfB3wsUFZ0A=\",\"dtype\":\"float64\",\"shape\":[73]},\"Wind speed\":{\"__ndarray__\":\"ANAkQKvKIEBVZRtAq2oaQABAE0CriuY/AKDGPwBg9j+rqv8/AIDZP1U1sz8AwIk/VVVXPwBAOD+r6kk/VVWsP6tqFkAAUFlAqyqAQABojECruqNAVb3AQKuyzkCrqsNAq4KdQFXlakBVZU5Aq0o9QFXVKUBVhRZAVRX3P6uqvD+rKqU/q+qjP1XVsT+rqs8/VRX2P6vaLECr6ohAVZ21QABA00CruvRAVSUQQavqJ0EAkDRBqxY7QQDgOUGrFitBVZUMQVVF2UAAkKtAq0KEQKuabEBV5WxAqyppQKsKYUCrulRAAPBGQFWFQECr6j5AABBBQACwYEBVdYZAAKiYQFWlqEBVpbxAAGjYQKvS/kAAiBBBVSkRQVURB0EAKPBAAEDcQA==\",\"dtype\":\"float32\",\"shape\":[73]},\"index\":{\"__ndarray__\":\"AAAoDZCrdkIAABB8k6t2QgAA+OqWq3ZCAADgWZqrdkIAAMjInat2QgAAsDehq3ZCAACYpqSrdkIAAIAVqKt2QgAAaISrq3ZCAABQ866rdkIAADhisqt2QgAAING1q3ZCAAAIQLmrdkIAAPCuvKt2QgAA2B3Aq3ZCAADAjMOrdkIAAKj7xqt2QgAAkGrKq3ZCAAB42c2rdkIAAGBI0at2QgAASLfUq3ZCAAAwJtirdkIAABiV26t2QgAAAATfq3ZCAADocuKrdkIAANDh5at2QgAAuFDpq3ZCAACgv+yrdkIAAIgu8Kt2QgAAcJ3zq3ZCAABYDPerdkIAAEB7+qt2QgAAKOr9q3ZCAAAQWQGsdkIAAPjHBKx2QgAA4DYIrHZCAADIpQusdkIAALAUD6x2QgAAmIMSrHZCAACA8hWsdkIAAGhhGax2QgAAUNAcrHZCAAA4PyCsdkIAACCuI6x2QgAACB0nrHZCAADwiyqsdkIAANj6Lax2QgAAwGkxrHZCAACo2DSsdkIAAJBHOKx2QgAAeLY7rHZCAABgJT+sdkIAAEiUQqx2QgAAMANGrHZCAAAYckmsdkIAAADhTKx2QgAA6E9QrHZCAADQvlOsdkIAALgtV6x2QgAAoJxarHZCAACIC16sdkIAAHB6Yax2QgAAWOlkrHZCAABAWGisdkIAACjHa6x2QgAAEDZvrHZCAAD4pHKsdkIAAOATdqx2QgAAyIJ5rHZCAACw8XysdkIAAJhggKx2QgAAgM+DrHZCAABoPoesdkI=\",\"dtype\":\"float64\",\"shape\":[73]}},\"selected\":{\"id\":\"2558\",\"type\":\"Selection\"},\"selection_policy\":{\"id\":\"2559\",\"type\":\"UnionRenderers\"}},\"id\":\"2477\",\"type\":\"ColumnDataSource\"},{\"attributes\":{},\"id\":\"2716\",\"type\":\"PanTool\"},{\"attributes\":{\"dimension\":1,\"ticker\":{\"id\":\"2712\",\"type\":\"BasicTicker\"}},\"id\":\"2715\",\"type\":\"Grid\"},{\"attributes\":{\"bottom_units\":\"screen\",\"fill_alpha\":{\"value\":0.5},\"fill_color\":{\"value\":\"lightgrey\"},\"left_units\":\"screen\",\"level\":\"overlay\",\"line_alpha\":{\"value\":1.0},\"line_color\":{\"value\":\"black\"},\"line_dash\":[4,4],\"line_width\":{\"value\":2},\"render_mode\":\"css\",\"right_units\":\"screen\",\"top_units\":\"screen\"},\"id\":\"2640\",\"type\":\"BoxAnnotation\"},{\"attributes\":{\"line_alpha\":0.1,\"line_color\":\"#1f77b4\",\"line_width\":2,\"x\":{\"field\":\"index\"},\"y\":{\"field\":\"AC power\"}},\"id\":\"2729\",\"type\":\"Line\"},{\"attributes\":{\"overlay\":{\"id\":\"2750\",\"type\":\"BoxAnnotation\"}},\"id\":\"2717\",\"type\":\"BoxZoomTool\"},{\"attributes\":{},\"id\":\"2680\",\"type\":\"BasicTickFormatter\"},{\"attributes\":{\"source\":{\"id\":\"2477\",\"type\":\"ColumnDataSource\"}},\"id\":\"2731\",\"type\":\"CDSView\"},{\"attributes\":{\"dimensions\":\"width\"},\"id\":\"2718\",\"type\":\"WheelZoomTool\"},{\"attributes\":{},\"id\":\"2719\",\"type\":\"ResetTool\"},{\"attributes\":{},\"id\":\"2682\",\"type\":\"DatetimeTickFormatter\"},{\"attributes\":{},\"id\":\"2720\",\"type\":\"SaveTool\"},{\"attributes\":{\"active_drag\":\"auto\",\"active_inspect\":\"auto\",\"active_multi\":null,\"active_scroll\":\"auto\",\"active_tap\":\"auto\",\"tools\":[{\"id\":\"2716\",\"type\":\"PanTool\"},{\"id\":\"2717\",\"type\":\"BoxZoomTool\"},{\"id\":\"2718\",\"type\":\"WheelZoomTool\"},{\"id\":\"2719\",\"type\":\"ResetTool\"},{\"id\":\"2720\",\"type\":\"SaveTool\"}]},\"id\":\"2721\",\"type\":\"Toolbar\"},{\"attributes\":{\"line_color\":\"#8c564b\",\"line_width\":2,\"x\":{\"field\":\"index\"},\"y\":{\"field\":\"AC power\"}},\"id\":\"2728\",\"type\":\"Line\"},{\"attributes\":{\"label\":{\"value\":\"AC power\"},\"renderers\":[{\"id\":\"2730\",\"type\":\"GlyphRenderer\"}]},\"id\":\"2752\",\"type\":\"LegendItem\"},{\"attributes\":{\"items\":[{\"id\":\"2752\",\"type\":\"LegendItem\"}],\"location\":\"top_left\"},\"id\":\"2751\",\"type\":\"Legend\"},{\"attributes\":{\"days\":[1,15]},\"id\":\"2689\",\"type\":\"DaysTicker\"},{\"attributes\":{\"children\":[[{\"id\":\"2478\",\"subtype\":\"Figure\",\"type\":\"Plot\"},0,0],[{\"id\":\"2588\",\"subtype\":\"Figure\",\"type\":\"Plot\"},1,0],[{\"id\":\"2643\",\"subtype\":\"Figure\",\"type\":\"Plot\"},2,0],[{\"id\":\"2698\",\"subtype\":\"Figure\",\"type\":\"Plot\"},3,0]]},\"id\":\"2841\",\"type\":\"GridBox\"},{\"attributes\":{\"mantissas\":[1,2,5],\"max_interval\":500.0,\"num_minor_ticks\":0},\"id\":\"2683\",\"type\":\"AdaptiveTicker\"},{\"attributes\":{\"base\":60,\"mantissas\":[1,2,5,10,15,20,30],\"max_interval\":1800000.0,\"min_interval\":1000.0,\"num_minor_ticks\":0},\"id\":\"2684\",\"type\":\"AdaptiveTicker\"},{\"attributes\":{\"text\":\"\"},\"id\":\"2732\",\"type\":\"Title\"},{\"attributes\":{\"months\":[0,6]},\"id\":\"2693\",\"type\":\"MonthsTicker\"},{\"attributes\":{\"months\":[0,1,2,3,4,5,6,7,8,9,10,11]},\"id\":\"2690\",\"type\":\"MonthsTicker\"},{\"attributes\":{},\"id\":\"2694\",\"type\":\"YearsTicker\"},{\"attributes\":{\"months\":[0,2,4,6,8,10]},\"id\":\"2691\",\"type\":\"MonthsTicker\"},{\"attributes\":{\"tools\":[{\"id\":\"2497\",\"type\":\"PanTool\"},{\"id\":\"2498\",\"type\":\"BoxZoomTool\"},{\"id\":\"2499\",\"type\":\"WheelZoomTool\"},{\"id\":\"2500\",\"type\":\"ResetTool\"},{\"id\":\"2501\",\"type\":\"SaveTool\"},{\"id\":\"2606\",\"type\":\"PanTool\"},{\"id\":\"2607\",\"type\":\"BoxZoomTool\"},{\"id\":\"2608\",\"type\":\"WheelZoomTool\"},{\"id\":\"2609\",\"type\":\"ResetTool\"},{\"id\":\"2610\",\"type\":\"SaveTool\"},{\"id\":\"2661\",\"type\":\"PanTool\"},{\"id\":\"2662\",\"type\":\"BoxZoomTool\"},{\"id\":\"2663\",\"type\":\"WheelZoomTool\"},{\"id\":\"2664\",\"type\":\"ResetTool\"},{\"id\":\"2665\",\"type\":\"SaveTool\"},{\"id\":\"2716\",\"type\":\"PanTool\"},{\"id\":\"2717\",\"type\":\"BoxZoomTool\"},{\"id\":\"2718\",\"type\":\"WheelZoomTool\"},{\"id\":\"2719\",\"type\":\"ResetTool\"},{\"id\":\"2720\",\"type\":\"SaveTool\"}]},\"id\":\"2842\",\"type\":\"ProxyToolbar\"},{\"attributes\":{\"days\":[1,8,15,22]},\"id\":\"2688\",\"type\":\"DaysTicker\"},{\"attributes\":{\"months\":[0,4,8]},\"id\":\"2692\",\"type\":\"MonthsTicker\"},{\"attributes\":{\"bottom_units\":\"screen\",\"fill_alpha\":{\"value\":0.5},\"fill_color\":{\"value\":\"lightgrey\"},\"left_units\":\"screen\",\"level\":\"overlay\",\"line_alpha\":{\"value\":1.0},\"line_color\":{\"value\":\"black\"},\"line_dash\":[4,4],\"line_width\":{\"value\":2},\"render_mode\":\"css\",\"right_units\":\"screen\",\"top_units\":\"screen\"},\"id\":\"2695\",\"type\":\"BoxAnnotation\"},{\"attributes\":{\"callback\":null},\"id\":\"2645\",\"type\":\"DataRange1d\"},{\"attributes\":{\"axis_label\":\"Wind speed (m/s)\",\"formatter\":{\"id\":\"2680\",\"type\":\"BasicTickFormatter\"},\"ticker\":{\"id\":\"2657\",\"type\":\"BasicTicker\"}},\"id\":\"2656\",\"type\":\"LinearAxis\"},{\"attributes\":{},\"id\":\"2735\",\"type\":\"BasicTickFormatter\"},{\"attributes\":{\"days\":[1,4,7,10,13,16,19,22,25,28]},\"id\":\"2687\",\"type\":\"DaysTicker\"},{\"attributes\":{\"base\":24,\"mantissas\":[1,2,4,6,8,12],\"max_interval\":43200000.0,\"min_interval\":3600000.0,\"num_minor_ticks\":0},\"id\":\"2685\",\"type\":\"AdaptiveTicker\"},{\"attributes\":{\"below\":[{\"id\":\"2651\",\"type\":\"DatetimeAxis\"}],\"center\":[{\"id\":\"2655\",\"type\":\"Grid\"},{\"id\":\"2660\",\"type\":\"Grid\"},{\"id\":\"2696\",\"type\":\"Legend\"}],\"left\":[{\"id\":\"2656\",\"type\":\"LinearAxis\"}],\"plot_height\":200,\"plot_width\":800,\"renderers\":[{\"id\":\"2675\",\"type\":\"GlyphRenderer\"}],\"title\":{\"id\":\"2677\",\"type\":\"Title\"},\"toolbar\":{\"id\":\"2666\",\"type\":\"Toolbar\"},\"toolbar_location\":null,\"x_range\":{\"id\":\"2479\",\"type\":\"DataRange1d\"},\"x_scale\":{\"id\":\"2647\",\"type\":\"LinearScale\"},\"y_range\":{\"id\":\"2645\",\"type\":\"DataRange1d\"},\"y_scale\":{\"id\":\"2649\",\"type\":\"LinearScale\"}},\"id\":\"2643\",\"subtype\":\"Figure\",\"type\":\"Plot\"},{\"attributes\":{},\"id\":\"2737\",\"type\":\"DatetimeTickFormatter\"},{\"attributes\":{},\"id\":\"2647\",\"type\":\"LinearScale\"},{\"attributes\":{\"data_source\":{\"id\":\"2477\",\"type\":\"ColumnDataSource\"},\"glyph\":{\"id\":\"2673\",\"type\":\"Line\"},\"hover_glyph\":null,\"muted_glyph\":null,\"nonselection_glyph\":{\"id\":\"2674\",\"type\":\"Line\"},\"selection_glyph\":null,\"view\":{\"id\":\"2676\",\"type\":\"CDSView\"}},\"id\":\"2675\",\"type\":\"GlyphRenderer\"},{\"attributes\":{},\"id\":\"2649\",\"type\":\"LinearScale\"},{\"attributes\":{},\"id\":\"2657\",\"type\":\"BasicTicker\"},{\"attributes\":{\"formatter\":{\"id\":\"2682\",\"type\":\"DatetimeTickFormatter\"},\"ticker\":{\"id\":\"2652\",\"type\":\"DatetimeTicker\"}},\"id\":\"2651\",\"type\":\"DatetimeAxis\"},{\"attributes\":{\"toolbar\":{\"id\":\"2842\",\"type\":\"ProxyToolbar\"},\"toolbar_location\":\"above\"},\"id\":\"2843\",\"type\":\"ToolbarBox\"},{\"attributes\":{\"num_minor_ticks\":5,\"tickers\":[{\"id\":\"2683\",\"type\":\"AdaptiveTicker\"},{\"id\":\"2684\",\"type\":\"AdaptiveTicker\"},{\"id\":\"2685\",\"type\":\"AdaptiveTicker\"},{\"id\":\"2686\",\"type\":\"DaysTicker\"},{\"id\":\"2687\",\"type\":\"DaysTicker\"},{\"id\":\"2688\",\"type\":\"DaysTicker\"},{\"id\":\"2689\",\"type\":\"DaysTicker\"},{\"id\":\"2690\",\"type\":\"MonthsTicker\"},{\"id\":\"2691\",\"type\":\"MonthsTicker\"},{\"id\":\"2692\",\"type\":\"MonthsTicker\"},{\"id\":\"2693\",\"type\":\"MonthsTicker\"},{\"id\":\"2694\",\"type\":\"YearsTicker\"}]},\"id\":\"2652\",\"type\":\"DatetimeTicker\"},{\"attributes\":{\"mantissas\":[1,2,5],\"max_interval\":500.0,\"num_minor_ticks\":0},\"id\":\"2738\",\"type\":\"AdaptiveTicker\"},{\"attributes\":{\"ticker\":{\"id\":\"2652\",\"type\":\"DatetimeTicker\"}},\"id\":\"2655\",\"type\":\"Grid\"},{\"attributes\":{\"base\":60,\"mantissas\":[1,2,5,10,15,20,30],\"max_interval\":1800000.0,\"min_interval\":1000.0,\"num_minor_ticks\":0},\"id\":\"2739\",\"type\":\"AdaptiveTicker\"},{\"attributes\":{\"days\":[1,2,3,4,5,6,7,8,9,10,11,12,13,14,15,16,17,18,19,20,21,22,23,24,25,26,27,28,29,30,31]},\"id\":\"2741\",\"type\":\"DaysTicker\"},{\"attributes\":{},\"id\":\"2661\",\"type\":\"PanTool\"},{\"attributes\":{\"base\":24,\"mantissas\":[1,2,4,6,8,12],\"max_interval\":43200000.0,\"min_interval\":3600000.0,\"num_minor_ticks\":0},\"id\":\"2740\",\"type\":\"AdaptiveTicker\"},{\"attributes\":{\"dimension\":1,\"ticker\":{\"id\":\"2657\",\"type\":\"BasicTicker\"}},\"id\":\"2660\",\"type\":\"Grid\"},{\"attributes\":{\"months\":[0,1,2,3,4,5,6,7,8,9,10,11]},\"id\":\"2745\",\"type\":\"MonthsTicker\"},{\"attributes\":{\"months\":[0,2,4,6,8,10]},\"id\":\"2746\",\"type\":\"MonthsTicker\"},{\"attributes\":{\"days\":[1,4,7,10,13,16,19,22,25,28]},\"id\":\"2742\",\"type\":\"DaysTicker\"},{\"attributes\":{\"line_alpha\":0.1,\"line_color\":\"#1f77b4\",\"line_width\":2,\"x\":{\"field\":\"index\"},\"y\":{\"field\":\"Wind speed\"}},\"id\":\"2674\",\"type\":\"Line\"},{\"attributes\":{\"days\":[1,15]},\"id\":\"2744\",\"type\":\"DaysTicker\"},{\"attributes\":{\"overlay\":{\"id\":\"2695\",\"type\":\"BoxAnnotation\"}},\"id\":\"2662\",\"type\":\"BoxZoomTool\"},{\"attributes\":{\"months\":[0,6]},\"id\":\"2748\",\"type\":\"MonthsTicker\"},{\"attributes\":{},\"id\":\"2516\",\"type\":\"BasicTickFormatter\"},{\"attributes\":{\"source\":{\"id\":\"2477\",\"type\":\"ColumnDataSource\"}},\"id\":\"2676\",\"type\":\"CDSView\"},{\"attributes\":{\"days\":[1,8,15,22]},\"id\":\"2743\",\"type\":\"DaysTicker\"},{\"attributes\":{\"dimensions\":\"width\"},\"id\":\"2663\",\"type\":\"WheelZoomTool\"},{\"attributes\":{},\"id\":\"2749\",\"type\":\"YearsTicker\"},{\"attributes\":{},\"id\":\"2664\",\"type\":\"ResetTool\"},{\"attributes\":{},\"id\":\"2665\",\"type\":\"SaveTool\"},{\"attributes\":{},\"id\":\"2518\",\"type\":\"DatetimeTickFormatter\"},{\"attributes\":{\"months\":[0,4,8]},\"id\":\"2747\",\"type\":\"MonthsTicker\"},{\"attributes\":{\"active_drag\":\"auto\",\"active_inspect\":\"auto\",\"active_multi\":null,\"active_scroll\":\"auto\",\"active_tap\":\"auto\",\"tools\":[{\"id\":\"2661\",\"type\":\"PanTool\"},{\"id\":\"2662\",\"type\":\"BoxZoomTool\"},{\"id\":\"2663\",\"type\":\"WheelZoomTool\"},{\"id\":\"2664\",\"type\":\"ResetTool\"},{\"id\":\"2665\",\"type\":\"SaveTool\"}]},\"id\":\"2666\",\"type\":\"Toolbar\"},{\"attributes\":{\"mantissas\":[1,2,5],\"max_interval\":500.0,\"num_minor_ticks\":0},\"id\":\"2519\",\"type\":\"AdaptiveTicker\"},{\"attributes\":{\"line_color\":\"#9467bd\",\"line_width\":2,\"x\":{\"field\":\"index\"},\"y\":{\"field\":\"Wind speed\"}},\"id\":\"2673\",\"type\":\"Line\"},{\"attributes\":{\"label\":{\"value\":\"Wind speed\"},\"renderers\":[{\"id\":\"2675\",\"type\":\"GlyphRenderer\"}]},\"id\":\"2697\",\"type\":\"LegendItem\"},{\"attributes\":{\"text\":\"\"},\"id\":\"2677\",\"type\":\"Title\"},{\"attributes\":{\"items\":[{\"id\":\"2697\",\"type\":\"LegendItem\"}],\"location\":\"top_left\"},\"id\":\"2696\",\"type\":\"Legend\"}],\"root_ids\":[\"2844\"]},\"title\":\"Bokeh Application\",\"version\":\"1.4.0\"}};\n",
       "  var render_items = [{\"docid\":\"eee2815e-a9e1-45bb-ad21-85ae667e6045\",\"roots\":{\"2844\":\"4a773a66-560d-4249-864f-2fc36550bd11\"}}];\n",
       "  root.Bokeh.embed.embed_items_notebook(docs_json, render_items);\n",
       "\n",
       "  }\n",
       "  if (root.Bokeh !== undefined) {\n",
       "    embed_document(root);\n",
       "  } else {\n",
       "    var attempts = 0;\n",
       "    var timer = setInterval(function(root) {\n",
       "      if (root.Bokeh !== undefined) {\n",
       "        clearInterval(timer);\n",
       "        embed_document(root);\n",
       "      } else {\n",
       "        attempts++;\n",
       "        if (attempts > 100) {\n",
       "          clearInterval(timer);\n",
       "          console.log(\"Bokeh: ERROR: Unable to run BokehJS code because BokehJS library is missing\");\n",
       "        }\n",
       "      }\n",
       "    }, 10, root)\n",
       "  }\n",
       "})(window);"
      ],
      "application/vnd.bokehjs_exec.v0+json": ""
     },
     "metadata": {
      "application/vnd.bokehjs_exec.v0+json": {
       "id": "2844"
      }
     },
     "output_type": "display_data"
    }
   ],
   "source": [
    "# Complete GFS is available 5 hours after its initialization time\n",
    "run_time = pd.Timestamp('20190515T0500Z')\n",
    "issue_time = pd.Timestamp('20190515T0100Z')\n",
    "\n",
    "# define a Forecast object\n",
    "forecast = datamodel.Forecast(\n",
    "    name='OASIS 3 days GHI',\n",
    "    site=plant,\n",
    "    variable='ghi',\n",
    "    interval_label='instant',\n",
    "    interval_value_type='interval_mean',\n",
    "    interval_length='1h',\n",
    "    issue_time_of_day=datetime.time(hour=1),\n",
    "    run_length=pd.Timedelta('24h')*3,\n",
    "    lead_time_to_start=pd.Timedelta('0h')\n",
    ")\n",
    "\n",
    "# select the model\n",
    "model = models.gfs_quarter_deg_to_hourly_mean\n",
    "\n",
    "# tell the model where to find the NWP data\n",
    "model_wrapped = partial(model, load_forecast=load_forecast)\n",
    "\n",
    "# load and process the NWP data. ac_power is None because site is not a power plant.\n",
    "ghi, dni, dhi, air_temperature, wind_speed, ac_power = main.run_nwp(forecast, model_wrapped, run_time, issue_time)\n",
    "\n",
    "grid = plot_nwp(ghi, dni, dhi, air_temperature, wind_speed, ac_power)\n",
    "show(grid)"
   ]
  },
  {
   "cell_type": "markdown",
   "metadata": {},
   "source": [
    "Probabilistic forecasts derived from the GEFS model can be obtained from the `gefs_half_deg_to_hourly_mean` function. The returned values are hourly averages sorted from smallest to largest at each time stamp. Each variable is sorted independently. This describes a `ProbabilisticForecast` with `axis='x'` and `constant_values=[0, 5, ...95, 100]`."
   ]
  },
  {
   "cell_type": "code",
   "execution_count": 13,
   "metadata": {},
   "outputs": [],
   "source": [
    "# Complete GEFS is available 6 hours after its initialization time\n",
    "run_time = pd.Timestamp('20190515T0600Z')\n",
    "issue_time = pd.Timestamp('20190515T0100Z')\n",
    "\n",
    "# define a ProbablisticForecast object in 3 steps.\n",
    "# 1. define common metadata\n",
    "forecast_metadata = dict(\n",
    "    name='OASIS 3 days GHI GEFS',\n",
    "    site=plant,\n",
    "    variable='ghi',\n",
    "    interval_label='instant',\n",
    "    interval_value_type='interval_mean',\n",
    "    interval_length='60',\n",
    "    issue_time_of_day='01:00',\n",
    "    run_length='4320',\n",
    "    lead_time_to_start='0'\n",
    ")\n",
    "\n",
    "# 2. define metadata for the forecast for each percentile\n",
    "#    these are known as ProbabilisticForecastConstantValue objects\n",
    "probfx_constantvalues = []\n",
    "for cv in range(0, 101, 5):\n",
    "    d = forecast_metadata.copy()\n",
    "    d['axis'] = 'x'\n",
    "    d['constant_value'] = cv\n",
    "    probfx_constantvalues.append(d)\n",
    "    \n",
    "# 3. define metadata for the collection of percentile forecasts\n",
    "#    this is the ProbabilisticForecast\n",
    "d = forecast_metadata.copy()\n",
    "d['axis'] = 'x'\n",
    "d['constant_values'] = probfx_constantvalues\n",
    "forecast = datamodel.ProbabilisticForecast.from_dict(d)\n",
    "\n",
    "# select the model\n",
    "model = models.gefs_half_deg_to_hourly_mean\n",
    "\n",
    "# tell the model where to find the NWP data\n",
    "model_wrapped = partial(model, load_forecast=load_forecast)\n",
    "\n",
    "# load and process the NWP data. ac_power is None because site is not a power plant.\n",
    "ghi, dni, dhi, air_temperature, wind_speed, ac_power = main.run_nwp(forecast, model_wrapped, run_time, issue_time)"
   ]
  },
  {
   "cell_type": "markdown",
   "metadata": {},
   "source": [
    "Let's look at the AC power dataframe and then plot it."
   ]
  },
  {
   "cell_type": "code",
   "execution_count": 14,
   "metadata": {},
   "outputs": [
    {
     "data": {
      "text/html": [
       "<div>\n",
       "<style scoped>\n",
       "    .dataframe tbody tr th:only-of-type {\n",
       "        vertical-align: middle;\n",
       "    }\n",
       "\n",
       "    .dataframe tbody tr th {\n",
       "        vertical-align: top;\n",
       "    }\n",
       "\n",
       "    .dataframe thead th {\n",
       "        text-align: right;\n",
       "    }\n",
       "</style>\n",
       "<table border=\"1\" class=\"dataframe\">\n",
       "  <thead>\n",
       "    <tr style=\"text-align: right;\">\n",
       "      <th></th>\n",
       "      <th>0</th>\n",
       "      <th>1</th>\n",
       "      <th>2</th>\n",
       "      <th>3</th>\n",
       "      <th>4</th>\n",
       "      <th>5</th>\n",
       "      <th>6</th>\n",
       "      <th>7</th>\n",
       "      <th>8</th>\n",
       "      <th>9</th>\n",
       "      <th>...</th>\n",
       "      <th>11</th>\n",
       "      <th>12</th>\n",
       "      <th>13</th>\n",
       "      <th>14</th>\n",
       "      <th>15</th>\n",
       "      <th>16</th>\n",
       "      <th>17</th>\n",
       "      <th>18</th>\n",
       "      <th>19</th>\n",
       "      <th>20</th>\n",
       "    </tr>\n",
       "  </thead>\n",
       "  <tbody>\n",
       "    <tr>\n",
       "      <th>2019-05-15 01:00:00+00:00</th>\n",
       "      <td>0.652374</td>\n",
       "      <td>1.033796</td>\n",
       "      <td>1.169189</td>\n",
       "      <td>1.218102</td>\n",
       "      <td>1.616828</td>\n",
       "      <td>1.649192</td>\n",
       "      <td>1.649213</td>\n",
       "      <td>2.039372</td>\n",
       "      <td>2.077849</td>\n",
       "      <td>2.116910</td>\n",
       "      <td>...</td>\n",
       "      <td>2.116910</td>\n",
       "      <td>2.116943</td>\n",
       "      <td>2.156442</td>\n",
       "      <td>2.156442</td>\n",
       "      <td>2.156476</td>\n",
       "      <td>2.196468</td>\n",
       "      <td>2.237010</td>\n",
       "      <td>2.237052</td>\n",
       "      <td>2.237058</td>\n",
       "      <td>2.278044</td>\n",
       "    </tr>\n",
       "    <tr>\n",
       "      <th>2019-05-15 02:00:00+00:00</th>\n",
       "      <td>0.000000</td>\n",
       "      <td>0.000000</td>\n",
       "      <td>0.000000</td>\n",
       "      <td>0.000000</td>\n",
       "      <td>0.000000</td>\n",
       "      <td>0.000000</td>\n",
       "      <td>0.000000</td>\n",
       "      <td>0.000000</td>\n",
       "      <td>0.000000</td>\n",
       "      <td>0.000000</td>\n",
       "      <td>...</td>\n",
       "      <td>0.000000</td>\n",
       "      <td>0.000000</td>\n",
       "      <td>0.000000</td>\n",
       "      <td>0.000000</td>\n",
       "      <td>0.000000</td>\n",
       "      <td>0.000000</td>\n",
       "      <td>0.000000</td>\n",
       "      <td>0.000000</td>\n",
       "      <td>0.000000</td>\n",
       "      <td>0.000000</td>\n",
       "    </tr>\n",
       "    <tr>\n",
       "      <th>2019-05-15 03:00:00+00:00</th>\n",
       "      <td>0.000000</td>\n",
       "      <td>0.000000</td>\n",
       "      <td>0.000000</td>\n",
       "      <td>0.000000</td>\n",
       "      <td>0.000000</td>\n",
       "      <td>0.000000</td>\n",
       "      <td>0.000000</td>\n",
       "      <td>0.000000</td>\n",
       "      <td>0.000000</td>\n",
       "      <td>0.000000</td>\n",
       "      <td>...</td>\n",
       "      <td>0.000000</td>\n",
       "      <td>0.000000</td>\n",
       "      <td>0.000000</td>\n",
       "      <td>0.000000</td>\n",
       "      <td>0.000000</td>\n",
       "      <td>0.000000</td>\n",
       "      <td>0.000000</td>\n",
       "      <td>0.000000</td>\n",
       "      <td>0.000000</td>\n",
       "      <td>0.000000</td>\n",
       "    </tr>\n",
       "    <tr>\n",
       "      <th>2019-05-15 04:00:00+00:00</th>\n",
       "      <td>0.000000</td>\n",
       "      <td>0.000000</td>\n",
       "      <td>0.000000</td>\n",
       "      <td>0.000000</td>\n",
       "      <td>0.000000</td>\n",
       "      <td>0.000000</td>\n",
       "      <td>0.000000</td>\n",
       "      <td>0.000000</td>\n",
       "      <td>0.000000</td>\n",
       "      <td>0.000000</td>\n",
       "      <td>...</td>\n",
       "      <td>0.000000</td>\n",
       "      <td>0.000000</td>\n",
       "      <td>0.000000</td>\n",
       "      <td>0.000000</td>\n",
       "      <td>0.000000</td>\n",
       "      <td>0.000000</td>\n",
       "      <td>0.000000</td>\n",
       "      <td>0.000000</td>\n",
       "      <td>0.000000</td>\n",
       "      <td>0.000000</td>\n",
       "    </tr>\n",
       "    <tr>\n",
       "      <th>2019-05-15 05:00:00+00:00</th>\n",
       "      <td>0.000000</td>\n",
       "      <td>0.000000</td>\n",
       "      <td>0.000000</td>\n",
       "      <td>0.000000</td>\n",
       "      <td>0.000000</td>\n",
       "      <td>0.000000</td>\n",
       "      <td>0.000000</td>\n",
       "      <td>0.000000</td>\n",
       "      <td>0.000000</td>\n",
       "      <td>0.000000</td>\n",
       "      <td>...</td>\n",
       "      <td>0.000000</td>\n",
       "      <td>0.000000</td>\n",
       "      <td>0.000000</td>\n",
       "      <td>0.000000</td>\n",
       "      <td>0.000000</td>\n",
       "      <td>0.000000</td>\n",
       "      <td>0.000000</td>\n",
       "      <td>0.000000</td>\n",
       "      <td>0.000000</td>\n",
       "      <td>0.000000</td>\n",
       "    </tr>\n",
       "    <tr>\n",
       "      <th>...</th>\n",
       "      <td>...</td>\n",
       "      <td>...</td>\n",
       "      <td>...</td>\n",
       "      <td>...</td>\n",
       "      <td>...</td>\n",
       "      <td>...</td>\n",
       "      <td>...</td>\n",
       "      <td>...</td>\n",
       "      <td>...</td>\n",
       "      <td>...</td>\n",
       "      <td>...</td>\n",
       "      <td>...</td>\n",
       "      <td>...</td>\n",
       "      <td>...</td>\n",
       "      <td>...</td>\n",
       "      <td>...</td>\n",
       "      <td>...</td>\n",
       "      <td>...</td>\n",
       "      <td>...</td>\n",
       "      <td>...</td>\n",
       "      <td>...</td>\n",
       "    </tr>\n",
       "    <tr>\n",
       "      <th>2019-05-17 21:00:00+00:00</th>\n",
       "      <td>5.850415</td>\n",
       "      <td>7.421196</td>\n",
       "      <td>8.534564</td>\n",
       "      <td>9.852972</td>\n",
       "      <td>10.000000</td>\n",
       "      <td>10.000000</td>\n",
       "      <td>10.000000</td>\n",
       "      <td>10.000000</td>\n",
       "      <td>10.000000</td>\n",
       "      <td>10.000000</td>\n",
       "      <td>...</td>\n",
       "      <td>10.000000</td>\n",
       "      <td>10.000000</td>\n",
       "      <td>10.000000</td>\n",
       "      <td>10.000000</td>\n",
       "      <td>10.000000</td>\n",
       "      <td>10.000000</td>\n",
       "      <td>10.000000</td>\n",
       "      <td>10.000000</td>\n",
       "      <td>10.000000</td>\n",
       "      <td>10.000000</td>\n",
       "    </tr>\n",
       "    <tr>\n",
       "      <th>2019-05-17 22:00:00+00:00</th>\n",
       "      <td>4.632829</td>\n",
       "      <td>6.216255</td>\n",
       "      <td>7.526424</td>\n",
       "      <td>10.000000</td>\n",
       "      <td>10.000000</td>\n",
       "      <td>10.000000</td>\n",
       "      <td>10.000000</td>\n",
       "      <td>10.000000</td>\n",
       "      <td>10.000000</td>\n",
       "      <td>10.000000</td>\n",
       "      <td>...</td>\n",
       "      <td>10.000000</td>\n",
       "      <td>10.000000</td>\n",
       "      <td>10.000000</td>\n",
       "      <td>10.000000</td>\n",
       "      <td>10.000000</td>\n",
       "      <td>10.000000</td>\n",
       "      <td>10.000000</td>\n",
       "      <td>10.000000</td>\n",
       "      <td>10.000000</td>\n",
       "      <td>10.000000</td>\n",
       "    </tr>\n",
       "    <tr>\n",
       "      <th>2019-05-17 23:00:00+00:00</th>\n",
       "      <td>3.428888</td>\n",
       "      <td>4.863827</td>\n",
       "      <td>6.144371</td>\n",
       "      <td>9.712881</td>\n",
       "      <td>10.000000</td>\n",
       "      <td>10.000000</td>\n",
       "      <td>10.000000</td>\n",
       "      <td>10.000000</td>\n",
       "      <td>10.000000</td>\n",
       "      <td>10.000000</td>\n",
       "      <td>...</td>\n",
       "      <td>10.000000</td>\n",
       "      <td>10.000000</td>\n",
       "      <td>10.000000</td>\n",
       "      <td>10.000000</td>\n",
       "      <td>10.000000</td>\n",
       "      <td>10.000000</td>\n",
       "      <td>10.000000</td>\n",
       "      <td>10.000000</td>\n",
       "      <td>10.000000</td>\n",
       "      <td>10.000000</td>\n",
       "    </tr>\n",
       "    <tr>\n",
       "      <th>2019-05-18 00:00:00+00:00</th>\n",
       "      <td>4.170471</td>\n",
       "      <td>5.348700</td>\n",
       "      <td>6.259873</td>\n",
       "      <td>6.660121</td>\n",
       "      <td>7.825844</td>\n",
       "      <td>8.831936</td>\n",
       "      <td>8.831957</td>\n",
       "      <td>8.832096</td>\n",
       "      <td>8.832553</td>\n",
       "      <td>8.908472</td>\n",
       "      <td>...</td>\n",
       "      <td>8.908539</td>\n",
       "      <td>8.908602</td>\n",
       "      <td>8.908609</td>\n",
       "      <td>8.908623</td>\n",
       "      <td>8.908626</td>\n",
       "      <td>8.908655</td>\n",
       "      <td>8.908662</td>\n",
       "      <td>8.908763</td>\n",
       "      <td>8.908839</td>\n",
       "      <td>8.908846</td>\n",
       "    </tr>\n",
       "    <tr>\n",
       "      <th>2019-05-18 01:00:00+00:00</th>\n",
       "      <td>2.537318</td>\n",
       "      <td>3.296092</td>\n",
       "      <td>4.056238</td>\n",
       "      <td>4.138316</td>\n",
       "      <td>4.923442</td>\n",
       "      <td>5.879367</td>\n",
       "      <td>5.879380</td>\n",
       "      <td>5.879519</td>\n",
       "      <td>5.879988</td>\n",
       "      <td>5.978787</td>\n",
       "      <td>...</td>\n",
       "      <td>5.978848</td>\n",
       "      <td>5.978925</td>\n",
       "      <td>5.978926</td>\n",
       "      <td>5.978938</td>\n",
       "      <td>5.978944</td>\n",
       "      <td>5.978973</td>\n",
       "      <td>5.978973</td>\n",
       "      <td>5.979082</td>\n",
       "      <td>5.979160</td>\n",
       "      <td>5.979160</td>\n",
       "    </tr>\n",
       "  </tbody>\n",
       "</table>\n",
       "<p>73 rows × 21 columns</p>\n",
       "</div>"
      ],
      "text/plain": [
       "                                 0         1         2          3          4   \\\n",
       "2019-05-15 01:00:00+00:00  0.652374  1.033796  1.169189   1.218102   1.616828   \n",
       "2019-05-15 02:00:00+00:00  0.000000  0.000000  0.000000   0.000000   0.000000   \n",
       "2019-05-15 03:00:00+00:00  0.000000  0.000000  0.000000   0.000000   0.000000   \n",
       "2019-05-15 04:00:00+00:00  0.000000  0.000000  0.000000   0.000000   0.000000   \n",
       "2019-05-15 05:00:00+00:00  0.000000  0.000000  0.000000   0.000000   0.000000   \n",
       "...                             ...       ...       ...        ...        ...   \n",
       "2019-05-17 21:00:00+00:00  5.850415  7.421196  8.534564   9.852972  10.000000   \n",
       "2019-05-17 22:00:00+00:00  4.632829  6.216255  7.526424  10.000000  10.000000   \n",
       "2019-05-17 23:00:00+00:00  3.428888  4.863827  6.144371   9.712881  10.000000   \n",
       "2019-05-18 00:00:00+00:00  4.170471  5.348700  6.259873   6.660121   7.825844   \n",
       "2019-05-18 01:00:00+00:00  2.537318  3.296092  4.056238   4.138316   4.923442   \n",
       "\n",
       "                                  5          6          7          8   \\\n",
       "2019-05-15 01:00:00+00:00   1.649192   1.649213   2.039372   2.077849   \n",
       "2019-05-15 02:00:00+00:00   0.000000   0.000000   0.000000   0.000000   \n",
       "2019-05-15 03:00:00+00:00   0.000000   0.000000   0.000000   0.000000   \n",
       "2019-05-15 04:00:00+00:00   0.000000   0.000000   0.000000   0.000000   \n",
       "2019-05-15 05:00:00+00:00   0.000000   0.000000   0.000000   0.000000   \n",
       "...                              ...        ...        ...        ...   \n",
       "2019-05-17 21:00:00+00:00  10.000000  10.000000  10.000000  10.000000   \n",
       "2019-05-17 22:00:00+00:00  10.000000  10.000000  10.000000  10.000000   \n",
       "2019-05-17 23:00:00+00:00  10.000000  10.000000  10.000000  10.000000   \n",
       "2019-05-18 00:00:00+00:00   8.831936   8.831957   8.832096   8.832553   \n",
       "2019-05-18 01:00:00+00:00   5.879367   5.879380   5.879519   5.879988   \n",
       "\n",
       "                                  9   ...         11         12         13  \\\n",
       "2019-05-15 01:00:00+00:00   2.116910  ...   2.116910   2.116943   2.156442   \n",
       "2019-05-15 02:00:00+00:00   0.000000  ...   0.000000   0.000000   0.000000   \n",
       "2019-05-15 03:00:00+00:00   0.000000  ...   0.000000   0.000000   0.000000   \n",
       "2019-05-15 04:00:00+00:00   0.000000  ...   0.000000   0.000000   0.000000   \n",
       "2019-05-15 05:00:00+00:00   0.000000  ...   0.000000   0.000000   0.000000   \n",
       "...                              ...  ...        ...        ...        ...   \n",
       "2019-05-17 21:00:00+00:00  10.000000  ...  10.000000  10.000000  10.000000   \n",
       "2019-05-17 22:00:00+00:00  10.000000  ...  10.000000  10.000000  10.000000   \n",
       "2019-05-17 23:00:00+00:00  10.000000  ...  10.000000  10.000000  10.000000   \n",
       "2019-05-18 00:00:00+00:00   8.908472  ...   8.908539   8.908602   8.908609   \n",
       "2019-05-18 01:00:00+00:00   5.978787  ...   5.978848   5.978925   5.978926   \n",
       "\n",
       "                                  14         15         16         17  \\\n",
       "2019-05-15 01:00:00+00:00   2.156442   2.156476   2.196468   2.237010   \n",
       "2019-05-15 02:00:00+00:00   0.000000   0.000000   0.000000   0.000000   \n",
       "2019-05-15 03:00:00+00:00   0.000000   0.000000   0.000000   0.000000   \n",
       "2019-05-15 04:00:00+00:00   0.000000   0.000000   0.000000   0.000000   \n",
       "2019-05-15 05:00:00+00:00   0.000000   0.000000   0.000000   0.000000   \n",
       "...                              ...        ...        ...        ...   \n",
       "2019-05-17 21:00:00+00:00  10.000000  10.000000  10.000000  10.000000   \n",
       "2019-05-17 22:00:00+00:00  10.000000  10.000000  10.000000  10.000000   \n",
       "2019-05-17 23:00:00+00:00  10.000000  10.000000  10.000000  10.000000   \n",
       "2019-05-18 00:00:00+00:00   8.908623   8.908626   8.908655   8.908662   \n",
       "2019-05-18 01:00:00+00:00   5.978938   5.978944   5.978973   5.978973   \n",
       "\n",
       "                                  18         19         20  \n",
       "2019-05-15 01:00:00+00:00   2.237052   2.237058   2.278044  \n",
       "2019-05-15 02:00:00+00:00   0.000000   0.000000   0.000000  \n",
       "2019-05-15 03:00:00+00:00   0.000000   0.000000   0.000000  \n",
       "2019-05-15 04:00:00+00:00   0.000000   0.000000   0.000000  \n",
       "2019-05-15 05:00:00+00:00   0.000000   0.000000   0.000000  \n",
       "...                              ...        ...        ...  \n",
       "2019-05-17 21:00:00+00:00  10.000000  10.000000  10.000000  \n",
       "2019-05-17 22:00:00+00:00  10.000000  10.000000  10.000000  \n",
       "2019-05-17 23:00:00+00:00  10.000000  10.000000  10.000000  \n",
       "2019-05-18 00:00:00+00:00   8.908763   8.908839   8.908846  \n",
       "2019-05-18 01:00:00+00:00   5.979082   5.979160   5.979160  \n",
       "\n",
       "[73 rows x 21 columns]"
      ]
     },
     "execution_count": 14,
     "metadata": {},
     "output_type": "execute_result"
    }
   ],
   "source": [
    "ac_power"
   ]
  },
  {
   "cell_type": "code",
   "execution_count": 15,
   "metadata": {},
   "outputs": [],
   "source": [
    "def plot_percentiles(data):\n",
    "    data = data.rename(columns=lambda x: str(x))\n",
    "    source = ColumnDataSource(data)\n",
    "\n",
    "    figs = []\n",
    "    fig_kwargs = dict(tools=TOOLS, x_axis_type=\"datetime\", plot_height=200)\n",
    "    palette = iter(palettes.viridis(len(data.columns)))\n",
    "    \n",
    "    # irradiance figure\n",
    "    fig1 = figure(**fig_kwargs)\n",
    "    for p in data.keys():\n",
    "        fig1.line(x='index', y=p, source=source, legend_label=p, color=next(palette), line_width=2)\n",
    "    fig1.yaxis.axis_label = \"AC power (MW)\"\n",
    "    fig1.legend.location = \"top_left\"\n",
    "    figs.append(fig1)\n",
    "    \n",
    "    grid = gridplot(figs, ncols=1, plot_width=800)\n",
    "    return grid"
   ]
  },
  {
   "cell_type": "code",
   "execution_count": 16,
   "metadata": {},
   "outputs": [
    {
     "data": {
      "text/html": [
       "\n",
       "\n",
       "\n",
       "\n",
       "\n",
       "\n",
       "  <div class=\"bk-root\" id=\"cf79ee5e-8c40-4a85-bb0e-116b6056d804\" data-root-id=\"4137\"></div>\n"
      ]
     },
     "metadata": {},
     "output_type": "display_data"
    },
    {
     "data": {
      "application/javascript": [
       "(function(root) {\n",
       "  function embed_document(root) {\n",
       "    \n",
       "  var docs_json = {\"924c09fa-7d89-46bb-9032-eeba8b607450\":{\"roots\":{\"references\":[{\"attributes\":{\"children\":[{\"id\":\"4136\",\"type\":\"ToolbarBox\"},{\"id\":\"4134\",\"type\":\"GridBox\"}]},\"id\":\"4137\",\"type\":\"Column\"},{\"attributes\":{\"dimension\":1,\"ticker\":{\"id\":\"3531\",\"type\":\"BasicTicker\"}},\"id\":\"3534\",\"type\":\"Grid\"},{\"attributes\":{\"data_source\":{\"id\":\"3515\",\"type\":\"ColumnDataSource\"},\"glyph\":{\"id\":\"3708\",\"type\":\"Line\"},\"hover_glyph\":null,\"muted_glyph\":null,\"nonselection_glyph\":{\"id\":\"3709\",\"type\":\"Line\"},\"selection_glyph\":null,\"view\":{\"id\":\"3711\",\"type\":\"CDSView\"}},\"id\":\"3710\",\"type\":\"GlyphRenderer\"},{\"attributes\":{\"line_color\":\"#440154\",\"line_width\":2,\"x\":{\"field\":\"index\"},\"y\":{\"field\":\"0\"}},\"id\":\"3547\",\"type\":\"Line\"},{\"attributes\":{\"line_color\":\"#3B518A\",\"line_width\":2,\"x\":{\"field\":\"index\"},\"y\":{\"field\":\"5\"}},\"id\":\"3681\",\"type\":\"Line\"},{\"attributes\":{\"tools\":[{\"id\":\"3535\",\"type\":\"PanTool\"},{\"id\":\"3536\",\"type\":\"BoxZoomTool\"},{\"id\":\"3537\",\"type\":\"WheelZoomTool\"},{\"id\":\"3538\",\"type\":\"ResetTool\"},{\"id\":\"3539\",\"type\":\"SaveTool\"}]},\"id\":\"4135\",\"type\":\"ProxyToolbar\"},{\"attributes\":{\"line_alpha\":0.1,\"line_color\":\"#1f77b4\",\"line_width\":2,\"x\":{\"field\":\"index\"},\"y\":{\"field\":\"5\"}},\"id\":\"3682\",\"type\":\"Line\"},{\"attributes\":{\"source\":{\"id\":\"3515\",\"type\":\"ColumnDataSource\"}},\"id\":\"3684\",\"type\":\"CDSView\"},{\"attributes\":{\"label\":{\"value\":\"5\"},\"renderers\":[{\"id\":\"3683\",\"type\":\"GlyphRenderer\"}]},\"id\":\"3706\",\"type\":\"LegendItem\"},{\"attributes\":{\"dimensions\":\"width\"},\"id\":\"3537\",\"type\":\"WheelZoomTool\"},{\"attributes\":{\"data_source\":{\"id\":\"3515\",\"type\":\"ColumnDataSource\"},\"glyph\":{\"id\":\"3627\",\"type\":\"Line\"},\"hover_glyph\":null,\"muted_glyph\":null,\"nonselection_glyph\":{\"id\":\"3628\",\"type\":\"Line\"},\"selection_glyph\":null,\"view\":{\"id\":\"3630\",\"type\":\"CDSView\"}},\"id\":\"3629\",\"type\":\"GlyphRenderer\"},{\"attributes\":{\"source\":{\"id\":\"3515\",\"type\":\"ColumnDataSource\"}},\"id\":\"3550\",\"type\":\"CDSView\"},{\"attributes\":{},\"id\":\"3539\",\"type\":\"SaveTool\"},{\"attributes\":{\"axis_label\":\"AC power (MW)\",\"formatter\":{\"id\":\"3554\",\"type\":\"BasicTickFormatter\"},\"ticker\":{\"id\":\"3531\",\"type\":\"BasicTicker\"}},\"id\":\"3530\",\"type\":\"LinearAxis\"},{\"attributes\":{\"line_color\":\"#404387\",\"line_width\":2,\"x\":{\"field\":\"index\"},\"y\":{\"field\":\"4\"}},\"id\":\"3654\",\"type\":\"Line\"},{\"attributes\":{\"line_color\":\"#345E8D\",\"line_width\":2,\"x\":{\"field\":\"index\"},\"y\":{\"field\":\"6\"}},\"id\":\"3708\",\"type\":\"Line\"},{\"attributes\":{\"items\":[{\"id\":\"3571\",\"type\":\"LegendItem\"},{\"id\":\"3598\",\"type\":\"LegendItem\"},{\"id\":\"3625\",\"type\":\"LegendItem\"},{\"id\":\"3652\",\"type\":\"LegendItem\"},{\"id\":\"3679\",\"type\":\"LegendItem\"},{\"id\":\"3706\",\"type\":\"LegendItem\"},{\"id\":\"3733\",\"type\":\"LegendItem\"},{\"id\":\"3760\",\"type\":\"LegendItem\"},{\"id\":\"3787\",\"type\":\"LegendItem\"},{\"id\":\"3814\",\"type\":\"LegendItem\"},{\"id\":\"3841\",\"type\":\"LegendItem\"},{\"id\":\"3868\",\"type\":\"LegendItem\"},{\"id\":\"3895\",\"type\":\"LegendItem\"},{\"id\":\"3922\",\"type\":\"LegendItem\"},{\"id\":\"3949\",\"type\":\"LegendItem\"},{\"id\":\"3976\",\"type\":\"LegendItem\"},{\"id\":\"4003\",\"type\":\"LegendItem\"},{\"id\":\"4030\",\"type\":\"LegendItem\"},{\"id\":\"4057\",\"type\":\"LegendItem\"},{\"id\":\"4084\",\"type\":\"LegendItem\"},{\"id\":\"4111\",\"type\":\"LegendItem\"}],\"location\":\"top_left\"},\"id\":\"3570\",\"type\":\"Legend\"},{\"attributes\":{\"data_source\":{\"id\":\"3515\",\"type\":\"ColumnDataSource\"},\"glyph\":{\"id\":\"3735\",\"type\":\"Line\"},\"hover_glyph\":null,\"muted_glyph\":null,\"nonselection_glyph\":{\"id\":\"3736\",\"type\":\"Line\"},\"selection_glyph\":null,\"view\":{\"id\":\"3738\",\"type\":\"CDSView\"}},\"id\":\"3737\",\"type\":\"GlyphRenderer\"},{\"attributes\":{\"num_minor_ticks\":5,\"tickers\":[{\"id\":\"3557\",\"type\":\"AdaptiveTicker\"},{\"id\":\"3558\",\"type\":\"AdaptiveTicker\"},{\"id\":\"3559\",\"type\":\"AdaptiveTicker\"},{\"id\":\"3560\",\"type\":\"DaysTicker\"},{\"id\":\"3561\",\"type\":\"DaysTicker\"},{\"id\":\"3562\",\"type\":\"DaysTicker\"},{\"id\":\"3563\",\"type\":\"DaysTicker\"},{\"id\":\"3564\",\"type\":\"MonthsTicker\"},{\"id\":\"3565\",\"type\":\"MonthsTicker\"},{\"id\":\"3566\",\"type\":\"MonthsTicker\"},{\"id\":\"3567\",\"type\":\"MonthsTicker\"},{\"id\":\"3568\",\"type\":\"YearsTicker\"}]},\"id\":\"3526\",\"type\":\"DatetimeTicker\"},{\"attributes\":{\"label\":{\"value\":\"6\"},\"renderers\":[{\"id\":\"3710\",\"type\":\"GlyphRenderer\"}]},\"id\":\"3733\",\"type\":\"LegendItem\"},{\"attributes\":{\"line_alpha\":0.1,\"line_color\":\"#1f77b4\",\"line_width\":2,\"x\":{\"field\":\"index\"},\"y\":{\"field\":\"6\"}},\"id\":\"3709\",\"type\":\"Line\"},{\"attributes\":{\"overlay\":{\"id\":\"3569\",\"type\":\"BoxAnnotation\"}},\"id\":\"3536\",\"type\":\"BoxZoomTool\"},{\"attributes\":{\"source\":{\"id\":\"3515\",\"type\":\"ColumnDataSource\"}},\"id\":\"3711\",\"type\":\"CDSView\"},{\"attributes\":{\"label\":{\"value\":\"3\"},\"renderers\":[{\"id\":\"3629\",\"type\":\"GlyphRenderer\"}]},\"id\":\"3652\",\"type\":\"LegendItem\"},{\"attributes\":{\"label\":{\"value\":\"1\"},\"renderers\":[{\"id\":\"3575\",\"type\":\"GlyphRenderer\"}]},\"id\":\"3598\",\"type\":\"LegendItem\"},{\"attributes\":{\"line_alpha\":0.1,\"line_color\":\"#1f77b4\",\"line_width\":2,\"x\":{\"field\":\"index\"},\"y\":{\"field\":\"4\"}},\"id\":\"3655\",\"type\":\"Line\"},{\"attributes\":{\"data_source\":{\"id\":\"3515\",\"type\":\"ColumnDataSource\"},\"glyph\":{\"id\":\"3547\",\"type\":\"Line\"},\"hover_glyph\":null,\"muted_glyph\":null,\"nonselection_glyph\":{\"id\":\"3548\",\"type\":\"Line\"},\"selection_glyph\":null,\"view\":{\"id\":\"3550\",\"type\":\"CDSView\"}},\"id\":\"3549\",\"type\":\"GlyphRenderer\"},{\"attributes\":{\"label\":{\"value\":\"2\"},\"renderers\":[{\"id\":\"3602\",\"type\":\"GlyphRenderer\"}]},\"id\":\"3625\",\"type\":\"LegendItem\"},{\"attributes\":{\"line_alpha\":0.1,\"line_color\":\"#1f77b4\",\"line_width\":2,\"x\":{\"field\":\"index\"},\"y\":{\"field\":\"0\"}},\"id\":\"3548\",\"type\":\"Line\"},{\"attributes\":{},\"id\":\"3538\",\"type\":\"ResetTool\"},{\"attributes\":{\"line_color\":\"#2E6B8E\",\"line_width\":2,\"x\":{\"field\":\"index\"},\"y\":{\"field\":\"7\"}},\"id\":\"3735\",\"type\":\"Line\"},{\"attributes\":{},\"id\":\"3597\",\"type\":\"UnionRenderers\"},{\"attributes\":{\"label\":{\"value\":\"7\"},\"renderers\":[{\"id\":\"3737\",\"type\":\"GlyphRenderer\"}]},\"id\":\"3760\",\"type\":\"LegendItem\"},{\"attributes\":{\"line_alpha\":0.1,\"line_color\":\"#1f77b4\",\"line_width\":2,\"x\":{\"field\":\"index\"},\"y\":{\"field\":\"7\"}},\"id\":\"3736\",\"type\":\"Line\"},{\"attributes\":{\"data_source\":{\"id\":\"3515\",\"type\":\"ColumnDataSource\"},\"glyph\":{\"id\":\"3600\",\"type\":\"Line\"},\"hover_glyph\":null,\"muted_glyph\":null,\"nonselection_glyph\":{\"id\":\"3601\",\"type\":\"Line\"},\"selection_glyph\":null,\"view\":{\"id\":\"3603\",\"type\":\"CDSView\"}},\"id\":\"3602\",\"type\":\"GlyphRenderer\"},{\"attributes\":{\"label\":{\"value\":\"0\"},\"renderers\":[{\"id\":\"3549\",\"type\":\"GlyphRenderer\"}]},\"id\":\"3571\",\"type\":\"LegendItem\"},{\"attributes\":{\"source\":{\"id\":\"3515\",\"type\":\"ColumnDataSource\"}},\"id\":\"3738\",\"type\":\"CDSView\"},{\"attributes\":{\"data_source\":{\"id\":\"3515\",\"type\":\"ColumnDataSource\"},\"glyph\":{\"id\":\"3978\",\"type\":\"Line\"},\"hover_glyph\":null,\"muted_glyph\":null,\"nonselection_glyph\":{\"id\":\"3979\",\"type\":\"Line\"},\"selection_glyph\":null,\"view\":{\"id\":\"3981\",\"type\":\"CDSView\"}},\"id\":\"3980\",\"type\":\"GlyphRenderer\"},{\"attributes\":{},\"id\":\"3535\",\"type\":\"PanTool\"},{\"attributes\":{\"active_drag\":\"auto\",\"active_inspect\":\"auto\",\"active_multi\":null,\"active_scroll\":\"auto\",\"active_tap\":\"auto\",\"tools\":[{\"id\":\"3535\",\"type\":\"PanTool\"},{\"id\":\"3536\",\"type\":\"BoxZoomTool\"},{\"id\":\"3537\",\"type\":\"WheelZoomTool\"},{\"id\":\"3538\",\"type\":\"ResetTool\"},{\"id\":\"3539\",\"type\":\"SaveTool\"}]},\"id\":\"3540\",\"type\":\"Toolbar\"},{\"attributes\":{},\"id\":\"3596\",\"type\":\"Selection\"},{\"attributes\":{\"line_alpha\":0.1,\"line_color\":\"#1f77b4\",\"line_width\":2,\"x\":{\"field\":\"index\"},\"y\":{\"field\":\"2\"}},\"id\":\"3601\",\"type\":\"Line\"},{\"attributes\":{\"line_color\":\"#29788E\",\"line_width\":2,\"x\":{\"field\":\"index\"},\"y\":{\"field\":\"8\"}},\"id\":\"3762\",\"type\":\"Line\"},{\"attributes\":{\"text\":\"\"},\"id\":\"3551\",\"type\":\"Title\"},{\"attributes\":{\"line_color\":\"#25838D\",\"line_width\":2,\"x\":{\"field\":\"index\"},\"y\":{\"field\":\"9\"}},\"id\":\"3789\",\"type\":\"Line\"},{\"attributes\":{\"label\":{\"value\":\"8\"},\"renderers\":[{\"id\":\"3764\",\"type\":\"GlyphRenderer\"}]},\"id\":\"3787\",\"type\":\"LegendItem\"},{\"attributes\":{\"formatter\":{\"id\":\"3556\",\"type\":\"DatetimeTickFormatter\"},\"ticker\":{\"id\":\"3526\",\"type\":\"DatetimeTicker\"}},\"id\":\"3525\",\"type\":\"DatetimeAxis\"},{\"attributes\":{\"line_color\":\"#45347F\",\"line_width\":2,\"x\":{\"field\":\"index\"},\"y\":{\"field\":\"3\"}},\"id\":\"3627\",\"type\":\"Line\"},{\"attributes\":{\"line_alpha\":0.1,\"line_color\":\"#1f77b4\",\"line_width\":2,\"x\":{\"field\":\"index\"},\"y\":{\"field\":\"8\"}},\"id\":\"3763\",\"type\":\"Line\"},{\"attributes\":{},\"id\":\"3531\",\"type\":\"BasicTicker\"},{\"attributes\":{\"source\":{\"id\":\"3515\",\"type\":\"ColumnDataSource\"}},\"id\":\"3765\",\"type\":\"CDSView\"},{\"attributes\":{\"data_source\":{\"id\":\"3515\",\"type\":\"ColumnDataSource\"},\"glyph\":{\"id\":\"3762\",\"type\":\"Line\"},\"hover_glyph\":null,\"muted_glyph\":null,\"nonselection_glyph\":{\"id\":\"3763\",\"type\":\"Line\"},\"selection_glyph\":null,\"view\":{\"id\":\"3765\",\"type\":\"CDSView\"}},\"id\":\"3764\",\"type\":\"GlyphRenderer\"},{\"attributes\":{\"source\":{\"id\":\"3515\",\"type\":\"ColumnDataSource\"}},\"id\":\"3603\",\"type\":\"CDSView\"},{\"attributes\":{\"data_source\":{\"id\":\"3515\",\"type\":\"ColumnDataSource\"},\"glyph\":{\"id\":\"3573\",\"type\":\"Line\"},\"hover_glyph\":null,\"muted_glyph\":null,\"nonselection_glyph\":{\"id\":\"3574\",\"type\":\"Line\"},\"selection_glyph\":null,\"view\":{\"id\":\"3576\",\"type\":\"CDSView\"}},\"id\":\"3575\",\"type\":\"GlyphRenderer\"},{\"attributes\":{},\"id\":\"3521\",\"type\":\"LinearScale\"},{\"attributes\":{\"line_color\":\"#79D151\",\"line_width\":2,\"x\":{\"field\":\"index\"},\"y\":{\"field\":\"16\"}},\"id\":\"3978\",\"type\":\"Line\"},{\"attributes\":{\"below\":[{\"id\":\"3525\",\"type\":\"DatetimeAxis\"}],\"center\":[{\"id\":\"3529\",\"type\":\"Grid\"},{\"id\":\"3534\",\"type\":\"Grid\"},{\"id\":\"3570\",\"type\":\"Legend\"}],\"left\":[{\"id\":\"3530\",\"type\":\"LinearAxis\"}],\"plot_height\":200,\"plot_width\":800,\"renderers\":[{\"id\":\"3549\",\"type\":\"GlyphRenderer\"},{\"id\":\"3575\",\"type\":\"GlyphRenderer\"},{\"id\":\"3602\",\"type\":\"GlyphRenderer\"},{\"id\":\"3629\",\"type\":\"GlyphRenderer\"},{\"id\":\"3656\",\"type\":\"GlyphRenderer\"},{\"id\":\"3683\",\"type\":\"GlyphRenderer\"},{\"id\":\"3710\",\"type\":\"GlyphRenderer\"},{\"id\":\"3737\",\"type\":\"GlyphRenderer\"},{\"id\":\"3764\",\"type\":\"GlyphRenderer\"},{\"id\":\"3791\",\"type\":\"GlyphRenderer\"},{\"id\":\"3818\",\"type\":\"GlyphRenderer\"},{\"id\":\"3845\",\"type\":\"GlyphRenderer\"},{\"id\":\"3872\",\"type\":\"GlyphRenderer\"},{\"id\":\"3899\",\"type\":\"GlyphRenderer\"},{\"id\":\"3926\",\"type\":\"GlyphRenderer\"},{\"id\":\"3953\",\"type\":\"GlyphRenderer\"},{\"id\":\"3980\",\"type\":\"GlyphRenderer\"},{\"id\":\"4007\",\"type\":\"GlyphRenderer\"},{\"id\":\"4034\",\"type\":\"GlyphRenderer\"},{\"id\":\"4061\",\"type\":\"GlyphRenderer\"},{\"id\":\"4088\",\"type\":\"GlyphRenderer\"}],\"title\":{\"id\":\"3551\",\"type\":\"Title\"},\"toolbar\":{\"id\":\"3540\",\"type\":\"Toolbar\"},\"toolbar_location\":null,\"x_range\":{\"id\":\"3517\",\"type\":\"DataRange1d\"},\"x_scale\":{\"id\":\"3521\",\"type\":\"LinearScale\"},\"y_range\":{\"id\":\"3519\",\"type\":\"DataRange1d\"},\"y_scale\":{\"id\":\"3523\",\"type\":\"LinearScale\"}},\"id\":\"3516\",\"subtype\":\"Figure\",\"type\":\"Plot\"},{\"attributes\":{\"line_alpha\":0.1,\"line_color\":\"#1f77b4\",\"line_width\":2,\"x\":{\"field\":\"index\"},\"y\":{\"field\":\"9\"}},\"id\":\"3790\",\"type\":\"Line\"},{\"attributes\":{\"source\":{\"id\":\"3515\",\"type\":\"ColumnDataSource\"}},\"id\":\"3657\",\"type\":\"CDSView\"},{\"attributes\":{\"line_alpha\":0.1,\"line_color\":\"#1f77b4\",\"line_width\":2,\"x\":{\"field\":\"index\"},\"y\":{\"field\":\"16\"}},\"id\":\"3979\",\"type\":\"Line\"},{\"attributes\":{\"label\":{\"value\":\"9\"},\"renderers\":[{\"id\":\"3791\",\"type\":\"GlyphRenderer\"}]},\"id\":\"3814\",\"type\":\"LegendItem\"},{\"attributes\":{\"line_alpha\":0.1,\"line_color\":\"#1f77b4\",\"line_width\":2,\"x\":{\"field\":\"index\"},\"y\":{\"field\":\"3\"}},\"id\":\"3628\",\"type\":\"Line\"},{\"attributes\":{\"data_source\":{\"id\":\"3515\",\"type\":\"ColumnDataSource\"},\"glyph\":{\"id\":\"3789\",\"type\":\"Line\"},\"hover_glyph\":null,\"muted_glyph\":null,\"nonselection_glyph\":{\"id\":\"3790\",\"type\":\"Line\"},\"selection_glyph\":null,\"view\":{\"id\":\"3792\",\"type\":\"CDSView\"}},\"id\":\"3791\",\"type\":\"GlyphRenderer\"},{\"attributes\":{\"data_source\":{\"id\":\"3515\",\"type\":\"ColumnDataSource\"},\"glyph\":{\"id\":\"3654\",\"type\":\"Line\"},\"hover_glyph\":null,\"muted_glyph\":null,\"nonselection_glyph\":{\"id\":\"3655\",\"type\":\"Line\"},\"selection_glyph\":null,\"view\":{\"id\":\"3657\",\"type\":\"CDSView\"}},\"id\":\"3656\",\"type\":\"GlyphRenderer\"},{\"attributes\":{\"source\":{\"id\":\"3515\",\"type\":\"ColumnDataSource\"}},\"id\":\"3819\",\"type\":\"CDSView\"},{\"attributes\":{\"source\":{\"id\":\"3515\",\"type\":\"ColumnDataSource\"}},\"id\":\"3792\",\"type\":\"CDSView\"},{\"attributes\":{\"callback\":null},\"id\":\"3519\",\"type\":\"DataRange1d\"},{\"attributes\":{\"ticker\":{\"id\":\"3526\",\"type\":\"DatetimeTicker\"}},\"id\":\"3529\",\"type\":\"Grid\"},{\"attributes\":{\"children\":[[{\"id\":\"3516\",\"subtype\":\"Figure\",\"type\":\"Plot\"},0,0]]},\"id\":\"4134\",\"type\":\"GridBox\"},{\"attributes\":{\"source\":{\"id\":\"3515\",\"type\":\"ColumnDataSource\"}},\"id\":\"3630\",\"type\":\"CDSView\"},{\"attributes\":{\"line_color\":\"#208F8C\",\"line_width\":2,\"x\":{\"field\":\"index\"},\"y\":{\"field\":\"10\"}},\"id\":\"3816\",\"type\":\"Line\"},{\"attributes\":{\"line_color\":\"#482374\",\"line_width\":2,\"x\":{\"field\":\"index\"},\"y\":{\"field\":\"2\"}},\"id\":\"3600\",\"type\":\"Line\"},{\"attributes\":{\"data_source\":{\"id\":\"3515\",\"type\":\"ColumnDataSource\"},\"glyph\":{\"id\":\"3681\",\"type\":\"Line\"},\"hover_glyph\":null,\"muted_glyph\":null,\"nonselection_glyph\":{\"id\":\"3682\",\"type\":\"Line\"},\"selection_glyph\":null,\"view\":{\"id\":\"3684\",\"type\":\"CDSView\"}},\"id\":\"3683\",\"type\":\"GlyphRenderer\"},{\"attributes\":{\"line_alpha\":0.1,\"line_color\":\"#1f77b4\",\"line_width\":2,\"x\":{\"field\":\"index\"},\"y\":{\"field\":\"10\"}},\"id\":\"3817\",\"type\":\"Line\"},{\"attributes\":{\"data_source\":{\"id\":\"3515\",\"type\":\"ColumnDataSource\"},\"glyph\":{\"id\":\"3816\",\"type\":\"Line\"},\"hover_glyph\":null,\"muted_glyph\":null,\"nonselection_glyph\":{\"id\":\"3817\",\"type\":\"Line\"},\"selection_glyph\":null,\"view\":{\"id\":\"3819\",\"type\":\"CDSView\"}},\"id\":\"3818\",\"type\":\"GlyphRenderer\"},{\"attributes\":{\"line_alpha\":0.1,\"line_color\":\"#1f77b4\",\"line_width\":2,\"x\":{\"field\":\"index\"},\"y\":{\"field\":\"15\"}},\"id\":\"3952\",\"type\":\"Line\"},{\"attributes\":{\"label\":{\"value\":\"10\"},\"renderers\":[{\"id\":\"3818\",\"type\":\"GlyphRenderer\"}]},\"id\":\"3841\",\"type\":\"LegendItem\"},{\"attributes\":{\"line_color\":\"#5BC862\",\"line_width\":2,\"x\":{\"field\":\"index\"},\"y\":{\"field\":\"15\"}},\"id\":\"3951\",\"type\":\"Line\"},{\"attributes\":{\"source\":{\"id\":\"3515\",\"type\":\"ColumnDataSource\"}},\"id\":\"3981\",\"type\":\"CDSView\"},{\"attributes\":{\"source\":{\"id\":\"3515\",\"type\":\"ColumnDataSource\"}},\"id\":\"3954\",\"type\":\"CDSView\"},{\"attributes\":{\"base\":60,\"mantissas\":[1,2,5,10,15,20,30],\"max_interval\":1800000.0,\"min_interval\":1000.0,\"num_minor_ticks\":0},\"id\":\"3558\",\"type\":\"AdaptiveTicker\"},{\"attributes\":{\"label\":{\"value\":\"16\"},\"renderers\":[{\"id\":\"3980\",\"type\":\"GlyphRenderer\"}]},\"id\":\"4003\",\"type\":\"LegendItem\"},{\"attributes\":{\"line_color\":\"#1E9B89\",\"line_width\":2,\"x\":{\"field\":\"index\"},\"y\":{\"field\":\"11\"}},\"id\":\"3843\",\"type\":\"Line\"},{\"attributes\":{\"data_source\":{\"id\":\"3515\",\"type\":\"ColumnDataSource\"},\"glyph\":{\"id\":\"3843\",\"type\":\"Line\"},\"hover_glyph\":null,\"muted_glyph\":null,\"nonselection_glyph\":{\"id\":\"3844\",\"type\":\"Line\"},\"selection_glyph\":null,\"view\":{\"id\":\"3846\",\"type\":\"CDSView\"}},\"id\":\"3845\",\"type\":\"GlyphRenderer\"},{\"attributes\":{\"source\":{\"id\":\"3515\",\"type\":\"ColumnDataSource\"}},\"id\":\"3846\",\"type\":\"CDSView\"},{\"attributes\":{\"line_color\":\"#97D83E\",\"line_width\":2,\"x\":{\"field\":\"index\"},\"y\":{\"field\":\"17\"}},\"id\":\"4005\",\"type\":\"Line\"},{\"attributes\":{\"line_alpha\":0.1,\"line_color\":\"#1f77b4\",\"line_width\":2,\"x\":{\"field\":\"index\"},\"y\":{\"field\":\"11\"}},\"id\":\"3844\",\"type\":\"Line\"},{\"attributes\":{\"months\":[0,4,8]},\"id\":\"3566\",\"type\":\"MonthsTicker\"},{\"attributes\":{\"label\":{\"value\":\"11\"},\"renderers\":[{\"id\":\"3845\",\"type\":\"GlyphRenderer\"}]},\"id\":\"3868\",\"type\":\"LegendItem\"},{\"attributes\":{\"days\":[1,2,3,4,5,6,7,8,9,10,11,12,13,14,15,16,17,18,19,20,21,22,23,24,25,26,27,28,29,30,31]},\"id\":\"3560\",\"type\":\"DaysTicker\"},{\"attributes\":{\"line_alpha\":0.1,\"line_color\":\"#1f77b4\",\"line_width\":2,\"x\":{\"field\":\"index\"},\"y\":{\"field\":\"17\"}},\"id\":\"4006\",\"type\":\"Line\"},{\"attributes\":{\"toolbar\":{\"id\":\"4135\",\"type\":\"ProxyToolbar\"},\"toolbar_location\":\"above\"},\"id\":\"4136\",\"type\":\"ToolbarBox\"},{\"attributes\":{\"label\":{\"value\":\"17\"},\"renderers\":[{\"id\":\"4007\",\"type\":\"GlyphRenderer\"}]},\"id\":\"4030\",\"type\":\"LegendItem\"},{\"attributes\":{\"data_source\":{\"id\":\"3515\",\"type\":\"ColumnDataSource\"},\"glyph\":{\"id\":\"4005\",\"type\":\"Line\"},\"hover_glyph\":null,\"muted_glyph\":null,\"nonselection_glyph\":{\"id\":\"4006\",\"type\":\"Line\"},\"selection_glyph\":null,\"view\":{\"id\":\"4008\",\"type\":\"CDSView\"}},\"id\":\"4007\",\"type\":\"GlyphRenderer\"},{\"attributes\":{\"label\":{\"value\":\"12\"},\"renderers\":[{\"id\":\"3872\",\"type\":\"GlyphRenderer\"}]},\"id\":\"3895\",\"type\":\"LegendItem\"},{\"attributes\":{\"source\":{\"id\":\"3515\",\"type\":\"ColumnDataSource\"}},\"id\":\"4008\",\"type\":\"CDSView\"},{\"attributes\":{},\"id\":\"3568\",\"type\":\"YearsTicker\"},{\"attributes\":{\"line_alpha\":0.1,\"line_color\":\"#1f77b4\",\"line_width\":2,\"x\":{\"field\":\"index\"},\"y\":{\"field\":\"12\"}},\"id\":\"3871\",\"type\":\"Line\"},{\"attributes\":{\"months\":[0,6]},\"id\":\"3567\",\"type\":\"MonthsTicker\"},{\"attributes\":{},\"id\":\"3556\",\"type\":\"DatetimeTickFormatter\"},{\"attributes\":{\"callback\":null,\"data\":{\"0\":{\"__ndarray__\":\"5SeYVz/g5D8AAAAAAAAAAAAAAAAAAAAAAAAAAAAAAAAAAAAAAAAAAAAAAAAAAAAAAAAAAAAAAAAAAAAAAAAAAAAAAAAAAAAAAAAAAAAAAAAAAAAAAAAAAMV8n2DJnK0/cZL48VVoEEBzC0fh1iojQAAAAAAAACRAAAAAAAAAJEAAAAAAAAAkQAAAAAAAACRAAAAAAAAAJEAAAAAAAAAkQHkTcGngLCNAlxhllGibIUDvk0gnT8kdQDdOUBKRCBVA50kcUhz08z8AAAAAAAAAAAAAAAAAAAAAAAAAAAAAAAAAAAAAAAAAAAAAAAAAAAAAAAAAAAAAAAAAAAAAAAAAAAAAAAAAAAAAAAAAAAAAAAAAAAAAAAAAANTA6uzr7Ik/mHQBpQxr5j+jtYKr9ej8P80Mctou6w1Ac5un1AegE0A8OQkJV2QXQP57vp7FMCNA+Xz9ZhXdI0BZ1EhcwpAjQFCZI+iumBxAJ2WqlKedF0Bn48FGo0QSQAAKZZ+PtQRAMMVr0aZB5D8AAAAAAAAAAAAAAAAAAAAAAAAAAAAAAAAAAAAAAAAAAAAAAAAAAAAAAAAAAAAAAAAAAAAAAAAAAAAAAAAAAAAAAAAAAAAAAAAAAAAAAAAAACgHuhpEpJw/kVPHTagN8z8NUjZ2Lc8JQD/8J4SSTBVApMCxQu9mGECzUSSDkx0cQLUZQPaUVyFANfO45BVlIUAw6dNiGvcgQDXhBTTTZhdAAK6MbASIEkARJ2LFXG4LQOJgahSQrhBAyPtBR21MBEA=\",\"dtype\":\"float64\",\"shape\":[73]},\"1\":{\"__ndarray__\":\"E5NIhG2K8D8AAAAAAAAAAAAAAAAAAAAAAAAAAAAAAAAAAAAAAAAAAAAAAAAAAAAAAAAAAAAAAAAAAAAAAAAAAAAAAAAAAAAAAAAAAAAAAAAAAAAAAAAAAL9zFJ3hnK0/ZVZevV1oEEC4aA+T2SojQAAAAAAAACRAAAAAAAAAJEAAAAAAAAAkQAAAAAAAACRAAAAAAAAAJEAAAAAAAAAkQIfMt8pPXiNAbe+BljHYIUAtcmoqEkkeQDeoCW7LvRVA+NSODYbJ9D8AAAAAAAAAAAAAAAAAAAAAAAAAAAAAAAAAAAAAAAAAAAAAAAAAAAAAAAAAAAAAAAAAAAAAAAAAAAAAAAAAAAAAAAAAAAAAAAAAAAAAAAAAALUZdfp3Z5E/gxo4ge9A6z+dO+IGC/YBQHUSsj1nug5APAwOzeH2E0Bv4vMUg70XQKdDZI0fXyNAAAAAAAAAJEAAAAAAAAAkQBL9f/+d0yFA4Bvwc13tH0DYKWL1dmcaQKQIm8eHFgVAm+MnmSqm5D8AAAAAAAAAAAAAAAAAAAAAAAAAAAAAAAAAAAAAAAAAAAAAAAAAAAAAAAAAAAAAAAAAAAAAAAAAAAAAAAAAAAAAAAAAAAAAAAAAAAAAAAAAANsIafM/kJ8/E2bJp6kl9T9EtrviseAMQKSqY3fuphVA1Z9KozrMGEB/JLQLLH4cQAd0riC6uyFAFSZKhhm/IUDNfUvnjFUhQPWgpRVOrx1Au6FNE3LdGEBjpWIqj3QTQD9qeYURZRVA483CRmVeCkA=\",\"dtype\":\"float64\",\"shape\":[73]},\"10\":{\"__ndarray__\":\"mV0igm7vAEAAAAAAAAAAAAAAAAAAAAAAAAAAAAAAAAAAAAAAAAAAAAAAAAAAAAAAAAAAAAAAAAAAAAAAAAAAAAAAAAAAAAAAAAAAAAAAAAAAAAAAAAAAANOaK4sBna0/aD2HfmpoEEB78alu3yojQAAAAAAAACRAAAAAAAAAJEAAAAAAAAAkQAAAAAAAACRAAAAAAAAAJEAAAAAAAAAkQAAAAAAAACRA7X+r7AvfI0Btr+w4uqshQBPKA/5NHBhAr3wYkE989z8AAAAAAAAAAAAAAAAAAAAAAAAAAAAAAAAAAAAAAAAAAAAAAAAAAAAAAAAAAAAAAAAAAAAAAAAAAAAAAAAAAAAAAAAAAAAAAAAAAAAAAAAAAOhZznswbJg/e+ihbnio8T+snbwW0AUIQB1qBZdjthRAKLvH1GX7GUB0wWXHlJ0dQMnE5zkioCNAAAAAAAAAJEAAAAAAAAAkQAAAAAAAACRAAAAAAAAAJEB9veBps64iQAFTr7+5GQ9A0DkDROPj7D8AAAAAAAAAAAAAAAAAAAAAAAAAAAAAAAAAAAAAAAAAAAAAAAAAAAAAAAAAAAAAAAAAAAAAAAAAAAAAAAAAAAAAAAAAAAAAAAAAAAAAAAAAAM2/8Q8Q4q0/WRruB4pMCkC1SIOd9skgQHMfapGejB1AXaICgfpmIUD9baHwBMwiQON7fINq5CNAAAAAAAAAJEAAAAAAAAAkQAAAAAAAACRAAAAAAAAAJEAAAAAAAAAkQPMsH14l0SFAjYnCnkjqF0A=\",\"dtype\":\"float64\",\"shape\":[73]},\"11\":{\"__ndarray__\":\"mV0igm7vAEAAAAAAAAAAAAAAAAAAAAAAAAAAAAAAAAAAAAAAAAAAAAAAAAAAAAAAAAAAAAAAAAAAAAAAAAAAAAAAAAAAAAAAAAAAAAAAAAAAAAAAAAAAANOaK4sBna0/9yF4vmpoEECnWN/X3yojQAAAAAAAACRAAAAAAAAAJEAAAAAAAAAkQAAAAAAAACRAAAAAAAAAJEAAAAAAAAAkQAAAAAAAACRAQfO9eA/fI0CR3Q1NwqshQAAwMPwWTBhAA5ShYV989z8AAAAAAAAAAAAAAAAAAAAAAAAAAAAAAAAAAAAAAAAAAAAAAAAAAAAAAAAAAAAAAAAAAAAAAAAAAAAAAAAAAAAAAAAAAAAAAAAAAAAAAAAAAIjJDKBm+Jg/j9GJceoF8j89osMQTpIIQAvP0PG/LBVAE5bPsqlkGkA0ACxWBQAeQPXlGeQQpCNAAAAAAAAAJEAAAAAAAAAkQAAAAAAAACRAAAAAAAAAJECyEMCy8eUiQFW84MV4MxFAPcfyLuFS8D8AAAAAAAAAAAAAAAAAAAAAAAAAAAAAAAAAAAAAAAAAAAAAAAAAAAAAAAAAAAAAAAAAAAAAAAAAAAAAAAAAAAAAAAAAAAAAAAAAAAAAAAAAAKAROtPFp64/GBXJ9FpOC0CQs0O+o0chQCVYl3rfFx9ABhpdkSNnIUATv4M6McwiQJ/8FCqG7CNAAAAAAAAAJEAAAAAAAAAkQAAAAAAAACRAAAAAAAAAJEAAAAAAAAAkQFcBGAks0SFAhADrBFfqF0A=\",\"dtype\":\"float64\",\"shape\":[73]},\"12\":{\"__ndarray__\":\"q64hr3/vAEAAAAAAAAAAAAAAAAAAAAAAAAAAAAAAAAAAAAAAAAAAAAAAAAAAAAAAAAAAAAAAAAAAAAAAAAAAAAAAAAAAAAAAAAAAAAAAAAAAAAAAAAAAACWZXsACna0/w7xo/mpoEEA0hLPm3yojQAAAAAAAACRAAAAAAAAAJEAAAAAAAAAkQAAAAAAAACRAAAAAAAAAJEAAAAAAAAAkQAAAAAAAACRA2x2P2z/xI0C9tpqJeewhQL1ZH3wpdxhARaBd3fv29z8AAAAAAAAAAAAAAAAAAAAAAAAAAAAAAAAAAAAAAAAAAAAAAAAAAAAAAAAAAAAAAAAAAAAAAAAAAAAAAAAAAAAAAAAAAAAAAAAAAAAAAAAAADXAbpFtEZo/2+fXBJfH8j/lA3h3trQJQKwKK5xkThVAu/cinMtkGkBfhS3GLQAeQETWzbISpCNAAAAAAAAAJEAAAAAAAAAkQAAAAAAAACRAAAAAAAAAJEBztDxcThcjQI2jeAD1jxJA0PR3QMIB8T8AAAAAAAAAAAAAAAAAAAAAAAAAAAAAAAAAAAAAAAAAAAAAAAAAAAAAAAAAAAAAAAAAAAAAAAAAAAAAAAAAAAAAAAAAAAAAAAAAAAAAAAAAAMcIVAkeVbA/0Eap3ITrDUAkrOxX3EsiQE12TkA1mB9AcNJu/L5SIkDPmRvi7JsjQOv0xGqV8CNAAAAAAAAAJEAAAAAAAAAkQAAAAAAAACRAAAAAAAAAJEAAAAAAAAAkQMdImkc00SFA6FhYU2vqF0A=\",\"dtype\":\"float64\",\"shape\":[73]},\"13\":{\"__ndarray__\":\"90Ge3GRAAUAAAAAAAAAAAAAAAAAAAAAAAAAAAAAAAAAAAAAAAAAAAAAAAAAAAAAAAAAAAAAAAAAAAAAAAAAAAAAAAAAAAAAAAAAAAAAAAAAAAAAAAAAAAAg+EdADna0/NXLLRmxoEEDU3H8a4CojQAAAAAAAACRAAAAAAAAAJEAAAAAAAAAkQAAAAAAAACRAAAAAAAAAJEAAAAAAAAAkQAAAAAAAACRAQKlyzWH8I0DbqIylAi0iQMR7FccRzxhAKMGjaZdz+D8AAAAAAAAAAAAAAAAAAAAAAAAAAAAAAAAAAAAAAAAAAAAAAAAAAAAAAAAAAAAAAAAAAAAAAAAAAAAAAAAAAAAAAAAAAAAAAAAAAAAAAAAAALfQ3708npo/+bU26PMr8z/z9R0rx0oKQJUpHV3ukhVAy5lTOB3PGkCT6jxfL2MeQJtFjDoFqCNAAAAAAAAAJEAAAAAAAAAkQAAAAAAAACRAAAAAAAAAJEBzTaQSWhcjQMgUyMKELBRAI9R6egA98z8AAAAAAAAAAAAAAAAAAAAAAAAAAAAAAAAAAAAAAAAAAAAAAAAAAAAAAAAAAAAAAAAAAAAAAAAAAAAAAAAAAAAAAAAAAAAAAAAAAAAAAAAAAMVl27ue+7A/y/N6Bh2ND0D9XnAYy8AiQDwnnMRw5R9AZ0oeQ6TIIkCPsq42SOYjQAAAAAAAACRAAAAAAAAAJEAAAAAAAAAkQAAAAAAAACRAAAAAAAAAJEAAAAAAAAAkQPmITjM10SFA2dDXcmvqF0A=\",\"dtype\":\"float64\",\"shape\":[73]},\"14\":{\"__ndarray__\":\"90Ge3GRAAUAAAAAAAAAAAAAAAAAAAAAAAAAAAAAAAAAAAAAAAAAAAAAAAAAAAAAAAAAAAAAAAAAAAAAAAAAAAAAAAAAAAAAAAAAAAAAAAAAAAAAAAAAAAMu58RQGna0/j1a8hmxoEECJULWD4CojQAAAAAAAACRAAAAAAAAAJEAAAAAAAAAkQAAAAAAAACRAAAAAAAAAJEAAAAAAAAAkQAAAAAAAACRAAAAAAAAAJEA4GIYFaW0iQJnUVw661xhAB35xWKlz+D8AAAAAAAAAAAAAAAAAAAAAAAAAAAAAAAAAAAAAAAAAAAAAAAAAAAAAAAAAAAAAAAAAAAAAAAAAAAAAAAAAAAAAAAAAAAAAAAAAAAAAAAAAAAgFmy+CK5s/JVueRMyS8z8bRV8OHeQKQD3ADV8IvhdAOz1cOhpgHUBIVE03Q18gQPGQjmPtvyNAAAAAAAAAJEAAAAAAAAAkQAAAAAAAACRAAAAAAAAAJEDD2Ka5CEMjQMzUmESqUhRA2SZ1nBij8z8AAAAAAAAAAAAAAAAAAAAAAAAAAAAAAAAAAAAAAAAAAAAAAAAAAAAAAAAAAAAAAAAAAAAAAAAAAAAAAAAAAAAAAAAAAAAAAAAAAAAAAAAAAAk86vWk+7A/JXac8CKND0Cc9D0dzMAiQOXdZNVCMSNAAAAAAAAAJEAAAAAAAAAkQAAAAAAAACRAAAAAAAAAJEAAAAAAAAAkQAAAAAAAACRAAAAAAAAAJEAAAAAAAAAkQFAeR/o20SFA3ij/pW7qF0A=\",\"dtype\":\"float64\",\"shape\":[73]},\"15\":{\"__ndarray__\":\"llWAWHZAAUAAAAAAAAAAAAAAAAAAAAAAAAAAAAAAAAAAAAAAAAAAAAAAAAAAAAAAAAAAAAAAAAAAAAAAAAAAAAAAAAAAAAAAAAAAAAAAAAAAAAAAAAAAAMvjSPMNna0/F5Bjl29oEEDP0B9W4SojQAAAAAAAACRAAAAAAAAAJEAAAAAAAAAkQAAAAAAAACRAAAAAAAAAJEAAAAAAAAAkQAAAAAAAACRAAAAAAAAAJEBPhqv+bm0iQLgyPkhm+hhAEy/4Uq9z+D8AAAAAAAAAAAAAAAAAAAAAAAAAAAAAAAAAAAAAAAAAAAAAAAAAAAAAAAAAAAAAAAAAAAAAAAAAAAAAAAAAAAAAAAAAAAAAAAAAAAAAAAAAAOf3GCzAuJs/H/tZtVT88z/cUnF2kYALQGgmjU1xHBpA28X4Y0uYH0DHVr0tY18hQBIBX/gQ1CNAAAAAAAAAJEAAAAAAAAAkQAAAAAAAACRAAAAAAAAAJECNPqM2FOQjQFsn49UxhRRAb+OQaGcL9D8AAAAAAAAAAAAAAAAAAAAAAAAAAAAAAAAAAAAAAAAAAAAAAAAAAAAAAAAAAAAAAAAAAAAAAAAAAAAAAAAAAAAAAAAAAAAAAAAAAAAAAAAAACTl4IPZM7E/KAyTiV8NEEDmIYFcReMiQE+V1jVOXyNAAAAAAAAAJEAAAAAAAAAkQAAAAAAAACRAAAAAAAAAJEAAAAAAAAAkQAAAAAAAACRAAAAAAAAAJEAAAAAAAAAkQEoVTGw30SFAFuCPP3DqF0A=\",\"dtype\":\"float64\",\"shape\":[73]},\"16\":{\"__ndarray__\":\"ad0Vv12SAUAAAAAAAAAAAAAAAAAAAAAAAAAAAAAAAAAAAAAAAAAAAAAAAAAAAAAAAAAAAAAAAAAAAAAAAAAAAAAAAAAAAAAAAAAAAAAAAAAAAAAAAAAAALAvYFASna0/vtPTBHNoEED1oaeJ4iojQAAAAAAAACRAAAAAAAAAJEAAAAAAAAAkQAAAAAAAACRAAAAAAAAAJEAAAAAAAAAkQAAAAAAAACRAAAAAAAAAJEDKQXUUB6siQOjM4EF5+hhA+6Gqyp3y+D8AAAAAAAAAAAAAAAAAAAAAAAAAAAAAAAAAAAAAAAAAAAAAAAAAAAAAAAAAAAAAAAAAAAAAAAAAAAAAAAAAAAAAAAAAAAAAAAAAAAAAAAAAAB8Y24bFuJs/81plglf88z/tenqcnYALQDvcCvTtfB1A/1x8026fIUBeqpjjb/4iQPqNKBKI9CNAAAAAAAAAJEAAAAAAAAAkQAAAAAAAACRAAAAAAAAAJEAAAAAAAAAkQKUQMk85+hdAHWw9Mt+Z9z8AAAAAAAAAAAAAAAAAAAAAAAAAAAAAAAAAAAAAAAAAAAAAAAAAAAAAAAAAAAAAAAAAAAAAAAAAAAAAAAAAAAAAAAAAAAAAAAAAAAAAAAAAAHPS3SD2M7E/A4Zmy3sNEEBdXKf6V+MiQKF0xpNJ6iNAAAAAAAAAJEAAAAAAAAAkQAAAAAAAACRAAAAAAAAAJEAAAAAAAAAkQAAAAAAAACRAAAAAAAAAJEAAAAAAAAAkQJl0fUA70SFA7+7q4HfqF0A=\",\"dtype\":\"float64\",\"shape\":[73]},\"17\":{\"__ndarray__\":\"xGSnnmXlAUAAAAAAAAAAAAAAAAAAAAAAAAAAAAAAAAAAAAAAAAAAAAAAAAAAAAAAAAAAAAAAAAAAAAAAAAAAAAAAAAAAAAAAAAAAAAAAAAAAAAAAAAAAALAvYFASna0/vtPTBHNoEEA/TOZq4yojQAAAAAAAACRAAAAAAAAAJEAAAAAAAAAkQAAAAAAAACRAAAAAAAAAJEAAAAAAAAAkQAAAAAAAACRAAAAAAAAAJEAagm+MEasiQN/CQRB7gBlAOT/MKaZz+T8AAAAAAAAAAAAAAAAAAAAAAAAAAAAAAAAAAAAAAAAAAAAAAAAAAAAAAAAAAAAAAAAAAAAAAAAAAAAAAAAAAAAAAAAAAAAAAAAAAAAAAAAAANsLcSwHF6A/o5970X+n9z8mglRDxm0QQOXjCGwoVyBA80CDPU8BI0DdUxBDN/gjQAAAAAAAACRAAAAAAAAAJEAAAAAAAAAkQAAAAAAAACRAAAAAAAAAJEAAAAAAAAAkQCkXmmIQ4RhAd0rYP0wV+D8AAAAAAAAAAAAAAAAAAAAAAAAAAAAAAAAAAAAAAAAAAAAAAAAAAAAAAAAAAAAAAAAAAAAAAAAAAAAAAAAAAAAAAAAAAAAAAAAAAAAAAAAAAHndoOH0bLE/gx5FAtBUEEBRsYzJtwEjQFEhiw/y9SNAAAAAAAAAJEAAAAAAAAAkQAAAAAAAACRAAAAAAAAAJEAAAAAAAAAkQAAAAAAAACRAAAAAAAAAJEAAAAAAAAAkQOCpMSw80SFAnmZqAHjqF0A=\",\"dtype\":\"float64\",\"shape\":[73]},\"18\":{\"__ndarray__\":\"5+4DaXvlAUAAAAAAAAAAAAAAAAAAAAAAAAAAAAAAAAAAAAAAAAAAAAAAAAAAAAAAAAAAAAAAAAAAAAAAAAAAAAAAAAAAAAAAAAAAAAAAAAAAAAAAAAAAAD2rQJUUna0/BRIxEnRoEEA/TOZq4yojQAAAAAAAACRAAAAAAAAAJEAAAAAAAAAkQAAAAAAAACRAAAAAAAAAJEAAAAAAAAAkQAAAAAAAACRAAAAAAAAAJEBmTW39m+IiQKPlMWzXoBlAZab9EKdz+T8AAAAAAAAAAAAAAAAAAAAAAAAAAAAAAAAAAAAAAAAAAAAAAAAAAAAAAAAAAAAAAAAAAAAAAAAAAAAAAAAAAAAAAAAAAAAAAAAAAAAAAAAAAIVcnCYjp6A/sP8gGa6u+D8FWewGcykRQCnV7VVBiCJAAAAAAAAAJEAAAAAAAAAkQAAAAAAAACRAAAAAAAAAJEAAAAAAAAAkQAAAAAAAACRAAAAAAAAAJEAAAAAAAAAkQH3BvAR+SBlAjYRtV/2S+D8AAAAAAAAAAAAAAAAAAAAAAAAAAAAAAAAAAAAAAAAAAAAAAAAAAAAAAAAAAAAAAAAAAAAAAAAAAAAAAAAAAAAAAAAAAAAAAAAAAAAAAAAAAO+hmfn+bLE/MQ6/PdhUEEBcZZ2YvAEjQHcJvDCU+yNAAAAAAAAAJEAAAAAAAAAkQAAAAAAAACRAAAAAAAAAJEAAAAAAAAAkQAAAAAAAACRAAAAAAAAAJEAAAAAAAAAkQIDhXVZJ0SFAxPw1bpTqF0A=\",\"dtype\":\"float64\",\"shape\":[73]},\"19\":{\"__ndarray__\":\"xMxezn7lAUAAAAAAAAAAAAAAAAAAAAAAAAAAAAAAAAAAAAAAAAAAAAAAAAAAAAAAAAAAAAAAAAAAAAAAAAAAAAAAAAAAAAAAAAAAAAAAAAAAAAAAAAAAAKinZlEena0/qBsYzXRoEEC0p/F/5CojQAAAAAAAACRAAAAAAAAAJEAAAAAAAAAkQAAAAAAAACRAAAAAAAAAJEAAAAAAAAAkQAAAAAAAACRAAAAAAAAAJEDr6FkLD0AjQKBL3QA61xlAucBM/7pz+T8AAAAAAAAAAAAAAAAAAAAAAAAAAAAAAAAAAAAAAAAAAAAAAAAAAAAAAAAAAAAAAAAAAAAAAAAAAAAAAAAAAAAAAAAAAAAAAAAAAAAAAAAAAKYclG1nWqI//5PMr3EN/D8V4rvBgIETQI+PTw506yJAAAAAAAAAJEAAAAAAAAAkQAAAAAAAACRAAAAAAAAAJEAAAAAAAAAkQAAAAAAAACRAAAAAAAAAJEAAAAAAAAAkQF3NsV05CB1AcINBFwpi/T8AAAAAAAAAAAAAAAAAAAAAAAAAAAAAAAAAAAAAAAAAAAAAAAAAAAAAAAAAAAAAAAAAAAAAAAAAAAAAAAAAAAAAAAAAAAAAAAAAAAAAAAAAAGP1wugbqLE/41bKgbqcEEDoqTzapR8jQAAAAAAAACRAAAAAAAAAJEAAAAAAAAAkQAAAAAAAACRAAAAAAAAAJEAAAAAAAAAkQAAAAAAAACRAAAAAAAAAJEAAAAAAAAAkQL+wgmNT0SFAkvgh3KjqF0A=\",\"dtype\":\"float64\",\"shape\":[73]},\"2\":{\"__ndarray__\":\"hndQvf+08j8AAAAAAAAAAAAAAAAAAAAAAAAAAAAAAAAAAAAAAAAAAAAAAAAAAAAAAAAAAAAAAAAAAAAAAAAAAAAAAAAAAAAAAAAAAAAAAAAAAAAAAAAAACun6YPqnK0/Q/shs2JoEEAPWgsR3CojQAAAAAAAACRAAAAAAAAAJEAAAAAAAAAkQAAAAAAAACRAAAAAAAAAJEAAAAAAAAAkQKPiplbSjyNAcEKsVxcVIkBDvu39eMkeQH1JrTbNCRZA7hOja2o39T8AAAAAAAAAAAAAAAAAAAAAAAAAAAAAAAAAAAAAAAAAAAAAAAAAAAAAAAAAAAAAAAAAAAAAAAAAAAAAAAAAAAAAAAAAAAAAAAAAAAAAAAAAANukswkUApM/U3Vml8bn7D9kTaCkmzEDQPEb87EhYRFAh675IKC5FUBr4u1a1IMZQA2GehvXYiNAAAAAAAAAJEAAAAAAAAAkQAL5WsUiNiJAs/T3wYJuIEDtJdWzI10bQItH9RmdjQZA+1H62Lnh5T8AAAAAAAAAAAAAAAAAAAAAAAAAAAAAAAAAAAAAAAAAAAAAAAAAAAAAAAAAAAAAAAAAAAAAAAAAAAAAAAAAAAAAAAAAAAAAAAAAAAAAAAAAAA/5rRW3QaE/MaudZu2A9z/B+gI2PSIQQDGag3FHbBdA/3E8/sHVGkDX0SC9FmgeQKM6R+KxkCNAAAAAAAAAJEAAAAAAAAAkQP1ljVayESFA0EYa8Q4bHkCsCE3e1ZMYQHPbJhEcChlA+wCYiZY5EEA=\",\"dtype\":\"float64\",\"shape\":[73]},\"20\":{\"__ndarray__\":\"jZuEU285AkAAAAAAAAAAAAAAAAAAAAAAAAAAAAAAAAAAAAAAAAAAAAAAAAAAAAAAAAAAAAAAAAAAAAAAAAAAAAAAAAAAAAAAAAAAAAAAAAAAAAAAAAAAAOWYWZY3na0/iNH2in9oEEAj6Az85yojQAAAAAAAACRAAAAAAAAAJEAAAAAAAAAkQAAAAAAAACRAAAAAAAAAJEAAAAAAAAAkQAAAAAAAACRAAAAAAAAAJEBjTKBlBL4jQEnZIJUNShpAf7w0nE98+j8AAAAAAAAAAAAAAAAAAAAAAAAAAAAAAAAAAAAAAAAAAAAAAAAAAAAAAAAAAAAAAAAAAAAAAAAAAAAAAAAAAAAAAAAAAAAAAAAAAAAAAAAAAOcLsTi27KI/J5AwE2pG/T9qxPY9bFUUQOwjwaWM8CJAAAAAAAAAJEAAAAAAAAAkQAAAAAAAACRAAAAAAAAAJEAAAAAAAAAkQAAAAAAAACRAAAAAAAAAJEAAAAAAAAAkQGWJBc4gDh9AEIwe8P18AEAAAAAAAAAAAAAAAAAAAAAAAAAAAAAAAAAAAAAAAAAAAAAAAAAAAAAAAAAAAAAAAAAAAAAAAAAAAAAAAAAAAAAAAAAAAAAAAAAAAAAAAAAAACUEOvUuqLE/93yNzsecEEBP2DfCqx8jQAAAAAAAACRAAAAAAAAAJEAAAAAAAAAkQAAAAAAAACRAAAAAAAAAJEAAAAAAAAAkQAAAAAAAACRAAAAAAAAAJEAAAAAAAAAkQC12cUZU0SFAkvgh3KjqF0A=\",\"dtype\":\"float64\",\"shape\":[73]},\"3\":{\"__ndarray__\":\"uOPB9lh98z8AAAAAAAAAAAAAAAAAAAAAAAAAAAAAAAAAAAAAAAAAAAAAAAAAAAAAAAAAAAAAAAAAAAAAAAAAAAAAAAAAAAAAAAAAAAAAAAAAAAAAAAAAAERen5PrnK0/dhFXu2RoEEDLYl7b3CojQAAAAAAAACRAAAAAAAAAJEAAAAAAAAAkQAAAAAAAACRAAAAAAAAAJEAAAAAAAAAkQHgCPkST3SNAd7YiOsSOIkCzpgtCacsfQKNqQJ7TVhZAyMw6bVGn9T8AAAAAAAAAAAAAAAAAAAAAAAAAAAAAAAAAAAAAAAAAAAAAAAAAAAAAAAAAAAAAAAAAAAAAAAAAAAAAAAAAAAAAAAAAAAAAAAAAAAAAAAAAAB86VeAwFZQ/yLWcVtgR7j/gZpyyjBEEQBmumwBSYxFALC8cyFMXFkCoH4zPnOAZQMroC05teSNAAAAAAAAAJEAAAAAAAAAkQKGr80j0mCJA2wYe+i3nIEAlDewtjFYcQMC/D8ysZAlAeyaFnwqp5z8AAAAAAAAAAAAAAAAAAAAAAAAAAAAAAAAAAAAAAAAAAAAAAAAAAAAAAAAAAAAAAAAAAAAAAAAAAAAAAAAAAAAAAAAAAAAAAAAAAAAAAAAAAMxb3OnZ2aE/3w0EdnCG+D+1Lqb5PtsQQEBfU6ol4hdAjXPn0+1AG0D4fuqsbsseQMPVmLuWlCNAAAAAAAAAJEAAAAAAAAAkQGDUT8u4tCNAAAAAAAAAJEDd9Uex/mwjQIM+Dtf2oxpAg24NzaKNEEA=\",\"dtype\":\"float64\",\"shape\":[73]},\"4\":{\"__ndarray__\":\"ESMqfIfe+T8AAAAAAAAAAAAAAAAAAAAAAAAAAAAAAAAAAAAAAAAAAAAAAAAAAAAAAAAAAAAAAAAAAAAAAAAAAAAAAAAAAAAAAAAAAAAAAAAAAAAAAAAAAA30AOHunK0/Py+bpWVoEEBK8sit3SojQAAAAAAAACRAAAAAAAAAJEAAAAAAAAAkQAAAAAAAACRAAAAAAAAAJEAAAAAAAAAkQAAAAAAAACRAq67SqNtDI0BJodFNFqggQAxy+tZSuhZA50a2LTYZ9j8AAAAAAAAAAAAAAAAAAAAAAAAAAAAAAAAAAAAAAAAAAAAAAAAAAAAAAAAAAAAAAAAAAAAAAAAAAAAAAAAAAAAAAAAAAAAAAAAAAAAAAAAAAFjw2TQ3FZQ/u4kAV9kR7j/Cg2dEkhEEQJl7+1Z5kRFAJKbDKPV1FkAcn+ytyT0aQF2YQf48fSNAAAAAAAAAJEAAAAAAAAAkQOWb8gQv7yNA2J2/UNZ4I0Blv4DKKe0gQO041zXH5glA/abaaRWp5z8AAAAAAAAAAAAAAAAAAAAAAAAAAAAAAAAAAAAAAAAAAAAAAAAAAAAAAAAAAAAAAAAAAAAAAAAAAAAAAAAAAAAAAAAAAAAAAAAAAAAAAAAAALEDbPR9paM/YcbVxJ3g+z8c0vx/visTQG/9xVREBRtAVY+L1A+5HkB7ppDepvogQIjMe04zqCNAAAAAAAAAJEAAAAAAAAAkQAAAAAAAACRAAAAAAAAAJEAAAAAAAAAkQHSwgC2qTR9AsCY46JqxE0A=\",\"dtype\":\"float64\",\"shape\":[73]},\"5\":{\"__ndarray__\":\"wytiUBdj+j8AAAAAAAAAAAAAAAAAAAAAAAAAAAAAAAAAAAAAAAAAAAAAAAAAAAAAAAAAAAAAAAAAAAAAAAAAAAAAAAAAAAAAAAAAAAAAAAAAAAAAAAAAABTnlUj1nK0/pADgbWdoEEBK8sit3SojQAAAAAAAACRAAAAAAAAAJEAAAAAAAAAkQAAAAAAAACRAAAAAAAAAJEAAAAAAAAAkQAAAAAAAACRAX0au7+53I0CY9827DekgQD27Fz188BZAgJShmzwZ9j8AAAAAAAAAAAAAAAAAAAAAAAAAAAAAAAAAAAAAAAAAAAAAAAAAAAAAAAAAAAAAAAAAAAAAAAAAAAAAAAAAAAAAAAAAAAAAAAAAAAAAAAAAAGMbsEHZs5U/+AUgPYvr7z+7UNQIp3YFQP+bDWpgqxFAXTHn4sTVFkBLGQN/kpsaQNGjPVoQgSNAAAAAAAAAJEAAAAAAAAAkQAAAAAAAACRAmm419s+jI0CFa4lrDy4hQCvVXNuXqApAD2VO+Bip5z8AAAAAAAAAAAAAAAAAAAAAAAAAAAAAAAAAAAAAAAAAAAAAAAAAAAAAAAAAAAAAAAAAAAAAAAAAAAAAAAAAAAAAAAAAAAAAAAAAAAAAAAAAAMcB+7mkKKU/xWcOXMkD/z9MRAbL2kEVQI8242S4FBtAF4fpi8gIIEDjJWEVDZUhQJ9rJzMnrCNAAAAAAAAAJEAAAAAAAAAkQAAAAAAAACRAAAAAAAAAJEAAAAAAAAAkQH9/wYzzqSFACNpl3niEF0A=\",\"dtype\":\"float64\",\"shape\":[73]},\"6\":{\"__ndarray__\":\"Fz1o3yxj+j8AAAAAAAAAAAAAAAAAAAAAAAAAAAAAAAAAAAAAAAAAAAAAAAAAAAAAAAAAAAAAAAAAAAAAAAAAAAAAAAAAAAAAAAAAAAAAAAAAAAAAAAAAAKNkQ1j2nK0/w5vQrWdoEECerezR3SojQAAAAAAAACRAAAAAAAAAJEAAAAAAAAAkQAAAAAAAACRAAAAAAAAAJEAAAAAAAAAkQAAAAAAAACRAJ3rNQPiiI0DZFfhZ8SkhQMwjomtdPxdApKZHgaqN9j8AAAAAAAAAAAAAAAAAAAAAAAAAAAAAAAAAAAAAAAAAAAAAAAAAAAAAAAAAAAAAAAAAAAAAAAAAAAAAAAAAAAAAAAAAAAAAAAAAAAAAAAAAAJMh4cbcs5U/kJb9povr7z+Z4Wz6qXYFQP/bO9nWvBFAWxiLusvVFkBfEEiJm5saQHBoN5YQgSNAAAAAAAAAJEAAAAAAAAAkQAAAAAAAACRAjRs6Vn7fI0CJsq3Pqq8hQABYN7ml4ApADcPgVSOp5z8AAAAAAAAAAAAAAAAAAAAAAAAAAAAAAAAAAAAAAAAAAAAAAAAAAAAAAAAAAAAAAAAAAAAAAAAAAAAAAAAAAAAAAAAAAAAAAAAAAAAAAAAAAMD5/6nV7qk/kB/pDJcyBUAtmuBgQC4cQJtr4Oh9sBtAOmEkZrFCIECe3nVGucghQEC43ysmzCNAAAAAAAAAJEAAAAAAAAAkQAAAAAAAACRAAAAAAAAAJEAAAAAAAAAkQMXZTjb2qSFAi+kuI3yEF0A=\",\"dtype\":\"float64\",\"shape\":[73]},\"7\":{\"__ndarray__\":\"lYNzNqJQAEAAAAAAAAAAAAAAAAAAAAAAAAAAAAAAAAAAAAAAAAAAAAAAAAAAAAAAAAAAAAAAAAAAAAAAAAAAAAAAAAAAAAAAAAAAAAAAAAAAAAAAAAAAAK3yJp34nK0/wvbGKGhoEED5dmnw3SojQAAAAAAAACRAAAAAAAAAJEAAAAAAAAAkQAAAAAAAACRAAAAAAAAAJEAAAAAAAAAkQAAAAAAAACRAlUYqRQ2jI0DhXn6zCCohQCkfzCmYixdAMDlOhOoD9z8AAAAAAAAAAAAAAAAAAAAAAAAAAAAAAAAAAAAAAAAAAAAAAAAAAAAAAAAAAAAAAAAAAAAAAAAAAAAAAAAAAAAAAAAAAAAAAAAAAAAAAAAAAPBwl92dyZY/CUbhs4Sd8D9f8W2GhXMGQCPD35PazRFAW1O+oNLVFkDgLbU1nJsaQNcsMdIQgSNAAAAAAAAAJEAAAAAAAAAkQAAAAAAAACRAiXZd3H7fI0ByPFx3q68hQAE5IKv6EAtAoFuPU0Ig6j8AAAAAAAAAAAAAAAAAAAAAAAAAAAAAAAAAAAAAAAAAAAAAAAAAAAAAAAAAAAAAAAAAAAAAAAAAAAAAAAAAAAAAAAAAAAAAAAAAAAAAAAAAAHxWmg+Lq6s/ERzbjyBsB0CZ4m3kt58eQKWl7Uqp7htA44uvhN18IEB8tLfdivwhQP/mawRD2CNAAAAAAAAAJEAAAAAAAAAkQAAAAAAAACRAAAAAAAAAJEAAAAAAAAAkQDMR7WwIqiFAN9zJsqCEF0A=\",\"dtype\":\"float64\",\"shape\":[73]},\"8\":{\"__ndarray__\":\"dS+6V2+fAEAAAAAAAAAAAAAAAAAAAAAAAAAAAAAAAAAAAAAAAAAAAAAAAAAAAAAAAAAAAAAAAAAAAAAAAAAAAAAAAAAAAAAAAAAAAAAAAAAAAAAAAAAAAOUR7Sb9nK0/17ZCtmhoEEApYz+c3iojQAAAAAAAACRAAAAAAAAAJEAAAAAAAAAkQAAAAAAAACRAAAAAAAAAJEAAAAAAAAAkQAAAAAAAACRAX0MSF/HEI0AGnxfl4mohQKejQ/oSjxdAIIjlUD189z8AAAAAAAAAAAAAAAAAAAAAAAAAAAAAAAAAAAAAAAAAAAAAAAAAAAAAAAAAAAAAAAAAAAAAAAAAAAAAAAAAAAAAAAAAAAAAAAAAAAAAAAAAALNAHXupyZY/Q4y66Yed8D/opwz7hnMGQLKKEg4npBJAGSxnKMj7F0Ajrs8GRbgbQEG+hMKejCNAAAAAAAAAJEAAAAAAAAAkQAAAAAAAACRAQ3JlgJXxI0AzRjTsWPAhQGM43mSjngxAH+crmkQg6j8AAAAAAAAAAAAAAAAAAAAAAAAAAAAAAAAAAAAAAAAAAAAAAAAAAAAAAAAAAAAAAAAAAAAAAAAAAAAAAAAAAAAAAAAAAAAAAAAAAAAAAAAAANNp5W/xIK0/xwEVCdhQCUDXinkU/ksgQBT1ZCjJdh1AjWA8xhq3IEDxaa6vTTAiQHm4ii1P3CNAAAAAAAAAJEAAAAAAAAAkQAAAAAAAACRAAAAAAAAAJEAAAAAAAAAkQM2Xf1REqiFAYFawshuFF0A=\",\"dtype\":\"float64\",\"shape\":[73]},\"9\":{\"__ndarray__\":\"mV0igm7vAEAAAAAAAAAAAAAAAAAAAAAAAAAAAAAAAAAAAAAAAAAAAAAAAAAAAAAAAAAAAAAAAAAAAAAAAAAAAAAAAAAAAAAAAAAAAAAAAAAAAAAAAAAAAFQdfnsAna0/17ZCtmhoEED7+NPC3iojQAAAAAAAACRAAAAAAAAAJEAAAAAAAAAkQAAAAAAAACRAAAAAAAAAJEAAAAAAAAAkQAAAAAAAACRA88oQJgvfI0AFrmBbt6shQDgKRHTXlRdAJwXCeEd89z8AAAAAAAAAAAAAAAAAAAAAAAAAAAAAAAAAAAAAAAAAAAAAAAAAAAAAAAAAAAAAAAAAAAAAAAAAAAAAAAAAAAAAAAAAAAAAAAAAAAAAAAAAAHdEBuLCyZY/r2f+lJKd8D9d0u++lHMGQA94rnO9aRRAoOpc1kHFGED/IPH6yXgcQFBNjAdjlCNAAAAAAAAAJEAAAAAAAAAkQAAAAAAAACRAAAAAAAAAJEBNAHi+q64iQLkotBub4wxAp8egW9ZP7D8AAAAAAAAAAAAAAAAAAAAAAAAAAAAAAAAAAAAAAAAAAAAAAAAAAAAAAAAAAAAAAAAAAAAAAAAAAAAAAAAAAAAAAAAAAAAAAAAAAAAAAAAAAPWcVaMKga0/R2ei5gDOCUAnT7+UEYsgQKkxG1jXhB1AekrwXEIsIUAEQajZEpgiQPD8dM5d4CNAAAAAAAAAJEAAAAAAAAAkQAAAAAAAACRAAAAAAAAAJEAAAAAAAAAkQJsMPEkj0SFA/LgwREfqF0A=\",\"dtype\":\"float64\",\"shape\":[73]},\"index\":{\"__ndarray__\":\"AAAoDZCrdkIAABB8k6t2QgAA+OqWq3ZCAADgWZqrdkIAAMjInat2QgAAsDehq3ZCAACYpqSrdkIAAIAVqKt2QgAAaISrq3ZCAABQ866rdkIAADhisqt2QgAAING1q3ZCAAAIQLmrdkIAAPCuvKt2QgAA2B3Aq3ZCAADAjMOrdkIAAKj7xqt2QgAAkGrKq3ZCAAB42c2rdkIAAGBI0at2QgAASLfUq3ZCAAAwJtirdkIAABiV26t2QgAAAATfq3ZCAADocuKrdkIAANDh5at2QgAAuFDpq3ZCAACgv+yrdkIAAIgu8Kt2QgAAcJ3zq3ZCAABYDPerdkIAAEB7+qt2QgAAKOr9q3ZCAAAQWQGsdkIAAPjHBKx2QgAA4DYIrHZCAADIpQusdkIAALAUD6x2QgAAmIMSrHZCAACA8hWsdkIAAGhhGax2QgAAUNAcrHZCAAA4PyCsdkIAACCuI6x2QgAACB0nrHZCAADwiyqsdkIAANj6Lax2QgAAwGkxrHZCAACo2DSsdkIAAJBHOKx2QgAAeLY7rHZCAABgJT+sdkIAAEiUQqx2QgAAMANGrHZCAAAYckmsdkIAAADhTKx2QgAA6E9QrHZCAADQvlOsdkIAALgtV6x2QgAAoJxarHZCAACIC16sdkIAAHB6Yax2QgAAWOlkrHZCAABAWGisdkIAACjHa6x2QgAAEDZvrHZCAAD4pHKsdkIAAOATdqx2QgAAyIJ5rHZCAACw8XysdkIAAJhggKx2QgAAgM+DrHZCAABoPoesdkI=\",\"dtype\":\"float64\",\"shape\":[73]}},\"selected\":{\"id\":\"3596\",\"type\":\"Selection\"},\"selection_policy\":{\"id\":\"3597\",\"type\":\"UnionRenderers\"}},\"id\":\"3515\",\"type\":\"ColumnDataSource\"},{\"attributes\":{\"line_color\":\"#22A784\",\"line_width\":2,\"x\":{\"field\":\"index\"},\"y\":{\"field\":\"12\"}},\"id\":\"3870\",\"type\":\"Line\"},{\"attributes\":{\"days\":[1,15]},\"id\":\"3563\",\"type\":\"DaysTicker\"},{\"attributes\":{},\"id\":\"3523\",\"type\":\"LinearScale\"},{\"attributes\":{\"data_source\":{\"id\":\"3515\",\"type\":\"ColumnDataSource\"},\"glyph\":{\"id\":\"3870\",\"type\":\"Line\"},\"hover_glyph\":null,\"muted_glyph\":null,\"nonselection_glyph\":{\"id\":\"3871\",\"type\":\"Line\"},\"selection_glyph\":null,\"view\":{\"id\":\"3873\",\"type\":\"CDSView\"}},\"id\":\"3872\",\"type\":\"GlyphRenderer\"},{\"attributes\":{\"months\":[0,2,4,6,8,10]},\"id\":\"3565\",\"type\":\"MonthsTicker\"},{\"attributes\":{\"source\":{\"id\":\"3515\",\"type\":\"ColumnDataSource\"}},\"id\":\"3873\",\"type\":\"CDSView\"},{\"attributes\":{\"months\":[0,1,2,3,4,5,6,7,8,9,10,11]},\"id\":\"3564\",\"type\":\"MonthsTicker\"},{\"attributes\":{\"line_color\":\"#BADE27\",\"line_width\":2,\"x\":{\"field\":\"index\"},\"y\":{\"field\":\"18\"}},\"id\":\"4032\",\"type\":\"Line\"},{\"attributes\":{\"days\":[1,8,15,22]},\"id\":\"3562\",\"type\":\"DaysTicker\"},{\"attributes\":{\"line_alpha\":0.1,\"line_color\":\"#1f77b4\",\"line_width\":2,\"x\":{\"field\":\"index\"},\"y\":{\"field\":\"1\"}},\"id\":\"3574\",\"type\":\"Line\"},{\"attributes\":{\"base\":24,\"mantissas\":[1,2,4,6,8,12],\"max_interval\":43200000.0,\"min_interval\":3600000.0,\"num_minor_ticks\":0},\"id\":\"3559\",\"type\":\"AdaptiveTicker\"},{\"attributes\":{\"mantissas\":[1,2,5],\"max_interval\":500.0,\"num_minor_ticks\":0},\"id\":\"3557\",\"type\":\"AdaptiveTicker\"},{\"attributes\":{\"source\":{\"id\":\"3515\",\"type\":\"ColumnDataSource\"}},\"id\":\"3576\",\"type\":\"CDSView\"},{\"attributes\":{\"line_color\":\"#2EB27C\",\"line_width\":2,\"x\":{\"field\":\"index\"},\"y\":{\"field\":\"13\"}},\"id\":\"3897\",\"type\":\"Line\"},{\"attributes\":{\"line_alpha\":0.1,\"line_color\":\"#1f77b4\",\"line_width\":2,\"x\":{\"field\":\"index\"},\"y\":{\"field\":\"18\"}},\"id\":\"4033\",\"type\":\"Line\"},{\"attributes\":{},\"id\":\"3554\",\"type\":\"BasicTickFormatter\"},{\"attributes\":{\"label\":{\"value\":\"18\"},\"renderers\":[{\"id\":\"4034\",\"type\":\"GlyphRenderer\"}]},\"id\":\"4057\",\"type\":\"LegendItem\"},{\"attributes\":{\"days\":[1,4,7,10,13,16,19,22,25,28]},\"id\":\"3561\",\"type\":\"DaysTicker\"},{\"attributes\":{\"data_source\":{\"id\":\"3515\",\"type\":\"ColumnDataSource\"},\"glyph\":{\"id\":\"4032\",\"type\":\"Line\"},\"hover_glyph\":null,\"muted_glyph\":null,\"nonselection_glyph\":{\"id\":\"4033\",\"type\":\"Line\"},\"selection_glyph\":null,\"view\":{\"id\":\"4035\",\"type\":\"CDSView\"}},\"id\":\"4034\",\"type\":\"GlyphRenderer\"},{\"attributes\":{\"line_alpha\":0.1,\"line_color\":\"#1f77b4\",\"line_width\":2,\"x\":{\"field\":\"index\"},\"y\":{\"field\":\"13\"}},\"id\":\"3898\",\"type\":\"Line\"},{\"attributes\":{\"data_source\":{\"id\":\"3515\",\"type\":\"ColumnDataSource\"},\"glyph\":{\"id\":\"3897\",\"type\":\"Line\"},\"hover_glyph\":null,\"muted_glyph\":null,\"nonselection_glyph\":{\"id\":\"3898\",\"type\":\"Line\"},\"selection_glyph\":null,\"view\":{\"id\":\"3900\",\"type\":\"CDSView\"}},\"id\":\"3899\",\"type\":\"GlyphRenderer\"},{\"attributes\":{\"source\":{\"id\":\"3515\",\"type\":\"ColumnDataSource\"}},\"id\":\"4035\",\"type\":\"CDSView\"},{\"attributes\":{\"line_color\":\"#471265\",\"line_width\":2,\"x\":{\"field\":\"index\"},\"y\":{\"field\":\"1\"}},\"id\":\"3573\",\"type\":\"Line\"},{\"attributes\":{\"source\":{\"id\":\"3515\",\"type\":\"ColumnDataSource\"}},\"id\":\"3900\",\"type\":\"CDSView\"},{\"attributes\":{\"bottom_units\":\"screen\",\"fill_alpha\":{\"value\":0.5},\"fill_color\":{\"value\":\"lightgrey\"},\"left_units\":\"screen\",\"level\":\"overlay\",\"line_alpha\":{\"value\":1.0},\"line_color\":{\"value\":\"black\"},\"line_dash\":[4,4],\"line_width\":{\"value\":2},\"render_mode\":\"css\",\"right_units\":\"screen\",\"top_units\":\"screen\"},\"id\":\"3569\",\"type\":\"BoxAnnotation\"},{\"attributes\":{\"label\":{\"value\":\"13\"},\"renderers\":[{\"id\":\"3899\",\"type\":\"GlyphRenderer\"}]},\"id\":\"3922\",\"type\":\"LegendItem\"},{\"attributes\":{\"line_color\":\"#DCE218\",\"line_width\":2,\"x\":{\"field\":\"index\"},\"y\":{\"field\":\"19\"}},\"id\":\"4059\",\"type\":\"Line\"},{\"attributes\":{\"line_color\":\"#42BE71\",\"line_width\":2,\"x\":{\"field\":\"index\"},\"y\":{\"field\":\"14\"}},\"id\":\"3924\",\"type\":\"Line\"},{\"attributes\":{\"line_alpha\":0.1,\"line_color\":\"#1f77b4\",\"line_width\":2,\"x\":{\"field\":\"index\"},\"y\":{\"field\":\"19\"}},\"id\":\"4060\",\"type\":\"Line\"},{\"attributes\":{\"callback\":null},\"id\":\"3517\",\"type\":\"DataRange1d\"},{\"attributes\":{\"label\":{\"value\":\"15\"},\"renderers\":[{\"id\":\"3953\",\"type\":\"GlyphRenderer\"}]},\"id\":\"3976\",\"type\":\"LegendItem\"},{\"attributes\":{\"label\":{\"value\":\"19\"},\"renderers\":[{\"id\":\"4061\",\"type\":\"GlyphRenderer\"}]},\"id\":\"4084\",\"type\":\"LegendItem\"},{\"attributes\":{\"data_source\":{\"id\":\"3515\",\"type\":\"ColumnDataSource\"},\"glyph\":{\"id\":\"4059\",\"type\":\"Line\"},\"hover_glyph\":null,\"muted_glyph\":null,\"nonselection_glyph\":{\"id\":\"4060\",\"type\":\"Line\"},\"selection_glyph\":null,\"view\":{\"id\":\"4062\",\"type\":\"CDSView\"}},\"id\":\"4061\",\"type\":\"GlyphRenderer\"},{\"attributes\":{\"line_alpha\":0.1,\"line_color\":\"#1f77b4\",\"line_width\":2,\"x\":{\"field\":\"index\"},\"y\":{\"field\":\"14\"}},\"id\":\"3925\",\"type\":\"Line\"},{\"attributes\":{\"source\":{\"id\":\"3515\",\"type\":\"ColumnDataSource\"}},\"id\":\"4062\",\"type\":\"CDSView\"},{\"attributes\":{\"label\":{\"value\":\"14\"},\"renderers\":[{\"id\":\"3926\",\"type\":\"GlyphRenderer\"}]},\"id\":\"3949\",\"type\":\"LegendItem\"},{\"attributes\":{\"data_source\":{\"id\":\"3515\",\"type\":\"ColumnDataSource\"},\"glyph\":{\"id\":\"3924\",\"type\":\"Line\"},\"hover_glyph\":null,\"muted_glyph\":null,\"nonselection_glyph\":{\"id\":\"3925\",\"type\":\"Line\"},\"selection_glyph\":null,\"view\":{\"id\":\"3927\",\"type\":\"CDSView\"}},\"id\":\"3926\",\"type\":\"GlyphRenderer\"},{\"attributes\":{\"data_source\":{\"id\":\"3515\",\"type\":\"ColumnDataSource\"},\"glyph\":{\"id\":\"3951\",\"type\":\"Line\"},\"hover_glyph\":null,\"muted_glyph\":null,\"nonselection_glyph\":{\"id\":\"3952\",\"type\":\"Line\"},\"selection_glyph\":null,\"view\":{\"id\":\"3954\",\"type\":\"CDSView\"}},\"id\":\"3953\",\"type\":\"GlyphRenderer\"},{\"attributes\":{\"source\":{\"id\":\"3515\",\"type\":\"ColumnDataSource\"}},\"id\":\"3927\",\"type\":\"CDSView\"},{\"attributes\":{\"line_color\":\"#FDE724\",\"line_width\":2,\"x\":{\"field\":\"index\"},\"y\":{\"field\":\"20\"}},\"id\":\"4086\",\"type\":\"Line\"},{\"attributes\":{\"label\":{\"value\":\"4\"},\"renderers\":[{\"id\":\"3656\",\"type\":\"GlyphRenderer\"}]},\"id\":\"3679\",\"type\":\"LegendItem\"},{\"attributes\":{\"data_source\":{\"id\":\"3515\",\"type\":\"ColumnDataSource\"},\"glyph\":{\"id\":\"4086\",\"type\":\"Line\"},\"hover_glyph\":null,\"muted_glyph\":null,\"nonselection_glyph\":{\"id\":\"4087\",\"type\":\"Line\"},\"selection_glyph\":null,\"view\":{\"id\":\"4089\",\"type\":\"CDSView\"}},\"id\":\"4088\",\"type\":\"GlyphRenderer\"},{\"attributes\":{\"line_alpha\":0.1,\"line_color\":\"#1f77b4\",\"line_width\":2,\"x\":{\"field\":\"index\"},\"y\":{\"field\":\"20\"}},\"id\":\"4087\",\"type\":\"Line\"},{\"attributes\":{\"label\":{\"value\":\"20\"},\"renderers\":[{\"id\":\"4088\",\"type\":\"GlyphRenderer\"}]},\"id\":\"4111\",\"type\":\"LegendItem\"},{\"attributes\":{\"source\":{\"id\":\"3515\",\"type\":\"ColumnDataSource\"}},\"id\":\"4089\",\"type\":\"CDSView\"}],\"root_ids\":[\"4137\"]},\"title\":\"Bokeh Application\",\"version\":\"1.4.0\"}};\n",
       "  var render_items = [{\"docid\":\"924c09fa-7d89-46bb-9032-eeba8b607450\",\"roots\":{\"4137\":\"cf79ee5e-8c40-4a85-bb0e-116b6056d804\"}}];\n",
       "  root.Bokeh.embed.embed_items_notebook(docs_json, render_items);\n",
       "\n",
       "  }\n",
       "  if (root.Bokeh !== undefined) {\n",
       "    embed_document(root);\n",
       "  } else {\n",
       "    var attempts = 0;\n",
       "    var timer = setInterval(function(root) {\n",
       "      if (root.Bokeh !== undefined) {\n",
       "        clearInterval(timer);\n",
       "        embed_document(root);\n",
       "      } else {\n",
       "        attempts++;\n",
       "        if (attempts > 100) {\n",
       "          clearInterval(timer);\n",
       "          console.log(\"Bokeh: ERROR: Unable to run BokehJS code because BokehJS library is missing\");\n",
       "        }\n",
       "      }\n",
       "    }, 10, root)\n",
       "  }\n",
       "})(window);"
      ],
      "application/vnd.bokehjs_exec.v0+json": ""
     },
     "metadata": {
      "application/vnd.bokehjs_exec.v0+json": {
       "id": "4137"
      }
     },
     "output_type": "display_data"
    }
   ],
   "source": [
    "grid = plot_percentiles(ac_power)\n",
    "show(grid)"
   ]
  },
  {
   "cell_type": "markdown",
   "metadata": {},
   "source": [
    "## Persistence forecasts\n",
    "\n",
    "The solarforecastarbiter supports several varieties of persistence forecasts:\n",
    "\n",
    "1. Persistence of observed values\n",
    "2. Persistence of irradiance or power accounting for solar position. (This is sometimes referred to as smart persistence, but we discourage that term because it's ambiguous.)\n",
    "\n",
    "The [`persistence`](https://solarforecastarbiter-core.readthedocs.io/en/latest/generated/solarforecastarbiter.reference_forecasts.persistence.html#module-solarforecastarbiter.reference_forecasts.persistence) module contains functions that implement these methods and are easily adapted to a user's own data and workflow. The [`reference_forecasts.main.run_persistence`](https://solarforecastarbiter-core.readthedocs.io/en/latest/generated/solarforecastarbiter.reference_forecasts.main.run_persistence.html#solarforecastarbiter.reference_forecasts.main.run_persistence) function is a higher-level interface that integrate more tightly with the Solar Forecast Arbiter data model and API."
   ]
  },
  {
   "cell_type": "markdown",
   "metadata": {},
   "source": [
    "### run_persistence"
   ]
  },
  {
   "cell_type": "markdown",
   "metadata": {},
   "source": [
    "The code below queries the API for observation metadata and data. We'll use the NREL MIDC OASIS station located on the University of Arizona campus. See the [Data Upload and Download]() exercises for more information on the data transfer."
   ]
  },
  {
   "cell_type": "code",
   "execution_count": 17,
   "metadata": {},
   "outputs": [
    {
     "data": {
      "text/plain": [
       "Observation(name='University of Arizona OASIS ghi', variable='ghi', interval_value_type='interval_mean', interval_length=Timedelta('0 days 00:01:00'), interval_label='ending', site=Site(name='NREL MIDC University of Arizona OASIS', latitude=32.22969, longitude=-110.95534, elevation=786.0, timezone='Etc/GMT+7', site_id='9f61b880-7e49-11e9-9624-0a580a8003e9', provider='Reference', extra_parameters='{\"network\": \"NREL MIDC\", \"network_api_id\": \"UAT\", \"network_api_abbreviation\": \"UA OASIS\", \"observation_interval_length\": 1}', climate_zones=('Reference Region 3',)), uncertainty=0.0, observation_id='9f657636-7e49-11e9-b77f-0a580a8003e9', provider='Reference', extra_parameters='{\"network\": \"NREL MIDC\", \"network_api_id\": \"UAT\", \"network_api_abbreviation\": \"UA OASIS\", \"observation_interval_length\": 1, \"network_data_label\": \"Global Horiz (platform) [W/m^2]\"}', units='W/m^2')"
      ]
     },
     "execution_count": 17,
     "metadata": {},
     "output_type": "execute_result"
    }
   ],
   "source": [
    "from solarforecastarbiter.io.api import APISession, request_cli_access_token\n",
    "# don't store your real passwords or tokens in plain text like this! only for demonstration purposes!\n",
    "token = request_cli_access_token('testing@solarforecastarbiter.org', 'Thepassword123!')\n",
    "session = APISession(token)\n",
    "observations = session.list_observations()\n",
    "observations_oasis = list(filter(lambda x: 'NREL MIDC' in x.site.name and 'Arizona' in x.site.name, observations))\n",
    "oasis_ghi = observations_oasis[0]\n",
    "oasis_ghi"
   ]
  },
  {
   "cell_type": "code",
   "execution_count": 18,
   "metadata": {},
   "outputs": [
    {
     "data": {
      "text/html": [
       "<div>\n",
       "<style scoped>\n",
       "    .dataframe tbody tr th:only-of-type {\n",
       "        vertical-align: middle;\n",
       "    }\n",
       "\n",
       "    .dataframe tbody tr th {\n",
       "        vertical-align: top;\n",
       "    }\n",
       "\n",
       "    .dataframe thead th {\n",
       "        text-align: right;\n",
       "    }\n",
       "</style>\n",
       "<table border=\"1\" class=\"dataframe\">\n",
       "  <thead>\n",
       "    <tr style=\"text-align: right;\">\n",
       "      <th></th>\n",
       "      <th>value</th>\n",
       "      <th>quality_flag</th>\n",
       "    </tr>\n",
       "    <tr>\n",
       "      <th>timestamp</th>\n",
       "      <th></th>\n",
       "      <th></th>\n",
       "    </tr>\n",
       "  </thead>\n",
       "  <tbody>\n",
       "    <tr>\n",
       "      <th>2019-05-14 00:00:00+00:00</th>\n",
       "      <td>415.039</td>\n",
       "      <td>2</td>\n",
       "    </tr>\n",
       "    <tr>\n",
       "      <th>2019-05-14 00:01:00+00:00</th>\n",
       "      <td>411.473</td>\n",
       "      <td>2</td>\n",
       "    </tr>\n",
       "    <tr>\n",
       "      <th>2019-05-14 00:02:00+00:00</th>\n",
       "      <td>407.793</td>\n",
       "      <td>2</td>\n",
       "    </tr>\n",
       "    <tr>\n",
       "      <th>2019-05-14 00:03:00+00:00</th>\n",
       "      <td>404.119</td>\n",
       "      <td>2</td>\n",
       "    </tr>\n",
       "    <tr>\n",
       "      <th>2019-05-14 00:04:00+00:00</th>\n",
       "      <td>400.527</td>\n",
       "      <td>2</td>\n",
       "    </tr>\n",
       "  </tbody>\n",
       "</table>\n",
       "</div>"
      ],
      "text/plain": [
       "                             value  quality_flag\n",
       "timestamp                                       \n",
       "2019-05-14 00:00:00+00:00  415.039             2\n",
       "2019-05-14 00:01:00+00:00  411.473             2\n",
       "2019-05-14 00:02:00+00:00  407.793             2\n",
       "2019-05-14 00:03:00+00:00  404.119             2\n",
       "2019-05-14 00:04:00+00:00  400.527             2"
      ]
     },
     "execution_count": 18,
     "metadata": {},
     "output_type": "execute_result"
    }
   ],
   "source": [
    "start = pd.Timestamp('20190514 0000Z')\n",
    "end = pd.Timestamp('20190518 0000Z')\n",
    "oasis_ghi_values = session.get_observation_values(oasis_ghi.observation_id, start, end)\n",
    "oasis_ghi_values.head()"
   ]
  },
  {
   "cell_type": "markdown",
   "metadata": {},
   "source": [
    "Our example persistence forecast will be a 15 minute ahead, 15 minute interval average forecast for the NREL MIDC OASIS GHI observation. Both the observation's and forecast's intervals are labeled by their ending time."
   ]
  },
  {
   "cell_type": "code",
   "execution_count": 19,
   "metadata": {},
   "outputs": [],
   "source": [
    "forecast = datamodel.Forecast(\n",
    "    name='15 min ahead, 15 min avg', \n",
    "    issue_time_of_day=datetime.time(0), \n",
    "    lead_time_to_start=pd.Timedelta('15min'),\n",
    "    interval_length=pd.Timedelta('15min'),\n",
    "    run_length=pd.Timedelta('15min'),\n",
    "    interval_label='ending',\n",
    "    interval_value_type='interval_mean',\n",
    "    variable='ghi',\n",
    "    site=oasis_ghi\n",
    ")"
   ]
  },
  {
   "cell_type": "markdown",
   "metadata": {},
   "source": [
    "Resample the observed 1 minute interval data to have the same interval length as the forecasts for a fair comparison."
   ]
  },
  {
   "cell_type": "code",
   "execution_count": 20,
   "metadata": {},
   "outputs": [],
   "source": [
    "resampled_data = oasis_ghi_values.resample(forecast.interval_length, label='right').mean()\n",
    "resampled_data['quality_flag'] = 0"
   ]
  },
  {
   "cell_type": "markdown",
   "metadata": {},
   "source": [
    "Define a forecast `run_time` and `issue_time`. For operational forecasts, `run_time` is typically set to now. For retrospective forecasts, `run_time` is the time by which the forecast should be run so that it could have been be delivered for the `issue_time`. Forecasts will only use data with timestamps before `run_time`. Let's assume they are the same for this exercise."
   ]
  },
  {
   "cell_type": "code",
   "execution_count": 21,
   "metadata": {},
   "outputs": [],
   "source": [
    "run_time = pd.Timestamp('20190515 1900Z')\n",
    "issue_time = pd.Timestamp('20190515 1900Z')"
   ]
  },
  {
   "cell_type": "markdown",
   "metadata": {},
   "source": [
    "Let's look at the observation values leading up to the forecast run time. We expect the persistence forecast to be equal to an average of these values. Remember, though, that a 15 minute interval should include *either* the start time *or* the end time, but *not* both. The forecast we're considering has *interval_label='ending'*, so we exclude the start and include the end."
   ]
  },
  {
   "cell_type": "code",
   "execution_count": 22,
   "metadata": {},
   "outputs": [
    {
     "name": "stdout",
     "output_type": "stream",
     "text": [
      "                              value  quality_flag\n",
      "timestamp                                        \n",
      "2019-05-15 18:46:00+00:00  1059.250             2\n",
      "2019-05-15 18:47:00+00:00  1058.190             2\n",
      "2019-05-15 18:48:00+00:00  1059.600             2\n",
      "2019-05-15 18:49:00+00:00  1059.650             2\n",
      "2019-05-15 18:50:00+00:00  1062.410             2\n",
      "2019-05-15 18:51:00+00:00  1043.830             2\n",
      "2019-05-15 18:52:00+00:00  1053.610             2\n",
      "2019-05-15 18:53:00+00:00  1082.200             2\n",
      "2019-05-15 18:54:00+00:00  1087.860             2\n",
      "2019-05-15 18:55:00+00:00  1097.610             2\n",
      "2019-05-15 18:56:00+00:00  1104.210             2\n",
      "2019-05-15 18:57:00+00:00  1069.280             2\n",
      "2019-05-15 18:58:00+00:00   897.564             2\n",
      "2019-05-15 18:59:00+00:00   832.101             2\n",
      "2019-05-15 19:00:00+00:00   916.081             2\n",
      "\n",
      " mean:\n",
      "value           1032.229733\n",
      "quality_flag       2.000000\n",
      "dtype: float64\n"
     ]
    }
   ],
   "source": [
    "print(oasis_ghi_values.loc[run_time + pd.Timedelta('1s') - forecast.interval_length:run_time])\n",
    "print('\\n mean:')\n",
    "print(oasis_ghi_values.loc[run_time + pd.Timedelta('1s') - forecast.interval_length:run_time].mean())"
   ]
  },
  {
   "cell_type": "markdown",
   "metadata": {},
   "source": [
    "Now use the `run_persistence` function to automatically compute this forecast."
   ]
  },
  {
   "cell_type": "code",
   "execution_count": 23,
   "metadata": {},
   "outputs": [
    {
     "data": {
      "text/plain": [
       "2019-05-15 19:30:00+00:00    1032.229733\n",
       "Freq: 15T, dtype: float64"
      ]
     },
     "execution_count": 23,
     "metadata": {},
     "output_type": "execute_result"
    }
   ],
   "source": [
    "oasis_ghi_fx = main.run_persistence(session, oasis_ghi, forecast, run_time, issue_time, index=False)\n",
    "oasis_ghi_fx"
   ]
  },
  {
   "cell_type": "markdown",
   "metadata": {},
   "source": [
    "To make a [forecast evaluation time series](https://solarforecastarbiter.org/usecases/#forecastevalts), we need to loop over many run times."
   ]
  },
  {
   "cell_type": "code",
   "execution_count": 24,
   "metadata": {},
   "outputs": [],
   "source": [
    "run_times = pd.date_range(start=start, end=end, freq=forecast.run_length)"
   ]
  },
  {
   "cell_type": "code",
   "execution_count": 25,
   "metadata": {},
   "outputs": [],
   "source": [
    "oasis_ghi_fx_runs = []\n",
    "for run_time in run_times:\n",
    "    issue_time = run_time  # an offset may be needed in an operational environment\n",
    "    fx_run = main.run_persistence(session, oasis_ghi, forecast, run_time, issue_time, index=False)\n",
    "    oasis_ghi_fx_runs.append(fx_run)\n",
    "oasis_ghi_fx = pd.concat(oasis_ghi_fx_runs)"
   ]
  },
  {
   "cell_type": "code",
   "execution_count": 26,
   "metadata": {},
   "outputs": [],
   "source": [
    "def plot_persistence(observation_values, forecast_values=None, forecast_values_index=None):\n",
    "    fig_kwargs = dict(tools=TOOLS, x_axis_type=\"datetime\", plot_height=250, plot_width=800)\n",
    "    palette = iter(PALETTE)\n",
    "    fig1 = figure(**fig_kwargs)\n",
    "    fig1.line(observation_values.index, observation_values['value'], legend_label='observed', color='black', line_width=2)\n",
    "    color = next(palette)\n",
    "    if forecast_values is not None:\n",
    "        fig1.line(forecast_values.index, forecast_values, legend_label='persistence', color=color, line_width=2)\n",
    "    color = next(palette)\n",
    "    if forecast_values_index is not None:\n",
    "        fig1.line(forecast_values_index.index, forecast_values_index, legend_label='persistence index', color=color, line_width=2)\n",
    "    fig1.yaxis.axis_label = \"Irradiance (W/m^2)\"\n",
    "    fig1.legend.location = \"top_left\"\n",
    "    fig1.xaxis.axis_label = 'Time (UTC)'\n",
    "    return fig1"
   ]
  },
  {
   "cell_type": "code",
   "execution_count": 27,
   "metadata": {},
   "outputs": [
    {
     "data": {
      "text/html": [
       "\n",
       "\n",
       "\n",
       "\n",
       "\n",
       "\n",
       "  <div class=\"bk-root\" id=\"530c889e-60c2-43a6-a131-cffded0755a3\" data-root-id=\"4481\"></div>\n"
      ]
     },
     "metadata": {},
     "output_type": "display_data"
    },
    {
     "data": {
      "application/javascript": [
       "(function(root) {\n",
       "  function embed_document(root) {\n",
       "    \n",
       "  var docs_json = {\"d1ed7752-bdc2-4c59-b4ac-55161837d5de\":{\"roots\":{\"references\":[{\"attributes\":{\"below\":[{\"id\":\"4490\",\"type\":\"DatetimeAxis\"}],\"center\":[{\"id\":\"4494\",\"type\":\"Grid\"},{\"id\":\"4499\",\"type\":\"Grid\"},{\"id\":\"4535\",\"type\":\"Legend\"}],\"left\":[{\"id\":\"4495\",\"type\":\"LinearAxis\"}],\"plot_height\":250,\"plot_width\":800,\"renderers\":[{\"id\":\"4514\",\"type\":\"GlyphRenderer\"},{\"id\":\"4540\",\"type\":\"GlyphRenderer\"}],\"title\":{\"id\":\"4516\",\"type\":\"Title\"},\"toolbar\":{\"id\":\"4505\",\"type\":\"Toolbar\"},\"x_range\":{\"id\":\"4482\",\"type\":\"DataRange1d\"},\"x_scale\":{\"id\":\"4486\",\"type\":\"LinearScale\"},\"y_range\":{\"id\":\"4484\",\"type\":\"DataRange1d\"},\"y_scale\":{\"id\":\"4488\",\"type\":\"LinearScale\"}},\"id\":\"4481\",\"subtype\":\"Figure\",\"type\":\"Plot\"},{\"attributes\":{\"days\":[1,15]},\"id\":\"4528\",\"type\":\"DaysTicker\"},{\"attributes\":{\"label\":{\"value\":\"observed\"},\"renderers\":[{\"id\":\"4514\",\"type\":\"GlyphRenderer\"}]},\"id\":\"4536\",\"type\":\"LegendItem\"},{\"attributes\":{\"line_width\":2,\"x\":{\"field\":\"x\"},\"y\":{\"field\":\"y\"}},\"id\":\"4512\",\"type\":\"Line\"},{\"attributes\":{\"line_color\":\"#1f77b4\",\"line_width\":2,\"x\":{\"field\":\"x\"},\"y\":{\"field\":\"y\"}},\"id\":\"4538\",\"type\":\"Line\"},{\"attributes\":{\"text\":\"\"},\"id\":\"4516\",\"type\":\"Title\"},{\"attributes\":{\"months\":[0,4,8]},\"id\":\"4531\",\"type\":\"MonthsTicker\"},{\"attributes\":{},\"id\":\"4488\",\"type\":\"LinearScale\"},{\"attributes\":{},\"id\":\"4803\",\"type\":\"UnionRenderers\"},{\"attributes\":{\"data_source\":{\"id\":\"4511\",\"type\":\"ColumnDataSource\"},\"glyph\":{\"id\":\"4512\",\"type\":\"Line\"},\"hover_glyph\":null,\"muted_glyph\":null,\"nonselection_glyph\":{\"id\":\"4513\",\"type\":\"Line\"},\"selection_glyph\":null,\"view\":{\"id\":\"4515\",\"type\":\"CDSView\"}},\"id\":\"4514\",\"type\":\"GlyphRenderer\"},{\"attributes\":{\"callback\":null,\"data\":{\"x\":{\"__ndarray__\":\"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\",\"dtype\":\"float64\",\"shape\":[385]},\"y\":{\"__ndarray__\":\"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\",\"dtype\":\"float64\",\"shape\":[385]}},\"selected\":{\"id\":\"4802\",\"type\":\"Selection\"},\"selection_policy\":{\"id\":\"4803\",\"type\":\"UnionRenderers\"}},\"id\":\"4537\",\"type\":\"ColumnDataSource\"},{\"attributes\":{\"base\":60,\"mantissas\":[1,2,5,10,15,20,30],\"max_interval\":1800000.0,\"min_interval\":1000.0,\"num_minor_ticks\":0},\"id\":\"4523\",\"type\":\"AdaptiveTicker\"},{\"attributes\":{\"source\":{\"id\":\"4537\",\"type\":\"ColumnDataSource\"}},\"id\":\"4541\",\"type\":\"CDSView\"},{\"attributes\":{\"months\":[0,6]},\"id\":\"4532\",\"type\":\"MonthsTicker\"},{\"attributes\":{\"axis_label\":\"Irradiance (W/m^2)\",\"formatter\":{\"id\":\"4519\",\"type\":\"BasicTickFormatter\"},\"ticker\":{\"id\":\"4496\",\"type\":\"BasicTicker\"}},\"id\":\"4495\",\"type\":\"LinearAxis\"},{\"attributes\":{\"data_source\":{\"id\":\"4537\",\"type\":\"ColumnDataSource\"},\"glyph\":{\"id\":\"4538\",\"type\":\"Line\"},\"hover_glyph\":null,\"muted_glyph\":null,\"nonselection_glyph\":{\"id\":\"4539\",\"type\":\"Line\"},\"selection_glyph\":null,\"view\":{\"id\":\"4541\",\"type\":\"CDSView\"}},\"id\":\"4540\",\"type\":\"GlyphRenderer\"},{\"attributes\":{\"days\":[1,4,7,10,13,16,19,22,25,28]},\"id\":\"4526\",\"type\":\"DaysTicker\"},{\"attributes\":{\"source\":{\"id\":\"4511\",\"type\":\"ColumnDataSource\"}},\"id\":\"4515\",\"type\":\"CDSView\"},{\"attributes\":{\"line_alpha\":0.1,\"line_color\":\"#1f77b4\",\"line_width\":2,\"x\":{\"field\":\"x\"},\"y\":{\"field\":\"y\"}},\"id\":\"4539\",\"type\":\"Line\"},{\"attributes\":{},\"id\":\"4519\",\"type\":\"BasicTickFormatter\"},{\"attributes\":{\"label\":{\"value\":\"persistence\"},\"renderers\":[{\"id\":\"4540\",\"type\":\"GlyphRenderer\"}]},\"id\":\"4563\",\"type\":\"LegendItem\"},{\"attributes\":{\"days\":[1,8,15,22]},\"id\":\"4527\",\"type\":\"DaysTicker\"},{\"attributes\":{\"callback\":null,\"data\":{\"x\":{\"__ndarray__\":\"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\",\"dtype\":\"float64\",\"shape\":[385]},\"y\":{\"__ndarray__\":\"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\",\"dtype\":\"float64\",\"shape\":[385]}},\"selected\":{\"id\":\"4561\",\"type\":\"Selection\"},\"selection_policy\":{\"id\":\"4562\",\"type\":\"UnionRenderers\"}},\"id\":\"4511\",\"type\":\"ColumnDataSource\"},{\"attributes\":{},\"id\":\"4533\",\"type\":\"YearsTicker\"},{\"attributes\":{\"bottom_units\":\"screen\",\"fill_alpha\":{\"value\":0.5},\"fill_color\":{\"value\":\"lightgrey\"},\"left_units\":\"screen\",\"level\":\"overlay\",\"line_alpha\":{\"value\":1.0},\"line_color\":{\"value\":\"black\"},\"line_dash\":[4,4],\"line_width\":{\"value\":2},\"render_mode\":\"css\",\"right_units\":\"screen\",\"top_units\":\"screen\"},\"id\":\"4534\",\"type\":\"BoxAnnotation\"},{\"attributes\":{\"callback\":null},\"id\":\"4484\",\"type\":\"DataRange1d\"},{\"attributes\":{\"dimensions\":\"width\"},\"id\":\"4502\",\"type\":\"WheelZoomTool\"},{\"attributes\":{},\"id\":\"4802\",\"type\":\"Selection\"},{\"attributes\":{\"active_drag\":\"auto\",\"active_inspect\":\"auto\",\"active_multi\":null,\"active_scroll\":\"auto\",\"active_tap\":\"auto\",\"tools\":[{\"id\":\"4500\",\"type\":\"PanTool\"},{\"id\":\"4501\",\"type\":\"BoxZoomTool\"},{\"id\":\"4502\",\"type\":\"WheelZoomTool\"},{\"id\":\"4503\",\"type\":\"ResetTool\"},{\"id\":\"4504\",\"type\":\"SaveTool\"}]},\"id\":\"4505\",\"type\":\"Toolbar\"},{\"attributes\":{\"ticker\":{\"id\":\"4491\",\"type\":\"DatetimeTicker\"}},\"id\":\"4494\",\"type\":\"Grid\"},{\"attributes\":{\"base\":24,\"mantissas\":[1,2,4,6,8,12],\"max_interval\":43200000.0,\"min_interval\":3600000.0,\"num_minor_ticks\":0},\"id\":\"4524\",\"type\":\"AdaptiveTicker\"},{\"attributes\":{\"line_alpha\":0.1,\"line_color\":\"#1f77b4\",\"line_width\":2,\"x\":{\"field\":\"x\"},\"y\":{\"field\":\"y\"}},\"id\":\"4513\",\"type\":\"Line\"},{\"attributes\":{},\"id\":\"4496\",\"type\":\"BasicTicker\"},{\"attributes\":{\"callback\":null},\"id\":\"4482\",\"type\":\"DataRange1d\"},{\"attributes\":{\"months\":[0,2,4,6,8,10]},\"id\":\"4530\",\"type\":\"MonthsTicker\"},{\"attributes\":{\"days\":[1,2,3,4,5,6,7,8,9,10,11,12,13,14,15,16,17,18,19,20,21,22,23,24,25,26,27,28,29,30,31]},\"id\":\"4525\",\"type\":\"DaysTicker\"},{\"attributes\":{},\"id\":\"4486\",\"type\":\"LinearScale\"},{\"attributes\":{},\"id\":\"4561\",\"type\":\"Selection\"},{\"attributes\":{},\"id\":\"4521\",\"type\":\"DatetimeTickFormatter\"},{\"attributes\":{},\"id\":\"4562\",\"type\":\"UnionRenderers\"},{\"attributes\":{\"months\":[0,1,2,3,4,5,6,7,8,9,10,11]},\"id\":\"4529\",\"type\":\"MonthsTicker\"},{\"attributes\":{\"mantissas\":[1,2,5],\"max_interval\":500.0,\"num_minor_ticks\":0},\"id\":\"4522\",\"type\":\"AdaptiveTicker\"},{\"attributes\":{\"axis_label\":\"Time (UTC)\",\"formatter\":{\"id\":\"4521\",\"type\":\"DatetimeTickFormatter\"},\"ticker\":{\"id\":\"4491\",\"type\":\"DatetimeTicker\"}},\"id\":\"4490\",\"type\":\"DatetimeAxis\"},{\"attributes\":{\"items\":[{\"id\":\"4536\",\"type\":\"LegendItem\"},{\"id\":\"4563\",\"type\":\"LegendItem\"}],\"location\":\"top_left\"},\"id\":\"4535\",\"type\":\"Legend\"},{\"attributes\":{},\"id\":\"4504\",\"type\":\"SaveTool\"},{\"attributes\":{},\"id\":\"4503\",\"type\":\"ResetTool\"},{\"attributes\":{\"num_minor_ticks\":5,\"tickers\":[{\"id\":\"4522\",\"type\":\"AdaptiveTicker\"},{\"id\":\"4523\",\"type\":\"AdaptiveTicker\"},{\"id\":\"4524\",\"type\":\"AdaptiveTicker\"},{\"id\":\"4525\",\"type\":\"DaysTicker\"},{\"id\":\"4526\",\"type\":\"DaysTicker\"},{\"id\":\"4527\",\"type\":\"DaysTicker\"},{\"id\":\"4528\",\"type\":\"DaysTicker\"},{\"id\":\"4529\",\"type\":\"MonthsTicker\"},{\"id\":\"4530\",\"type\":\"MonthsTicker\"},{\"id\":\"4531\",\"type\":\"MonthsTicker\"},{\"id\":\"4532\",\"type\":\"MonthsTicker\"},{\"id\":\"4533\",\"type\":\"YearsTicker\"}]},\"id\":\"4491\",\"type\":\"DatetimeTicker\"},{\"attributes\":{\"overlay\":{\"id\":\"4534\",\"type\":\"BoxAnnotation\"}},\"id\":\"4501\",\"type\":\"BoxZoomTool\"},{\"attributes\":{\"dimension\":1,\"ticker\":{\"id\":\"4496\",\"type\":\"BasicTicker\"}},\"id\":\"4499\",\"type\":\"Grid\"},{\"attributes\":{},\"id\":\"4500\",\"type\":\"PanTool\"}],\"root_ids\":[\"4481\"]},\"title\":\"Bokeh Application\",\"version\":\"1.4.0\"}};\n",
       "  var render_items = [{\"docid\":\"d1ed7752-bdc2-4c59-b4ac-55161837d5de\",\"roots\":{\"4481\":\"530c889e-60c2-43a6-a131-cffded0755a3\"}}];\n",
       "  root.Bokeh.embed.embed_items_notebook(docs_json, render_items);\n",
       "\n",
       "  }\n",
       "  if (root.Bokeh !== undefined) {\n",
       "    embed_document(root);\n",
       "  } else {\n",
       "    var attempts = 0;\n",
       "    var timer = setInterval(function(root) {\n",
       "      if (root.Bokeh !== undefined) {\n",
       "        clearInterval(timer);\n",
       "        embed_document(root);\n",
       "      } else {\n",
       "        attempts++;\n",
       "        if (attempts > 100) {\n",
       "          clearInterval(timer);\n",
       "          console.log(\"Bokeh: ERROR: Unable to run BokehJS code because BokehJS library is missing\");\n",
       "        }\n",
       "      }\n",
       "    }, 10, root)\n",
       "  }\n",
       "})(window);"
      ],
      "application/vnd.bokehjs_exec.v0+json": ""
     },
     "metadata": {
      "application/vnd.bokehjs_exec.v0+json": {
       "id": "4481"
      }
     },
     "output_type": "display_data"
    }
   ],
   "source": [
    "fig1 = plot_persistence(resampled_data, oasis_ghi_fx)\n",
    "show(fig1)"
   ]
  },
  {
   "cell_type": "markdown",
   "metadata": {},
   "source": [
    "As expected, the persistence forecast appears to be a simple translation in time of the input data.\n",
    "\n",
    "Next we will examine forecasts using persistence of clear sky index to account for changing solar position."
   ]
  },
  {
   "cell_type": "code",
   "execution_count": 28,
   "metadata": {},
   "outputs": [],
   "source": [
    "oasis_ghi_fx_runs = []\n",
    "for run_time in run_times:\n",
    "    issue_time = run_time  # an offset may be needed in an operational environment\n",
    "    fx_run = main.run_persistence(session, oasis_ghi, forecast, run_time, issue_time, index=True)\n",
    "    oasis_ghi_fx_runs.append(fx_run)\n",
    "oasis_ghi_index_fx = pd.concat(oasis_ghi_fx_runs)"
   ]
  },
  {
   "cell_type": "code",
   "execution_count": 29,
   "metadata": {},
   "outputs": [
    {
     "data": {
      "text/html": [
       "\n",
       "\n",
       "\n",
       "\n",
       "\n",
       "\n",
       "  <div class=\"bk-root\" id=\"e06e6a97-c761-4830-b1cf-5e102f3f2115\" data-root-id=\"4942\"></div>\n"
      ]
     },
     "metadata": {},
     "output_type": "display_data"
    },
    {
     "data": {
      "application/javascript": [
       "(function(root) {\n",
       "  function embed_document(root) {\n",
       "    \n",
       "  var docs_json = {\"c841860b-db69-4458-b64a-003570916340\":{\"roots\":{\"references\":[{\"attributes\":{\"below\":[{\"id\":\"4951\",\"type\":\"DatetimeAxis\"}],\"center\":[{\"id\":\"4955\",\"type\":\"Grid\"},{\"id\":\"4960\",\"type\":\"Grid\"},{\"id\":\"4996\",\"type\":\"Legend\"}],\"left\":[{\"id\":\"4956\",\"type\":\"LinearAxis\"}],\"plot_height\":250,\"plot_width\":800,\"renderers\":[{\"id\":\"4975\",\"type\":\"GlyphRenderer\"},{\"id\":\"5001\",\"type\":\"GlyphRenderer\"}],\"title\":{\"id\":\"4977\",\"type\":\"Title\"},\"toolbar\":{\"id\":\"4966\",\"type\":\"Toolbar\"},\"x_range\":{\"id\":\"4943\",\"type\":\"DataRange1d\"},\"x_scale\":{\"id\":\"4947\",\"type\":\"LinearScale\"},\"y_range\":{\"id\":\"4945\",\"type\":\"DataRange1d\"},\"y_scale\":{\"id\":\"4949\",\"type\":\"LinearScale\"}},\"id\":\"4942\",\"subtype\":\"Figure\",\"type\":\"Plot\"},{\"attributes\":{},\"id\":\"4964\",\"type\":\"ResetTool\"},{\"attributes\":{\"label\":{\"value\":\"observed\"},\"renderers\":[{\"id\":\"4975\",\"type\":\"GlyphRenderer\"}]},\"id\":\"4997\",\"type\":\"LegendItem\"},{\"attributes\":{},\"id\":\"4965\",\"type\":\"SaveTool\"},{\"attributes\":{\"months\":[0,2,4,6,8,10]},\"id\":\"4991\",\"type\":\"MonthsTicker\"},{\"attributes\":{\"line_alpha\":0.1,\"line_color\":\"#1f77b4\",\"line_width\":2,\"x\":{\"field\":\"x\"},\"y\":{\"field\":\"y\"}},\"id\":\"4974\",\"type\":\"Line\"},{\"attributes\":{\"base\":60,\"mantissas\":[1,2,5,10,15,20,30],\"max_interval\":1800000.0,\"min_interval\":1000.0,\"num_minor_ticks\":0},\"id\":\"4984\",\"type\":\"AdaptiveTicker\"},{\"attributes\":{\"source\":{\"id\":\"4972\",\"type\":\"ColumnDataSource\"}},\"id\":\"4976\",\"type\":\"CDSView\"},{\"attributes\":{},\"id\":\"4980\",\"type\":\"BasicTickFormatter\"},{\"attributes\":{\"days\":[1,2,3,4,5,6,7,8,9,10,11,12,13,14,15,16,17,18,19,20,21,22,23,24,25,26,27,28,29,30,31]},\"id\":\"4986\",\"type\":\"DaysTicker\"},{\"attributes\":{\"ticker\":{\"id\":\"4952\",\"type\":\"DatetimeTicker\"}},\"id\":\"4955\",\"type\":\"Grid\"},{\"attributes\":{},\"id\":\"5023\",\"type\":\"UnionRenderers\"},{\"attributes\":{\"mantissas\":[1,2,5],\"max_interval\":500.0,\"num_minor_ticks\":0},\"id\":\"4983\",\"type\":\"AdaptiveTicker\"},{\"attributes\":{\"axis_label\":\"Irradiance (W/m^2)\",\"formatter\":{\"id\":\"4980\",\"type\":\"BasicTickFormatter\"},\"ticker\":{\"id\":\"4957\",\"type\":\"BasicTicker\"}},\"id\":\"4956\",\"type\":\"LinearAxis\"},{\"attributes\":{},\"id\":\"5022\",\"type\":\"Selection\"},{\"attributes\":{},\"id\":\"4982\",\"type\":\"DatetimeTickFormatter\"},{\"attributes\":{},\"id\":\"4947\",\"type\":\"LinearScale\"},{\"attributes\":{\"days\":[1,15]},\"id\":\"4989\",\"type\":\"DaysTicker\"},{\"attributes\":{},\"id\":\"4961\",\"type\":\"PanTool\"},{\"attributes\":{\"data_source\":{\"id\":\"4972\",\"type\":\"ColumnDataSource\"},\"glyph\":{\"id\":\"4973\",\"type\":\"Line\"},\"hover_glyph\":null,\"muted_glyph\":null,\"nonselection_glyph\":{\"id\":\"4974\",\"type\":\"Line\"},\"selection_glyph\":null,\"view\":{\"id\":\"4976\",\"type\":\"CDSView\"}},\"id\":\"4975\",\"type\":\"GlyphRenderer\"},{\"attributes\":{\"base\":24,\"mantissas\":[1,2,4,6,8,12],\"max_interval\":43200000.0,\"min_interval\":3600000.0,\"num_minor_ticks\":0},\"id\":\"4985\",\"type\":\"AdaptiveTicker\"},{\"attributes\":{\"text\":\"\"},\"id\":\"4977\",\"type\":\"Title\"},{\"attributes\":{\"months\":[0,6]},\"id\":\"4993\",\"type\":\"MonthsTicker\"},{\"attributes\":{\"days\":[1,4,7,10,13,16,19,22,25,28]},\"id\":\"4987\",\"type\":\"DaysTicker\"},{\"attributes\":{\"months\":[0,1,2,3,4,5,6,7,8,9,10,11]},\"id\":\"4990\",\"type\":\"MonthsTicker\"},{\"attributes\":{},\"id\":\"5286\",\"type\":\"Selection\"},{\"attributes\":{\"active_drag\":\"auto\",\"active_inspect\":\"auto\",\"active_multi\":null,\"active_scroll\":\"auto\",\"active_tap\":\"auto\",\"tools\":[{\"id\":\"4961\",\"type\":\"PanTool\"},{\"id\":\"4962\",\"type\":\"BoxZoomTool\"},{\"id\":\"4963\",\"type\":\"WheelZoomTool\"},{\"id\":\"4964\",\"type\":\"ResetTool\"},{\"id\":\"4965\",\"type\":\"SaveTool\"}]},\"id\":\"4966\",\"type\":\"Toolbar\"},{\"attributes\":{},\"id\":\"4957\",\"type\":\"BasicTicker\"},{\"attributes\":{\"days\":[1,8,15,22]},\"id\":\"4988\",\"type\":\"DaysTicker\"},{\"attributes\":{\"callback\":null},\"id\":\"4943\",\"type\":\"DataRange1d\"},{\"attributes\":{},\"id\":\"4994\",\"type\":\"YearsTicker\"},{\"attributes\":{\"dimensions\":\"width\"},\"id\":\"4963\",\"type\":\"WheelZoomTool\"},{\"attributes\":{\"months\":[0,4,8]},\"id\":\"4992\",\"type\":\"MonthsTicker\"},{\"attributes\":{\"items\":[{\"id\":\"4997\",\"type\":\"LegendItem\"},{\"id\":\"5024\",\"type\":\"LegendItem\"}],\"location\":\"top_left\"},\"id\":\"4996\",\"type\":\"Legend\"},{\"attributes\":{},\"id\":\"4949\",\"type\":\"LinearScale\"},{\"attributes\":{\"callback\":null,\"data\":{\"x\":{\"__ndarray__\":\"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\",\"dtype\":\"float64\",\"shape\":[385]},\"y\":{\"__ndarray__\":\"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\",\"dtype\":\"float64\",\"shape\":[385]}},\"selected\":{\"id\":\"5022\",\"type\":\"Selection\"},\"selection_policy\":{\"id\":\"5023\",\"type\":\"UnionRenderers\"}},\"id\":\"4972\",\"type\":\"ColumnDataSource\"},{\"attributes\":{\"callback\":null},\"id\":\"4945\",\"type\":\"DataRange1d\"},{\"attributes\":{\"data_source\":{\"id\":\"4998\",\"type\":\"ColumnDataSource\"},\"glyph\":{\"id\":\"4999\",\"type\":\"Line\"},\"hover_glyph\":null,\"muted_glyph\":null,\"nonselection_glyph\":{\"id\":\"5000\",\"type\":\"Line\"},\"selection_glyph\":null,\"view\":{\"id\":\"5002\",\"type\":\"CDSView\"}},\"id\":\"5001\",\"type\":\"GlyphRenderer\"},{\"attributes\":{\"axis_label\":\"Time (UTC)\",\"formatter\":{\"id\":\"4982\",\"type\":\"DatetimeTickFormatter\"},\"ticker\":{\"id\":\"4952\",\"type\":\"DatetimeTicker\"}},\"id\":\"4951\",\"type\":\"DatetimeAxis\"},{\"attributes\":{\"callback\":null,\"data\":{\"x\":{\"__ndarray__\":\"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\",\"dtype\":\"float64\",\"shape\":[385]},\"y\":{\"__ndarray__\":\"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\",\"dtype\":\"float64\",\"shape\":[385]}},\"selected\":{\"id\":\"5286\",\"type\":\"Selection\"},\"selection_policy\":{\"id\":\"5287\",\"type\":\"UnionRenderers\"}},\"id\":\"4998\",\"type\":\"ColumnDataSource\"},{\"attributes\":{\"num_minor_ticks\":5,\"tickers\":[{\"id\":\"4983\",\"type\":\"AdaptiveTicker\"},{\"id\":\"4984\",\"type\":\"AdaptiveTicker\"},{\"id\":\"4985\",\"type\":\"AdaptiveTicker\"},{\"id\":\"4986\",\"type\":\"DaysTicker\"},{\"id\":\"4987\",\"type\":\"DaysTicker\"},{\"id\":\"4988\",\"type\":\"DaysTicker\"},{\"id\":\"4989\",\"type\":\"DaysTicker\"},{\"id\":\"4990\",\"type\":\"MonthsTicker\"},{\"id\":\"4991\",\"type\":\"MonthsTicker\"},{\"id\":\"4992\",\"type\":\"MonthsTicker\"},{\"id\":\"4993\",\"type\":\"MonthsTicker\"},{\"id\":\"4994\",\"type\":\"YearsTicker\"}]},\"id\":\"4952\",\"type\":\"DatetimeTicker\"},{\"attributes\":{\"source\":{\"id\":\"4998\",\"type\":\"ColumnDataSource\"}},\"id\":\"5002\",\"type\":\"CDSView\"},{\"attributes\":{\"dimension\":1,\"ticker\":{\"id\":\"4957\",\"type\":\"BasicTicker\"}},\"id\":\"4960\",\"type\":\"Grid\"},{\"attributes\":{\"line_color\":\"#ff7f0e\",\"line_width\":2,\"x\":{\"field\":\"x\"},\"y\":{\"field\":\"y\"}},\"id\":\"4999\",\"type\":\"Line\"},{\"attributes\":{\"line_alpha\":0.1,\"line_color\":\"#1f77b4\",\"line_width\":2,\"x\":{\"field\":\"x\"},\"y\":{\"field\":\"y\"}},\"id\":\"5000\",\"type\":\"Line\"},{\"attributes\":{\"overlay\":{\"id\":\"4995\",\"type\":\"BoxAnnotation\"}},\"id\":\"4962\",\"type\":\"BoxZoomTool\"},{\"attributes\":{},\"id\":\"5287\",\"type\":\"UnionRenderers\"},{\"attributes\":{\"bottom_units\":\"screen\",\"fill_alpha\":{\"value\":0.5},\"fill_color\":{\"value\":\"lightgrey\"},\"left_units\":\"screen\",\"level\":\"overlay\",\"line_alpha\":{\"value\":1.0},\"line_color\":{\"value\":\"black\"},\"line_dash\":[4,4],\"line_width\":{\"value\":2},\"render_mode\":\"css\",\"right_units\":\"screen\",\"top_units\":\"screen\"},\"id\":\"4995\",\"type\":\"BoxAnnotation\"},{\"attributes\":{\"label\":{\"value\":\"persistence index\"},\"renderers\":[{\"id\":\"5001\",\"type\":\"GlyphRenderer\"}]},\"id\":\"5024\",\"type\":\"LegendItem\"},{\"attributes\":{\"line_width\":2,\"x\":{\"field\":\"x\"},\"y\":{\"field\":\"y\"}},\"id\":\"4973\",\"type\":\"Line\"}],\"root_ids\":[\"4942\"]},\"title\":\"Bokeh Application\",\"version\":\"1.4.0\"}};\n",
       "  var render_items = [{\"docid\":\"c841860b-db69-4458-b64a-003570916340\",\"roots\":{\"4942\":\"e06e6a97-c761-4830-b1cf-5e102f3f2115\"}}];\n",
       "  root.Bokeh.embed.embed_items_notebook(docs_json, render_items);\n",
       "\n",
       "  }\n",
       "  if (root.Bokeh !== undefined) {\n",
       "    embed_document(root);\n",
       "  } else {\n",
       "    var attempts = 0;\n",
       "    var timer = setInterval(function(root) {\n",
       "      if (root.Bokeh !== undefined) {\n",
       "        clearInterval(timer);\n",
       "        embed_document(root);\n",
       "      } else {\n",
       "        attempts++;\n",
       "        if (attempts > 100) {\n",
       "          clearInterval(timer);\n",
       "          console.log(\"Bokeh: ERROR: Unable to run BokehJS code because BokehJS library is missing\");\n",
       "        }\n",
       "      }\n",
       "    }, 10, root)\n",
       "  }\n",
       "})(window);"
      ],
      "application/vnd.bokehjs_exec.v0+json": ""
     },
     "metadata": {
      "application/vnd.bokehjs_exec.v0+json": {
       "id": "4942"
      }
     },
     "output_type": "display_data"
    }
   ],
   "source": [
    "fig1 = plot_persistence(resampled_data, forecast_values_index=oasis_ghi_index_fx)\n",
    "show(fig1)"
   ]
  },
  {
   "cell_type": "markdown",
   "metadata": {},
   "source": [
    "The persistence of clear sky index accounts for the change in solar position. It also introduces errors near sunrise when the ratio of actual to expected clear sky depends sensitively on the instrumentation and the clear sky model.\n",
    "\n",
    "\"Day ahead persistence\" is another flavor of persistence in which the observed values for a 24 hour period are used as the forecast for another 24 hour period. For a 0 lead time forecast, data will be pulled from 48 hours up to 24 hours ago. The Solar Forecast Arbiter's [`persistence_interval`](https://solarforecastarbiter-core.readthedocs.io/en/latest/generated/solarforecastarbiter.reference_forecasts.persistence.persistence_interval.html#solarforecastarbiter.reference_forecasts.persistence.persistence_interval) function implements this feature."
   ]
  },
  {
   "cell_type": "code",
   "execution_count": 30,
   "metadata": {},
   "outputs": [],
   "source": [
    "da_forecast = datamodel.Forecast(\n",
    "    name='day ahead persistence', \n",
    "    issue_time_of_day=datetime.time(7),  # must be in UTC\n",
    "    lead_time_to_start=pd.Timedelta('0min'),\n",
    "    interval_length=pd.Timedelta('15min'),\n",
    "    run_length=pd.Timedelta('24hr'),\n",
    "    interval_label='beginning',\n",
    "    interval_value_type='interval_mean',\n",
    "    variable='ghi',\n",
    "    site=oasis_ghi\n",
    ")\n",
    "\n",
    "run_time = pd.Timestamp('20190516 0000-0700')\n",
    "issue_time = run_time\n",
    "fx_run = main.run_persistence(session, oasis_ghi, da_forecast, run_time, issue_time, index=False)"
   ]
  },
  {
   "cell_type": "code",
   "execution_count": 31,
   "metadata": {},
   "outputs": [
    {
     "data": {
      "text/html": [
       "\n",
       "\n",
       "\n",
       "\n",
       "\n",
       "\n",
       "  <div class=\"bk-root\" id=\"ac8d0998-7dc3-45ba-9146-02e1b9f54931\" data-root-id=\"5426\"></div>\n"
      ]
     },
     "metadata": {},
     "output_type": "display_data"
    },
    {
     "data": {
      "application/javascript": [
       "(function(root) {\n",
       "  function embed_document(root) {\n",
       "    \n",
       "  var docs_json = {\"352e0d78-76c5-4fb9-9dfc-f5879488bd55\":{\"roots\":{\"references\":[{\"attributes\":{\"below\":[{\"id\":\"5435\",\"type\":\"DatetimeAxis\"}],\"center\":[{\"id\":\"5439\",\"type\":\"Grid\"},{\"id\":\"5444\",\"type\":\"Grid\"},{\"id\":\"5480\",\"type\":\"Legend\"}],\"left\":[{\"id\":\"5440\",\"type\":\"LinearAxis\"}],\"plot_height\":250,\"plot_width\":800,\"renderers\":[{\"id\":\"5459\",\"type\":\"GlyphRenderer\"},{\"id\":\"5485\",\"type\":\"GlyphRenderer\"}],\"title\":{\"id\":\"5461\",\"type\":\"Title\"},\"toolbar\":{\"id\":\"5450\",\"type\":\"Toolbar\"},\"x_range\":{\"id\":\"5427\",\"type\":\"DataRange1d\"},\"x_scale\":{\"id\":\"5431\",\"type\":\"LinearScale\"},\"y_range\":{\"id\":\"5429\",\"type\":\"DataRange1d\"},\"y_scale\":{\"id\":\"5433\",\"type\":\"LinearScale\"}},\"id\":\"5426\",\"subtype\":\"Figure\",\"type\":\"Plot\"},{\"attributes\":{\"months\":[0,1,2,3,4,5,6,7,8,9,10,11]},\"id\":\"5474\",\"type\":\"MonthsTicker\"},{\"attributes\":{},\"id\":\"5507\",\"type\":\"UnionRenderers\"},{\"attributes\":{\"days\":[1,15]},\"id\":\"5473\",\"type\":\"DaysTicker\"},{\"attributes\":{},\"id\":\"5506\",\"type\":\"Selection\"},{\"attributes\":{},\"id\":\"5441\",\"type\":\"BasicTicker\"},{\"attributes\":{\"dimensions\":\"width\"},\"id\":\"5447\",\"type\":\"WheelZoomTool\"},{\"attributes\":{\"data_source\":{\"id\":\"5456\",\"type\":\"ColumnDataSource\"},\"glyph\":{\"id\":\"5457\",\"type\":\"Line\"},\"hover_glyph\":null,\"muted_glyph\":null,\"nonselection_glyph\":{\"id\":\"5458\",\"type\":\"Line\"},\"selection_glyph\":null,\"view\":{\"id\":\"5460\",\"type\":\"CDSView\"}},\"id\":\"5459\",\"type\":\"GlyphRenderer\"},{\"attributes\":{\"months\":[0,2,4,6,8,10]},\"id\":\"5475\",\"type\":\"MonthsTicker\"},{\"attributes\":{\"line_width\":2,\"x\":{\"field\":\"x\"},\"y\":{\"field\":\"y\"}},\"id\":\"5457\",\"type\":\"Line\"},{\"attributes\":{\"days\":[1,4,7,10,13,16,19,22,25,28]},\"id\":\"5471\",\"type\":\"DaysTicker\"},{\"attributes\":{\"line_alpha\":0.1,\"line_color\":\"#1f77b4\",\"line_width\":2,\"x\":{\"field\":\"x\"},\"y\":{\"field\":\"y\"}},\"id\":\"5458\",\"type\":\"Line\"},{\"attributes\":{\"months\":[0,6]},\"id\":\"5477\",\"type\":\"MonthsTicker\"},{\"attributes\":{\"base\":24,\"mantissas\":[1,2,4,6,8,12],\"max_interval\":43200000.0,\"min_interval\":3600000.0,\"num_minor_ticks\":0},\"id\":\"5469\",\"type\":\"AdaptiveTicker\"},{\"attributes\":{\"data_source\":{\"id\":\"5482\",\"type\":\"ColumnDataSource\"},\"glyph\":{\"id\":\"5483\",\"type\":\"Line\"},\"hover_glyph\":null,\"muted_glyph\":null,\"nonselection_glyph\":{\"id\":\"5484\",\"type\":\"Line\"},\"selection_glyph\":null,\"view\":{\"id\":\"5486\",\"type\":\"CDSView\"}},\"id\":\"5485\",\"type\":\"GlyphRenderer\"},{\"attributes\":{\"callback\":null},\"id\":\"5429\",\"type\":\"DataRange1d\"},{\"attributes\":{},\"id\":\"5794\",\"type\":\"UnionRenderers\"},{\"attributes\":{\"ticker\":{\"id\":\"5436\",\"type\":\"DatetimeTicker\"}},\"id\":\"5439\",\"type\":\"Grid\"},{\"attributes\":{\"label\":{\"value\":\"persistence\"},\"renderers\":[{\"id\":\"5485\",\"type\":\"GlyphRenderer\"}]},\"id\":\"5508\",\"type\":\"LegendItem\"},{\"attributes\":{\"label\":{\"value\":\"observed\"},\"renderers\":[{\"id\":\"5459\",\"type\":\"GlyphRenderer\"}]},\"id\":\"5481\",\"type\":\"LegendItem\"},{\"attributes\":{\"months\":[0,4,8]},\"id\":\"5476\",\"type\":\"MonthsTicker\"},{\"attributes\":{},\"id\":\"5464\",\"type\":\"BasicTickFormatter\"},{\"attributes\":{\"num_minor_ticks\":5,\"tickers\":[{\"id\":\"5467\",\"type\":\"AdaptiveTicker\"},{\"id\":\"5468\",\"type\":\"AdaptiveTicker\"},{\"id\":\"5469\",\"type\":\"AdaptiveTicker\"},{\"id\":\"5470\",\"type\":\"DaysTicker\"},{\"id\":\"5471\",\"type\":\"DaysTicker\"},{\"id\":\"5472\",\"type\":\"DaysTicker\"},{\"id\":\"5473\",\"type\":\"DaysTicker\"},{\"id\":\"5474\",\"type\":\"MonthsTicker\"},{\"id\":\"5475\",\"type\":\"MonthsTicker\"},{\"id\":\"5476\",\"type\":\"MonthsTicker\"},{\"id\":\"5477\",\"type\":\"MonthsTicker\"},{\"id\":\"5478\",\"type\":\"YearsTicker\"}]},\"id\":\"5436\",\"type\":\"DatetimeTicker\"},{\"attributes\":{\"callback\":null,\"data\":{\"x\":{\"__ndarray__\":\"AABYDPerdkIAABLo96t2QgAAzMP4q3ZCAACGn/mrdkIAAEB7+qt2QgAA+lb7q3ZCAAC0MvyrdkIAAG4O/at2QgAAKOr9q3ZCAADixf6rdkIAAJyh/6t2QgAAVn0ArHZCAAAQWQGsdkIAAMo0Aqx2QgAAhBADrHZCAAA+7AOsdkIAAPjHBKx2QgAAsqMFrHZCAABsfwasdkIAACZbB6x2QgAA4DYIrHZCAACaEgmsdkIAAFTuCax2QgAADsoKrHZCAADIpQusdkIAAIKBDKx2QgAAPF0NrHZCAAD2OA6sdkIAALAUD6x2QgAAavAPrHZCAAAkzBCsdkIAAN6nEax2QgAAmIMSrHZCAABSXxOsdkIAAAw7FKx2QgAAxhYVrHZCAACA8hWsdkIAADrOFqx2QgAA9KkXrHZCAACuhRisdkIAAGhhGax2QgAAIj0arHZCAADcGBusdkIAAJb0G6x2QgAAUNAcrHZCAAAKrB2sdkIAAMSHHqx2QgAAfmMfrHZCAAA4PyCsdkIAAPIaIax2QgAArPYhrHZCAABm0iKsdkIAACCuI6x2QgAA2okkrHZCAACUZSWsdkIAAE5BJqx2QgAACB0nrHZCAADC+CesdkIAAHzUKKx2QgAANrAprHZCAADwiyqsdkIAAKpnK6x2QgAAZEMsrHZCAAAeHy2sdkIAANj6Lax2QgAAktYurHZCAABMsi+sdkIAAAaOMKx2QgAAwGkxrHZCAAB6RTKsdkIAADQhM6x2QgAA7vwzrHZCAACo2DSsdkIAAGK0Nax2QgAAHJA2rHZCAADWazesdkIAAJBHOKx2QgAASiM5rHZCAAAE/zmsdkIAAL7aOqx2QgAAeLY7rHZCAAAykjysdkIAAOxtPax2QgAApkk+rHZCAABgJT+sdkIAABoBQKx2QgAA1NxArHZCAACOuEGsdkIAAEiUQqx2QgAAAnBDrHZCAAC8S0SsdkIAAHYnRax2QgAAMANGrHZCAADq3kasdkIAAKS6R6x2QgAAXpZIrHZC\",\"dtype\":\"float64\",\"shape\":[96]},\"y\":{\"__ndarray__\":\"IhEtjAeuCMBRhVKO3K0IwAX7r3PTZgjAq1Y5x5N3BsABEmBryb0GwMYMZ5EACAbAn0DYKVZNB8C02AB/CwUGwFdLJ/+A9AXAZQYXGJ/vBcBEmMjym+8FwPNBvJuU7wXANaXPIYPvBcCldxcVXu8FwHGYVcVB7wXANTE38lPvBcBEsJeTPe8FwJy5rRpx7gXAkD8+DnDuBcBFhf2xI+gFwNwRTgte9ALAcgoFf9Jj3z+ZJn8KWnssQN3VmP2n2EZAFODOmFwbVkDelrU6JjRhQC+Tzq39umdA9yuKRI6WbkDtoWrhn9FyQCz5xZJfUnZAMCd7XgTMeUCg8tV7Fz59QHmf0NiETIBAQRaPeJ/vgUCAAZfaZYeDQA1xrIvbFYVAmwgbnl6MhkAPnDOitOaHQJxScfbhNIlAeaL+jVB7ikA7VC3889OLQO4TGpswxIxA9f3UeOn9jUBl8Yj3CcyMQNd+RZHIao1AgbdAguKJj0CHQWDl0NyPQMW0XCNvCZBADAIrhxZqkEBy9uEzbHiQQD7o2ax6tpBAeRGAkpXEkECJiIiIiKuQQKfoSC7/yYtAidUMltdmjkBps+pztbuMQM+wK0DuMIlA5KjJeew9hkCZTBWMStuGQJpScfbhnYtA5mGh1jQvikDFSAnUdYCGQK5sDCdWroZA9ihcj8I2hEB2KvNpKLGBQPedOf4eVX5AFdagQojyf0Cqtwa2SoFyQF4mnVv7+XhApXNrv6IKdUClzUvYkbtuQCThVekBUmtAlUOLbOeXZEDPFDqvsbNcQEqDyA+CS1FAIGYcEA5jP0BXJ+bY+SYZQGGxBTzo0QTAMrq8OVwrDsBMLBasXisOwDYxJCcT9w3A8EQ2fWN1DMBm0rm1XxEMwHBECnisbAvA7lwY6UVtC8CmjH+fceEKwPk4wLmsrwjAzjePsJX9CMAV6WuDAAYJwO4L6IU71wjACpWS+O/UCMD2OT5anLEIwHLaU3JOrAjAp3NFKSEYCcBGgpabldoIwDREFf4MrwjA\",\"dtype\":\"float64\",\"shape\":[96]}},\"selected\":{\"id\":\"5793\",\"type\":\"Selection\"},\"selection_policy\":{\"id\":\"5794\",\"type\":\"UnionRenderers\"}},\"id\":\"5482\",\"type\":\"ColumnDataSource\"},{\"attributes\":{},\"id\":\"5466\",\"type\":\"DatetimeTickFormatter\"},{\"attributes\":{\"source\":{\"id\":\"5482\",\"type\":\"ColumnDataSource\"}},\"id\":\"5486\",\"type\":\"CDSView\"},{\"attributes\":{\"line_color\":\"#1f77b4\",\"line_width\":2,\"x\":{\"field\":\"x\"},\"y\":{\"field\":\"y\"}},\"id\":\"5483\",\"type\":\"Line\"},{\"attributes\":{\"line_alpha\":0.1,\"line_color\":\"#1f77b4\",\"line_width\":2,\"x\":{\"field\":\"x\"},\"y\":{\"field\":\"y\"}},\"id\":\"5484\",\"type\":\"Line\"},{\"attributes\":{},\"id\":\"5448\",\"type\":\"ResetTool\"},{\"attributes\":{\"bottom_units\":\"screen\",\"fill_alpha\":{\"value\":0.5},\"fill_color\":{\"value\":\"lightgrey\"},\"left_units\":\"screen\",\"level\":\"overlay\",\"line_alpha\":{\"value\":1.0},\"line_color\":{\"value\":\"black\"},\"line_dash\":[4,4],\"line_width\":{\"value\":2},\"render_mode\":\"css\",\"right_units\":\"screen\",\"top_units\":\"screen\"},\"id\":\"5479\",\"type\":\"BoxAnnotation\"},{\"attributes\":{},\"id\":\"5793\",\"type\":\"Selection\"},{\"attributes\":{},\"id\":\"5478\",\"type\":\"YearsTicker\"},{\"attributes\":{\"overlay\":{\"id\":\"5479\",\"type\":\"BoxAnnotation\"}},\"id\":\"5446\",\"type\":\"BoxZoomTool\"},{\"attributes\":{},\"id\":\"5449\",\"type\":\"SaveTool\"},{\"attributes\":{\"dimension\":1,\"ticker\":{\"id\":\"5441\",\"type\":\"BasicTicker\"}},\"id\":\"5444\",\"type\":\"Grid\"},{\"attributes\":{\"source\":{\"id\":\"5456\",\"type\":\"ColumnDataSource\"}},\"id\":\"5460\",\"type\":\"CDSView\"},{\"attributes\":{\"days\":[1,8,15,22]},\"id\":\"5472\",\"type\":\"DaysTicker\"},{\"attributes\":{\"base\":60,\"mantissas\":[1,2,5,10,15,20,30],\"max_interval\":1800000.0,\"min_interval\":1000.0,\"num_minor_ticks\":0},\"id\":\"5468\",\"type\":\"AdaptiveTicker\"},{\"attributes\":{\"callback\":null},\"id\":\"5427\",\"type\":\"DataRange1d\"},{\"attributes\":{\"items\":[{\"id\":\"5481\",\"type\":\"LegendItem\"},{\"id\":\"5508\",\"type\":\"LegendItem\"}],\"location\":\"top_left\"},\"id\":\"5480\",\"type\":\"Legend\"},{\"attributes\":{},\"id\":\"5445\",\"type\":\"PanTool\"},{\"attributes\":{\"callback\":null,\"data\":{\"x\":{\"__ndarray__\":\"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\",\"dtype\":\"float64\",\"shape\":[385]},\"y\":{\"__ndarray__\":\"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\",\"dtype\":\"float64\",\"shape\":[385]}},\"selected\":{\"id\":\"5506\",\"type\":\"Selection\"},\"selection_policy\":{\"id\":\"5507\",\"type\":\"UnionRenderers\"}},\"id\":\"5456\",\"type\":\"ColumnDataSource\"},{\"attributes\":{\"axis_label\":\"Time (UTC)\",\"formatter\":{\"id\":\"5466\",\"type\":\"DatetimeTickFormatter\"},\"ticker\":{\"id\":\"5436\",\"type\":\"DatetimeTicker\"}},\"id\":\"5435\",\"type\":\"DatetimeAxis\"},{\"attributes\":{\"days\":[1,2,3,4,5,6,7,8,9,10,11,12,13,14,15,16,17,18,19,20,21,22,23,24,25,26,27,28,29,30,31]},\"id\":\"5470\",\"type\":\"DaysTicker\"},{\"attributes\":{},\"id\":\"5433\",\"type\":\"LinearScale\"},{\"attributes\":{\"text\":\"\"},\"id\":\"5461\",\"type\":\"Title\"},{\"attributes\":{},\"id\":\"5431\",\"type\":\"LinearScale\"},{\"attributes\":{\"active_drag\":\"auto\",\"active_inspect\":\"auto\",\"active_multi\":null,\"active_scroll\":\"auto\",\"active_tap\":\"auto\",\"tools\":[{\"id\":\"5445\",\"type\":\"PanTool\"},{\"id\":\"5446\",\"type\":\"BoxZoomTool\"},{\"id\":\"5447\",\"type\":\"WheelZoomTool\"},{\"id\":\"5448\",\"type\":\"ResetTool\"},{\"id\":\"5449\",\"type\":\"SaveTool\"}]},\"id\":\"5450\",\"type\":\"Toolbar\"},{\"attributes\":{\"mantissas\":[1,2,5],\"max_interval\":500.0,\"num_minor_ticks\":0},\"id\":\"5467\",\"type\":\"AdaptiveTicker\"},{\"attributes\":{\"axis_label\":\"Irradiance (W/m^2)\",\"formatter\":{\"id\":\"5464\",\"type\":\"BasicTickFormatter\"},\"ticker\":{\"id\":\"5441\",\"type\":\"BasicTicker\"}},\"id\":\"5440\",\"type\":\"LinearAxis\"}],\"root_ids\":[\"5426\"]},\"title\":\"Bokeh Application\",\"version\":\"1.4.0\"}};\n",
       "  var render_items = [{\"docid\":\"352e0d78-76c5-4fb9-9dfc-f5879488bd55\",\"roots\":{\"5426\":\"ac8d0998-7dc3-45ba-9146-02e1b9f54931\"}}];\n",
       "  root.Bokeh.embed.embed_items_notebook(docs_json, render_items);\n",
       "\n",
       "  }\n",
       "  if (root.Bokeh !== undefined) {\n",
       "    embed_document(root);\n",
       "  } else {\n",
       "    var attempts = 0;\n",
       "    var timer = setInterval(function(root) {\n",
       "      if (root.Bokeh !== undefined) {\n",
       "        clearInterval(timer);\n",
       "        embed_document(root);\n",
       "      } else {\n",
       "        attempts++;\n",
       "        if (attempts > 100) {\n",
       "          clearInterval(timer);\n",
       "          console.log(\"Bokeh: ERROR: Unable to run BokehJS code because BokehJS library is missing\");\n",
       "        }\n",
       "      }\n",
       "    }, 10, root)\n",
       "  }\n",
       "})(window);"
      ],
      "application/vnd.bokehjs_exec.v0+json": ""
     },
     "metadata": {
      "application/vnd.bokehjs_exec.v0+json": {
       "id": "5426"
      }
     },
     "output_type": "display_data"
    }
   ],
   "source": [
    "fig1 = plot_persistence(resampled_data, fx_run)\n",
    "show(fig1)"
   ]
  },
  {
   "cell_type": "markdown",
   "metadata": {},
   "source": [
    "### persistence module\n",
    "\n",
    "This section demonstrates the lower level persistence functions."
   ]
  },
  {
   "cell_type": "code",
   "execution_count": 32,
   "metadata": {},
   "outputs": [],
   "source": [
    "from solarforecastarbiter.reference_forecasts import persistence"
   ]
  },
  {
   "cell_type": "markdown",
   "metadata": {},
   "source": [
    "The functions in the persistence module are meant to be easily useable by the community. To facilitate this, the persistence functions allow a user to provide a function that will load their data rather than loading data from the Solar Forecast Arbiter API. Below, we define a function that will load the appropriate data."
   ]
  },
  {
   "cell_type": "code",
   "execution_count": 33,
   "metadata": {},
   "outputs": [],
   "source": [
    "# change default load_data function so we can use without API access\n",
    "def load_data_base(data, observation, data_start, data_end):\n",
    "    # slice doesn't care about closed or interval label \n",
    "    # so here we manually adjust start and end times\n",
    "    if 'instant' in observation.interval_label:\n",
    "        pass\n",
    "    elif observation.interval_label == 'ending':\n",
    "        data_start += pd.Timedelta('1s')\n",
    "    elif observation.interval_label == 'beginning':\n",
    "        data_end -= pd.Timedelta('1s')\n",
    "    return data[data_start:data_end]\n",
    "\n",
    "load_data = partial(load_data_base, oasis_ghi_values['value'])"
   ]
  },
  {
   "cell_type": "markdown",
   "metadata": {},
   "source": [
    "The code below makes two forecasts, one for persistence of the observed GHI (`persistence_scalar`) and one using persistence of the clear sky index (`persistence_scalar_index`). Notice how the persistence index forecast accounts for the changing solar position."
   ]
  },
  {
   "cell_type": "code",
   "execution_count": 34,
   "metadata": {},
   "outputs": [],
   "source": [
    "observation = oasis_ghi"
   ]
  },
  {
   "cell_type": "code",
   "execution_count": 35,
   "metadata": {},
   "outputs": [
    {
     "data": {
      "text/html": [
       "\n",
       "\n",
       "\n",
       "\n",
       "\n",
       "\n",
       "  <div class=\"bk-root\" id=\"1419dfb5-d044-4da6-98bb-e70b260be8a0\" data-root-id=\"5933\"></div>\n"
      ]
     },
     "metadata": {},
     "output_type": "display_data"
    },
    {
     "data": {
      "application/javascript": [
       "(function(root) {\n",
       "  function embed_document(root) {\n",
       "    \n",
       "  var docs_json = {\"5bb92f35-2777-4fdb-9368-0126b95d467f\":{\"roots\":{\"references\":[{\"attributes\":{\"below\":[{\"id\":\"5942\",\"type\":\"DatetimeAxis\"}],\"center\":[{\"id\":\"5946\",\"type\":\"Grid\"},{\"id\":\"5951\",\"type\":\"Grid\"},{\"id\":\"5987\",\"type\":\"Legend\"}],\"left\":[{\"id\":\"5947\",\"type\":\"LinearAxis\"}],\"plot_height\":250,\"plot_width\":800,\"renderers\":[{\"id\":\"5966\",\"type\":\"GlyphRenderer\"},{\"id\":\"5992\",\"type\":\"GlyphRenderer\"},{\"id\":\"6019\",\"type\":\"GlyphRenderer\"}],\"title\":{\"id\":\"5968\",\"type\":\"Title\"},\"toolbar\":{\"id\":\"5957\",\"type\":\"Toolbar\"},\"x_range\":{\"id\":\"5934\",\"type\":\"DataRange1d\"},\"x_scale\":{\"id\":\"5938\",\"type\":\"LinearScale\"},\"y_range\":{\"id\":\"5936\",\"type\":\"DataRange1d\"},\"y_scale\":{\"id\":\"5940\",\"type\":\"LinearScale\"}},\"id\":\"5933\",\"subtype\":\"Figure\",\"type\":\"Plot\"},{\"attributes\":{\"bottom_units\":\"screen\",\"fill_alpha\":{\"value\":0.5},\"fill_color\":{\"value\":\"lightgrey\"},\"left_units\":\"screen\",\"level\":\"overlay\",\"line_alpha\":{\"value\":1.0},\"line_color\":{\"value\":\"black\"},\"line_dash\":[4,4],\"line_width\":{\"value\":2},\"render_mode\":\"css\",\"right_units\":\"screen\",\"top_units\":\"screen\"},\"id\":\"5986\",\"type\":\"BoxAnnotation\"},{\"attributes\":{},\"id\":\"6042\",\"type\":\"Selection\"},{\"attributes\":{},\"id\":\"5971\",\"type\":\"BasicTickFormatter\"},{\"attributes\":{\"label\":{\"value\":\"observed\"},\"renderers\":[{\"id\":\"5966\",\"type\":\"GlyphRenderer\"}]},\"id\":\"5988\",\"type\":\"LegendItem\"},{\"attributes\":{\"text\":\"\"},\"id\":\"5968\",\"type\":\"Title\"},{\"attributes\":{},\"id\":\"5973\",\"type\":\"DatetimeTickFormatter\"},{\"attributes\":{\"items\":[{\"id\":\"5988\",\"type\":\"LegendItem\"},{\"id\":\"6015\",\"type\":\"LegendItem\"},{\"id\":\"6044\",\"type\":\"LegendItem\"}],\"location\":\"top_left\"},\"id\":\"5987\",\"type\":\"Legend\"},{\"attributes\":{\"callback\":null},\"id\":\"5936\",\"type\":\"DataRange1d\"},{\"attributes\":{},\"id\":\"5955\",\"type\":\"ResetTool\"},{\"attributes\":{},\"id\":\"5952\",\"type\":\"PanTool\"},{\"attributes\":{},\"id\":\"6355\",\"type\":\"UnionRenderers\"},{\"attributes\":{},\"id\":\"5940\",\"type\":\"LinearScale\"},{\"attributes\":{\"data_source\":{\"id\":\"5963\",\"type\":\"ColumnDataSource\"},\"glyph\":{\"id\":\"5964\",\"type\":\"Line\"},\"hover_glyph\":null,\"muted_glyph\":null,\"nonselection_glyph\":{\"id\":\"5965\",\"type\":\"Line\"},\"selection_glyph\":null,\"view\":{\"id\":\"5967\",\"type\":\"CDSView\"}},\"id\":\"5966\",\"type\":\"GlyphRenderer\"},{\"attributes\":{\"axis_label\":\"Time (UTC)\",\"formatter\":{\"id\":\"5973\",\"type\":\"DatetimeTickFormatter\"},\"ticker\":{\"id\":\"5943\",\"type\":\"DatetimeTicker\"}},\"id\":\"5942\",\"type\":\"DatetimeAxis\"},{\"attributes\":{},\"id\":\"6014\",\"type\":\"UnionRenderers\"},{\"attributes\":{},\"id\":\"6013\",\"type\":\"Selection\"},{\"attributes\":{\"mantissas\":[1,2,5],\"max_interval\":500.0,\"num_minor_ticks\":0},\"id\":\"5974\",\"type\":\"AdaptiveTicker\"},{\"attributes\":{},\"id\":\"5938\",\"type\":\"LinearScale\"},{\"attributes\":{\"base\":60,\"mantissas\":[1,2,5,10,15,20,30],\"max_interval\":1800000.0,\"min_interval\":1000.0,\"num_minor_ticks\":0},\"id\":\"5975\",\"type\":\"AdaptiveTicker\"},{\"attributes\":{\"source\":{\"id\":\"5963\",\"type\":\"ColumnDataSource\"}},\"id\":\"5967\",\"type\":\"CDSView\"},{\"attributes\":{},\"id\":\"6354\",\"type\":\"Selection\"},{\"attributes\":{\"days\":[1,2,3,4,5,6,7,8,9,10,11,12,13,14,15,16,17,18,19,20,21,22,23,24,25,26,27,28,29,30,31]},\"id\":\"5977\",\"type\":\"DaysTicker\"},{\"attributes\":{\"base\":24,\"mantissas\":[1,2,4,6,8,12],\"max_interval\":43200000.0,\"min_interval\":3600000.0,\"num_minor_ticks\":0},\"id\":\"5976\",\"type\":\"AdaptiveTicker\"},{\"attributes\":{\"dimension\":1,\"ticker\":{\"id\":\"5948\",\"type\":\"BasicTicker\"}},\"id\":\"5951\",\"type\":\"Grid\"},{\"attributes\":{\"callback\":null,\"data\":{\"x\":{\"__ndarray__\":\"AAD+1cOrdkIAADwfxKt2QgAAemjEq3ZCAAC4scSrdkIAAPb6xKt2QgAANETFq3ZCAAByjcWrdkIAALDWxat2QgAA7h/Gq3ZCAAAsacardkIAAGqyxqt2QgAAqPvGq3ZC\",\"dtype\":\"float64\",\"shape\":[12]},\"y\":{\"__ndarray__\":\"qXldk61YhkARDmyJXNeGQJzfiKClU4dA9SEy+3fNh0DocFEsw0SIQOi9ETh3uYhAmr+MjoQriUCjBKsQ3JqJQLm+kghvB4pAO6y5MC9xikDXAAOtDtiKQDwXyA8APItA\",\"dtype\":\"float64\",\"shape\":[12]}},\"selected\":{\"id\":\"6354\",\"type\":\"Selection\"},\"selection_policy\":{\"id\":\"6355\",\"type\":\"UnionRenderers\"}},\"id\":\"6016\",\"type\":\"ColumnDataSource\"},{\"attributes\":{\"months\":[0,1,2,3,4,5,6,7,8,9,10,11]},\"id\":\"5981\",\"type\":\"MonthsTicker\"},{\"attributes\":{\"ticker\":{\"id\":\"5943\",\"type\":\"DatetimeTicker\"}},\"id\":\"5946\",\"type\":\"Grid\"},{\"attributes\":{\"months\":[0,2,4,6,8,10]},\"id\":\"5982\",\"type\":\"MonthsTicker\"},{\"attributes\":{\"days\":[1,4,7,10,13,16,19,22,25,28]},\"id\":\"5978\",\"type\":\"DaysTicker\"},{\"attributes\":{\"days\":[1,15]},\"id\":\"5980\",\"type\":\"DaysTicker\"},{\"attributes\":{\"num_minor_ticks\":5,\"tickers\":[{\"id\":\"5974\",\"type\":\"AdaptiveTicker\"},{\"id\":\"5975\",\"type\":\"AdaptiveTicker\"},{\"id\":\"5976\",\"type\":\"AdaptiveTicker\"},{\"id\":\"5977\",\"type\":\"DaysTicker\"},{\"id\":\"5978\",\"type\":\"DaysTicker\"},{\"id\":\"5979\",\"type\":\"DaysTicker\"},{\"id\":\"5980\",\"type\":\"DaysTicker\"},{\"id\":\"5981\",\"type\":\"MonthsTicker\"},{\"id\":\"5982\",\"type\":\"MonthsTicker\"},{\"id\":\"5983\",\"type\":\"MonthsTicker\"},{\"id\":\"5984\",\"type\":\"MonthsTicker\"},{\"id\":\"5985\",\"type\":\"YearsTicker\"}]},\"id\":\"5943\",\"type\":\"DatetimeTicker\"},{\"attributes\":{\"line_color\":\"#ff7f0e\",\"line_width\":2,\"x\":{\"field\":\"x\"},\"y\":{\"field\":\"y\"}},\"id\":\"6017\",\"type\":\"Line\"},{\"attributes\":{\"callback\":null,\"data\":{\"x\":{\"__ndarray__\":\"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\",\"dtype\":\"float64\",\"shape\":[1153]},\"y\":{\"__ndarray__\":\"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\",\"dtype\":\"float64\",\"shape\":[1153]}},\"selected\":{\"id\":\"6013\",\"type\":\"Selection\"},\"selection_policy\":{\"id\":\"6014\",\"type\":\"UnionRenderers\"}},\"id\":\"5963\",\"type\":\"ColumnDataSource\"},{\"attributes\":{\"months\":[0,6]},\"id\":\"5984\",\"type\":\"MonthsTicker\"},{\"attributes\":{\"source\":{\"id\":\"6016\",\"type\":\"ColumnDataSource\"}},\"id\":\"6020\",\"type\":\"CDSView\"},{\"attributes\":{\"days\":[1,8,15,22]},\"id\":\"5979\",\"type\":\"DaysTicker\"},{\"attributes\":{\"line_alpha\":0.1,\"line_color\":\"#1f77b4\",\"line_width\":2,\"x\":{\"field\":\"x\"},\"y\":{\"field\":\"y\"}},\"id\":\"6018\",\"type\":\"Line\"},{\"attributes\":{},\"id\":\"5985\",\"type\":\"YearsTicker\"},{\"attributes\":{\"active_drag\":\"auto\",\"active_inspect\":\"auto\",\"active_multi\":null,\"active_scroll\":\"auto\",\"active_tap\":\"auto\",\"tools\":[{\"id\":\"5952\",\"type\":\"PanTool\"},{\"id\":\"5953\",\"type\":\"BoxZoomTool\"},{\"id\":\"5954\",\"type\":\"WheelZoomTool\"},{\"id\":\"5955\",\"type\":\"ResetTool\"},{\"id\":\"5956\",\"type\":\"SaveTool\"}]},\"id\":\"5957\",\"type\":\"Toolbar\"},{\"attributes\":{\"label\":{\"value\":\"persistence index\"},\"renderers\":[{\"id\":\"6019\",\"type\":\"GlyphRenderer\"}]},\"id\":\"6044\",\"type\":\"LegendItem\"},{\"attributes\":{\"months\":[0,4,8]},\"id\":\"5983\",\"type\":\"MonthsTicker\"},{\"attributes\":{\"source\":{\"id\":\"5989\",\"type\":\"ColumnDataSource\"}},\"id\":\"5993\",\"type\":\"CDSView\"},{\"attributes\":{\"dimensions\":\"width\"},\"id\":\"5954\",\"type\":\"WheelZoomTool\"},{\"attributes\":{},\"id\":\"5956\",\"type\":\"SaveTool\"},{\"attributes\":{\"axis_label\":\"Irradiance (W/m^2)\",\"formatter\":{\"id\":\"5971\",\"type\":\"BasicTickFormatter\"},\"ticker\":{\"id\":\"5948\",\"type\":\"BasicTicker\"}},\"id\":\"5947\",\"type\":\"LinearAxis\"},{\"attributes\":{\"line_width\":2,\"x\":{\"field\":\"x\"},\"y\":{\"field\":\"y\"}},\"id\":\"5964\",\"type\":\"Line\"},{\"attributes\":{\"line_color\":\"#1f77b4\",\"line_width\":2,\"x\":{\"field\":\"x\"},\"y\":{\"field\":\"y\"}},\"id\":\"5990\",\"type\":\"Line\"},{\"attributes\":{\"line_alpha\":0.1,\"line_color\":\"#1f77b4\",\"line_width\":2,\"x\":{\"field\":\"x\"},\"y\":{\"field\":\"y\"}},\"id\":\"5965\",\"type\":\"Line\"},{\"attributes\":{\"overlay\":{\"id\":\"5986\",\"type\":\"BoxAnnotation\"}},\"id\":\"5953\",\"type\":\"BoxZoomTool\"},{\"attributes\":{},\"id\":\"5948\",\"type\":\"BasicTicker\"},{\"attributes\":{\"label\":{\"value\":\"persistence\"},\"renderers\":[{\"id\":\"5992\",\"type\":\"GlyphRenderer\"}]},\"id\":\"6015\",\"type\":\"LegendItem\"},{\"attributes\":{\"data_source\":{\"id\":\"6016\",\"type\":\"ColumnDataSource\"},\"glyph\":{\"id\":\"6017\",\"type\":\"Line\"},\"hover_glyph\":null,\"muted_glyph\":null,\"nonselection_glyph\":{\"id\":\"6018\",\"type\":\"Line\"},\"selection_glyph\":null,\"view\":{\"id\":\"6020\",\"type\":\"CDSView\"}},\"id\":\"6019\",\"type\":\"GlyphRenderer\"},{\"attributes\":{\"callback\":null,\"data\":{\"x\":{\"__ndarray__\":\"AAD+1cOrdkIAADwfxKt2QgAAemjEq3ZCAAC4scSrdkIAAPb6xKt2QgAANETFq3ZCAAByjcWrdkIAALDWxat2QgAA7h/Gq3ZCAAAsacardkIAAGqyxqt2QgAAqPvGq3ZC\",\"dtype\":\"float64\",\"shape\":[12]},\"y\":{\"__ndarray__\":\"rygSOaregkCvKBI5qt6CQK8oEjmq3oJArygSOaregkCvKBI5qt6CQK8oEjmq3oJArygSOaregkCvKBI5qt6CQK8oEjmq3oJArygSOaregkCvKBI5qt6CQK8oEjmq3oJA\",\"dtype\":\"float64\",\"shape\":[12]}},\"selected\":{\"id\":\"6042\",\"type\":\"Selection\"},\"selection_policy\":{\"id\":\"6043\",\"type\":\"UnionRenderers\"}},\"id\":\"5989\",\"type\":\"ColumnDataSource\"},{\"attributes\":{\"line_alpha\":0.1,\"line_color\":\"#1f77b4\",\"line_width\":2,\"x\":{\"field\":\"x\"},\"y\":{\"field\":\"y\"}},\"id\":\"5991\",\"type\":\"Line\"},{\"attributes\":{\"data_source\":{\"id\":\"5989\",\"type\":\"ColumnDataSource\"},\"glyph\":{\"id\":\"5990\",\"type\":\"Line\"},\"hover_glyph\":null,\"muted_glyph\":null,\"nonselection_glyph\":{\"id\":\"5991\",\"type\":\"Line\"},\"selection_glyph\":null,\"view\":{\"id\":\"5993\",\"type\":\"CDSView\"}},\"id\":\"5992\",\"type\":\"GlyphRenderer\"},{\"attributes\":{\"callback\":null},\"id\":\"5934\",\"type\":\"DataRange1d\"},{\"attributes\":{},\"id\":\"6043\",\"type\":\"UnionRenderers\"}],\"root_ids\":[\"5933\"]},\"title\":\"Bokeh Application\",\"version\":\"1.4.0\"}};\n",
       "  var render_items = [{\"docid\":\"5bb92f35-2777-4fdb-9368-0126b95d467f\",\"roots\":{\"5933\":\"1419dfb5-d044-4da6-98bb-e70b260be8a0\"}}];\n",
       "  root.Bokeh.embed.embed_items_notebook(docs_json, render_items);\n",
       "\n",
       "  }\n",
       "  if (root.Bokeh !== undefined) {\n",
       "    embed_document(root);\n",
       "  } else {\n",
       "    var attempts = 0;\n",
       "    var timer = setInterval(function(root) {\n",
       "      if (root.Bokeh !== undefined) {\n",
       "        clearInterval(timer);\n",
       "        embed_document(root);\n",
       "      } else {\n",
       "        attempts++;\n",
       "        if (attempts > 100) {\n",
       "          clearInterval(timer);\n",
       "          console.log(\"Bokeh: ERROR: Unable to run BokehJS code because BokehJS library is missing\");\n",
       "        }\n",
       "      }\n",
       "    }, 10, root)\n",
       "  }\n",
       "})(window);"
      ],
      "application/vnd.bokehjs_exec.v0+json": ""
     },
     "metadata": {
      "application/vnd.bokehjs_exec.v0+json": {
       "id": "5933"
      }
     },
     "output_type": "display_data"
    }
   ],
   "source": [
    "# persistence forecasts with scalar index\n",
    "# observation.interval_label = 'ending', \n",
    "# so data ranges are exclusive of start and inclusive of end\n",
    "data_start = pd.Timestamp('20190515 1500Z')\n",
    "data_end = pd.Timestamp('20190515 1600Z')\n",
    "forecast_start = pd.Timestamp('20190515 1600Z')\n",
    "forecast_end = pd.Timestamp('20190515 1700Z')\n",
    "interval_length = pd.Timedelta('5min')\n",
    "interval_label = 'ending'\n",
    "\n",
    "fx_per = persistence.persistence_scalar(\n",
    "    observation, data_start, data_end, forecast_start,\n",
    "    forecast_end, interval_length, interval_label, load_data=load_data)\n",
    "fx_per_idx = persistence.persistence_scalar_index(\n",
    "    observation, data_start, data_end, forecast_start,\n",
    "    forecast_end, interval_length, interval_label, load_data=load_data)\n",
    "\n",
    "resampled_data = oasis_ghi_values.resample(interval_length, label='right').mean()\n",
    "fig = plot_persistence(resampled_data, fx_per, fx_per_idx)\n",
    "show(fig)"
   ]
  },
  {
   "cell_type": "markdown",
   "metadata": {},
   "source": [
    "Same data and forecast methods but for a cloudy period."
   ]
  },
  {
   "cell_type": "code",
   "execution_count": 36,
   "metadata": {},
   "outputs": [
    {
     "data": {
      "text/html": [
       "\n",
       "\n",
       "\n",
       "\n",
       "\n",
       "\n",
       "  <div class=\"bk-root\" id=\"720d38da-75fb-4b13-8a99-2975ef8c7aac\" data-root-id=\"6506\"></div>\n"
      ]
     },
     "metadata": {},
     "output_type": "display_data"
    },
    {
     "data": {
      "application/javascript": [
       "(function(root) {\n",
       "  function embed_document(root) {\n",
       "    \n",
       "  var docs_json = {\"be9ca815-8510-4969-a307-1596dec622f7\":{\"roots\":{\"references\":[{\"attributes\":{\"below\":[{\"id\":\"6515\",\"type\":\"DatetimeAxis\"}],\"center\":[{\"id\":\"6519\",\"type\":\"Grid\"},{\"id\":\"6524\",\"type\":\"Grid\"},{\"id\":\"6560\",\"type\":\"Legend\"}],\"left\":[{\"id\":\"6520\",\"type\":\"LinearAxis\"}],\"plot_height\":250,\"plot_width\":800,\"renderers\":[{\"id\":\"6539\",\"type\":\"GlyphRenderer\"},{\"id\":\"6565\",\"type\":\"GlyphRenderer\"},{\"id\":\"6592\",\"type\":\"GlyphRenderer\"}],\"title\":{\"id\":\"6541\",\"type\":\"Title\"},\"toolbar\":{\"id\":\"6530\",\"type\":\"Toolbar\"},\"x_range\":{\"id\":\"6507\",\"type\":\"DataRange1d\"},\"x_scale\":{\"id\":\"6511\",\"type\":\"LinearScale\"},\"y_range\":{\"id\":\"6509\",\"type\":\"DataRange1d\"},\"y_scale\":{\"id\":\"6513\",\"type\":\"LinearScale\"}},\"id\":\"6506\",\"subtype\":\"Figure\",\"type\":\"Plot\"},{\"attributes\":{\"callback\":null,\"data\":{\"x\":{\"__ndarray__\":\"AAC+gTqrdkIAAPzKOqt2QgAAOhQ7q3ZCAAB4XTurdkIAALamO6t2QgAA9O87q3ZCAAAyOTyrdkIAAHCCPKt2QgAArss8q3ZCAADsFD2rdkIAACpePat2QgAAaKc9q3ZCAACm8D2rdkIAAOQ5Pqt2QgAAIoM+q3ZCAABgzD6rdkIAAJ4VP6t2QgAA3F4/q3ZCAAAaqD+rdkIAAFjxP6t2QgAAljpAq3ZCAADUg0CrdkIAABLNQKt2QgAAUBZBq3ZCAACOX0GrdkIAAMyoQat2QgAACvJBq3ZCAABIO0KrdkIAAIaEQqt2QgAAxM1Cq3ZCAAACF0OrdkIAAEBgQ6t2QgAAfqlDq3ZCAAC88kOrdkIAAPo7RKt2QgAAOIVEq3ZCAAB2zkSrdkIAALQXRat2QgAA8mBFq3ZCAAAwqkWrdkIAAG7zRat2QgAArDxGq3ZCAADqhUardkIAACjPRqt2QgAAZhhHq3ZCAACkYUerdkIAAOKqR6t2QgAAIPRHq3ZCAABePUirdkIAAJyGSKt2QgAA2s9Iq3ZCAAAYGUmrdkIAAFZiSat2QgAAlKtJq3ZCAADS9EmrdkIAABA+Sqt2QgAATodKq3ZCAACM0EqrdkIAAMoZS6t2QgAACGNLq3ZCAABGrEurdkIAAIT1S6t2QgAAwj5Mq3ZCAAAAiEyrdkIAAD7RTKt2QgAAfBpNq3ZCAAC6Y02rdkIAAPisTat2QgAANvZNq3ZCAAB0P06rdkIAALKITqt2QgAA8NFOq3ZCAAAuG0+rdkIAAGxkT6t2QgAAqq1Pq3ZCAADo9k+rdkIAACZAUKt2QgAAZIlQq3ZCAACi0lCrdkIAAOAbUat2QgAAHmVRq3ZCAABcrlGrdkIAAJr3Uat2QgAA2EBSq3ZCAAAWilKrdkIAAFTTUqt2QgAAkhxTq3ZCAADQZVOrdkIAAA6vU6t2QgAATPhTq3ZCAACKQVSrdkIAAMiKVKt2QgAABtRUq3ZCAABEHVWrdkIAAIJmVat2QgAAwK9Vq3ZCAAD++FWrdkIAADxCVqt2QgAAeotWq3ZCAAC41FardkIAAPYdV6t2QgAANGdXq3ZCAABysFerdkIAALD5V6t2QgAA7kJYq3ZCAAAsjFirdkIAAGrVWKt2QgAAqB5Zq3ZCAADmZ1mrdkIAACSxWat2QgAAYvpZq3ZCAACgQ1qrdkIAAN6MWqt2QgAAHNZaq3ZCAABaH1urdkIAAJhoW6t2QgAA1rFbq3ZCAAAU+1urdkIAAFJEXKt2QgAAkI1cq3ZCAADO1lyrdkIAAAwgXat2QgAASmldq3ZCAACIsl2rdkIAAMb7Xat2QgAABEVeq3ZCAABCjl6rdkIAAIDXXqt2QgAAviBfq3ZCAAD8aV+rdkIAADqzX6t2QgAAePxfq3ZCAAC2RWCrdkIAAPSOYKt2QgAAMthgq3ZCAABwIWGrdkIAAK5qYat2QgAA7LNhq3ZCAAAq/WGrdkIAAGhGYqt2QgAApo9iq3ZCAADk2GKrdkIAACIiY6t2QgAAYGtjq3ZCAACetGOrdkIAANz9Y6t2QgAAGkdkq3ZCAABYkGSrdkIAAJbZZKt2QgAA1CJlq3ZCAAASbGWrdkIAAFC1Zat2QgAAjv5lq3ZCAADMR2ardkIAAAqRZqt2QgAASNpmq3ZCAACGI2erdkIAAMRsZ6t2QgAAArZnq3ZCAABA/2erdkIAAH5IaKt2QgAAvJFoq3ZCAAD62mirdkIAADgkaat2QgAAdm1pq3ZCAAC0tmmrdkIAAPL/aat2QgAAMElqq3ZCAABukmqrdkIAAKzbaqt2QgAA6iRrq3ZCAAAobmurdkIAAGa3a6t2QgAApABsq3ZCAADiSWyrdkIAACCTbKt2QgAAXtxsq3ZCAACcJW2rdkIAANpubat2QgAAGLhtq3ZCAABWAW6rdkIAAJRKbqt2QgAA0pNuq3ZCAAAQ3W6rdkIAAE4mb6t2QgAAjG9vq3ZCAADKuG+rdkIAAAgCcKt2QgAARktwq3ZCAACElHCrdkIAAMLdcKt2QgAAACdxq3ZCAAA+cHGrdkIAAHy5cat2QgAAugJyq3ZCAAD4S3KrdkIAADaVcqt2QgAAdN5yq3ZCAACyJ3OrdkIAAPBwc6t2QgAALrpzq3ZCAABsA3SrdkIAAKpMdKt2QgAA6JV0q3ZCAAAm33SrdkIAAGQodat2QgAAonF1q3ZCAADgunWrdkIAAB4Edqt2QgAAXE12q3ZCAACalnardkIAANjfdqt2QgAAFil3q3ZCAABUcnerdkIAAJK7d6t2QgAA0AR4q3ZCAAAOTnirdkIAAEyXeKt2QgAAiuB4q3ZCAADIKXmrdkIAAAZzeat2QgAARLx5q3ZCAACCBXqrdkIAAMBOeqt2QgAA/pd6q3ZCAAA84XqrdkIAAHoqe6t2QgAAuHN7q3ZCAAD2vHurdkIAADQGfKt2QgAAck98q3ZCAACwmHyrdkIAAO7hfKt2QgAALCt9q3ZCAABqdH2rdkIAAKi9fat2QgAA5gZ+q3ZCAAAkUH6rdkIAAGKZfqt2QgAAoOJ+q3ZCAADeK3+rdkIAABx1f6t2QgAAWr5/q3ZCAACYB4CrdkIAANZQgKt2QgAAFJqAq3ZCAABS44CrdkIAAJAsgat2QgAAznWBq3ZCAAAMv4GrdkIAAEoIgqt2QgAAiFGCq3ZCAADGmoKrdkIAAATkgqt2QgAAQi2Dq3ZCAACAdoOrdkIAAL6/g6t2QgAA/AiEq3ZCAAA6UoSrdkIAAHibhKt2QgAAtuSEq3ZCAAD0LYWrdkIAADJ3hat2QgAAcMCFq3ZCAACuCYardkIAAOxShqt2QgAAKpyGq3ZCAABo5YardkIAAKYuh6t2QgAA5HeHq3ZCAAAiwYerdkIAAGAKiKt2QgAAnlOIq3ZCAADcnIirdkIAABrmiKt2QgAAWC+Jq3ZCAACWeImrdkIAANTBiat2QgAAEguKq3ZCAABQVIqrdkIAAI6diqt2QgAAzOaKq3ZCAAAKMIurdkIAAEh5i6t2QgAAhsKLq3ZCAADEC4yrdkIAAAJVjKt2QgAAQJ6Mq3ZCAAB+54yrdkIAALwwjat2QgAA+nmNq3ZCAAA4w42rdkIAAHYMjqt2QgAAtFWOq3ZCAADyno6rdkIAADDojqt2QgAAbjGPq3ZCAACseo+rdkIAAOrDj6t2QgAAKA2Qq3ZCAABmVpCrdkIAAKSfkKt2QgAA4uiQq3ZCAAAgMpGrdkIAAF57kat2QgAAnMSRq3ZCAADaDZKrdkIAABhXkqt2QgAAVqCSq3ZCAACU6ZKrdkIAANIyk6t2QgAAEHyTq3ZCAABOxZOrdkIAAIwOlKt2QgAAyleUq3ZCAAAIoZSrdkIAAEbqlKt2QgAAhDOVq3ZCAADCfJWrdkIAAADGlat2QgAAPg+Wq3ZCAAB8WJardkIAALqhlqt2QgAA+OqWq3ZCAAA2NJerdkIAAHR9l6t2QgAAssaXq3ZCAADwD5irdkIAAC5ZmKt2QgAAbKKYq3ZCAACq65irdkIAAOg0mat2QgAAJn6Zq3ZCAABkx5mrdkIAAKIQmqt2QgAA4Fmaq3ZCAAAeo5qrdkIAAFzsmqt2QgAAmjWbq3ZCAADYfpurdkIAABbIm6t2QgAAVBGcq3ZCAACSWpyrdkIAANCjnKt2QgAADu2cq3ZCAABMNp2rdkIAAIp/nat2QgAAyMidq3ZCAAAGEp6rdkIAAERbnqt2QgAAgqSeq3ZCAADA7Z6rdkIAAP42n6t2QgAAPICfq3ZCAAB6yZ+rdkIAALgSoKt2QgAA9lugq3ZCAAA0paCrdkIAAHLuoKt2QgAAsDehq3ZCAADugKGrdkIAACzKoat2QgAAahOiq3ZCAACoXKKrdkIAAOaloqt2QgAAJO+iq3ZCAABiOKOrdkIAAKCBo6t2QgAA3sqjq3ZCAAAcFKSrdkIAAFpdpKt2QgAAmKakq3ZCAADW76SrdkIAABQ5pat2QgAAUoKlq3ZCAACQy6WrdkIAAM4Upqt2QgAADF6mq3ZCAABKp6ardkIAAIjwpqt2QgAAxjmnq3ZCAAAEg6erdkIAAELMp6t2QgAAgBWoq3ZCAAC+XqirdkIAAPynqKt2QgAAOvGoq3ZCAAB4OqmrdkIAALaDqat2QgAA9Mypq3ZCAAAyFqqrdkIAAHBfqqt2QgAArqiqq3ZCAADs8aqrdkIAACo7q6t2QgAAaISrq3ZCAACmzaurdkIAAOQWrKt2QgAAImCsq3ZCAABgqayrdkIAAJ7yrKt2QgAA3Dutq3ZCAAAaha2rdkIAAFjOrat2QgAAlheuq3ZCAADUYK6rdkIAABKqrqt2QgAAUPOuq3ZCAACOPK+rdkIAAMyFr6t2QgAACs+vq3ZCAABIGLCrdkIAAIZhsKt2QgAAxKqwq3ZCAAAC9LCrdkIAAEA9sat2QgAAfoaxq3ZCAAC8z7GrdkIAAPoYsqt2QgAAOGKyq3ZCAAB2q7KrdkIAALT0sqt2QgAA8j2zq3ZCAAAwh7OrdkIAAG7Qs6t2QgAArBm0q3ZCAADqYrSrdkIAACistKt2QgAAZvW0q3ZCAACkPrWrdkIAAOKHtat2QgAAING1q3ZCAABeGrardkIAAJxjtqt2QgAA2qy2q3ZCAAAY9rardkIAAFY/t6t2QgAAlIi3q3ZCAADS0berdkIAABAbuKt2QgAATmS4q3ZCAACMrbirdkIAAMr2uKt2QgAACEC5q3ZCAABGibmrdkIAAITSuat2QgAAwhu6q3ZCAAAAZbqrdkIAAD6uuqt2QgAAfPe6q3ZCAAC6QLurdkIAAPiJu6t2QgAANtO7q3ZCAAB0HLyrdkIAALJlvKt2QgAA8K68q3ZCAAAu+LyrdkIAAGxBvat2QgAAqoq9q3ZCAADo072rdkIAACYdvqt2QgAAZGa+q3ZCAACir76rdkIAAOD4vqt2QgAAHkK/q3ZCAABci7+rdkIAAJrUv6t2QgAA2B3Aq3ZCAAAWZ8CrdkIAAFSwwKt2QgAAkvnAq3ZCAADQQsGrdkIAAA6Mwat2QgAATNXBq3ZCAACKHsKrdkIAAMhnwqt2QgAABrHCq3ZCAABE+sKrdkIAAIJDw6t2QgAAwIzDq3ZCAAD+1cOrdkIAADwfxKt2QgAAemjEq3ZCAAC4scSrdkIAAPb6xKt2QgAANETFq3ZCAAByjcWrdkIAALDWxat2QgAA7h/Gq3ZCAAAsacardkIAAGqyxqt2QgAAqPvGq3ZCAADmRMerdkIAACSOx6t2QgAAYtfHq3ZCAACgIMirdkIAAN5pyKt2QgAAHLPIq3ZCAABa/MirdkIAAJhFyat2QgAA1o7Jq3ZCAAAU2MmrdkIAAFIhyqt2QgAAkGrKq3ZCAADOs8qrdkIAAAz9yqt2QgAASkbLq3ZCAACIj8urdkIAAMbYy6t2QgAABCLMq3ZCAABCa8yrdkIAAIC0zKt2QgAAvv3Mq3ZCAAD8Rs2rdkIAADqQzat2QgAAeNnNq3ZCAAC2Is6rdkIAAPRrzqt2QgAAMrXOq3ZCAABw/s6rdkIAAK5Hz6t2QgAA7JDPq3ZCAAAq2s+rdkIAAGgj0Kt2QgAApmzQq3ZCAADktdCrdkIAACL/0Kt2QgAAYEjRq3ZCAACekdGrdkIAANza0at2QgAAGiTSq3ZCAABYbdKrdkIAAJa20qt2QgAA1P/Sq3ZCAAASSdOrdkIAAFCS06t2QgAAjtvTq3ZCAADMJNSrdkIAAApu1Kt2QgAASLfUq3ZCAACGANWrdkIAAMRJ1at2QgAAApPVq3ZCAABA3NWrdkIAAH4l1qt2QgAAvG7Wq3ZCAAD6t9ardkIAADgB16t2QgAAdkrXq3ZCAAC0k9erdkIAAPLc16t2QgAAMCbYq3ZCAABub9irdkIAAKy42Kt2QgAA6gHZq3ZCAAAoS9mrdkIAAGaU2at2QgAApN3Zq3ZCAADiJtqrdkIAACBw2qt2QgAAXrnaq3ZCAACcAturdkIAANpL26t2QgAAGJXbq3ZCAABW3turdkIAAJQn3Kt2QgAA0nDcq3ZCAAAQutyrdkIAAE4D3at2QgAAjEzdq3ZCAADKld2rdkIAAAjf3at2QgAARijeq3ZCAACEcd6rdkIAAMK63qt2QgAAAATfq3ZCAAA+Td+rdkIAAHyW36t2QgAAut/fq3ZCAAD4KOCrdkIAADZy4Kt2QgAAdLvgq3ZCAACyBOGrdkIAAPBN4at2QgAALpfhq3ZCAABs4OGrdkIAAKop4qt2QgAA6HLiq3ZCAAAmvOKrdkIAAGQF46t2QgAAok7jq3ZCAADgl+OrdkIAAB7h46t2QgAAXCrkq3ZCAACac+SrdkIAANi85Kt2QgAAFgblq3ZCAABUT+WrdkIAAJKY5at2QgAA0OHlq3ZCAAAOK+ardkIAAEx05qt2QgAAir3mq3ZCAADIBuerdkIAAAZQ56t2QgAARJnnq3ZCAACC4uerdkIAAMAr6Kt2QgAA/nToq3ZCAAA8vuirdkIAAHoH6at2QgAAuFDpq3ZCAAD2memrdkIAADTj6at2QgAAcizqq3ZCAACwdeqrdkIAAO6+6qt2QgAALAjrq3ZCAABqUeurdkIAAKia66t2QgAA5uPrq3ZCAAAkLeyrdkIAAGJ27Kt2QgAAoL/sq3ZCAADeCO2rdkIAABxS7at2QgAAWpvtq3ZCAACY5O2rdkIAANYt7qt2QgAAFHfuq3ZCAABSwO6rdkIAAJAJ76t2QgAAzlLvq3ZCAAAMnO+rdkIAAErl76t2QgAAiC7wq3ZCAADGd/CrdkIAAATB8Kt2QgAAQgrxq3ZCAACAU/GrdkIAAL6c8at2QgAA/OXxq3ZCAAA6L/KrdkIAAHh48qt2QgAAtsHyq3ZCAAD0CvOrdkIAADJU86t2QgAAcJ3zq3ZCAACu5vOrdkIAAOwv9Kt2QgAAKnn0q3ZCAABowvSrdkIAAKYL9at2QgAA5FT1q3ZCAAAinvWrdkIAAGDn9at2QgAAnjD2q3ZCAADcefardkIAABrD9qt2QgAAWAz3q3ZCAACWVferdkIAANSe96t2QgAAEuj3q3ZCAABQMfirdkIAAI56+Kt2QgAAzMP4q3ZCAAAKDfmrdkIAAEhW+at2QgAAhp/5q3ZCAADE6PmrdkIAAAIy+qt2QgAAQHv6q3ZCAAB+xPqrdkIAALwN+6t2QgAA+lb7q3ZCAAA4oPurdkIAAHbp+6t2QgAAtDL8q3ZCAADye/yrdkIAADDF/Kt2QgAAbg79q3ZCAACsV/2rdkIAAOqg/at2QgAAKOr9q3ZCAABmM/6rdkIAAKR8/qt2QgAA4sX+q3ZCAAAgD/+rdkIAAF5Y/6t2QgAAnKH/q3ZCAADa6v+rdkIAABg0AKx2QgAAVn0ArHZCAACUxgCsdkIAANIPAax2QgAAEFkBrHZCAABOogGsdkIAAIzrAax2QgAAyjQCrHZCAAAIfgKsdkIAAEbHAqx2QgAAhBADrHZCAADCWQOsdkIAAACjA6x2QgAAPuwDrHZCAAB8NQSsdkIAALp+BKx2QgAA+McErHZCAAA2EQWsdkIAAHRaBax2QgAAsqMFrHZCAADw7AWsdkIAAC42Bqx2QgAAbH8GrHZCAACqyAasdkIAAOgRB6x2QgAAJlsHrHZCAABkpAesdkIAAKLtB6x2QgAA4DYIrHZCAAAegAisdkIAAFzJCKx2QgAAmhIJrHZCAADYWwmsdkIAABalCax2QgAAVO4JrHZCAACSNwqsdkIAANCACqx2QgAADsoKrHZCAABMEwusdkIAAIpcC6x2QgAAyKULrHZCAAAG7wusdkIAAEQ4DKx2QgAAgoEMrHZCAADAygysdkIAAP4TDax2QgAAPF0NrHZCAAB6pg2sdkIAALjvDax2QgAA9jgOrHZCAAA0gg6sdkIAAHLLDqx2QgAAsBQPrHZCAADuXQ+sdkIAACynD6x2QgAAavAPrHZCAACoORCsdkIAAOaCEKx2QgAAJMwQrHZCAABiFRGsdkIAAKBeEax2QgAA3qcRrHZCAAAc8RGsdkIAAFo6Eqx2QgAAmIMSrHZCAADWzBKsdkIAABQWE6x2QgAAUl8TrHZCAACQqBOsdkIAAM7xE6x2QgAADDsUrHZCAABKhBSsdkIAAIjNFKx2QgAAxhYVrHZCAAAEYBWsdkIAAEKpFax2QgAAgPIVrHZCAAC+OxasdkIAAPyEFqx2QgAAOs4WrHZCAAB4FxesdkIAALZgF6x2QgAA9KkXrHZCAAAy8xesdkIAAHA8GKx2QgAAroUYrHZCAADszhisdkIAACoYGax2QgAAaGEZrHZCAACmqhmsdkIAAOTzGax2QgAAIj0arHZCAABghhqsdkIAAJ7PGqx2QgAA3BgbrHZCAAAaYhusdkIAAFirG6x2QgAAlvQbrHZCAADUPRysdkIAABKHHKx2QgAAUNAcrHZCAACOGR2sdkIAAMxiHax2QgAACqwdrHZCAABI9R2sdkIAAIY+Hqx2QgAAxIcerHZCAAAC0R6sdkIAAEAaH6x2QgAAfmMfrHZCAAC8rB+sdkIAAPr1H6x2QgAAOD8grHZCAAB2iCCsdkIAALTRIKx2QgAA8hohrHZCAAAwZCGsdkIAAG6tIax2QgAArPYhrHZCAADqPyKsdkIAACiJIqx2QgAAZtIirHZCAACkGyOsdkIAAOJkI6x2QgAAIK4jrHZCAABe9yOsdkIAAJxAJKx2QgAA2okkrHZCAAAY0ySsdkIAAFYcJax2QgAAlGUlrHZCAADSriWsdkIAABD4Jax2QgAATkEmrHZCAACMiiasdkIAAMrTJqx2QgAACB0nrHZCAABGZiesdkIAAISvJ6x2QgAAwvgnrHZCAAAAQiisdkIAAD6LKKx2QgAAfNQorHZCAAC6HSmsdkIAAPhmKax2QgAANrAprHZCAAB0+SmsdkIAALJCKqx2QgAA8IsqrHZCAAAu1SqsdkIAAGweK6x2QgAAqmcrrHZCAADosCusdkIAACb6K6x2QgAAZEMsrHZCAACijCysdkIAAODVLKx2QgAAHh8trHZCAABcaC2sdkIAAJqxLax2QgAA2PotrHZCAAAWRC6sdkIAAFSNLqx2QgAAktYurHZCAADQHy+sdkIAAA5pL6x2QgAATLIvrHZCAACK+y+sdkIAAMhEMKx2QgAABo4wrHZCAABE1zCsdkIAAIIgMax2QgAAwGkxrHZCAAD+sjGsdkIAADz8Max2QgAAekUyrHZCAAC4jjKsdkIAAPbXMqx2QgAANCEzrHZCAAByajOsdkIAALCzM6x2QgAA7vwzrHZCAAAsRjSsdkIAAGqPNKx2QgAAqNg0rHZCAADmITWsdkIAACRrNax2QgAAYrQ1rHZCAACg/TWsdkIAAN5GNqx2QgAAHJA2rHZCAABa2TasdkIAAJgiN6x2QgAA1ms3rHZCAAAUtTesdkIAAFL+N6x2QgAAkEc4rHZCAADOkDisdkIAAAzaOKx2QgAASiM5rHZCAACIbDmsdkIAAMa1Oax2QgAABP85rHZCAABCSDqsdkIAAICROqx2QgAAvto6rHZCAAD8IzusdkIAADptO6x2QgAAeLY7rHZCAAC2/zusdkIAAPRIPKx2QgAAMpI8rHZCAABw2zysdkIAAK4kPax2QgAA7G09rHZCAAAqtz2sdkIAAGgAPqx2QgAApkk+rHZCAADkkj6sdkIAACLcPqx2QgAAYCU/rHZCAACebj+sdkIAANy3P6x2QgAAGgFArHZCAABYSkCsdkIAAJaTQKx2QgAA1NxArHZCAAASJkGsdkIAAFBvQax2QgAAjrhBrHZCAADMAUKsdkIAAApLQqx2QgAASJRCrHZCAACG3UKsdkIAAMQmQ6x2QgAAAnBDrHZCAABAuUOsdkIAAH4CRKx2QgAAvEtErHZCAAD6lESsdkIAADjeRKx2QgAAdidFrHZCAAC0cEWsdkIAAPK5Rax2QgAAMANGrHZCAABuTEasdkIAAKyVRqx2QgAA6t5GrHZCAAAoKEesdkIAAGZxR6x2QgAApLpHrHZCAADiA0isdkIAACBNSKx2QgAAXpZIrHZCAACc30isdkIAANooSax2QgAAGHJJrHZCAABWu0msdkIAAJQESqx2QgAA0k1KrHZCAAAQl0qsdkIAAE7gSqx2QgAAjClLrHZCAADKckusdkIAAAi8S6x2QgAARgVMrHZCAACETkysdkIAAMKXTKx2QgAAAOFMrHZCAAA+Kk2sdkIAAHxzTax2QgAAurxNrHZCAAD4BU6sdkIAADZPTqx2QgAAdJhOrHZCAACy4U6sdkIAAPAqT6x2QgAALnRPrHZCAABsvU+sdkIAAKoGUKx2QgAA6E9QrHZCAAAmmVCsdkIAAGTiUKx2QgAAoitRrHZCAADgdFGsdkIAAB6+Uax2QgAAXAdSrHZCAACaUFKsdkIAANiZUqx2QgAAFuNSrHZCAABULFOsdkIAAJJ1U6x2QgAA0L5TrHZCAAAOCFSsdkIAAExRVKx2QgAAippUrHZCAADI41SsdkIAAAYtVax2QgAARHZVrHZCAACCv1WsdkIAAMAIVqx2QgAA/lFWrHZCAAA8m1asdkIAAHrkVqx2QgAAuC1XrHZCAAD2dlesdkIAADTAV6x2QgAAcglYrHZCAACwUlisdkIAAO6bWKx2QgAALOVYrHZCAABqLlmsdkIAAKh3Wax2QgAA5sBZrHZCAAAkClqsdkIAAGJTWqx2QgAAoJxarHZCAADe5VqsdkIAABwvW6x2QgAAWnhbrHZCAACYwVusdkIAANYKXKx2QgAAFFRcrHZCAABSnVysdkIAAJDmXKx2QgAAzi9drHZCAAAMeV2sdkIAAErCXax2QgAAiAterHZCAADGVF6sdkIAAASeXqx2QgAAQuderHZCAACAMF+sdkIAAL55X6x2QgAA/MJfrHZCAAA6DGCsdkIAAHhVYKx2QgAAtp5grHZCAAD052CsdkIAADIxYax2QgAAcHphrHZCAACuw2GsdkIAAOwMYqx2QgAAKlZirHZCAABon2KsdkIAAKboYqx2QgAA5DFjrHZCAAAie2OsdkIAAGDEY6x2QgAAng1krHZCAADcVmSsdkIAABqgZKx2QgAAWOlkrHZCAACWMmWsdkIAANR7Zax2QgAAEsVlrHZCAABQDmasdkIAAI5XZqx2QgAAzKBmrHZCAAAK6masdkIAAEgzZ6x2QgAAhnxnrHZCAADExWesdkIAAAIPaKx2QgAAQFhorHZCAAB+oWisdkIAALzqaKx2QgAA+jNprHZCAAA4fWmsdkIAAHbGaax2QgAAtA9qrHZCAADyWGqsdkIAADCiaqx2QgAAbutqrHZCAACsNGusdkIAAOp9a6x2QgAAKMdrrHZCAABmEGysdkIAAKRZbKx2QgAA4qJsrHZCAAAg7GysdkIAAF41bax2QgAAnH5trHZCAADax22sdkIAABgRbqx2QgAAVlpurHZCAACUo26sdkIAANLsbqx2QgAAEDZvrHZCAABOf2+sdkIAAIzIb6x2QgAAyhFwrHZCAAAIW3CsdkIAAEakcKx2QgAAhO1wrHZCAADCNnGsdkIAAACAcax2QgAAPslxrHZCAAB8EnKsdkIAALpbcqx2QgAA+KRyrHZCAAA27nKsdkIAAHQ3c6x2QgAAsoBzrHZCAADwyXOsdkIAAC4TdKx2QgAAbFx0rHZCAACqpXSsdkIAAOjudKx2QgAAJjh1rHZCAABkgXWsdkIAAKLKdax2QgAA4BN2rHZCAAAeXXasdkIAAFymdqx2QgAAmu92rHZCAADYOHesdkIAABaCd6x2QgAAVMt3rHZCAACSFHisdkIAANBdeKx2QgAADqd4rHZCAABM8HisdkIAAIo5eax2QgAAyIJ5rHZCAAAGzHmsdkIAAEQVeqx2QgAAgl56rHZCAADAp3qsdkIAAP7weqx2QgAAPDp7rHZCAAB6g3usdkIAALjMe6x2QgAA9hV8rHZCAAA0X3ysdkIAAHKofKx2QgAAsPF8rHZCAADuOn2sdkIAACyEfax2QgAAas19rHZCAACoFn6sdkIAAOZffqx2QgAAJKl+rHZCAABi8n6sdkIAAKA7f6x2QgAA3oR/rHZCAAAczn+sdkIAAFoXgKx2QgAAmGCArHZCAADWqYCsdkIAABTzgKx2QgAAUjyBrHZCAACQhYGsdkIAAM7Ogax2QgAADBiCrHZCAABKYYKsdkIAAIiqgqx2QgAAxvOCrHZCAAAEPYOsdkIAAEKGg6x2QgAAgM+DrHZCAAC+GISsdkI=\",\"dtype\":\"float64\",\"shape\":[1153]},\"y\":{\"__ndarray__\":\"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\",\"dtype\":\"float64\",\"shape\":[1153]}},\"selected\":{\"id\":\"6586\",\"type\":\"Selection\"},\"selection_policy\":{\"id\":\"6587\",\"type\":\"UnionRenderers\"}},\"id\":\"6536\",\"type\":\"ColumnDataSource\"},{\"attributes\":{},\"id\":\"6529\",\"type\":\"SaveTool\"},{\"attributes\":{},\"id\":\"6546\",\"type\":\"DatetimeTickFormatter\"},{\"attributes\":{\"overlay\":{\"id\":\"6559\",\"type\":\"BoxAnnotation\"}},\"id\":\"6526\",\"type\":\"BoxZoomTool\"},{\"attributes\":{\"callback\":null},\"id\":\"6509\",\"type\":\"DataRange1d\"},{\"attributes\":{\"dimensions\":\"width\"},\"id\":\"6527\",\"type\":\"WheelZoomTool\"},{\"attributes\":{},\"id\":\"6511\",\"type\":\"LinearScale\"},{\"attributes\":{},\"id\":\"6952\",\"type\":\"Selection\"},{\"attributes\":{},\"id\":\"6587\",\"type\":\"UnionRenderers\"},{\"attributes\":{\"source\":{\"id\":\"6536\",\"type\":\"ColumnDataSource\"}},\"id\":\"6540\",\"type\":\"CDSView\"},{\"attributes\":{},\"id\":\"6513\",\"type\":\"LinearScale\"},{\"attributes\":{},\"id\":\"6586\",\"type\":\"Selection\"},{\"attributes\":{\"active_drag\":\"auto\",\"active_inspect\":\"auto\",\"active_multi\":null,\"active_scroll\":\"auto\",\"active_tap\":\"auto\",\"tools\":[{\"id\":\"6525\",\"type\":\"PanTool\"},{\"id\":\"6526\",\"type\":\"BoxZoomTool\"},{\"id\":\"6527\",\"type\":\"WheelZoomTool\"},{\"id\":\"6528\",\"type\":\"ResetTool\"},{\"id\":\"6529\",\"type\":\"SaveTool\"}]},\"id\":\"6530\",\"type\":\"Toolbar\"},{\"attributes\":{\"line_alpha\":0.1,\"line_color\":\"#1f77b4\",\"line_width\":2,\"x\":{\"field\":\"x\"},\"y\":{\"field\":\"y\"}},\"id\":\"6538\",\"type\":\"Line\"},{\"attributes\":{\"mantissas\":[1,2,5],\"max_interval\":500.0,\"num_minor_ticks\":0},\"id\":\"6547\",\"type\":\"AdaptiveTicker\"},{\"attributes\":{\"dimension\":1,\"ticker\":{\"id\":\"6521\",\"type\":\"BasicTicker\"}},\"id\":\"6524\",\"type\":\"Grid\"},{\"attributes\":{\"callback\":null,\"data\":{\"x\":{\"__ndarray__\":\"AADOs8qrdkIAAAz9yqt2QgAASkbLq3ZCAACIj8urdkIAAMbYy6t2QgAABCLMq3ZCAABCa8yrdkIAAIC0zKt2QgAAvv3Mq3ZCAAD8Rs2rdkIAADqQzat2QgAAeNnNq3ZC\",\"dtype\":\"float64\",\"shape\":[12]},\"y\":{\"__ndarray__\":\"JoYKQol3jUCwQmjI46qNQEEO1x7s2o1AhLoPMZwHjkDZ6opX7jCOQH11IVrdVo5AvctTb2R5jkBia848f5iOQO29adgptI5A51Vmx2DMjkBiBwIAIeGOQEo7Nuhn8o5A\",\"dtype\":\"float64\",\"shape\":[12]}},\"selected\":{\"id\":\"6952\",\"type\":\"Selection\"},\"selection_policy\":{\"id\":\"6953\",\"type\":\"UnionRenderers\"}},\"id\":\"6589\",\"type\":\"ColumnDataSource\"},{\"attributes\":{\"base\":60,\"mantissas\":[1,2,5,10,15,20,30],\"max_interval\":1800000.0,\"min_interval\":1000.0,\"num_minor_ticks\":0},\"id\":\"6548\",\"type\":\"AdaptiveTicker\"},{\"attributes\":{\"days\":[1,2,3,4,5,6,7,8,9,10,11,12,13,14,15,16,17,18,19,20,21,22,23,24,25,26,27,28,29,30,31]},\"id\":\"6550\",\"type\":\"DaysTicker\"},{\"attributes\":{\"base\":24,\"mantissas\":[1,2,4,6,8,12],\"max_interval\":43200000.0,\"min_interval\":3600000.0,\"num_minor_ticks\":0},\"id\":\"6549\",\"type\":\"AdaptiveTicker\"},{\"attributes\":{\"months\":[0,1,2,3,4,5,6,7,8,9,10,11]},\"id\":\"6554\",\"type\":\"MonthsTicker\"},{\"attributes\":{},\"id\":\"6528\",\"type\":\"ResetTool\"},{\"attributes\":{\"months\":[0,2,4,6,8,10]},\"id\":\"6555\",\"type\":\"MonthsTicker\"},{\"attributes\":{\"days\":[1,4,7,10,13,16,19,22,25,28]},\"id\":\"6551\",\"type\":\"DaysTicker\"},{\"attributes\":{\"days\":[1,15]},\"id\":\"6553\",\"type\":\"DaysTicker\"},{\"attributes\":{\"line_color\":\"#ff7f0e\",\"line_width\":2,\"x\":{\"field\":\"x\"},\"y\":{\"field\":\"y\"}},\"id\":\"6590\",\"type\":\"Line\"},{\"attributes\":{\"months\":[0,6]},\"id\":\"6557\",\"type\":\"MonthsTicker\"},{\"attributes\":{},\"id\":\"6953\",\"type\":\"UnionRenderers\"},{\"attributes\":{\"source\":{\"id\":\"6589\",\"type\":\"ColumnDataSource\"}},\"id\":\"6593\",\"type\":\"CDSView\"},{\"attributes\":{\"days\":[1,8,15,22]},\"id\":\"6552\",\"type\":\"DaysTicker\"},{\"attributes\":{\"callback\":null},\"id\":\"6507\",\"type\":\"DataRange1d\"},{\"attributes\":{\"line_alpha\":0.1,\"line_color\":\"#1f77b4\",\"line_width\":2,\"x\":{\"field\":\"x\"},\"y\":{\"field\":\"y\"}},\"id\":\"6591\",\"type\":\"Line\"},{\"attributes\":{},\"id\":\"6558\",\"type\":\"YearsTicker\"},{\"attributes\":{\"label\":{\"value\":\"observed\"},\"renderers\":[{\"id\":\"6539\",\"type\":\"GlyphRenderer\"}]},\"id\":\"6561\",\"type\":\"LegendItem\"},{\"attributes\":{\"label\":{\"value\":\"persistence index\"},\"renderers\":[{\"id\":\"6592\",\"type\":\"GlyphRenderer\"}]},\"id\":\"6617\",\"type\":\"LegendItem\"},{\"attributes\":{\"axis_label\":\"Time (UTC)\",\"formatter\":{\"id\":\"6546\",\"type\":\"DatetimeTickFormatter\"},\"ticker\":{\"id\":\"6516\",\"type\":\"DatetimeTicker\"}},\"id\":\"6515\",\"type\":\"DatetimeAxis\"},{\"attributes\":{\"months\":[0,4,8]},\"id\":\"6556\",\"type\":\"MonthsTicker\"},{\"attributes\":{},\"id\":\"6521\",\"type\":\"BasicTicker\"},{\"attributes\":{\"num_minor_ticks\":5,\"tickers\":[{\"id\":\"6547\",\"type\":\"AdaptiveTicker\"},{\"id\":\"6548\",\"type\":\"AdaptiveTicker\"},{\"id\":\"6549\",\"type\":\"AdaptiveTicker\"},{\"id\":\"6550\",\"type\":\"DaysTicker\"},{\"id\":\"6551\",\"type\":\"DaysTicker\"},{\"id\":\"6552\",\"type\":\"DaysTicker\"},{\"id\":\"6553\",\"type\":\"DaysTicker\"},{\"id\":\"6554\",\"type\":\"MonthsTicker\"},{\"id\":\"6555\",\"type\":\"MonthsTicker\"},{\"id\":\"6556\",\"type\":\"MonthsTicker\"},{\"id\":\"6557\",\"type\":\"MonthsTicker\"},{\"id\":\"6558\",\"type\":\"YearsTicker\"}]},\"id\":\"6516\",\"type\":\"DatetimeTicker\"},{\"attributes\":{\"line_width\":2,\"x\":{\"field\":\"x\"},\"y\":{\"field\":\"y\"}},\"id\":\"6537\",\"type\":\"Line\"},{\"attributes\":{\"line_color\":\"#1f77b4\",\"line_width\":2,\"x\":{\"field\":\"x\"},\"y\":{\"field\":\"y\"}},\"id\":\"6563\",\"type\":\"Line\"},{\"attributes\":{},\"id\":\"6525\",\"type\":\"PanTool\"},{\"attributes\":{\"text\":\"\"},\"id\":\"6541\",\"type\":\"Title\"},{\"attributes\":{\"data_source\":{\"id\":\"6589\",\"type\":\"ColumnDataSource\"},\"glyph\":{\"id\":\"6590\",\"type\":\"Line\"},\"hover_glyph\":null,\"muted_glyph\":null,\"nonselection_glyph\":{\"id\":\"6591\",\"type\":\"Line\"},\"selection_glyph\":null,\"view\":{\"id\":\"6593\",\"type\":\"CDSView\"}},\"id\":\"6592\",\"type\":\"GlyphRenderer\"},{\"attributes\":{\"ticker\":{\"id\":\"6516\",\"type\":\"DatetimeTicker\"}},\"id\":\"6519\",\"type\":\"Grid\"},{\"attributes\":{\"callback\":null,\"data\":{\"x\":{\"__ndarray__\":\"AADOs8qrdkIAAAz9yqt2QgAASkbLq3ZCAACIj8urdkIAAMbYy6t2QgAABCLMq3ZCAABCa8yrdkIAAIC0zKt2QgAAvv3Mq3ZCAAD8Rs2rdkIAADqQzat2QgAAeNnNq3ZC\",\"dtype\":\"float64\",\"shape\":[12]},\"y\":{\"__ndarray__\":\"C0P3v7a4i0ALQ/e/triLQAtD97+2uItAC0P3v7a4i0ALQ/e/triLQAtD97+2uItAC0P3v7a4i0ALQ/e/triLQAtD97+2uItAC0P3v7a4i0ALQ/e/triLQAtD97+2uItA\",\"dtype\":\"float64\",\"shape\":[12]}},\"selected\":{\"id\":\"6615\",\"type\":\"Selection\"},\"selection_policy\":{\"id\":\"6616\",\"type\":\"UnionRenderers\"}},\"id\":\"6562\",\"type\":\"ColumnDataSource\"},{\"attributes\":{\"source\":{\"id\":\"6562\",\"type\":\"ColumnDataSource\"}},\"id\":\"6566\",\"type\":\"CDSView\"},{\"attributes\":{\"data_source\":{\"id\":\"6562\",\"type\":\"ColumnDataSource\"},\"glyph\":{\"id\":\"6563\",\"type\":\"Line\"},\"hover_glyph\":null,\"muted_glyph\":null,\"nonselection_glyph\":{\"id\":\"6564\",\"type\":\"Line\"},\"selection_glyph\":null,\"view\":{\"id\":\"6566\",\"type\":\"CDSView\"}},\"id\":\"6565\",\"type\":\"GlyphRenderer\"},{\"attributes\":{\"line_alpha\":0.1,\"line_color\":\"#1f77b4\",\"line_width\":2,\"x\":{\"field\":\"x\"},\"y\":{\"field\":\"y\"}},\"id\":\"6564\",\"type\":\"Line\"},{\"attributes\":{},\"id\":\"6616\",\"type\":\"UnionRenderers\"},{\"attributes\":{\"label\":{\"value\":\"persistence\"},\"renderers\":[{\"id\":\"6565\",\"type\":\"GlyphRenderer\"}]},\"id\":\"6588\",\"type\":\"LegendItem\"},{\"attributes\":{\"bottom_units\":\"screen\",\"fill_alpha\":{\"value\":0.5},\"fill_color\":{\"value\":\"lightgrey\"},\"left_units\":\"screen\",\"level\":\"overlay\",\"line_alpha\":{\"value\":1.0},\"line_color\":{\"value\":\"black\"},\"line_dash\":[4,4],\"line_width\":{\"value\":2},\"render_mode\":\"css\",\"right_units\":\"screen\",\"top_units\":\"screen\"},\"id\":\"6559\",\"type\":\"BoxAnnotation\"},{\"attributes\":{\"items\":[{\"id\":\"6561\",\"type\":\"LegendItem\"},{\"id\":\"6588\",\"type\":\"LegendItem\"},{\"id\":\"6617\",\"type\":\"LegendItem\"}],\"location\":\"top_left\"},\"id\":\"6560\",\"type\":\"Legend\"},{\"attributes\":{},\"id\":\"6615\",\"type\":\"Selection\"},{\"attributes\":{},\"id\":\"6544\",\"type\":\"BasicTickFormatter\"},{\"attributes\":{\"data_source\":{\"id\":\"6536\",\"type\":\"ColumnDataSource\"},\"glyph\":{\"id\":\"6537\",\"type\":\"Line\"},\"hover_glyph\":null,\"muted_glyph\":null,\"nonselection_glyph\":{\"id\":\"6538\",\"type\":\"Line\"},\"selection_glyph\":null,\"view\":{\"id\":\"6540\",\"type\":\"CDSView\"}},\"id\":\"6539\",\"type\":\"GlyphRenderer\"},{\"attributes\":{\"axis_label\":\"Irradiance (W/m^2)\",\"formatter\":{\"id\":\"6544\",\"type\":\"BasicTickFormatter\"},\"ticker\":{\"id\":\"6521\",\"type\":\"BasicTicker\"}},\"id\":\"6520\",\"type\":\"LinearAxis\"}],\"root_ids\":[\"6506\"]},\"title\":\"Bokeh Application\",\"version\":\"1.4.0\"}};\n",
       "  var render_items = [{\"docid\":\"be9ca815-8510-4969-a307-1596dec622f7\",\"roots\":{\"6506\":\"720d38da-75fb-4b13-8a99-2975ef8c7aac\"}}];\n",
       "  root.Bokeh.embed.embed_items_notebook(docs_json, render_items);\n",
       "\n",
       "  }\n",
       "  if (root.Bokeh !== undefined) {\n",
       "    embed_document(root);\n",
       "  } else {\n",
       "    var attempts = 0;\n",
       "    var timer = setInterval(function(root) {\n",
       "      if (root.Bokeh !== undefined) {\n",
       "        clearInterval(timer);\n",
       "        embed_document(root);\n",
       "      } else {\n",
       "        attempts++;\n",
       "        if (attempts > 100) {\n",
       "          clearInterval(timer);\n",
       "          console.log(\"Bokeh: ERROR: Unable to run BokehJS code because BokehJS library is missing\");\n",
       "        }\n",
       "      }\n",
       "    }, 10, root)\n",
       "  }\n",
       "})(window);"
      ],
      "application/vnd.bokehjs_exec.v0+json": ""
     },
     "metadata": {
      "application/vnd.bokehjs_exec.v0+json": {
       "id": "6506"
      }
     },
     "output_type": "display_data"
    }
   ],
   "source": [
    "# persistence forecasts with scalar index\n",
    "# observation.interval_label = 'ending', \n",
    "# so data ranges are exclusive of start and inclusive of end\n",
    "data_start = pd.Timestamp('20190515 1700Z')\n",
    "data_end = pd.Timestamp('20190515 1800Z')\n",
    "forecast_start = pd.Timestamp('20190515 1800Z')\n",
    "forecast_end = pd.Timestamp('20190515 1900Z')\n",
    "interval_length = pd.Timedelta('5min')\n",
    "interval_label = 'ending'\n",
    "\n",
    "fx_per = persistence.persistence_scalar(\n",
    "    observation, data_start, data_end, forecast_start,\n",
    "    forecast_end, interval_length, interval_label, load_data=load_data)\n",
    "fx_per_idx = persistence.persistence_scalar_index(\n",
    "    observation, data_start, data_end, forecast_start,\n",
    "    forecast_end, interval_length, interval_label, load_data=load_data)\n",
    "\n",
    "resampled_data = oasis_ghi_values.resample(interval_length, label='right').mean()\n",
    "fig = plot_persistence(resampled_data, fx_per, fx_per_idx)\n",
    "show(fig)"
   ]
  },
  {
   "cell_type": "markdown",
   "metadata": {},
   "source": [
    "And finally day ahead persistence."
   ]
  },
  {
   "cell_type": "code",
   "execution_count": 37,
   "metadata": {},
   "outputs": [
    {
     "data": {
      "text/html": [
       "\n",
       "\n",
       "\n",
       "\n",
       "\n",
       "\n",
       "  <div class=\"bk-root\" id=\"beb78172-a0f1-4cdf-a64b-43d92f2c5b86\" data-root-id=\"7104\"></div>\n"
      ]
     },
     "metadata": {},
     "output_type": "display_data"
    },
    {
     "data": {
      "application/javascript": [
       "(function(root) {\n",
       "  function embed_document(root) {\n",
       "    \n",
       "  var docs_json = {\"f0950fcc-1f53-44d5-a465-08f081791189\":{\"roots\":{\"references\":[{\"attributes\":{\"below\":[{\"id\":\"7113\",\"type\":\"DatetimeAxis\"}],\"center\":[{\"id\":\"7117\",\"type\":\"Grid\"},{\"id\":\"7122\",\"type\":\"Grid\"},{\"id\":\"7158\",\"type\":\"Legend\"}],\"left\":[{\"id\":\"7118\",\"type\":\"LinearAxis\"}],\"plot_height\":250,\"plot_width\":800,\"renderers\":[{\"id\":\"7137\",\"type\":\"GlyphRenderer\"},{\"id\":\"7163\",\"type\":\"GlyphRenderer\"}],\"title\":{\"id\":\"7139\",\"type\":\"Title\"},\"toolbar\":{\"id\":\"7128\",\"type\":\"Toolbar\"},\"x_range\":{\"id\":\"7105\",\"type\":\"DataRange1d\"},\"x_scale\":{\"id\":\"7109\",\"type\":\"LinearScale\"},\"y_range\":{\"id\":\"7107\",\"type\":\"DataRange1d\"},\"y_scale\":{\"id\":\"7111\",\"type\":\"LinearScale\"}},\"id\":\"7104\",\"subtype\":\"Figure\",\"type\":\"Plot\"},{\"attributes\":{},\"id\":\"7142\",\"type\":\"BasicTickFormatter\"},{\"attributes\":{},\"id\":\"7119\",\"type\":\"BasicTicker\"},{\"attributes\":{\"dimension\":1,\"ticker\":{\"id\":\"7119\",\"type\":\"BasicTicker\"}},\"id\":\"7122\",\"type\":\"Grid\"},{\"attributes\":{},\"id\":\"7144\",\"type\":\"DatetimeTickFormatter\"},{\"attributes\":{},\"id\":\"7123\",\"type\":\"PanTool\"},{\"attributes\":{\"callback\":null,\"data\":{\"x\":{\"__ndarray__\":\"AABopz2rdkIAAFAWQat2QgAAOIVEq3ZCAAAg9EerdkIAAAhjS6t2QgAA8NFOq3ZCAADYQFKrdkIAAMCvVat2QgAAqB5Zq3ZCAACQjVyrdkIAAHj8X6t2QgAAYGtjq3ZCAABI2mardkIAADBJaqt2QgAAGLhtq3ZCAAAAJ3GrdkIAAOiVdKt2QgAA0AR4q3ZCAAC4c3urdkIAAKDifqt2QgAAiFGCq3ZCAABwwIWrdkIAAFgviat2QgAAQJ6Mq3ZCAAAoDZCrdkIAABB8k6t2QgAA+OqWq3ZCAADgWZqrdkIAAMjInat2QgAAsDehq3ZCAACYpqSrdkIAAIAVqKt2QgAAaISrq3ZCAABQ866rdkIAADhisqt2QgAAING1q3ZCAAAIQLmrdkIAAPCuvKt2QgAA2B3Aq3ZCAADAjMOrdkIAAKj7xqt2QgAAkGrKq3ZCAAB42c2rdkIAAGBI0at2QgAASLfUq3ZCAAAwJtirdkIAABiV26t2QgAAAATfq3ZCAADocuKrdkIAANDh5at2QgAAuFDpq3ZCAACgv+yrdkIAAIgu8Kt2QgAAcJ3zq3ZCAABYDPerdkIAAEB7+qt2QgAAKOr9q3ZCAAAQWQGsdkIAAPjHBKx2QgAA4DYIrHZCAADIpQusdkIAALAUD6x2QgAAmIMSrHZCAACA8hWsdkIAAGhhGax2QgAAUNAcrHZCAAA4PyCsdkIAACCuI6x2QgAACB0nrHZCAADwiyqsdkIAANj6Lax2QgAAwGkxrHZCAACo2DSsdkIAAJBHOKx2QgAAeLY7rHZCAABgJT+sdkIAAEiUQqx2QgAAMANGrHZCAAAYckmsdkIAAADhTKx2QgAA6E9QrHZCAADQvlOsdkIAALgtV6x2QgAAoJxarHZCAACIC16sdkIAAHB6Yax2QgAAWOlkrHZCAABAWGisdkIAACjHa6x2QgAAEDZvrHZCAAD4pHKsdkIAAOATdqx2QgAAyIJ5rHZCAACw8XysdkIAAJhggKx2QgAAgM+DrHZCAABoPoesdkI=\",\"dtype\":\"float64\",\"shape\":[97]},\"y\":{\"__ndarray__\":\"MXctIZ/5ckCRNo5Yiw5YQKeH62Lkdsi/vggaM4m6CcCrvuDA0RsJwLXDOf2z6QfALEocjOvCCMBx4tGzRhoIwPsRczYKhgbAl16uWNbwBcCucwzIXu8FwLVHlU4R7QXAO0nNMTPMKkC7rRpxbjZkQDEqqRNQ0HdA8mxWfS6bgkB1/2tTD3KIQFmJZotR1YxAzF1LyAcmj0DDqKRO4JSQQLPkF0s+OI5A+VPjpVttiECLrbM0SgKHQDwAqU3cRn1AtDUPTQYCc0BHpIDHyntYQIUBk5yUauO/wb1YBVeGDMDTnM+TRQQKwNOeknNi3wjABxbAlIHTCMAgGBpizwEJwErR3YgBxQjAirLw9bWuB8DZ4XZoWEwHwB7lcwFC/gXA955JGlvbK0BG6b/045ZkQOLHmLsWFHhA6dms+lzDgkB//mglGpWIQGXxiPdJ0YtA/cvuyUMbj0ABJSusAWWPQL3ERdte9Y5AxWSqYJQwikBz/2tTT3GEQFeGONbFVH5Ay8ZwYjWsbUCeLKITL89TQFWIxpLxF/S/56dL2fxSDMAsg0TtkQALwLZN8bioJgvA3ReqdfV9CcBJ2fzStUkKwOkBP70soAjArd674ObHB8ClXt2eDaYHwFz6l6QyZQXAXAYuIbFUOkDDjUgBj6tbQM6LAJSs12RAvzb1lC/dd0AU+8vuyXV1QPlT46XbtYdAx05lPq0YkEC4rNUxAZyQQAEoWWENAY9ApVfKMoTUi0CAJsKGJ/eGQHRGlPZGlYBAT4c7BHuOckBgTA1HaiRVQDL8XY4NY/E/fWEMv67ZCsDJdr6fGl8LwDdWT9NUDAvAD6PnFroiCsAn5HDTjEIIwMW9Mm/VRQfAIO9CYNI1BsDSbcK9Mu8FwJk0DYrmAQbAJ7CB9QD0I0DNlxdgH8BkQJ+iI7l8fHhAsOHplTKlgUCqYFRSp+qAQEDo2aw6lIpAYjixmgHrjEDxYJ6of1mQQDm39itK4I5AJHLU5HzSi0BNzmOnci+HQDnWxW00CoFAHVpkO98ve0A=\",\"dtype\":\"float64\",\"shape\":[97]}},\"selected\":{\"id\":\"7184\",\"type\":\"Selection\"},\"selection_policy\":{\"id\":\"7185\",\"type\":\"UnionRenderers\"}},\"id\":\"7134\",\"type\":\"ColumnDataSource\"},{\"attributes\":{},\"id\":\"7126\",\"type\":\"ResetTool\"},{\"attributes\":{},\"id\":\"7185\",\"type\":\"UnionRenderers\"},{\"attributes\":{\"overlay\":{\"id\":\"7157\",\"type\":\"BoxAnnotation\"}},\"id\":\"7124\",\"type\":\"BoxZoomTool\"},{\"attributes\":{\"source\":{\"id\":\"7134\",\"type\":\"ColumnDataSource\"}},\"id\":\"7138\",\"type\":\"CDSView\"},{\"attributes\":{},\"id\":\"7184\",\"type\":\"Selection\"},{\"attributes\":{\"dimensions\":\"width\"},\"id\":\"7125\",\"type\":\"WheelZoomTool\"},{\"attributes\":{\"active_drag\":\"auto\",\"active_inspect\":\"auto\",\"active_multi\":null,\"active_scroll\":\"auto\",\"active_tap\":\"auto\",\"tools\":[{\"id\":\"7123\",\"type\":\"PanTool\"},{\"id\":\"7124\",\"type\":\"BoxZoomTool\"},{\"id\":\"7125\",\"type\":\"WheelZoomTool\"},{\"id\":\"7126\",\"type\":\"ResetTool\"},{\"id\":\"7127\",\"type\":\"SaveTool\"}]},\"id\":\"7128\",\"type\":\"Toolbar\"},{\"attributes\":{},\"id\":\"7127\",\"type\":\"SaveTool\"},{\"attributes\":{\"mantissas\":[1,2,5],\"max_interval\":500.0,\"num_minor_ticks\":0},\"id\":\"7145\",\"type\":\"AdaptiveTicker\"},{\"attributes\":{\"data_source\":{\"id\":\"7134\",\"type\":\"ColumnDataSource\"},\"glyph\":{\"id\":\"7135\",\"type\":\"Line\"},\"hover_glyph\":null,\"muted_glyph\":null,\"nonselection_glyph\":{\"id\":\"7136\",\"type\":\"Line\"},\"selection_glyph\":null,\"view\":{\"id\":\"7138\",\"type\":\"CDSView\"}},\"id\":\"7137\",\"type\":\"GlyphRenderer\"},{\"attributes\":{\"base\":60,\"mantissas\":[1,2,5,10,15,20,30],\"max_interval\":1800000.0,\"min_interval\":1000.0,\"num_minor_ticks\":0},\"id\":\"7146\",\"type\":\"AdaptiveTicker\"},{\"attributes\":{\"days\":[1,2,3,4,5,6,7,8,9,10,11,12,13,14,15,16,17,18,19,20,21,22,23,24,25,26,27,28,29,30,31]},\"id\":\"7148\",\"type\":\"DaysTicker\"},{\"attributes\":{\"base\":24,\"mantissas\":[1,2,4,6,8,12],\"max_interval\":43200000.0,\"min_interval\":3600000.0,\"num_minor_ticks\":0},\"id\":\"7147\",\"type\":\"AdaptiveTicker\"},{\"attributes\":{\"line_width\":2,\"x\":{\"field\":\"x\"},\"y\":{\"field\":\"y\"}},\"id\":\"7135\",\"type\":\"Line\"},{\"attributes\":{\"months\":[0,1,2,3,4,5,6,7,8,9,10,11]},\"id\":\"7152\",\"type\":\"MonthsTicker\"},{\"attributes\":{\"axis_label\":\"Irradiance (W/m^2)\",\"formatter\":{\"id\":\"7142\",\"type\":\"BasicTickFormatter\"},\"ticker\":{\"id\":\"7119\",\"type\":\"BasicTicker\"}},\"id\":\"7118\",\"type\":\"LinearAxis\"},{\"attributes\":{\"line_alpha\":0.1,\"line_color\":\"#1f77b4\",\"line_width\":2,\"x\":{\"field\":\"x\"},\"y\":{\"field\":\"y\"}},\"id\":\"7136\",\"type\":\"Line\"},{\"attributes\":{\"months\":[0,2,4,6,8,10]},\"id\":\"7153\",\"type\":\"MonthsTicker\"},{\"attributes\":{\"text\":\"\"},\"id\":\"7139\",\"type\":\"Title\"},{\"attributes\":{\"days\":[1,4,7,10,13,16,19,22,25,28]},\"id\":\"7149\",\"type\":\"DaysTicker\"},{\"attributes\":{\"ticker\":{\"id\":\"7114\",\"type\":\"DatetimeTicker\"}},\"id\":\"7117\",\"type\":\"Grid\"},{\"attributes\":{\"label\":{\"value\":\"observed\"},\"renderers\":[{\"id\":\"7137\",\"type\":\"GlyphRenderer\"}]},\"id\":\"7159\",\"type\":\"LegendItem\"},{\"attributes\":{\"days\":[1,15]},\"id\":\"7151\",\"type\":\"DaysTicker\"},{\"attributes\":{\"items\":[{\"id\":\"7159\",\"type\":\"LegendItem\"},{\"id\":\"7186\",\"type\":\"LegendItem\"}],\"location\":\"top_left\"},\"id\":\"7158\",\"type\":\"Legend\"},{\"attributes\":{\"months\":[0,6]},\"id\":\"7155\",\"type\":\"MonthsTicker\"},{\"attributes\":{},\"id\":\"7111\",\"type\":\"LinearScale\"},{\"attributes\":{\"days\":[1,8,15,22]},\"id\":\"7150\",\"type\":\"DaysTicker\"},{\"attributes\":{},\"id\":\"7156\",\"type\":\"YearsTicker\"},{\"attributes\":{},\"id\":\"7109\",\"type\":\"LinearScale\"},{\"attributes\":{\"callback\":null},\"id\":\"7105\",\"type\":\"DataRange1d\"},{\"attributes\":{\"months\":[0,4,8]},\"id\":\"7154\",\"type\":\"MonthsTicker\"},{\"attributes\":{\"line_color\":\"#1f77b4\",\"line_width\":2,\"x\":{\"field\":\"x\"},\"y\":{\"field\":\"y\"}},\"id\":\"7161\",\"type\":\"Line\"},{\"attributes\":{\"axis_label\":\"Time (UTC)\",\"formatter\":{\"id\":\"7144\",\"type\":\"DatetimeTickFormatter\"},\"ticker\":{\"id\":\"7114\",\"type\":\"DatetimeTicker\"}},\"id\":\"7113\",\"type\":\"DatetimeAxis\"},{\"attributes\":{},\"id\":\"7545\",\"type\":\"UnionRenderers\"},{\"attributes\":{\"num_minor_ticks\":5,\"tickers\":[{\"id\":\"7145\",\"type\":\"AdaptiveTicker\"},{\"id\":\"7146\",\"type\":\"AdaptiveTicker\"},{\"id\":\"7147\",\"type\":\"AdaptiveTicker\"},{\"id\":\"7148\",\"type\":\"DaysTicker\"},{\"id\":\"7149\",\"type\":\"DaysTicker\"},{\"id\":\"7150\",\"type\":\"DaysTicker\"},{\"id\":\"7151\",\"type\":\"DaysTicker\"},{\"id\":\"7152\",\"type\":\"MonthsTicker\"},{\"id\":\"7153\",\"type\":\"MonthsTicker\"},{\"id\":\"7154\",\"type\":\"MonthsTicker\"},{\"id\":\"7155\",\"type\":\"MonthsTicker\"},{\"id\":\"7156\",\"type\":\"YearsTicker\"}]},\"id\":\"7114\",\"type\":\"DatetimeTicker\"},{\"attributes\":{\"callback\":null,\"data\":{\"x\":{\"__ndarray__\":\"AABYDPerdkIAAEB7+qt2QgAAKOr9q3ZCAAAQWQGsdkIAAPjHBKx2QgAA4DYIrHZCAADIpQusdkIAALAUD6x2QgAAmIMSrHZCAACA8hWsdkIAAGhhGax2QgAAUNAcrHZCAAA4PyCsdkIAACCuI6x2QgAACB0nrHZCAADwiyqsdkIAANj6Lax2QgAAwGkxrHZCAACo2DSsdkIAAJBHOKx2QgAAeLY7rHZCAABgJT+sdkIAAEiUQqx2QgAAMANGrHZC\",\"dtype\":\"float64\",\"shape\":[24]},\"y\":{\"__ndarray__\":\"KkVRjYTTCMCZCC5pnwEJwAwAaKf5vQjAuT7Szeu1B8B9s26WpUAHwJHLpd5A/gXAI0hKH18jLkDOVksnfwZlQKxjggdzT3hAsCgSOaregkB/khXWoKuIQAxD97+2uItAe6L+jdA5j0BBDQVZvHSPQGGnMp/G7Y5AgImLtv3/iUDLpHNrf22EQH/fmeNvGn5AA2iBY7wdbUCj5wPv0XNTQCnbGTgycfi/+xbWjXdHDMC+tJWEMf8KwI8ONfd9JQvA\",\"dtype\":\"float64\",\"shape\":[24]}},\"selected\":{\"id\":\"7544\",\"type\":\"Selection\"},\"selection_policy\":{\"id\":\"7545\",\"type\":\"UnionRenderers\"}},\"id\":\"7160\",\"type\":\"ColumnDataSource\"},{\"attributes\":{\"source\":{\"id\":\"7160\",\"type\":\"ColumnDataSource\"}},\"id\":\"7164\",\"type\":\"CDSView\"},{\"attributes\":{\"data_source\":{\"id\":\"7160\",\"type\":\"ColumnDataSource\"},\"glyph\":{\"id\":\"7161\",\"type\":\"Line\"},\"hover_glyph\":null,\"muted_glyph\":null,\"nonselection_glyph\":{\"id\":\"7162\",\"type\":\"Line\"},\"selection_glyph\":null,\"view\":{\"id\":\"7164\",\"type\":\"CDSView\"}},\"id\":\"7163\",\"type\":\"GlyphRenderer\"},{\"attributes\":{\"line_alpha\":0.1,\"line_color\":\"#1f77b4\",\"line_width\":2,\"x\":{\"field\":\"x\"},\"y\":{\"field\":\"y\"}},\"id\":\"7162\",\"type\":\"Line\"},{\"attributes\":{\"callback\":null},\"id\":\"7107\",\"type\":\"DataRange1d\"},{\"attributes\":{},\"id\":\"7544\",\"type\":\"Selection\"},{\"attributes\":{\"label\":{\"value\":\"persistence\"},\"renderers\":[{\"id\":\"7163\",\"type\":\"GlyphRenderer\"}]},\"id\":\"7186\",\"type\":\"LegendItem\"},{\"attributes\":{\"bottom_units\":\"screen\",\"fill_alpha\":{\"value\":0.5},\"fill_color\":{\"value\":\"lightgrey\"},\"left_units\":\"screen\",\"level\":\"overlay\",\"line_alpha\":{\"value\":1.0},\"line_color\":{\"value\":\"black\"},\"line_dash\":[4,4],\"line_width\":{\"value\":2},\"render_mode\":\"css\",\"right_units\":\"screen\",\"top_units\":\"screen\"},\"id\":\"7157\",\"type\":\"BoxAnnotation\"}],\"root_ids\":[\"7104\"]},\"title\":\"Bokeh Application\",\"version\":\"1.4.0\"}};\n",
       "  var render_items = [{\"docid\":\"f0950fcc-1f53-44d5-a465-08f081791189\",\"roots\":{\"7104\":\"beb78172-a0f1-4cdf-a64b-43d92f2c5b86\"}}];\n",
       "  root.Bokeh.embed.embed_items_notebook(docs_json, render_items);\n",
       "\n",
       "  }\n",
       "  if (root.Bokeh !== undefined) {\n",
       "    embed_document(root);\n",
       "  } else {\n",
       "    var attempts = 0;\n",
       "    var timer = setInterval(function(root) {\n",
       "      if (root.Bokeh !== undefined) {\n",
       "        clearInterval(timer);\n",
       "        embed_document(root);\n",
       "      } else {\n",
       "        attempts++;\n",
       "        if (attempts > 100) {\n",
       "          clearInterval(timer);\n",
       "          console.log(\"Bokeh: ERROR: Unable to run BokehJS code because BokehJS library is missing\");\n",
       "        }\n",
       "      }\n",
       "    }, 10, root)\n",
       "  }\n",
       "})(window);"
      ],
      "application/vnd.bokehjs_exec.v0+json": ""
     },
     "metadata": {
      "application/vnd.bokehjs_exec.v0+json": {
       "id": "7104"
      }
     },
     "output_type": "display_data"
    }
   ],
   "source": [
    "# persistence forecasts with scalar index\n",
    "# observation.interval_label = 'ending', \n",
    "# so data ranges are exclusive of start and inclusive of end\n",
    "data_start = pd.Timestamp('20190515 0600Z')\n",
    "data_end = pd.Timestamp('20190516 0600Z')\n",
    "forecast_start = pd.Timestamp('20190516 0600Z')\n",
    "interval_length = pd.Timedelta('1hr')\n",
    "interval_label = 'ending'\n",
    "\n",
    "fx_per_interval = persistence.persistence_interval(\n",
    "    observation, data_start, data_end, forecast_start,\n",
    "    interval_length, interval_label, load_data=load_data)\n",
    "\n",
    "resampled_data = oasis_ghi_values.resample(interval_length, label='right').mean()\n",
    "fig = plot_persistence(resampled_data, fx_per_interval)\n",
    "show(fig)"
   ]
  },
  {
   "cell_type": "code",
   "execution_count": null,
   "metadata": {},
   "outputs": [],
   "source": []
  }
 ],
 "metadata": {
  "kernelspec": {
   "display_name": "Python 3",
   "language": "python",
   "name": "python3"
  },
  "language_info": {
   "codemirror_mode": {
    "name": "ipython",
    "version": 3
   },
   "file_extension": ".py",
   "mimetype": "text/x-python",
   "name": "python",
   "nbconvert_exporter": "python",
   "pygments_lexer": "ipython3",
   "version": "3.8.5"
  }
 },
 "nbformat": 4,
 "nbformat_minor": 2
}
